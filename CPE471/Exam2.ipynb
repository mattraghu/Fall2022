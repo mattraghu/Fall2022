{
 "cells": [
  {
   "cell_type": "code",
   "execution_count": 17,
   "metadata": {},
   "outputs": [],
   "source": [
    "from sympy import *\n",
    "import matplotlib.pyplot as plt\n"
   ]
  },
  {
   "cell_type": "code",
   "execution_count": 20,
   "metadata": {},
   "outputs": [],
   "source": [
    "#Some important equations\n",
    "\n",
    "#Symbols\n",
    "V_bi = Symbol('V_bi')\n",
    "k = Symbol('k')\n",
    "T = Symbol('T')\n",
    "N_a = Symbol('N_a')\n",
    "N_d = Symbol('N_d')\n",
    "N_i = Symbol('N_i')\n",
    "\n",
    "VBiEq = Eq(V_bi, k*T*ln(N_a*N_d/(N_i**2)))\n",
    "\n",
    "#Symbols\n",
    "e_s = Symbol('e_s')\n",
    "q_e = Symbol('q_e')\n",
    "W = Symbol('W')\n",
    "V_R = Symbol('V_R')\n",
    "\n",
    "WEq = Eq(W,( 2*e_s*(V_bi+V_R)/q_e*(N_a+N_d)/(N_a*N_d))**.5 )\n",
    "\n",
    "\n",
    "E_max = Symbol('E_max')\n",
    "maxEEq = Eq(E_max, 2*(V_bi+V_R)/W)\n",
    "\n",
    "\n",
    "maxEEq2 = Eq(E_max, 2*(V_bi+V_R)/( ( 2*e_s*(V_bi+V_R)/q_e*(N_a+N_d)/(N_a*N_d))**.5 ))\n",
    "\n",
    "\n",
    "#Symbols\n",
    "C = Symbol('C')\n",
    "A = Symbol('A')\n",
    "\n",
    "capEq = Eq(C, e_s*A/W)\n",
    "\n",
    "#Symbols\n",
    "V_B = Symbol('V_B')\n",
    "E_crit = Symbol('E_crit')\n",
    "N_B = Symbol('N_B')\n",
    "\n",
    "vBreakEq = Eq(V_B,e_s*E_crit**2/(q_e*N_B))\n",
    "\n",
    "x_n = Symbol('x_n')\n",
    "xnEq = Eq(x_n, (2*e_s*V_bi/q_e*(N_a/N_d)*(1/(N_a+N_d)))**.5)\n",
    "\n",
    "x_p = Symbol('x_p')\n",
    "xpEq = Eq(x_p, (2*e_s*V_bi/q_e*(N_d/N_a)*(1/(N_a+N_d)))**.5)"
   ]
  },
  {
   "cell_type": "code",
   "execution_count": 27,
   "metadata": {},
   "outputs": [
    {
     "data": {
      "image/png": "[encoded data removed]",
      "text/plain": [
       "<Figure size 640x480 with 1 Axes>"
      ]
     },
     "metadata": {},
     "output_type": "display_data"
    },
    {
     "name": "stdout",
     "output_type": "stream",
     "text": [
      "W =  [8.69273732904639e-5, 9.52241664317184e-5, 0.000102853855144333, 0.000109955396245421, 0.000116625309469786, 0.000122933870248843]\n",
      "xn =  [8.60667062281821e-5, 9.42813529026915e-5, 0.000101835500142904, 0.000108866728955862, 0.000115470603435432, 0.000121716703216676]\n",
      "xp =  [8.60667062281821e-7, 9.42813529026915e-7, 1.01835500142904e-6, 1.08866728955862e-6, 1.15470603435432e-6, 1.21716703216676e-6]\n",
      "E_max =  [13293.2075671136, 14561.9792922129, 15728.7353080695, 16814.7253285858, 17834.7094554483, 18799.4344288526]\n"
     ]
    }
   ],
   "source": [
    "#Question 1\n",
    "#For an ideal silicon p-n junction with Na=10^17 and Nd=10^15 Calculate Vbi at 250, 300, 350, 400, 450 and 500 K and plot Vbi vs. T Find the depletion layer width W, xn and xp Find the maximum E field at zero bias\n",
    "\n",
    "#a\n",
    "\n",
    "#Constants and Givens\n",
    "k = 8.617E-5 #Boltzmann constant\n",
    "N_i = 1.5E10 #Intrinsic carrier concentration\n",
    "\n",
    "N_a = 10**17 #Concentration of acceptors\n",
    "N_d = 10**15 #Concentration of donors\n",
    "\n",
    "T = [250, 300, 350, 400, 450, 500] #Temperature in Kelvin\n",
    "V_bi = [] #List of Vbi values\n",
    "\n",
    "for i in range(len(T)):\n",
    "    subbed = VBiEq.subs([(\"k\",k),(\"T\",T[i]),(\"N_a\",N_a),(\"N_d\",N_d),(\"N_i\",N_i)]) #Substitute values into equation\n",
    "    T_i = solve(subbed,\"V_bi\") #Solve for Vbi\n",
    "    V_bi.append(T_i[0]) #Append Vbi to list\n",
    "\n",
    "#Graph\n",
    "plt.plot(T,V_bi) #Plot Vbi vs. T\n",
    "plt.xlabel(\"Temperature (K)\") #Label x-axis\n",
    "plt.ylabel(\"Vbi (V)\") #Label y-axis\n",
    "plt.title(\"Vbi vs. Temperature\") #Title\n",
    "plt.show() #Show graph\n",
    "\n",
    "#b\n",
    "#Constants and Givens\n",
    "e_s = 11.7*8.854E-14 #Relative permittivity of silicon in F/cm\n",
    "q_e = 1.6E-19 #Electron charge\n",
    "\n",
    "V_R = 0\n",
    "\n",
    "W = [] #List of W values\n",
    "xn = [] #List of xn values\n",
    "xp = [] #List of xp values\n",
    "E_max = [] #List of E_max values\n",
    "\n",
    "for i in range(len(V_bi)): \n",
    "    subbed = WEq.subs([(\"e_s\",e_s),(\"V_bi\",V_bi[i]),(\"q_e\",q_e),(\"N_a\",N_a),(\"N_d\",N_d),(\"V_R\",V_R)]) #Substitute values into equation\n",
    "    T_i = solve(subbed,\"W\") #Solve for W\n",
    "    W.append(T_i[0]) #Append W to list\n",
    "\n",
    "    subbed = xnEq.subs([(\"e_s\",e_s),(\"V_bi\",V_bi[i]),(\"q_e\",q_e),(\"N_a\",N_a),(\"N_d\",N_d)]) #Substitute values into equation\n",
    "    T_i = solve(subbed,\"x_n\") #Solve for xn\n",
    "    xn.append(T_i[0]) #Append xn to list\n",
    "\n",
    "    subbed = xpEq.subs([(\"e_s\",e_s),(\"V_bi\",V_bi[i]),(\"q_e\",q_e),(\"N_a\",N_a),(\"N_d\",N_d)]) #Substitute values into equation\n",
    "    T_i = solve(subbed,\"x_p\") #Solve for xp\n",
    "    xp.append(T_i[0]) #Append xp to list\n",
    "\n",
    "    subbed = maxEEq2.subs([(\"e_s\",e_s),(\"V_bi\",V_bi[i]),(\"q_e\",q_e),(\"N_a\",N_a),(\"N_d\",N_d),(\"V_R\",V_R)]) #Substitute values into equation\n",
    "    T_i = solve(subbed,\"E_max\") #Solve for E_max\n",
    "    E_max.append(T_i[0]) #Append E_max to list\n",
    "\n",
    "#Print results\n",
    "print(\"W = \",W) #Print W\n",
    "print(\"xn = \",xn) #Print xn\n",
    "print(\"xp = \",xp) #Print xp\n",
    "print(\"E_max = \",E_max) #Print E_max\n",
    "\n"
   ]
  },
  {
   "cell_type": "code",
   "execution_count": 35,
   "metadata": {},
   "outputs": [
    {
     "name": "stdout",
     "output_type": "stream",
     "text": [
      "N_d =  1.75686276265609e+16\n"
     ]
    }
   ],
   "source": [
    "#Question 2\n",
    "#Determine the n type doping concentration to meet the following specifications for a Si p-n junction:  Na=10^18, Emax=4x10^5 V/cm and Vr=30 V, T=300 K\n",
    "\n",
    "#First calculate V_bi\n",
    "\n",
    "#Constants and Givens\n",
    "k = 8.617E-5 #Boltzmann constant\n",
    "N_i = 1.5E10 #Intrinsic carrier concentration\n",
    "\n",
    "N_a = 10**18 #Concentration of acceptors\n",
    "N_d = Symbol(\"N_d\") #Concentration of donors\n",
    "V_R = 30 #Reverse bias voltage\n",
    "E_max = 4E5 #Maximum electric field\n",
    "T = 300 #Temperature in Kelvin\n",
    "\n",
    "#Solve for V_bi\n",
    "subbed = VBiEq.subs([(\"k\",k),(\"T\",T),(\"N_a\",N_a),(\"N_d\",N_d),(\"N_i\",N_i)]) #Substitute values into equation\n",
    "T_i = solve(subbed,\"V_bi\") #Solve for V_bi\n",
    "V_bi = T_i[0] #Assign V_bi\n",
    "V_bi = 0\n",
    "\n",
    "#Sub into Emax2 \n",
    "subbed = maxEEq2.subs([(\"e_s\",e_s),(\"V_bi\",V_bi),(\"q_e\",q_e),(\"N_a\",N_a),(\"N_d\",N_d),(\"V_R\",V_R),(\"E_max\",E_max)]) #Substitute values into equation\n",
    "N_d = solve(subbed,\"N_d\")[0] #Solve for N_d\n",
    "print(\"N_d = \",N_d) #Print N_d\n"
   ]
  },
  {
   "cell_type": "code",
   "execution_count": null,
   "metadata": {},
   "outputs": [],
   "source": []
  }
 ],
 "metadata": {
  "kernelspec": {
   "display_name": "Python 3.10.6 64-bit",
   "language": "python",
   "name": "python3"
  },
  "language_info": {
   "codemirror_mode": {
    "name": "ipython",
    "version": 3
   },
   "file_extension": ".py",
   "mimetype": "text/x-python",
   "name": "python",
   "nbconvert_exporter": "python",
   "pygments_lexer": "ipython3",
   "version": "3.10.6"
  },
  "orig_nbformat": 4,
  "vscode": {
   "interpreter": {
    "hash": "aee8b7b246df8f9039afb4144a1f6fd8d2ca17a180786b69acc140d282b71a49"
   }
  }
 },
 "nbformat": 4,
 "nbformat_minor": 2
}
