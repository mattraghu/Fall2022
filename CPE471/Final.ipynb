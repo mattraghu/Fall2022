{
 "cells": [
  {
   "cell_type": "code",
   "execution_count": 1,
   "metadata": {},
   "outputs": [],
   "source": [
    "from sympy import *"
   ]
  },
  {
   "cell_type": "code",
   "execution_count": 9,
   "metadata": {},
   "outputs": [
    {
     "name": "stdout",
     "output_type": "stream",
     "text": [
      "φ_fp =  0.389004619083316 eV\n",
      "x_dt =  1.41914557539003e-5 cm\n",
      "C_min =  6.24086285952688e-8 F/cm^2\n"
     ]
    }
   ],
   "source": [
    "#For a metal-SiO2-Si capacitor having Na=5e16, d=8nm, calculate a) the maximum width of the surface depletion region and b) the minimum capacitance on the C-V curve.\n",
    "\n",
    "V_t = 0.0259 #eV\n",
    "n_i = 1.5e10 #cm^-3\n",
    "\n",
    "N_a = 5e16 #cm^-3\n",
    "\n",
    "#First Calculate Potential at the surface of the SiO2\n",
    "\n",
    "phi_fp = V_t*log(N_a/n_i)\n",
    "print(\"\\u03C6_fp = \", phi_fp, \"eV\")\n",
    "\n",
    "#Calculate the maximum width of the surface depletion region\n",
    "e_s = 11.7*8.85e-14 #F/cm\n",
    "q_e = 1.6e-19 #C\n",
    "\n",
    "x_dt = sqrt(4*e_s*phi_fp/(q_e*N_a))\n",
    "print(\"x_dt = \", x_dt, \"cm\")\n",
    "\n",
    "#Calculate the minimum capacitance on the C-V curve\n",
    "e_ox = 3.9*8.85e-14 #F/cm\n",
    "t_ox = 08e-7 #cm\n",
    "\n",
    "C_min = e_ox/(t_ox+(e_ox/e_s)*x_dt)\n",
    "print(\"C_min = \", C_min, \"F/cm^2\")"
   ]
  },
  {
   "cell_type": "code",
   "execution_count": 10,
   "metadata": {},
   "outputs": [
    {
     "name": "stdout",
     "output_type": "stream",
     "text": [
      "I_d_sat =  0.012758099999999998 A\n"
     ]
    }
   ],
   "source": [
    "#Consider a MOSFET with L=1um, W=5um, Na=5e10^16 cm^-3, un=800 cm^2/Vs, Co=3.45e-7 F/cm^2, and Vt=0.7 V.  Find Id(sat) for Vg=5 V.\n",
    "\n",
    "W = 5E-4 #cm\n",
    "L = 1E-4 #cm\n",
    "N_a = 5E16 #cm^-3\n",
    "u_n = 800 #cm^2/Vs\n",
    "C_ox = 3.45E-7 #F/cm^2\n",
    "V_t = 0.7 #V\n",
    "V_gs = 5 #V\n",
    "\n",
    "I_d_sat = W*u_n*C_ox/(2*L)*(V_gs-V_t)**2\n",
    "\n",
    "print(\"I_d_sat = \", I_d_sat, \"A\")"
   ]
  }
 ],
 "metadata": {
  "kernelspec": {
   "display_name": "Python 3",
   "language": "python",
   "name": "python3"
  },
  "language_info": {
   "codemirror_mode": {
    "name": "ipython",
    "version": 3
   },
   "file_extension": ".py",
   "mimetype": "text/x-python",
   "name": "python",
   "nbconvert_exporter": "python",
   "pygments_lexer": "ipython3",
   "version": "3.8.3 (tags/v3.8.3:6f8c832, May 13 2020, 22:37:02) [MSC v.1924 64 bit (AMD64)]"
  },
  "orig_nbformat": 4,
  "vscode": {
   "interpreter": {
    "hash": "1f59d50658d4cd97c33559e64c64cdabcc2031b5c15f33137a9aa45101c8cb06"
   }
  }
 },
 "nbformat": 4,
 "nbformat_minor": 2
}
