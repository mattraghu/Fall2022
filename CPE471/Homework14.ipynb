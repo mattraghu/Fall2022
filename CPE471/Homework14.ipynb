{
 "cells": [
  {
   "cell_type": "code",
   "execution_count": 1,
   "metadata": {},
   "outputs": [],
   "source": [
    "from sympy import * "
   ]
  },
  {
   "cell_type": "code",
   "execution_count": null,
   "metadata": {},
   "outputs": [],
   "source": [
    "#Important Equations\n",
    "\n",
    "#Electron Hole Generation Rate\n",
    "g,a,I_v,h,v = symbols('g a I_v h v')\n",
    "genEq = Eq(g, a*I_v/(h*v))"
   ]
  },
  {
   "cell_type": "code",
   "execution_count": 12,
   "metadata": {},
   "outputs": [
    {
     "name": "stdout",
     "output_type": "stream",
     "text": [
      "Wavelength:  9.538461538461538e-07 m\n",
      "Generation Rate:  1.2076377074565288e+19 m^-3s^-1\n",
      "Excess Carrier Concentration:  1.2076e+13 m^-3\n"
     ]
    }
   ],
   "source": [
    "#Question 1 \n",
    "#A light source with h\" I .3 eV and at a power density of 10-2 W/cm2 is incident\n",
    "#on a thin slab of silicon. The excess minority carrier lifetime is 10-6 s. Determine\n",
    "#the electron—hole generation rate and the steady-state excess carrier concentration-\n",
    "#Neglect surface effects.\n",
    "hc = 1.24E-6 #meV\n",
    "E = 1.3 #eV\n",
    "\n",
    "lam = hc/E #m\n",
    "print(\"Wavelength: \", lam, \"m\")\n",
    "\n",
    "alpha = 10**2.4\n",
    "# alpha = 3E2\n",
    "I_v = 1E-2 \n",
    "\n",
    "#Convert E to J\n",
    "E = E*1.6E-19 #J\n",
    "g = alpha*I_v/(E)\n",
    "print(\"Generation Rate: \", g, \"m^-3s^-1\")\n",
    "\n",
    "t=1E-6 #s\n",
    "n = g*t\n",
    "#Print in scientific notation up to 4 decimal places\n",
    "print(\"Excess Carrier Concentration: \", format(n, '.4e'), \"m^-3\")"
   ]
  },
  {
   "cell_type": "code",
   "execution_count": 19,
   "metadata": {},
   "outputs": [
    {
     "name": "stdout",
     "output_type": "stream",
     "text": [
      "Generation Rate:  2.5000000000000002e+22 cm^-3s^-1\n",
      "Wavelength:  0.7515151515151516 micrometer\n",
      "Incident Power:  0.6599999999999999 W/cm^2\n",
      "Distance:  0.000230258509299405 cm\n"
     ]
    }
   ],
   "source": [
    "#An n-tytx GaAs sample has a minority carrier lifetime of 2 X 10-7 s. Incident\n",
    "#photons With energies 1-65 eV generate an excess carrier Of\n",
    "#öp = 5 X 101s em-A at the surface of the semiconductor. (a) Determine the incident\n",
    "#power (b) At what distance in the semiconductor the generation rate\n",
    "#to 10 reent of that at the surface?\n",
    "\n",
    "dp = 5E15 #cm^-3s^-1\n",
    "t = 2E-7 #s\n",
    "\n",
    "g = dp/t\n",
    "print(\"Generation Rate: \", g, \"cm^-3s^-1\")\n",
    "\n",
    "E = 1.65 #eV\n",
    "hc = 1.24 #micrometer eV\n",
    "lam = hc/E  #micrometer\n",
    "print(\"Wavelength: \", lam, \"micrometer\")\n",
    "\n",
    "alpha = 1E4\n",
    "E = E*1.6E-19 #J\n",
    "\n",
    "I_v = g*E/alpha\n",
    "print(\"Incident Power: \", I_v, \"W/cm^2\")\n",
    "\n",
    "\n",
    "x = -ln(.1)/alpha\n",
    "print(\"Distance: \", x, \"cm\")"
   ]
  },
  {
   "cell_type": "code",
   "execution_count": 27,
   "metadata": {},
   "outputs": [
    {
     "name": "stdout",
     "output_type": "stream",
     "text": [
      "L_n:  0.00500000000000000 cm\n",
      "L_p:  0.00223606797749979 cm\n",
      "J_s:  1.78996894379985e-10 A/cm^2\n",
      "J_s:  8.94984471899924e-10 A\n",
      "V_bi:  0.635003400394001 V\n",
      "W:  9.50832331454766e-5 cm\n",
      "I_L:  0.380332932581906 A\n",
      "V_oc:  0.514568417793574 V\n"
     ]
    }
   ],
   "source": [
    "#Question 3\n",
    "\n",
    "D_n=  25\n",
    "t_n0 = 1E-6\n",
    "\n",
    "L_n = sqrt(D_n*t_n0)\n",
    "print(\"L_n: \", L_n, \"cm\")\n",
    "\n",
    "D_p = 10\n",
    "t_p0 = 5E-7 \n",
    "\n",
    "L_p = sqrt(D_p*t_p0)\n",
    "print(\"L_p: \", L_p, \"cm\")\n",
    "\n",
    "\n",
    "q_e = 1.6E-19\n",
    "n_i = 1.5E10 #cm^-3\n",
    "N_a = 1E16\n",
    "N_d = 1E15 \n",
    "\n",
    "J_s = q_e*n_i**2*(D_n/(L_n*N_a) + D_p/(L_p*N_d))\n",
    "print(\"J_s: \", J_s, \"A/cm^2\")\n",
    "\n",
    "A = 5 \n",
    "J_s = J_s*A\n",
    "print(\"J_s: \", J_s, \"A\")\n",
    "\n",
    "\n",
    "V_t = .0259 #V\n",
    "\n",
    "V_bi = V_t*log(N_a*N_d/n_i**2)\n",
    "print(\"V_bi: \", V_bi, \"V\")\n",
    "\n",
    "e_s = 11.7*8.85E-14 #F/cm\n",
    "q_e = 1.6E-19\n",
    "W = (2*e_s*V_bi/q_e*((N_a+N_d)/(N_a*N_d)))**.5\n",
    "print(\"W: \", W, \"cm\")\n",
    "\n",
    "G_L = 5E21\n",
    "I_L = q_e*G_L*W*A\n",
    "print(\"I_L: \", I_L, \"A\")\n",
    "\n",
    "V_oc = V_t*ln(1+I_L/J_s)\n",
    "print(\"V_oc: \", V_oc, \"V\")\n",
    "\n",
    "\n"
   ]
  },
  {
   "cell_type": "code",
   "execution_count": 37,
   "metadata": {},
   "outputs": [
    {
     "name": "stdout",
     "output_type": "stream",
     "text": [
      "L_n:  0.00948683298050514 cm\n",
      "L_p:  0.547722557505166 cm\n",
      "J_s:  2.27687935134537e-12 A/cm^2\n",
      "I_s:  4.55375870269075e-12 A\n",
      "I_L:  0.05 A\n"
     ]
    },
    {
     "data": {
      "text/plain": [
       "0.02435"
      ]
     },
     "execution_count": 37,
     "metadata": {},
     "output_type": "execute_result"
    }
   ],
   "source": [
    "#Question 4\n",
    "D_n = 18\n",
    "t_n0 = 5E-6\n",
    "\n",
    "D_p = 6\n",
    "t_p0 = 5E-2\n",
    "\n",
    "L_n = sqrt(D_n*t_n0)\n",
    "print(\"L_n: \", L_n, \"cm\")\n",
    "\n",
    "L_p = sqrt(D_p*t_p0)\n",
    "print(\"L_p: \", L_p, \"cm\")\n",
    "\n",
    "q_e = 1.6E-19\n",
    "n_i = 1.5E10 #cm^-3\n",
    "N_a = 3E16\n",
    "N_d = 1E19\n",
    "\n",
    "J_s = q_e*n_i**2*(D_n/(L_n*N_a) + D_p/(L_p*N_d))\n",
    "print(\"J_s: \", J_s, \"A/cm^2\")\n",
    "\n",
    "A = 2\n",
    "I_s = J_s*A\n",
    "print(\"I_s: \", I_s, \"A\")\n",
    "\n",
    "J_L = 25E-3\n",
    "I_L = J_L*A\n",
    "print(\"I_L: \", I_L, \"A\")\n",
    "\n",
    "V_t = .0259 #V\n",
    "\n",
    "1/V_t\n",
    "\n",
    ".5*.0487"
   ]
  },
  {
   "cell_type": "code",
   "execution_count": 44,
   "metadata": {},
   "outputs": [
    {
     "name": "stdout",
     "output_type": "stream",
     "text": [
      "dp:  1.0000e+13 cm^-3s^-1\n",
      "do:  1.3200e-02 cm^-3s^-1\n",
      "t_n:  2.5000e-09 s\n",
      "I_L:  6.6000e-04 A\n",
      "G_ph:  4.1250e+00 cm^-3s^-1\n"
     ]
    }
   ],
   "source": [
    "#Question 5\n",
    "G_L = 1E21\n",
    "T_p0 = 1E-8 \n",
    "\n",
    "dp = G_L*T_p0\n",
    "print(\"dp: \", format(dp, '.4e'), \"cm^-3s^-1\")\n",
    "\n",
    "q_e = 1.6E-19\n",
    "u_n = 8000\n",
    "u_p = 250\n",
    "\n",
    "do = q_e*dp*(u_n+u_p)\n",
    "print(\"do: \", format(do, '.4e'), \"cm^-3s^-1\")\n",
    "\n",
    "L = 100E-4\n",
    "V = 5\n",
    "t_n = L**2 /(u_n*V)\n",
    "print(\"t_n: \", format(t_n, '.4e'), \"s\")\n",
    "\n",
    "A = 1E-4\n",
    "I_L = q_e*G_L*(T_p0/t_n)*(1+u_p/u_n)*(A*L)\n",
    "print(\"I_L: \", format(I_L, '.4e'), \"A\")\n",
    "\n",
    "G_ph =T_p0/t_n*(1+u_p/u_n)\n",
    "print(\"G_ph: \", format(G_ph, '.4e'), \"cm^-3s^-1\")\n",
    "\n",
    "\n"
   ]
  },
  {
   "cell_type": "code",
   "execution_count": 47,
   "metadata": {},
   "outputs": [
    {
     "name": "stdout",
     "output_type": "stream",
     "text": [
      "J_L:  3.2000e-01 A/cm^2\n",
      "J_L2:  1.3835e-1 A/cm^2\n"
     ]
    }
   ],
   "source": [
    "#Question 6\n",
    "q_e = 1.6E-19\n",
    "W = 20E-4\n",
    "G_L = 1E21\n",
    "\n",
    "J_L = G_L*W*q_e\n",
    "print(\"J_L: \", format(J_L, '.4e'), \"A/cm^2\")\n",
    "\n",
    "alpha = 1E3\n",
    "J_L2 = q_e*(G_L/alpha)*(1-exp(-alpha*W))\n",
    "print(\"J_L2: \", format(J_L2, '.4e'), \"A/cm^2\")\n",
    "\n"
   ]
  }
 ],
 "metadata": {
  "kernelspec": {
   "display_name": "Python 3.8.3 64-bit",
   "language": "python",
   "name": "python3"
  },
  "language_info": {
   "codemirror_mode": {
    "name": "ipython",
    "version": 3
   },
   "file_extension": ".py",
   "mimetype": "text/x-python",
   "name": "python",
   "nbconvert_exporter": "python",
   "pygments_lexer": "ipython3",
   "version": "3.8.3"
  },
  "orig_nbformat": 4,
  "vscode": {
   "interpreter": {
    "hash": "1f59d50658d4cd97c33559e64c64cdabcc2031b5c15f33137a9aa45101c8cb06"
   }
  }
 },
 "nbformat": 4,
 "nbformat_minor": 2
}
