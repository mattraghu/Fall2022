{
 "cells": [
  {
   "cell_type": "code",
   "execution_count": 1,
   "metadata": {},
   "outputs": [],
   "source": [
    "from sympy import *"
   ]
  },
  {
   "cell_type": "code",
   "execution_count": 21,
   "metadata": {},
   "outputs": [
    {
     "data": {
      "text/plain": [
       "[0.00687095670313091]"
      ]
     },
     "execution_count": 21,
     "metadata": {},
     "output_type": "execute_result"
    }
   ],
   "source": [
    "#3.4\n",
    "\n",
    "#Variables\n",
    "f, E, Ef, k, T = symbols('f E Ef k T')\n",
    "\n",
    "#Equations\n",
    "fermiDirae = Eq(f,1/(1+exp((E-Ef)/(k*T))))\n",
    "\n",
    "#Givens\n",
    "Ef = 5.5\n",
    "T = 700\n",
    "k = 8.617e-5\n",
    "E = 5.8\n",
    "\n",
    "eq = fermiDirae.subs({\n",
    "    \"E\":E,\n",
    "    \"Ef\":Ef,\n",
    "    \"k\":k,\n",
    "    \"T\":T\n",
    "})\n",
    "\n",
    "\n",
    "\n",
    "solve(eq,f)\n",
    "\n",
    "\n",
    "\n"
   ]
  },
  {
   "cell_type": "code",
   "execution_count": null,
   "metadata": {},
   "outputs": [],
   "source": []
  },
  {
   "cell_type": "code",
   "execution_count": 49,
   "metadata": {},
   "outputs": [
    {
     "name": "stdout",
     "output_type": "stream",
     "text": [
      "Complement(ConditionSet(T, Eq(exp(6962.98015550656/T) - 999999.0, 0), Complexes), ConditionSet(T, Eq(exp(6962.98015550656/T) + 1, 0), Complexes))\n"
     ]
    }
   ],
   "source": [
    "#3.4 c \n",
    "\n",
    "#Variables\n",
    "f = 1e-6\n",
    "E = .6\n",
    "Ef = 0 \n",
    "T = symbols(\"T\")\n",
    "\n",
    "#Equations\n",
    "eq = fermiDirae.subs({\n",
    "    \"f\":f,\n",
    "    \"E\":E,\n",
    "    \"Ef\":Ef,\n",
    "    \"k\":k,\n",
    "})\n",
    "\n",
    "\n",
    "#Solve using a non-linear solver\n",
    "sol = nonlinsolve([eq],T)\n",
    "#Print the first result of the complement\n",
    "print(sol.args[0][0])\n"
   ]
  },
  {
   "cell_type": "code",
   "execution_count": 52,
   "metadata": {},
   "outputs": [
    {
     "data": {
      "text/plain": [
       "[0.0381772767510698]"
      ]
     },
     "execution_count": 52,
     "metadata": {},
     "output_type": "execute_result"
    }
   ],
   "source": [
    "#4.10\n",
    "\n",
    "#Variables\n",
    "Ef, Em, k, T, mp, mn = symbols('Ef Em k T mp mn')\n",
    "\n",
    "midGapEq = Eq(Ef-Em,0.75*k*T*log(mp/mn))\n",
    "\n",
    "#Givens\n",
    "Em = 0 \n",
    "k = 8.617e-5\n",
    "T = 300\n",
    "mp = .48\n",
    "mn = .067\n",
    "\n",
    "eq = midGapEq.subs({\n",
    "    \"Em\":Em,\n",
    "    \"k\":k,\n",
    "    \"T\":T,\n",
    "    \"mp\":mp,\n",
    "    \"mn\":mn\n",
    "})\n",
    "\n",
    "solve(eq,Ef)\n",
    "\n",
    "\n"
   ]
  },
  {
   "cell_type": "code",
   "execution_count": 54,
   "metadata": {},
   "outputs": [
    {
     "data": {
      "text/plain": [
       "[0.161667728608038]"
      ]
     },
     "execution_count": 54,
     "metadata": {},
     "output_type": "execute_result"
    }
   ],
   "source": [
    "Nv, p0, k, T, Ev = symbols('Nv p0 k T Ev')\n",
    "ferValEq = Eq(Ef-Ev, k*T*ln(Nv/p0))\n",
    "\n",
    "#Givens\n",
    "Ev = 0\n",
    "k = 8.617e-5\n",
    "T = 300 \n",
    "Nv = 1.04e19\n",
    "p0 = 2e16\n",
    "\n",
    "eq = ferValEq.subs({\n",
    "    \"Ev\":Ev,\n",
    "    \"k\":k,\n",
    "    \"T\":T,\n",
    "    \"Nv\":Nv,\n",
    "    \"p0\":p0\n",
    "})\n",
    "\n",
    "solve(eq,Ef)\n",
    "\n",
    "\n",
    "\n"
   ]
  },
  {
   "cell_type": "code",
   "execution_count": 56,
   "metadata": {},
   "outputs": [
    {
     "data": {
      "text/plain": [
       "[2227.42948129047]"
      ]
     },
     "execution_count": 56,
     "metadata": {},
     "output_type": "execute_result"
    }
   ],
   "source": [
    "Nc = 2.8E19\n",
    "Ecf = .9583\n",
    "T = 300\n",
    "n0 = symbols(\"n0\")\n",
    "\n",
    "thermalEqEquation = Eq(n0, Nc*exp(-(Ecf)/(k*T)))\n",
    "\n",
    "solve(thermalEqEquation,n0)"
   ]
  },
  {
   "cell_type": "code",
   "execution_count": null,
   "metadata": {},
   "outputs": [],
   "source": [
    "Efi = symbols(\"Efi\")\n",
    "ni = 1.5E10\n",
    "\n",
    "eq = Eq(Efi-Ef, k*T*ln(p0/ni))"
   ]
  }
 ],
 "metadata": {
  "kernelspec": {
   "display_name": "Python 3.8.3 64-bit",
   "language": "python",
   "name": "python3"
  },
  "language_info": {
   "codemirror_mode": {
    "name": "ipython",
    "version": 3
   },
   "file_extension": ".py",
   "mimetype": "text/x-python",
   "name": "python",
   "nbconvert_exporter": "python",
   "pygments_lexer": "ipython3",
   "version": "3.8.3"
  },
  "orig_nbformat": 4,
  "vscode": {
   "interpreter": {
    "hash": "1f59d50658d4cd97c33559e64c64cdabcc2031b5c15f33137a9aa45101c8cb06"
   }
  }
 },
 "nbformat": 4,
 "nbformat_minor": 2
}
