{
 "cells": [
  {
   "cell_type": "code",
   "execution_count": 2,
   "metadata": {},
   "outputs": [],
   "source": [
    "from sympy import *"
   ]
  },
  {
   "cell_type": "code",
   "execution_count": 157,
   "metadata": {},
   "outputs": [],
   "source": [
    "#np Equation\n",
    "n_p, n_p0, V_a, k, T = symbols('n_p n_p0 V_a k T')\n",
    "npEq = Eq(n_p,n_p0*exp(V_a/(k*T)))\n",
    "\n",
    "#pn Equation\n",
    "p_n, p_n0, V_a, k, T = symbols('p_n p_n0 V_a k T')\n",
    "pnEq = Eq(p_n,p_n0*exp(V_a/(k*T)))\n",
    "\n",
    "#n0 \n",
    "n_0, n_i, N_a = symbols('n_0 n_i N_a')\n",
    "n0Eq = Eq(n_0,n_i**2/N_a)\n",
    "\n",
    "#p0\n",
    "p_0, n_i, N_d = symbols('p_0 n_i N_d')\n",
    "p0Eq = Eq(p_0,n_i**2/N_d)\n",
    "\n",
    "#Ip0,In0 Equations\n",
    "q_e, A, D_p, L_p, D_n, L_n, V_0, I_p0, I_n0 = symbols('q_e A D_p L_p D_n L_n V_0 I_p0 I_n0')\n",
    "IP0Eq = Eq(q_e*A*D_p*p_n0/L_p,I_p0)\n",
    "IN0Eq = Eq(q_e*A*D_n*n_p0/L_n,I_n0)\n",
    "\n",
    "#Vbi \n",
    "V_bi, k, T, N_a, N_d, n_i = symbols('V_bi k T N_a N_d n_i')\n",
    "VbiEq = Eq(V_bi,k*T*ln(N_a*N_d/(n_i**2)))\n",
    "\n",
    "#I\n",
    "I_s,I = symbols('I_s I')\n",
    "IEq = Eq(I,I_s*( exp(V_a/(k*T))-1 ))\n",
    "\n",
    "#J_p\n",
    "J_p = symbols('J_p')\n",
    "JpEq = Eq(J_p, q_e*D_p*p_n0/L_p)\n",
    "\n",
    "#J_n\n",
    "J_n = symbols('J_n')\n",
    "JnEq = Eq(J_n, q_e*D_n*n_p0/L_n)\n",
    "\n"
   ]
  },
  {
   "cell_type": "code",
   "execution_count": 28,
   "metadata": {},
   "outputs": [
    {
     "name": "stdout",
     "output_type": "stream",
     "text": [
      "n_p0 =  112500.000000000\n",
      "p_n0 =  28125.0000000000\n",
      "-----------------------\n",
      "Va =  0.45 V\n",
      "n_p =  4.08e+12\n",
      "p_n =  1.02e+12\n",
      "-----------------------\n",
      "Va =  0.55 V\n",
      "n_p =  1.95e+14\n",
      "p_n =  4.89e+13\n",
      "-----------------------\n",
      "Va =  -0.55 V\n",
      "n_p =  6.47e-5\n",
      "p_n =  1.62e-5\n"
     ]
    }
   ],
   "source": [
    "#Question 1\n",
    "#A silicon pn junction has impurity doping concentrations of Na = 2 X 1015 cm-3 and N. = 8 X 1015 cm-. Determine the minority carrier concentrations at the edges of the space charge region for (a) Va = 0.45 V, (b) Va = 0.55 V, and (c) Va -0.55 V\n",
    "\n",
    "#Given\n",
    "N_a = 2e15\n",
    "N_d = 8e15\n",
    "\n",
    "k = 8.617e-5\n",
    "T = 300\n",
    "n_i = 1.5e10\n",
    "\n",
    "V_a = [0.45, 0.55, -0.55]\n",
    "\n",
    "#Solve for n_p0 and p_n0\n",
    "n_p0 = solve(n0Eq.subs([(\"n_i\",n_i),(\"N_a\",N_a)]),\"n_0\")[0]\n",
    "p_n0 = solve(p0Eq.subs([(\"n_i\",n_i),(\"N_d\",N_d)]),\"p_0\")[0]\n",
    "\n",
    "#Solve for n_p\n",
    "print(\"n_p0 = \",n_p0)\n",
    "print(\"p_n0 = \",p_n0)\n",
    "for i in range(len(V_a)):\n",
    "    n_p = solve(npEq.subs([(\"n_p0\",n_p0),(\"V_a\",V_a[i]),(\"k\",k),(\"T\",T)]),\"n_p\")[0]\n",
    "    p_n = solve(pnEq.subs([(\"p_n0\",p_n0),(\"V_a\",V_a[i]),(\"k\",k),(\"T\",T)]),\"p_n\")[0]\n",
    "    print(\"-----------------------\")\n",
    "    print(\"Va = \",V_a[i],\"V\")\n",
    "    #Print in scientific notation up to 3 places\n",
    "    print(\"n_p = \",n_p.evalf(3))\n",
    "    print(\"p_n = \",p_n.evalf(3))\n",
    "\n",
    "    "
   ]
  },
  {
   "cell_type": "code",
   "execution_count": 52,
   "metadata": {},
   "outputs": [
    {
     "data": {
      "text/latex": [
       "$\\displaystyle 0.652981864908071$"
      ],
      "text/plain": [
       "0.652981864908071"
      ]
     },
     "execution_count": 52,
     "metadata": {},
     "output_type": "execute_result"
    }
   ],
   "source": [
    "#Question 2\n",
    "#(a) The doping concentrations in a silicon pn junction are Na = 5 X 1015 cm-3 and N. = 5 x 1016 cm-3. The minority carrier concentration at either space charge edge is to be no larger than 10 percent of the respective majority carrier concentration. (i) Determine the maximum forward-bias voltage that can be applied to the junction and still meet the required specifications. (it) Is the n-region or p-region concentration the factor that limits the forward-bias voltage? (b) Repeat part (a) if the doping con- centrations are Na ‚= 3 × 1016 cm-3 and N. =7 × 1015 cm\n",
    "\n",
    "#Given\n",
    "N_a = 5e15\n",
    "N_d = 5e16\n",
    "\n",
    "k = 8.617e-5\n",
    "T = 300\n",
    "n_i = 1.5e10\n",
    "\n",
    "n_p = .1*N_a\n",
    "\n",
    "#Solve for n_p0 and p_n0\n",
    "n_p0 = solve(n0Eq.subs([(\"n_i\",n_i),(\"N_a\",N_a)]),\"n_0\")[0]\n",
    "p_n0 = solve(p0Eq.subs([(\"n_i\",n_i),(\"N_d\",N_d)]),\"p_0\")[0]\n",
    "\n",
    "#Solve for V_a using a non lin solver\n",
    "subbed = npEq.subs([(\"n_p0\",n_p0),(\"k\",k),(\"T\",T),(\"n_p\",n_p)])\n",
    "V_a = ln( n_p/n_p0 )*k*T\n",
    "\n",
    "\n",
    "#b \n",
    "#Given\n",
    "N_a = 3e16\n",
    "N_d = 7e15\n",
    "n_p = .1*N_d\n",
    "\n",
    "#Solve for n_p0 and p_n0\n",
    "n_p0 = solve(n0Eq.subs([(\"n_i\",n_i),(\"N_a\",N_a)]),\"n_0\")[0]\n",
    "p_n0 = solve(p0Eq.subs([(\"n_i\",n_i),(\"N_d\",N_d)]),\"p_0\")[0]\n",
    "\n",
    "\n",
    "V_a = ln( n_p/n_p0 )*k*T\n",
    "# V_a = ln( p_n/p_n0 )*k*T\n",
    "\n",
    "V_a"
   ]
  },
  {
   "cell_type": "code",
   "execution_count": 107,
   "metadata": {},
   "outputs": [
    {
     "name": "stdout",
     "output_type": "stream",
     "text": [
      "I_p0 =  1.49e-14\n",
      "I_n0 =  4.76e-15\n",
      "-----------------------\n",
      "V_bi =  0.745\n",
      "V_a =  0.596\n",
      "n_p =  4.69e+13\n",
      "p_n =  1.56e+14\n"
     ]
    },
    {
     "data": {
      "text/latex": [
       "$\\displaystyle I = 0.000155829648597103$"
      ],
      "text/plain": [
       "Eq(I, 0.000155829648597103)"
      ]
     },
     "execution_count": 107,
     "metadata": {},
     "output_type": "execute_result"
    }
   ],
   "source": [
    "#Question 3\n",
    "#8.16 Consider an ideal silicon pn junction diode with the geometry shown in Figure P8.16. The doping concentrations are Na = 5X 1016 cm-3 and Na = 1.5 X 1016 cm-3, and the minority carrier lifetimes are To = 2 X 10-7 s and Tpo = 8 X 10-& s. The cross- sectional area is A = 5 x 10- -4 cm?. Calculate (a) the ideal reverse-saturation current due to holes. (b) the ideal reverse-saturation current due to electrons. (c) the hole con- centration at x = In for Va = 0.8 Vois (a) the electron current at x = In for Va = 0.8 Vois and (e) the electron current at x = x + (1/2) L, for Va 0.8 Voi.\n",
    "\n",
    "#Given\n",
    "N_a = 5e16\n",
    "N_d = 1.5e16\n",
    "A = 5e-4\n",
    "t_n0 = 2e-7\n",
    "t_p0 = 8e-8\n",
    "\n",
    "D_p = 11.7\n",
    "D_n = 35.1\n",
    "\n",
    "D_p = 12.4\n",
    "D_n = 35\n",
    "\n",
    "k = 8.617e-5\n",
    "T = 300\n",
    "n_i = 1.5e10\n",
    "q_e = 1.6e-19\n",
    "\n",
    "L_p = sqrt(t_p0*D_p)\n",
    "L_n = sqrt(t_n0*D_n)\n",
    "\n",
    "V_0 = 0 \n",
    "\n",
    "#Solve for n_p0 and p_n0\n",
    "n_p0 = solve(n0Eq.subs([(\"n_i\",n_i),(\"N_a\",N_a)]),\"n_0\")[0]\n",
    "p_n0 = solve(p0Eq.subs([(\"n_i\",n_i),(\"N_d\",N_d)]),\"p_0\")[0]\n",
    "\n",
    "#Calculate I_p0 and I_n0\n",
    "I_p0 = solve(IP0Eq.subs([(\"p_n0\",p_n0),(\"t_p0\",t_p0),(\"A\",A),(\"D_p\",D_p),(\"L_p\",L_p),(\"k\",k),(\"T\",T),(\"V_0\",V_0),(\"q_e\",q_e)]),\"I_p0\")[0]\n",
    "I_n0 = solve(IN0Eq.subs([(\"n_p0\",n_p0),(\"t_n0\",t_n0),(\"A\",A),(\"D_n\",D_n),(\"L_n\",L_n),(\"k\",k),(\"T\",T),(\"V_0\",V_0),(\"q_e\",q_e)]),\"I_n0\")[0]\n",
    "\n",
    "#display\n",
    "print(\"I_p0 = \",I_p0.evalf(3))\n",
    "print(\"I_n0 = \",I_n0.evalf(3))\n",
    "\n",
    "print(\"-----------------------\")\n",
    "#Caclaulte V_bi \n",
    "V_bi = solve(VbiEq.subs([(\"n_i\",n_i),(\"N_a\",N_a),(\"N_d\",N_d),(\"k\",k),(\"T\",T)]),\"V_bi\")[0]\n",
    "V_a = .8*V_bi\n",
    "print(\"V_bi = \",V_bi.evalf(3))\n",
    "print(\"V_a = \",V_a.evalf(3))\n",
    "\n",
    "#Calculate n_p and p_n\n",
    "n_p = solve(npEq.subs([(\"n_p0\",n_p0),(\"V_a\",V_a),(\"k\",k),(\"T\",T)]),\"n_p\")[0]\n",
    "p_n = solve(pnEq.subs([(\"p_n0\",p_n0),(\"V_a\",V_a),(\"k\",k),(\"T\",T)]),\"p_n\")[0]\n",
    "\n",
    "#display\n",
    "print(\"n_p = \",n_p.evalf(3))\n",
    "print(\"p_n = \",p_n.evalf(3))\n",
    "\n",
    "I_s = I_p0\n",
    "#Calc I\n",
    "IEq.subs([(\"I_s\",I_s),(\"n_p\",n_p),(\"p_n\",p_n),(\"V_a\",V_a),(\"k\",k),(\"T\",T),(\"q_e\",q_e)])\n",
    "\n"
   ]
  },
  {
   "cell_type": "code",
   "execution_count": 145,
   "metadata": {},
   "outputs": [
    {
     "name": "stdout",
     "output_type": "stream",
     "text": [
      "I =  0.0103\n",
      "V_a =  0.789\n",
      "V_a =  0.836\n"
     ]
    }
   ],
   "source": [
    "#Question 4\n",
    "#8.18 The limit of low injection is normally defined to be when the minority carrier concen- tration at the edge of the space charge region in the low-doped region becomes equal to one-tenth the majority carrier concentration in this region. Determine the value of the forward-bias voltage at which the limit of low injection is reached for the diode described in (a) Problem 8.7 and (b) Problem 8.8.\n",
    "\n",
    "#a\n",
    "#problem 8.7 An ideal germanium pn junction diode has the following parameters: Na =4 x10^15 /cm3 , Nd =2 x10^17 /cm3 , Dp = 48 cm2 /s, Dn = 90 cm2 /s, tp0 =tn0 = 2 x 10^-6 s, and A = 10^4 cm2 . Determine the diode current for (a) a forward-bias voltage of 0.25 V and (b) a reverse-biased voltage of 0.25 V.\n",
    "\n",
    "#Given\n",
    "N_a = 4e15\n",
    "N_d = 2e17\n",
    "A = 1e4\n",
    "t_n0 = 2e-6\n",
    "t_p0 = 2e-6\n",
    "\n",
    "D_n = 101\n",
    "D_p = 49.2\n",
    "\n",
    "k = 8.617e-5\n",
    "T = 300\n",
    "n_i = 1.5e10\n",
    "q_e = 1.6e-19\n",
    "\n",
    "L_p = sqrt(t_p0*D_p)\n",
    "L_n = sqrt(t_n0*D_n)\n",
    "\n",
    "V_0 = 0\n",
    "\n",
    "#Calculate p_n0 and n_p0\n",
    "p_n0 = solve(p0Eq.subs([(\"n_i\",n_i),(\"N_d\",N_d)]),\"p_0\")[0]\n",
    "n_p0 = solve(n0Eq.subs([(\"n_i\",n_i),(\"N_a\",N_a)]),\"n_0\")[0]\n",
    "\n",
    "#Calculate I_s by adding I_n and I_p\n",
    "I_n = solve(IN0Eq.subs([(\"n_p0\",n_p0),(\"t_n0\",t_n0),(\"A\",A),(\"D_n\",D_n),(\"L_n\",L_n),(\"k\",k),(\"T\",T),(\"V_0\",V_0),(\"q_e\",q_e)]),\"I_n0\")[0]\n",
    "I_p = solve(IP0Eq.subs([(\"p_n0\",p_n0),(\"t_p0\",t_p0),(\"A\",A),(\"D_p\",D_p),(\"L_p\",L_p),(\"k\",k),(\"T\",T),(\"V_0\",V_0),(\"q_e\",q_e)]),\"I_p0\")[0]\n",
    "I_s = I_n + I_p\n",
    "\n",
    "#Calculate I\n",
    "V_a = .25\n",
    "I = solve(IEq.subs([(\"I_s\",I_s),(\"V_a\",V_a),(\"k\",k),(\"T\",T),(\"q_e\",q_e)]))[0]\n",
    "print(\"I = \",I.evalf(3))\n",
    "\n",
    "N_d = 2e17\n",
    "N_a = .1*N_d\n",
    "\n",
    "V_a = k*T*log(N_d*N_a/n_i**2)\n",
    "print(\"V_a = \",V_a.evalf(3))\n",
    "\n",
    "N_a = 5E17\n",
    "N_d = .1*N_a\n",
    "\n",
    "V_a = k*T*ln(N_d*N_a/n_i**2)\n",
    "print(\"V_a = \",V_a.evalf(3))\n"
   ]
  },
  {
   "cell_type": "code",
   "execution_count": 160,
   "metadata": {},
   "outputs": [
    {
     "name": "stdout",
     "output_type": "stream",
     "text": [
      "V_bi =  0.790\n",
      "n_p0 =  1.13e+3\n",
      "p_n0 =  1.13e+4\n",
      "n_p =  2.00e+16\n",
      "p_n =  2.00e+17\n",
      "I_s =  2.23e-17/L_p + 6.3e-18/L_n\n"
     ]
    },
    {
     "data": {
      "text/latex": [
       "$\\displaystyle 0.566857142857144$"
      ],
      "text/plain": [
       "0.566857142857144"
      ]
     },
     "execution_count": 160,
     "metadata": {},
     "output_type": "execute_result"
    }
   ],
   "source": [
    "#8.24 (a) A silicon pn junction diode has the geometry shown in Figure 8.11 in which the n region is \"short\" with a length W, = 0.7 um. The doping concentrations are Na = 2 X 10'7 cm-3 and Na = 2 X 1015 cm -3, The cross-sectional area is A = 10-3 cm?. Determine (i) the maximum forward-bias voltage such that low injection is still valid, and (it) the resulting current at this forward-bias voltage. (b) Repeat part (a) if the doping concentrations are reversed such that Na Na = 2 X 1015 cm-3 and Na = 2 X 1017 cm\n",
    "\n",
    "#Given\n",
    "N_a = 2e17\n",
    "N_d = 2e15\n",
    "A = 1e-3\n",
    "W = 7e-4\n",
    "\n",
    "k = 8.617e-5\n",
    "T = 300\n",
    "T = 300.5686433793664\n",
    "n_i = 1.5e10\n",
    "q_e = 1.6e-19\n",
    "\n",
    "D_p = 12.4\n",
    "D_n = 35\n",
    "\n",
    "#Calculate V_bi\n",
    "# N_a = .1*N_d #Because it is low injection\n",
    "N_d = .1*N_a\n",
    "V_bi = k*T*log(N_d*N_a/n_i**2)\n",
    "print(\"V_bi = \",V_bi.evalf(3))\n",
    "\n",
    "#Calculate n_p0\n",
    "n_p0 = solve(n0Eq.subs([(\"n_i\",n_i),(\"N_a\",N_a)]),\"n_0\")[0]\n",
    "print(\"n_p0 = \",n_p0.evalf(3))\n",
    "\n",
    "#Calculate p_n0\n",
    "p_n0 = solve(p0Eq.subs([(\"n_i\",n_i),(\"N_d\",N_d)]),\"p_0\")[0]\n",
    "print(\"p_n0 = \",p_n0.evalf(3))\n",
    "\n",
    "#Calculate n_p and p_n\n",
    "n_p = solve(npEq.subs([(\"n_p0\",n_p0),(\"V_a\",V_bi),(\"k\",k),(\"T\",T)]),\"n_p\")[0]\n",
    "p_n = solve(pnEq.subs([(\"p_n0\",p_n0),(\"V_a\",V_bi),(\"k\",k),(\"T\",T)]),\"p_n\")[0]\n",
    "\n",
    "print(\"n_p = \",n_p.evalf(3))\n",
    "print(\"p_n = \",p_n.evalf(3))\n",
    "\n",
    "#Calculate I_s by adding I_n and I_p\n",
    "I_n = solve(IN0Eq.subs([(\"n_p0\",n_p0),(\"t_n0\",t_n0),(\"A\",A),(\"D_n\",D_n),(\"L_n\",L_n),(\"k\",k),(\"T\",T),(\"V_0\",V_0),(\"q_e\",q_e)]),\"I_n0\")[0]\n",
    "I_p = solve(IP0Eq.subs([(\"p_n0\",p_n0),(\"t_p0\",t_p0),(\"A\",A),(\"D_p\",D_p),(\"L_p\",L_p),(\"k\",k),(\"T\",T),(\"V_0\",V_0),(\"q_e\",q_e)]),\"I_p0\")[0]\n",
    "I_s = I_n + I_p\n",
    "print(\"I_s = \",I_s.evalf(3))\n",
    "\n",
    "# I = solve(IEq.subs([(\"I_s\",I_s),(\"V_a\",V_bi),(\"k\",k),(\"T\",T),(\"q_e\",q_e)]))[0]\n",
    "# print(\"I = \",I.evalf(3))\n",
    "\n",
    "A*q_e*D_p/W*p_n0*exp(V_bi/(k*T))\n"
   ]
  },
  {
   "cell_type": "code",
   "execution_count": 161,
   "metadata": {},
   "outputs": [
    {
     "data": {
      "text/latex": [
       "$\\displaystyle 0.001113552872566$"
      ],
      "text/plain": [
       "0.00111355287256600"
      ]
     },
     "execution_count": 161,
     "metadata": {},
     "output_type": "execute_result"
    }
   ],
   "source": [
    "#Question 5\n",
    "I_p0 = 1.295\n",
    "t_p0 = 1E-7\n",
    "\n",
    "D_p = 12.4\n",
    "D_n = 35\n",
    "\n",
    "k = 8.617e-5\n",
    "T = 300\n",
    "n_i = 1.5e10\n",
    "q_e = 1.6e-19\n",
    "\n",
    "A = 5E-4\n",
    "\n",
    "L_p = sqrt(t_p0*D_p)\n",
    "\n",
    "L_p"
   ]
  },
  {
   "cell_type": "code",
   "execution_count": null,
   "metadata": {},
   "outputs": [],
   "source": []
  }
 ],
 "metadata": {
  "kernelspec": {
   "display_name": "Python 3.10.6 64-bit",
   "language": "python",
   "name": "python3"
  },
  "language_info": {
   "codemirror_mode": {
    "name": "ipython",
    "version": 3
   },
   "file_extension": ".py",
   "mimetype": "text/x-python",
   "name": "python",
   "nbconvert_exporter": "python",
   "pygments_lexer": "ipython3",
   "version": "3.10.6"
  },
  "orig_nbformat": 4,
  "vscode": {
   "interpreter": {
    "hash": "aee8b7b246df8f9039afb4144a1f6fd8d2ca17a180786b69acc140d282b71a49"
   }
  }
 },
 "nbformat": 4,
 "nbformat_minor": 2
}
