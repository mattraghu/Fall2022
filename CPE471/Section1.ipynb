{
 "cells": [
  {
   "cell_type": "code",
   "execution_count": 2,
   "metadata": {},
   "outputs": [],
   "source": [
    "#Beggining Chapters of CPE471\n",
    "\n",
    "#Imports \n",
    "import pandas as pd\n",
    "from sympy import *"
   ]
  },
  {
   "cell_type": "code",
   "execution_count": 4,
   "metadata": {},
   "outputs": [],
   "source": [
    "a,A,a1,A1,a,A,a2,A2,a,A,a3,A3,a,A,a4,A4,a,A,a5,A5,a,A,a6,A6,a,A,a7,A7,a,A,a8,A8,a,A,a9,A9,a,A,a0,A0,b,B,b1,B1,b,B,b2,B2,b,B,b3,B3,b,B,b4,B4,b,B,b5,B5,b,B,b6,B6,b,B,b7,B7,b,B,b8,B8,b,B,b9,B9,b,B,b0,B0,c,C,c1,C1,c,C,c2,C2,c,C,c3,C3,c,C,c4,C4,c,C,c5,C5,c,C,c6,C6,c,C,c7,C7,c,C,c8,C8,c,C,c9,C9,c,C,c0,C0,d,D,d1,D1,d,D,d2,D2,d,D,d3,D3,d,D,d4,D4,d,D,d5,D5,d,D,d6,D6,d,D,d7,D7,d,D,d8,D8,d,D,d9,D9,d,D,d0,D0,e,E,e1,E1,e,E,e2,E2,e,E,e3,E3,e,E,e4,E4,e,E,e5,E5,e,E,e6,E6,e,E,e7,E7,e,E,e8,E8,e,E,e9,E9,e,E,e0,E0,f,F,f1,F1,f,F,f2,F2,f,F,f3,F3,f,F,f4,F4,f,F,f5,F5,f,F,f6,F6,f,F,f7,F7,f,F,f8,F8,f,F,f9,F9,f,F,f0,F0,g,G,g1,G1,g,G,g2,G2,g,G,g3,G3,g,G,g4,G4,g,G,g5,G5,g,G,g6,G6,g,G,g7,G7,g,G,g8,G8,g,G,g9,G9,g,G,g0,G0,h,H,h1,H1,h,H,h2,H2,h,H,h3,H3,h,H,h4,H4,h,H,h5,H5,h,H,h6,H6,h,H,h7,H7,h,H,h8,H8,h,H,h9,H9,h,H,h0,H0,i,I,i1,I1,i,I,i2,I2,i,I,i3,I3,i,I,i4,I4,i,I,i5,I5,i,I,i6,I6,i,I,i7,I7,i,I,i8,I8,i,I,i9,I9,i,I,i0,I0,j,J,j1,J1,j,J,j2,J2,j,J,j3,J3,j,J,j4,J4,j,J,j5,J5,j,J,j6,J6,j,J,j7,J7,j,J,j8,J8,j,J,j9,J9,j,J,j0,J0,k,K,k1,K1,k,K,k2,K2,k,K,k3,K3,k,K,k4,K4,k,K,k5,K5,k,K,k6,K6,k,K,k7,K7,k,K,k8,K8,k,K,k9,K9,k,K,k0,K0,l,L,l1,L1,l,L,l2,L2,l,L,l3,L3,l,L,l4,L4,l,L,l5,L5,l,L,l6,L6,l,L,l7,L7,l,L,l8,L8,l,L,l9,L9,l,L,l0,L0,m,M,m1,M1,m,M,m2,M2,m,M,m3,M3,m,M,m4,M4,m,M,m5,M5,m,M,m6,M6,m,M,m7,M7,m,M,m8,M8,m,M,m9,M9,m,M,m0,M0,n,N,n1,N1,n,N,n2,N2,n,N,n3,N3,n,N,n4,N4,n,N,n5,N5,n,N,n6,N6,n,N,n7,N7,n,N,n8,N8,n,N,n9,N9,n,N,n0,N0,o,O,o1,O1,o,O,o2,O2,o,O,o3,O3,o,O,o4,O4,o,O,o5,O5,o,O,o6,O6,o,O,o7,O7,o,O,o8,O8,o,O,o9,O9,o,O,o0,O0,p,P,p1,P1,p,P,p2,P2,p,P,p3,P3,p,P,p4,P4,p,P,p5,P5,p,P,p6,P6,p,P,p7,P7,p,P,p8,P8,p,P,p9,P9,p,P,p0,P0,q,Q,q1,Q1,q,Q,q2,Q2,q,Q,q3,Q3,q,Q,q4,Q4,q,Q,q5,Q5,q,Q,q6,Q6,q,Q,q7,Q7,q,Q,q8,Q8,q,Q,q9,Q9,q,Q,q0,Q0,r,R,r1,R1,r,R,r2,R2,r,R,r3,R3,r,R,r4,R4,r,R,r5,R5,r,R,r6,R6,r,R,r7,R7,r,R,r8,R8,r,R,r9,R9,r,R,r0,R0,s,S,s1,S1,s,S,s2,S2,s,S,s3,S3,s,S,s4,S4,s,S,s5,S5,s,S,s6,S6,s,S,s7,S7,s,S,s8,S8,s,S,s9,S9,s,S,s0,S0,t,T,t1,T1,t,T,t2,T2,t,T,t3,T3,t,T,t4,T4,t,T,t5,T5,t,T,t6,T6,t,T,t7,T7,t,T,t8,T8,t,T,t9,T9,t,T,t0,T0,u,U,u1,U1,u,U,u2,U2,u,U,u3,U3,u,U,u4,U4,u,U,u5,U5,u,U,u6,U6,u,U,u7,U7,u,U,u8,U8,u,U,u9,U9,u,U,u0,U0,v,V,v1,V1,v,V,v2,V2,v,V,v3,V3,v,V,v4,V4,v,V,v5,V5,v,V,v6,V6,v,V,v7,V7,v,V,v8,V8,v,V,v9,V9,v,V,v0,V0,w,W,w1,W1,w,W,w2,W2,w,W,w3,W3,w,W,w4,W4,w,W,w5,W5,w,W,w6,W6,w,W,w7,W7,w,W,w8,W8,w,W,w9,W9,w,W,w0,W0,x,X,x1,X1,x,X,x2,X2,x,X,x3,X3,x,X,x4,X4,x,X,x5,X5,x,X,x6,X6,x,X,x7,X7,x,X,x8,X8,x,X,x9,X9,x,X,x0,X0,y,Y,y1,Y1,y,Y,y2,Y2,y,Y,y3,Y3,y,Y,y4,Y4,y,Y,y5,Y5,y,Y,y6,Y6,y,Y,y7,Y7,y,Y,y8,Y8,y,Y,y9,Y9,y,Y,y0,Y0,z,Z,z1,Z1,z,Z,z2,Z2,z,Z,z3,Z3,z,Z,z4,Z4,z,Z,z5,Z5,z,Z,z6,Z6,z,Z,z7,Z7,z,Z,z8,Z8,z,Z,z9,Z9,z,Z,z0,Z0=symbols('a,A,a1,A1,a,A,a2,A2,a,A,a3,A3,a,A,a4,A4,a,A,a5,A5,a,A,a6,A6,a,A,a7,A7,a,A,a8,A8,a,A,a9,A9,a,A,a0,A0,b,B,b1,B1,b,B,b2,B2,b,B,b3,B3,b,B,b4,B4,b,B,b5,B5,b,B,b6,B6,b,B,b7,B7,b,B,b8,B8,b,B,b9,B9,b,B,b0,B0,c,C,c1,C1,c,C,c2,C2,c,C,c3,C3,c,C,c4,C4,c,C,c5,C5,c,C,c6,C6,c,C,c7,C7,c,C,c8,C8,c,C,c9,C9,c,C,c0,C0,d,D,d1,D1,d,D,d2,D2,d,D,d3,D3,d,D,d4,D4,d,D,d5,D5,d,D,d6,D6,d,D,d7,D7,d,D,d8,D8,d,D,d9,D9,d,D,d0,D0,e,E,e1,E1,e,E,e2,E2,e,E,e3,E3,e,E,e4,E4,e,E,e5,E5,e,E,e6,E6,e,E,e7,E7,e,E,e8,E8,e,E,e9,E9,e,E,e0,E0,f,F,f1,F1,f,F,f2,F2,f,F,f3,F3,f,F,f4,F4,f,F,f5,F5,f,F,f6,F6,f,F,f7,F7,f,F,f8,F8,f,F,f9,F9,f,F,f0,F0,g,G,g1,G1,g,G,g2,G2,g,G,g3,G3,g,G,g4,G4,g,G,g5,G5,g,G,g6,G6,g,G,g7,G7,g,G,g8,G8,g,G,g9,G9,g,G,g0,G0,h,H,h1,H1,h,H,h2,H2,h,H,h3,H3,h,H,h4,H4,h,H,h5,H5,h,H,h6,H6,h,H,h7,H7,h,H,h8,H8,h,H,h9,H9,h,H,h0,H0,i,I,i1,I1,i,I,i2,I2,i,I,i3,I3,i,I,i4,I4,i,I,i5,I5,i,I,i6,I6,i,I,i7,I7,i,I,i8,I8,i,I,i9,I9,i,I,i0,I0,j,J,j1,J1,j,J,j2,J2,j,J,j3,J3,j,J,j4,J4,j,J,j5,J5,j,J,j6,J6,j,J,j7,J7,j,J,j8,J8,j,J,j9,J9,j,J,j0,J0,k,K,k1,K1,k,K,k2,K2,k,K,k3,K3,k,K,k4,K4,k,K,k5,K5,k,K,k6,K6,k,K,k7,K7,k,K,k8,K8,k,K,k9,K9,k,K,k0,K0,l,L,l1,L1,l,L,l2,L2,l,L,l3,L3,l,L,l4,L4,l,L,l5,L5,l,L,l6,L6,l,L,l7,L7,l,L,l8,L8,l,L,l9,L9,l,L,l0,L0,m,M,m1,M1,m,M,m2,M2,m,M,m3,M3,m,M,m4,M4,m,M,m5,M5,m,M,m6,M6,m,M,m7,M7,m,M,m8,M8,m,M,m9,M9,m,M,m0,M0,n,N,n1,N1,n,N,n2,N2,n,N,n3,N3,n,N,n4,N4,n,N,n5,N5,n,N,n6,N6,n,N,n7,N7,n,N,n8,N8,n,N,n9,N9,n,N,n0,N0,o,O,o1,O1,o,O,o2,O2,o,O,o3,O3,o,O,o4,O4,o,O,o5,O5,o,O,o6,O6,o,O,o7,O7,o,O,o8,O8,o,O,o9,O9,o,O,o0,O0,p,P,p1,P1,p,P,p2,P2,p,P,p3,P3,p,P,p4,P4,p,P,p5,P5,p,P,p6,P6,p,P,p7,P7,p,P,p8,P8,p,P,p9,P9,p,P,p0,P0,q,Q,q1,Q1,q,Q,q2,Q2,q,Q,q3,Q3,q,Q,q4,Q4,q,Q,q5,Q5,q,Q,q6,Q6,q,Q,q7,Q7,q,Q,q8,Q8,q,Q,q9,Q9,q,Q,q0,Q0,r,R,r1,R1,r,R,r2,R2,r,R,r3,R3,r,R,r4,R4,r,R,r5,R5,r,R,r6,R6,r,R,r7,R7,r,R,r8,R8,r,R,r9,R9,r,R,r0,R0,s,S,s1,S1,s,S,s2,S2,s,S,s3,S3,s,S,s4,S4,s,S,s5,S5,s,S,s6,S6,s,S,s7,S7,s,S,s8,S8,s,S,s9,S9,s,S,s0,S0,t,T,t1,T1,t,T,t2,T2,t,T,t3,T3,t,T,t4,T4,t,T,t5,T5,t,T,t6,T6,t,T,t7,T7,t,T,t8,T8,t,T,t9,T9,t,T,t0,T0,u,U,u1,U1,u,U,u2,U2,u,U,u3,U3,u,U,u4,U4,u,U,u5,U5,u,U,u6,U6,u,U,u7,U7,u,U,u8,U8,u,U,u9,U9,u,U,u0,U0,v,V,v1,V1,v,V,v2,V2,v,V,v3,V3,v,V,v4,V4,v,V,v5,V5,v,V,v6,V6,v,V,v7,V7,v,V,v8,V8,v,V,v9,V9,v,V,v0,V0,w,W,w1,W1,w,W,w2,W2,w,W,w3,W3,w,W,w4,W4,w,W,w5,W5,w,W,w6,W6,w,W,w7,W7,w,W,w8,W8,w,W,w9,W9,w,W,w0,W0,x,X,x1,X1,x,X,x2,X2,x,X,x3,X3,x,X,x4,X4,x,X,x5,X5,x,X,x6,X6,x,X,x7,X7,x,X,x8,X8,x,X,x9,X9,x,X,x0,X0,y,Y,y1,Y1,y,Y,y2,Y2,y,Y,y3,Y3,y,Y,y4,Y4,y,Y,y5,Y5,y,Y,y6,Y6,y,Y,y7,Y7,y,Y,y8,Y8,y,Y,y9,Y9,y,Y,y0,Y0,z,Z,z1,Z1,z,Z,z2,Z2,z,Z,z3,Z3,z,Z,z4,Z4,z,Z,z5,Z5,z,Z,z6,Z6,z,Z,z7,Z7,z,Z,z8,Z8,z,Z,z9,Z9,z,Z,z0,Z0')"
   ]
  },
  {
   "cell_type": "code",
   "execution_count": 6,
   "metadata": {},
   "outputs": [],
   "source": [
    "#Print out equations\n",
    "def printEquations(eqs): \n",
    "    for eq in eqs:\n",
    "        display(eq)"
   ]
  },
  {
   "cell_type": "code",
   "execution_count": 18,
   "metadata": {},
   "outputs": [
    {
     "data": {
      "text/latex": [
       "$\\displaystyle E_{n} = \\frac{2.0 \\cdot 10^{18} \\pi^{2} \\hbar^{2} n^{2}}{m_{e}}$"
      ],
      "text/plain": [
       "Eq(E_n, 2.0e+18*pi**2*hbar**2*n**2/m_e)"
      ]
     },
     "metadata": {},
     "output_type": "display_data"
    }
   ],
   "source": [
    "#Constants\n",
    "reducedPlanksConstant = 1.0545718e-34\n",
    "\n",
    "#Define Symbols\n",
    "energyLevel = Symbol('n')\n",
    "massOfElectron = Symbol('m_e')\n",
    "E_n = Symbol('E_n')\n",
    "reducedPlanksConstant = Symbol('hbar')\n",
    "\n",
    "\n",
    "#Important Equations\n",
    "TotalElectronEnergy = Eq(E_n,reducedPlanksConstant**2*energyLevel**2*pi**2/(2*massOfElectron*a**2))\n",
    "\n",
    "eqs = [ \n",
    "    TotalElectronEnergy\n",
    "]\n",
    "\n",
    "printEquations(eqs)\n",
    "\n",
    "\n"
   ]
  },
  {
   "cell_type": "code",
   "execution_count": 19,
   "metadata": {},
   "outputs": [
    {
     "name": "stdout",
     "output_type": "stream",
     "text": [
      "Energy Level 1 : 2.41e-19 Joules\n",
      "Energy Level 1 : 1.50 eV\n",
      "Energy Level 2 : 9.64e-19 Joules\n",
      "Energy Level 2 : 6.02 eV\n",
      "Energy Level 3 : 2.17e-18 Joules\n",
      "Energy Level 3 : 13.5 eV\n"
     ]
    }
   ],
   "source": [
    "#Calculate the first three energy levels of an electron in an infinite potential well. \n",
    "#Consider an electron in an infinite potential well of width 5 Å.\n",
    "\n",
    "#Constants\n",
    "massOfElectron = 9.10938356e-31\n",
    "reducedPlanksConstant = 1.0545718e-34\n",
    "a = 5e-10\n",
    "\n",
    "#For the first three energy levels\n",
    "for n in range(1,4):\n",
    "    energy = reducedPlanksConstant**2*n**2*pi**2/(2*massOfElectron*a**2)\n",
    "    print(\"Energy Level\",n,\":\",Float(float(energy),3),\"Joules\")\n",
    "    #Convert to eV \n",
    "    print(\"Energy Level\",n,\":\",Float(float(energy)/1.602176634e-19,3),\"eV\")\n"
   ]
  },
  {
   "cell_type": "code",
   "execution_count": 13,
   "metadata": {},
   "outputs": [
    {
     "data": {
      "text/latex": [
       "$\\displaystyle E_{k} = 0.5 \\delta_{v}^{2} m_{e} + 1.0 \\delta_{v} m_{e} v$"
      ],
      "text/plain": [
       "Eq(E_k, 0.5*delta_v**2*m_e + 1.0*delta_v*m_e*v)"
      ]
     },
     "metadata": {},
     "output_type": "display_data"
    },
    {
     "name": "stdout",
     "output_type": "stream",
     "text": [
      "Change in KE: 5.69e-5 eV\n"
     ]
    }
   ],
   "source": [
    "#Calculate the change in kinetic energy of an electron when the velocity changes by a small amount\n",
    "\n",
    "#Define Symbols\n",
    "velocity = Symbol('v')\n",
    "velocityChange = Symbol('delta_v')\n",
    "massOfElectron = Symbol('m_e')\n",
    "kineticEnergy = Symbol('E_k')\n",
    "\n",
    "#Equations \n",
    "KineticEnergy = Eq(kineticEnergy,1/2*massOfElectron*velocity**2)\n",
    "KineticEnergyChange = Eq(kineticEnergy,1/2*massOfElectron*(velocity+velocityChange)**2-1/2*massOfElectron*velocity**2)\n",
    "\n",
    "eqs = [ \n",
    "    expand(KineticEnergyChange)\n",
    "]\n",
    "\n",
    "printEquations(eqs)\n",
    "\n",
    "#Consider an electron traveling at velocity 10**7 cm/s. Assume that the velocity increases by a value of 1 cm/s. \n",
    "#Calculate the change in kinetic energy of the electron in eVs.\n",
    "velocity = 10**7\n",
    "velocityChange = 1\n",
    "massOfElectron = 9.10938356e-31\n",
    "\n",
    "changeInKE = 1/2*massOfElectron*(velocity+velocityChange)**2-1/2*massOfElectron*velocity**2\n",
    "print(\"Change in KE:\",Float(float(changeInKE)/1.602176634e-19,3),\"eV\")"
   ]
  },
  {
   "cell_type": "code",
   "execution_count": 41,
   "metadata": {},
   "outputs": [
    {
     "name": "stdout",
     "output_type": "stream",
     "text": [
      "Number of States: 2.12e+25\n"
     ]
    }
   ],
   "source": [
    "#3.26 (a) Determine the total number (#/cm3) of energy states in silicon between Ec and\n",
    "#Ec + 2kT at (i) T=300 K and (ii) T=400 K. \n",
    "\n",
    "#(i)\n",
    "\n",
    "#Vars (for silicon)\n",
    "m_n = 1.08*9.10938356e-31\n",
    "hbar = 6.625e-34\n",
    "k = 1.38e-23\n",
    "\n",
    "\n",
    "#Symbols\n",
    "E = Symbol('E')\n",
    "N = Symbol('N')\n",
    "E_c = Symbol('E_c')\n",
    "\n",
    "#Given\n",
    "T = 300\n",
    "\n",
    "#Equations\n",
    "numStatesEquation = Eq(4*pi*(2*m_n)**(3/2)*(2/3)*(E-E_c)**(3/2)/(hbar**3),N)\n",
    "\n",
    "#Solve btwn Ec and Ec + kT\n",
    "numStatesA = solve(numStatesEquation.subs(E,E_c+k*T),N)[0]\n",
    "numStatesB = solve(numStatesEquation.subs(E,E_c),N)[0]\n",
    "numStates = numStatesA-numStatesB\n",
    "\n",
    "print(\"Number of States:\",Float(float(numStates),3))\n",
    "\n",
    "\n",
    "\n",
    "\n",
    "\n",
    "\n",
    "# (b) Repeat part (a) for GaAs. "
   ]
  },
  {
   "cell_type": "code",
   "execution_count": null,
   "metadata": {},
   "outputs": [],
   "source": []
  }
 ],
 "metadata": {
  "kernelspec": {
   "display_name": "Python 3.10.6 64-bit",
   "language": "python",
   "name": "python3"
  },
  "language_info": {
   "codemirror_mode": {
    "name": "ipython",
    "version": 3
   },
   "file_extension": ".py",
   "mimetype": "text/x-python",
   "name": "python",
   "nbconvert_exporter": "python",
   "pygments_lexer": "ipython3",
   "version": "3.10.6"
  },
  "orig_nbformat": 4,
  "vscode": {
   "interpreter": {
    "hash": "aee8b7b246df8f9039afb4144a1f6fd8d2ca17a180786b69acc140d282b71a49"
   }
  }
 },
 "nbformat": 4,
 "nbformat_minor": 2
}
