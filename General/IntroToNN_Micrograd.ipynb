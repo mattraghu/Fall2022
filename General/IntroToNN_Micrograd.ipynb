{
 "cells": [
  {
   "cell_type": "code",
   "execution_count": 2,
   "metadata": {},
   "outputs": [],
   "source": [
    "import math \n",
    "import numpy as np \n",
    "import plotly.express as px \n",
    "import plotly.io as pio\n",
    "import plotly.graph_objects as go\n",
    "import matplotlib.pyplot as plt\n",
    "import random\n",
    "\n",
    "%matplotlib inline\n",
    "pio.templates.default = \"plotly_dark\""
   ]
  },
  {
   "cell_type": "code",
   "execution_count": 6,
   "metadata": {},
   "outputs": [
    {
     "data": {
      "application/vnd.plotly.v1+json": {
       "config": {
        "plotlyServerURL": "https://plot.ly"
       },
       "data": [
        {
         "hovertemplate": "x=%{x}<br>y=%{y}<extra></extra>",
         "legendgroup": "",
         "line": {
          "color": "#636efa",
          "dash": "solid"
         },
         "marker": {
          "symbol": "circle"
         },
         "mode": "lines",
         "name": "",
         "orientation": "v",
         "showlegend": false,
         "type": "scatter",
         "x": [
          -5,
          -4.75,
          -4.5,
          -4.25,
          -4,
          -3.75,
          -3.5,
          -3.25,
          -3,
          -2.75,
          -2.5,
          -2.25,
          -2,
          -1.75,
          -1.5,
          -1.25,
          -1,
          -0.75,
          -0.5,
          -0.25,
          0,
          0.25,
          0.5,
          0.75,
          1,
          1.25,
          1.5,
          1.75,
          2,
          2.25,
          2.5,
          2.75,
          3,
          3.25,
          3.5,
          3.75,
          4,
          4.25,
          4.5,
          4.75
         ],
         "xaxis": "x",
         "y": [
          100,
          91.6875,
          83.75,
          76.1875,
          69,
          62.1875,
          55.75,
          49.6875,
          44,
          38.6875,
          33.75,
          29.1875,
          25,
          21.1875,
          17.75,
          14.6875,
          12,
          9.6875,
          7.75,
          6.1875,
          5,
          4.1875,
          3.75,
          3.6875,
          4,
          4.6875,
          5.75,
          7.1875,
          9,
          11.1875,
          13.75,
          16.6875,
          20,
          23.6875,
          27.75,
          32.1875,
          37,
          42.1875,
          47.75,
          53.6875
         ],
         "yaxis": "y"
        }
       ],
       "layout": {
        "legend": {
         "tracegroupgap": 0
        },
        "margin": {
         "t": 60
        },
        "template": {
         "data": {
          "bar": [
           {
            "error_x": {
             "color": "#f2f5fa"
            },
            "error_y": {
             "color": "#f2f5fa"
            },
            "marker": {
             "line": {
              "color": "rgb(17,17,17)",
              "width": 0.5
             },
             "pattern": {
              "fillmode": "overlay",
              "size": 10,
              "solidity": 0.2
             }
            },
            "type": "bar"
           }
          ],
          "barpolar": [
           {
            "marker": {
             "line": {
              "color": "rgb(17,17,17)",
              "width": 0.5
             },
             "pattern": {
              "fillmode": "overlay",
              "size": 10,
              "solidity": 0.2
             }
            },
            "type": "barpolar"
           }
          ],
          "carpet": [
           {
            "aaxis": {
             "endlinecolor": "#A2B1C6",
             "gridcolor": "#506784",
             "linecolor": "#506784",
             "minorgridcolor": "#506784",
             "startlinecolor": "#A2B1C6"
            },
            "baxis": {
             "endlinecolor": "#A2B1C6",
             "gridcolor": "#506784",
             "linecolor": "#506784",
             "minorgridcolor": "#506784",
             "startlinecolor": "#A2B1C6"
            },
            "type": "carpet"
           }
          ],
          "choropleth": [
           {
            "colorbar": {
             "outlinewidth": 0,
             "ticks": ""
            },
            "type": "choropleth"
           }
          ],
          "contour": [
           {
            "colorbar": {
             "outlinewidth": 0,
             "ticks": ""
            },
            "colorscale": [
             [
              0,
              "#0d0887"
             ],
             [
              0.1111111111111111,
              "#46039f"
             ],
             [
              0.2222222222222222,
              "#7201a8"
             ],
             [
              0.3333333333333333,
              "#9c179e"
             ],
             [
              0.4444444444444444,
              "#bd3786"
             ],
             [
              0.5555555555555556,
              "#d8576b"
             ],
             [
              0.6666666666666666,
              "#ed7953"
             ],
             [
              0.7777777777777778,
              "#fb9f3a"
             ],
             [
              0.8888888888888888,
              "#fdca26"
             ],
             [
              1,
              "#f0f921"
             ]
            ],
            "type": "contour"
           }
          ],
          "contourcarpet": [
           {
            "colorbar": {
             "outlinewidth": 0,
             "ticks": ""
            },
            "type": "contourcarpet"
           }
          ],
          "heatmap": [
           {
            "colorbar": {
             "outlinewidth": 0,
             "ticks": ""
            },
            "colorscale": [
             [
              0,
              "#0d0887"
             ],
             [
              0.1111111111111111,
              "#46039f"
             ],
             [
              0.2222222222222222,
              "#7201a8"
             ],
             [
              0.3333333333333333,
              "#9c179e"
             ],
             [
              0.4444444444444444,
              "#bd3786"
             ],
             [
              0.5555555555555556,
              "#d8576b"
             ],
             [
              0.6666666666666666,
              "#ed7953"
             ],
             [
              0.7777777777777778,
              "#fb9f3a"
             ],
             [
              0.8888888888888888,
              "#fdca26"
             ],
             [
              1,
              "#f0f921"
             ]
            ],
            "type": "heatmap"
           }
          ],
          "heatmapgl": [
           {
            "colorbar": {
             "outlinewidth": 0,
             "ticks": ""
            },
            "colorscale": [
             [
              0,
              "#0d0887"
             ],
             [
              0.1111111111111111,
              "#46039f"
             ],
             [
              0.2222222222222222,
              "#7201a8"
             ],
             [
              0.3333333333333333,
              "#9c179e"
             ],
             [
              0.4444444444444444,
              "#bd3786"
             ],
             [
              0.5555555555555556,
              "#d8576b"
             ],
             [
              0.6666666666666666,
              "#ed7953"
             ],
             [
              0.7777777777777778,
              "#fb9f3a"
             ],
             [
              0.8888888888888888,
              "#fdca26"
             ],
             [
              1,
              "#f0f921"
             ]
            ],
            "type": "heatmapgl"
           }
          ],
          "histogram": [
           {
            "marker": {
             "pattern": {
              "fillmode": "overlay",
              "size": 10,
              "solidity": 0.2
             }
            },
            "type": "histogram"
           }
          ],
          "histogram2d": [
           {
            "colorbar": {
             "outlinewidth": 0,
             "ticks": ""
            },
            "colorscale": [
             [
              0,
              "#0d0887"
             ],
             [
              0.1111111111111111,
              "#46039f"
             ],
             [
              0.2222222222222222,
              "#7201a8"
             ],
             [
              0.3333333333333333,
              "#9c179e"
             ],
             [
              0.4444444444444444,
              "#bd3786"
             ],
             [
              0.5555555555555556,
              "#d8576b"
             ],
             [
              0.6666666666666666,
              "#ed7953"
             ],
             [
              0.7777777777777778,
              "#fb9f3a"
             ],
             [
              0.8888888888888888,
              "#fdca26"
             ],
             [
              1,
              "#f0f921"
             ]
            ],
            "type": "histogram2d"
           }
          ],
          "histogram2dcontour": [
           {
            "colorbar": {
             "outlinewidth": 0,
             "ticks": ""
            },
            "colorscale": [
             [
              0,
              "#0d0887"
             ],
             [
              0.1111111111111111,
              "#46039f"
             ],
             [
              0.2222222222222222,
              "#7201a8"
             ],
             [
              0.3333333333333333,
              "#9c179e"
             ],
             [
              0.4444444444444444,
              "#bd3786"
             ],
             [
              0.5555555555555556,
              "#d8576b"
             ],
             [
              0.6666666666666666,
              "#ed7953"
             ],
             [
              0.7777777777777778,
              "#fb9f3a"
             ],
             [
              0.8888888888888888,
              "#fdca26"
             ],
             [
              1,
              "#f0f921"
             ]
            ],
            "type": "histogram2dcontour"
           }
          ],
          "mesh3d": [
           {
            "colorbar": {
             "outlinewidth": 0,
             "ticks": ""
            },
            "type": "mesh3d"
           }
          ],
          "parcoords": [
           {
            "line": {
             "colorbar": {
              "outlinewidth": 0,
              "ticks": ""
             }
            },
            "type": "parcoords"
           }
          ],
          "pie": [
           {
            "automargin": true,
            "type": "pie"
           }
          ],
          "scatter": [
           {
            "marker": {
             "line": {
              "color": "#283442"
             }
            },
            "type": "scatter"
           }
          ],
          "scatter3d": [
           {
            "line": {
             "colorbar": {
              "outlinewidth": 0,
              "ticks": ""
             }
            },
            "marker": {
             "colorbar": {
              "outlinewidth": 0,
              "ticks": ""
             }
            },
            "type": "scatter3d"
           }
          ],
          "scattercarpet": [
           {
            "marker": {
             "colorbar": {
              "outlinewidth": 0,
              "ticks": ""
             }
            },
            "type": "scattercarpet"
           }
          ],
          "scattergeo": [
           {
            "marker": {
             "colorbar": {
              "outlinewidth": 0,
              "ticks": ""
             }
            },
            "type": "scattergeo"
           }
          ],
          "scattergl": [
           {
            "marker": {
             "line": {
              "color": "#283442"
             }
            },
            "type": "scattergl"
           }
          ],
          "scattermapbox": [
           {
            "marker": {
             "colorbar": {
              "outlinewidth": 0,
              "ticks": ""
             }
            },
            "type": "scattermapbox"
           }
          ],
          "scatterpolar": [
           {
            "marker": {
             "colorbar": {
              "outlinewidth": 0,
              "ticks": ""
             }
            },
            "type": "scatterpolar"
           }
          ],
          "scatterpolargl": [
           {
            "marker": {
             "colorbar": {
              "outlinewidth": 0,
              "ticks": ""
             }
            },
            "type": "scatterpolargl"
           }
          ],
          "scatterternary": [
           {
            "marker": {
             "colorbar": {
              "outlinewidth": 0,
              "ticks": ""
             }
            },
            "type": "scatterternary"
           }
          ],
          "surface": [
           {
            "colorbar": {
             "outlinewidth": 0,
             "ticks": ""
            },
            "colorscale": [
             [
              0,
              "#0d0887"
             ],
             [
              0.1111111111111111,
              "#46039f"
             ],
             [
              0.2222222222222222,
              "#7201a8"
             ],
             [
              0.3333333333333333,
              "#9c179e"
             ],
             [
              0.4444444444444444,
              "#bd3786"
             ],
             [
              0.5555555555555556,
              "#d8576b"
             ],
             [
              0.6666666666666666,
              "#ed7953"
             ],
             [
              0.7777777777777778,
              "#fb9f3a"
             ],
             [
              0.8888888888888888,
              "#fdca26"
             ],
             [
              1,
              "#f0f921"
             ]
            ],
            "type": "surface"
           }
          ],
          "table": [
           {
            "cells": {
             "fill": {
              "color": "#506784"
             },
             "line": {
              "color": "rgb(17,17,17)"
             }
            },
            "header": {
             "fill": {
              "color": "#2a3f5f"
             },
             "line": {
              "color": "rgb(17,17,17)"
             }
            },
            "type": "table"
           }
          ]
         },
         "layout": {
          "annotationdefaults": {
           "arrowcolor": "#f2f5fa",
           "arrowhead": 0,
           "arrowwidth": 1
          },
          "autotypenumbers": "strict",
          "coloraxis": {
           "colorbar": {
            "outlinewidth": 0,
            "ticks": ""
           }
          },
          "colorscale": {
           "diverging": [
            [
             0,
             "#8e0152"
            ],
            [
             0.1,
             "#c51b7d"
            ],
            [
             0.2,
             "#de77ae"
            ],
            [
             0.3,
             "#f1b6da"
            ],
            [
             0.4,
             "#fde0ef"
            ],
            [
             0.5,
             "#f7f7f7"
            ],
            [
             0.6,
             "#e6f5d0"
            ],
            [
             0.7,
             "#b8e186"
            ],
            [
             0.8,
             "#7fbc41"
            ],
            [
             0.9,
             "#4d9221"
            ],
            [
             1,
             "#276419"
            ]
           ],
           "sequential": [
            [
             0,
             "#0d0887"
            ],
            [
             0.1111111111111111,
             "#46039f"
            ],
            [
             0.2222222222222222,
             "#7201a8"
            ],
            [
             0.3333333333333333,
             "#9c179e"
            ],
            [
             0.4444444444444444,
             "#bd3786"
            ],
            [
             0.5555555555555556,
             "#d8576b"
            ],
            [
             0.6666666666666666,
             "#ed7953"
            ],
            [
             0.7777777777777778,
             "#fb9f3a"
            ],
            [
             0.8888888888888888,
             "#fdca26"
            ],
            [
             1,
             "#f0f921"
            ]
           ],
           "sequentialminus": [
            [
             0,
             "#0d0887"
            ],
            [
             0.1111111111111111,
             "#46039f"
            ],
            [
             0.2222222222222222,
             "#7201a8"
            ],
            [
             0.3333333333333333,
             "#9c179e"
            ],
            [
             0.4444444444444444,
             "#bd3786"
            ],
            [
             0.5555555555555556,
             "#d8576b"
            ],
            [
             0.6666666666666666,
             "#ed7953"
            ],
            [
             0.7777777777777778,
             "#fb9f3a"
            ],
            [
             0.8888888888888888,
             "#fdca26"
            ],
            [
             1,
             "#f0f921"
            ]
           ]
          },
          "colorway": [
           "#636efa",
           "#EF553B",
           "#00cc96",
           "#ab63fa",
           "#FFA15A",
           "#19d3f3",
           "#FF6692",
           "#B6E880",
           "#FF97FF",
           "#FECB52"
          ],
          "font": {
           "color": "#f2f5fa"
          },
          "geo": {
           "bgcolor": "rgb(17,17,17)",
           "lakecolor": "rgb(17,17,17)",
           "landcolor": "rgb(17,17,17)",
           "showlakes": true,
           "showland": true,
           "subunitcolor": "#506784"
          },
          "hoverlabel": {
           "align": "left"
          },
          "hovermode": "closest",
          "mapbox": {
           "style": "dark"
          },
          "paper_bgcolor": "rgb(17,17,17)",
          "plot_bgcolor": "rgb(17,17,17)",
          "polar": {
           "angularaxis": {
            "gridcolor": "#506784",
            "linecolor": "#506784",
            "ticks": ""
           },
           "bgcolor": "rgb(17,17,17)",
           "radialaxis": {
            "gridcolor": "#506784",
            "linecolor": "#506784",
            "ticks": ""
           }
          },
          "scene": {
           "xaxis": {
            "backgroundcolor": "rgb(17,17,17)",
            "gridcolor": "#506784",
            "gridwidth": 2,
            "linecolor": "#506784",
            "showbackground": true,
            "ticks": "",
            "zerolinecolor": "#C8D4E3"
           },
           "yaxis": {
            "backgroundcolor": "rgb(17,17,17)",
            "gridcolor": "#506784",
            "gridwidth": 2,
            "linecolor": "#506784",
            "showbackground": true,
            "ticks": "",
            "zerolinecolor": "#C8D4E3"
           },
           "zaxis": {
            "backgroundcolor": "rgb(17,17,17)",
            "gridcolor": "#506784",
            "gridwidth": 2,
            "linecolor": "#506784",
            "showbackground": true,
            "ticks": "",
            "zerolinecolor": "#C8D4E3"
           }
          },
          "shapedefaults": {
           "line": {
            "color": "#f2f5fa"
           }
          },
          "sliderdefaults": {
           "bgcolor": "#C8D4E3",
           "bordercolor": "rgb(17,17,17)",
           "borderwidth": 1,
           "tickwidth": 0
          },
          "ternary": {
           "aaxis": {
            "gridcolor": "#506784",
            "linecolor": "#506784",
            "ticks": ""
           },
           "baxis": {
            "gridcolor": "#506784",
            "linecolor": "#506784",
            "ticks": ""
           },
           "bgcolor": "rgb(17,17,17)",
           "caxis": {
            "gridcolor": "#506784",
            "linecolor": "#506784",
            "ticks": ""
           }
          },
          "title": {
           "x": 0.05
          },
          "updatemenudefaults": {
           "bgcolor": "#506784",
           "borderwidth": 0
          },
          "xaxis": {
           "automargin": true,
           "gridcolor": "#283442",
           "linecolor": "#506784",
           "ticks": "",
           "title": {
            "standoff": 15
           },
           "zerolinecolor": "#283442",
           "zerolinewidth": 2
          },
          "yaxis": {
           "automargin": true,
           "gridcolor": "#283442",
           "linecolor": "#506784",
           "ticks": "",
           "title": {
            "standoff": 15
           },
           "zerolinecolor": "#283442",
           "zerolinewidth": 2
          }
         }
        },
        "xaxis": {
         "anchor": "y",
         "domain": [
          0,
          1
         ],
         "title": {
          "text": "x"
         }
        },
        "yaxis": {
         "anchor": "x",
         "domain": [
          0,
          1
         ],
         "title": {
          "text": "y"
         }
        }
       }
      }
     },
     "metadata": {},
     "output_type": "display_data"
    }
   ],
   "source": [
    "#Part 1- Derivatives\n",
    "\n",
    "def f(x):\n",
    "    return 3*x**2 - 4*x + 5\n",
    "\n",
    "#Plot f(x) btween -5 and 5 in steps of .25 using plotly \n",
    "x = np.arange(-5,5,.25)\n",
    "y = f(x)\n",
    "fig = px.line(x=x,y=y)\n",
    "fig.show()\n"
   ]
  },
  {
   "cell_type": "code",
   "execution_count": 7,
   "metadata": {},
   "outputs": [
    {
     "name": "stdout",
     "output_type": "stream",
     "text": [
      "Derivative at x=3 is:  13.997691894473974\n"
     ]
    }
   ],
   "source": [
    "#In neural nets, we dont calculate derivatives by hand (symbollically) \n",
    "#Derivative Definition:\n",
    "#L = lim h->0 (f(x+h) - f(x))/h\n",
    "\n",
    "h = 1E-13 #Something small\n",
    "x = 3\n",
    "derivative = (f(x+h) - f(x))/h\n",
    "print(\"Derivative at x=3 is: \", derivative)"
   ]
  },
  {
   "cell_type": "code",
   "execution_count": 267,
   "metadata": {},
   "outputs": [],
   "source": [
    "#Create a class \"Value\" that stores a value\n",
    "class Value:\n",
    "    def __init__(self, data, label = '', _children=(), _op=''): #Double underscore methods are called \"magic methods\"\n",
    "        self.data = data\n",
    "        self._prev = list(_children)\n",
    "        self._op = _op\n",
    "        self.grad = 0 \n",
    "        self.label = label\n",
    "\n",
    "    def __repr__(self):\n",
    "        return f\"Value({ self.data}, {self.label})\"\n",
    "\n",
    "    def __add__(self, other): #Called when we use the \"+\" operator\n",
    "        if not isinstance(other, Value):\n",
    "            other = Value(other)\n",
    "        return Value(self.data+other.data, _children=(self,other), _op='+')\n",
    "\n",
    "    def __radd__(self, other):\n",
    "        return self + other\n",
    "\n",
    "    def __sub__(self, other):\n",
    "        return self + -other\n",
    "\n",
    "    def __rsub__(self, other):\n",
    "        return -other + self\n",
    "\n",
    "    def __mul__(self, other): #Called when we use the \"*\" operator\n",
    "        #If its a number, create a new Value object\n",
    "        if not isinstance(other, Value):\n",
    "            other = Value(other)\n",
    "\n",
    "        return Value(self.data*other.data, _children = (self, other), _op='*')\n",
    "\n",
    "    def __pow__(self,other):\n",
    "        if not isinstance(other, Value):\n",
    "            other = Value(other)\n",
    "        return Value(self.data**other.data, _children=(self,other), _op='**')\n",
    "\n",
    "    def __truediv__(self, other):\n",
    "        if not isinstance(other, Value):\n",
    "            other = Value(other)\n",
    "\n",
    "        return Value(self.data/other.data, _children=(self,other), _op='/')\n",
    "\n",
    "    def __rmul__(self, other): #other * self\n",
    "        return self*other\n",
    "\n",
    "    def __neg__(self):\n",
    "        return self * -1\n",
    "\n",
    "    def tanh(self):\n",
    "        return Value(math.tanh(self.data), _children=(self,), _op='tanh')\n",
    "\n",
    "    def exp(self):\n",
    "        return Value(math.exp(self.data), _children=(self,), _op='exp')\n",
    "\n",
    "\n",
    "    #Backward pass\n",
    "    def backwards(self, prevGrad = 1, prevOp = '', prevOther = 1):\n",
    "        \n",
    "        if prevOp == '*':\n",
    "            self.grad += prevGrad*prevOther\n",
    "        elif prevOp == \"+\":\n",
    "            self.grad += prevGrad\n",
    "        elif prevOp == 'tanh':\n",
    "            self.grad += (1 - prevOther**2)*prevGrad\n",
    "        elif prevOp == 'exp':\n",
    "            self.grad += math.exp(self.data)*prevGrad\n",
    "        elif prevOp == '**':\n",
    "            self.grad += prevOther*self.data**(prevOther-1)*prevGrad\n",
    "        elif prevOp == '/':\n",
    "            self.grad += prevGrad/prevOther\n",
    "\n",
    "        else:\n",
    "            self.grad += 1\n",
    "\n",
    "        if not self._prev:\n",
    "            return \n",
    "\n",
    "        prev2 = self._prev[1] if len(self._prev) > 1 else self \n",
    "\n",
    "        self._prev[0].backwards(self.grad,self._op,prev2.data) \n",
    "        if prev2 != self:\n",
    "            self._prev[1].backwards(self.grad,self._op,self._prev[0].data) \n"
   ]
  },
  {
   "cell_type": "markdown",
   "metadata": {},
   "source": [
    "Chain Rule\n",
    "----------\n",
    "The chain rule is a fundamental rule in calculus that allows us to compute the derivative of a function that is composed of other functions. For example, if we have a function f(x) = g(h(x)), then the derivative of f with respect to x is given by:\n",
    "\n",
    "$$\\frac{dz}{dx} = \\frac{dz}{dy} \\frac{dy}{dx}$$\n"
   ]
  },
  {
   "cell_type": "code",
   "execution_count": 5,
   "metadata": {},
   "outputs": [],
   "source": [
    "from graphviz import Digraph\n",
    "\n",
    "def trace(root):\n",
    "  # builds a set of all nodes and edges in a graph\n",
    "  nodes, edges = set(), set()\n",
    "  def build(v):\n",
    "    if v not in nodes:\n",
    "      nodes.add(v)\n",
    "      for child in v._prev:\n",
    "        edges.add((child, v))\n",
    "        build(child)\n",
    "  build(root)\n",
    "  return nodes, edges\n",
    "\n",
    "def draw_dot(root):\n",
    "  dot = Digraph(format='svg', graph_attr={'rankdir': 'LR'}) # LR = left to right\n",
    "  \n",
    "  nodes, edges = trace(root)\n",
    "  for n in nodes:\n",
    "    uid = str(id(n))\n",
    "    # for any value in the graph, create a rectangular ('record') node for it\n",
    "    dot.node(name = uid, label = \"{ %s | data %.4f | grad %.4f }\" % ('', n.data, n.grad), shape='record')\n",
    "    if n._op:\n",
    "      # if this value is a result of some operation, create an op node for it\n",
    "      dot.node(name = uid + n._op, label = n._op)\n",
    "      # and connect this node to it\n",
    "      dot.edge(uid + n._op, uid)\n",
    "\n",
    "  for n1, n2 in edges:\n",
    "    # connect n1 to the op node of n2\n",
    "    dot.edge(str(id(n1)), str(id(n2)) + n2._op)\n",
    "\n",
    "  return dot\n"
   ]
  },
  {
   "cell_type": "code",
   "execution_count": 6,
   "metadata": {},
   "outputs": [],
   "source": [
    "a = Value(1,'a')\n",
    "b = Value(7,'b') \n",
    "c = a + b \n",
    "c.label = 'c'\n",
    "d = Value(3,'d')\n",
    "e = c * d ; e.label = 'e'\n",
    "\n",
    "e.backwards()"
   ]
  },
  {
   "cell_type": "code",
   "execution_count": 246,
   "metadata": {},
   "outputs": [],
   "source": [
    "#Given a first node, generate a graph of the entire computation graph using plotly\n",
    "import networkx as nx\n",
    "\n",
    "def draw_graph(root):\n",
    "    nodes, edges = trace(root)\n",
    "    \n",
    "\n",
    "    G = nx.DiGraph()\n",
    "    G.add_nodes_from(nodes)\n",
    "    G.add_edges_from(edges)\n",
    "\n",
    "    pos = nx.spring_layout(G)\n",
    "    \n",
    "    node_x = []\n",
    "    node_y = []\n",
    "\n",
    "    node_label = []\n",
    "    node_value = []\n",
    "\n",
    "    for node in G.nodes():\n",
    "        x, y = pos[node]\n",
    "        node_x.append(x)\n",
    "        node_y.append(y)\n",
    "        node_label.append(node.label)\n",
    "        node_value.append(node.data)\n",
    "\n",
    "    node_trace = go.Scatter(\n",
    "        x=node_x, y=node_y,\n",
    "        mode='markers+text',\n",
    "        hoverinfo='text',\n",
    "        text=node_label,\n",
    "\n",
    "        marker=dict(\n",
    "            size = 20,\n",
    "            color = \"darkblue\",\n",
    "            \n",
    "\n",
    "        )\n",
    "    )\n",
    "    \n",
    "    \n",
    "    #Set text to , v = node_value, grad = node.grad (round to 2 decimal places)\n",
    "    # node_trace.text = [f\"{node.label} = {round(node.data,3)}, grad = {round(node.grad,3)}\" for node in G.nodes()]\n",
    "    node_trace.text = [f\"{node.grad}\" for node in G.nodes()]\n",
    "    \n",
    "\n",
    "\n",
    "\n",
    "    #Make edges\n",
    "    edge_x = []\n",
    "    edge_y = []\n",
    "\n",
    "    ops_x = []\n",
    "    ops_y = []\n",
    "\n",
    "    ops = []\n",
    "\n",
    "    for edge in G.edges():\n",
    "        x0, y0 = pos[edge[0]]\n",
    "        x1, y1 = pos[edge[1]]\n",
    "        edge_x.append(x0)\n",
    "        edge_x.append(x1)\n",
    "        edge_x.append(None)\n",
    "        edge_y.append(y0)\n",
    "        edge_y.append(y1)\n",
    "        edge_y.append(None)\n",
    "\n",
    "        ops.append(edge[1]._op)\n",
    "\n",
    "        #Create an operations node in the middle of the edge\n",
    "        ops_x.append((x0+x1)/2)\n",
    "        ops_y.append((y0+y1)/2)\n",
    "\n",
    "\n",
    "    edge_trace = go.Scatter(\n",
    "        x=edge_x, y=edge_y,\n",
    "        line=dict(width=3, color='#888'),\n",
    "        hoverinfo='text',\n",
    "        mode='lines',\n",
    "    )\n",
    "    edge_trace.text = ops\n",
    "\n",
    "    ops_trace = go.Scatter(\n",
    "        x=ops_x, y=ops_y,\n",
    "        mode='markers+text',\n",
    "        hoverinfo='text',\n",
    "        text=ops,\n",
    "        marker = dict(\n",
    "            size = 10,\n",
    "            color = 'darkred'\n",
    "        ),\n",
    "        textposition = 'middle center'\n",
    "    )\n",
    "\n",
    "\n",
    "    #Show \n",
    "    fig = go.Figure(data=[edge_trace, ops_trace, node_trace])\n",
    "    fig.show()\n"
   ]
  },
  {
   "cell_type": "code",
   "execution_count": 247,
   "metadata": {},
   "outputs": [
    {
     "data": {
      "application/vnd.plotly.v1+json": {
       "config": {
        "plotlyServerURL": "https://plot.ly"
       },
       "data": [
        {
         "hoverinfo": "text",
         "line": {
          "color": "#888",
          "width": 3
         },
         "mode": "lines",
         "text": [
          "+",
          "*",
          "tanh",
          "*",
          "*",
          "+",
          "*",
          "+",
          "+"
         ],
         "type": "scatter",
         "x": [
          -0.8782212880590834,
          -0.5676909705199412,
          null,
          0.9212996235676243,
          0.30741515160819183,
          null,
          -0.5676909705199412,
          -1,
          null,
          0.5933914562439352,
          0.30741515160819183,
          null,
          0.12445437173171296,
          0.16127974549267826,
          null,
          0.30741515160819183,
          -0.3162326434810341,
          null,
          0.6543045534159155,
          0.16127974549267826,
          null,
          0.16127974549267826,
          -0.3162326434810341,
          null,
          -0.3162326434810341,
          -0.5676909705199412,
          null
         ],
         "y": [
          0.23617363598279206,
          -0.025507627487032614,
          null,
          0.3045692988747027,
          0.052983339376251,
          null,
          -0.025507627487032614,
          -0.3768910308458726,
          null,
          0.39476309058425624,
          0.052983339376251,
          null,
          0.13067743841780016,
          -0.2418666737855693,
          null,
          0.052983339376251,
          -0.07977515320174594,
          null,
          -0.3951263179155815,
          -0.2418666737855693,
          null,
          -0.2418666737855693,
          -0.07977515320174594,
          null,
          -0.07977515320174594,
          -0.025507627487032614,
          null
         ]
        },
        {
         "hoverinfo": "text",
         "marker": {
          "color": "darkred",
          "size": 10
         },
         "mode": "markers+text",
         "text": [
          "+",
          "*",
          "tanh",
          "*",
          "*",
          "+",
          "*",
          "+",
          "+"
         ],
         "textposition": "middle center",
         "type": "scatter",
         "x": [
          -0.7229561292895124,
          0.614357387587908,
          -0.7838454852599706,
          0.45040330392606354,
          0.14286705861219562,
          -0.004408745936421127,
          0.40779214945429687,
          -0.07747644899417791,
          -0.44196180700048765
         ],
         "y": [
          0.10533300424787972,
          0.17877631912547684,
          -0.2011993291664526,
          0.22387321498025362,
          -0.05559461768388457,
          -0.01339590691274747,
          -0.3184964958505754,
          -0.16082091349365762,
          -0.05264139034438928
         ]
        },
        {
         "hoverinfo": "text",
         "marker": {
          "color": "darkblue",
          "size": 20
         },
         "mode": "markers+text",
         "text": [
          "0.5000025364090597",
          "1",
          "0.0",
          "0.5000025364090597",
          "0.5000025364090597",
          "-1.500007609227179",
          "0.5000025364090597",
          "1.0000050728181193",
          "0.5000025364090597",
          "0.5000025364090597"
         ],
         "type": "scatter",
         "x": [
          -0.8782212880590834,
          -1,
          0.9212996235676243,
          -0.5676909705199412,
          0.5933914562439352,
          0.12445437173171296,
          0.30741515160819183,
          0.6543045534159155,
          0.16127974549267826,
          -0.3162326434810341
         ],
         "y": [
          0.23617363598279206,
          -0.3768910308458726,
          0.3045692988747027,
          -0.025507627487032614,
          0.39476309058425624,
          0.13067743841780016,
          0.052983339376251,
          -0.3951263179155815,
          -0.2418666737855693,
          -0.07977515320174594
         ]
        }
       ],
       "layout": {
        "template": {
         "data": {
          "bar": [
           {
            "error_x": {
             "color": "#f2f5fa"
            },
            "error_y": {
             "color": "#f2f5fa"
            },
            "marker": {
             "line": {
              "color": "rgb(17,17,17)",
              "width": 0.5
             },
             "pattern": {
              "fillmode": "overlay",
              "size": 10,
              "solidity": 0.2
             }
            },
            "type": "bar"
           }
          ],
          "barpolar": [
           {
            "marker": {
             "line": {
              "color": "rgb(17,17,17)",
              "width": 0.5
             },
             "pattern": {
              "fillmode": "overlay",
              "size": 10,
              "solidity": 0.2
             }
            },
            "type": "barpolar"
           }
          ],
          "carpet": [
           {
            "aaxis": {
             "endlinecolor": "#A2B1C6",
             "gridcolor": "#506784",
             "linecolor": "#506784",
             "minorgridcolor": "#506784",
             "startlinecolor": "#A2B1C6"
            },
            "baxis": {
             "endlinecolor": "#A2B1C6",
             "gridcolor": "#506784",
             "linecolor": "#506784",
             "minorgridcolor": "#506784",
             "startlinecolor": "#A2B1C6"
            },
            "type": "carpet"
           }
          ],
          "choropleth": [
           {
            "colorbar": {
             "outlinewidth": 0,
             "ticks": ""
            },
            "type": "choropleth"
           }
          ],
          "contour": [
           {
            "colorbar": {
             "outlinewidth": 0,
             "ticks": ""
            },
            "colorscale": [
             [
              0,
              "#0d0887"
             ],
             [
              0.1111111111111111,
              "#46039f"
             ],
             [
              0.2222222222222222,
              "#7201a8"
             ],
             [
              0.3333333333333333,
              "#9c179e"
             ],
             [
              0.4444444444444444,
              "#bd3786"
             ],
             [
              0.5555555555555556,
              "#d8576b"
             ],
             [
              0.6666666666666666,
              "#ed7953"
             ],
             [
              0.7777777777777778,
              "#fb9f3a"
             ],
             [
              0.8888888888888888,
              "#fdca26"
             ],
             [
              1,
              "#f0f921"
             ]
            ],
            "type": "contour"
           }
          ],
          "contourcarpet": [
           {
            "colorbar": {
             "outlinewidth": 0,
             "ticks": ""
            },
            "type": "contourcarpet"
           }
          ],
          "heatmap": [
           {
            "colorbar": {
             "outlinewidth": 0,
             "ticks": ""
            },
            "colorscale": [
             [
              0,
              "#0d0887"
             ],
             [
              0.1111111111111111,
              "#46039f"
             ],
             [
              0.2222222222222222,
              "#7201a8"
             ],
             [
              0.3333333333333333,
              "#9c179e"
             ],
             [
              0.4444444444444444,
              "#bd3786"
             ],
             [
              0.5555555555555556,
              "#d8576b"
             ],
             [
              0.6666666666666666,
              "#ed7953"
             ],
             [
              0.7777777777777778,
              "#fb9f3a"
             ],
             [
              0.8888888888888888,
              "#fdca26"
             ],
             [
              1,
              "#f0f921"
             ]
            ],
            "type": "heatmap"
           }
          ],
          "heatmapgl": [
           {
            "colorbar": {
             "outlinewidth": 0,
             "ticks": ""
            },
            "colorscale": [
             [
              0,
              "#0d0887"
             ],
             [
              0.1111111111111111,
              "#46039f"
             ],
             [
              0.2222222222222222,
              "#7201a8"
             ],
             [
              0.3333333333333333,
              "#9c179e"
             ],
             [
              0.4444444444444444,
              "#bd3786"
             ],
             [
              0.5555555555555556,
              "#d8576b"
             ],
             [
              0.6666666666666666,
              "#ed7953"
             ],
             [
              0.7777777777777778,
              "#fb9f3a"
             ],
             [
              0.8888888888888888,
              "#fdca26"
             ],
             [
              1,
              "#f0f921"
             ]
            ],
            "type": "heatmapgl"
           }
          ],
          "histogram": [
           {
            "marker": {
             "pattern": {
              "fillmode": "overlay",
              "size": 10,
              "solidity": 0.2
             }
            },
            "type": "histogram"
           }
          ],
          "histogram2d": [
           {
            "colorbar": {
             "outlinewidth": 0,
             "ticks": ""
            },
            "colorscale": [
             [
              0,
              "#0d0887"
             ],
             [
              0.1111111111111111,
              "#46039f"
             ],
             [
              0.2222222222222222,
              "#7201a8"
             ],
             [
              0.3333333333333333,
              "#9c179e"
             ],
             [
              0.4444444444444444,
              "#bd3786"
             ],
             [
              0.5555555555555556,
              "#d8576b"
             ],
             [
              0.6666666666666666,
              "#ed7953"
             ],
             [
              0.7777777777777778,
              "#fb9f3a"
             ],
             [
              0.8888888888888888,
              "#fdca26"
             ],
             [
              1,
              "#f0f921"
             ]
            ],
            "type": "histogram2d"
           }
          ],
          "histogram2dcontour": [
           {
            "colorbar": {
             "outlinewidth": 0,
             "ticks": ""
            },
            "colorscale": [
             [
              0,
              "#0d0887"
             ],
             [
              0.1111111111111111,
              "#46039f"
             ],
             [
              0.2222222222222222,
              "#7201a8"
             ],
             [
              0.3333333333333333,
              "#9c179e"
             ],
             [
              0.4444444444444444,
              "#bd3786"
             ],
             [
              0.5555555555555556,
              "#d8576b"
             ],
             [
              0.6666666666666666,
              "#ed7953"
             ],
             [
              0.7777777777777778,
              "#fb9f3a"
             ],
             [
              0.8888888888888888,
              "#fdca26"
             ],
             [
              1,
              "#f0f921"
             ]
            ],
            "type": "histogram2dcontour"
           }
          ],
          "mesh3d": [
           {
            "colorbar": {
             "outlinewidth": 0,
             "ticks": ""
            },
            "type": "mesh3d"
           }
          ],
          "parcoords": [
           {
            "line": {
             "colorbar": {
              "outlinewidth": 0,
              "ticks": ""
             }
            },
            "type": "parcoords"
           }
          ],
          "pie": [
           {
            "automargin": true,
            "type": "pie"
           }
          ],
          "scatter": [
           {
            "marker": {
             "line": {
              "color": "#283442"
             }
            },
            "type": "scatter"
           }
          ],
          "scatter3d": [
           {
            "line": {
             "colorbar": {
              "outlinewidth": 0,
              "ticks": ""
             }
            },
            "marker": {
             "colorbar": {
              "outlinewidth": 0,
              "ticks": ""
             }
            },
            "type": "scatter3d"
           }
          ],
          "scattercarpet": [
           {
            "marker": {
             "colorbar": {
              "outlinewidth": 0,
              "ticks": ""
             }
            },
            "type": "scattercarpet"
           }
          ],
          "scattergeo": [
           {
            "marker": {
             "colorbar": {
              "outlinewidth": 0,
              "ticks": ""
             }
            },
            "type": "scattergeo"
           }
          ],
          "scattergl": [
           {
            "marker": {
             "line": {
              "color": "#283442"
             }
            },
            "type": "scattergl"
           }
          ],
          "scattermapbox": [
           {
            "marker": {
             "colorbar": {
              "outlinewidth": 0,
              "ticks": ""
             }
            },
            "type": "scattermapbox"
           }
          ],
          "scatterpolar": [
           {
            "marker": {
             "colorbar": {
              "outlinewidth": 0,
              "ticks": ""
             }
            },
            "type": "scatterpolar"
           }
          ],
          "scatterpolargl": [
           {
            "marker": {
             "colorbar": {
              "outlinewidth": 0,
              "ticks": ""
             }
            },
            "type": "scatterpolargl"
           }
          ],
          "scatterternary": [
           {
            "marker": {
             "colorbar": {
              "outlinewidth": 0,
              "ticks": ""
             }
            },
            "type": "scatterternary"
           }
          ],
          "surface": [
           {
            "colorbar": {
             "outlinewidth": 0,
             "ticks": ""
            },
            "colorscale": [
             [
              0,
              "#0d0887"
             ],
             [
              0.1111111111111111,
              "#46039f"
             ],
             [
              0.2222222222222222,
              "#7201a8"
             ],
             [
              0.3333333333333333,
              "#9c179e"
             ],
             [
              0.4444444444444444,
              "#bd3786"
             ],
             [
              0.5555555555555556,
              "#d8576b"
             ],
             [
              0.6666666666666666,
              "#ed7953"
             ],
             [
              0.7777777777777778,
              "#fb9f3a"
             ],
             [
              0.8888888888888888,
              "#fdca26"
             ],
             [
              1,
              "#f0f921"
             ]
            ],
            "type": "surface"
           }
          ],
          "table": [
           {
            "cells": {
             "fill": {
              "color": "#506784"
             },
             "line": {
              "color": "rgb(17,17,17)"
             }
            },
            "header": {
             "fill": {
              "color": "#2a3f5f"
             },
             "line": {
              "color": "rgb(17,17,17)"
             }
            },
            "type": "table"
           }
          ]
         },
         "layout": {
          "annotationdefaults": {
           "arrowcolor": "#f2f5fa",
           "arrowhead": 0,
           "arrowwidth": 1
          },
          "autotypenumbers": "strict",
          "coloraxis": {
           "colorbar": {
            "outlinewidth": 0,
            "ticks": ""
           }
          },
          "colorscale": {
           "diverging": [
            [
             0,
             "#8e0152"
            ],
            [
             0.1,
             "#c51b7d"
            ],
            [
             0.2,
             "#de77ae"
            ],
            [
             0.3,
             "#f1b6da"
            ],
            [
             0.4,
             "#fde0ef"
            ],
            [
             0.5,
             "#f7f7f7"
            ],
            [
             0.6,
             "#e6f5d0"
            ],
            [
             0.7,
             "#b8e186"
            ],
            [
             0.8,
             "#7fbc41"
            ],
            [
             0.9,
             "#4d9221"
            ],
            [
             1,
             "#276419"
            ]
           ],
           "sequential": [
            [
             0,
             "#0d0887"
            ],
            [
             0.1111111111111111,
             "#46039f"
            ],
            [
             0.2222222222222222,
             "#7201a8"
            ],
            [
             0.3333333333333333,
             "#9c179e"
            ],
            [
             0.4444444444444444,
             "#bd3786"
            ],
            [
             0.5555555555555556,
             "#d8576b"
            ],
            [
             0.6666666666666666,
             "#ed7953"
            ],
            [
             0.7777777777777778,
             "#fb9f3a"
            ],
            [
             0.8888888888888888,
             "#fdca26"
            ],
            [
             1,
             "#f0f921"
            ]
           ],
           "sequentialminus": [
            [
             0,
             "#0d0887"
            ],
            [
             0.1111111111111111,
             "#46039f"
            ],
            [
             0.2222222222222222,
             "#7201a8"
            ],
            [
             0.3333333333333333,
             "#9c179e"
            ],
            [
             0.4444444444444444,
             "#bd3786"
            ],
            [
             0.5555555555555556,
             "#d8576b"
            ],
            [
             0.6666666666666666,
             "#ed7953"
            ],
            [
             0.7777777777777778,
             "#fb9f3a"
            ],
            [
             0.8888888888888888,
             "#fdca26"
            ],
            [
             1,
             "#f0f921"
            ]
           ]
          },
          "colorway": [
           "#636efa",
           "#EF553B",
           "#00cc96",
           "#ab63fa",
           "#FFA15A",
           "#19d3f3",
           "#FF6692",
           "#B6E880",
           "#FF97FF",
           "#FECB52"
          ],
          "font": {
           "color": "#f2f5fa"
          },
          "geo": {
           "bgcolor": "rgb(17,17,17)",
           "lakecolor": "rgb(17,17,17)",
           "landcolor": "rgb(17,17,17)",
           "showlakes": true,
           "showland": true,
           "subunitcolor": "#506784"
          },
          "hoverlabel": {
           "align": "left"
          },
          "hovermode": "closest",
          "mapbox": {
           "style": "dark"
          },
          "paper_bgcolor": "rgb(17,17,17)",
          "plot_bgcolor": "rgb(17,17,17)",
          "polar": {
           "angularaxis": {
            "gridcolor": "#506784",
            "linecolor": "#506784",
            "ticks": ""
           },
           "bgcolor": "rgb(17,17,17)",
           "radialaxis": {
            "gridcolor": "#506784",
            "linecolor": "#506784",
            "ticks": ""
           }
          },
          "scene": {
           "xaxis": {
            "backgroundcolor": "rgb(17,17,17)",
            "gridcolor": "#506784",
            "gridwidth": 2,
            "linecolor": "#506784",
            "showbackground": true,
            "ticks": "",
            "zerolinecolor": "#C8D4E3"
           },
           "yaxis": {
            "backgroundcolor": "rgb(17,17,17)",
            "gridcolor": "#506784",
            "gridwidth": 2,
            "linecolor": "#506784",
            "showbackground": true,
            "ticks": "",
            "zerolinecolor": "#C8D4E3"
           },
           "zaxis": {
            "backgroundcolor": "rgb(17,17,17)",
            "gridcolor": "#506784",
            "gridwidth": 2,
            "linecolor": "#506784",
            "showbackground": true,
            "ticks": "",
            "zerolinecolor": "#C8D4E3"
           }
          },
          "shapedefaults": {
           "line": {
            "color": "#f2f5fa"
           }
          },
          "sliderdefaults": {
           "bgcolor": "#C8D4E3",
           "bordercolor": "rgb(17,17,17)",
           "borderwidth": 1,
           "tickwidth": 0
          },
          "ternary": {
           "aaxis": {
            "gridcolor": "#506784",
            "linecolor": "#506784",
            "ticks": ""
           },
           "baxis": {
            "gridcolor": "#506784",
            "linecolor": "#506784",
            "ticks": ""
           },
           "bgcolor": "rgb(17,17,17)",
           "caxis": {
            "gridcolor": "#506784",
            "linecolor": "#506784",
            "ticks": ""
           }
          },
          "title": {
           "x": 0.05
          },
          "updatemenudefaults": {
           "bgcolor": "#506784",
           "borderwidth": 0
          },
          "xaxis": {
           "automargin": true,
           "gridcolor": "#283442",
           "linecolor": "#506784",
           "ticks": "",
           "title": {
            "standoff": 15
           },
           "zerolinecolor": "#283442",
           "zerolinewidth": 2
          },
          "yaxis": {
           "automargin": true,
           "gridcolor": "#283442",
           "linecolor": "#506784",
           "ticks": "",
           "title": {
            "standoff": 15
           },
           "zerolinecolor": "#283442",
           "zerolinewidth": 2
          }
         }
        }
       }
      }
     },
     "metadata": {},
     "output_type": "display_data"
    },
    {
     "name": "stdout",
     "output_type": "stream",
     "text": [
      "Gradient of w1: 1.0000050728181193\n",
      "Gradient of w2: 0.0\n",
      "Gradient of x1: -1.500007609227179\n",
      "Gradient of x2: 0.5000025364090597\n",
      "Gradient of y: 0.5000025364090597\n"
     ]
    }
   ],
   "source": [
    "#Basic Nueron\n",
    "x1 = Value(2,'x1')\n",
    "x2 = Value(0,'x2')\n",
    "\n",
    "w1 = Value(-3,'w1')\n",
    "w2 = Value(1,'w2')\n",
    "\n",
    "b = Value(6.88137,'b')\n",
    "\n",
    "y = w1*x1 + w2*x2 + b ; y.label = 'y'\n",
    "f = y.tanh() ; f.label = 'f'\n",
    "\n",
    "f.backwards()\n",
    "\n",
    "draw_graph(f)\n",
    "\n",
    "#Print Gradients\n",
    "print(f\"Gradient of w1: {w1.grad}\")\n",
    "print(f\"Gradient of w2: {w2.grad}\")\n",
    "print(f\"Gradient of x1: {x1.grad}\")\n",
    "print(f\"Gradient of x2: {x2.grad}\")\n",
    "print(f\"Gradient of y: {y.grad}\")"
   ]
  },
  {
   "cell_type": "code",
   "execution_count": 42,
   "metadata": {},
   "outputs": [
    {
     "data": {
      "application/vnd.plotly.v1+json": {
       "config": {
        "plotlyServerURL": "https://plot.ly"
       },
       "data": [
        {
         "hoverinfo": "text",
         "line": {
          "color": "#888",
          "width": 3
         },
         "mode": "lines",
         "text": [
          "+"
         ],
         "type": "scatter",
         "x": [
          -0.2088689086783719,
          0.2088689086783719,
          null
         ],
         "y": [
          -0.9999999999999989,
          1,
          null
         ]
        },
        {
         "hoverinfo": "text",
         "marker": {
          "color": "darkred",
          "size": 20
         },
         "mode": "markers+text",
         "text": [
          "+"
         ],
         "textposition": "middle center",
         "type": "scatter",
         "x": [
          0
         ],
         "y": [
          5.551115123125783e-16
         ]
        },
        {
         "hoverinfo": "text",
         "marker": {
          "color": "darkblue",
          "size": 50
         },
         "mode": "markers+text",
         "text": [
          "a = 1, grad = 2",
          " = 2, grad = 1"
         ],
         "type": "scatter",
         "x": [
          -0.2088689086783719,
          0.2088689086783719
         ],
         "y": [
          -0.9999999999999989,
          1
         ]
        }
       ],
       "layout": {
        "template": {
         "data": {
          "bar": [
           {
            "error_x": {
             "color": "#f2f5fa"
            },
            "error_y": {
             "color": "#f2f5fa"
            },
            "marker": {
             "line": {
              "color": "rgb(17,17,17)",
              "width": 0.5
             },
             "pattern": {
              "fillmode": "overlay",
              "size": 10,
              "solidity": 0.2
             }
            },
            "type": "bar"
           }
          ],
          "barpolar": [
           {
            "marker": {
             "line": {
              "color": "rgb(17,17,17)",
              "width": 0.5
             },
             "pattern": {
              "fillmode": "overlay",
              "size": 10,
              "solidity": 0.2
             }
            },
            "type": "barpolar"
           }
          ],
          "carpet": [
           {
            "aaxis": {
             "endlinecolor": "#A2B1C6",
             "gridcolor": "#506784",
             "linecolor": "#506784",
             "minorgridcolor": "#506784",
             "startlinecolor": "#A2B1C6"
            },
            "baxis": {
             "endlinecolor": "#A2B1C6",
             "gridcolor": "#506784",
             "linecolor": "#506784",
             "minorgridcolor": "#506784",
             "startlinecolor": "#A2B1C6"
            },
            "type": "carpet"
           }
          ],
          "choropleth": [
           {
            "colorbar": {
             "outlinewidth": 0,
             "ticks": ""
            },
            "type": "choropleth"
           }
          ],
          "contour": [
           {
            "colorbar": {
             "outlinewidth": 0,
             "ticks": ""
            },
            "colorscale": [
             [
              0,
              "#0d0887"
             ],
             [
              0.1111111111111111,
              "#46039f"
             ],
             [
              0.2222222222222222,
              "#7201a8"
             ],
             [
              0.3333333333333333,
              "#9c179e"
             ],
             [
              0.4444444444444444,
              "#bd3786"
             ],
             [
              0.5555555555555556,
              "#d8576b"
             ],
             [
              0.6666666666666666,
              "#ed7953"
             ],
             [
              0.7777777777777778,
              "#fb9f3a"
             ],
             [
              0.8888888888888888,
              "#fdca26"
             ],
             [
              1,
              "#f0f921"
             ]
            ],
            "type": "contour"
           }
          ],
          "contourcarpet": [
           {
            "colorbar": {
             "outlinewidth": 0,
             "ticks": ""
            },
            "type": "contourcarpet"
           }
          ],
          "heatmap": [
           {
            "colorbar": {
             "outlinewidth": 0,
             "ticks": ""
            },
            "colorscale": [
             [
              0,
              "#0d0887"
             ],
             [
              0.1111111111111111,
              "#46039f"
             ],
             [
              0.2222222222222222,
              "#7201a8"
             ],
             [
              0.3333333333333333,
              "#9c179e"
             ],
             [
              0.4444444444444444,
              "#bd3786"
             ],
             [
              0.5555555555555556,
              "#d8576b"
             ],
             [
              0.6666666666666666,
              "#ed7953"
             ],
             [
              0.7777777777777778,
              "#fb9f3a"
             ],
             [
              0.8888888888888888,
              "#fdca26"
             ],
             [
              1,
              "#f0f921"
             ]
            ],
            "type": "heatmap"
           }
          ],
          "heatmapgl": [
           {
            "colorbar": {
             "outlinewidth": 0,
             "ticks": ""
            },
            "colorscale": [
             [
              0,
              "#0d0887"
             ],
             [
              0.1111111111111111,
              "#46039f"
             ],
             [
              0.2222222222222222,
              "#7201a8"
             ],
             [
              0.3333333333333333,
              "#9c179e"
             ],
             [
              0.4444444444444444,
              "#bd3786"
             ],
             [
              0.5555555555555556,
              "#d8576b"
             ],
             [
              0.6666666666666666,
              "#ed7953"
             ],
             [
              0.7777777777777778,
              "#fb9f3a"
             ],
             [
              0.8888888888888888,
              "#fdca26"
             ],
             [
              1,
              "#f0f921"
             ]
            ],
            "type": "heatmapgl"
           }
          ],
          "histogram": [
           {
            "marker": {
             "pattern": {
              "fillmode": "overlay",
              "size": 10,
              "solidity": 0.2
             }
            },
            "type": "histogram"
           }
          ],
          "histogram2d": [
           {
            "colorbar": {
             "outlinewidth": 0,
             "ticks": ""
            },
            "colorscale": [
             [
              0,
              "#0d0887"
             ],
             [
              0.1111111111111111,
              "#46039f"
             ],
             [
              0.2222222222222222,
              "#7201a8"
             ],
             [
              0.3333333333333333,
              "#9c179e"
             ],
             [
              0.4444444444444444,
              "#bd3786"
             ],
             [
              0.5555555555555556,
              "#d8576b"
             ],
             [
              0.6666666666666666,
              "#ed7953"
             ],
             [
              0.7777777777777778,
              "#fb9f3a"
             ],
             [
              0.8888888888888888,
              "#fdca26"
             ],
             [
              1,
              "#f0f921"
             ]
            ],
            "type": "histogram2d"
           }
          ],
          "histogram2dcontour": [
           {
            "colorbar": {
             "outlinewidth": 0,
             "ticks": ""
            },
            "colorscale": [
             [
              0,
              "#0d0887"
             ],
             [
              0.1111111111111111,
              "#46039f"
             ],
             [
              0.2222222222222222,
              "#7201a8"
             ],
             [
              0.3333333333333333,
              "#9c179e"
             ],
             [
              0.4444444444444444,
              "#bd3786"
             ],
             [
              0.5555555555555556,
              "#d8576b"
             ],
             [
              0.6666666666666666,
              "#ed7953"
             ],
             [
              0.7777777777777778,
              "#fb9f3a"
             ],
             [
              0.8888888888888888,
              "#fdca26"
             ],
             [
              1,
              "#f0f921"
             ]
            ],
            "type": "histogram2dcontour"
           }
          ],
          "mesh3d": [
           {
            "colorbar": {
             "outlinewidth": 0,
             "ticks": ""
            },
            "type": "mesh3d"
           }
          ],
          "parcoords": [
           {
            "line": {
             "colorbar": {
              "outlinewidth": 0,
              "ticks": ""
             }
            },
            "type": "parcoords"
           }
          ],
          "pie": [
           {
            "automargin": true,
            "type": "pie"
           }
          ],
          "scatter": [
           {
            "marker": {
             "line": {
              "color": "#283442"
             }
            },
            "type": "scatter"
           }
          ],
          "scatter3d": [
           {
            "line": {
             "colorbar": {
              "outlinewidth": 0,
              "ticks": ""
             }
            },
            "marker": {
             "colorbar": {
              "outlinewidth": 0,
              "ticks": ""
             }
            },
            "type": "scatter3d"
           }
          ],
          "scattercarpet": [
           {
            "marker": {
             "colorbar": {
              "outlinewidth": 0,
              "ticks": ""
             }
            },
            "type": "scattercarpet"
           }
          ],
          "scattergeo": [
           {
            "marker": {
             "colorbar": {
              "outlinewidth": 0,
              "ticks": ""
             }
            },
            "type": "scattergeo"
           }
          ],
          "scattergl": [
           {
            "marker": {
             "line": {
              "color": "#283442"
             }
            },
            "type": "scattergl"
           }
          ],
          "scattermapbox": [
           {
            "marker": {
             "colorbar": {
              "outlinewidth": 0,
              "ticks": ""
             }
            },
            "type": "scattermapbox"
           }
          ],
          "scatterpolar": [
           {
            "marker": {
             "colorbar": {
              "outlinewidth": 0,
              "ticks": ""
             }
            },
            "type": "scatterpolar"
           }
          ],
          "scatterpolargl": [
           {
            "marker": {
             "colorbar": {
              "outlinewidth": 0,
              "ticks": ""
             }
            },
            "type": "scatterpolargl"
           }
          ],
          "scatterternary": [
           {
            "marker": {
             "colorbar": {
              "outlinewidth": 0,
              "ticks": ""
             }
            },
            "type": "scatterternary"
           }
          ],
          "surface": [
           {
            "colorbar": {
             "outlinewidth": 0,
             "ticks": ""
            },
            "colorscale": [
             [
              0,
              "#0d0887"
             ],
             [
              0.1111111111111111,
              "#46039f"
             ],
             [
              0.2222222222222222,
              "#7201a8"
             ],
             [
              0.3333333333333333,
              "#9c179e"
             ],
             [
              0.4444444444444444,
              "#bd3786"
             ],
             [
              0.5555555555555556,
              "#d8576b"
             ],
             [
              0.6666666666666666,
              "#ed7953"
             ],
             [
              0.7777777777777778,
              "#fb9f3a"
             ],
             [
              0.8888888888888888,
              "#fdca26"
             ],
             [
              1,
              "#f0f921"
             ]
            ],
            "type": "surface"
           }
          ],
          "table": [
           {
            "cells": {
             "fill": {
              "color": "#506784"
             },
             "line": {
              "color": "rgb(17,17,17)"
             }
            },
            "header": {
             "fill": {
              "color": "#2a3f5f"
             },
             "line": {
              "color": "rgb(17,17,17)"
             }
            },
            "type": "table"
           }
          ]
         },
         "layout": {
          "annotationdefaults": {
           "arrowcolor": "#f2f5fa",
           "arrowhead": 0,
           "arrowwidth": 1
          },
          "autotypenumbers": "strict",
          "coloraxis": {
           "colorbar": {
            "outlinewidth": 0,
            "ticks": ""
           }
          },
          "colorscale": {
           "diverging": [
            [
             0,
             "#8e0152"
            ],
            [
             0.1,
             "#c51b7d"
            ],
            [
             0.2,
             "#de77ae"
            ],
            [
             0.3,
             "#f1b6da"
            ],
            [
             0.4,
             "#fde0ef"
            ],
            [
             0.5,
             "#f7f7f7"
            ],
            [
             0.6,
             "#e6f5d0"
            ],
            [
             0.7,
             "#b8e186"
            ],
            [
             0.8,
             "#7fbc41"
            ],
            [
             0.9,
             "#4d9221"
            ],
            [
             1,
             "#276419"
            ]
           ],
           "sequential": [
            [
             0,
             "#0d0887"
            ],
            [
             0.1111111111111111,
             "#46039f"
            ],
            [
             0.2222222222222222,
             "#7201a8"
            ],
            [
             0.3333333333333333,
             "#9c179e"
            ],
            [
             0.4444444444444444,
             "#bd3786"
            ],
            [
             0.5555555555555556,
             "#d8576b"
            ],
            [
             0.6666666666666666,
             "#ed7953"
            ],
            [
             0.7777777777777778,
             "#fb9f3a"
            ],
            [
             0.8888888888888888,
             "#fdca26"
            ],
            [
             1,
             "#f0f921"
            ]
           ],
           "sequentialminus": [
            [
             0,
             "#0d0887"
            ],
            [
             0.1111111111111111,
             "#46039f"
            ],
            [
             0.2222222222222222,
             "#7201a8"
            ],
            [
             0.3333333333333333,
             "#9c179e"
            ],
            [
             0.4444444444444444,
             "#bd3786"
            ],
            [
             0.5555555555555556,
             "#d8576b"
            ],
            [
             0.6666666666666666,
             "#ed7953"
            ],
            [
             0.7777777777777778,
             "#fb9f3a"
            ],
            [
             0.8888888888888888,
             "#fdca26"
            ],
            [
             1,
             "#f0f921"
            ]
           ]
          },
          "colorway": [
           "#636efa",
           "#EF553B",
           "#00cc96",
           "#ab63fa",
           "#FFA15A",
           "#19d3f3",
           "#FF6692",
           "#B6E880",
           "#FF97FF",
           "#FECB52"
          ],
          "font": {
           "color": "#f2f5fa"
          },
          "geo": {
           "bgcolor": "rgb(17,17,17)",
           "lakecolor": "rgb(17,17,17)",
           "landcolor": "rgb(17,17,17)",
           "showlakes": true,
           "showland": true,
           "subunitcolor": "#506784"
          },
          "hoverlabel": {
           "align": "left"
          },
          "hovermode": "closest",
          "mapbox": {
           "style": "dark"
          },
          "paper_bgcolor": "rgb(17,17,17)",
          "plot_bgcolor": "rgb(17,17,17)",
          "polar": {
           "angularaxis": {
            "gridcolor": "#506784",
            "linecolor": "#506784",
            "ticks": ""
           },
           "bgcolor": "rgb(17,17,17)",
           "radialaxis": {
            "gridcolor": "#506784",
            "linecolor": "#506784",
            "ticks": ""
           }
          },
          "scene": {
           "xaxis": {
            "backgroundcolor": "rgb(17,17,17)",
            "gridcolor": "#506784",
            "gridwidth": 2,
            "linecolor": "#506784",
            "showbackground": true,
            "ticks": "",
            "zerolinecolor": "#C8D4E3"
           },
           "yaxis": {
            "backgroundcolor": "rgb(17,17,17)",
            "gridcolor": "#506784",
            "gridwidth": 2,
            "linecolor": "#506784",
            "showbackground": true,
            "ticks": "",
            "zerolinecolor": "#C8D4E3"
           },
           "zaxis": {
            "backgroundcolor": "rgb(17,17,17)",
            "gridcolor": "#506784",
            "gridwidth": 2,
            "linecolor": "#506784",
            "showbackground": true,
            "ticks": "",
            "zerolinecolor": "#C8D4E3"
           }
          },
          "shapedefaults": {
           "line": {
            "color": "#f2f5fa"
           }
          },
          "sliderdefaults": {
           "bgcolor": "#C8D4E3",
           "bordercolor": "rgb(17,17,17)",
           "borderwidth": 1,
           "tickwidth": 0
          },
          "ternary": {
           "aaxis": {
            "gridcolor": "#506784",
            "linecolor": "#506784",
            "ticks": ""
           },
           "baxis": {
            "gridcolor": "#506784",
            "linecolor": "#506784",
            "ticks": ""
           },
           "bgcolor": "rgb(17,17,17)",
           "caxis": {
            "gridcolor": "#506784",
            "linecolor": "#506784",
            "ticks": ""
           }
          },
          "title": {
           "x": 0.05
          },
          "updatemenudefaults": {
           "bgcolor": "#506784",
           "borderwidth": 0
          },
          "xaxis": {
           "automargin": true,
           "gridcolor": "#283442",
           "linecolor": "#506784",
           "ticks": "",
           "title": {
            "standoff": 15
           },
           "zerolinecolor": "#283442",
           "zerolinewidth": 2
          },
          "yaxis": {
           "automargin": true,
           "gridcolor": "#283442",
           "linecolor": "#506784",
           "ticks": "",
           "title": {
            "standoff": 15
           },
           "zerolinecolor": "#283442",
           "zerolinewidth": 2
          }
         }
        }
       }
      }
     },
     "metadata": {},
     "output_type": "display_data"
    }
   ],
   "source": [
    "a = Value(1,'a')\n",
    "b = a+a \n",
    "b.backwards()\n",
    "draw_graph(b)"
   ]
  },
  {
   "cell_type": "code",
   "execution_count": 9,
   "metadata": {},
   "outputs": [
    {
     "ename": "ModuleNotFoundError",
     "evalue": "No module named 'torch'",
     "output_type": "error",
     "traceback": [
      "\u001b[1;31m---------------------------------------------------------------------------\u001b[0m",
      "\u001b[1;31mModuleNotFoundError\u001b[0m                       Traceback (most recent call last)",
      "\u001b[1;32m<ipython-input-9-eb42ca6e4af3>\u001b[0m in \u001b[0;36m<module>\u001b[1;34m\u001b[0m\n\u001b[1;32m----> 1\u001b[1;33m \u001b[1;32mimport\u001b[0m \u001b[0mtorch\u001b[0m\u001b[1;33m\u001b[0m\u001b[1;33m\u001b[0m\u001b[0m\n\u001b[0m",
      "\u001b[1;31mModuleNotFoundError\u001b[0m: No module named 'torch'"
     ]
    }
   ],
   "source": [
    "import torch"
   ]
  },
  {
   "cell_type": "code",
   "execution_count": 28,
   "metadata": {},
   "outputs": [
    {
     "name": "stdout",
     "output_type": "stream",
     "text": [
      "0.7071050214706146\n",
      "x1.grad= -1.500007465833125\n",
      "x2.grad= 0.5000024886110417\n",
      "w1.grad= 1.0000049772220834\n",
      "w2.grad= 0.0\n"
     ]
    }
   ],
   "source": [
    "x1 = torch.Tensor([2]).double() ; x1.requires_grad = True\n",
    "x2 = torch.Tensor([0]).double() ; x2.requires_grad = True\n",
    "w1 = torch.Tensor([-3]).double() ; w1.requires_grad = True\n",
    "w2 = torch.Tensor([1]).double() ; w2.requires_grad = True\n",
    "b = torch.Tensor([6.88137]).double() ; b.requires_grad = True\n",
    "n = x1*w1 + x2*w2 + b\n",
    "o = torch.tanh(n)\n",
    "\n",
    "print(o.data.item())\n",
    "o.backward()\n",
    "\n",
    "print(\"x1.grad=\",x1.grad.item()) \n",
    "print(\"x2.grad=\",x2.grad.item())\n",
    "print(\"w1.grad=\",w1.grad.item())\n",
    "print(\"w2.grad=\",w2.grad.item())\n"
   ]
  },
  {
   "cell_type": "code",
   "execution_count": 269,
   "metadata": {},
   "outputs": [],
   "source": [
    "class Neuron: \n",
    "    def __init__(self, nin):\n",
    "        #nin = number of inputs going into the nueron\n",
    "        self.w = [Value(random.uniform(-1,1),f\"w{i}\") for i in range(nin)]\n",
    "        self.b = Value(random.uniform(-1,1),'b')\n",
    "\n",
    "    def __call__(self,x): \n",
    "        #w*x + b \n",
    "        return ( sum([w*x for w,x in zip(self.w,x)]) + self.b ).tanh()\n",
    "\n",
    "    def parameters(self): \n",
    "        #Return a list of all the parameters of the neuron\n",
    "        return self.w + [self.b]\n",
    "        \n"
   ]
  },
  {
   "cell_type": "code",
   "execution_count": 270,
   "metadata": {},
   "outputs": [],
   "source": [
    "#Layer of Neurons = List of Nuerons. They aren't connected to each other\n",
    "class Layer: \n",
    "    def __init__(self, nin, nout):\n",
    "        #nin = number of inputs going into the nueron (x)\n",
    "        #nout = number of neurons in the layer\n",
    "        self.neurons = [Neuron(nin) for i in range(nout)]\n",
    "\n",
    "    def __call__(self,x):\n",
    "        return [n(x) for n in self.neurons]\n",
    "\n",
    "    def parameters(self):\n",
    "        #Return a list of all the parameters of the layer\n",
    "        return [p for n in self.neurons for p in n.parameters()]"
   ]
  },
  {
   "cell_type": "code",
   "execution_count": 94,
   "metadata": {},
   "outputs": [
    {
     "data": {
      "text/plain": [
       "[Value(-0.9934405903715453, ),\n",
       " Value(-0.9960895811299004, ),\n",
       " Value(0.9282588462227764, )]"
      ]
     },
     "execution_count": 94,
     "metadata": {},
     "output_type": "execute_result"
    }
   ],
   "source": [
    "x = [2,3]\n",
    "\n",
    "#Inputs in Layer are the same (x)\n",
    "l = Layer(2,3)\n",
    "l(x)"
   ]
  },
  {
   "cell_type": "code",
   "execution_count": 271,
   "metadata": {},
   "outputs": [],
   "source": [
    "#MLP (Multi Layer Perceptron)\n",
    "#Layer of Layers\n",
    "\n",
    "class MLP:\n",
    "    def __init__(self, nin, nouts): \n",
    "        #nin = number of inputs going into the initial layer\n",
    "        #nouts = list of number of outputs in each layer\n",
    "        self.layers = [Layer(nin,nouts[0])] #First layer\n",
    "        for i in range(1,len(nouts)):\n",
    "            self.layers.append(Layer(nouts[i-1],nouts[i]))\n",
    "\n",
    "    def __call__(self,x):\n",
    "        for l in self.layers:\n",
    "            x = l(x)\n",
    "        return x\n",
    "\n",
    "    def parameters(self):  \n",
    "        #Return a list of all the parameters of the MLP\n",
    "        return [p for l in self.layers for p in l.parameters()]\n"
   ]
  },
  {
   "cell_type": "code",
   "execution_count": 272,
   "metadata": {},
   "outputs": [
    {
     "data": {
      "application/vnd.plotly.v1+json": {
       "config": {
        "plotlyServerURL": "https://plot.ly"
       },
       "data": [
        {
         "hoverinfo": "text",
         "line": {
          "color": "#888",
          "width": 3
         },
         "mode": "lines",
         "text": [
          "tanh",
          "+",
          "+",
          "+",
          "+",
          "*",
          "*",
          "*",
          "+",
          "*",
          "tanh",
          "+",
          "*",
          "+",
          "*",
          "*",
          "+",
          "*",
          "tanh",
          "+",
          "+",
          "*",
          "*",
          "+",
          "+",
          "+",
          "*",
          "+",
          "+",
          "+",
          "+",
          "*",
          "+",
          "*",
          "*",
          "*",
          "*",
          "*",
          "*",
          "+",
          "+",
          "*",
          "*",
          "*",
          "*",
          "*",
          "*",
          "+",
          "*",
          "*",
          "+",
          "+",
          "+",
          "*",
          "*",
          "*",
          "*",
          "*",
          "*",
          "+",
          "*",
          "+",
          "+",
          "*",
          "*",
          "*",
          "*",
          "*",
          "+",
          "*",
          "tanh",
          "+",
          "+",
          "*",
          "+",
          "+",
          "+",
          "+",
          "*",
          "+",
          "+",
          "*",
          "+",
          "*",
          "*",
          "*",
          "+",
          "tanh",
          "+",
          "+",
          "+",
          "+",
          "*",
          "*",
          "*",
          "*",
          "+",
          "+",
          "+",
          "*",
          "+",
          "+",
          "+",
          "+",
          "*",
          "*",
          "+",
          "+",
          "+",
          "*",
          "tanh",
          "+",
          "+",
          "+",
          "*",
          "tanh",
          "+",
          "+",
          "+",
          "*",
          "+",
          "tanh",
          "*",
          "+",
          "+",
          "+",
          "*",
          "*",
          "tanh",
          "+",
          "+",
          "+",
          "*",
          "+",
          "*",
          "*",
          "+",
          "+",
          "+",
          "*",
          "+",
          "+",
          "+",
          "*",
          "*",
          "+",
          "+",
          "+",
          "+",
          "+",
          "+",
          "+",
          "+",
          "+",
          "+"
         ],
         "type": "scatter",
         "x": [
          0.0018320994055967444,
          0.06743295341046626,
          null,
          0.0252106678503991,
          0.02707057868346705,
          null,
          0.013927088710838685,
          0.015726397945654835,
          null,
          -0.298104540516861,
          -0.4313484163723307,
          null,
          0.11919584683487508,
          -0.030146994288468145,
          null,
          0.45384331880338785,
          0.4120620790616873,
          null,
          -0.28942653519944966,
          -0.2575108293216068,
          null,
          0.12082569089267355,
          -0.04106441850654213,
          null,
          0.1103043711691419,
          0.013927088710838685,
          null,
          -0.44307393976931664,
          -0.5971508616913119,
          null,
          0.03321942452411944,
          0.06501648455194647,
          null,
          0.03108974696271045,
          0.0252106678503991,
          null,
          -0.3004535732315085,
          -0.2575108293216068,
          null,
          0.13155527227092742,
          0.013927088710838685,
          null,
          0.22743831495186742,
          0.10303695164890887,
          null,
          -0.12606969391283793,
          -0.12991560259837528,
          null,
          0.467505217640687,
          0.32721324520000034,
          null,
          -0.6131435908500081,
          -0.7268328458137273,
          null,
          -0.023581892628526883,
          -0.01873909539768793,
          null,
          -0.38162564844744185,
          -0.3790388348355295,
          null,
          0.454288399480216,
          0.32721324520000034,
          null,
          0.006985490611302863,
          -0.12477465719807596,
          null,
          -0.36478883297720077,
          -0.3723918083107878,
          null,
          -0.04587247436561098,
          0.03321942452411944,
          null,
          0.16236894688238845,
          0.04228706768556362,
          null,
          0.015726397945654835,
          0.0252106678503991,
          null,
          0.34720105405358287,
          0.2910754727985455,
          null,
          -0.11388027416841497,
          0.0018320994055967444,
          null,
          0.37791680541101713,
          0.22598954732942914,
          null,
          0.05967265557486032,
          -0.04587247436561098,
          null,
          -0.15375612482918558,
          -0.11388027416841497,
          null,
          0.3670816420513274,
          0.24439535090855086,
          null,
          0.21704429439265663,
          0.14682753064402693,
          null,
          0.5136079104657365,
          0.38272264814018836,
          null,
          -0.01873909539768793,
          0.25327188896901703,
          null,
          -0.01873909539768793,
          -0.2643035819489061,
          null,
          -0.01873909539768793,
          -0.03959890236635587,
          null,
          -0.01873909539768793,
          -0.015312204570715521,
          null,
          0.3642511719059491,
          0.24770227176066809,
          null,
          0.10303695164890887,
          -0.030146994288468145,
          null,
          -0.18086928663606394,
          -0.1560741043316651,
          null,
          0.249440158087446,
          0.10303695164890887,
          null,
          0.06501648455194647,
          0.2910754727985455,
          null,
          0.06501648455194647,
          -0.3723918083107878,
          null,
          0.06501648455194647,
          0.4120620790616873,
          null,
          0.06501648455194647,
          0.03526700792903142,
          null,
          0.1009442991809596,
          -0.03959890236635587,
          null,
          0.22598954732942914,
          0.08228242878495223,
          null,
          -0.05378972240101398,
          -0.18086928663606394,
          null,
          0.3599593025320747,
          0.34891025221858435,
          null,
          0.24439535090855086,
          0.14682753064402693,
          null,
          -0.08638585958904833,
          -0.023581892628526883,
          null,
          -0.2138598283490021,
          -0.1560741043316651,
          null,
          0.5806480179443377,
          0.454288399480216,
          null,
          -0.1842348950991831,
          -0.2697963688025968,
          null,
          0.06743295341046626,
          0.34310412588351913,
          null,
          0.06743295341046626,
          0.4934586026262811,
          null,
          0.06743295341046626,
          -0.49346837578015107,
          null,
          0.06743295341046626,
          0.13155527227092742,
          null,
          -0.12477465719807596,
          -0.11388027416841497,
          null,
          0.4188635907606069,
          0.31333779320300376,
          null,
          0.08228242878495223,
          -0.04587247436561098,
          null,
          -0.04106441850654213,
          -0.15375612482918558,
          null,
          0.05634611796857257,
          -0.2697963688025968,
          null,
          0.05634611796857257,
          0.03108974696271045,
          null,
          0.05634611796857257,
          0.34891025221858435,
          null,
          0.05634611796857257,
          0.1534156437678061,
          null,
          0.5681194424279139,
          0.4934586026262811,
          null,
          -0.030146994288468145,
          -0.15375612482918558,
          null,
          -0.15277987126979373,
          -0.33317311065787597,
          null,
          0.08251569107028331,
          0.05634611796857257,
          null,
          0.03526700792903142,
          0.015726397945654835,
          null,
          0.14682753064402693,
          0.08251569107028331,
          null,
          0.2968075848550161,
          0.25327188896901703,
          null,
          0.24770227176066809,
          0.08228242878495223,
          null,
          -0.2575108293216068,
          -0.2138598283490021,
          null,
          -0.6883903322399822,
          -0.6917528565383949,
          null,
          0.31333779320300376,
          0.21704429439265663,
          null,
          0.3090931444275204,
          0.1534156437678061,
          null,
          -0.015312204570715521,
          0.02707057868346705,
          null,
          0.13075535956760773,
          0.08251569107028331,
          null,
          -0.5813273025402467,
          -0.49346837578015107,
          null,
          -0.6917528565383949,
          -0.7228313696850178,
          null,
          -0.07889946358529792,
          -0.18086928663606394,
          null,
          -0.30128328257631715,
          -0.2643035819489061,
          null,
          -0.0854030474635495,
          -0.19873432519603626,
          null,
          -0.23624588298346597,
          -0.2138598283490021,
          null,
          0.008433988804488401,
          -0.05484869702074236,
          null,
          0.38272264814018836,
          0.22598954732942914,
          null,
          -0.6043837664735969,
          -0.7228313696850178,
          null,
          -0.1560741043316651,
          -0.07013895119393501,
          null,
          0.32721324520000034,
          0.21704429439265663,
          null,
          0.3753110109948611,
          0.24439535090855086,
          null,
          0.31369641228143935,
          0.34310412588351913,
          null,
          0.023567289177483897,
          -0.12477465719807596,
          null,
          0.17321339852681653,
          0.05967265557486032,
          null,
          -0.12991560259837528,
          -0.07013895119393501,
          null,
          -0.5194827567053729,
          -0.6883903322399822,
          null,
          -0.07013895119393501,
          -0.023581892628526883,
          null,
          0.09475775632495981,
          -0.04106441850654213,
          null,
          0.18618714554897162,
          0.04228706768556362,
          null,
          0.34310412588351913,
          0.28425152331400694,
          null,
          0.4120620790616873,
          0.37258151444522536,
          null,
          -0.2642468526786003,
          -0.2935386494210566,
          null,
          -0.45950707088606735,
          -0.5971508616913119,
          null,
          0.4066752567728379,
          0.24770227176066809,
          null,
          -0.07885731259945356,
          0.0018320994055967444,
          null,
          -0.20328780447363032,
          -0.3569335095990701,
          null,
          0.02707057868346705,
          0.008433988804488401,
          null,
          -0.05484869702074236,
          -0.19873432519603626,
          null,
          0.04228706768556362,
          -0.12661347884043211,
          null,
          0.4385359650906069,
          0.37258151444522536,
          null,
          -0.5971508616913119,
          -0.6917528565383949,
          null,
          0.35011437768115106,
          0.28425152331400694,
          null,
          0.31269618238720465,
          0.13155527227092742,
          null,
          -0.4313484163723307,
          -0.6155597303918557,
          null,
          0.4934586026262811,
          0.4385359650906069,
          null,
          -0.33317311065787597,
          -0.5194827567053729,
          null,
          0.25327188896901703,
          0.18618714554897162,
          null,
          0.42719602123853917,
          0.31333779320300376,
          null,
          0.15271460298015,
          -0.02077987607109152,
          null,
          -0.7228313696850178,
          -1,
          null,
          0.5603650608176111,
          0.454288399480216,
          null,
          -0.3569335095990701,
          -0.5194827567053729,
          null,
          0.1534156437678061,
          -0.02077987607109152,
          null,
          0.06462184684595516,
          0.03321942452411944,
          null,
          0.535576343735278,
          0.38272264814018836,
          null,
          -0.6155597303918557,
          -0.7268328458137273,
          null,
          -0.3790388348355295,
          -0.45950707088606735,
          null,
          -0.19873432519603626,
          -0.3569335095990701,
          null,
          -0.2935386494210566,
          -0.3790388348355295,
          null,
          -0.2175003667733355,
          -0.4313484163723307,
          null,
          0.19028836284516296,
          0.05967265557486032,
          null,
          -0.31274034145694274,
          -0.2642468526786003,
          null,
          -0.12661347884043211,
          -0.33317311065787597,
          null,
          -0.08440064222846268,
          -0.015312204570715521,
          null,
          -0.02077987607109152,
          -0.2175003667733355,
          null,
          -0.03959890236635587,
          -0.2175003667733355,
          null,
          -0.2643035819489061,
          -0.2935386494210566,
          null,
          0.1010898388745616,
          0.03526700792903142,
          null,
          -0.010027206682499493,
          0.008433988804488401,
          null,
          0.2883614558392832,
          0.18618714554897162,
          null,
          0.5095131352556935,
          0.4385359650906069,
          null,
          0.04791445950982152,
          0.03108974696271045,
          null,
          -0.14499604860395934,
          -0.12991560259837528,
          null,
          -0.3960522072939137,
          -0.31274034145694274,
          null,
          -0.7268328458137273,
          -0.6883903322399822,
          null,
          0.28425152331400694,
          0.15271460298015,
          null,
          -0.2697963688025968,
          -0.2642468526786003,
          null,
          0.2910754727985455,
          0.15271460298015,
          null,
          -0.4740266828765054,
          -0.3960522072939137,
          null,
          -0.3723918083107878,
          -0.31274034145694274,
          null,
          -0.49346837578015107,
          -0.3960522072939137,
          null,
          0.37258151444522536,
          0.2883614558392832,
          null,
          0.34891025221858435,
          0.2883614558392832,
          null
         ],
         "y": [
          -0.17999116077746075,
          -0.139589735097648,
          null,
          -0.22935466092199958,
          -0.07455997725320967,
          null,
          -0.555791415019144,
          -0.3972073674005622,
          null,
          0.5738137051359505,
          0.501788892829313,
          null,
          -0.2869132953578121,
          -0.25029076942990985,
          null,
          -0.36302361359066365,
          -0.24903204866198245,
          null,
          -0.4257657929882936,
          -0.3095015498573716,
          null,
          -0.3468575895020332,
          -0.2855998364598894,
          null,
          -0.674724715449542,
          -0.555791415019144,
          null,
          0.2843136505923138,
          0.27075819800688766,
          null,
          -0.15697320720958083,
          -0.07595865246856659,
          null,
          -0.3742272023197303,
          -0.22935466092199958,
          null,
          -0.4442507779648777,
          -0.3095015498573716,
          null,
          -0.6798179783296442,
          -0.555791415019144,
          null,
          -0.23037476395092035,
          -0.2671218357451159,
          null,
          -0.18621292994422406,
          0.016134786697693568,
          null,
          0.08474441312453718,
          0.08625117310309373,
          null,
          0.41687999683666127,
          0.36722880526571344,
          null,
          0.21969961784151476,
          0.1847170667486046,
          null,
          0.4344037713139103,
          0.43973995247195063,
          null,
          0.12296447665423713,
          0.08625117310309373,
          null,
          -0.310035848760383,
          -0.2868451910306178,
          null,
          0.11594043129889163,
          0.19444698544862557,
          null,
          -0.14864846531599207,
          -0.15697320720958083,
          null,
          0.14863960865116913,
          0.2741292824706168,
          null,
          -0.3972073674005622,
          -0.22935466092199958,
          null,
          0.15807220296740415,
          0.31630038188294357,
          null,
          -0.24817303821470948,
          -0.17999116077746075,
          null,
          -0.249810804393152,
          -0.23889517194838553,
          null,
          -0.19320100430358833,
          -0.14864846531599207,
          null,
          -0.22762930511315604,
          -0.24817303821470948,
          null,
          -0.010930557952934454,
          0.03321049543850622,
          null,
          0.05235177961277397,
          0.04443087069697926,
          null,
          -0.33505065436077563,
          -0.303035246979681,
          null,
          0.1847170667486046,
          0.028388219287020657,
          null,
          0.1847170667486046,
          0.42149270656765647,
          null,
          0.1847170667486046,
          0.5389927000133986,
          null,
          0.1847170667486046,
          -0.205789539846352,
          null,
          -0.27673172573733396,
          -0.23771419824307355,
          null,
          -0.2671218357451159,
          -0.25029076942990985,
          null,
          -0.18083311338185715,
          0.020364834627518067,
          null,
          -0.23131755072248741,
          -0.2671218357451159,
          null,
          -0.07595865246856659,
          0.31630038188294357,
          null,
          -0.07595865246856659,
          0.19444698544862557,
          null,
          -0.07595865246856659,
          -0.24903204866198245,
          null,
          -0.07595865246856659,
          -0.5690208649066051,
          null,
          0.5673005644682663,
          0.5389927000133986,
          null,
          -0.23889517194838553,
          -0.16653758565710197,
          null,
          -0.3716903862379091,
          -0.18083311338185715,
          null,
          -0.24559456412102024,
          -0.08982077602501462,
          null,
          0.03321049543850622,
          0.04443087069697926,
          null,
          0.18261752976762502,
          0.21969961784151476,
          null,
          -0.15485449841859253,
          0.020364834627518067,
          null,
          0.1362794949728216,
          0.12296447665423713,
          null,
          0.1613382552844291,
          0.2831622456107359,
          null,
          -0.139589735097648,
          0.23252627332789874,
          null,
          -0.139589735097648,
          -0.36451524024466025,
          null,
          -0.139589735097648,
          0.20834826087808994,
          null,
          -0.139589735097648,
          -0.6798179783296442,
          null,
          -0.2868451910306178,
          -0.24817303821470948,
          null,
          0.10285133186908411,
          0.062243080495865834,
          null,
          -0.16653758565710197,
          -0.14864846531599207,
          null,
          -0.2855998364598894,
          -0.22762930511315604,
          null,
          0.06659612605426943,
          0.2831622456107359,
          null,
          0.06659612605426943,
          -0.3742272023197303,
          null,
          0.06659612605426943,
          -0.08982077602501462,
          null,
          0.06659612605426943,
          0.4727396549674708,
          null,
          -0.45719772558335264,
          -0.36451524024466025,
          null,
          -0.25029076942990985,
          -0.22762930511315604,
          null,
          0.38249764504091416,
          0.36368793016041717,
          null,
          0.11274527734079935,
          0.06659612605426943,
          null,
          -0.5690208649066051,
          -0.3972073674005622,
          null,
          0.04443087069697926,
          0.11274527734079935,
          null,
          -0.11465067439936483,
          0.028388219287020657,
          null,
          -0.23771419824307355,
          -0.16653758565710197,
          null,
          -0.3095015498573716,
          -0.15485449841859253,
          null,
          0.2998266721317996,
          0.23954572526795107,
          null,
          0.062243080495865834,
          0.05235177961277397,
          null,
          0.43135527359532894,
          0.4727396549674708,
          null,
          -0.205789539846352,
          -0.07455997725320967,
          null,
          0.13566657580477634,
          0.11274527734079935,
          null,
          0.12896355756310138,
          0.20834826087808994,
          null,
          0.23954572526795107,
          0.23503547511238992,
          null,
          -0.3568539325087301,
          -0.18083311338185715,
          null,
          0.32297839479989215,
          0.42149270656765647,
          null,
          0.33882562051891085,
          0.3496281653885497,
          null,
          -0.30012877920325876,
          -0.15485449841859253,
          null,
          0.08915589703366217,
          0.2579723666832071,
          null,
          -0.303035246979681,
          -0.23889517194838553,
          null,
          0.21070716082775542,
          0.23503547511238992,
          null,
          0.020364834627518067,
          0.15050416212689074,
          null,
          0.08625117310309373,
          0.05235177961277397,
          null,
          0.01641684679139242,
          0.03321049543850622,
          null,
          0.10297848200671969,
          0.23252627332789874,
          null,
          -0.2791656237195246,
          -0.2868451910306178,
          null,
          -0.2806705095170137,
          -0.19320100430358833,
          null,
          0.016134786697693568,
          0.15050416212689074,
          null,
          0.3316248598228628,
          0.2998266721317996,
          null,
          0.15050416212689074,
          0.21969961784151476,
          null,
          -0.3661982250682524,
          -0.2855998364598894,
          null,
          0.15424176696428063,
          0.2741292824706168,
          null,
          0.23252627332789874,
          0.34424013950868276,
          null,
          -0.24903204866198245,
          -0.1027060194301918,
          null,
          0.39873598045969827,
          0.49203496472324276,
          null,
          0.3175246468583048,
          0.27075819800688766,
          null,
          -0.23558801156695558,
          -0.23771419824307355,
          null,
          -0.2178809463675563,
          -0.17999116077746075,
          null,
          0.38671351488126865,
          0.36288827818459585,
          null,
          -0.07455997725320967,
          0.08915589703366217,
          null,
          0.2579723666832071,
          0.3496281653885497,
          null,
          0.2741292824706168,
          0.33890669110243604,
          null,
          -0.2468645913700374,
          -0.1027060194301918,
          null,
          0.27075819800688766,
          0.23954572526795107,
          null,
          0.19554916342716594,
          0.34424013950868276,
          null,
          -0.6968960543421626,
          -0.6798179783296442,
          null,
          0.501788892829313,
          0.44442416443019633,
          null,
          -0.36451524024466025,
          -0.2468645913700374,
          null,
          0.36368793016041717,
          0.3316248598228628,
          null,
          0.028388219287020657,
          0.15424176696428063,
          null,
          0.0654460170219237,
          0.062243080495865834,
          null,
          0.43755687301803703,
          0.5039153318462525,
          null,
          0.23503547511238992,
          0.3145273257535404,
          null,
          0.17314287254763597,
          0.12296447665423713,
          null,
          0.36288827818459585,
          0.3316248598228628,
          null,
          0.4727396549674708,
          0.5039153318462525,
          null,
          -0.23915394427571066,
          -0.15697320720958083,
          null,
          -0.3405183030308073,
          -0.303035246979681,
          null,
          0.44442416443019633,
          0.36722880526571344,
          null,
          0.43973995247195063,
          0.3175246468583048,
          null,
          0.3496281653885497,
          0.36288827818459585,
          null,
          0.49203496472324276,
          0.43973995247195063,
          null,
          0.5244447022949856,
          0.501788892829313,
          null,
          -0.25714093927630255,
          -0.19320100430358833,
          null,
          0.2896933981020618,
          0.39873598045969827,
          null,
          0.33890669110243604,
          0.36368793016041717,
          null,
          -0.3586112608355435,
          -0.205789539846352,
          null,
          0.5039153318462525,
          0.5244447022949856,
          null,
          0.5389927000133986,
          0.5244447022949856,
          null,
          0.42149270656765647,
          0.49203496472324276,
          null,
          -0.7224501631758683,
          -0.5690208649066051,
          null,
          -0.0427628046993102,
          0.08915589703366217,
          null,
          0.03529566094876864,
          0.15424176696428063,
          null,
          -0.3431620576587083,
          -0.2468645913700374,
          null,
          -0.5161903119281492,
          -0.3742272023197303,
          null,
          -0.16571373983868945,
          0.016134786697693568,
          null,
          0.2254974465757039,
          0.2896933981020618,
          null,
          0.36722880526571344,
          0.2998266721317996,
          null,
          0.34424013950868276,
          0.43755687301803703,
          null,
          0.2831622456107359,
          0.39873598045969827,
          null,
          0.31630038188294357,
          0.43755687301803703,
          null,
          0.13922397546250742,
          0.2254974465757039,
          null,
          0.19444698544862557,
          0.2896933981020618,
          null,
          0.20834826087808994,
          0.2254974465757039,
          null,
          -0.1027060194301918,
          0.03529566094876864,
          null,
          -0.08982077602501462,
          0.03529566094876864,
          null
         ]
        },
        {
         "hoverinfo": "text",
         "marker": {
          "color": "darkred",
          "size": 10
         },
         "mode": "markers+text",
         "text": [
          "tanh",
          "+",
          "+",
          "+",
          "+",
          "*",
          "*",
          "*",
          "+",
          "*",
          "tanh",
          "+",
          "*",
          "+",
          "*",
          "*",
          "+",
          "*",
          "tanh",
          "+",
          "+",
          "*",
          "*",
          "+",
          "+",
          "+",
          "*",
          "+",
          "+",
          "+",
          "+",
          "*",
          "+",
          "*",
          "*",
          "*",
          "*",
          "*",
          "*",
          "+",
          "+",
          "*",
          "*",
          "*",
          "*",
          "*",
          "*",
          "+",
          "*",
          "*",
          "+",
          "+",
          "+",
          "*",
          "*",
          "*",
          "*",
          "*",
          "*",
          "+",
          "*",
          "+",
          "+",
          "*",
          "*",
          "*",
          "*",
          "*",
          "+",
          "*",
          "tanh",
          "+",
          "+",
          "*",
          "+",
          "+",
          "+",
          "+",
          "*",
          "+",
          "+",
          "*",
          "+",
          "*",
          "*",
          "*",
          "+",
          "tanh",
          "+",
          "+",
          "+",
          "+",
          "*",
          "*",
          "*",
          "*",
          "+",
          "+",
          "+",
          "*",
          "+",
          "+",
          "+",
          "+",
          "*",
          "*",
          "+",
          "+",
          "+",
          "*",
          "tanh",
          "+",
          "+",
          "+",
          "*",
          "tanh",
          "+",
          "+",
          "+",
          "*",
          "+",
          "tanh",
          "*",
          "+",
          "+",
          "+",
          "*",
          "*",
          "tanh",
          "+",
          "+",
          "+",
          "*",
          "+",
          "*",
          "*",
          "+",
          "+",
          "+",
          "*",
          "+",
          "+",
          "+",
          "*",
          "*",
          "+",
          "+",
          "+",
          "+",
          "+",
          "+",
          "+",
          "+",
          "+",
          "+"
         ],
         "textposition": "middle center",
         "type": "scatter",
         "x": [
          0.0346325264080315,
          0.026140623266933075,
          0.01482674332824676,
          -0.3647264784445958,
          0.044524426273203466,
          0.43295269893253757,
          -0.27346868226052823,
          0.039880636193065706,
          0.06211572993999029,
          -0.5201124007303143,
          0.04911795453803296,
          0.028150207406554776,
          -0.27898220127655765,
          0.07274118049088306,
          0.16523763330038815,
          -0.1279926482556066,
          0.3973592314203437,
          -0.6699882183318677,
          -0.021160494013107406,
          -0.3803322416414857,
          0.39075082234010816,
          -0.058894583293386545,
          -0.3685903206439943,
          -0.006326524920745771,
          0.10232800728397604,
          0.02046853289802697,
          0.3191382634260642,
          -0.05602408738140911,
          0.3019531763702231,
          0.006900090604624667,
          -0.13381819949880028,
          0.3057384964799391,
          0.1819359125183418,
          0.44816527930296246,
          0.11726639678566456,
          -0.141521338673297,
          -0.029168998882021898,
          -0.017025649984201724,
          0.3059767218333086,
          0.03644497868022036,
          -0.16847169548386454,
          0.17623855486817744,
          0.178045978675246,
          -0.15368766187942065,
          0.23853928180681688,
          0.05014174624048895,
          0.030672698407301864,
          0.1541359880571907,
          -0.11732950451853896,
          0.3544347773753295,
          0.1956114407762889,
          -0.054983876108787605,
          -0.1849669663403336,
          0.5174682087122768,
          -0.22701563195088992,
          0.2052685396469927,
          0.28044577801837367,
          -0.21301771118484242,
          0.09949411284069684,
          -0.11932746568324545,
          0.36610069198180534,
          0.018204977209670625,
          -0.09741027166786385,
          -0.1067251254170121,
          0.04371793246564151,
          0.20262818509357847,
          0.10488088086818934,
          0.5307890225270975,
          -0.09195155955882686,
          -0.24297649096383483,
          0.06943090451942793,
          0.025496702937343126,
          0.11467161085715512,
          0.27503973691201655,
          0.16499235027281017,
          -0.23568532883530446,
          -0.6900715943891886,
          0.2651910437978302,
          0.23125439409766324,
          0.005879187056375765,
          0.10663552531894552,
          -0.5373978391601989,
          -0.7072921131117064,
          -0.12988437511068093,
          -0.2827934322626116,
          -0.1420686863297929,
          -0.22505285566623404,
          -0.02320735410812698,
          0.30435609773480876,
          -0.6636075680793074,
          -0.11310652776280006,
          0.2721287697963285,
          0.309853180951706,
          0.3284002690824792,
          -0.05060368401029603,
          0.11644302705083842,
          -0.10002727689615515,
          -0.6039365444726776,
          -0.04686042191123095,
          0.026846668909208837,
          0.11423710661726762,
          0.31367782459876303,
          0.39232179675345635,
          -0.27889275104982847,
          -0.5283289662886896,
          0.327188764266753,
          -0.03851260659692841,
          -0.2801106570363502,
          0.017752283743977727,
          -0.12679151110838932,
          -0.04216320557743425,
          0.4055587397679161,
          -0.6444518591148534,
          0.317182950497579,
          0.22212572732906605,
          -0.5234540733820932,
          0.46599728385844397,
          -0.42632793368162447,
          0.2197295172589943,
          0.3702669072207715,
          0.06596736345452923,
          -0.861415684842509,
          0.5073267301489135,
          -0.4382081331522215,
          0.06631788384835728,
          0.0489206356850373,
          0.45914949593773313,
          -0.6711962881027915,
          -0.41927295286079846,
          -0.2778339173975532,
          -0.33628874212829307,
          -0.3244243915728331,
          0.12498050921001164,
          -0.28849359706777156,
          -0.22989329474915404,
          -0.0498564233995891,
          -0.11914012142221352,
          -0.1285496345698457,
          -0.27892111568498135,
          0.06817842340179651,
          -0.0007966089390055459,
          0.23727430069412742,
          0.4740245501731502,
          0.03950210323626598,
          -0.13745582560116731,
          -0.3543962743754282,
          -0.7076115890268548,
          0.21848306314707847,
          -0.26702161074059855,
          0.22189503788934775,
          -0.43503944508520953,
          -0.34256607488386526,
          -0.4447602915370324,
          0.3304714851422543,
          0.3186358540289338
         ],
         "y": [
          -0.15979044793755437,
          -0.15195731908760463,
          -0.4764993912098531,
          0.5378012989826317,
          -0.268602032393861,
          -0.30602783112632304,
          -0.3676336714228326,
          -0.31622871298096134,
          -0.615258065234343,
          0.2775359242996007,
          -0.11646592983907371,
          -0.3017909316208649,
          -0.37687616391112466,
          -0.6178046966743941,
          -0.2487482998480181,
          -0.08503907162326524,
          0.08549779311381545,
          0.3920544010511874,
          0.20220834229505968,
          0.43707186189293046,
          0.10460782487866543,
          -0.29844051989550036,
          0.1551937083737586,
          -0.15281083626278646,
          0.21138444556089298,
          -0.31328101416128085,
          0.23718629242517386,
          -0.21408209949608512,
          -0.24435298817076878,
          -0.1709247348097902,
          -0.23790117166393276,
          0.011139968742785882,
          0.04839132515487662,
          -0.3190429506702283,
          0.10655264301781263,
          0.3031048866581305,
          0.3618548833810016,
          -0.010536236548873701,
          -0.2572229619902038,
          -0.25870630258751287,
          -0.08023413937716954,
          -0.24921969323380166,
          0.12017086470718849,
          0.05924416649002949,
          -0.16249535056527453,
          -0.32248975868758584,
          0.5531466322408325,
          -0.20271637880274374,
          -0.27626174980988316,
          -0.16770767007301743,
          0.03882068306774274,
          0.2011585738045699,
          -0.06724483189553723,
          0.12962198581352935,
          0.2222502504475825,
          0.046468269115125374,
          -0.2520524876711541,
          0.034379262890220974,
          -0.40970385671364606,
          -0.26750911462266364,
          0.08254720618247498,
          -0.15759302548654702,
          -0.2566145707865227,
          0.17487918583250267,
          -0.1538155381327304,
          -0.011612324985372596,
          0.2696678905108701,
          -0.41085648291400645,
          -0.23896003727153295,
          0.37309278760066567,
          0.08967070169753438,
          -0.48311411615358363,
          0.07858807401888931,
          -0.04313122755617209,
          -0.20212589195008776,
          -0.23217802413798205,
          0.2696861986998753,
          0.057297430054319906,
          0.45204746428139986,
          -0.14017475854978084,
          0.12420592657278784,
          0.16865590922059565,
          0.2372906001901705,
          -0.2688435229452936,
          0.37223555068377434,
          0.34422689295373027,
          -0.22749163881092566,
          0.17356413185843464,
          -0.27096520946403324,
          0.22287131797007267,
          0.0854344983772044,
          0.06930147635793385,
          0.024813671114949316,
          0.16775237766730922,
          -0.2830054073750712,
          -0.23693575691030103,
          0.08331947441229215,
          0.3157257659773312,
          0.18510188998420274,
          -0.3258990307640709,
          0.21418552471744873,
          0.28838320641829074,
          -0.1758690340460871,
          0.44538547259147054,
          0.2941414224325962,
          -0.23665110490501456,
          -0.19893605357250854,
          0.37480089653293225,
          0.007297959890226247,
          0.3038002660358784,
          0.3065179867865264,
          -0.1747853054001146,
          0.2551519616374194,
          0.26989465146792435,
          -0.6883570163359034,
          0.47310652862975466,
          -0.30568991580734883,
          0.34765639499164,
          0.09131499312565064,
          0.06384454875889477,
          0.47073610243214475,
          0.2747814004329652,
          0.14805367460093655,
          0.34725656900372937,
          0.48832749340686166,
          -0.19806357574264574,
          -0.32177677500524415,
          0.4058264848479549,
          0.3786322996651277,
          0.35625822178657274,
          0.4658874585975967,
          0.5131167975621493,
          -0.22517097178994544,
          0.34421468928088006,
          0.3512973106314266,
          -0.28220040034094773,
          0.514180017070619,
          0.5317187011541922,
          0.45676383564544965,
          -0.6457355140412366,
          0.023196546167175983,
          0.09476871395652464,
          -0.29501332451437284,
          -0.44520875712393976,
          -0.07478947657049795,
          0.25759542233888283,
          0.3335277386987565,
          0.39089850626335987,
          0.3409491130352171,
          0.3769286274504903,
          0.18236071101910567,
          0.24207019177534367,
          0.2169228537268969,
          -0.03370517924071158,
          -0.02726255753812299
         ]
        },
        {
         "hoverinfo": "text",
         "marker": {
          "color": "darkblue",
          "size": 20
         },
         "mode": "markers+text",
         "text": [
          "0",
          "0",
          "0",
          "0",
          "0",
          "0",
          "0",
          "0",
          "0",
          "0",
          "0",
          "0",
          "0",
          "0",
          "0",
          "0",
          "0",
          "0",
          "0",
          "0",
          "0",
          "0",
          "0",
          "0",
          "0",
          "0",
          "0",
          "0",
          "0",
          "0",
          "0",
          "0",
          "0",
          "0",
          "0",
          "0",
          "0",
          "0",
          "0",
          "0",
          "0",
          "0",
          "0",
          "0",
          "0",
          "0",
          "0",
          "0",
          "0",
          "0",
          "0",
          "0",
          "0",
          "0",
          "0",
          "0",
          "0",
          "0",
          "0",
          "0",
          "0",
          "0",
          "0",
          "0",
          "0",
          "0",
          "0",
          "0",
          "0",
          "0",
          "0",
          "0",
          "0",
          "0",
          "0",
          "0",
          "0",
          "0",
          "0",
          "0",
          "0",
          "0",
          "0",
          "0",
          "0",
          "0",
          "0",
          "0",
          "0",
          "0",
          "0",
          "0",
          "0",
          "0",
          "0",
          "0",
          "0",
          "0",
          "0",
          "0",
          "0",
          "0",
          "0",
          "0",
          "0",
          "0",
          "0",
          "0",
          "0",
          "0",
          "0",
          "0",
          "0",
          "0",
          "0",
          "0",
          "0",
          "0",
          "0",
          "0",
          "0",
          "0",
          "0",
          "0",
          "0",
          "0",
          "0",
          "0",
          "0",
          "0",
          "0",
          "0",
          "0",
          "0",
          "0",
          "0",
          "0",
          "0",
          "0",
          "0",
          "0",
          "0",
          "0",
          "0"
         ],
         "type": "scatter",
         "x": [
          0.0018320994055967444,
          0.0252106678503991,
          0.013927088710838685,
          -0.298104540516861,
          0.11919584683487508,
          0.45384331880338785,
          -0.28942653519944966,
          0.12082569089267355,
          0.1103043711691419,
          -0.44307393976931664,
          0.03321942452411944,
          0.03108974696271045,
          -0.3004535732315085,
          0.13155527227092742,
          0.22743831495186742,
          -0.12606969391283793,
          0.467505217640687,
          -0.6131435908500081,
          -0.023581892628526883,
          -0.38162564844744185,
          0.454288399480216,
          0.006985490611302863,
          -0.36478883297720077,
          -0.04587247436561098,
          0.16236894688238845,
          0.015726397945654835,
          0.34720105405358287,
          -0.11388027416841497,
          0.37791680541101713,
          0.05967265557486032,
          -0.15375612482918558,
          0.3670816420513274,
          0.21704429439265663,
          0.5136079104657365,
          -0.01873909539768793,
          0.3642511719059491,
          0.10303695164890887,
          -0.18086928663606394,
          0.249440158087446,
          0.06501648455194647,
          0.1009442991809596,
          0.22598954732942914,
          -0.05378972240101398,
          0.3599593025320747,
          0.24439535090855086,
          -0.08638585958904833,
          -0.2138598283490021,
          0.5806480179443377,
          -0.1842348950991831,
          0.06743295341046626,
          -0.12477465719807596,
          0.4188635907606069,
          0.08228242878495223,
          -0.04106441850654213,
          0.05634611796857257,
          0.5681194424279139,
          -0.030146994288468145,
          -0.15277987126979373,
          0.08251569107028331,
          0.03526700792903142,
          0.14682753064402693,
          0.2968075848550161,
          0.24770227176066809,
          -0.2575108293216068,
          -0.6883903322399822,
          0.31333779320300376,
          0.3090931444275204,
          -0.015312204570715521,
          0.13075535956760773,
          -0.5813273025402467,
          -0.6917528565383949,
          -0.07889946358529792,
          -0.30128328257631715,
          -0.0854030474635495,
          -0.23624588298346597,
          0.008433988804488401,
          0.38272264814018836,
          -0.6043837664735969,
          -0.1560741043316651,
          0.32721324520000034,
          0.3753110109948611,
          0.31369641228143935,
          0.023567289177483897,
          0.17321339852681653,
          -0.12991560259837528,
          -0.5194827567053729,
          -0.07013895119393501,
          0.09475775632495981,
          0.18618714554897162,
          0.34310412588351913,
          0.4120620790616873,
          -0.2642468526786003,
          -0.45950707088606735,
          0.4066752567728379,
          -0.07885731259945356,
          -0.20328780447363032,
          0.02707057868346705,
          -0.05484869702074236,
          0.04228706768556362,
          0.4385359650906069,
          -0.5971508616913119,
          0.35011437768115106,
          0.31269618238720465,
          -0.4313484163723307,
          0.4934586026262811,
          -0.33317311065787597,
          0.25327188896901703,
          0.42719602123853917,
          0.15271460298015,
          -0.7228313696850178,
          0.5603650608176111,
          -0.3569335095990701,
          0.1534156437678061,
          0.06462184684595516,
          0.535576343735278,
          -0.6155597303918557,
          -0.3790388348355295,
          -1,
          -0.19873432519603626,
          -0.2935386494210566,
          -0.2175003667733355,
          0.19028836284516296,
          -0.31274034145694274,
          -0.12661347884043211,
          -0.08440064222846268,
          -0.02077987607109152,
          -0.03959890236635587,
          -0.2643035819489061,
          0.1010898388745616,
          -0.010027206682499493,
          0.2883614558392832,
          0.5095131352556935,
          0.04791445950982152,
          -0.14499604860395934,
          -0.3960522072939137,
          -0.7268328458137273,
          0.28425152331400694,
          -0.2697963688025968,
          0.2910754727985455,
          -0.4740266828765054,
          -0.3723918083107878,
          -0.49346837578015107,
          0.37258151444522536,
          0.34891025221858435
         ],
         "y": [
          -0.17999116077746075,
          -0.22935466092199958,
          -0.555791415019144,
          0.5738137051359505,
          -0.2869132953578121,
          -0.36302361359066365,
          -0.4257657929882936,
          -0.3468575895020332,
          -0.674724715449542,
          0.2843136505923138,
          -0.15697320720958083,
          -0.3742272023197303,
          -0.4442507779648777,
          -0.6798179783296442,
          -0.23037476395092035,
          -0.18621292994422406,
          0.08474441312453718,
          0.41687999683666127,
          0.21969961784151476,
          0.4344037713139103,
          0.12296447665423713,
          -0.310035848760383,
          0.11594043129889163,
          -0.14864846531599207,
          0.14863960865116913,
          -0.3972073674005622,
          0.15807220296740415,
          -0.24817303821470948,
          -0.249810804393152,
          -0.19320100430358833,
          -0.22762930511315604,
          -0.010930557952934454,
          0.05235177961277397,
          -0.33505065436077563,
          0.1847170667486046,
          -0.27673172573733396,
          -0.2671218357451159,
          -0.18083311338185715,
          -0.23131755072248741,
          -0.07595865246856659,
          0.5673005644682663,
          -0.23889517194838553,
          -0.3716903862379091,
          -0.24559456412102024,
          0.03321049543850622,
          0.18261752976762502,
          -0.15485449841859253,
          0.1362794949728216,
          0.1613382552844291,
          -0.139589735097648,
          -0.2868451910306178,
          0.10285133186908411,
          -0.16653758565710197,
          -0.2855998364598894,
          0.06659612605426943,
          -0.45719772558335264,
          -0.25029076942990985,
          0.38249764504091416,
          0.11274527734079935,
          -0.5690208649066051,
          0.04443087069697926,
          -0.11465067439936483,
          -0.23771419824307355,
          -0.3095015498573716,
          0.2998266721317996,
          0.062243080495865834,
          0.43135527359532894,
          -0.205789539846352,
          0.13566657580477634,
          0.12896355756310138,
          0.23954572526795107,
          -0.3568539325087301,
          0.32297839479989215,
          0.33882562051891085,
          -0.30012877920325876,
          0.08915589703366217,
          -0.303035246979681,
          0.21070716082775542,
          0.020364834627518067,
          0.08625117310309373,
          0.01641684679139242,
          0.10297848200671969,
          -0.2791656237195246,
          -0.2806705095170137,
          0.016134786697693568,
          0.3316248598228628,
          0.15050416212689074,
          -0.3661982250682524,
          0.15424176696428063,
          0.23252627332789874,
          -0.24903204866198245,
          0.39873598045969827,
          0.3175246468583048,
          -0.23558801156695558,
          -0.2178809463675563,
          0.38671351488126865,
          -0.07455997725320967,
          0.2579723666832071,
          0.2741292824706168,
          -0.2468645913700374,
          0.27075819800688766,
          0.19554916342716594,
          -0.6968960543421626,
          0.501788892829313,
          -0.36451524024466025,
          0.36368793016041717,
          0.028388219287020657,
          0.0654460170219237,
          0.43755687301803703,
          0.23503547511238992,
          0.17314287254763597,
          0.36288827818459585,
          0.4727396549674708,
          -0.23915394427571066,
          -0.3405183030308073,
          0.44442416443019633,
          0.43973995247195063,
          0.3145273257535404,
          0.3496281653885497,
          0.49203496472324276,
          0.5244447022949856,
          -0.25714093927630255,
          0.2896933981020618,
          0.33890669110243604,
          -0.3586112608355435,
          0.5039153318462525,
          0.5389927000133986,
          0.42149270656765647,
          -0.7224501631758683,
          -0.0427628046993102,
          0.03529566094876864,
          -0.3431620576587083,
          -0.5161903119281492,
          -0.16571373983868945,
          0.2254974465757039,
          0.36722880526571344,
          0.34424013950868276,
          0.2831622456107359,
          0.31630038188294357,
          0.13922397546250742,
          0.19444698544862557,
          0.20834826087808994,
          -0.1027060194301918,
          -0.08982077602501462
         ]
        }
       ],
       "layout": {
        "template": {
         "data": {
          "bar": [
           {
            "error_x": {
             "color": "#f2f5fa"
            },
            "error_y": {
             "color": "#f2f5fa"
            },
            "marker": {
             "line": {
              "color": "rgb(17,17,17)",
              "width": 0.5
             },
             "pattern": {
              "fillmode": "overlay",
              "size": 10,
              "solidity": 0.2
             }
            },
            "type": "bar"
           }
          ],
          "barpolar": [
           {
            "marker": {
             "line": {
              "color": "rgb(17,17,17)",
              "width": 0.5
             },
             "pattern": {
              "fillmode": "overlay",
              "size": 10,
              "solidity": 0.2
             }
            },
            "type": "barpolar"
           }
          ],
          "carpet": [
           {
            "aaxis": {
             "endlinecolor": "#A2B1C6",
             "gridcolor": "#506784",
             "linecolor": "#506784",
             "minorgridcolor": "#506784",
             "startlinecolor": "#A2B1C6"
            },
            "baxis": {
             "endlinecolor": "#A2B1C6",
             "gridcolor": "#506784",
             "linecolor": "#506784",
             "minorgridcolor": "#506784",
             "startlinecolor": "#A2B1C6"
            },
            "type": "carpet"
           }
          ],
          "choropleth": [
           {
            "colorbar": {
             "outlinewidth": 0,
             "ticks": ""
            },
            "type": "choropleth"
           }
          ],
          "contour": [
           {
            "colorbar": {
             "outlinewidth": 0,
             "ticks": ""
            },
            "colorscale": [
             [
              0,
              "#0d0887"
             ],
             [
              0.1111111111111111,
              "#46039f"
             ],
             [
              0.2222222222222222,
              "#7201a8"
             ],
             [
              0.3333333333333333,
              "#9c179e"
             ],
             [
              0.4444444444444444,
              "#bd3786"
             ],
             [
              0.5555555555555556,
              "#d8576b"
             ],
             [
              0.6666666666666666,
              "#ed7953"
             ],
             [
              0.7777777777777778,
              "#fb9f3a"
             ],
             [
              0.8888888888888888,
              "#fdca26"
             ],
             [
              1,
              "#f0f921"
             ]
            ],
            "type": "contour"
           }
          ],
          "contourcarpet": [
           {
            "colorbar": {
             "outlinewidth": 0,
             "ticks": ""
            },
            "type": "contourcarpet"
           }
          ],
          "heatmap": [
           {
            "colorbar": {
             "outlinewidth": 0,
             "ticks": ""
            },
            "colorscale": [
             [
              0,
              "#0d0887"
             ],
             [
              0.1111111111111111,
              "#46039f"
             ],
             [
              0.2222222222222222,
              "#7201a8"
             ],
             [
              0.3333333333333333,
              "#9c179e"
             ],
             [
              0.4444444444444444,
              "#bd3786"
             ],
             [
              0.5555555555555556,
              "#d8576b"
             ],
             [
              0.6666666666666666,
              "#ed7953"
             ],
             [
              0.7777777777777778,
              "#fb9f3a"
             ],
             [
              0.8888888888888888,
              "#fdca26"
             ],
             [
              1,
              "#f0f921"
             ]
            ],
            "type": "heatmap"
           }
          ],
          "heatmapgl": [
           {
            "colorbar": {
             "outlinewidth": 0,
             "ticks": ""
            },
            "colorscale": [
             [
              0,
              "#0d0887"
             ],
             [
              0.1111111111111111,
              "#46039f"
             ],
             [
              0.2222222222222222,
              "#7201a8"
             ],
             [
              0.3333333333333333,
              "#9c179e"
             ],
             [
              0.4444444444444444,
              "#bd3786"
             ],
             [
              0.5555555555555556,
              "#d8576b"
             ],
             [
              0.6666666666666666,
              "#ed7953"
             ],
             [
              0.7777777777777778,
              "#fb9f3a"
             ],
             [
              0.8888888888888888,
              "#fdca26"
             ],
             [
              1,
              "#f0f921"
             ]
            ],
            "type": "heatmapgl"
           }
          ],
          "histogram": [
           {
            "marker": {
             "pattern": {
              "fillmode": "overlay",
              "size": 10,
              "solidity": 0.2
             }
            },
            "type": "histogram"
           }
          ],
          "histogram2d": [
           {
            "colorbar": {
             "outlinewidth": 0,
             "ticks": ""
            },
            "colorscale": [
             [
              0,
              "#0d0887"
             ],
             [
              0.1111111111111111,
              "#46039f"
             ],
             [
              0.2222222222222222,
              "#7201a8"
             ],
             [
              0.3333333333333333,
              "#9c179e"
             ],
             [
              0.4444444444444444,
              "#bd3786"
             ],
             [
              0.5555555555555556,
              "#d8576b"
             ],
             [
              0.6666666666666666,
              "#ed7953"
             ],
             [
              0.7777777777777778,
              "#fb9f3a"
             ],
             [
              0.8888888888888888,
              "#fdca26"
             ],
             [
              1,
              "#f0f921"
             ]
            ],
            "type": "histogram2d"
           }
          ],
          "histogram2dcontour": [
           {
            "colorbar": {
             "outlinewidth": 0,
             "ticks": ""
            },
            "colorscale": [
             [
              0,
              "#0d0887"
             ],
             [
              0.1111111111111111,
              "#46039f"
             ],
             [
              0.2222222222222222,
              "#7201a8"
             ],
             [
              0.3333333333333333,
              "#9c179e"
             ],
             [
              0.4444444444444444,
              "#bd3786"
             ],
             [
              0.5555555555555556,
              "#d8576b"
             ],
             [
              0.6666666666666666,
              "#ed7953"
             ],
             [
              0.7777777777777778,
              "#fb9f3a"
             ],
             [
              0.8888888888888888,
              "#fdca26"
             ],
             [
              1,
              "#f0f921"
             ]
            ],
            "type": "histogram2dcontour"
           }
          ],
          "mesh3d": [
           {
            "colorbar": {
             "outlinewidth": 0,
             "ticks": ""
            },
            "type": "mesh3d"
           }
          ],
          "parcoords": [
           {
            "line": {
             "colorbar": {
              "outlinewidth": 0,
              "ticks": ""
             }
            },
            "type": "parcoords"
           }
          ],
          "pie": [
           {
            "automargin": true,
            "type": "pie"
           }
          ],
          "scatter": [
           {
            "marker": {
             "line": {
              "color": "#283442"
             }
            },
            "type": "scatter"
           }
          ],
          "scatter3d": [
           {
            "line": {
             "colorbar": {
              "outlinewidth": 0,
              "ticks": ""
             }
            },
            "marker": {
             "colorbar": {
              "outlinewidth": 0,
              "ticks": ""
             }
            },
            "type": "scatter3d"
           }
          ],
          "scattercarpet": [
           {
            "marker": {
             "colorbar": {
              "outlinewidth": 0,
              "ticks": ""
             }
            },
            "type": "scattercarpet"
           }
          ],
          "scattergeo": [
           {
            "marker": {
             "colorbar": {
              "outlinewidth": 0,
              "ticks": ""
             }
            },
            "type": "scattergeo"
           }
          ],
          "scattergl": [
           {
            "marker": {
             "line": {
              "color": "#283442"
             }
            },
            "type": "scattergl"
           }
          ],
          "scattermapbox": [
           {
            "marker": {
             "colorbar": {
              "outlinewidth": 0,
              "ticks": ""
             }
            },
            "type": "scattermapbox"
           }
          ],
          "scatterpolar": [
           {
            "marker": {
             "colorbar": {
              "outlinewidth": 0,
              "ticks": ""
             }
            },
            "type": "scatterpolar"
           }
          ],
          "scatterpolargl": [
           {
            "marker": {
             "colorbar": {
              "outlinewidth": 0,
              "ticks": ""
             }
            },
            "type": "scatterpolargl"
           }
          ],
          "scatterternary": [
           {
            "marker": {
             "colorbar": {
              "outlinewidth": 0,
              "ticks": ""
             }
            },
            "type": "scatterternary"
           }
          ],
          "surface": [
           {
            "colorbar": {
             "outlinewidth": 0,
             "ticks": ""
            },
            "colorscale": [
             [
              0,
              "#0d0887"
             ],
             [
              0.1111111111111111,
              "#46039f"
             ],
             [
              0.2222222222222222,
              "#7201a8"
             ],
             [
              0.3333333333333333,
              "#9c179e"
             ],
             [
              0.4444444444444444,
              "#bd3786"
             ],
             [
              0.5555555555555556,
              "#d8576b"
             ],
             [
              0.6666666666666666,
              "#ed7953"
             ],
             [
              0.7777777777777778,
              "#fb9f3a"
             ],
             [
              0.8888888888888888,
              "#fdca26"
             ],
             [
              1,
              "#f0f921"
             ]
            ],
            "type": "surface"
           }
          ],
          "table": [
           {
            "cells": {
             "fill": {
              "color": "#506784"
             },
             "line": {
              "color": "rgb(17,17,17)"
             }
            },
            "header": {
             "fill": {
              "color": "#2a3f5f"
             },
             "line": {
              "color": "rgb(17,17,17)"
             }
            },
            "type": "table"
           }
          ]
         },
         "layout": {
          "annotationdefaults": {
           "arrowcolor": "#f2f5fa",
           "arrowhead": 0,
           "arrowwidth": 1
          },
          "autotypenumbers": "strict",
          "coloraxis": {
           "colorbar": {
            "outlinewidth": 0,
            "ticks": ""
           }
          },
          "colorscale": {
           "diverging": [
            [
             0,
             "#8e0152"
            ],
            [
             0.1,
             "#c51b7d"
            ],
            [
             0.2,
             "#de77ae"
            ],
            [
             0.3,
             "#f1b6da"
            ],
            [
             0.4,
             "#fde0ef"
            ],
            [
             0.5,
             "#f7f7f7"
            ],
            [
             0.6,
             "#e6f5d0"
            ],
            [
             0.7,
             "#b8e186"
            ],
            [
             0.8,
             "#7fbc41"
            ],
            [
             0.9,
             "#4d9221"
            ],
            [
             1,
             "#276419"
            ]
           ],
           "sequential": [
            [
             0,
             "#0d0887"
            ],
            [
             0.1111111111111111,
             "#46039f"
            ],
            [
             0.2222222222222222,
             "#7201a8"
            ],
            [
             0.3333333333333333,
             "#9c179e"
            ],
            [
             0.4444444444444444,
             "#bd3786"
            ],
            [
             0.5555555555555556,
             "#d8576b"
            ],
            [
             0.6666666666666666,
             "#ed7953"
            ],
            [
             0.7777777777777778,
             "#fb9f3a"
            ],
            [
             0.8888888888888888,
             "#fdca26"
            ],
            [
             1,
             "#f0f921"
            ]
           ],
           "sequentialminus": [
            [
             0,
             "#0d0887"
            ],
            [
             0.1111111111111111,
             "#46039f"
            ],
            [
             0.2222222222222222,
             "#7201a8"
            ],
            [
             0.3333333333333333,
             "#9c179e"
            ],
            [
             0.4444444444444444,
             "#bd3786"
            ],
            [
             0.5555555555555556,
             "#d8576b"
            ],
            [
             0.6666666666666666,
             "#ed7953"
            ],
            [
             0.7777777777777778,
             "#fb9f3a"
            ],
            [
             0.8888888888888888,
             "#fdca26"
            ],
            [
             1,
             "#f0f921"
            ]
           ]
          },
          "colorway": [
           "#636efa",
           "#EF553B",
           "#00cc96",
           "#ab63fa",
           "#FFA15A",
           "#19d3f3",
           "#FF6692",
           "#B6E880",
           "#FF97FF",
           "#FECB52"
          ],
          "font": {
           "color": "#f2f5fa"
          },
          "geo": {
           "bgcolor": "rgb(17,17,17)",
           "lakecolor": "rgb(17,17,17)",
           "landcolor": "rgb(17,17,17)",
           "showlakes": true,
           "showland": true,
           "subunitcolor": "#506784"
          },
          "hoverlabel": {
           "align": "left"
          },
          "hovermode": "closest",
          "mapbox": {
           "style": "dark"
          },
          "paper_bgcolor": "rgb(17,17,17)",
          "plot_bgcolor": "rgb(17,17,17)",
          "polar": {
           "angularaxis": {
            "gridcolor": "#506784",
            "linecolor": "#506784",
            "ticks": ""
           },
           "bgcolor": "rgb(17,17,17)",
           "radialaxis": {
            "gridcolor": "#506784",
            "linecolor": "#506784",
            "ticks": ""
           }
          },
          "scene": {
           "xaxis": {
            "backgroundcolor": "rgb(17,17,17)",
            "gridcolor": "#506784",
            "gridwidth": 2,
            "linecolor": "#506784",
            "showbackground": true,
            "ticks": "",
            "zerolinecolor": "#C8D4E3"
           },
           "yaxis": {
            "backgroundcolor": "rgb(17,17,17)",
            "gridcolor": "#506784",
            "gridwidth": 2,
            "linecolor": "#506784",
            "showbackground": true,
            "ticks": "",
            "zerolinecolor": "#C8D4E3"
           },
           "zaxis": {
            "backgroundcolor": "rgb(17,17,17)",
            "gridcolor": "#506784",
            "gridwidth": 2,
            "linecolor": "#506784",
            "showbackground": true,
            "ticks": "",
            "zerolinecolor": "#C8D4E3"
           }
          },
          "shapedefaults": {
           "line": {
            "color": "#f2f5fa"
           }
          },
          "sliderdefaults": {
           "bgcolor": "#C8D4E3",
           "bordercolor": "rgb(17,17,17)",
           "borderwidth": 1,
           "tickwidth": 0
          },
          "ternary": {
           "aaxis": {
            "gridcolor": "#506784",
            "linecolor": "#506784",
            "ticks": ""
           },
           "baxis": {
            "gridcolor": "#506784",
            "linecolor": "#506784",
            "ticks": ""
           },
           "bgcolor": "rgb(17,17,17)",
           "caxis": {
            "gridcolor": "#506784",
            "linecolor": "#506784",
            "ticks": ""
           }
          },
          "title": {
           "x": 0.05
          },
          "updatemenudefaults": {
           "bgcolor": "#506784",
           "borderwidth": 0
          },
          "xaxis": {
           "automargin": true,
           "gridcolor": "#283442",
           "linecolor": "#506784",
           "ticks": "",
           "title": {
            "standoff": 15
           },
           "zerolinecolor": "#283442",
           "zerolinewidth": 2
          },
          "yaxis": {
           "automargin": true,
           "gridcolor": "#283442",
           "linecolor": "#506784",
           "ticks": "",
           "title": {
            "standoff": 15
           },
           "zerolinecolor": "#283442",
           "zerolinewidth": 2
          }
         }
        }
       }
      }
     },
     "metadata": {},
     "output_type": "display_data"
    }
   ],
   "source": [
    "x = [2,3,-1]\n",
    "n = MLP(3,[4, 4, 1])\n",
    "n(x)\n",
    "\n",
    "draw_graph(n(x)[0])\n",
    "\n"
   ]
  },
  {
   "cell_type": "code",
   "execution_count": 273,
   "metadata": {},
   "outputs": [
    {
     "name": "stdout",
     "output_type": "stream",
     "text": [
      "[Value(-0.8977228233035185, ), Value(-0.8825348045422272, ), Value(-0.7622051267633239, ), Value(-0.4756016938795196, )]\n"
     ]
    }
   ],
   "source": [
    "#Loss Function\n",
    "\n",
    "#Say we have these inputs \n",
    "xs = [[2,3,-1],[3,-1,.5],[.5,1,1],[1,1,-1]]\n",
    "\n",
    "#And we want these outputs\n",
    "ys = [1,-1,-1,1]\n",
    "\n",
    "#Right now we have \n",
    "ypred = [n(x)[0] for x in xs]\n",
    "print(ypred)\n",
    "\n",
    "#We want to minimize the loss function "
   ]
  },
  {
   "cell_type": "code",
   "execution_count": 274,
   "metadata": {},
   "outputs": [
    {
     "data": {
      "text/plain": [
       "41"
      ]
     },
     "execution_count": 274,
     "metadata": {},
     "output_type": "execute_result"
    }
   ],
   "source": [
    "#Mean Squared Error\n",
    "def mse(y,ypred):\n",
    "    mse = []\n",
    "    for ygt, yOut in zip(y,ypred):\n",
    "        #Distance from ground truth squared = MSE \n",
    "        mse.append( (ygt - yOut)**2 )\n",
    "\n",
    "        \n",
    "\n",
    "    return sum(mse)\n",
    "\n",
    "loss = mse(ys,ypred)\n",
    "\n",
    "loss.backwards()\n",
    "\n",
    "len( n.parameters() )"
   ]
  },
  {
   "cell_type": "code",
   "execution_count": 16,
   "metadata": {},
   "outputs": [
    {
     "data": {
      "text/plain": [
       "9.97543062391412"
      ]
     },
     "execution_count": 16,
     "metadata": {},
     "output_type": "execute_result"
    }
   ],
   "source": [
    "n.layers[0].neurons[0].w[0].grad #Gradient of first weight in first neuron in first layer\n",
    "#Slightly decreasing the data would make the loss smaller (cause its calculated with respect to loss) (assuming grad is positive)"
   ]
  },
  {
   "cell_type": "code",
   "execution_count": 574,
   "metadata": {},
   "outputs": [
    {
     "name": "stdout",
     "output_type": "stream",
     "text": [
      "Loss= 0.0\n",
      "[Value(1.0, ), Value(-1.0, ), Value(-1.0, ), Value(1.0, )]\n"
     ]
    }
   ],
   "source": [
    "yPred = [n(x)[0] for x in xs] #Forward pass\n",
    "loss = mse(ys,yPred) \n",
    "\n",
    "#Reset the gradients\n",
    "for p in n.parameters():\n",
    "    p.grad = 0 \n",
    "loss.backwards() #Backpropagate the gradients\n",
    "print(\"Loss=\",loss.data) \n",
    "print(yPred)\n",
    "for p in n.parameters():\n",
    "    # p.data += .01*p.grad\n",
    "    p.data -= .01*p.grad #Update the weights\n",
    "\n",
    "#Print Gradients\n",
    "for p in n.parameters():\n",
    "    if p.grad != 0: \n",
    "        print(p.label,p.grad)\n",
    "    \n"
   ]
  }
 ],
 "metadata": {
  "kernelspec": {
   "display_name": "Python 3.8.3 64-bit",
   "language": "python",
   "name": "python3"
  },
  "language_info": {
   "codemirror_mode": {
    "name": "ipython",
    "version": 3
   },
   "file_extension": ".py",
   "mimetype": "text/x-python",
   "name": "python",
   "nbconvert_exporter": "python",
   "pygments_lexer": "ipython3",
   "version": "3.8.3"
  },
  "orig_nbformat": 4,
  "vscode": {
   "interpreter": {
    "hash": "1f59d50658d4cd97c33559e64c64cdabcc2031b5c15f33137a9aa45101c8cb06"
   }
  }
 },
 "nbformat": 4,
 "nbformat_minor": 2
}
