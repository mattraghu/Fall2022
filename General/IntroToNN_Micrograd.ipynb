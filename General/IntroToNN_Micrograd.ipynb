{
 "cells": [
  {
   "cell_type": "code",
   "execution_count": 2,
   "metadata": {},
   "outputs": [],
   "source": [
    "import math \n",
    "import numpy as np \n",
    "import plotly.express as px \n",
    "import plotly.io as pio\n",
    "import plotly.graph_objects as go\n",
    "import matplotlib.pyplot as plt\n",
    "import random\n",
    "\n",
    "%matplotlib inline\n",
    "pio.templates.default = \"plotly_dark\""
   ]
  },
  {
   "cell_type": "code",
   "execution_count": 6,
   "metadata": {},
   "outputs": [
    {
     "data": {
      "application/vnd.plotly.v1+json": {
       "config": {
        "plotlyServerURL": "https://plot.ly"
       },
       "data": [
        {
         "hovertemplate": "x=%{x}<br>y=%{y}<extra></extra>",
         "legendgroup": "",
         "line": {
          "color": "#636efa",
          "dash": "solid"
         },
         "marker": {
          "symbol": "circle"
         },
         "mode": "lines",
         "name": "",
         "orientation": "v",
         "showlegend": false,
         "type": "scatter",
         "x": [
          -5,
          -4.75,
          -4.5,
          -4.25,
          -4,
          -3.75,
          -3.5,
          -3.25,
          -3,
          -2.75,
          -2.5,
          -2.25,
          -2,
          -1.75,
          -1.5,
          -1.25,
          -1,
          -0.75,
          -0.5,
          -0.25,
          0,
          0.25,
          0.5,
          0.75,
          1,
          1.25,
          1.5,
          1.75,
          2,
          2.25,
          2.5,
          2.75,
          3,
          3.25,
          3.5,
          3.75,
          4,
          4.25,
          4.5,
          4.75
         ],
         "xaxis": "x",
         "y": [
          100,
          91.6875,
          83.75,
          76.1875,
          69,
          62.1875,
          55.75,
          49.6875,
          44,
          38.6875,
          33.75,
          29.1875,
          25,
          21.1875,
          17.75,
          14.6875,
          12,
          9.6875,
          7.75,
          6.1875,
          5,
          4.1875,
          3.75,
          3.6875,
          4,
          4.6875,
          5.75,
          7.1875,
          9,
          11.1875,
          13.75,
          16.6875,
          20,
          23.6875,
          27.75,
          32.1875,
          37,
          42.1875,
          47.75,
          53.6875
         ],
         "yaxis": "y"
        }
       ],
       "layout": {
        "legend": {
         "tracegroupgap": 0
        },
        "margin": {
         "t": 60
        },
        "template": {
         "data": {
          "bar": [
           {
            "error_x": {
             "color": "#f2f5fa"
            },
            "error_y": {
             "color": "#f2f5fa"
            },
            "marker": {
             "line": {
              "color": "rgb(17,17,17)",
              "width": 0.5
             },
             "pattern": {
              "fillmode": "overlay",
              "size": 10,
              "solidity": 0.2
             }
            },
            "type": "bar"
           }
          ],
          "barpolar": [
           {
            "marker": {
             "line": {
              "color": "rgb(17,17,17)",
              "width": 0.5
             },
             "pattern": {
              "fillmode": "overlay",
              "size": 10,
              "solidity": 0.2
             }
            },
            "type": "barpolar"
           }
          ],
          "carpet": [
           {
            "aaxis": {
             "endlinecolor": "#A2B1C6",
             "gridcolor": "#506784",
             "linecolor": "#506784",
             "minorgridcolor": "#506784",
             "startlinecolor": "#A2B1C6"
            },
            "baxis": {
             "endlinecolor": "#A2B1C6",
             "gridcolor": "#506784",
             "linecolor": "#506784",
             "minorgridcolor": "#506784",
             "startlinecolor": "#A2B1C6"
            },
            "type": "carpet"
           }
          ],
          "choropleth": [
           {
            "colorbar": {
             "outlinewidth": 0,
             "ticks": ""
            },
            "type": "choropleth"
           }
          ],
          "contour": [
           {
            "colorbar": {
             "outlinewidth": 0,
             "ticks": ""
            },
            "colorscale": [
             [
              0,
              "#0d0887"
             ],
             [
              0.1111111111111111,
              "#46039f"
             ],
             [
              0.2222222222222222,
              "#7201a8"
             ],
             [
              0.3333333333333333,
              "#9c179e"
             ],
             [
              0.4444444444444444,
              "#bd3786"
             ],
             [
              0.5555555555555556,
              "#d8576b"
             ],
             [
              0.6666666666666666,
              "#ed7953"
             ],
             [
              0.7777777777777778,
              "#fb9f3a"
             ],
             [
              0.8888888888888888,
              "#fdca26"
             ],
             [
              1,
              "#f0f921"
             ]
            ],
            "type": "contour"
           }
          ],
          "contourcarpet": [
           {
            "colorbar": {
             "outlinewidth": 0,
             "ticks": ""
            },
            "type": "contourcarpet"
           }
          ],
          "heatmap": [
           {
            "colorbar": {
             "outlinewidth": 0,
             "ticks": ""
            },
            "colorscale": [
             [
              0,
              "#0d0887"
             ],
             [
              0.1111111111111111,
              "#46039f"
             ],
             [
              0.2222222222222222,
              "#7201a8"
             ],
             [
              0.3333333333333333,
              "#9c179e"
             ],
             [
              0.4444444444444444,
              "#bd3786"
             ],
             [
              0.5555555555555556,
              "#d8576b"
             ],
             [
              0.6666666666666666,
              "#ed7953"
             ],
             [
              0.7777777777777778,
              "#fb9f3a"
             ],
             [
              0.8888888888888888,
              "#fdca26"
             ],
             [
              1,
              "#f0f921"
             ]
            ],
            "type": "heatmap"
           }
          ],
          "heatmapgl": [
           {
            "colorbar": {
             "outlinewidth": 0,
             "ticks": ""
            },
            "colorscale": [
             [
              0,
              "#0d0887"
             ],
             [
              0.1111111111111111,
              "#46039f"
             ],
             [
              0.2222222222222222,
              "#7201a8"
             ],
             [
              0.3333333333333333,
              "#9c179e"
             ],
             [
              0.4444444444444444,
              "#bd3786"
             ],
             [
              0.5555555555555556,
              "#d8576b"
             ],
             [
              0.6666666666666666,
              "#ed7953"
             ],
             [
              0.7777777777777778,
              "#fb9f3a"
             ],
             [
              0.8888888888888888,
              "#fdca26"
             ],
             [
              1,
              "#f0f921"
             ]
            ],
            "type": "heatmapgl"
           }
          ],
          "histogram": [
           {
            "marker": {
             "pattern": {
              "fillmode": "overlay",
              "size": 10,
              "solidity": 0.2
             }
            },
            "type": "histogram"
           }
          ],
          "histogram2d": [
           {
            "colorbar": {
             "outlinewidth": 0,
             "ticks": ""
            },
            "colorscale": [
             [
              0,
              "#0d0887"
             ],
             [
              0.1111111111111111,
              "#46039f"
             ],
             [
              0.2222222222222222,
              "#7201a8"
             ],
             [
              0.3333333333333333,
              "#9c179e"
             ],
             [
              0.4444444444444444,
              "#bd3786"
             ],
             [
              0.5555555555555556,
              "#d8576b"
             ],
             [
              0.6666666666666666,
              "#ed7953"
             ],
             [
              0.7777777777777778,
              "#fb9f3a"
             ],
             [
              0.8888888888888888,
              "#fdca26"
             ],
             [
              1,
              "#f0f921"
             ]
            ],
            "type": "histogram2d"
           }
          ],
          "histogram2dcontour": [
           {
            "colorbar": {
             "outlinewidth": 0,
             "ticks": ""
            },
            "colorscale": [
             [
              0,
              "#0d0887"
             ],
             [
              0.1111111111111111,
              "#46039f"
             ],
             [
              0.2222222222222222,
              "#7201a8"
             ],
             [
              0.3333333333333333,
              "#9c179e"
             ],
             [
              0.4444444444444444,
              "#bd3786"
             ],
             [
              0.5555555555555556,
              "#d8576b"
             ],
             [
              0.6666666666666666,
              "#ed7953"
             ],
             [
              0.7777777777777778,
              "#fb9f3a"
             ],
             [
              0.8888888888888888,
              "#fdca26"
             ],
             [
              1,
              "#f0f921"
             ]
            ],
            "type": "histogram2dcontour"
           }
          ],
          "mesh3d": [
           {
            "colorbar": {
             "outlinewidth": 0,
             "ticks": ""
            },
            "type": "mesh3d"
           }
          ],
          "parcoords": [
           {
            "line": {
             "colorbar": {
              "outlinewidth": 0,
              "ticks": ""
             }
            },
            "type": "parcoords"
           }
          ],
          "pie": [
           {
            "automargin": true,
            "type": "pie"
           }
          ],
          "scatter": [
           {
            "marker": {
             "line": {
              "color": "#283442"
             }
            },
            "type": "scatter"
           }
          ],
          "scatter3d": [
           {
            "line": {
             "colorbar": {
              "outlinewidth": 0,
              "ticks": ""
             }
            },
            "marker": {
             "colorbar": {
              "outlinewidth": 0,
              "ticks": ""
             }
            },
            "type": "scatter3d"
           }
          ],
          "scattercarpet": [
           {
            "marker": {
             "colorbar": {
              "outlinewidth": 0,
              "ticks": ""
             }
            },
            "type": "scattercarpet"
           }
          ],
          "scattergeo": [
           {
            "marker": {
             "colorbar": {
              "outlinewidth": 0,
              "ticks": ""
             }
            },
            "type": "scattergeo"
           }
          ],
          "scattergl": [
           {
            "marker": {
             "line": {
              "color": "#283442"
             }
            },
            "type": "scattergl"
           }
          ],
          "scattermapbox": [
           {
            "marker": {
             "colorbar": {
              "outlinewidth": 0,
              "ticks": ""
             }
            },
            "type": "scattermapbox"
           }
          ],
          "scatterpolar": [
           {
            "marker": {
             "colorbar": {
              "outlinewidth": 0,
              "ticks": ""
             }
            },
            "type": "scatterpolar"
           }
          ],
          "scatterpolargl": [
           {
            "marker": {
             "colorbar": {
              "outlinewidth": 0,
              "ticks": ""
             }
            },
            "type": "scatterpolargl"
           }
          ],
          "scatterternary": [
           {
            "marker": {
             "colorbar": {
              "outlinewidth": 0,
              "ticks": ""
             }
            },
            "type": "scatterternary"
           }
          ],
          "surface": [
           {
            "colorbar": {
             "outlinewidth": 0,
             "ticks": ""
            },
            "colorscale": [
             [
              0,
              "#0d0887"
             ],
             [
              0.1111111111111111,
              "#46039f"
             ],
             [
              0.2222222222222222,
              "#7201a8"
             ],
             [
              0.3333333333333333,
              "#9c179e"
             ],
             [
              0.4444444444444444,
              "#bd3786"
             ],
             [
              0.5555555555555556,
              "#d8576b"
             ],
             [
              0.6666666666666666,
              "#ed7953"
             ],
             [
              0.7777777777777778,
              "#fb9f3a"
             ],
             [
              0.8888888888888888,
              "#fdca26"
             ],
             [
              1,
              "#f0f921"
             ]
            ],
            "type": "surface"
           }
          ],
          "table": [
           {
            "cells": {
             "fill": {
              "color": "#506784"
             },
             "line": {
              "color": "rgb(17,17,17)"
             }
            },
            "header": {
             "fill": {
              "color": "#2a3f5f"
             },
             "line": {
              "color": "rgb(17,17,17)"
             }
            },
            "type": "table"
           }
          ]
         },
         "layout": {
          "annotationdefaults": {
           "arrowcolor": "#f2f5fa",
           "arrowhead": 0,
           "arrowwidth": 1
          },
          "autotypenumbers": "strict",
          "coloraxis": {
           "colorbar": {
            "outlinewidth": 0,
            "ticks": ""
           }
          },
          "colorscale": {
           "diverging": [
            [
             0,
             "#8e0152"
            ],
            [
             0.1,
             "#c51b7d"
            ],
            [
             0.2,
             "#de77ae"
            ],
            [
             0.3,
             "#f1b6da"
            ],
            [
             0.4,
             "#fde0ef"
            ],
            [
             0.5,
             "#f7f7f7"
            ],
            [
             0.6,
             "#e6f5d0"
            ],
            [
             0.7,
             "#b8e186"
            ],
            [
             0.8,
             "#7fbc41"
            ],
            [
             0.9,
             "#4d9221"
            ],
            [
             1,
             "#276419"
            ]
           ],
           "sequential": [
            [
             0,
             "#0d0887"
            ],
            [
             0.1111111111111111,
             "#46039f"
            ],
            [
             0.2222222222222222,
             "#7201a8"
            ],
            [
             0.3333333333333333,
             "#9c179e"
            ],
            [
             0.4444444444444444,
             "#bd3786"
            ],
            [
             0.5555555555555556,
             "#d8576b"
            ],
            [
             0.6666666666666666,
             "#ed7953"
            ],
            [
             0.7777777777777778,
             "#fb9f3a"
            ],
            [
             0.8888888888888888,
             "#fdca26"
            ],
            [
             1,
             "#f0f921"
            ]
           ],
           "sequentialminus": [
            [
             0,
             "#0d0887"
            ],
            [
             0.1111111111111111,
             "#46039f"
            ],
            [
             0.2222222222222222,
             "#7201a8"
            ],
            [
             0.3333333333333333,
             "#9c179e"
            ],
            [
             0.4444444444444444,
             "#bd3786"
            ],
            [
             0.5555555555555556,
             "#d8576b"
            ],
            [
             0.6666666666666666,
             "#ed7953"
            ],
            [
             0.7777777777777778,
             "#fb9f3a"
            ],
            [
             0.8888888888888888,
             "#fdca26"
            ],
            [
             1,
             "#f0f921"
            ]
           ]
          },
          "colorway": [
           "#636efa",
           "#EF553B",
           "#00cc96",
           "#ab63fa",
           "#FFA15A",
           "#19d3f3",
           "#FF6692",
           "#B6E880",
           "#FF97FF",
           "#FECB52"
          ],
          "font": {
           "color": "#f2f5fa"
          },
          "geo": {
           "bgcolor": "rgb(17,17,17)",
           "lakecolor": "rgb(17,17,17)",
           "landcolor": "rgb(17,17,17)",
           "showlakes": true,
           "showland": true,
           "subunitcolor": "#506784"
          },
          "hoverlabel": {
           "align": "left"
          },
          "hovermode": "closest",
          "mapbox": {
           "style": "dark"
          },
          "paper_bgcolor": "rgb(17,17,17)",
          "plot_bgcolor": "rgb(17,17,17)",
          "polar": {
           "angularaxis": {
            "gridcolor": "#506784",
            "linecolor": "#506784",
            "ticks": ""
           },
           "bgcolor": "rgb(17,17,17)",
           "radialaxis": {
            "gridcolor": "#506784",
            "linecolor": "#506784",
            "ticks": ""
           }
          },
          "scene": {
           "xaxis": {
            "backgroundcolor": "rgb(17,17,17)",
            "gridcolor": "#506784",
            "gridwidth": 2,
            "linecolor": "#506784",
            "showbackground": true,
            "ticks": "",
            "zerolinecolor": "#C8D4E3"
           },
           "yaxis": {
            "backgroundcolor": "rgb(17,17,17)",
            "gridcolor": "#506784",
            "gridwidth": 2,
            "linecolor": "#506784",
            "showbackground": true,
            "ticks": "",
            "zerolinecolor": "#C8D4E3"
           },
           "zaxis": {
            "backgroundcolor": "rgb(17,17,17)",
            "gridcolor": "#506784",
            "gridwidth": 2,
            "linecolor": "#506784",
            "showbackground": true,
            "ticks": "",
            "zerolinecolor": "#C8D4E3"
           }
          },
          "shapedefaults": {
           "line": {
            "color": "#f2f5fa"
           }
          },
          "sliderdefaults": {
           "bgcolor": "#C8D4E3",
           "bordercolor": "rgb(17,17,17)",
           "borderwidth": 1,
           "tickwidth": 0
          },
          "ternary": {
           "aaxis": {
            "gridcolor": "#506784",
            "linecolor": "#506784",
            "ticks": ""
           },
           "baxis": {
            "gridcolor": "#506784",
            "linecolor": "#506784",
            "ticks": ""
           },
           "bgcolor": "rgb(17,17,17)",
           "caxis": {
            "gridcolor": "#506784",
            "linecolor": "#506784",
            "ticks": ""
           }
          },
          "title": {
           "x": 0.05
          },
          "updatemenudefaults": {
           "bgcolor": "#506784",
           "borderwidth": 0
          },
          "xaxis": {
           "automargin": true,
           "gridcolor": "#283442",
           "linecolor": "#506784",
           "ticks": "",
           "title": {
            "standoff": 15
           },
           "zerolinecolor": "#283442",
           "zerolinewidth": 2
          },
          "yaxis": {
           "automargin": true,
           "gridcolor": "#283442",
           "linecolor": "#506784",
           "ticks": "",
           "title": {
            "standoff": 15
           },
           "zerolinecolor": "#283442",
           "zerolinewidth": 2
          }
         }
        },
        "xaxis": {
         "anchor": "y",
         "domain": [
          0,
          1
         ],
         "title": {
          "text": "x"
         }
        },
        "yaxis": {
         "anchor": "x",
         "domain": [
          0,
          1
         ],
         "title": {
          "text": "y"
         }
        }
       }
      }
     },
     "metadata": {},
     "output_type": "display_data"
    }
   ],
   "source": [
    "#Part 1- Derivatives\n",
    "\n",
    "def f(x):\n",
    "    return 3*x**2 - 4*x + 5\n",
    "\n",
    "#Plot f(x) btween -5 and 5 in steps of .25 using plotly \n",
    "x = np.arange(-5,5,.25)\n",
    "y = f(x)\n",
    "fig = px.line(x=x,y=y)\n",
    "fig.show()\n"
   ]
  },
  {
   "cell_type": "code",
   "execution_count": 7,
   "metadata": {},
   "outputs": [
    {
     "name": "stdout",
     "output_type": "stream",
     "text": [
      "Derivative at x=3 is:  13.997691894473974\n"
     ]
    }
   ],
   "source": [
    "#In neural nets, we dont calculate derivatives by hand (symbollically) \n",
    "#Derivative Definition:\n",
    "#L = lim h->0 (f(x+h) - f(x))/h\n",
    "\n",
    "h = 1E-13 #Something small\n",
    "x = 3\n",
    "derivative = (f(x+h) - f(x))/h\n",
    "print(\"Derivative at x=3 is: \", derivative)"
   ]
  },
  {
   "cell_type": "code",
   "execution_count": 298,
   "metadata": {},
   "outputs": [],
   "source": [
    "#Create a class \"Value\" that stores a value\n",
    "class Value:\n",
    "    def __init__(self, data, label = '', _children=(), _op=''): #Double underscore methods are called \"magic methods\"\n",
    "        self.data = data\n",
    "        self._prev = list(_children)\n",
    "        self._op = _op\n",
    "        self.grad = 0 \n",
    "        self.label = label\n",
    "\n",
    "    def __repr__(self):\n",
    "        return f\"Value({ self.data}, {self.label})\"\n",
    "\n",
    "    def __add__(self, other): #Called when we use the \"+\" operator\n",
    "        if not isinstance(other, Value):\n",
    "            other = Value(other)\n",
    "        return Value(self.data+other.data, _children=(self,other), _op='+')\n",
    "\n",
    "    def __radd__(self, other):\n",
    "        return self + other\n",
    "\n",
    "    def __sub__(self, other):\n",
    "        return self + -other\n",
    "\n",
    "    def __rsub__(self, other):\n",
    "        return -other + self\n",
    "\n",
    "    def __mul__(self, other): #Called when we use the \"*\" operator\n",
    "        #If its a number, create a new Value object\n",
    "        if not isinstance(other, Value):\n",
    "            other = Value(other)\n",
    "\n",
    "        return Value(self.data*other.data, _children = (self, other), _op='*')\n",
    "\n",
    "    def __pow__(self,other):\n",
    "        if not isinstance(other, Value):\n",
    "            other = Value(other)\n",
    "        return Value(self.data**other.data, _children=(self,other), _op='**')\n",
    "\n",
    "    def __truediv__(self, other):\n",
    "        if not isinstance(other, Value):\n",
    "            other = Value(other)\n",
    "\n",
    "        return Value(self.data/other.data, _children=(self,other), _op='/')\n",
    "\n",
    "    def __rmul__(self, other): #other * self\n",
    "        return self*other\n",
    "\n",
    "    def __neg__(self):\n",
    "        return self * -1\n",
    "\n",
    "    def tanh(self):\n",
    "        return Value(math.tanh(self.data), _children=(self,), _op='tanh')\n",
    "\n",
    "    def exp(self):\n",
    "        return Value(math.exp(self.data), _children=(self,), _op='exp')\n",
    "\n",
    "\n",
    "    #Backward pass\n",
    "    def backwards(self, prevGrad = 1, prevOp = '', prevOther = 1):\n",
    "        \n",
    "        if prevOp == '*':\n",
    "            self.grad += prevGrad*prevOther\n",
    "        elif prevOp == \"+\":\n",
    "            self.grad += prevGrad\n",
    "        elif prevOp == 'tanh':\n",
    "            self.grad += (1 - prevOther**2)*prevGrad\n",
    "        elif prevOp == 'exp':\n",
    "            self.grad += math.exp(self.data)*prevGrad\n",
    "        elif prevOp == '**':\n",
    "            self.grad += prevOther*prevGrad*self.data**(prevOther-1)\n",
    "        elif prevOp == '/':\n",
    "            self.grad += (1/prevOther.data)*prevGrad\n",
    "\n",
    "\n",
    "        else:\n",
    "            self.grad += 1\n",
    "\n",
    "        if not self._prev:\n",
    "            return \n",
    "\n",
    "        prev2 = self._prev[1] if len(self._prev) > 1 else self \n",
    "\n",
    "        self._prev[0].backwards(self.grad,self._op,prev2.data) \n",
    "        if prev2 != self:\n",
    "            self._prev[1].backwards(self.grad,self._op,self._prev[0].data) \n"
   ]
  },
  {
   "cell_type": "markdown",
   "metadata": {},
   "source": [
    "Chain Rule\n",
    "----------\n",
    "The chain rule is a fundamental rule in calculus that allows us to compute the derivative of a function that is composed of other functions. For example, if we have a function f(x) = g(h(x)), then the derivative of f with respect to x is given by:\n",
    "\n",
    "$$\\frac{dz}{dx} = \\frac{dz}{dy} \\frac{dy}{dx}$$\n"
   ]
  },
  {
   "cell_type": "code",
   "execution_count": 5,
   "metadata": {},
   "outputs": [],
   "source": [
    "from graphviz import Digraph\n",
    "\n",
    "def trace(root):\n",
    "  # builds a set of all nodes and edges in a graph\n",
    "  nodes, edges = set(), set()\n",
    "  def build(v):\n",
    "    if v not in nodes:\n",
    "      nodes.add(v)\n",
    "      for child in v._prev:\n",
    "        edges.add((child, v))\n",
    "        build(child)\n",
    "  build(root)\n",
    "  return nodes, edges\n",
    "\n",
    "def draw_dot(root):\n",
    "  dot = Digraph(format='svg', graph_attr={'rankdir': 'LR'}) # LR = left to right\n",
    "  \n",
    "  nodes, edges = trace(root)\n",
    "  for n in nodes:\n",
    "    uid = str(id(n))\n",
    "    # for any value in the graph, create a rectangular ('record') node for it\n",
    "    dot.node(name = uid, label = \"{ %s | data %.4f | grad %.4f }\" % ('', n.data, n.grad), shape='record')\n",
    "    if n._op:\n",
    "      # if this value is a result of some operation, create an op node for it\n",
    "      dot.node(name = uid + n._op, label = n._op)\n",
    "      # and connect this node to it\n",
    "      dot.edge(uid + n._op, uid)\n",
    "\n",
    "  for n1, n2 in edges:\n",
    "    # connect n1 to the op node of n2\n",
    "    dot.edge(str(id(n1)), str(id(n2)) + n2._op)\n",
    "\n",
    "  return dot\n"
   ]
  },
  {
   "cell_type": "code",
   "execution_count": 6,
   "metadata": {},
   "outputs": [],
   "source": [
    "a = Value(1,'a')\n",
    "b = Value(7,'b') \n",
    "c = a + b \n",
    "c.label = 'c'\n",
    "d = Value(3,'d')\n",
    "e = c * d ; e.label = 'e'\n",
    "\n",
    "e.backwards()"
   ]
  },
  {
   "cell_type": "code",
   "execution_count": 246,
   "metadata": {},
   "outputs": [],
   "source": [
    "#Given a first node, generate a graph of the entire computation graph using plotly\n",
    "import networkx as nx\n",
    "\n",
    "def draw_graph(root):\n",
    "    nodes, edges = trace(root)\n",
    "    \n",
    "\n",
    "    G = nx.DiGraph()\n",
    "    G.add_nodes_from(nodes)\n",
    "    G.add_edges_from(edges)\n",
    "\n",
    "    pos = nx.spring_layout(G)\n",
    "    \n",
    "    node_x = []\n",
    "    node_y = []\n",
    "\n",
    "    node_label = []\n",
    "    node_value = []\n",
    "\n",
    "    for node in G.nodes():\n",
    "        x, y = pos[node]\n",
    "        node_x.append(x)\n",
    "        node_y.append(y)\n",
    "        node_label.append(node.label)\n",
    "        node_value.append(node.data)\n",
    "\n",
    "    node_trace = go.Scatter(\n",
    "        x=node_x, y=node_y,\n",
    "        mode='markers+text',\n",
    "        hoverinfo='text',\n",
    "        text=node_label,\n",
    "\n",
    "        marker=dict(\n",
    "            size = 20,\n",
    "            color = \"darkblue\",\n",
    "            \n",
    "\n",
    "        )\n",
    "    )\n",
    "    \n",
    "    \n",
    "    #Set text to , v = node_value, grad = node.grad (round to 2 decimal places)\n",
    "    # node_trace.text = [f\"{node.label} = {round(node.data,3)}, grad = {round(node.grad,3)}\" for node in G.nodes()]\n",
    "    node_trace.text = [f\"{node.grad}\" for node in G.nodes()]\n",
    "    \n",
    "\n",
    "\n",
    "\n",
    "    #Make edges\n",
    "    edge_x = []\n",
    "    edge_y = []\n",
    "\n",
    "    ops_x = []\n",
    "    ops_y = []\n",
    "\n",
    "    ops = []\n",
    "\n",
    "    for edge in G.edges():\n",
    "        x0, y0 = pos[edge[0]]\n",
    "        x1, y1 = pos[edge[1]]\n",
    "        edge_x.append(x0)\n",
    "        edge_x.append(x1)\n",
    "        edge_x.append(None)\n",
    "        edge_y.append(y0)\n",
    "        edge_y.append(y1)\n",
    "        edge_y.append(None)\n",
    "\n",
    "        ops.append(edge[1]._op)\n",
    "\n",
    "        #Create an operations node in the middle of the edge\n",
    "        ops_x.append((x0+x1)/2)\n",
    "        ops_y.append((y0+y1)/2)\n",
    "\n",
    "\n",
    "    edge_trace = go.Scatter(\n",
    "        x=edge_x, y=edge_y,\n",
    "        line=dict(width=3, color='#888'),\n",
    "        hoverinfo='text',\n",
    "        mode='lines',\n",
    "    )\n",
    "    edge_trace.text = ops\n",
    "\n",
    "    ops_trace = go.Scatter(\n",
    "        x=ops_x, y=ops_y,\n",
    "        mode='markers+text',\n",
    "        hoverinfo='text',\n",
    "        text=ops,\n",
    "        marker = dict(\n",
    "            size = 10,\n",
    "            color = 'darkred'\n",
    "        ),\n",
    "        textposition = 'middle center'\n",
    "    )\n",
    "\n",
    "\n",
    "    #Show \n",
    "    fig = go.Figure(data=[edge_trace, ops_trace, node_trace])\n",
    "    fig.show()\n"
   ]
  },
  {
   "cell_type": "code",
   "execution_count": 247,
   "metadata": {},
   "outputs": [
    {
     "data": {
      "application/vnd.plotly.v1+json": {
       "config": {
        "plotlyServerURL": "https://plot.ly"
       },
       "data": [
        {
         "hoverinfo": "text",
         "line": {
          "color": "#888",
          "width": 3
         },
         "mode": "lines",
         "text": [
          "+",
          "*",
          "tanh",
          "*",
          "*",
          "+",
          "*",
          "+",
          "+"
         ],
         "type": "scatter",
         "x": [
          -0.8782212880590834,
          -0.5676909705199412,
          null,
          0.9212996235676243,
          0.30741515160819183,
          null,
          -0.5676909705199412,
          -1,
          null,
          0.5933914562439352,
          0.30741515160819183,
          null,
          0.12445437173171296,
          0.16127974549267826,
          null,
          0.30741515160819183,
          -0.3162326434810341,
          null,
          0.6543045534159155,
          0.16127974549267826,
          null,
          0.16127974549267826,
          -0.3162326434810341,
          null,
          -0.3162326434810341,
          -0.5676909705199412,
          null
         ],
         "y": [
          0.23617363598279206,
          -0.025507627487032614,
          null,
          0.3045692988747027,
          0.052983339376251,
          null,
          -0.025507627487032614,
          -0.3768910308458726,
          null,
          0.39476309058425624,
          0.052983339376251,
          null,
          0.13067743841780016,
          -0.2418666737855693,
          null,
          0.052983339376251,
          -0.07977515320174594,
          null,
          -0.3951263179155815,
          -0.2418666737855693,
          null,
          -0.2418666737855693,
          -0.07977515320174594,
          null,
          -0.07977515320174594,
          -0.025507627487032614,
          null
         ]
        },
        {
         "hoverinfo": "text",
         "marker": {
          "color": "darkred",
          "size": 10
         },
         "mode": "markers+text",
         "text": [
          "+",
          "*",
          "tanh",
          "*",
          "*",
          "+",
          "*",
          "+",
          "+"
         ],
         "textposition": "middle center",
         "type": "scatter",
         "x": [
          -0.7229561292895124,
          0.614357387587908,
          -0.7838454852599706,
          0.45040330392606354,
          0.14286705861219562,
          -0.004408745936421127,
          0.40779214945429687,
          -0.07747644899417791,
          -0.44196180700048765
         ],
         "y": [
          0.10533300424787972,
          0.17877631912547684,
          -0.2011993291664526,
          0.22387321498025362,
          -0.05559461768388457,
          -0.01339590691274747,
          -0.3184964958505754,
          -0.16082091349365762,
          -0.05264139034438928
         ]
        },
        {
         "hoverinfo": "text",
         "marker": {
          "color": "darkblue",
          "size": 20
         },
         "mode": "markers+text",
         "text": [
          "0.5000025364090597",
          "1",
          "0.0",
          "0.5000025364090597",
          "0.5000025364090597",
          "-1.500007609227179",
          "0.5000025364090597",
          "1.0000050728181193",
          "0.5000025364090597",
          "0.5000025364090597"
         ],
         "type": "scatter",
         "x": [
          -0.8782212880590834,
          -1,
          0.9212996235676243,
          -0.5676909705199412,
          0.5933914562439352,
          0.12445437173171296,
          0.30741515160819183,
          0.6543045534159155,
          0.16127974549267826,
          -0.3162326434810341
         ],
         "y": [
          0.23617363598279206,
          -0.3768910308458726,
          0.3045692988747027,
          -0.025507627487032614,
          0.39476309058425624,
          0.13067743841780016,
          0.052983339376251,
          -0.3951263179155815,
          -0.2418666737855693,
          -0.07977515320174594
         ]
        }
       ],
       "layout": {
        "template": {
         "data": {
          "bar": [
           {
            "error_x": {
             "color": "#f2f5fa"
            },
            "error_y": {
             "color": "#f2f5fa"
            },
            "marker": {
             "line": {
              "color": "rgb(17,17,17)",
              "width": 0.5
             },
             "pattern": {
              "fillmode": "overlay",
              "size": 10,
              "solidity": 0.2
             }
            },
            "type": "bar"
           }
          ],
          "barpolar": [
           {
            "marker": {
             "line": {
              "color": "rgb(17,17,17)",
              "width": 0.5
             },
             "pattern": {
              "fillmode": "overlay",
              "size": 10,
              "solidity": 0.2
             }
            },
            "type": "barpolar"
           }
          ],
          "carpet": [
           {
            "aaxis": {
             "endlinecolor": "#A2B1C6",
             "gridcolor": "#506784",
             "linecolor": "#506784",
             "minorgridcolor": "#506784",
             "startlinecolor": "#A2B1C6"
            },
            "baxis": {
             "endlinecolor": "#A2B1C6",
             "gridcolor": "#506784",
             "linecolor": "#506784",
             "minorgridcolor": "#506784",
             "startlinecolor": "#A2B1C6"
            },
            "type": "carpet"
           }
          ],
          "choropleth": [
           {
            "colorbar": {
             "outlinewidth": 0,
             "ticks": ""
            },
            "type": "choropleth"
           }
          ],
          "contour": [
           {
            "colorbar": {
             "outlinewidth": 0,
             "ticks": ""
            },
            "colorscale": [
             [
              0,
              "#0d0887"
             ],
             [
              0.1111111111111111,
              "#46039f"
             ],
             [
              0.2222222222222222,
              "#7201a8"
             ],
             [
              0.3333333333333333,
              "#9c179e"
             ],
             [
              0.4444444444444444,
              "#bd3786"
             ],
             [
              0.5555555555555556,
              "#d8576b"
             ],
             [
              0.6666666666666666,
              "#ed7953"
             ],
             [
              0.7777777777777778,
              "#fb9f3a"
             ],
             [
              0.8888888888888888,
              "#fdca26"
             ],
             [
              1,
              "#f0f921"
             ]
            ],
            "type": "contour"
           }
          ],
          "contourcarpet": [
           {
            "colorbar": {
             "outlinewidth": 0,
             "ticks": ""
            },
            "type": "contourcarpet"
           }
          ],
          "heatmap": [
           {
            "colorbar": {
             "outlinewidth": 0,
             "ticks": ""
            },
            "colorscale": [
             [
              0,
              "#0d0887"
             ],
             [
              0.1111111111111111,
              "#46039f"
             ],
             [
              0.2222222222222222,
              "#7201a8"
             ],
             [
              0.3333333333333333,
              "#9c179e"
             ],
             [
              0.4444444444444444,
              "#bd3786"
             ],
             [
              0.5555555555555556,
              "#d8576b"
             ],
             [
              0.6666666666666666,
              "#ed7953"
             ],
             [
              0.7777777777777778,
              "#fb9f3a"
             ],
             [
              0.8888888888888888,
              "#fdca26"
             ],
             [
              1,
              "#f0f921"
             ]
            ],
            "type": "heatmap"
           }
          ],
          "heatmapgl": [
           {
            "colorbar": {
             "outlinewidth": 0,
             "ticks": ""
            },
            "colorscale": [
             [
              0,
              "#0d0887"
             ],
             [
              0.1111111111111111,
              "#46039f"
             ],
             [
              0.2222222222222222,
              "#7201a8"
             ],
             [
              0.3333333333333333,
              "#9c179e"
             ],
             [
              0.4444444444444444,
              "#bd3786"
             ],
             [
              0.5555555555555556,
              "#d8576b"
             ],
             [
              0.6666666666666666,
              "#ed7953"
             ],
             [
              0.7777777777777778,
              "#fb9f3a"
             ],
             [
              0.8888888888888888,
              "#fdca26"
             ],
             [
              1,
              "#f0f921"
             ]
            ],
            "type": "heatmapgl"
           }
          ],
          "histogram": [
           {
            "marker": {
             "pattern": {
              "fillmode": "overlay",
              "size": 10,
              "solidity": 0.2
             }
            },
            "type": "histogram"
           }
          ],
          "histogram2d": [
           {
            "colorbar": {
             "outlinewidth": 0,
             "ticks": ""
            },
            "colorscale": [
             [
              0,
              "#0d0887"
             ],
             [
              0.1111111111111111,
              "#46039f"
             ],
             [
              0.2222222222222222,
              "#7201a8"
             ],
             [
              0.3333333333333333,
              "#9c179e"
             ],
             [
              0.4444444444444444,
              "#bd3786"
             ],
             [
              0.5555555555555556,
              "#d8576b"
             ],
             [
              0.6666666666666666,
              "#ed7953"
             ],
             [
              0.7777777777777778,
              "#fb9f3a"
             ],
             [
              0.8888888888888888,
              "#fdca26"
             ],
             [
              1,
              "#f0f921"
             ]
            ],
            "type": "histogram2d"
           }
          ],
          "histogram2dcontour": [
           {
            "colorbar": {
             "outlinewidth": 0,
             "ticks": ""
            },
            "colorscale": [
             [
              0,
              "#0d0887"
             ],
             [
              0.1111111111111111,
              "#46039f"
             ],
             [
              0.2222222222222222,
              "#7201a8"
             ],
             [
              0.3333333333333333,
              "#9c179e"
             ],
             [
              0.4444444444444444,
              "#bd3786"
             ],
             [
              0.5555555555555556,
              "#d8576b"
             ],
             [
              0.6666666666666666,
              "#ed7953"
             ],
             [
              0.7777777777777778,
              "#fb9f3a"
             ],
             [
              0.8888888888888888,
              "#fdca26"
             ],
             [
              1,
              "#f0f921"
             ]
            ],
            "type": "histogram2dcontour"
           }
          ],
          "mesh3d": [
           {
            "colorbar": {
             "outlinewidth": 0,
             "ticks": ""
            },
            "type": "mesh3d"
           }
          ],
          "parcoords": [
           {
            "line": {
             "colorbar": {
              "outlinewidth": 0,
              "ticks": ""
             }
            },
            "type": "parcoords"
           }
          ],
          "pie": [
           {
            "automargin": true,
            "type": "pie"
           }
          ],
          "scatter": [
           {
            "marker": {
             "line": {
              "color": "#283442"
             }
            },
            "type": "scatter"
           }
          ],
          "scatter3d": [
           {
            "line": {
             "colorbar": {
              "outlinewidth": 0,
              "ticks": ""
             }
            },
            "marker": {
             "colorbar": {
              "outlinewidth": 0,
              "ticks": ""
             }
            },
            "type": "scatter3d"
           }
          ],
          "scattercarpet": [
           {
            "marker": {
             "colorbar": {
              "outlinewidth": 0,
              "ticks": ""
             }
            },
            "type": "scattercarpet"
           }
          ],
          "scattergeo": [
           {
            "marker": {
             "colorbar": {
              "outlinewidth": 0,
              "ticks": ""
             }
            },
            "type": "scattergeo"
           }
          ],
          "scattergl": [
           {
            "marker": {
             "line": {
              "color": "#283442"
             }
            },
            "type": "scattergl"
           }
          ],
          "scattermapbox": [
           {
            "marker": {
             "colorbar": {
              "outlinewidth": 0,
              "ticks": ""
             }
            },
            "type": "scattermapbox"
           }
          ],
          "scatterpolar": [
           {
            "marker": {
             "colorbar": {
              "outlinewidth": 0,
              "ticks": ""
             }
            },
            "type": "scatterpolar"
           }
          ],
          "scatterpolargl": [
           {
            "marker": {
             "colorbar": {
              "outlinewidth": 0,
              "ticks": ""
             }
            },
            "type": "scatterpolargl"
           }
          ],
          "scatterternary": [
           {
            "marker": {
             "colorbar": {
              "outlinewidth": 0,
              "ticks": ""
             }
            },
            "type": "scatterternary"
           }
          ],
          "surface": [
           {
            "colorbar": {
             "outlinewidth": 0,
             "ticks": ""
            },
            "colorscale": [
             [
              0,
              "#0d0887"
             ],
             [
              0.1111111111111111,
              "#46039f"
             ],
             [
              0.2222222222222222,
              "#7201a8"
             ],
             [
              0.3333333333333333,
              "#9c179e"
             ],
             [
              0.4444444444444444,
              "#bd3786"
             ],
             [
              0.5555555555555556,
              "#d8576b"
             ],
             [
              0.6666666666666666,
              "#ed7953"
             ],
             [
              0.7777777777777778,
              "#fb9f3a"
             ],
             [
              0.8888888888888888,
              "#fdca26"
             ],
             [
              1,
              "#f0f921"
             ]
            ],
            "type": "surface"
           }
          ],
          "table": [
           {
            "cells": {
             "fill": {
              "color": "#506784"
             },
             "line": {
              "color": "rgb(17,17,17)"
             }
            },
            "header": {
             "fill": {
              "color": "#2a3f5f"
             },
             "line": {
              "color": "rgb(17,17,17)"
             }
            },
            "type": "table"
           }
          ]
         },
         "layout": {
          "annotationdefaults": {
           "arrowcolor": "#f2f5fa",
           "arrowhead": 0,
           "arrowwidth": 1
          },
          "autotypenumbers": "strict",
          "coloraxis": {
           "colorbar": {
            "outlinewidth": 0,
            "ticks": ""
           }
          },
          "colorscale": {
           "diverging": [
            [
             0,
             "#8e0152"
            ],
            [
             0.1,
             "#c51b7d"
            ],
            [
             0.2,
             "#de77ae"
            ],
            [
             0.3,
             "#f1b6da"
            ],
            [
             0.4,
             "#fde0ef"
            ],
            [
             0.5,
             "#f7f7f7"
            ],
            [
             0.6,
             "#e6f5d0"
            ],
            [
             0.7,
             "#b8e186"
            ],
            [
             0.8,
             "#7fbc41"
            ],
            [
             0.9,
             "#4d9221"
            ],
            [
             1,
             "#276419"
            ]
           ],
           "sequential": [
            [
             0,
             "#0d0887"
            ],
            [
             0.1111111111111111,
             "#46039f"
            ],
            [
             0.2222222222222222,
             "#7201a8"
            ],
            [
             0.3333333333333333,
             "#9c179e"
            ],
            [
             0.4444444444444444,
             "#bd3786"
            ],
            [
             0.5555555555555556,
             "#d8576b"
            ],
            [
             0.6666666666666666,
             "#ed7953"
            ],
            [
             0.7777777777777778,
             "#fb9f3a"
            ],
            [
             0.8888888888888888,
             "#fdca26"
            ],
            [
             1,
             "#f0f921"
            ]
           ],
           "sequentialminus": [
            [
             0,
             "#0d0887"
            ],
            [
             0.1111111111111111,
             "#46039f"
            ],
            [
             0.2222222222222222,
             "#7201a8"
            ],
            [
             0.3333333333333333,
             "#9c179e"
            ],
            [
             0.4444444444444444,
             "#bd3786"
            ],
            [
             0.5555555555555556,
             "#d8576b"
            ],
            [
             0.6666666666666666,
             "#ed7953"
            ],
            [
             0.7777777777777778,
             "#fb9f3a"
            ],
            [
             0.8888888888888888,
             "#fdca26"
            ],
            [
             1,
             "#f0f921"
            ]
           ]
          },
          "colorway": [
           "#636efa",
           "#EF553B",
           "#00cc96",
           "#ab63fa",
           "#FFA15A",
           "#19d3f3",
           "#FF6692",
           "#B6E880",
           "#FF97FF",
           "#FECB52"
          ],
          "font": {
           "color": "#f2f5fa"
          },
          "geo": {
           "bgcolor": "rgb(17,17,17)",
           "lakecolor": "rgb(17,17,17)",
           "landcolor": "rgb(17,17,17)",
           "showlakes": true,
           "showland": true,
           "subunitcolor": "#506784"
          },
          "hoverlabel": {
           "align": "left"
          },
          "hovermode": "closest",
          "mapbox": {
           "style": "dark"
          },
          "paper_bgcolor": "rgb(17,17,17)",
          "plot_bgcolor": "rgb(17,17,17)",
          "polar": {
           "angularaxis": {
            "gridcolor": "#506784",
            "linecolor": "#506784",
            "ticks": ""
           },
           "bgcolor": "rgb(17,17,17)",
           "radialaxis": {
            "gridcolor": "#506784",
            "linecolor": "#506784",
            "ticks": ""
           }
          },
          "scene": {
           "xaxis": {
            "backgroundcolor": "rgb(17,17,17)",
            "gridcolor": "#506784",
            "gridwidth": 2,
            "linecolor": "#506784",
            "showbackground": true,
            "ticks": "",
            "zerolinecolor": "#C8D4E3"
           },
           "yaxis": {
            "backgroundcolor": "rgb(17,17,17)",
            "gridcolor": "#506784",
            "gridwidth": 2,
            "linecolor": "#506784",
            "showbackground": true,
            "ticks": "",
            "zerolinecolor": "#C8D4E3"
           },
           "zaxis": {
            "backgroundcolor": "rgb(17,17,17)",
            "gridcolor": "#506784",
            "gridwidth": 2,
            "linecolor": "#506784",
            "showbackground": true,
            "ticks": "",
            "zerolinecolor": "#C8D4E3"
           }
          },
          "shapedefaults": {
           "line": {
            "color": "#f2f5fa"
           }
          },
          "sliderdefaults": {
           "bgcolor": "#C8D4E3",
           "bordercolor": "rgb(17,17,17)",
           "borderwidth": 1,
           "tickwidth": 0
          },
          "ternary": {
           "aaxis": {
            "gridcolor": "#506784",
            "linecolor": "#506784",
            "ticks": ""
           },
           "baxis": {
            "gridcolor": "#506784",
            "linecolor": "#506784",
            "ticks": ""
           },
           "bgcolor": "rgb(17,17,17)",
           "caxis": {
            "gridcolor": "#506784",
            "linecolor": "#506784",
            "ticks": ""
           }
          },
          "title": {
           "x": 0.05
          },
          "updatemenudefaults": {
           "bgcolor": "#506784",
           "borderwidth": 0
          },
          "xaxis": {
           "automargin": true,
           "gridcolor": "#283442",
           "linecolor": "#506784",
           "ticks": "",
           "title": {
            "standoff": 15
           },
           "zerolinecolor": "#283442",
           "zerolinewidth": 2
          },
          "yaxis": {
           "automargin": true,
           "gridcolor": "#283442",
           "linecolor": "#506784",
           "ticks": "",
           "title": {
            "standoff": 15
           },
           "zerolinecolor": "#283442",
           "zerolinewidth": 2
          }
         }
        }
       }
      }
     },
     "metadata": {},
     "output_type": "display_data"
    },
    {
     "name": "stdout",
     "output_type": "stream",
     "text": [
      "Gradient of w1: 1.0000050728181193\n",
      "Gradient of w2: 0.0\n",
      "Gradient of x1: -1.500007609227179\n",
      "Gradient of x2: 0.5000025364090597\n",
      "Gradient of y: 0.5000025364090597\n"
     ]
    }
   ],
   "source": [
    "#Basic Nueron\n",
    "x1 = Value(2,'x1')\n",
    "x2 = Value(0,'x2')\n",
    "\n",
    "w1 = Value(-3,'w1')\n",
    "w2 = Value(1,'w2')\n",
    "\n",
    "b = Value(6.88137,'b')\n",
    "\n",
    "y = w1*x1 + w2*x2 + b ; y.label = 'y'\n",
    "f = y.tanh() ; f.label = 'f'\n",
    "\n",
    "f.backwards()\n",
    "\n",
    "draw_graph(f)\n",
    "\n",
    "#Print Gradients\n",
    "print(f\"Gradient of w1: {w1.grad}\")\n",
    "print(f\"Gradient of w2: {w2.grad}\")\n",
    "print(f\"Gradient of x1: {x1.grad}\")\n",
    "print(f\"Gradient of x2: {x2.grad}\")\n",
    "print(f\"Gradient of y: {y.grad}\")"
   ]
  },
  {
   "cell_type": "code",
   "execution_count": 42,
   "metadata": {},
   "outputs": [
    {
     "data": {
      "application/vnd.plotly.v1+json": {
       "config": {
        "plotlyServerURL": "https://plot.ly"
       },
       "data": [
        {
         "hoverinfo": "text",
         "line": {
          "color": "#888",
          "width": 3
         },
         "mode": "lines",
         "text": [
          "+"
         ],
         "type": "scatter",
         "x": [
          -0.2088689086783719,
          0.2088689086783719,
          null
         ],
         "y": [
          -0.9999999999999989,
          1,
          null
         ]
        },
        {
         "hoverinfo": "text",
         "marker": {
          "color": "darkred",
          "size": 20
         },
         "mode": "markers+text",
         "text": [
          "+"
         ],
         "textposition": "middle center",
         "type": "scatter",
         "x": [
          0
         ],
         "y": [
          5.551115123125783e-16
         ]
        },
        {
         "hoverinfo": "text",
         "marker": {
          "color": "darkblue",
          "size": 50
         },
         "mode": "markers+text",
         "text": [
          "a = 1, grad = 2",
          " = 2, grad = 1"
         ],
         "type": "scatter",
         "x": [
          -0.2088689086783719,
          0.2088689086783719
         ],
         "y": [
          -0.9999999999999989,
          1
         ]
        }
       ],
       "layout": {
        "template": {
         "data": {
          "bar": [
           {
            "error_x": {
             "color": "#f2f5fa"
            },
            "error_y": {
             "color": "#f2f5fa"
            },
            "marker": {
             "line": {
              "color": "rgb(17,17,17)",
              "width": 0.5
             },
             "pattern": {
              "fillmode": "overlay",
              "size": 10,
              "solidity": 0.2
             }
            },
            "type": "bar"
           }
          ],
          "barpolar": [
           {
            "marker": {
             "line": {
              "color": "rgb(17,17,17)",
              "width": 0.5
             },
             "pattern": {
              "fillmode": "overlay",
              "size": 10,
              "solidity": 0.2
             }
            },
            "type": "barpolar"
           }
          ],
          "carpet": [
           {
            "aaxis": {
             "endlinecolor": "#A2B1C6",
             "gridcolor": "#506784",
             "linecolor": "#506784",
             "minorgridcolor": "#506784",
             "startlinecolor": "#A2B1C6"
            },
            "baxis": {
             "endlinecolor": "#A2B1C6",
             "gridcolor": "#506784",
             "linecolor": "#506784",
             "minorgridcolor": "#506784",
             "startlinecolor": "#A2B1C6"
            },
            "type": "carpet"
           }
          ],
          "choropleth": [
           {
            "colorbar": {
             "outlinewidth": 0,
             "ticks": ""
            },
            "type": "choropleth"
           }
          ],
          "contour": [
           {
            "colorbar": {
             "outlinewidth": 0,
             "ticks": ""
            },
            "colorscale": [
             [
              0,
              "#0d0887"
             ],
             [
              0.1111111111111111,
              "#46039f"
             ],
             [
              0.2222222222222222,
              "#7201a8"
             ],
             [
              0.3333333333333333,
              "#9c179e"
             ],
             [
              0.4444444444444444,
              "#bd3786"
             ],
             [
              0.5555555555555556,
              "#d8576b"
             ],
             [
              0.6666666666666666,
              "#ed7953"
             ],
             [
              0.7777777777777778,
              "#fb9f3a"
             ],
             [
              0.8888888888888888,
              "#fdca26"
             ],
             [
              1,
              "#f0f921"
             ]
            ],
            "type": "contour"
           }
          ],
          "contourcarpet": [
           {
            "colorbar": {
             "outlinewidth": 0,
             "ticks": ""
            },
            "type": "contourcarpet"
           }
          ],
          "heatmap": [
           {
            "colorbar": {
             "outlinewidth": 0,
             "ticks": ""
            },
            "colorscale": [
             [
              0,
              "#0d0887"
             ],
             [
              0.1111111111111111,
              "#46039f"
             ],
             [
              0.2222222222222222,
              "#7201a8"
             ],
             [
              0.3333333333333333,
              "#9c179e"
             ],
             [
              0.4444444444444444,
              "#bd3786"
             ],
             [
              0.5555555555555556,
              "#d8576b"
             ],
             [
              0.6666666666666666,
              "#ed7953"
             ],
             [
              0.7777777777777778,
              "#fb9f3a"
             ],
             [
              0.8888888888888888,
              "#fdca26"
             ],
             [
              1,
              "#f0f921"
             ]
            ],
            "type": "heatmap"
           }
          ],
          "heatmapgl": [
           {
            "colorbar": {
             "outlinewidth": 0,
             "ticks": ""
            },
            "colorscale": [
             [
              0,
              "#0d0887"
             ],
             [
              0.1111111111111111,
              "#46039f"
             ],
             [
              0.2222222222222222,
              "#7201a8"
             ],
             [
              0.3333333333333333,
              "#9c179e"
             ],
             [
              0.4444444444444444,
              "#bd3786"
             ],
             [
              0.5555555555555556,
              "#d8576b"
             ],
             [
              0.6666666666666666,
              "#ed7953"
             ],
             [
              0.7777777777777778,
              "#fb9f3a"
             ],
             [
              0.8888888888888888,
              "#fdca26"
             ],
             [
              1,
              "#f0f921"
             ]
            ],
            "type": "heatmapgl"
           }
          ],
          "histogram": [
           {
            "marker": {
             "pattern": {
              "fillmode": "overlay",
              "size": 10,
              "solidity": 0.2
             }
            },
            "type": "histogram"
           }
          ],
          "histogram2d": [
           {
            "colorbar": {
             "outlinewidth": 0,
             "ticks": ""
            },
            "colorscale": [
             [
              0,
              "#0d0887"
             ],
             [
              0.1111111111111111,
              "#46039f"
             ],
             [
              0.2222222222222222,
              "#7201a8"
             ],
             [
              0.3333333333333333,
              "#9c179e"
             ],
             [
              0.4444444444444444,
              "#bd3786"
             ],
             [
              0.5555555555555556,
              "#d8576b"
             ],
             [
              0.6666666666666666,
              "#ed7953"
             ],
             [
              0.7777777777777778,
              "#fb9f3a"
             ],
             [
              0.8888888888888888,
              "#fdca26"
             ],
             [
              1,
              "#f0f921"
             ]
            ],
            "type": "histogram2d"
           }
          ],
          "histogram2dcontour": [
           {
            "colorbar": {
             "outlinewidth": 0,
             "ticks": ""
            },
            "colorscale": [
             [
              0,
              "#0d0887"
             ],
             [
              0.1111111111111111,
              "#46039f"
             ],
             [
              0.2222222222222222,
              "#7201a8"
             ],
             [
              0.3333333333333333,
              "#9c179e"
             ],
             [
              0.4444444444444444,
              "#bd3786"
             ],
             [
              0.5555555555555556,
              "#d8576b"
             ],
             [
              0.6666666666666666,
              "#ed7953"
             ],
             [
              0.7777777777777778,
              "#fb9f3a"
             ],
             [
              0.8888888888888888,
              "#fdca26"
             ],
             [
              1,
              "#f0f921"
             ]
            ],
            "type": "histogram2dcontour"
           }
          ],
          "mesh3d": [
           {
            "colorbar": {
             "outlinewidth": 0,
             "ticks": ""
            },
            "type": "mesh3d"
           }
          ],
          "parcoords": [
           {
            "line": {
             "colorbar": {
              "outlinewidth": 0,
              "ticks": ""
             }
            },
            "type": "parcoords"
           }
          ],
          "pie": [
           {
            "automargin": true,
            "type": "pie"
           }
          ],
          "scatter": [
           {
            "marker": {
             "line": {
              "color": "#283442"
             }
            },
            "type": "scatter"
           }
          ],
          "scatter3d": [
           {
            "line": {
             "colorbar": {
              "outlinewidth": 0,
              "ticks": ""
             }
            },
            "marker": {
             "colorbar": {
              "outlinewidth": 0,
              "ticks": ""
             }
            },
            "type": "scatter3d"
           }
          ],
          "scattercarpet": [
           {
            "marker": {
             "colorbar": {
              "outlinewidth": 0,
              "ticks": ""
             }
            },
            "type": "scattercarpet"
           }
          ],
          "scattergeo": [
           {
            "marker": {
             "colorbar": {
              "outlinewidth": 0,
              "ticks": ""
             }
            },
            "type": "scattergeo"
           }
          ],
          "scattergl": [
           {
            "marker": {
             "line": {
              "color": "#283442"
             }
            },
            "type": "scattergl"
           }
          ],
          "scattermapbox": [
           {
            "marker": {
             "colorbar": {
              "outlinewidth": 0,
              "ticks": ""
             }
            },
            "type": "scattermapbox"
           }
          ],
          "scatterpolar": [
           {
            "marker": {
             "colorbar": {
              "outlinewidth": 0,
              "ticks": ""
             }
            },
            "type": "scatterpolar"
           }
          ],
          "scatterpolargl": [
           {
            "marker": {
             "colorbar": {
              "outlinewidth": 0,
              "ticks": ""
             }
            },
            "type": "scatterpolargl"
           }
          ],
          "scatterternary": [
           {
            "marker": {
             "colorbar": {
              "outlinewidth": 0,
              "ticks": ""
             }
            },
            "type": "scatterternary"
           }
          ],
          "surface": [
           {
            "colorbar": {
             "outlinewidth": 0,
             "ticks": ""
            },
            "colorscale": [
             [
              0,
              "#0d0887"
             ],
             [
              0.1111111111111111,
              "#46039f"
             ],
             [
              0.2222222222222222,
              "#7201a8"
             ],
             [
              0.3333333333333333,
              "#9c179e"
             ],
             [
              0.4444444444444444,
              "#bd3786"
             ],
             [
              0.5555555555555556,
              "#d8576b"
             ],
             [
              0.6666666666666666,
              "#ed7953"
             ],
             [
              0.7777777777777778,
              "#fb9f3a"
             ],
             [
              0.8888888888888888,
              "#fdca26"
             ],
             [
              1,
              "#f0f921"
             ]
            ],
            "type": "surface"
           }
          ],
          "table": [
           {
            "cells": {
             "fill": {
              "color": "#506784"
             },
             "line": {
              "color": "rgb(17,17,17)"
             }
            },
            "header": {
             "fill": {
              "color": "#2a3f5f"
             },
             "line": {
              "color": "rgb(17,17,17)"
             }
            },
            "type": "table"
           }
          ]
         },
         "layout": {
          "annotationdefaults": {
           "arrowcolor": "#f2f5fa",
           "arrowhead": 0,
           "arrowwidth": 1
          },
          "autotypenumbers": "strict",
          "coloraxis": {
           "colorbar": {
            "outlinewidth": 0,
            "ticks": ""
           }
          },
          "colorscale": {
           "diverging": [
            [
             0,
             "#8e0152"
            ],
            [
             0.1,
             "#c51b7d"
            ],
            [
             0.2,
             "#de77ae"
            ],
            [
             0.3,
             "#f1b6da"
            ],
            [
             0.4,
             "#fde0ef"
            ],
            [
             0.5,
             "#f7f7f7"
            ],
            [
             0.6,
             "#e6f5d0"
            ],
            [
             0.7,
             "#b8e186"
            ],
            [
             0.8,
             "#7fbc41"
            ],
            [
             0.9,
             "#4d9221"
            ],
            [
             1,
             "#276419"
            ]
           ],
           "sequential": [
            [
             0,
             "#0d0887"
            ],
            [
             0.1111111111111111,
             "#46039f"
            ],
            [
             0.2222222222222222,
             "#7201a8"
            ],
            [
             0.3333333333333333,
             "#9c179e"
            ],
            [
             0.4444444444444444,
             "#bd3786"
            ],
            [
             0.5555555555555556,
             "#d8576b"
            ],
            [
             0.6666666666666666,
             "#ed7953"
            ],
            [
             0.7777777777777778,
             "#fb9f3a"
            ],
            [
             0.8888888888888888,
             "#fdca26"
            ],
            [
             1,
             "#f0f921"
            ]
           ],
           "sequentialminus": [
            [
             0,
             "#0d0887"
            ],
            [
             0.1111111111111111,
             "#46039f"
            ],
            [
             0.2222222222222222,
             "#7201a8"
            ],
            [
             0.3333333333333333,
             "#9c179e"
            ],
            [
             0.4444444444444444,
             "#bd3786"
            ],
            [
             0.5555555555555556,
             "#d8576b"
            ],
            [
             0.6666666666666666,
             "#ed7953"
            ],
            [
             0.7777777777777778,
             "#fb9f3a"
            ],
            [
             0.8888888888888888,
             "#fdca26"
            ],
            [
             1,
             "#f0f921"
            ]
           ]
          },
          "colorway": [
           "#636efa",
           "#EF553B",
           "#00cc96",
           "#ab63fa",
           "#FFA15A",
           "#19d3f3",
           "#FF6692",
           "#B6E880",
           "#FF97FF",
           "#FECB52"
          ],
          "font": {
           "color": "#f2f5fa"
          },
          "geo": {
           "bgcolor": "rgb(17,17,17)",
           "lakecolor": "rgb(17,17,17)",
           "landcolor": "rgb(17,17,17)",
           "showlakes": true,
           "showland": true,
           "subunitcolor": "#506784"
          },
          "hoverlabel": {
           "align": "left"
          },
          "hovermode": "closest",
          "mapbox": {
           "style": "dark"
          },
          "paper_bgcolor": "rgb(17,17,17)",
          "plot_bgcolor": "rgb(17,17,17)",
          "polar": {
           "angularaxis": {
            "gridcolor": "#506784",
            "linecolor": "#506784",
            "ticks": ""
           },
           "bgcolor": "rgb(17,17,17)",
           "radialaxis": {
            "gridcolor": "#506784",
            "linecolor": "#506784",
            "ticks": ""
           }
          },
          "scene": {
           "xaxis": {
            "backgroundcolor": "rgb(17,17,17)",
            "gridcolor": "#506784",
            "gridwidth": 2,
            "linecolor": "#506784",
            "showbackground": true,
            "ticks": "",
            "zerolinecolor": "#C8D4E3"
           },
           "yaxis": {
            "backgroundcolor": "rgb(17,17,17)",
            "gridcolor": "#506784",
            "gridwidth": 2,
            "linecolor": "#506784",
            "showbackground": true,
            "ticks": "",
            "zerolinecolor": "#C8D4E3"
           },
           "zaxis": {
            "backgroundcolor": "rgb(17,17,17)",
            "gridcolor": "#506784",
            "gridwidth": 2,
            "linecolor": "#506784",
            "showbackground": true,
            "ticks": "",
            "zerolinecolor": "#C8D4E3"
           }
          },
          "shapedefaults": {
           "line": {
            "color": "#f2f5fa"
           }
          },
          "sliderdefaults": {
           "bgcolor": "#C8D4E3",
           "bordercolor": "rgb(17,17,17)",
           "borderwidth": 1,
           "tickwidth": 0
          },
          "ternary": {
           "aaxis": {
            "gridcolor": "#506784",
            "linecolor": "#506784",
            "ticks": ""
           },
           "baxis": {
            "gridcolor": "#506784",
            "linecolor": "#506784",
            "ticks": ""
           },
           "bgcolor": "rgb(17,17,17)",
           "caxis": {
            "gridcolor": "#506784",
            "linecolor": "#506784",
            "ticks": ""
           }
          },
          "title": {
           "x": 0.05
          },
          "updatemenudefaults": {
           "bgcolor": "#506784",
           "borderwidth": 0
          },
          "xaxis": {
           "automargin": true,
           "gridcolor": "#283442",
           "linecolor": "#506784",
           "ticks": "",
           "title": {
            "standoff": 15
           },
           "zerolinecolor": "#283442",
           "zerolinewidth": 2
          },
          "yaxis": {
           "automargin": true,
           "gridcolor": "#283442",
           "linecolor": "#506784",
           "ticks": "",
           "title": {
            "standoff": 15
           },
           "zerolinecolor": "#283442",
           "zerolinewidth": 2
          }
         }
        }
       }
      }
     },
     "metadata": {},
     "output_type": "display_data"
    }
   ],
   "source": [
    "a = Value(1,'a')\n",
    "b = a+a \n",
    "b.backwards()\n",
    "draw_graph(b)"
   ]
  },
  {
   "cell_type": "code",
   "execution_count": 9,
   "metadata": {},
   "outputs": [
    {
     "ename": "ModuleNotFoundError",
     "evalue": "No module named 'torch'",
     "output_type": "error",
     "traceback": [
      "\u001b[1;31m---------------------------------------------------------------------------\u001b[0m",
      "\u001b[1;31mModuleNotFoundError\u001b[0m                       Traceback (most recent call last)",
      "\u001b[1;32m<ipython-input-9-eb42ca6e4af3>\u001b[0m in \u001b[0;36m<module>\u001b[1;34m\u001b[0m\n\u001b[1;32m----> 1\u001b[1;33m \u001b[1;32mimport\u001b[0m \u001b[0mtorch\u001b[0m\u001b[1;33m\u001b[0m\u001b[1;33m\u001b[0m\u001b[0m\n\u001b[0m",
      "\u001b[1;31mModuleNotFoundError\u001b[0m: No module named 'torch'"
     ]
    }
   ],
   "source": [
    "import torch"
   ]
  },
  {
   "cell_type": "code",
   "execution_count": 28,
   "metadata": {},
   "outputs": [
    {
     "name": "stdout",
     "output_type": "stream",
     "text": [
      "0.7071050214706146\n",
      "x1.grad= -1.500007465833125\n",
      "x2.grad= 0.5000024886110417\n",
      "w1.grad= 1.0000049772220834\n",
      "w2.grad= 0.0\n"
     ]
    }
   ],
   "source": [
    "x1 = torch.Tensor([2]).double() ; x1.requires_grad = True\n",
    "x2 = torch.Tensor([0]).double() ; x2.requires_grad = True\n",
    "w1 = torch.Tensor([-3]).double() ; w1.requires_grad = True\n",
    "w2 = torch.Tensor([1]).double() ; w2.requires_grad = True\n",
    "b = torch.Tensor([6.88137]).double() ; b.requires_grad = True\n",
    "n = x1*w1 + x2*w2 + b\n",
    "o = torch.tanh(n)\n",
    "\n",
    "print(o.data.item())\n",
    "o.backward()\n",
    "\n",
    "print(\"x1.grad=\",x1.grad.item()) \n",
    "print(\"x2.grad=\",x2.grad.item())\n",
    "print(\"w1.grad=\",w1.grad.item())\n",
    "print(\"w2.grad=\",w2.grad.item())\n"
   ]
  },
  {
   "cell_type": "code",
   "execution_count": 269,
   "metadata": {},
   "outputs": [],
   "source": [
    "class Neuron: \n",
    "    def __init__(self, nin):\n",
    "        #nin = number of inputs going into the nueron\n",
    "        self.w = [Value(random.uniform(-1,1),f\"w{i}\") for i in range(nin)]\n",
    "        self.b = Value(random.uniform(-1,1),'b')\n",
    "\n",
    "    def __call__(self,x): \n",
    "        #w*x + b \n",
    "        return ( sum([w*x for w,x in zip(self.w,x)]) + self.b ).tanh()\n",
    "\n",
    "    def parameters(self): \n",
    "        #Return a list of all the parameters of the neuron\n",
    "        return self.w + [self.b]\n",
    "        \n"
   ]
  },
  {
   "cell_type": "code",
   "execution_count": 270,
   "metadata": {},
   "outputs": [],
   "source": [
    "#Layer of Neurons = List of Nuerons. They aren't connected to each other\n",
    "class Layer: \n",
    "    def __init__(self, nin, nout):\n",
    "        #nin = number of inputs going into the nueron (x)\n",
    "        #nout = number of neurons in the layer\n",
    "        self.neurons = [Neuron(nin) for i in range(nout)]\n",
    "\n",
    "    def __call__(self,x):\n",
    "        return [n(x) for n in self.neurons]\n",
    "\n",
    "    def parameters(self):\n",
    "        #Return a list of all the parameters of the layer\n",
    "        return [p for n in self.neurons for p in n.parameters()]"
   ]
  },
  {
   "cell_type": "code",
   "execution_count": 94,
   "metadata": {},
   "outputs": [
    {
     "data": {
      "text/plain": [
       "[Value(-0.9934405903715453, ),\n",
       " Value(-0.9960895811299004, ),\n",
       " Value(0.9282588462227764, )]"
      ]
     },
     "execution_count": 94,
     "metadata": {},
     "output_type": "execute_result"
    }
   ],
   "source": [
    "x = [2,3]\n",
    "\n",
    "#Inputs in Layer are the same (x)\n",
    "l = Layer(2,3)\n",
    "l(x)"
   ]
  },
  {
   "cell_type": "code",
   "execution_count": 299,
   "metadata": {},
   "outputs": [],
   "source": [
    "#MLP (Multi Layer Perceptron)\n",
    "#Layer of Layers\n",
    "\n",
    "class MLP:\n",
    "    def __init__(self, nin, nouts): \n",
    "        #nin = number of inputs going into the initial layer\n",
    "        #nouts = list of number of outputs in each layer\n",
    "        self.layers = [Layer(nin,nouts[0])] #First layer\n",
    "        for i in range(1,len(nouts)):\n",
    "            self.layers.append(Layer(nouts[i-1],nouts[i]))\n",
    "\n",
    "    def __call__(self,x):\n",
    "        for l in self.layers:\n",
    "            x = l(x)\n",
    "        return x\n",
    "\n",
    "    def parameters(self):  \n",
    "        #Return a list of all the parameters of the MLP\n",
    "        return [p for l in self.layers for p in l.parameters()]\n"
   ]
  },
  {
   "cell_type": "code",
   "execution_count": 411,
   "metadata": {},
   "outputs": [
    {
     "data": {
      "application/vnd.plotly.v1+json": {
       "config": {
        "plotlyServerURL": "https://plot.ly"
       },
       "data": [
        {
         "hoverinfo": "text",
         "line": {
          "color": "#888",
          "width": 3
         },
         "mode": "lines",
         "text": [
          "+",
          "+",
          "+",
          "+",
          "*",
          "+",
          "+",
          "+",
          "+",
          "+",
          "*",
          "*",
          "+",
          "+",
          "+",
          "+",
          "+",
          "tanh",
          "+",
          "+",
          "*",
          "+",
          "+",
          "*",
          "*",
          "+",
          "*",
          "*",
          "+",
          "*",
          "+",
          "+",
          "*",
          "*",
          "*",
          "*",
          "+",
          "+",
          "+",
          "*",
          "tanh",
          "+",
          "*",
          "+",
          "+",
          "+",
          "+",
          "+",
          "+",
          "+",
          "+",
          "tanh",
          "+",
          "+",
          "*",
          "+",
          "*",
          "+",
          "+",
          "+",
          "+",
          "*",
          "+",
          "tanh",
          "*",
          "*",
          "*",
          "*",
          "+",
          "*",
          "+",
          "+",
          "*",
          "*",
          "+",
          "+",
          "tanh",
          "+",
          "+",
          "*",
          "+",
          "+",
          "*",
          "+",
          "tanh",
          "*",
          "+",
          "*",
          "*",
          "+",
          "*",
          "+",
          "+",
          "*",
          "*",
          "*",
          "*",
          "*",
          "*",
          "+",
          "+",
          "*",
          "*",
          "*",
          "*",
          "+",
          "*",
          "+",
          "+",
          "*",
          "+",
          "+",
          "*",
          "*",
          "*",
          "*",
          "+",
          "+",
          "+",
          "*",
          "*",
          "*",
          "*",
          "*",
          "*",
          "*",
          "*",
          "+",
          "+",
          "*",
          "+",
          "+",
          "tanh",
          "+",
          "+",
          "+",
          "*",
          "*",
          "*",
          "*",
          "*",
          "+",
          "*",
          "+",
          "+",
          "+",
          "+",
          "tanh",
          "+",
          "+",
          "+",
          "*",
          "*",
          "tanh",
          "+"
         ],
         "type": "scatter",
         "x": [
          -0.38230081602407207,
          -0.219894542617706,
          null,
          -0.16520208488037666,
          -0.04771891392034738,
          null,
          0.3732495488636637,
          0.6386693875373674,
          null,
          -0.4901701442556323,
          -0.35574530271519406,
          null,
          0.2529689448361864,
          0.2118986880009644,
          null,
          0.054471226073589334,
          0.02831036298694678,
          null,
          -0.07701391436316009,
          0.0944552294631524,
          null,
          -0.3735255854376453,
          -0.24046683262586174,
          null,
          -0.24046683262586174,
          -0.07701391436316009,
          null,
          -0.21410289902665186,
          -0.17063108410695055,
          null,
          0.1952836399237444,
          0.3732495488636637,
          null,
          -0.4167933306115275,
          -0.3613023765098625,
          null,
          0.0944552294631524,
          0.2849593210042045,
          null,
          -0.0508995439636803,
          0.051531009073510874,
          null,
          -0.06149555679837026,
          -0.19899189401653813,
          null,
          -0.16826397963403258,
          -0.11027468552428338,
          null,
          -0.41518216982019535,
          -0.3735255854376453,
          null,
          0.2849593210042045,
          0.48795686078646644,
          null,
          -0.35574530271519406,
          -0.219894542617706,
          null,
          -0.3613023765098625,
          -0.24046683262586174,
          null,
          -0.11388785763560905,
          -0.24351153595402905,
          null,
          -0.21607757130028474,
          -0.16826397963403258,
          null,
          0.024479463736713683,
          0.14710027863161748,
          null,
          0.05828603341982054,
          0.08853187310441918,
          null,
          -0.08658264140511981,
          -0.07887981341617417,
          null,
          -0.4375660983980129,
          -0.3735255854376453,
          null,
          0.010674533152569611,
          -0.09628646244060207,
          null,
          -0.1890647140133175,
          -0.07161817567928838,
          null,
          -0.22424950661965937,
          -0.07701391436316009,
          null,
          0.43449466164379896,
          0.3826772389247586,
          null,
          -0.17063108410695055,
          -0.04771891392034738,
          null,
          0.1640385834345588,
          0.14976001420645355,
          null,
          -0.6016241211823727,
          -0.4786495288134843,
          null,
          0.03342256659488616,
          -0.09628646244060207,
          null,
          0.25068647904015623,
          0.2434828799806389,
          null,
          0.20032645701929291,
          0.07470735702682152,
          null,
          -0.07887981341617417,
          -0.0508995439636803,
          null,
          0.07470735702682152,
          -0.06149555679837026,
          null,
          0.08853187310441918,
          0.2200963212575756,
          null,
          0.3014209563432685,
          0.24227472501130654,
          null,
          -0.04771891392034738,
          0.02734503595301711,
          null,
          0.08253437385799048,
          0.1499355133885662,
          null,
          -0.7421853037607481,
          -0.6167293790901339,
          null,
          0.1499355133885662,
          0.14976001420645355,
          null,
          0.1528281033949954,
          0.1563265123983575,
          null,
          0.37457195901243745,
          0.3048060953380599,
          null,
          0.6772662558837967,
          0.7291484830806645,
          null,
          0.19031736551459474,
          0.1528281033949954,
          null,
          0.08422771219421919,
          0.02831036298694678,
          null,
          -0.219921200756841,
          -0.11269086489543689,
          null,
          0.10634161895988381,
          0.2849593210042045,
          null,
          0.7291484830806645,
          0.8852145640684024,
          null,
          -0.19899189401653813,
          -0.17063108410695055,
          null,
          0.7083613753941502,
          0.7291484830806645,
          null,
          -0.2144056584032183,
          -0.17671450502872063,
          null,
          0.6386693875373674,
          0.7083613753941502,
          null,
          -0.049005159494028304,
          0.017813841717012623,
          null,
          0.6327407140774222,
          0.7083613753941502,
          null,
          0.39733433681531205,
          0.6386693875373674,
          null,
          -0.6167293790901339,
          -0.4901701442556323,
          null,
          -0.4786495288134843,
          -0.35574530271519406,
          null,
          0.48795686078646644,
          0.6327407140774222,
          null,
          -0.09628646244060207,
          -0.19899189401653813,
          null,
          0.14710027863161748,
          0.10076537652603812,
          null,
          -0.1983138056258967,
          -0.21524789928788,
          null,
          -0.07305080205427557,
          -0.21410289902665186,
          null,
          -0.3489395241908478,
          -0.27556008765605783,
          null,
          -0.2504049596582423,
          -0.06709505496400295,
          null,
          0.2200963212575756,
          0.39733433681531205,
          null,
          0.24673851156210108,
          0.3732495488636637,
          null,
          -0.24351153595402905,
          -0.21787252001600602,
          null,
          0.3048060953380599,
          0.2704209019460113,
          null,
          0.20007081632030194,
          0.35649840521766374,
          null,
          -0.1263590328528246,
          -0.24351153595402905,
          null,
          -0.2768662531341022,
          -0.21787252001600602,
          null,
          -0.17671450502872063,
          -0.16826397963403258,
          null,
          0.02831036298694678,
          0.029040951478901948,
          null,
          -0.06709505496400295,
          0.0944552294631524,
          null,
          -0.13712578277717202,
          -0.11027468552428338,
          null,
          0.029040951478901948,
          0.08853187310441918,
          null,
          0.03975524569792667,
          0.14710027863161748,
          null,
          0.2434828799806389,
          0.39733433681531205,
          null,
          -0.3913220389765077,
          -0.41518216982019535,
          null,
          0.28413949113095244,
          0.2704209019460113,
          null,
          0.2704209019460113,
          0.25068647904015623,
          null,
          0.48970145941139487,
          0.6327407140774222,
          null,
          -0.07161817567928838,
          0.03975524569792667,
          null,
          -0.3826766414320767,
          -0.22424950661965937,
          null,
          -0.5209494212349565,
          -0.38230081602407207,
          null,
          -0.11027468552428338,
          -0.0508995439636803,
          null,
          -0.023132980898507814,
          0.07993606057383061,
          null,
          -0.29211476470166126,
          -0.21607757130028474,
          null,
          0.12548434720910404,
          0.08422771219421919,
          null,
          -0.5877292836902234,
          -0.4786495288134843,
          null,
          -0.06923807009182707,
          0.2118986880009644,
          null,
          -0.06923807009182707,
          -0.27556008765605783,
          null,
          -0.06923807009182707,
          0.18999212123056888,
          null,
          -0.06923807009182707,
          -0.41518216982019535,
          null,
          0.2355705929104992,
          0.15503903685345813,
          null,
          -0.09565447135741871,
          -0.006002390562717478,
          null,
          -0.21524789928788,
          -0.08894551409847562,
          null,
          0.22188207754566316,
          0.07470735702682152,
          null,
          -0.21855650142909075,
          -0.21524789928788,
          null,
          -0.2636146843737804,
          -0.12136709663411452,
          null,
          -0.09220275139361855,
          -0.21410289902665186,
          null,
          -0.27556008765605783,
          -0.21607757130028474,
          null,
          0.021956539185189423,
          0.18999212123056888,
          null,
          0.18468300563429899,
          0.12548434720910404,
          null,
          0.07993606057383061,
          0.1499355133885662,
          null,
          -0.7375900615401193,
          -0.6167293790901339,
          null,
          -0.620638450311701,
          -0.4901701442556323,
          null,
          0.017813841717012623,
          0.08253437385799048,
          null,
          0.11445299433839276,
          -0.07887981341617417,
          null,
          0.11445299433839276,
          -0.06709505496400295,
          null,
          0.11445299433839276,
          0.3826772389247586,
          null,
          0.11445299433839276,
          0.15503903685345813,
          null,
          0.2118986880009644,
          0.1528281033949954,
          null,
          0.18999212123056888,
          0.3537222459934131,
          null,
          0.16141427546680903,
          0.3537222459934131,
          null,
          0.02734503595301711,
          -0.3613023765098625,
          null,
          0.02734503595301711,
          0.24227472501130654,
          null,
          0.02734503595301711,
          -0.17671450502872063,
          null,
          0.02734503595301711,
          0.35649840521766374,
          null,
          0.10076537652603812,
          0.18468300563429899,
          null,
          0.10076537652603812,
          -0.13712578277717202,
          null,
          0.10076537652603812,
          0.47987613068472584,
          null,
          0.10076537652603812,
          -0.22424950661965937,
          null,
          0.3537222459934131,
          0.43285682914232837,
          null,
          0.3826772389247586,
          0.3048060953380599,
          null,
          0.2037017520752931,
          0.18468300563429899,
          null,
          0.11364804206359708,
          0.2200963212575756,
          null,
          0.43285682914232837,
          0.37457195901243745,
          null,
          -0.11269086489543689,
          -0.06923807009182707,
          null,
          -0.029346056086813215,
          0.051531009073510874,
          null,
          0.1563265123983575,
          0.12548434720910404,
          null,
          0.24227472501130654,
          0.1563265123983575,
          null,
          -0.010679751306158686,
          0.017813841717012623,
          null,
          -0.515597706925918,
          -0.38230081602407207,
          null,
          -0.16148819440712972,
          -0.07161817567928838,
          null,
          -0.13186632964790126,
          -0.13712578277717202,
          null,
          -0.23536830430976086,
          -0.12136709663411452,
          null,
          0.0771799066437956,
          -0.06149555679837026,
          null,
          -0.022370817992217972,
          0.07993606057383061,
          null,
          0.35649840521766374,
          0.43285682914232837,
          null,
          0.47987613068472584,
          0.37457195901243745,
          null,
          -0.21787252001600602,
          -0.08894551409847562,
          null,
          -0.219894542617706,
          -0.11269086489543689,
          null,
          0.14976001420645355,
          0.11445299433839276,
          null,
          -0.006002390562717478,
          0.08253437385799048,
          null,
          0.15503903685345813,
          0.08422771219421919,
          null,
          -0.12136709663411452,
          -0.006002390562717478,
          null,
          0.17592289215032145,
          0.2434828799806389,
          null,
          0.5731352496392547,
          0.47987613068472584,
          null,
          0.051531009073510874,
          0.1952836399237444,
          null,
          -0.08894551409847562,
          0.03975524569792667,
          null
         ],
         "y": [
          -0.32776088555836147,
          -0.32697196715591276,
          null,
          -0.17921739177411233,
          -0.16793913363914884,
          null,
          0.6720823713183683,
          0.8785687155520796,
          null,
          -0.2491282493807519,
          -0.28463094028867875,
          null,
          -0.18783881469761338,
          -0.36771283654656506,
          null,
          -0.05309556545308922,
          0.10130471054121593,
          null,
          0.4291449365287023,
          0.5588339512173192,
          null,
          0.12729182103822625,
          0.2900997352036204,
          null,
          0.2900997352036204,
          0.4291449365287023,
          null,
          -0.2358826469492201,
          -0.21089139686817274,
          null,
          0.5306263009184274,
          0.6720823713183683,
          null,
          -0.12476209365947738,
          0.09689548374996368,
          null,
          0.5588339512173192,
          0.6674460205653489,
          null,
          0.2543599395074053,
          0.40625452595408384,
          null,
          -0.3383167228574579,
          -0.32462267580069115,
          null,
          -0.06867303841641971,
          0.09352829943912097,
          null,
          -0.08403250047595849,
          0.12729182103822625,
          null,
          0.6674460205653489,
          0.780160504217493,
          null,
          -0.28463094028867875,
          -0.32697196715591276,
          null,
          0.09689548374996368,
          0.2900997352036204,
          null,
          0.21824511399334148,
          0.13274957802807133,
          null,
          -0.2410724802146907,
          -0.06867303841641971,
          null,
          -0.03798261675448129,
          -0.03542197239387066,
          null,
          0.28010667952986257,
          0.44411048505410367,
          null,
          -0.06710067815859351,
          0.08904349046036973,
          null,
          -0.06819247715297959,
          0.12729182103822625,
          null,
          -0.4747887694940179,
          -0.3805356661246001,
          null,
          0.03740779641885981,
          0.011811788678074477,
          null,
          0.35078075663868646,
          0.4291449365287023,
          null,
          0.16396051783495033,
          0.3305017218422742,
          null,
          -0.21089139686817274,
          -0.16793913363914884,
          null,
          -0.13868756449933423,
          0.022881824289977985,
          null,
          -0.16489133008574636,
          -0.21724755945180366,
          null,
          -0.44807452663383013,
          -0.3805356661246001,
          null,
          0.6688558464501102,
          0.6742506871694728,
          null,
          -0.465115425227351,
          -0.3855701746442423,
          null,
          0.08904349046036973,
          0.2543599395074053,
          null,
          -0.3855701746442423,
          -0.3383167228574579,
          null,
          0.44411048505410367,
          0.5853088100932706,
          null,
          -0.41703725611939124,
          -0.5118880025554516,
          null,
          -0.16793913363914884,
          -0.13524587033521457,
          null,
          -0.28708898847072634,
          -0.11861871389439264,
          null,
          -0.21187604995325038,
          -0.21570348110155163,
          null,
          -0.11861871389439264,
          0.022881824289977985,
          null,
          -0.4916773399143111,
          -0.3959053388147634,
          null,
          0.3511884168368434,
          0.48498853708277867,
          null,
          0.7584466167695681,
          0.8262106666820485,
          null,
          -0.33928188934864917,
          -0.4916773399143111,
          null,
          -0.06493830135186424,
          0.10130471054121593,
          null,
          -0.3570550495122529,
          -0.27968725822691004,
          null,
          0.5333082600888581,
          0.6674460205653489,
          null,
          0.8262106666820485,
          1,
          null,
          -0.32462267580069115,
          -0.21089139686817274,
          null,
          0.8567484189113945,
          0.8262106666820485,
          null,
          -0.40444893872182136,
          -0.2666480745656502,
          null,
          0.8785687155520796,
          0.8567484189113945,
          null,
          -0.5904093481836086,
          -0.44657796657794735,
          null,
          0.8307236548796805,
          0.8567484189113945,
          null,
          0.698348835510702,
          0.8785687155520796,
          null,
          -0.21570348110155163,
          -0.2491282493807519,
          null,
          -0.21724755945180366,
          -0.28463094028867875,
          null,
          0.780160504217493,
          0.8307236548796805,
          null,
          -0.3805356661246001,
          -0.32462267580069115,
          null,
          -0.03542197239387066,
          0.04310139855256977,
          null,
          0.07468188822545145,
          -0.015568889360277243,
          null,
          -0.24428203472857626,
          -0.2358826469492201,
          null,
          -0.4621598907258041,
          -0.3525165161261606,
          null,
          0.34853567931220764,
          0.47585682905854404,
          null,
          0.5853088100932706,
          0.698348835510702,
          null,
          0.5695153039624837,
          0.6720823713183683,
          null,
          0.13274957802807133,
          0.01447413417406535,
          null,
          0.48498853708277867,
          0.6016611288854848,
          null,
          0.08999390575631983,
          0.11081706882632798,
          null,
          0.24246256670293828,
          0.13274957802807133,
          null,
          0.14207206465741548,
          0.01447413417406535,
          null,
          -0.2666480745656502,
          -0.06867303841641971,
          null,
          0.10130471054121593,
          0.2748457448246072,
          null,
          0.47585682905854404,
          0.5588339512173192,
          null,
          -0.07530286755806889,
          0.09352829943912097,
          null,
          0.2748457448246072,
          0.44411048505410367,
          null,
          -0.014988840374067332,
          -0.03542197239387066,
          null,
          0.6742506871694728,
          0.698348835510702,
          null,
          -0.2942498469223797,
          -0.08403250047595849,
          null,
          0.4095735013054209,
          0.6016611288854848,
          null,
          0.6016611288854848,
          0.6688558464501102,
          null,
          0.7418924153300387,
          0.8307236548796805,
          null,
          0.011811788678074477,
          -0.014988840374067332,
          null,
          0.2452881902470887,
          0.35078075663868646,
          null,
          -0.3184708411841739,
          -0.32776088555836147,
          null,
          0.09352829943912097,
          0.2543599395074053,
          null,
          -0.4011557067833171,
          -0.2577693008394625,
          null,
          -0.36688491910471316,
          -0.2410724802146907,
          null,
          -0.23687374591947674,
          -0.06493830135186424,
          null,
          -0.13327121978805942,
          -0.21724755945180366,
          null,
          -0.18673515873056062,
          -0.36771283654656506,
          null,
          -0.18673515873056062,
          -0.3525165161261606,
          null,
          -0.18673515873056062,
          0.02483340781020412,
          null,
          -0.18673515873056062,
          -0.08403250047595849,
          null,
          -0.36059771874019947,
          -0.21224385463861356,
          null,
          -0.5711973666532573,
          -0.434959475728388,
          null,
          -0.015568889360277243,
          -0.015933157784190057,
          null,
          -0.4360649561686595,
          -0.3855701746442423,
          null,
          0.06151718148117957,
          -0.015568889360277243,
          null,
          -0.6411300872919211,
          -0.5532694988661818,
          null,
          -0.27073304546848387,
          -0.2358826469492201,
          null,
          -0.3525165161261606,
          -0.2410724802146907,
          null,
          -0.05090983093196658,
          0.02483340781020412,
          null,
          -0.399257650768958,
          -0.23687374591947674,
          null,
          -0.2577693008394625,
          -0.11861871389439264,
          null,
          -0.16776642301705377,
          -0.21570348110155163,
          null,
          -0.24959174330653278,
          -0.2491282493807519,
          null,
          -0.44657796657794735,
          -0.28708898847072634,
          null,
          0.17003664953248931,
          0.08904349046036973,
          null,
          0.17003664953248931,
          0.47585682905854404,
          null,
          0.17003664953248931,
          0.3305017218422742,
          null,
          0.17003664953248931,
          -0.21224385463861356,
          null,
          -0.36771283654656506,
          -0.4916773399143111,
          null,
          0.02483340781020412,
          0.07980658006078548,
          null,
          0.02469629125071654,
          0.07980658006078548,
          null,
          -0.13524587033521457,
          0.09689548374996368,
          null,
          -0.13524587033521457,
          -0.5118880025554516,
          null,
          -0.13524587033521457,
          -0.2666480745656502,
          null,
          -0.13524587033521457,
          0.11081706882632798,
          null,
          0.04310139855256977,
          -0.399257650768958,
          null,
          0.04310139855256977,
          -0.07530286755806889,
          null,
          0.04310139855256977,
          0.24816520584697976,
          null,
          0.04310139855256977,
          0.35078075663868646,
          null,
          0.07980658006078548,
          0.2160717173911026,
          null,
          0.3305017218422742,
          0.48498853708277867,
          null,
          -0.5198699656800279,
          -0.399257650768958,
          null,
          0.42529404202492,
          0.5853088100932706,
          null,
          0.2160717173911026,
          0.3511884168368434,
          null,
          -0.27968725822691004,
          -0.18673515873056062,
          null,
          0.2367826217207017,
          0.40625452595408384,
          null,
          -0.3959053388147634,
          -0.23687374591947674,
          null,
          -0.5118880025554516,
          -0.3959053388147634,
          null,
          -0.5946979102711196,
          -0.44657796657794735,
          null,
          -0.3563824417824367,
          -0.32776088555836147,
          null,
          0.09873489832310725,
          0.011811788678074477,
          null,
          -0.22014235053839562,
          -0.07530286755806889,
          null,
          -0.6655737993710903,
          -0.5532694988661818,
          null,
          -0.3570239402410901,
          -0.3383167228574579,
          null,
          -0.378466116150506,
          -0.2577693008394625,
          null,
          0.11081706882632798,
          0.2160717173911026,
          null,
          0.24816520584697976,
          0.3511884168368434,
          null,
          0.01447413417406535,
          -0.015933157784190057,
          null,
          -0.32697196715591276,
          -0.27968725822691004,
          null,
          0.022881824289977985,
          0.17003664953248931,
          null,
          -0.434959475728388,
          -0.28708898847072634,
          null,
          -0.21224385463861356,
          -0.06493830135186424,
          null,
          -0.5532694988661818,
          -0.434959475728388,
          null,
          0.6311769036076436,
          0.6742506871694728,
          null,
          0.16782394168362616,
          0.24816520584697976,
          null,
          0.40625452595408384,
          0.5306263009184274,
          null,
          -0.015933157784190057,
          -0.014988840374067332,
          null
         ]
        },
        {
         "hoverinfo": "text",
         "marker": {
          "color": "darkred",
          "size": 10
         },
         "mode": "markers+text",
         "text": [
          "+",
          "+",
          "+",
          "+",
          "*",
          "+",
          "+",
          "+",
          "+",
          "+",
          "*",
          "*",
          "+",
          "+",
          "+",
          "+",
          "+",
          "tanh",
          "+",
          "+",
          "*",
          "+",
          "+",
          "*",
          "*",
          "+",
          "*",
          "*",
          "+",
          "*",
          "+",
          "+",
          "*",
          "*",
          "*",
          "*",
          "+",
          "+",
          "+",
          "*",
          "tanh",
          "+",
          "*",
          "+",
          "+",
          "+",
          "+",
          "+",
          "+",
          "+",
          "+",
          "tanh",
          "+",
          "+",
          "*",
          "+",
          "*",
          "+",
          "+",
          "+",
          "+",
          "*",
          "+",
          "tanh",
          "*",
          "*",
          "*",
          "*",
          "+",
          "*",
          "+",
          "+",
          "*",
          "*",
          "+",
          "+",
          "tanh",
          "+",
          "+",
          "*",
          "+",
          "+",
          "*",
          "+",
          "tanh",
          "*",
          "+",
          "*",
          "*",
          "+",
          "*",
          "+",
          "+",
          "*",
          "*",
          "*",
          "*",
          "*",
          "*",
          "+",
          "+",
          "*",
          "*",
          "*",
          "*",
          "+",
          "*",
          "+",
          "+",
          "*",
          "+",
          "+",
          "*",
          "*",
          "*",
          "*",
          "+",
          "+",
          "+",
          "*",
          "*",
          "*",
          "*",
          "*",
          "*",
          "*",
          "*",
          "+",
          "+",
          "*",
          "+",
          "+",
          "tanh",
          "+",
          "+",
          "+",
          "*",
          "*",
          "*",
          "*",
          "*",
          "+",
          "*",
          "+",
          "+",
          "+",
          "+",
          "tanh",
          "+",
          "+",
          "+",
          "*",
          "*",
          "tanh",
          "+"
         ],
         "textposition": "middle center",
         "type": "scatter",
         "x": [
          -0.30109767932088904,
          -0.10646049940036202,
          0.5059594682005155,
          -0.42295772348541316,
          0.2324338164185754,
          0.04139079453026806,
          0.008720657549996153,
          -0.3069962090317535,
          -0.15874037349451092,
          -0.1923669915668012,
          0.28426659439370405,
          -0.38904785356069504,
          0.18970727523367845,
          0.00031573255491528646,
          -0.1302437254074542,
          -0.13926933257915797,
          -0.3943538776289203,
          0.38645809089533545,
          -0.28781992266645,
          -0.30088460456786215,
          -0.17869969679481906,
          -0.19217077546715866,
          0.08578987118416559,
          0.07340895326211985,
          -0.08273122741064699,
          -0.4055458419178291,
          -0.04280596464401623,
          -0.13034144484630295,
          -0.15063171049140972,
          0.4085859502842788,
          -0.10917499901364897,
          0.15689929882050618,
          -0.5401368249979286,
          -0.03143194792285796,
          0.24708467951039756,
          0.13751690702305722,
          -0.06488967868992723,
          0.00660590011422563,
          0.1543140971809974,
          0.2718478406772875,
          -0.010186938983665137,
          0.11623494362327834,
          -0.679457341425441,
          0.14984776379750986,
          0.15457730789667645,
          0.3396890271752487,
          0.7032073694822306,
          0.17157273445479507,
          0.056269037590582986,
          -0.16630603282613893,
          0.19565046998204416,
          0.8071815235745334,
          -0.18481148906174433,
          0.7187549292374074,
          -0.19556008171596945,
          0.6735153814657588,
          -0.01559565888850784,
          0.6705510447357862,
          0.5180018621763397,
          -0.5534497616728831,
          -0.4171974157643392,
          0.5603487874319443,
          -0.1476391782285701,
          0.1239328275788278,
          -0.20678085245688835,
          -0.1435768505404637,
          -0.3122498059234528,
          -0.1587500073111226,
          0.30871532903644383,
          0.3099940302128824,
          -0.23069202798501753,
          0.2876134986420356,
          0.2782846107689828,
          -0.18493528440342683,
          -0.24736938657505408,
          -0.1724892423313766,
          0.028675657232924364,
          0.013680087249574722,
          -0.1237002341507277,
          0.05878641229166057,
          0.09342776216477208,
          0.32040860839797547,
          -0.4032521043983515,
          0.2772801965384819,
          0.26055369049308374,
          0.5612210867444085,
          -0.015931464990680856,
          -0.30346307402586803,
          -0.45162511862951427,
          -0.08058711474398184,
          0.0284015398376614,
          -0.254096168000973,
          0.10485602970166161,
          -0.5331894062518538,
          0.07133030895456866,
          -0.17239907887394246,
          0.060377025569370905,
          -0.24221011995601122,
          0.19530481488197865,
          -0.050828430960068095,
          -0.15209670669317782,
          0.14829471728624233,
          -0.21690220035848537,
          -0.19249089050394746,
          -0.1531528252101352,
          -0.2458188294781713,
          0.10597433020787915,
          0.1550836764217015,
          0.11493578698119841,
          -0.6771597203151266,
          -0.5554042972836666,
          0.05017410778750155,
          0.017786590461109295,
          0.023678969687194906,
          0.24856511663157566,
          0.13474601559592544,
          0.18236339569797988,
          0.271857183611991,
          0.2575682607301111,
          -0.1669786702784227,
          0.13480988048216183,
          -0.07468473453785177,
          0.19192172058534043,
          0.14272419108016854,
          -0.01818020312556695,
          0.290320753605382,
          -0.061742065046810624,
          0.3932895375678708,
          0.34374166713140925,
          0.19419237885479604,
          0.16687218166058634,
          0.4037143940773829,
          -0.09096446749363199,
          0.01109247649334883,
          0.14090542980373078,
          0.199300618704832,
          0.0035670452054269684,
          -0.44894926147499503,
          -0.11655318504320905,
          -0.13449605621253663,
          -0.17836770047193767,
          0.007842174922712674,
          0.028782621290806318,
          0.39467761717999605,
          0.4272240448485817,
          -0.1534090170572408,
          -0.16629270375657146,
          0.13210650427242315,
          0.0382659916476365,
          0.11963337452383865,
          -0.063684743598416,
          0.20970288606548015,
          0.5265056901619902,
          0.12340732449862764,
          -0.024595134200274475
         ],
         "y": [
          -0.3273664263571371,
          -0.17357826270663057,
          0.775325543435224,
          -0.26687959483471535,
          -0.27777582562208925,
          0.02410457254406335,
          0.4939894438730107,
          0.20869577812092333,
          0.3596223358661613,
          -0.22338702190869641,
          0.601354336118398,
          -0.01393330495475685,
          0.613139985891334,
          0.3303072327307446,
          -0.33146969932907455,
          0.01242763051135063,
          0.021629660281133882,
          0.7238032623914209,
          -0.3058014537222957,
          0.19349760947679207,
          0.1754973460107064,
          -0.1548727593155552,
          -0.036702294574175974,
          0.3621085822919831,
          0.01097140615088811,
          0.029549671942623333,
          -0.427662217809309,
          0.02460979254846714,
          0.3899628465836944,
          0.2472311198386123,
          -0.1894152652536608,
          -0.05790287010467812,
          -0.19106944476877502,
          -0.4143050963792151,
          0.6715532668097914,
          -0.42534279993579666,
          0.17170171498388753,
          -0.3619434487508501,
          0.5147096475736872,
          -0.46446262933742144,
          -0.15159250198718172,
          -0.2028538511825595,
          -0.213789765527401,
          -0.04786844480220733,
          -0.4437913393645373,
          0.418088476959811,
          0.7923286417258083,
          -0.41547961463148014,
          0.018183204594675845,
          -0.3183711538695815,
          0.6003771403271034,
          0.9131053333410242,
          -0.26775703633443193,
          0.8414795427967214,
          -0.3355485066437358,
          0.8676585672317371,
          -0.5184936573807779,
          0.8437360368955376,
          0.7884587755313908,
          -0.23241586524115176,
          -0.2509392498702412,
          0.8054420795485867,
          -0.3525791709626456,
          0.0038397130793495528,
          0.029556499432587105,
          -0.24008234083889818,
          -0.40733820342598237,
          0.41219625418537587,
          0.6418288228019864,
          0.6207988376404261,
          0.07361185610106834,
          0.5433248329841318,
          0.1004054872913239,
          0.1876060723655048,
          0.07827309941574041,
          -0.16766055649103495,
          0.18807522768291157,
          0.5173453901379316,
          0.00911271594052604,
          0.35947811493935544,
          -0.025205406383968995,
          0.6862997613400874,
          -0.1891411736991691,
          0.5056173150954528,
          0.6352584876677976,
          0.7863080351048596,
          -0.0015885258479964278,
          0.2980344734428876,
          -0.3231158633712677,
          0.17394411947326316,
          -0.32946250381138975,
          -0.3039786996597019,
          -0.1509060236356705,
          -0.17525938961993154,
          -0.27722399763856287,
          -0.2696258374283606,
          -0.08095087546017825,
          -0.13538382960325956,
          -0.2864207866894065,
          -0.5030784211908226,
          -0.01575102357223365,
          -0.41081756540645087,
          0.022974146060451166,
          -0.5971997930790515,
          -0.253307846208852,
          -0.29679449817042564,
          -0.013038211560881231,
          -0.3180656983442174,
          -0.18819400736692757,
          -0.1917349520593027,
          -0.24935999634364234,
          -0.3668334775243368,
          0.12954006999642953,
          0.32294673929551665,
          0.25026918568738177,
          -0.021103602553062123,
          -0.4296950882304381,
          0.0523199939354948,
          0.05225143565575101,
          -0.019175193292625445,
          -0.3235669364453331,
          -0.2009469724504324,
          -0.012214400754443293,
          -0.1780781261081941,
          -0.016100734502749563,
          0.14563330219977477,
          0.19694107759562812,
          0.14793914872594405,
          0.40774512946252645,
          -0.45956380822449294,
          0.5053014260590953,
          0.283630067113973,
          -0.23321120847873533,
          0.3215185738373928,
          -0.3163895423671201,
          -0.45389667068510753,
          -0.5206379384245334,
          -0.3420716636703991,
          0.05527334350059086,
          -0.14772260904823226,
          -0.609421649118636,
          -0.34767033154927396,
          -0.3181177084949842,
          0.16344439310871528,
          0.2996768113419116,
          -0.0007295118050623531,
          -0.3033296126914114,
          0.09645923691123365,
          -0.36102423209955714,
          -0.1385910779952389,
          -0.4941144872972849,
          0.6527137953885582,
          0.20799457376530295,
          0.46844041343625564,
          -0.015460999079128694
         ]
        },
        {
         "hoverinfo": "text",
         "marker": {
          "color": "darkblue",
          "size": 20
         },
         "mode": "markers+text",
         "text": [
          "",
          "b",
          "",
          "",
          "w0",
          "b",
          "",
          "",
          "",
          "",
          "",
          "w1",
          "",
          "",
          "",
          "",
          "",
          "",
          "",
          "",
          "",
          "",
          "b",
          "w0",
          "w3",
          "",
          "w1",
          "w2",
          "",
          "w3",
          "",
          "b",
          "",
          "",
          "",
          "w0",
          "",
          "",
          "",
          "w1",
          "",
          "",
          "",
          "",
          "",
          "",
          "b",
          "",
          "",
          "b",
          "b",
          "",
          "",
          "",
          "w1",
          "",
          "w1",
          "",
          "",
          "",
          "",
          "",
          "",
          "",
          "",
          "w2",
          "w0",
          "w3",
          "",
          "w2",
          "",
          "",
          "w1",
          "w0",
          "",
          "",
          "",
          "",
          "",
          "",
          "",
          "",
          "w0",
          "b",
          "",
          "w3",
          "",
          "w2",
          "w2",
          "",
          "w2",
          "",
          "",
          "w1",
          "",
          "w3",
          "",
          "",
          "",
          "w1",
          "",
          "",
          "",
          "w0",
          "",
          "",
          "w0",
          "",
          "",
          "",
          "",
          "",
          "",
          "",
          "",
          "",
          "",
          "",
          "w2",
          "",
          "",
          "",
          "b",
          "",
          "",
          "",
          "",
          "",
          "w2",
          "w0",
          "",
          "",
          "",
          "",
          "",
          "",
          "",
          "",
          "",
          "",
          "w1",
          "w2",
          "",
          ""
         ],
         "type": "scatter",
         "x": [
          -0.38230081602407207,
          -0.16520208488037666,
          0.3732495488636637,
          -0.4901701442556323,
          0.2529689448361864,
          0.054471226073589334,
          -0.07701391436316009,
          -0.3735255854376453,
          -0.24046683262586174,
          -0.21410289902665186,
          0.1952836399237444,
          -0.4167933306115275,
          0.0944552294631524,
          -0.0508995439636803,
          -0.06149555679837026,
          -0.16826397963403258,
          -0.41518216982019535,
          0.2849593210042045,
          -0.35574530271519406,
          -0.3613023765098625,
          -0.11388785763560905,
          -0.21607757130028474,
          0.024479463736713683,
          0.05828603341982054,
          -0.08658264140511981,
          -0.4375660983980129,
          0.010674533152569611,
          -0.1890647140133175,
          -0.22424950661965937,
          0.43449466164379896,
          -0.17063108410695055,
          0.1640385834345588,
          -0.6016241211823727,
          0.03342256659488616,
          0.25068647904015623,
          0.20032645701929291,
          -0.07887981341617417,
          0.07470735702682152,
          0.08853187310441918,
          0.3014209563432685,
          -0.04771891392034738,
          0.08253437385799048,
          -0.7421853037607481,
          0.1499355133885662,
          0.1528281033949954,
          0.37457195901243745,
          0.6772662558837967,
          0.19031736551459474,
          0.08422771219421919,
          -0.219921200756841,
          0.10634161895988381,
          0.7291484830806645,
          -0.19899189401653813,
          0.7083613753941502,
          -0.2144056584032183,
          0.6386693875373674,
          -0.049005159494028304,
          0.6327407140774222,
          0.39733433681531205,
          -0.6167293790901339,
          -0.4786495288134843,
          0.48795686078646644,
          -0.09628646244060207,
          0.14710027863161748,
          -0.1983138056258967,
          -0.07305080205427557,
          -0.3489395241908478,
          -0.2504049596582423,
          0.2200963212575756,
          0.24673851156210108,
          -0.24351153595402905,
          0.3048060953380599,
          0.20007081632030194,
          -0.1263590328528246,
          -0.2768662531341022,
          -0.17671450502872063,
          0.02831036298694678,
          -0.06709505496400295,
          -0.13712578277717202,
          0.029040951478901948,
          0.03975524569792667,
          0.2434828799806389,
          -0.3913220389765077,
          0.28413949113095244,
          0.2704209019460113,
          0.48970145941139487,
          -0.07161817567928838,
          -0.3826766414320767,
          -0.5209494212349565,
          -0.11027468552428338,
          -0.023132980898507814,
          -0.29211476470166126,
          0.12548434720910404,
          -0.5877292836902234,
          -0.06923807009182707,
          0.2355705929104992,
          -0.09565447135741871,
          -0.21524789928788,
          0.22188207754566316,
          -0.21855650142909075,
          -0.2636146843737804,
          -0.09220275139361855,
          -0.27556008765605783,
          0.021956539185189423,
          0.18468300563429899,
          0.07993606057383061,
          -0.7375900615401193,
          -0.620638450311701,
          0.017813841717012623,
          0.11445299433839276,
          0.8852145640684024,
          0.2118986880009644,
          0.18999212123056888,
          0.16141427546680903,
          0.02734503595301711,
          0.10076537652603812,
          0.3537222459934131,
          0.3826772389247586,
          0.2037017520752931,
          0.11364804206359708,
          0.43285682914232837,
          -0.11269086489543689,
          -0.029346056086813215,
          0.1563265123983575,
          0.24227472501130654,
          -0.010679751306158686,
          -0.515597706925918,
          -0.16148819440712972,
          -0.13186632964790126,
          -0.23536830430976086,
          0.0771799066437956,
          -0.022370817992217972,
          0.35649840521766374,
          0.47987613068472584,
          -0.21787252001600602,
          -0.219894542617706,
          0.14976001420645355,
          -0.006002390562717478,
          0.15503903685345813,
          -0.12136709663411452,
          0.17592289215032145,
          0.5731352496392547,
          0.051531009073510874,
          -0.08894551409847562
         ],
         "y": [
          -0.32776088555836147,
          -0.17921739177411233,
          0.6720823713183683,
          -0.2491282493807519,
          -0.18783881469761338,
          -0.05309556545308922,
          0.4291449365287023,
          0.12729182103822625,
          0.2900997352036204,
          -0.2358826469492201,
          0.5306263009184274,
          -0.12476209365947738,
          0.5588339512173192,
          0.2543599395074053,
          -0.3383167228574579,
          -0.06867303841641971,
          -0.08403250047595849,
          0.6674460205653489,
          -0.28463094028867875,
          0.09689548374996368,
          0.21824511399334148,
          -0.2410724802146907,
          -0.03798261675448129,
          0.28010667952986257,
          -0.06710067815859351,
          -0.06819247715297959,
          -0.4747887694940179,
          0.03740779641885981,
          0.35078075663868646,
          0.16396051783495033,
          -0.21089139686817274,
          -0.13868756449933423,
          -0.16489133008574636,
          -0.44807452663383013,
          0.6688558464501102,
          -0.465115425227351,
          0.08904349046036973,
          -0.3855701746442423,
          0.44411048505410367,
          -0.41703725611939124,
          -0.16793913363914884,
          -0.28708898847072634,
          -0.21187604995325038,
          -0.11861871389439264,
          -0.4916773399143111,
          0.3511884168368434,
          0.7584466167695681,
          -0.33928188934864917,
          -0.06493830135186424,
          -0.3570550495122529,
          0.5333082600888581,
          0.8262106666820485,
          -0.32462267580069115,
          0.8567484189113945,
          -0.40444893872182136,
          0.8785687155520796,
          -0.5904093481836086,
          0.8307236548796805,
          0.698348835510702,
          -0.21570348110155163,
          -0.21724755945180366,
          0.780160504217493,
          -0.3805356661246001,
          -0.03542197239387066,
          0.07468188822545145,
          -0.24428203472857626,
          -0.4621598907258041,
          0.34853567931220764,
          0.5853088100932706,
          0.5695153039624837,
          0.13274957802807133,
          0.48498853708277867,
          0.08999390575631983,
          0.24246256670293828,
          0.14207206465741548,
          -0.2666480745656502,
          0.10130471054121593,
          0.47585682905854404,
          -0.07530286755806889,
          0.2748457448246072,
          -0.014988840374067332,
          0.6742506871694728,
          -0.2942498469223797,
          0.4095735013054209,
          0.6016611288854848,
          0.7418924153300387,
          0.011811788678074477,
          0.2452881902470887,
          -0.3184708411841739,
          0.09352829943912097,
          -0.4011557067833171,
          -0.36688491910471316,
          -0.23687374591947674,
          -0.13327121978805942,
          -0.18673515873056062,
          -0.36059771874019947,
          -0.5711973666532573,
          -0.015568889360277243,
          -0.4360649561686595,
          0.06151718148117957,
          -0.6411300872919211,
          -0.27073304546848387,
          -0.3525165161261606,
          -0.05090983093196658,
          -0.399257650768958,
          -0.2577693008394625,
          -0.16776642301705377,
          -0.24959174330653278,
          -0.44657796657794735,
          0.17003664953248931,
          1,
          -0.36771283654656506,
          0.02483340781020412,
          0.02469629125071654,
          -0.13524587033521457,
          0.04310139855256977,
          0.07980658006078548,
          0.3305017218422742,
          -0.5198699656800279,
          0.42529404202492,
          0.2160717173911026,
          -0.27968725822691004,
          0.2367826217207017,
          -0.3959053388147634,
          -0.5118880025554516,
          -0.5946979102711196,
          -0.3563824417824367,
          0.09873489832310725,
          -0.22014235053839562,
          -0.6655737993710903,
          -0.3570239402410901,
          -0.378466116150506,
          0.11081706882632798,
          0.24816520584697976,
          0.01447413417406535,
          -0.32697196715591276,
          0.022881824289977985,
          -0.434959475728388,
          -0.21224385463861356,
          -0.5532694988661818,
          0.6311769036076436,
          0.16782394168362616,
          0.40625452595408384,
          -0.015933157784190057
         ]
        }
       ],
       "layout": {
        "template": {
         "data": {
          "bar": [
           {
            "error_x": {
             "color": "#f2f5fa"
            },
            "error_y": {
             "color": "#f2f5fa"
            },
            "marker": {
             "line": {
              "color": "rgb(17,17,17)",
              "width": 0.5
             },
             "pattern": {
              "fillmode": "overlay",
              "size": 10,
              "solidity": 0.2
             }
            },
            "type": "bar"
           }
          ],
          "barpolar": [
           {
            "marker": {
             "line": {
              "color": "rgb(17,17,17)",
              "width": 0.5
             },
             "pattern": {
              "fillmode": "overlay",
              "size": 10,
              "solidity": 0.2
             }
            },
            "type": "barpolar"
           }
          ],
          "carpet": [
           {
            "aaxis": {
             "endlinecolor": "#A2B1C6",
             "gridcolor": "#506784",
             "linecolor": "#506784",
             "minorgridcolor": "#506784",
             "startlinecolor": "#A2B1C6"
            },
            "baxis": {
             "endlinecolor": "#A2B1C6",
             "gridcolor": "#506784",
             "linecolor": "#506784",
             "minorgridcolor": "#506784",
             "startlinecolor": "#A2B1C6"
            },
            "type": "carpet"
           }
          ],
          "choropleth": [
           {
            "colorbar": {
             "outlinewidth": 0,
             "ticks": ""
            },
            "type": "choropleth"
           }
          ],
          "contour": [
           {
            "colorbar": {
             "outlinewidth": 0,
             "ticks": ""
            },
            "colorscale": [
             [
              0,
              "#0d0887"
             ],
             [
              0.1111111111111111,
              "#46039f"
             ],
             [
              0.2222222222222222,
              "#7201a8"
             ],
             [
              0.3333333333333333,
              "#9c179e"
             ],
             [
              0.4444444444444444,
              "#bd3786"
             ],
             [
              0.5555555555555556,
              "#d8576b"
             ],
             [
              0.6666666666666666,
              "#ed7953"
             ],
             [
              0.7777777777777778,
              "#fb9f3a"
             ],
             [
              0.8888888888888888,
              "#fdca26"
             ],
             [
              1,
              "#f0f921"
             ]
            ],
            "type": "contour"
           }
          ],
          "contourcarpet": [
           {
            "colorbar": {
             "outlinewidth": 0,
             "ticks": ""
            },
            "type": "contourcarpet"
           }
          ],
          "heatmap": [
           {
            "colorbar": {
             "outlinewidth": 0,
             "ticks": ""
            },
            "colorscale": [
             [
              0,
              "#0d0887"
             ],
             [
              0.1111111111111111,
              "#46039f"
             ],
             [
              0.2222222222222222,
              "#7201a8"
             ],
             [
              0.3333333333333333,
              "#9c179e"
             ],
             [
              0.4444444444444444,
              "#bd3786"
             ],
             [
              0.5555555555555556,
              "#d8576b"
             ],
             [
              0.6666666666666666,
              "#ed7953"
             ],
             [
              0.7777777777777778,
              "#fb9f3a"
             ],
             [
              0.8888888888888888,
              "#fdca26"
             ],
             [
              1,
              "#f0f921"
             ]
            ],
            "type": "heatmap"
           }
          ],
          "heatmapgl": [
           {
            "colorbar": {
             "outlinewidth": 0,
             "ticks": ""
            },
            "colorscale": [
             [
              0,
              "#0d0887"
             ],
             [
              0.1111111111111111,
              "#46039f"
             ],
             [
              0.2222222222222222,
              "#7201a8"
             ],
             [
              0.3333333333333333,
              "#9c179e"
             ],
             [
              0.4444444444444444,
              "#bd3786"
             ],
             [
              0.5555555555555556,
              "#d8576b"
             ],
             [
              0.6666666666666666,
              "#ed7953"
             ],
             [
              0.7777777777777778,
              "#fb9f3a"
             ],
             [
              0.8888888888888888,
              "#fdca26"
             ],
             [
              1,
              "#f0f921"
             ]
            ],
            "type": "heatmapgl"
           }
          ],
          "histogram": [
           {
            "marker": {
             "pattern": {
              "fillmode": "overlay",
              "size": 10,
              "solidity": 0.2
             }
            },
            "type": "histogram"
           }
          ],
          "histogram2d": [
           {
            "colorbar": {
             "outlinewidth": 0,
             "ticks": ""
            },
            "colorscale": [
             [
              0,
              "#0d0887"
             ],
             [
              0.1111111111111111,
              "#46039f"
             ],
             [
              0.2222222222222222,
              "#7201a8"
             ],
             [
              0.3333333333333333,
              "#9c179e"
             ],
             [
              0.4444444444444444,
              "#bd3786"
             ],
             [
              0.5555555555555556,
              "#d8576b"
             ],
             [
              0.6666666666666666,
              "#ed7953"
             ],
             [
              0.7777777777777778,
              "#fb9f3a"
             ],
             [
              0.8888888888888888,
              "#fdca26"
             ],
             [
              1,
              "#f0f921"
             ]
            ],
            "type": "histogram2d"
           }
          ],
          "histogram2dcontour": [
           {
            "colorbar": {
             "outlinewidth": 0,
             "ticks": ""
            },
            "colorscale": [
             [
              0,
              "#0d0887"
             ],
             [
              0.1111111111111111,
              "#46039f"
             ],
             [
              0.2222222222222222,
              "#7201a8"
             ],
             [
              0.3333333333333333,
              "#9c179e"
             ],
             [
              0.4444444444444444,
              "#bd3786"
             ],
             [
              0.5555555555555556,
              "#d8576b"
             ],
             [
              0.6666666666666666,
              "#ed7953"
             ],
             [
              0.7777777777777778,
              "#fb9f3a"
             ],
             [
              0.8888888888888888,
              "#fdca26"
             ],
             [
              1,
              "#f0f921"
             ]
            ],
            "type": "histogram2dcontour"
           }
          ],
          "mesh3d": [
           {
            "colorbar": {
             "outlinewidth": 0,
             "ticks": ""
            },
            "type": "mesh3d"
           }
          ],
          "parcoords": [
           {
            "line": {
             "colorbar": {
              "outlinewidth": 0,
              "ticks": ""
             }
            },
            "type": "parcoords"
           }
          ],
          "pie": [
           {
            "automargin": true,
            "type": "pie"
           }
          ],
          "scatter": [
           {
            "marker": {
             "line": {
              "color": "#283442"
             }
            },
            "type": "scatter"
           }
          ],
          "scatter3d": [
           {
            "line": {
             "colorbar": {
              "outlinewidth": 0,
              "ticks": ""
             }
            },
            "marker": {
             "colorbar": {
              "outlinewidth": 0,
              "ticks": ""
             }
            },
            "type": "scatter3d"
           }
          ],
          "scattercarpet": [
           {
            "marker": {
             "colorbar": {
              "outlinewidth": 0,
              "ticks": ""
             }
            },
            "type": "scattercarpet"
           }
          ],
          "scattergeo": [
           {
            "marker": {
             "colorbar": {
              "outlinewidth": 0,
              "ticks": ""
             }
            },
            "type": "scattergeo"
           }
          ],
          "scattergl": [
           {
            "marker": {
             "line": {
              "color": "#283442"
             }
            },
            "type": "scattergl"
           }
          ],
          "scattermapbox": [
           {
            "marker": {
             "colorbar": {
              "outlinewidth": 0,
              "ticks": ""
             }
            },
            "type": "scattermapbox"
           }
          ],
          "scatterpolar": [
           {
            "marker": {
             "colorbar": {
              "outlinewidth": 0,
              "ticks": ""
             }
            },
            "type": "scatterpolar"
           }
          ],
          "scatterpolargl": [
           {
            "marker": {
             "colorbar": {
              "outlinewidth": 0,
              "ticks": ""
             }
            },
            "type": "scatterpolargl"
           }
          ],
          "scatterternary": [
           {
            "marker": {
             "colorbar": {
              "outlinewidth": 0,
              "ticks": ""
             }
            },
            "type": "scatterternary"
           }
          ],
          "surface": [
           {
            "colorbar": {
             "outlinewidth": 0,
             "ticks": ""
            },
            "colorscale": [
             [
              0,
              "#0d0887"
             ],
             [
              0.1111111111111111,
              "#46039f"
             ],
             [
              0.2222222222222222,
              "#7201a8"
             ],
             [
              0.3333333333333333,
              "#9c179e"
             ],
             [
              0.4444444444444444,
              "#bd3786"
             ],
             [
              0.5555555555555556,
              "#d8576b"
             ],
             [
              0.6666666666666666,
              "#ed7953"
             ],
             [
              0.7777777777777778,
              "#fb9f3a"
             ],
             [
              0.8888888888888888,
              "#fdca26"
             ],
             [
              1,
              "#f0f921"
             ]
            ],
            "type": "surface"
           }
          ],
          "table": [
           {
            "cells": {
             "fill": {
              "color": "#506784"
             },
             "line": {
              "color": "rgb(17,17,17)"
             }
            },
            "header": {
             "fill": {
              "color": "#2a3f5f"
             },
             "line": {
              "color": "rgb(17,17,17)"
             }
            },
            "type": "table"
           }
          ]
         },
         "layout": {
          "annotationdefaults": {
           "arrowcolor": "#f2f5fa",
           "arrowhead": 0,
           "arrowwidth": 1
          },
          "autotypenumbers": "strict",
          "coloraxis": {
           "colorbar": {
            "outlinewidth": 0,
            "ticks": ""
           }
          },
          "colorscale": {
           "diverging": [
            [
             0,
             "#8e0152"
            ],
            [
             0.1,
             "#c51b7d"
            ],
            [
             0.2,
             "#de77ae"
            ],
            [
             0.3,
             "#f1b6da"
            ],
            [
             0.4,
             "#fde0ef"
            ],
            [
             0.5,
             "#f7f7f7"
            ],
            [
             0.6,
             "#e6f5d0"
            ],
            [
             0.7,
             "#b8e186"
            ],
            [
             0.8,
             "#7fbc41"
            ],
            [
             0.9,
             "#4d9221"
            ],
            [
             1,
             "#276419"
            ]
           ],
           "sequential": [
            [
             0,
             "#0d0887"
            ],
            [
             0.1111111111111111,
             "#46039f"
            ],
            [
             0.2222222222222222,
             "#7201a8"
            ],
            [
             0.3333333333333333,
             "#9c179e"
            ],
            [
             0.4444444444444444,
             "#bd3786"
            ],
            [
             0.5555555555555556,
             "#d8576b"
            ],
            [
             0.6666666666666666,
             "#ed7953"
            ],
            [
             0.7777777777777778,
             "#fb9f3a"
            ],
            [
             0.8888888888888888,
             "#fdca26"
            ],
            [
             1,
             "#f0f921"
            ]
           ],
           "sequentialminus": [
            [
             0,
             "#0d0887"
            ],
            [
             0.1111111111111111,
             "#46039f"
            ],
            [
             0.2222222222222222,
             "#7201a8"
            ],
            [
             0.3333333333333333,
             "#9c179e"
            ],
            [
             0.4444444444444444,
             "#bd3786"
            ],
            [
             0.5555555555555556,
             "#d8576b"
            ],
            [
             0.6666666666666666,
             "#ed7953"
            ],
            [
             0.7777777777777778,
             "#fb9f3a"
            ],
            [
             0.8888888888888888,
             "#fdca26"
            ],
            [
             1,
             "#f0f921"
            ]
           ]
          },
          "colorway": [
           "#636efa",
           "#EF553B",
           "#00cc96",
           "#ab63fa",
           "#FFA15A",
           "#19d3f3",
           "#FF6692",
           "#B6E880",
           "#FF97FF",
           "#FECB52"
          ],
          "font": {
           "color": "#f2f5fa"
          },
          "geo": {
           "bgcolor": "rgb(17,17,17)",
           "lakecolor": "rgb(17,17,17)",
           "landcolor": "rgb(17,17,17)",
           "showlakes": true,
           "showland": true,
           "subunitcolor": "#506784"
          },
          "hoverlabel": {
           "align": "left"
          },
          "hovermode": "closest",
          "mapbox": {
           "style": "dark"
          },
          "paper_bgcolor": "rgb(17,17,17)",
          "plot_bgcolor": "rgb(17,17,17)",
          "polar": {
           "angularaxis": {
            "gridcolor": "#506784",
            "linecolor": "#506784",
            "ticks": ""
           },
           "bgcolor": "rgb(17,17,17)",
           "radialaxis": {
            "gridcolor": "#506784",
            "linecolor": "#506784",
            "ticks": ""
           }
          },
          "scene": {
           "xaxis": {
            "backgroundcolor": "rgb(17,17,17)",
            "gridcolor": "#506784",
            "gridwidth": 2,
            "linecolor": "#506784",
            "showbackground": true,
            "ticks": "",
            "zerolinecolor": "#C8D4E3"
           },
           "yaxis": {
            "backgroundcolor": "rgb(17,17,17)",
            "gridcolor": "#506784",
            "gridwidth": 2,
            "linecolor": "#506784",
            "showbackground": true,
            "ticks": "",
            "zerolinecolor": "#C8D4E3"
           },
           "zaxis": {
            "backgroundcolor": "rgb(17,17,17)",
            "gridcolor": "#506784",
            "gridwidth": 2,
            "linecolor": "#506784",
            "showbackground": true,
            "ticks": "",
            "zerolinecolor": "#C8D4E3"
           }
          },
          "shapedefaults": {
           "line": {
            "color": "#f2f5fa"
           }
          },
          "sliderdefaults": {
           "bgcolor": "#C8D4E3",
           "bordercolor": "rgb(17,17,17)",
           "borderwidth": 1,
           "tickwidth": 0
          },
          "ternary": {
           "aaxis": {
            "gridcolor": "#506784",
            "linecolor": "#506784",
            "ticks": ""
           },
           "baxis": {
            "gridcolor": "#506784",
            "linecolor": "#506784",
            "ticks": ""
           },
           "bgcolor": "rgb(17,17,17)",
           "caxis": {
            "gridcolor": "#506784",
            "linecolor": "#506784",
            "ticks": ""
           }
          },
          "title": {
           "x": 0.05
          },
          "updatemenudefaults": {
           "bgcolor": "#506784",
           "borderwidth": 0
          },
          "xaxis": {
           "automargin": true,
           "gridcolor": "#283442",
           "linecolor": "#506784",
           "ticks": "",
           "title": {
            "standoff": 15
           },
           "zerolinecolor": "#283442",
           "zerolinewidth": 2
          },
          "yaxis": {
           "automargin": true,
           "gridcolor": "#283442",
           "linecolor": "#506784",
           "ticks": "",
           "title": {
            "standoff": 15
           },
           "zerolinecolor": "#283442",
           "zerolinewidth": 2
          }
         }
        }
       }
      }
     },
     "metadata": {},
     "output_type": "display_data"
    }
   ],
   "source": [
    "x = [2,3,-1]\n",
    "n = MLP(3,[4, 4, 1])\n",
    "n(x)\n",
    "\n",
    "draw_graph(n(x)[0])\n",
    "\n"
   ]
  },
  {
   "cell_type": "code",
   "execution_count": 412,
   "metadata": {},
   "outputs": [
    {
     "name": "stdout",
     "output_type": "stream",
     "text": [
      "[Value(0.6414824914367352, ), Value(0.689363286475748, ), Value(0.6321325046085263, ), Value(0.6781597683350822, )]\n"
     ]
    }
   ],
   "source": [
    "#Loss Function\n",
    "\n",
    "#Say we have these inputs \n",
    "xs = [[2,3,-1],[3,-1,.5],[.5,1,1],[1,1,-1]]\n",
    "\n",
    "#And we want these outputs\n",
    "ys = [1,-1,-1,1]\n",
    "\n",
    "#Right now we have \n",
    "ypred = [n(x)[0] for x in xs]\n",
    "print(ypred)\n",
    "\n",
    "#We want to minimize the loss function "
   ]
  },
  {
   "cell_type": "code",
   "execution_count": 408,
   "metadata": {},
   "outputs": [
    {
     "data": {
      "text/plain": [
       "41"
      ]
     },
     "execution_count": 408,
     "metadata": {},
     "output_type": "execute_result"
    }
   ],
   "source": [
    "#Mean Squared Error\n",
    "def mse(y,ypred):\n",
    "    mse = []\n",
    "    for ygt, yOut in zip(y,ypred):\n",
    "        #Distance from ground truth squared = MSE \n",
    "        mse.append( (ygt - yOut)**2 )\n",
    "\n",
    "        \n",
    "\n",
    "    return sum(mse)\n",
    "\n",
    "loss = mse(ys,ypred)\n",
    "\n",
    "loss.backwards()\n",
    "\n",
    "len( n.parameters() )"
   ]
  },
  {
   "cell_type": "code",
   "execution_count": 303,
   "metadata": {},
   "outputs": [
    {
     "data": {
      "text/plain": [
       "10.467724060344194"
      ]
     },
     "execution_count": 303,
     "metadata": {},
     "output_type": "execute_result"
    }
   ],
   "source": [
    "n.layers[0].neurons[0].w[0].grad #Gradient of first weight in first neuron in first layer\n",
    "#Slightly decreasing the data would make the loss smaller (cause its calculated with respect to loss) (assuming grad is positive)"
   ]
  },
  {
   "cell_type": "code",
   "execution_count": 466,
   "metadata": {},
   "outputs": [
    {
     "name": "stdout",
     "output_type": "stream",
     "text": [
      "Loss= 0.032105448305227956\n",
      "[Value(0.9293635774756276, ), Value(-0.8610666023137563, ), Value(-0.9541401627996411, ), Value(0.9244332714913572, )]\n"
     ]
    }
   ],
   "source": [
    "yPred = [n(x)[0] for x in xs] #Forward pass\n",
    "loss = mse(ys,yPred) \n",
    "\n",
    "#Reset the gradients\n",
    "for p in n.parameters():\n",
    "    p.grad = 0 \n",
    "loss.backwards() #Backpropagate the gradients\n",
    "print(\"Loss=\",loss.data) \n",
    "print(yPred)\n",
    "for p in n.parameters():\n",
    "    p.data += .1*p.grad\n"
   ]
  },
  {
   "cell_type": "code",
   "execution_count": null,
   "metadata": {},
   "outputs": [],
   "source": []
  }
 ],
 "metadata": {
  "kernelspec": {
   "display_name": "Python 3.8.3 64-bit",
   "language": "python",
   "name": "python3"
  },
  "language_info": {
   "codemirror_mode": {
    "name": "ipython",
    "version": 3
   },
   "file_extension": ".py",
   "mimetype": "text/x-python",
   "name": "python",
   "nbconvert_exporter": "python",
   "pygments_lexer": "ipython3",
   "version": "3.8.3"
  },
  "orig_nbformat": 4,
  "vscode": {
   "interpreter": {
    "hash": "1f59d50658d4cd97c33559e64c64cdabcc2031b5c15f33137a9aa45101c8cb06"
   }
  }
 },
 "nbformat": 4,
 "nbformat_minor": 2
}
