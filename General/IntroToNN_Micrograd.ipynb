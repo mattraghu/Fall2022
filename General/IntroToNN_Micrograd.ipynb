{
 "cells": [
  {
   "cell_type": "code",
   "execution_count": 44,
   "metadata": {},
   "outputs": [],
   "source": [
    "import math \n",
    "import numpy as np \n",
    "import plotly.express as px \n",
    "import plotly.io as pio\n",
    "import plotly.graph_objects as go\n",
    "import matplotlib.pyplot as plt\n",
    "import random\n",
    "\n",
    "%matplotlib inline\n",
    "pio.templates.default = \"plotly_dark\""
   ]
  },
  {
   "cell_type": "code",
   "execution_count": 6,
   "metadata": {},
   "outputs": [
    {
     "data": {
      "application/vnd.plotly.v1+json": {
       "config": {
        "plotlyServerURL": "https://plot.ly"
       },
       "data": [
        {
         "hovertemplate": "x=%{x}<br>y=%{y}<extra></extra>",
         "legendgroup": "",
         "line": {
          "color": "#636efa",
          "dash": "solid"
         },
         "marker": {
          "symbol": "circle"
         },
         "mode": "lines",
         "name": "",
         "orientation": "v",
         "showlegend": false,
         "type": "scatter",
         "x": [
          -5,
          -4.75,
          -4.5,
          -4.25,
          -4,
          -3.75,
          -3.5,
          -3.25,
          -3,
          -2.75,
          -2.5,
          -2.25,
          -2,
          -1.75,
          -1.5,
          -1.25,
          -1,
          -0.75,
          -0.5,
          -0.25,
          0,
          0.25,
          0.5,
          0.75,
          1,
          1.25,
          1.5,
          1.75,
          2,
          2.25,
          2.5,
          2.75,
          3,
          3.25,
          3.5,
          3.75,
          4,
          4.25,
          4.5,
          4.75
         ],
         "xaxis": "x",
         "y": [
          100,
          91.6875,
          83.75,
          76.1875,
          69,
          62.1875,
          55.75,
          49.6875,
          44,
          38.6875,
          33.75,
          29.1875,
          25,
          21.1875,
          17.75,
          14.6875,
          12,
          9.6875,
          7.75,
          6.1875,
          5,
          4.1875,
          3.75,
          3.6875,
          4,
          4.6875,
          5.75,
          7.1875,
          9,
          11.1875,
          13.75,
          16.6875,
          20,
          23.6875,
          27.75,
          32.1875,
          37,
          42.1875,
          47.75,
          53.6875
         ],
         "yaxis": "y"
        }
       ],
       "layout": {
        "legend": {
         "tracegroupgap": 0
        },
        "margin": {
         "t": 60
        },
        "template": {
         "data": {
          "bar": [
           {
            "error_x": {
             "color": "#f2f5fa"
            },
            "error_y": {
             "color": "#f2f5fa"
            },
            "marker": {
             "line": {
              "color": "rgb(17,17,17)",
              "width": 0.5
             },
             "pattern": {
              "fillmode": "overlay",
              "size": 10,
              "solidity": 0.2
             }
            },
            "type": "bar"
           }
          ],
          "barpolar": [
           {
            "marker": {
             "line": {
              "color": "rgb(17,17,17)",
              "width": 0.5
             },
             "pattern": {
              "fillmode": "overlay",
              "size": 10,
              "solidity": 0.2
             }
            },
            "type": "barpolar"
           }
          ],
          "carpet": [
           {
            "aaxis": {
             "endlinecolor": "#A2B1C6",
             "gridcolor": "#506784",
             "linecolor": "#506784",
             "minorgridcolor": "#506784",
             "startlinecolor": "#A2B1C6"
            },
            "baxis": {
             "endlinecolor": "#A2B1C6",
             "gridcolor": "#506784",
             "linecolor": "#506784",
             "minorgridcolor": "#506784",
             "startlinecolor": "#A2B1C6"
            },
            "type": "carpet"
           }
          ],
          "choropleth": [
           {
            "colorbar": {
             "outlinewidth": 0,
             "ticks": ""
            },
            "type": "choropleth"
           }
          ],
          "contour": [
           {
            "colorbar": {
             "outlinewidth": 0,
             "ticks": ""
            },
            "colorscale": [
             [
              0,
              "#0d0887"
             ],
             [
              0.1111111111111111,
              "#46039f"
             ],
             [
              0.2222222222222222,
              "#7201a8"
             ],
             [
              0.3333333333333333,
              "#9c179e"
             ],
             [
              0.4444444444444444,
              "#bd3786"
             ],
             [
              0.5555555555555556,
              "#d8576b"
             ],
             [
              0.6666666666666666,
              "#ed7953"
             ],
             [
              0.7777777777777778,
              "#fb9f3a"
             ],
             [
              0.8888888888888888,
              "#fdca26"
             ],
             [
              1,
              "#f0f921"
             ]
            ],
            "type": "contour"
           }
          ],
          "contourcarpet": [
           {
            "colorbar": {
             "outlinewidth": 0,
             "ticks": ""
            },
            "type": "contourcarpet"
           }
          ],
          "heatmap": [
           {
            "colorbar": {
             "outlinewidth": 0,
             "ticks": ""
            },
            "colorscale": [
             [
              0,
              "#0d0887"
             ],
             [
              0.1111111111111111,
              "#46039f"
             ],
             [
              0.2222222222222222,
              "#7201a8"
             ],
             [
              0.3333333333333333,
              "#9c179e"
             ],
             [
              0.4444444444444444,
              "#bd3786"
             ],
             [
              0.5555555555555556,
              "#d8576b"
             ],
             [
              0.6666666666666666,
              "#ed7953"
             ],
             [
              0.7777777777777778,
              "#fb9f3a"
             ],
             [
              0.8888888888888888,
              "#fdca26"
             ],
             [
              1,
              "#f0f921"
             ]
            ],
            "type": "heatmap"
           }
          ],
          "heatmapgl": [
           {
            "colorbar": {
             "outlinewidth": 0,
             "ticks": ""
            },
            "colorscale": [
             [
              0,
              "#0d0887"
             ],
             [
              0.1111111111111111,
              "#46039f"
             ],
             [
              0.2222222222222222,
              "#7201a8"
             ],
             [
              0.3333333333333333,
              "#9c179e"
             ],
             [
              0.4444444444444444,
              "#bd3786"
             ],
             [
              0.5555555555555556,
              "#d8576b"
             ],
             [
              0.6666666666666666,
              "#ed7953"
             ],
             [
              0.7777777777777778,
              "#fb9f3a"
             ],
             [
              0.8888888888888888,
              "#fdca26"
             ],
             [
              1,
              "#f0f921"
             ]
            ],
            "type": "heatmapgl"
           }
          ],
          "histogram": [
           {
            "marker": {
             "pattern": {
              "fillmode": "overlay",
              "size": 10,
              "solidity": 0.2
             }
            },
            "type": "histogram"
           }
          ],
          "histogram2d": [
           {
            "colorbar": {
             "outlinewidth": 0,
             "ticks": ""
            },
            "colorscale": [
             [
              0,
              "#0d0887"
             ],
             [
              0.1111111111111111,
              "#46039f"
             ],
             [
              0.2222222222222222,
              "#7201a8"
             ],
             [
              0.3333333333333333,
              "#9c179e"
             ],
             [
              0.4444444444444444,
              "#bd3786"
             ],
             [
              0.5555555555555556,
              "#d8576b"
             ],
             [
              0.6666666666666666,
              "#ed7953"
             ],
             [
              0.7777777777777778,
              "#fb9f3a"
             ],
             [
              0.8888888888888888,
              "#fdca26"
             ],
             [
              1,
              "#f0f921"
             ]
            ],
            "type": "histogram2d"
           }
          ],
          "histogram2dcontour": [
           {
            "colorbar": {
             "outlinewidth": 0,
             "ticks": ""
            },
            "colorscale": [
             [
              0,
              "#0d0887"
             ],
             [
              0.1111111111111111,
              "#46039f"
             ],
             [
              0.2222222222222222,
              "#7201a8"
             ],
             [
              0.3333333333333333,
              "#9c179e"
             ],
             [
              0.4444444444444444,
              "#bd3786"
             ],
             [
              0.5555555555555556,
              "#d8576b"
             ],
             [
              0.6666666666666666,
              "#ed7953"
             ],
             [
              0.7777777777777778,
              "#fb9f3a"
             ],
             [
              0.8888888888888888,
              "#fdca26"
             ],
             [
              1,
              "#f0f921"
             ]
            ],
            "type": "histogram2dcontour"
           }
          ],
          "mesh3d": [
           {
            "colorbar": {
             "outlinewidth": 0,
             "ticks": ""
            },
            "type": "mesh3d"
           }
          ],
          "parcoords": [
           {
            "line": {
             "colorbar": {
              "outlinewidth": 0,
              "ticks": ""
             }
            },
            "type": "parcoords"
           }
          ],
          "pie": [
           {
            "automargin": true,
            "type": "pie"
           }
          ],
          "scatter": [
           {
            "marker": {
             "line": {
              "color": "#283442"
             }
            },
            "type": "scatter"
           }
          ],
          "scatter3d": [
           {
            "line": {
             "colorbar": {
              "outlinewidth": 0,
              "ticks": ""
             }
            },
            "marker": {
             "colorbar": {
              "outlinewidth": 0,
              "ticks": ""
             }
            },
            "type": "scatter3d"
           }
          ],
          "scattercarpet": [
           {
            "marker": {
             "colorbar": {
              "outlinewidth": 0,
              "ticks": ""
             }
            },
            "type": "scattercarpet"
           }
          ],
          "scattergeo": [
           {
            "marker": {
             "colorbar": {
              "outlinewidth": 0,
              "ticks": ""
             }
            },
            "type": "scattergeo"
           }
          ],
          "scattergl": [
           {
            "marker": {
             "line": {
              "color": "#283442"
             }
            },
            "type": "scattergl"
           }
          ],
          "scattermapbox": [
           {
            "marker": {
             "colorbar": {
              "outlinewidth": 0,
              "ticks": ""
             }
            },
            "type": "scattermapbox"
           }
          ],
          "scatterpolar": [
           {
            "marker": {
             "colorbar": {
              "outlinewidth": 0,
              "ticks": ""
             }
            },
            "type": "scatterpolar"
           }
          ],
          "scatterpolargl": [
           {
            "marker": {
             "colorbar": {
              "outlinewidth": 0,
              "ticks": ""
             }
            },
            "type": "scatterpolargl"
           }
          ],
          "scatterternary": [
           {
            "marker": {
             "colorbar": {
              "outlinewidth": 0,
              "ticks": ""
             }
            },
            "type": "scatterternary"
           }
          ],
          "surface": [
           {
            "colorbar": {
             "outlinewidth": 0,
             "ticks": ""
            },
            "colorscale": [
             [
              0,
              "#0d0887"
             ],
             [
              0.1111111111111111,
              "#46039f"
             ],
             [
              0.2222222222222222,
              "#7201a8"
             ],
             [
              0.3333333333333333,
              "#9c179e"
             ],
             [
              0.4444444444444444,
              "#bd3786"
             ],
             [
              0.5555555555555556,
              "#d8576b"
             ],
             [
              0.6666666666666666,
              "#ed7953"
             ],
             [
              0.7777777777777778,
              "#fb9f3a"
             ],
             [
              0.8888888888888888,
              "#fdca26"
             ],
             [
              1,
              "#f0f921"
             ]
            ],
            "type": "surface"
           }
          ],
          "table": [
           {
            "cells": {
             "fill": {
              "color": "#506784"
             },
             "line": {
              "color": "rgb(17,17,17)"
             }
            },
            "header": {
             "fill": {
              "color": "#2a3f5f"
             },
             "line": {
              "color": "rgb(17,17,17)"
             }
            },
            "type": "table"
           }
          ]
         },
         "layout": {
          "annotationdefaults": {
           "arrowcolor": "#f2f5fa",
           "arrowhead": 0,
           "arrowwidth": 1
          },
          "autotypenumbers": "strict",
          "coloraxis": {
           "colorbar": {
            "outlinewidth": 0,
            "ticks": ""
           }
          },
          "colorscale": {
           "diverging": [
            [
             0,
             "#8e0152"
            ],
            [
             0.1,
             "#c51b7d"
            ],
            [
             0.2,
             "#de77ae"
            ],
            [
             0.3,
             "#f1b6da"
            ],
            [
             0.4,
             "#fde0ef"
            ],
            [
             0.5,
             "#f7f7f7"
            ],
            [
             0.6,
             "#e6f5d0"
            ],
            [
             0.7,
             "#b8e186"
            ],
            [
             0.8,
             "#7fbc41"
            ],
            [
             0.9,
             "#4d9221"
            ],
            [
             1,
             "#276419"
            ]
           ],
           "sequential": [
            [
             0,
             "#0d0887"
            ],
            [
             0.1111111111111111,
             "#46039f"
            ],
            [
             0.2222222222222222,
             "#7201a8"
            ],
            [
             0.3333333333333333,
             "#9c179e"
            ],
            [
             0.4444444444444444,
             "#bd3786"
            ],
            [
             0.5555555555555556,
             "#d8576b"
            ],
            [
             0.6666666666666666,
             "#ed7953"
            ],
            [
             0.7777777777777778,
             "#fb9f3a"
            ],
            [
             0.8888888888888888,
             "#fdca26"
            ],
            [
             1,
             "#f0f921"
            ]
           ],
           "sequentialminus": [
            [
             0,
             "#0d0887"
            ],
            [
             0.1111111111111111,
             "#46039f"
            ],
            [
             0.2222222222222222,
             "#7201a8"
            ],
            [
             0.3333333333333333,
             "#9c179e"
            ],
            [
             0.4444444444444444,
             "#bd3786"
            ],
            [
             0.5555555555555556,
             "#d8576b"
            ],
            [
             0.6666666666666666,
             "#ed7953"
            ],
            [
             0.7777777777777778,
             "#fb9f3a"
            ],
            [
             0.8888888888888888,
             "#fdca26"
            ],
            [
             1,
             "#f0f921"
            ]
           ]
          },
          "colorway": [
           "#636efa",
           "#EF553B",
           "#00cc96",
           "#ab63fa",
           "#FFA15A",
           "#19d3f3",
           "#FF6692",
           "#B6E880",
           "#FF97FF",
           "#FECB52"
          ],
          "font": {
           "color": "#f2f5fa"
          },
          "geo": {
           "bgcolor": "rgb(17,17,17)",
           "lakecolor": "rgb(17,17,17)",
           "landcolor": "rgb(17,17,17)",
           "showlakes": true,
           "showland": true,
           "subunitcolor": "#506784"
          },
          "hoverlabel": {
           "align": "left"
          },
          "hovermode": "closest",
          "mapbox": {
           "style": "dark"
          },
          "paper_bgcolor": "rgb(17,17,17)",
          "plot_bgcolor": "rgb(17,17,17)",
          "polar": {
           "angularaxis": {
            "gridcolor": "#506784",
            "linecolor": "#506784",
            "ticks": ""
           },
           "bgcolor": "rgb(17,17,17)",
           "radialaxis": {
            "gridcolor": "#506784",
            "linecolor": "#506784",
            "ticks": ""
           }
          },
          "scene": {
           "xaxis": {
            "backgroundcolor": "rgb(17,17,17)",
            "gridcolor": "#506784",
            "gridwidth": 2,
            "linecolor": "#506784",
            "showbackground": true,
            "ticks": "",
            "zerolinecolor": "#C8D4E3"
           },
           "yaxis": {
            "backgroundcolor": "rgb(17,17,17)",
            "gridcolor": "#506784",
            "gridwidth": 2,
            "linecolor": "#506784",
            "showbackground": true,
            "ticks": "",
            "zerolinecolor": "#C8D4E3"
           },
           "zaxis": {
            "backgroundcolor": "rgb(17,17,17)",
            "gridcolor": "#506784",
            "gridwidth": 2,
            "linecolor": "#506784",
            "showbackground": true,
            "ticks": "",
            "zerolinecolor": "#C8D4E3"
           }
          },
          "shapedefaults": {
           "line": {
            "color": "#f2f5fa"
           }
          },
          "sliderdefaults": {
           "bgcolor": "#C8D4E3",
           "bordercolor": "rgb(17,17,17)",
           "borderwidth": 1,
           "tickwidth": 0
          },
          "ternary": {
           "aaxis": {
            "gridcolor": "#506784",
            "linecolor": "#506784",
            "ticks": ""
           },
           "baxis": {
            "gridcolor": "#506784",
            "linecolor": "#506784",
            "ticks": ""
           },
           "bgcolor": "rgb(17,17,17)",
           "caxis": {
            "gridcolor": "#506784",
            "linecolor": "#506784",
            "ticks": ""
           }
          },
          "title": {
           "x": 0.05
          },
          "updatemenudefaults": {
           "bgcolor": "#506784",
           "borderwidth": 0
          },
          "xaxis": {
           "automargin": true,
           "gridcolor": "#283442",
           "linecolor": "#506784",
           "ticks": "",
           "title": {
            "standoff": 15
           },
           "zerolinecolor": "#283442",
           "zerolinewidth": 2
          },
          "yaxis": {
           "automargin": true,
           "gridcolor": "#283442",
           "linecolor": "#506784",
           "ticks": "",
           "title": {
            "standoff": 15
           },
           "zerolinecolor": "#283442",
           "zerolinewidth": 2
          }
         }
        },
        "xaxis": {
         "anchor": "y",
         "domain": [
          0,
          1
         ],
         "title": {
          "text": "x"
         }
        },
        "yaxis": {
         "anchor": "x",
         "domain": [
          0,
          1
         ],
         "title": {
          "text": "y"
         }
        }
       }
      }
     },
     "metadata": {},
     "output_type": "display_data"
    }
   ],
   "source": [
    "#Part 1- Derivatives\n",
    "\n",
    "def f(x):\n",
    "    return 3*x**2 - 4*x + 5\n",
    "\n",
    "#Plot f(x) btween -5 and 5 in steps of .25 using plotly \n",
    "x = np.arange(-5,5,.25)\n",
    "y = f(x)\n",
    "fig = px.line(x=x,y=y)\n",
    "fig.show()\n"
   ]
  },
  {
   "cell_type": "code",
   "execution_count": 7,
   "metadata": {},
   "outputs": [
    {
     "name": "stdout",
     "output_type": "stream",
     "text": [
      "Derivative at x=3 is:  13.997691894473974\n"
     ]
    }
   ],
   "source": [
    "#In neural nets, we dont calculate derivatives by hand (symbollically) \n",
    "#Derivative Definition:\n",
    "#L = lim h->0 (f(x+h) - f(x))/h\n",
    "\n",
    "h = 1E-13 #Something small\n",
    "x = 3\n",
    "derivative = (f(x+h) - f(x))/h\n",
    "print(\"Derivative at x=3 is: \", derivative)"
   ]
  },
  {
   "cell_type": "code",
   "execution_count": 151,
   "metadata": {},
   "outputs": [],
   "source": [
    "#Create a class \"Value\" that stores a value\n",
    "class Value:\n",
    "    def __init__(self, data, label = '', _children=(), _op=''): #Double underscore methods are called \"magic methods\"\n",
    "        self.data = data\n",
    "        self._prev = list(_children)\n",
    "        self._op = _op\n",
    "        self.grad = 0 \n",
    "        self.label = label\n",
    "\n",
    "    def __repr__(self):\n",
    "        return f\"Value({ self.data}, {self.label})\"\n",
    "\n",
    "    def __add__(self, other): #Called when we use the \"+\" operator\n",
    "        if not isinstance(other, Value):\n",
    "            other = Value(other)\n",
    "        return Value(self.data+other.data, _children=(self,other), _op='+')\n",
    "\n",
    "    def __radd__(self, other):\n",
    "        return self + other\n",
    "\n",
    "    def __sub__(self, other):\n",
    "        if not isinstance(other, Value):\n",
    "            other = Value(other)\n",
    "        return Value(self.data-other.data, _children=(self,other), _op='-')\n",
    "\n",
    "    def __rsub__(self, other):\n",
    "        return self - other\n",
    "\n",
    "    def __mul__(self, other): #Called when we use the \"*\" operator\n",
    "        #If its a number, create a new Value object\n",
    "        if not isinstance(other, Value):\n",
    "            other = Value(other)\n",
    "\n",
    "        return Value(self.data*other.data, _children = (self, other), _op='*')\n",
    "\n",
    "    def __pow__(self,other):\n",
    "        if not isinstance(other, Value):\n",
    "            other = Value(other)\n",
    "        return Value(self.data**other.data, _children=(self,other), _op='**')\n",
    "\n",
    "    def __truediv__(self, other):\n",
    "        if not isinstance(other, Value):\n",
    "            other = Value(other)\n",
    "\n",
    "        return Value(self.data/other.data, _children=(self,other), _op='/')\n",
    "\n",
    "    def __rmul__(self, other): #other * self\n",
    "        return self*other\n",
    "\n",
    "    def tanh(self):\n",
    "        return Value(math.tanh(self.data), _children=(self,), _op='tanh')\n",
    "\n",
    "    def exp(self):\n",
    "        return Value(math.exp(self.data), _children=(self,), _op='exp')\n",
    "\n",
    "\n",
    "    #Backward pass\n",
    "    def backwards(self, prevGrad = 1, prevOp = '', prevOther = 1):\n",
    "        \n",
    "        if prevOp == '*':\n",
    "            self.grad += prevGrad*prevOther\n",
    "        elif prevOp == \"+\":\n",
    "            self.grad += prevGrad\n",
    "        elif prevOp == \"-\":\n",
    "            self.grad -= prevGrad\n",
    "        elif prevOp == 'tanh':\n",
    "            self.grad += (1 - prevOther**2)*prevGrad\n",
    "        elif prevOp == 'exp':\n",
    "            self.grad += math.exp(self.data)*prevGrad\n",
    "        elif prevOp == '**':\n",
    "            self.grad += prevOther*self.data**(prevOther-1)*prevGrad\n",
    "        elif prevOp == '/':\n",
    "            self.grad += prevGrad/prevOther\n",
    "\n",
    "        else:\n",
    "            self.grad += 1\n",
    "\n",
    "        if not self._prev:\n",
    "            return \n",
    "\n",
    "        prev2 = self._prev[1] if len(self._prev) > 1 else self \n",
    "\n",
    "        self._prev[0].backwards(self.grad,self._op,prev2.data) \n",
    "        if prev2 != self:\n",
    "            self._prev[1].backwards(self.grad,self._op,self._prev[0].data) \n"
   ]
  },
  {
   "cell_type": "markdown",
   "metadata": {},
   "source": [
    "Chain Rule\n",
    "----------\n",
    "The chain rule is a fundamental rule in calculus that allows us to compute the derivative of a function that is composed of other functions. For example, if we have a function f(x) = g(h(x)), then the derivative of f with respect to x is given by:\n",
    "\n",
    "$$\\frac{dz}{dx} = \\frac{dz}{dy} \\frac{dy}{dx}$$\n"
   ]
  },
  {
   "cell_type": "code",
   "execution_count": 9,
   "metadata": {},
   "outputs": [],
   "source": [
    "from graphviz import Digraph\n",
    "\n",
    "def trace(root):\n",
    "  # builds a set of all nodes and edges in a graph\n",
    "  nodes, edges = set(), set()\n",
    "  def build(v):\n",
    "    if v not in nodes:\n",
    "      nodes.add(v)\n",
    "      for child in v._prev:\n",
    "        edges.add((child, v))\n",
    "        build(child)\n",
    "  build(root)\n",
    "  return nodes, edges\n",
    "\n",
    "def draw_dot(root):\n",
    "  dot = Digraph(format='svg', graph_attr={'rankdir': 'LR'}) # LR = left to right\n",
    "  \n",
    "  nodes, edges = trace(root)\n",
    "  for n in nodes:\n",
    "    uid = str(id(n))\n",
    "    # for any value in the graph, create a rectangular ('record') node for it\n",
    "    dot.node(name = uid, label = \"{ %s | data %.4f | grad %.4f }\" % ('', n.data, n.grad), shape='record')\n",
    "    if n._op:\n",
    "      # if this value is a result of some operation, create an op node for it\n",
    "      dot.node(name = uid + n._op, label = n._op)\n",
    "      # and connect this node to it\n",
    "      dot.edge(uid + n._op, uid)\n",
    "\n",
    "  for n1, n2 in edges:\n",
    "    # connect n1 to the op node of n2\n",
    "    dot.edge(str(id(n1)), str(id(n2)) + n2._op)\n",
    "\n",
    "  return dot\n"
   ]
  },
  {
   "cell_type": "code",
   "execution_count": 10,
   "metadata": {},
   "outputs": [
    {
     "name": "stdout",
     "output_type": "stream",
     "text": [
      "True\n"
     ]
    }
   ],
   "source": [
    "a = Value(1,'a')\n",
    "b = Value(7,'b') \n",
    "c = a + b \n",
    "c.label = 'c'\n",
    "d = Value(3,'d')\n",
    "e = c * d ; e.label = 'e'\n",
    "\n",
    "e.backwards()"
   ]
  },
  {
   "cell_type": "code",
   "execution_count": 113,
   "metadata": {},
   "outputs": [],
   "source": [
    "#Given a first node, generate a graph of the entire computation graph using plotly\n",
    "import networkx as nx\n",
    "\n",
    "def draw_graph(root):\n",
    "    nodes, edges = trace(root)\n",
    "    \n",
    "\n",
    "    G = nx.DiGraph()\n",
    "    G.add_nodes_from(nodes)\n",
    "    G.add_edges_from(edges)\n",
    "\n",
    "    pos = nx.spring_layout(G)\n",
    "    \n",
    "    node_x = []\n",
    "    node_y = []\n",
    "\n",
    "    node_label = []\n",
    "    node_value = []\n",
    "\n",
    "    for node in G.nodes():\n",
    "        x, y = pos[node]\n",
    "        node_x.append(x)\n",
    "        node_y.append(y)\n",
    "        node_label.append(node.label)\n",
    "        node_value.append(node.data)\n",
    "\n",
    "    node_trace = go.Scatter(\n",
    "        x=node_x, y=node_y,\n",
    "        mode='markers+text',\n",
    "        hoverinfo='text',\n",
    "        text=node_label,\n",
    "\n",
    "        marker=dict(\n",
    "            size = 20,\n",
    "            color = \"darkblue\",\n",
    "            \n",
    "\n",
    "        )\n",
    "    )\n",
    "    \n",
    "    \n",
    "    #Set text to , v = node_value, grad = node.grad (round to 2 decimal places)\n",
    "    # node_trace.text = [f\"{node.label} = {round(node.data,3)}, grad = {round(node.grad,3)}\" for node in G.nodes()]\n",
    "    node_trace.text = [f\"{node.label}\" for node in G.nodes()]\n",
    "\n",
    "\n",
    "\n",
    "    #Make edges\n",
    "    edge_x = []\n",
    "    edge_y = []\n",
    "\n",
    "    ops_x = []\n",
    "    ops_y = []\n",
    "\n",
    "    ops = []\n",
    "\n",
    "    for edge in G.edges():\n",
    "        x0, y0 = pos[edge[0]]\n",
    "        x1, y1 = pos[edge[1]]\n",
    "        edge_x.append(x0)\n",
    "        edge_x.append(x1)\n",
    "        edge_x.append(None)\n",
    "        edge_y.append(y0)\n",
    "        edge_y.append(y1)\n",
    "        edge_y.append(None)\n",
    "\n",
    "        ops.append(edge[1]._op)\n",
    "\n",
    "        #Create an operations node in the middle of the edge\n",
    "        ops_x.append((x0+x1)/2)\n",
    "        ops_y.append((y0+y1)/2)\n",
    "\n",
    "\n",
    "    edge_trace = go.Scatter(\n",
    "        x=edge_x, y=edge_y,\n",
    "        line=dict(width=3, color='#888'),\n",
    "        hoverinfo='text',\n",
    "        mode='lines',\n",
    "    )\n",
    "    edge_trace.text = ops\n",
    "\n",
    "    ops_trace = go.Scatter(\n",
    "        x=ops_x, y=ops_y,\n",
    "        mode='markers+text',\n",
    "        hoverinfo='text',\n",
    "        text=ops,\n",
    "        marker = dict(\n",
    "            size = 10,\n",
    "            color = 'darkred'\n",
    "        ),\n",
    "        textposition = 'middle center'\n",
    "    )\n",
    "\n",
    "\n",
    "    #Show \n",
    "    fig = go.Figure(data=[edge_trace, ops_trace, node_trace])\n",
    "    fig.show()\n"
   ]
  },
  {
   "cell_type": "code",
   "execution_count": 43,
   "metadata": {},
   "outputs": [
    {
     "name": "stdout",
     "output_type": "stream",
     "text": [
      "0.8813700000000004\n"
     ]
    },
    {
     "data": {
      "application/vnd.plotly.v1+json": {
       "config": {
        "plotlyServerURL": "https://plot.ly"
       },
       "data": [
        {
         "hoverinfo": "text",
         "line": {
          "color": "#888",
          "width": 3
         },
         "mode": "lines",
         "text": [
          "*",
          "+",
          "+",
          "tanh",
          "*",
          "*",
          "*",
          "+",
          "+"
         ],
         "type": "scatter",
         "x": [
          -0.06572268929141999,
          0.01870166586001405,
          null,
          0.01870166586001405,
          -0.1479580876065655,
          null,
          0.18340110325888936,
          -0.1479580876065655,
          null,
          -0.27042415151356664,
          -0.4586294462860806,
          null,
          0.5786659381293866,
          0.18340110325888936,
          null,
          0.4561811323468345,
          0.18340110325888936,
          null,
          0.28128308796431306,
          0.01870166586001405,
          null,
          -0.5754985528618051,
          -0.27042415151356664,
          null,
          -0.1479580876065655,
          -0.27042415151356664,
          null
         ],
         "y": [
          -0.7100964008354185,
          -0.32762784354915575,
          null,
          -0.32762784354915575,
          0.07136089584259205,
          null,
          -0.11969967282730146,
          0.07136089584259205,
          null,
          0.48341076236876745,
          1,
          null,
          -0.2055006598305206,
          -0.11969967282730146,
          null,
          0.12145802173860565,
          -0.11969967282730146,
          null,
          -0.6626645327473913,
          -0.32762784354915575,
          null,
          0.34935942983982177,
          0.48341076236876745,
          null,
          0.07136089584259205,
          0.48341076236876745,
          null
         ]
        },
        {
         "hoverinfo": "text",
         "marker": {
          "color": "darkred",
          "size": 20
         },
         "mode": "markers+text",
         "text": [
          "*",
          "+",
          "+",
          "tanh",
          "*",
          "*",
          "*",
          "+",
          "+"
         ],
         "textposition": "middle center",
         "type": "scatter",
         "x": [
          -0.023510511715702967,
          -0.06462821087327573,
          0.017721507826161928,
          -0.36452679889982365,
          0.381033520694138,
          0.31979111780286196,
          0.14999237691216355,
          -0.4229613521876858,
          -0.20919111956006609
         ],
         "y": [
          -0.5188621221922871,
          -0.12813347385328186,
          -0.024169388492354706,
          0.7417053811843837,
          -0.16260016632891103,
          0.0008791744556520958,
          -0.49514618814827355,
          0.41638509610429464,
          0.27738582910567977
         ]
        },
        {
         "hoverinfo": "text",
         "marker": {
          "color": "darkblue",
          "size": 50
         },
         "mode": "markers+text",
         "text": [
          "w2 = 1, grad = 0.0",
          " = 0, grad = 0.5",
          " = -6, grad = 0.5",
          "f = 0.707, grad = 1",
          "y = 0.881, grad = 0.5",
          "w1 = -3, grad = 1.0",
          "x1 = 2, grad = -1.5",
          "x2 = 0, grad = 0.5",
          "b = 6.881, grad = 0.5",
          " = -6, grad = 0.5"
         ],
         "type": "scatter",
         "x": [
          -0.06572268929141999,
          0.01870166586001405,
          0.18340110325888936,
          -0.4586294462860806,
          -0.27042415151356664,
          0.5786659381293866,
          0.4561811323468345,
          0.28128308796431306,
          -0.5754985528618051,
          -0.1479580876065655
         ],
         "y": [
          -0.7100964008354185,
          -0.32762784354915575,
          -0.11969967282730146,
          1,
          0.48341076236876745,
          -0.2055006598305206,
          0.12145802173860565,
          -0.6626645327473913,
          0.34935942983982177,
          0.07136089584259205
         ]
        }
       ],
       "layout": {
        "template": {
         "data": {
          "bar": [
           {
            "error_x": {
             "color": "#f2f5fa"
            },
            "error_y": {
             "color": "#f2f5fa"
            },
            "marker": {
             "line": {
              "color": "rgb(17,17,17)",
              "width": 0.5
             },
             "pattern": {
              "fillmode": "overlay",
              "size": 10,
              "solidity": 0.2
             }
            },
            "type": "bar"
           }
          ],
          "barpolar": [
           {
            "marker": {
             "line": {
              "color": "rgb(17,17,17)",
              "width": 0.5
             },
             "pattern": {
              "fillmode": "overlay",
              "size": 10,
              "solidity": 0.2
             }
            },
            "type": "barpolar"
           }
          ],
          "carpet": [
           {
            "aaxis": {
             "endlinecolor": "#A2B1C6",
             "gridcolor": "#506784",
             "linecolor": "#506784",
             "minorgridcolor": "#506784",
             "startlinecolor": "#A2B1C6"
            },
            "baxis": {
             "endlinecolor": "#A2B1C6",
             "gridcolor": "#506784",
             "linecolor": "#506784",
             "minorgridcolor": "#506784",
             "startlinecolor": "#A2B1C6"
            },
            "type": "carpet"
           }
          ],
          "choropleth": [
           {
            "colorbar": {
             "outlinewidth": 0,
             "ticks": ""
            },
            "type": "choropleth"
           }
          ],
          "contour": [
           {
            "colorbar": {
             "outlinewidth": 0,
             "ticks": ""
            },
            "colorscale": [
             [
              0,
              "#0d0887"
             ],
             [
              0.1111111111111111,
              "#46039f"
             ],
             [
              0.2222222222222222,
              "#7201a8"
             ],
             [
              0.3333333333333333,
              "#9c179e"
             ],
             [
              0.4444444444444444,
              "#bd3786"
             ],
             [
              0.5555555555555556,
              "#d8576b"
             ],
             [
              0.6666666666666666,
              "#ed7953"
             ],
             [
              0.7777777777777778,
              "#fb9f3a"
             ],
             [
              0.8888888888888888,
              "#fdca26"
             ],
             [
              1,
              "#f0f921"
             ]
            ],
            "type": "contour"
           }
          ],
          "contourcarpet": [
           {
            "colorbar": {
             "outlinewidth": 0,
             "ticks": ""
            },
            "type": "contourcarpet"
           }
          ],
          "heatmap": [
           {
            "colorbar": {
             "outlinewidth": 0,
             "ticks": ""
            },
            "colorscale": [
             [
              0,
              "#0d0887"
             ],
             [
              0.1111111111111111,
              "#46039f"
             ],
             [
              0.2222222222222222,
              "#7201a8"
             ],
             [
              0.3333333333333333,
              "#9c179e"
             ],
             [
              0.4444444444444444,
              "#bd3786"
             ],
             [
              0.5555555555555556,
              "#d8576b"
             ],
             [
              0.6666666666666666,
              "#ed7953"
             ],
             [
              0.7777777777777778,
              "#fb9f3a"
             ],
             [
              0.8888888888888888,
              "#fdca26"
             ],
             [
              1,
              "#f0f921"
             ]
            ],
            "type": "heatmap"
           }
          ],
          "heatmapgl": [
           {
            "colorbar": {
             "outlinewidth": 0,
             "ticks": ""
            },
            "colorscale": [
             [
              0,
              "#0d0887"
             ],
             [
              0.1111111111111111,
              "#46039f"
             ],
             [
              0.2222222222222222,
              "#7201a8"
             ],
             [
              0.3333333333333333,
              "#9c179e"
             ],
             [
              0.4444444444444444,
              "#bd3786"
             ],
             [
              0.5555555555555556,
              "#d8576b"
             ],
             [
              0.6666666666666666,
              "#ed7953"
             ],
             [
              0.7777777777777778,
              "#fb9f3a"
             ],
             [
              0.8888888888888888,
              "#fdca26"
             ],
             [
              1,
              "#f0f921"
             ]
            ],
            "type": "heatmapgl"
           }
          ],
          "histogram": [
           {
            "marker": {
             "pattern": {
              "fillmode": "overlay",
              "size": 10,
              "solidity": 0.2
             }
            },
            "type": "histogram"
           }
          ],
          "histogram2d": [
           {
            "colorbar": {
             "outlinewidth": 0,
             "ticks": ""
            },
            "colorscale": [
             [
              0,
              "#0d0887"
             ],
             [
              0.1111111111111111,
              "#46039f"
             ],
             [
              0.2222222222222222,
              "#7201a8"
             ],
             [
              0.3333333333333333,
              "#9c179e"
             ],
             [
              0.4444444444444444,
              "#bd3786"
             ],
             [
              0.5555555555555556,
              "#d8576b"
             ],
             [
              0.6666666666666666,
              "#ed7953"
             ],
             [
              0.7777777777777778,
              "#fb9f3a"
             ],
             [
              0.8888888888888888,
              "#fdca26"
             ],
             [
              1,
              "#f0f921"
             ]
            ],
            "type": "histogram2d"
           }
          ],
          "histogram2dcontour": [
           {
            "colorbar": {
             "outlinewidth": 0,
             "ticks": ""
            },
            "colorscale": [
             [
              0,
              "#0d0887"
             ],
             [
              0.1111111111111111,
              "#46039f"
             ],
             [
              0.2222222222222222,
              "#7201a8"
             ],
             [
              0.3333333333333333,
              "#9c179e"
             ],
             [
              0.4444444444444444,
              "#bd3786"
             ],
             [
              0.5555555555555556,
              "#d8576b"
             ],
             [
              0.6666666666666666,
              "#ed7953"
             ],
             [
              0.7777777777777778,
              "#fb9f3a"
             ],
             [
              0.8888888888888888,
              "#fdca26"
             ],
             [
              1,
              "#f0f921"
             ]
            ],
            "type": "histogram2dcontour"
           }
          ],
          "mesh3d": [
           {
            "colorbar": {
             "outlinewidth": 0,
             "ticks": ""
            },
            "type": "mesh3d"
           }
          ],
          "parcoords": [
           {
            "line": {
             "colorbar": {
              "outlinewidth": 0,
              "ticks": ""
             }
            },
            "type": "parcoords"
           }
          ],
          "pie": [
           {
            "automargin": true,
            "type": "pie"
           }
          ],
          "scatter": [
           {
            "marker": {
             "line": {
              "color": "#283442"
             }
            },
            "type": "scatter"
           }
          ],
          "scatter3d": [
           {
            "line": {
             "colorbar": {
              "outlinewidth": 0,
              "ticks": ""
             }
            },
            "marker": {
             "colorbar": {
              "outlinewidth": 0,
              "ticks": ""
             }
            },
            "type": "scatter3d"
           }
          ],
          "scattercarpet": [
           {
            "marker": {
             "colorbar": {
              "outlinewidth": 0,
              "ticks": ""
             }
            },
            "type": "scattercarpet"
           }
          ],
          "scattergeo": [
           {
            "marker": {
             "colorbar": {
              "outlinewidth": 0,
              "ticks": ""
             }
            },
            "type": "scattergeo"
           }
          ],
          "scattergl": [
           {
            "marker": {
             "line": {
              "color": "#283442"
             }
            },
            "type": "scattergl"
           }
          ],
          "scattermapbox": [
           {
            "marker": {
             "colorbar": {
              "outlinewidth": 0,
              "ticks": ""
             }
            },
            "type": "scattermapbox"
           }
          ],
          "scatterpolar": [
           {
            "marker": {
             "colorbar": {
              "outlinewidth": 0,
              "ticks": ""
             }
            },
            "type": "scatterpolar"
           }
          ],
          "scatterpolargl": [
           {
            "marker": {
             "colorbar": {
              "outlinewidth": 0,
              "ticks": ""
             }
            },
            "type": "scatterpolargl"
           }
          ],
          "scatterternary": [
           {
            "marker": {
             "colorbar": {
              "outlinewidth": 0,
              "ticks": ""
             }
            },
            "type": "scatterternary"
           }
          ],
          "surface": [
           {
            "colorbar": {
             "outlinewidth": 0,
             "ticks": ""
            },
            "colorscale": [
             [
              0,
              "#0d0887"
             ],
             [
              0.1111111111111111,
              "#46039f"
             ],
             [
              0.2222222222222222,
              "#7201a8"
             ],
             [
              0.3333333333333333,
              "#9c179e"
             ],
             [
              0.4444444444444444,
              "#bd3786"
             ],
             [
              0.5555555555555556,
              "#d8576b"
             ],
             [
              0.6666666666666666,
              "#ed7953"
             ],
             [
              0.7777777777777778,
              "#fb9f3a"
             ],
             [
              0.8888888888888888,
              "#fdca26"
             ],
             [
              1,
              "#f0f921"
             ]
            ],
            "type": "surface"
           }
          ],
          "table": [
           {
            "cells": {
             "fill": {
              "color": "#506784"
             },
             "line": {
              "color": "rgb(17,17,17)"
             }
            },
            "header": {
             "fill": {
              "color": "#2a3f5f"
             },
             "line": {
              "color": "rgb(17,17,17)"
             }
            },
            "type": "table"
           }
          ]
         },
         "layout": {
          "annotationdefaults": {
           "arrowcolor": "#f2f5fa",
           "arrowhead": 0,
           "arrowwidth": 1
          },
          "autotypenumbers": "strict",
          "coloraxis": {
           "colorbar": {
            "outlinewidth": 0,
            "ticks": ""
           }
          },
          "colorscale": {
           "diverging": [
            [
             0,
             "#8e0152"
            ],
            [
             0.1,
             "#c51b7d"
            ],
            [
             0.2,
             "#de77ae"
            ],
            [
             0.3,
             "#f1b6da"
            ],
            [
             0.4,
             "#fde0ef"
            ],
            [
             0.5,
             "#f7f7f7"
            ],
            [
             0.6,
             "#e6f5d0"
            ],
            [
             0.7,
             "#b8e186"
            ],
            [
             0.8,
             "#7fbc41"
            ],
            [
             0.9,
             "#4d9221"
            ],
            [
             1,
             "#276419"
            ]
           ],
           "sequential": [
            [
             0,
             "#0d0887"
            ],
            [
             0.1111111111111111,
             "#46039f"
            ],
            [
             0.2222222222222222,
             "#7201a8"
            ],
            [
             0.3333333333333333,
             "#9c179e"
            ],
            [
             0.4444444444444444,
             "#bd3786"
            ],
            [
             0.5555555555555556,
             "#d8576b"
            ],
            [
             0.6666666666666666,
             "#ed7953"
            ],
            [
             0.7777777777777778,
             "#fb9f3a"
            ],
            [
             0.8888888888888888,
             "#fdca26"
            ],
            [
             1,
             "#f0f921"
            ]
           ],
           "sequentialminus": [
            [
             0,
             "#0d0887"
            ],
            [
             0.1111111111111111,
             "#46039f"
            ],
            [
             0.2222222222222222,
             "#7201a8"
            ],
            [
             0.3333333333333333,
             "#9c179e"
            ],
            [
             0.4444444444444444,
             "#bd3786"
            ],
            [
             0.5555555555555556,
             "#d8576b"
            ],
            [
             0.6666666666666666,
             "#ed7953"
            ],
            [
             0.7777777777777778,
             "#fb9f3a"
            ],
            [
             0.8888888888888888,
             "#fdca26"
            ],
            [
             1,
             "#f0f921"
            ]
           ]
          },
          "colorway": [
           "#636efa",
           "#EF553B",
           "#00cc96",
           "#ab63fa",
           "#FFA15A",
           "#19d3f3",
           "#FF6692",
           "#B6E880",
           "#FF97FF",
           "#FECB52"
          ],
          "font": {
           "color": "#f2f5fa"
          },
          "geo": {
           "bgcolor": "rgb(17,17,17)",
           "lakecolor": "rgb(17,17,17)",
           "landcolor": "rgb(17,17,17)",
           "showlakes": true,
           "showland": true,
           "subunitcolor": "#506784"
          },
          "hoverlabel": {
           "align": "left"
          },
          "hovermode": "closest",
          "mapbox": {
           "style": "dark"
          },
          "paper_bgcolor": "rgb(17,17,17)",
          "plot_bgcolor": "rgb(17,17,17)",
          "polar": {
           "angularaxis": {
            "gridcolor": "#506784",
            "linecolor": "#506784",
            "ticks": ""
           },
           "bgcolor": "rgb(17,17,17)",
           "radialaxis": {
            "gridcolor": "#506784",
            "linecolor": "#506784",
            "ticks": ""
           }
          },
          "scene": {
           "xaxis": {
            "backgroundcolor": "rgb(17,17,17)",
            "gridcolor": "#506784",
            "gridwidth": 2,
            "linecolor": "#506784",
            "showbackground": true,
            "ticks": "",
            "zerolinecolor": "#C8D4E3"
           },
           "yaxis": {
            "backgroundcolor": "rgb(17,17,17)",
            "gridcolor": "#506784",
            "gridwidth": 2,
            "linecolor": "#506784",
            "showbackground": true,
            "ticks": "",
            "zerolinecolor": "#C8D4E3"
           },
           "zaxis": {
            "backgroundcolor": "rgb(17,17,17)",
            "gridcolor": "#506784",
            "gridwidth": 2,
            "linecolor": "#506784",
            "showbackground": true,
            "ticks": "",
            "zerolinecolor": "#C8D4E3"
           }
          },
          "shapedefaults": {
           "line": {
            "color": "#f2f5fa"
           }
          },
          "sliderdefaults": {
           "bgcolor": "#C8D4E3",
           "bordercolor": "rgb(17,17,17)",
           "borderwidth": 1,
           "tickwidth": 0
          },
          "ternary": {
           "aaxis": {
            "gridcolor": "#506784",
            "linecolor": "#506784",
            "ticks": ""
           },
           "baxis": {
            "gridcolor": "#506784",
            "linecolor": "#506784",
            "ticks": ""
           },
           "bgcolor": "rgb(17,17,17)",
           "caxis": {
            "gridcolor": "#506784",
            "linecolor": "#506784",
            "ticks": ""
           }
          },
          "title": {
           "x": 0.05
          },
          "updatemenudefaults": {
           "bgcolor": "#506784",
           "borderwidth": 0
          },
          "xaxis": {
           "automargin": true,
           "gridcolor": "#283442",
           "linecolor": "#506784",
           "ticks": "",
           "title": {
            "standoff": 15
           },
           "zerolinecolor": "#283442",
           "zerolinewidth": 2
          },
          "yaxis": {
           "automargin": true,
           "gridcolor": "#283442",
           "linecolor": "#506784",
           "ticks": "",
           "title": {
            "standoff": 15
           },
           "zerolinecolor": "#283442",
           "zerolinewidth": 2
          }
         }
        }
       }
      }
     },
     "metadata": {},
     "output_type": "display_data"
    },
    {
     "name": "stdout",
     "output_type": "stream",
     "text": [
      "Gradient of w1: 1.000005072818119\n",
      "Gradient of w2: 0.0\n",
      "Gradient of x1: -1.5000076092271784\n",
      "Gradient of x2: 0.5000025364090595\n",
      "Gradient of y: 0.5000025364090595\n"
     ]
    }
   ],
   "source": [
    "#Basic Nueron\n",
    "x1 = Value(2,'x1')\n",
    "x2 = Value(0,'x2')\n",
    "\n",
    "w1 = Value(-3,'w1')\n",
    "w2 = Value(1,'w2')\n",
    "\n",
    "b = Value(6.88137,'b')\n",
    "\n",
    "y = w1*x1 + w2*x2 + b ; y.label = 'y'\n",
    "f = y.tanh() ; f.label = 'f'\n",
    "\n",
    "f.backwards()\n",
    "\n",
    "draw_graph(f)\n",
    "\n",
    "#Print Gradients\n",
    "print(f\"Gradient of w1: {w1.grad}\")\n",
    "print(f\"Gradient of w2: {w2.grad}\")\n",
    "print(f\"Gradient of x1: {x1.grad}\")\n",
    "print(f\"Gradient of x2: {x2.grad}\")\n",
    "print(f\"Gradient of y: {y.grad}\")"
   ]
  },
  {
   "cell_type": "code",
   "execution_count": 42,
   "metadata": {},
   "outputs": [
    {
     "data": {
      "application/vnd.plotly.v1+json": {
       "config": {
        "plotlyServerURL": "https://plot.ly"
       },
       "data": [
        {
         "hoverinfo": "text",
         "line": {
          "color": "#888",
          "width": 3
         },
         "mode": "lines",
         "text": [
          "+"
         ],
         "type": "scatter",
         "x": [
          -0.2088689086783719,
          0.2088689086783719,
          null
         ],
         "y": [
          -0.9999999999999989,
          1,
          null
         ]
        },
        {
         "hoverinfo": "text",
         "marker": {
          "color": "darkred",
          "size": 20
         },
         "mode": "markers+text",
         "text": [
          "+"
         ],
         "textposition": "middle center",
         "type": "scatter",
         "x": [
          0
         ],
         "y": [
          5.551115123125783e-16
         ]
        },
        {
         "hoverinfo": "text",
         "marker": {
          "color": "darkblue",
          "size": 50
         },
         "mode": "markers+text",
         "text": [
          "a = 1, grad = 2",
          " = 2, grad = 1"
         ],
         "type": "scatter",
         "x": [
          -0.2088689086783719,
          0.2088689086783719
         ],
         "y": [
          -0.9999999999999989,
          1
         ]
        }
       ],
       "layout": {
        "template": {
         "data": {
          "bar": [
           {
            "error_x": {
             "color": "#f2f5fa"
            },
            "error_y": {
             "color": "#f2f5fa"
            },
            "marker": {
             "line": {
              "color": "rgb(17,17,17)",
              "width": 0.5
             },
             "pattern": {
              "fillmode": "overlay",
              "size": 10,
              "solidity": 0.2
             }
            },
            "type": "bar"
           }
          ],
          "barpolar": [
           {
            "marker": {
             "line": {
              "color": "rgb(17,17,17)",
              "width": 0.5
             },
             "pattern": {
              "fillmode": "overlay",
              "size": 10,
              "solidity": 0.2
             }
            },
            "type": "barpolar"
           }
          ],
          "carpet": [
           {
            "aaxis": {
             "endlinecolor": "#A2B1C6",
             "gridcolor": "#506784",
             "linecolor": "#506784",
             "minorgridcolor": "#506784",
             "startlinecolor": "#A2B1C6"
            },
            "baxis": {
             "endlinecolor": "#A2B1C6",
             "gridcolor": "#506784",
             "linecolor": "#506784",
             "minorgridcolor": "#506784",
             "startlinecolor": "#A2B1C6"
            },
            "type": "carpet"
           }
          ],
          "choropleth": [
           {
            "colorbar": {
             "outlinewidth": 0,
             "ticks": ""
            },
            "type": "choropleth"
           }
          ],
          "contour": [
           {
            "colorbar": {
             "outlinewidth": 0,
             "ticks": ""
            },
            "colorscale": [
             [
              0,
              "#0d0887"
             ],
             [
              0.1111111111111111,
              "#46039f"
             ],
             [
              0.2222222222222222,
              "#7201a8"
             ],
             [
              0.3333333333333333,
              "#9c179e"
             ],
             [
              0.4444444444444444,
              "#bd3786"
             ],
             [
              0.5555555555555556,
              "#d8576b"
             ],
             [
              0.6666666666666666,
              "#ed7953"
             ],
             [
              0.7777777777777778,
              "#fb9f3a"
             ],
             [
              0.8888888888888888,
              "#fdca26"
             ],
             [
              1,
              "#f0f921"
             ]
            ],
            "type": "contour"
           }
          ],
          "contourcarpet": [
           {
            "colorbar": {
             "outlinewidth": 0,
             "ticks": ""
            },
            "type": "contourcarpet"
           }
          ],
          "heatmap": [
           {
            "colorbar": {
             "outlinewidth": 0,
             "ticks": ""
            },
            "colorscale": [
             [
              0,
              "#0d0887"
             ],
             [
              0.1111111111111111,
              "#46039f"
             ],
             [
              0.2222222222222222,
              "#7201a8"
             ],
             [
              0.3333333333333333,
              "#9c179e"
             ],
             [
              0.4444444444444444,
              "#bd3786"
             ],
             [
              0.5555555555555556,
              "#d8576b"
             ],
             [
              0.6666666666666666,
              "#ed7953"
             ],
             [
              0.7777777777777778,
              "#fb9f3a"
             ],
             [
              0.8888888888888888,
              "#fdca26"
             ],
             [
              1,
              "#f0f921"
             ]
            ],
            "type": "heatmap"
           }
          ],
          "heatmapgl": [
           {
            "colorbar": {
             "outlinewidth": 0,
             "ticks": ""
            },
            "colorscale": [
             [
              0,
              "#0d0887"
             ],
             [
              0.1111111111111111,
              "#46039f"
             ],
             [
              0.2222222222222222,
              "#7201a8"
             ],
             [
              0.3333333333333333,
              "#9c179e"
             ],
             [
              0.4444444444444444,
              "#bd3786"
             ],
             [
              0.5555555555555556,
              "#d8576b"
             ],
             [
              0.6666666666666666,
              "#ed7953"
             ],
             [
              0.7777777777777778,
              "#fb9f3a"
             ],
             [
              0.8888888888888888,
              "#fdca26"
             ],
             [
              1,
              "#f0f921"
             ]
            ],
            "type": "heatmapgl"
           }
          ],
          "histogram": [
           {
            "marker": {
             "pattern": {
              "fillmode": "overlay",
              "size": 10,
              "solidity": 0.2
             }
            },
            "type": "histogram"
           }
          ],
          "histogram2d": [
           {
            "colorbar": {
             "outlinewidth": 0,
             "ticks": ""
            },
            "colorscale": [
             [
              0,
              "#0d0887"
             ],
             [
              0.1111111111111111,
              "#46039f"
             ],
             [
              0.2222222222222222,
              "#7201a8"
             ],
             [
              0.3333333333333333,
              "#9c179e"
             ],
             [
              0.4444444444444444,
              "#bd3786"
             ],
             [
              0.5555555555555556,
              "#d8576b"
             ],
             [
              0.6666666666666666,
              "#ed7953"
             ],
             [
              0.7777777777777778,
              "#fb9f3a"
             ],
             [
              0.8888888888888888,
              "#fdca26"
             ],
             [
              1,
              "#f0f921"
             ]
            ],
            "type": "histogram2d"
           }
          ],
          "histogram2dcontour": [
           {
            "colorbar": {
             "outlinewidth": 0,
             "ticks": ""
            },
            "colorscale": [
             [
              0,
              "#0d0887"
             ],
             [
              0.1111111111111111,
              "#46039f"
             ],
             [
              0.2222222222222222,
              "#7201a8"
             ],
             [
              0.3333333333333333,
              "#9c179e"
             ],
             [
              0.4444444444444444,
              "#bd3786"
             ],
             [
              0.5555555555555556,
              "#d8576b"
             ],
             [
              0.6666666666666666,
              "#ed7953"
             ],
             [
              0.7777777777777778,
              "#fb9f3a"
             ],
             [
              0.8888888888888888,
              "#fdca26"
             ],
             [
              1,
              "#f0f921"
             ]
            ],
            "type": "histogram2dcontour"
           }
          ],
          "mesh3d": [
           {
            "colorbar": {
             "outlinewidth": 0,
             "ticks": ""
            },
            "type": "mesh3d"
           }
          ],
          "parcoords": [
           {
            "line": {
             "colorbar": {
              "outlinewidth": 0,
              "ticks": ""
             }
            },
            "type": "parcoords"
           }
          ],
          "pie": [
           {
            "automargin": true,
            "type": "pie"
           }
          ],
          "scatter": [
           {
            "marker": {
             "line": {
              "color": "#283442"
             }
            },
            "type": "scatter"
           }
          ],
          "scatter3d": [
           {
            "line": {
             "colorbar": {
              "outlinewidth": 0,
              "ticks": ""
             }
            },
            "marker": {
             "colorbar": {
              "outlinewidth": 0,
              "ticks": ""
             }
            },
            "type": "scatter3d"
           }
          ],
          "scattercarpet": [
           {
            "marker": {
             "colorbar": {
              "outlinewidth": 0,
              "ticks": ""
             }
            },
            "type": "scattercarpet"
           }
          ],
          "scattergeo": [
           {
            "marker": {
             "colorbar": {
              "outlinewidth": 0,
              "ticks": ""
             }
            },
            "type": "scattergeo"
           }
          ],
          "scattergl": [
           {
            "marker": {
             "line": {
              "color": "#283442"
             }
            },
            "type": "scattergl"
           }
          ],
          "scattermapbox": [
           {
            "marker": {
             "colorbar": {
              "outlinewidth": 0,
              "ticks": ""
             }
            },
            "type": "scattermapbox"
           }
          ],
          "scatterpolar": [
           {
            "marker": {
             "colorbar": {
              "outlinewidth": 0,
              "ticks": ""
             }
            },
            "type": "scatterpolar"
           }
          ],
          "scatterpolargl": [
           {
            "marker": {
             "colorbar": {
              "outlinewidth": 0,
              "ticks": ""
             }
            },
            "type": "scatterpolargl"
           }
          ],
          "scatterternary": [
           {
            "marker": {
             "colorbar": {
              "outlinewidth": 0,
              "ticks": ""
             }
            },
            "type": "scatterternary"
           }
          ],
          "surface": [
           {
            "colorbar": {
             "outlinewidth": 0,
             "ticks": ""
            },
            "colorscale": [
             [
              0,
              "#0d0887"
             ],
             [
              0.1111111111111111,
              "#46039f"
             ],
             [
              0.2222222222222222,
              "#7201a8"
             ],
             [
              0.3333333333333333,
              "#9c179e"
             ],
             [
              0.4444444444444444,
              "#bd3786"
             ],
             [
              0.5555555555555556,
              "#d8576b"
             ],
             [
              0.6666666666666666,
              "#ed7953"
             ],
             [
              0.7777777777777778,
              "#fb9f3a"
             ],
             [
              0.8888888888888888,
              "#fdca26"
             ],
             [
              1,
              "#f0f921"
             ]
            ],
            "type": "surface"
           }
          ],
          "table": [
           {
            "cells": {
             "fill": {
              "color": "#506784"
             },
             "line": {
              "color": "rgb(17,17,17)"
             }
            },
            "header": {
             "fill": {
              "color": "#2a3f5f"
             },
             "line": {
              "color": "rgb(17,17,17)"
             }
            },
            "type": "table"
           }
          ]
         },
         "layout": {
          "annotationdefaults": {
           "arrowcolor": "#f2f5fa",
           "arrowhead": 0,
           "arrowwidth": 1
          },
          "autotypenumbers": "strict",
          "coloraxis": {
           "colorbar": {
            "outlinewidth": 0,
            "ticks": ""
           }
          },
          "colorscale": {
           "diverging": [
            [
             0,
             "#8e0152"
            ],
            [
             0.1,
             "#c51b7d"
            ],
            [
             0.2,
             "#de77ae"
            ],
            [
             0.3,
             "#f1b6da"
            ],
            [
             0.4,
             "#fde0ef"
            ],
            [
             0.5,
             "#f7f7f7"
            ],
            [
             0.6,
             "#e6f5d0"
            ],
            [
             0.7,
             "#b8e186"
            ],
            [
             0.8,
             "#7fbc41"
            ],
            [
             0.9,
             "#4d9221"
            ],
            [
             1,
             "#276419"
            ]
           ],
           "sequential": [
            [
             0,
             "#0d0887"
            ],
            [
             0.1111111111111111,
             "#46039f"
            ],
            [
             0.2222222222222222,
             "#7201a8"
            ],
            [
             0.3333333333333333,
             "#9c179e"
            ],
            [
             0.4444444444444444,
             "#bd3786"
            ],
            [
             0.5555555555555556,
             "#d8576b"
            ],
            [
             0.6666666666666666,
             "#ed7953"
            ],
            [
             0.7777777777777778,
             "#fb9f3a"
            ],
            [
             0.8888888888888888,
             "#fdca26"
            ],
            [
             1,
             "#f0f921"
            ]
           ],
           "sequentialminus": [
            [
             0,
             "#0d0887"
            ],
            [
             0.1111111111111111,
             "#46039f"
            ],
            [
             0.2222222222222222,
             "#7201a8"
            ],
            [
             0.3333333333333333,
             "#9c179e"
            ],
            [
             0.4444444444444444,
             "#bd3786"
            ],
            [
             0.5555555555555556,
             "#d8576b"
            ],
            [
             0.6666666666666666,
             "#ed7953"
            ],
            [
             0.7777777777777778,
             "#fb9f3a"
            ],
            [
             0.8888888888888888,
             "#fdca26"
            ],
            [
             1,
             "#f0f921"
            ]
           ]
          },
          "colorway": [
           "#636efa",
           "#EF553B",
           "#00cc96",
           "#ab63fa",
           "#FFA15A",
           "#19d3f3",
           "#FF6692",
           "#B6E880",
           "#FF97FF",
           "#FECB52"
          ],
          "font": {
           "color": "#f2f5fa"
          },
          "geo": {
           "bgcolor": "rgb(17,17,17)",
           "lakecolor": "rgb(17,17,17)",
           "landcolor": "rgb(17,17,17)",
           "showlakes": true,
           "showland": true,
           "subunitcolor": "#506784"
          },
          "hoverlabel": {
           "align": "left"
          },
          "hovermode": "closest",
          "mapbox": {
           "style": "dark"
          },
          "paper_bgcolor": "rgb(17,17,17)",
          "plot_bgcolor": "rgb(17,17,17)",
          "polar": {
           "angularaxis": {
            "gridcolor": "#506784",
            "linecolor": "#506784",
            "ticks": ""
           },
           "bgcolor": "rgb(17,17,17)",
           "radialaxis": {
            "gridcolor": "#506784",
            "linecolor": "#506784",
            "ticks": ""
           }
          },
          "scene": {
           "xaxis": {
            "backgroundcolor": "rgb(17,17,17)",
            "gridcolor": "#506784",
            "gridwidth": 2,
            "linecolor": "#506784",
            "showbackground": true,
            "ticks": "",
            "zerolinecolor": "#C8D4E3"
           },
           "yaxis": {
            "backgroundcolor": "rgb(17,17,17)",
            "gridcolor": "#506784",
            "gridwidth": 2,
            "linecolor": "#506784",
            "showbackground": true,
            "ticks": "",
            "zerolinecolor": "#C8D4E3"
           },
           "zaxis": {
            "backgroundcolor": "rgb(17,17,17)",
            "gridcolor": "#506784",
            "gridwidth": 2,
            "linecolor": "#506784",
            "showbackground": true,
            "ticks": "",
            "zerolinecolor": "#C8D4E3"
           }
          },
          "shapedefaults": {
           "line": {
            "color": "#f2f5fa"
           }
          },
          "sliderdefaults": {
           "bgcolor": "#C8D4E3",
           "bordercolor": "rgb(17,17,17)",
           "borderwidth": 1,
           "tickwidth": 0
          },
          "ternary": {
           "aaxis": {
            "gridcolor": "#506784",
            "linecolor": "#506784",
            "ticks": ""
           },
           "baxis": {
            "gridcolor": "#506784",
            "linecolor": "#506784",
            "ticks": ""
           },
           "bgcolor": "rgb(17,17,17)",
           "caxis": {
            "gridcolor": "#506784",
            "linecolor": "#506784",
            "ticks": ""
           }
          },
          "title": {
           "x": 0.05
          },
          "updatemenudefaults": {
           "bgcolor": "#506784",
           "borderwidth": 0
          },
          "xaxis": {
           "automargin": true,
           "gridcolor": "#283442",
           "linecolor": "#506784",
           "ticks": "",
           "title": {
            "standoff": 15
           },
           "zerolinecolor": "#283442",
           "zerolinewidth": 2
          },
          "yaxis": {
           "automargin": true,
           "gridcolor": "#283442",
           "linecolor": "#506784",
           "ticks": "",
           "title": {
            "standoff": 15
           },
           "zerolinecolor": "#283442",
           "zerolinewidth": 2
          }
         }
        }
       }
      }
     },
     "metadata": {},
     "output_type": "display_data"
    }
   ],
   "source": [
    "a = Value(1,'a')\n",
    "b = a+a \n",
    "b.backwards()\n",
    "draw_graph(b)"
   ]
  },
  {
   "cell_type": "code",
   "execution_count": 23,
   "metadata": {},
   "outputs": [],
   "source": [
    "import torch"
   ]
  },
  {
   "cell_type": "code",
   "execution_count": 28,
   "metadata": {},
   "outputs": [
    {
     "name": "stdout",
     "output_type": "stream",
     "text": [
      "0.7071050214706146\n",
      "x1.grad= -1.500007465833125\n",
      "x2.grad= 0.5000024886110417\n",
      "w1.grad= 1.0000049772220834\n",
      "w2.grad= 0.0\n"
     ]
    }
   ],
   "source": [
    "x1 = torch.Tensor([2]).double() ; x1.requires_grad = True\n",
    "x2 = torch.Tensor([0]).double() ; x2.requires_grad = True\n",
    "w1 = torch.Tensor([-3]).double() ; w1.requires_grad = True\n",
    "w2 = torch.Tensor([1]).double() ; w2.requires_grad = True\n",
    "b = torch.Tensor([6.88137]).double() ; b.requires_grad = True\n",
    "n = x1*w1 + x2*w2 + b\n",
    "o = torch.tanh(n)\n",
    "\n",
    "print(o.data.item())\n",
    "o.backward()\n",
    "\n",
    "print(\"x1.grad=\",x1.grad.item()) \n",
    "print(\"x2.grad=\",x2.grad.item())\n",
    "print(\"w1.grad=\",w1.grad.item())\n",
    "print(\"w2.grad=\",w2.grad.item())\n"
   ]
  },
  {
   "cell_type": "code",
   "execution_count": 145,
   "metadata": {},
   "outputs": [],
   "source": [
    "class Neuron: \n",
    "    def __init__(self, nin):\n",
    "        #nin = number of inputs going into the nueron\n",
    "        self.w = [Value(random.uniform(-1,1),f\"w{i}\") for i in range(nin)]\n",
    "        self.b = Value(random.uniform(-1,1),'b')\n",
    "\n",
    "    def __call__(self,x): \n",
    "        #w*x + b \n",
    "        return ( sum([w*x for w,x in zip(self.w,x)]) + self.b ).tanh()\n",
    "\n",
    "    def parameters(self): \n",
    "        #Return a list of all the parameters of the neuron\n",
    "        return self.w + [self.b]\n",
    "        \n"
   ]
  },
  {
   "cell_type": "code",
   "execution_count": 146,
   "metadata": {},
   "outputs": [],
   "source": [
    "#Layer of Neurons = List of Nuerons. They aren't connected to each other\n",
    "class Layer: \n",
    "    def __init__(self, nin, nout):\n",
    "        #nin = number of inputs going into the nueron (x)\n",
    "        #nout = number of neurons in the layer\n",
    "        self.neurons = [Neuron(nin) for i in range(nout)]\n",
    "\n",
    "    def __call__(self,x):\n",
    "        return [n(x) for n in self.neurons]\n",
    "\n",
    "    def parameters(self):\n",
    "        #Return a list of all the parameters of the layer\n",
    "        return [p for n in self.neurons for p in n.parameters()]"
   ]
  },
  {
   "cell_type": "code",
   "execution_count": 94,
   "metadata": {},
   "outputs": [
    {
     "data": {
      "text/plain": [
       "[Value(-0.9934405903715453, ),\n",
       " Value(-0.9960895811299004, ),\n",
       " Value(0.9282588462227764, )]"
      ]
     },
     "execution_count": 94,
     "metadata": {},
     "output_type": "execute_result"
    }
   ],
   "source": [
    "x = [2,3]\n",
    "\n",
    "#Inputs in Layer are the same (x)\n",
    "l = Layer(2,3)\n",
    "l(x)"
   ]
  },
  {
   "cell_type": "code",
   "execution_count": 147,
   "metadata": {},
   "outputs": [],
   "source": [
    "#MLP (Multi Layer Perceptron)\n",
    "#Layer of Layers\n",
    "\n",
    "class MLP:\n",
    "    def __init__(self, nin, nouts): \n",
    "        #nin = number of inputs going into the initial layer\n",
    "        #nouts = list of number of outputs in each layer\n",
    "        self.layers = [Layer(nin,nouts[0])] #First layer\n",
    "        for i in range(1,len(nouts)):\n",
    "            self.layers.append(Layer(nouts[i-1],nouts[i]))\n",
    "\n",
    "    def __call__(self,x):\n",
    "        for l in self.layers:\n",
    "            x = l(x)\n",
    "        return x\n",
    "\n",
    "    def parameters(self):  \n",
    "        #Return a list of all the parameters of the MLP\n",
    "        return [p for l in self.layers for p in l.parameters()]\n"
   ]
  },
  {
   "cell_type": "code",
   "execution_count": 152,
   "metadata": {},
   "outputs": [
    {
     "data": {
      "application/vnd.plotly.v1+json": {
       "config": {
        "plotlyServerURL": "https://plot.ly"
       },
       "data": [
        {
         "hoverinfo": "text",
         "line": {
          "color": "#888",
          "width": 3
         },
         "mode": "lines",
         "text": [
          "+",
          "+",
          "*",
          "*",
          "+",
          "+",
          "tanh",
          "*",
          "+",
          "*",
          "+",
          "+",
          "*",
          "tanh",
          "*",
          "+",
          "*",
          "*",
          "*",
          "*",
          "+",
          "*",
          "*",
          "+",
          "+",
          "+",
          "*",
          "+",
          "*",
          "*",
          "+",
          "+",
          "+",
          "+",
          "+",
          "+",
          "+",
          "*",
          "+",
          "*",
          "+",
          "+",
          "+",
          "+",
          "*",
          "*",
          "*",
          "*",
          "*",
          "+",
          "+",
          "+",
          "+",
          "+",
          "+",
          "+",
          "*",
          "+",
          "+",
          "+",
          "tanh",
          "+",
          "+",
          "*",
          "+",
          "tanh",
          "+",
          "+",
          "*",
          "+",
          "tanh",
          "+",
          "*",
          "+",
          "tanh",
          "+",
          "*",
          "*",
          "*",
          "+",
          "+",
          "*",
          "*",
          "*",
          "*",
          "*",
          "*",
          "*",
          "+",
          "*",
          "*",
          "*",
          "+",
          "*",
          "+",
          "*",
          "+",
          "*",
          "+",
          "*",
          "+",
          "*",
          "*",
          "+",
          "+",
          "tanh",
          "+",
          "*",
          "*",
          "*",
          "*",
          "*",
          "*",
          "*",
          "tanh",
          "+",
          "+",
          "*",
          "*",
          "+",
          "*",
          "*",
          "+",
          "+",
          "+",
          "*",
          "+",
          "*",
          "+",
          "+",
          "+",
          "*",
          "+",
          "+",
          "+",
          "*",
          "*",
          "+",
          "+",
          "*",
          "+",
          "+",
          "*",
          "+",
          "*",
          "+",
          "+",
          "+",
          "+",
          "tanh",
          "+",
          "+",
          "+",
          "+",
          "+"
         ],
         "type": "scatter",
         "x": [
          -0.09992622765335823,
          -0.2245839224209243,
          null,
          -0.22026207468346798,
          -0.07708303099598186,
          null,
          -0.24986126966134853,
          -0.07126213128243855,
          null,
          0.07012614134030601,
          0.12183493713970336,
          null,
          -0.0016186324388158821,
          -0.08982213864425749,
          null,
          -0.45253437613909586,
          -0.42464383803927536,
          null,
          -0.07708303099598186,
          0.042262748343518675,
          null,
          -0.4272928874001724,
          -0.3952758363683146,
          null,
          -0.03391469557325149,
          0.14510884219069356,
          null,
          -0.5380926378396286,
          -0.4827332070389419,
          null,
          -0.42464383803927536,
          -0.42079229955616476,
          null,
          -0.4619949071329169,
          -0.2935850132851385,
          null,
          0.042262748343518675,
          0.14991606069422334,
          null,
          0.6850719378962088,
          1,
          null,
          -0.16460276387364392,
          -0.23566888095760488,
          null,
          -0.2935850132851385,
          -0.11401444320668139,
          null,
          -0.22256454397047754,
          -0.23566888095760488,
          null,
          -0.22256454397047754,
          -0.5803521779983103,
          null,
          -0.22256454397047754,
          0.12230564112810724,
          null,
          -0.22256454397047754,
          -0.12261175161729586,
          null,
          -0.39389395457029786,
          -0.34799865067939667,
          null,
          -0.5082932169140388,
          -0.4827332070389419,
          null,
          -0.23576647142539064,
          -0.07126213128243855,
          null,
          -0.42079229955616476,
          -0.39389395457029786,
          null,
          0.15381869767760997,
          0.04281267143627259,
          null,
          0.28901966119046113,
          0.22595178470570804,
          null,
          0.08120574994801572,
          0.16945145141668946,
          null,
          0.2873708805820255,
          0.22595178470570804,
          null,
          0.039838645670890405,
          -0.09992622765335823,
          null,
          0.20318223746313216,
          0.1630668639472483,
          null,
          0.0747334363236757,
          -0.11879160961327025,
          null,
          0.1630668639472483,
          0.16007999793702005,
          null,
          -0.07126213128243855,
          0.11806711824207147,
          null,
          0.4365259484153567,
          0.561705642589734,
          null,
          0.2959692603210189,
          0.42693534781747167,
          null,
          0.16556365754814545,
          0.04281267143627259,
          null,
          0.25161565496310606,
          0.42693534781747167,
          null,
          0.2441232582107312,
          0.28901966119046113,
          null,
          0.43735188786472495,
          0.2718977506934855,
          null,
          0.5913499413986751,
          0.4445501860518587,
          null,
          0.17848174450709395,
          0.1594760183977013,
          null,
          -0.09094796167505603,
          0.11806711824207147,
          null,
          0.11806711824207147,
          0.2959692603210189,
          null,
          -0.22963642932486358,
          -0.3358761827001114,
          null,
          -0.2317923464064669,
          -0.44941343344926316,
          null,
          -0.2317923464064669,
          -0.04030105928908799,
          null,
          -0.2317923464064669,
          -0.15522808779812539,
          null,
          -0.2317923464064669,
          -0.24061306955435716,
          null,
          -0.48800076815748655,
          -0.45948014849761304,
          null,
          -0.45948014849761304,
          -0.39389395457029786,
          null,
          0.2277965674842586,
          0.16556365754814545,
          null,
          -0.4827332070389419,
          -0.42464383803927536,
          null,
          0.18572193139677526,
          0.13216479327494154,
          null,
          0.42693534781747167,
          0.561705642589734,
          null,
          -0.4595518749028386,
          -0.5804028253692542,
          null,
          0.561705642589734,
          0.6850719378962088,
          null,
          0.4742156943027227,
          0.5604154129320811,
          null,
          -0.12261175161729586,
          -0.12963175501244179,
          null,
          -0.3952758363683146,
          -0.42079229955616476,
          null,
          -0.15522808779812539,
          -0.016641487188363464,
          null,
          -0.11401444320668139,
          0.08077890269220864,
          null,
          -0.5804028253692542,
          -0.4619949071329169,
          null,
          -0.4570347817259341,
          -0.5804028253692542,
          null,
          -0.04640201078990556,
          -0.25042474778875407,
          null,
          -0.12963175501244179,
          -0.016641487188363464,
          null,
          0.13216479327494154,
          0.0574080463490486,
          null,
          -0.2625877851357119,
          -0.4595518749028386,
          null,
          -0.053396782224393646,
          -0.14083425084904175,
          null,
          0.08077890269220864,
          0.25161565496310606,
          null,
          -0.44941343344926316,
          -0.2935850132851385,
          null,
          0.14510884219069356,
          0.2994229940038275,
          null,
          -0.5803521779983103,
          -0.4619949071329169,
          null,
          -0.16868656824675365,
          -0.018029236329018476,
          null,
          0.10116507508189317,
          -0.040700184352742114,
          null,
          -0.34799865067939667,
          -0.2317923464064669,
          null,
          0.14991606069422334,
          0.2959692603210189,
          null,
          -0.0344870437346006,
          0.1282611146829408,
          null,
          0.2994229940038275,
          0.4365259484153567,
          null,
          -0.2684350166317692,
          -0.4570347817259341,
          null,
          0.09633783599809262,
          -0.040700184352742114,
          null,
          -0.4380365375824425,
          -0.34799865067939667,
          null,
          -0.21627052012730769,
          -0.15522808779812539,
          null,
          0.09518083578146967,
          0.25161565496310606,
          null,
          -0.004572007441380105,
          -0.12261175161729586,
          null,
          0.0574080463490486,
          -0.25042474778875407,
          null,
          0.0574080463490486,
          0.06850816894265645,
          null,
          0.0574080463490486,
          0.28901966119046113,
          null,
          0.0574080463490486,
          0.10116507508189317,
          null,
          0.12183493713970336,
          0.16199545200373497,
          null,
          -0.5842205008846371,
          -0.44941343344926316,
          null,
          0.2025853737384697,
          0.17848174450709395,
          null,
          0.26376289413119924,
          0.4365259484153567,
          null,
          0.1594760183977013,
          0.13216479327494154,
          null,
          -0.49180621032021854,
          -0.45948014849761304,
          null,
          0.2718977506934855,
          0.0747334363236757,
          null,
          0.160372534710052,
          0.1630668639472483,
          null,
          -0.21630276266807438,
          -0.07708303099598186,
          null,
          0.08205576429595378,
          -0.053396782224393646,
          null,
          0.054240220787272614,
          -0.11879160961327025,
          null,
          0.42499473791168235,
          0.2646524668701861,
          null,
          0.16199545200373497,
          0.1594760183977013,
          null,
          0.21587911265276705,
          0.10116507508189317,
          null,
          0.23348211442497205,
          0.17848174450709395,
          null,
          -0.018029236329018476,
          0.13807225476209325,
          null,
          -0.03837320826167466,
          0.13807225476209325,
          null,
          0.04281267143627259,
          -0.09343857602658062,
          null,
          0.16007999793702005,
          0.16199545200373497,
          null,
          -0.09343857602658062,
          -0.09992622765335823,
          null,
          -0.09343857602658062,
          -0.4570347817259341,
          null,
          -0.09343857602658062,
          0.24829505703187751,
          null,
          -0.09343857602658062,
          -0.053396782224393646,
          null,
          -0.530395925821051,
          -0.5803521779983103,
          null,
          -0.3896996629087972,
          -0.3952758363683146,
          null,
          -0.14278198785728533,
          -0.018029236329018476,
          null,
          -0.11879160961327025,
          -0.22256454397047754,
          null,
          -0.2942852975833024,
          -0.11401444320668139,
          null,
          0.4445501860518587,
          0.2718977506934855,
          null,
          0.3965690730527467,
          0.2646524668701861,
          null,
          0.34122184118006227,
          0.24829505703187751,
          null,
          0.13807225476209325,
          0.2277965674842586,
          null,
          -0.0808135855176005,
          -0.24061306955435716,
          null,
          0.07278294650280068,
          0.16945145141668946,
          null,
          0.1282611146829408,
          0.2277965674842586,
          null,
          0.5604154129320811,
          0.43735188786472495,
          null,
          0.5849794665929537,
          0.43735188786472495,
          null,
          0.1592789569774125,
          -0.04030105928908799,
          null,
          0.10019762842908285,
          -0.06108505209137075,
          null,
          0.5067752474570165,
          0.5604154129320811,
          null,
          0.16945145141668946,
          0.16556365754814545,
          null,
          0.22595178470570804,
          0.10019762842908285,
          null,
          -0.06108505209137075,
          -0.22963642932486358,
          null,
          0.5845457440581072,
          0.4445501860518587,
          null,
          0.24829505703187751,
          0.10019762842908285,
          null,
          -0.04030105928908799,
          -0.22963642932486358,
          null,
          -0.25042474778875407,
          -0.4595518749028386,
          null,
          0.10430973493100042,
          0.12183493713970336,
          null,
          0.01338307449203883,
          0.14991606069422334,
          null,
          -0.14083425084904175,
          -0.12963175501244179,
          null,
          -0.016641487188363464,
          0.14510884219069356,
          null,
          0.11981878517862146,
          0.06850816894265645,
          null,
          -0.040700184352742114,
          -0.14083425084904175,
          null,
          -0.24061306955435716,
          -0.22026207468346798,
          null,
          0.2991784520504739,
          0.12230564112810724,
          null,
          -0.32762333061757803,
          -0.22026207468346798,
          null,
          -0.046508400088758194,
          0.1282611146829408,
          null,
          0.19907283821103838,
          0.16007999793702005,
          null,
          -0.08982213864425749,
          -0.2245839224209243,
          null,
          0.12230564112810724,
          -0.06108505209137075,
          null,
          -0.2245839224209243,
          -0.32762333061757803,
          null,
          -0.3358761827001114,
          -0.24986126966134853,
          null,
          0.5953968461966982,
          0.6850719378962088,
          null,
          -0.23146080169400005,
          -0.3358761827001114,
          null,
          0.06850816894265645,
          -0.08982213864425749,
          null,
          0.2646524668701861,
          0.0747334363236757,
          null,
          -0.23566888095760488,
          -0.32762333061757803,
          null
         ],
         "y": [
          -0.5103483912942421,
          -0.49444343727877604,
          null,
          -0.48077816962348363,
          -0.4382320966735484,
          null,
          -0.23395213365339992,
          -0.26358124378365083,
          null,
          0.6369472042882709,
          0.49585757474637826,
          null,
          -0.6201913748719413,
          -0.5352603545227269,
          null,
          0.30503593764410547,
          0.19725302982501383,
          null,
          -0.4382320966735484,
          -0.3779413276686121,
          null,
          0.31485062342040687,
          0.19671149952323136,
          null,
          -0.181768501516841,
          -0.21210595798649565,
          null,
          0.4136850708091684,
          0.30849475261552795,
          null,
          0.19725302982501383,
          0.0732658018675255,
          null,
          -0.1652387796180486,
          -0.2120184908018717,
          null,
          -0.3779413276686121,
          -0.3108796766088244,
          null,
          -0.5650489675244471,
          -0.9036399993564266,
          null,
          -0.6055555252827057,
          -0.5300049801349295,
          null,
          -0.2120184908018717,
          -0.21076032639901335,
          null,
          -0.1804400877232258,
          -0.5300049801349295,
          null,
          -0.1804400877232258,
          -0.04787179831762081,
          null,
          -0.1804400877232258,
          -0.08517264199285501,
          null,
          -0.1804400877232258,
          -0.01339330511715487,
          null,
          -0.04730070337202864,
          -0.1609384832350579,
          null,
          0.4281809801349797,
          0.30849475261552795,
          null,
          -0.2122021541683036,
          -0.26358124378365083,
          null,
          0.0732658018675255,
          -0.04730070337202864,
          null,
          0.07757777937162143,
          -0.04526215639972888,
          null,
          0.18177007010642784,
          -0.007516369320280386,
          null,
          0.324805209610504,
          0.17592358731212043,
          null,
          0.16054036519627696,
          -0.007516369320280386,
          null,
          -0.4703117356518823,
          -0.5103483912942421,
          null,
          0.7341558853974641,
          0.6178732867453802,
          null,
          -0.07477966554400858,
          -0.1255909994884237,
          null,
          0.6178732867453802,
          0.4881007774596477,
          null,
          -0.26358124378365083,
          -0.2803579506516334,
          null,
          -0.3138411284047853,
          -0.43779265912280946,
          null,
          -0.3075174784690548,
          -0.34300505906831485,
          null,
          0.038935283510637575,
          -0.04526215639972888,
          null,
          -0.26444657851548853,
          -0.34300505906831485,
          null,
          0.3928028437683472,
          0.18177007010642784,
          null,
          0.019553129452686367,
          -0.04084510279213568,
          null,
          0.03371997665496091,
          -0.008150950848685598,
          null,
          0.3673391752116457,
          0.19118638563431603,
          null,
          -0.2556017671895356,
          -0.2803579506516334,
          null,
          -0.2803579506516334,
          -0.3075174784690548,
          null,
          -0.05084024940287107,
          -0.14811930325810518,
          null,
          -0.19945023066437875,
          -0.21466956985411795,
          null,
          -0.19945023066437875,
          -0.03416992629792825,
          null,
          -0.19945023066437875,
          -0.1426064263719304,
          null,
          -0.19945023066437875,
          -0.40040252782766533,
          null,
          0.20845028588987147,
          0.0668665360605523,
          null,
          0.0668665360605523,
          -0.04730070337202864,
          null,
          0.18424860042639693,
          0.038935283510637575,
          null,
          0.30849475261552795,
          0.19725302982501383,
          null,
          0.17400503212566093,
          0.013334511550264123,
          null,
          -0.34300505906831485,
          -0.43779265912280946,
          null,
          0.03422900617789572,
          -0.07728728065952976,
          null,
          -0.43779265912280946,
          -0.5650489675244471,
          null,
          0.1160569484963748,
          0.08741492179423639,
          null,
          -0.01339330511715487,
          -0.15379398895204635,
          null,
          0.19671149952323136,
          0.0732658018675255,
          null,
          -0.1426064263719304,
          -0.20141657415596628,
          null,
          -0.21076032639901335,
          -0.24273896621711913,
          null,
          -0.07728728065952976,
          -0.1652387796180486,
          null,
          0.004188797698702126,
          -0.07728728065952976,
          null,
          0.10072099847692803,
          0.08756807916094189,
          null,
          -0.15379398895204635,
          -0.20141657415596628,
          null,
          0.013334511550264123,
          -0.04658389157902246,
          null,
          0.06647282582410532,
          0.03422900617789572,
          null,
          0.1730965149433343,
          0.008582021516530904,
          null,
          -0.24273896621711913,
          -0.26444657851548853,
          null,
          -0.21466956985411795,
          -0.2120184908018717,
          null,
          -0.21210595798649565,
          -0.2439546645617508,
          null,
          -0.04787179831762081,
          -0.1652387796180486,
          null,
          0.41597314649791894,
          0.4099078658974083,
          null,
          0.25415214738670444,
          0.14995970521347315,
          null,
          -0.1609384832350579,
          -0.19945023066437875,
          null,
          -0.3108796766088244,
          -0.3075174784690548,
          null,
          0.4720603313931433,
          0.3608057694486681,
          null,
          -0.2439546645617508,
          -0.3138411284047853,
          null,
          0.022566786467709994,
          0.004188797698702126,
          null,
          0.27600296445451145,
          0.14995970521347315,
          null,
          -0.08947508640550471,
          -0.1609384832350579,
          null,
          -0.001178116212962741,
          -0.1426064263719304,
          null,
          -0.21692139708642186,
          -0.26444657851548853,
          null,
          0.12003634029517293,
          -0.01339330511715487,
          null,
          -0.04658389157902246,
          0.08756807916094189,
          null,
          -0.04658389157902246,
          -0.5138193611146833,
          null,
          -0.04658389157902246,
          0.18177007010642784,
          null,
          -0.04658389157902246,
          0.25415214738670444,
          null,
          0.49585757474637826,
          0.3510039748562767,
          null,
          -0.23126888958567013,
          -0.21466956985411795,
          null,
          0.5039420482885376,
          0.3673391752116457,
          null,
          -0.2040318122211572,
          -0.3138411284047853,
          null,
          0.19118638563431603,
          0.013334511550264123,
          null,
          0.18632626318308057,
          0.0668665360605523,
          null,
          -0.04084510279213568,
          -0.07477966554400858,
          null,
          0.7456292241918463,
          0.6178732867453802,
          null,
          -0.5124979575510433,
          -0.4382320966735484,
          null,
          0.3061724969988554,
          0.1730965149433343,
          null,
          -0.06953544486040208,
          -0.1255909994884237,
          null,
          0.07553463006226965,
          -0.008677060048370992,
          null,
          0.3510039748562767,
          0.19118638563431603,
          null,
          0.3492151068543513,
          0.25415214738670444,
          null,
          0.49855078918658036,
          0.3673391752116457,
          null,
          0.4099078658974083,
          0.3298797058528976,
          null,
          0.39121392424579204,
          0.3298797058528976,
          null,
          -0.04526215639972888,
          -0.10828641901229508,
          null,
          0.4881007774596477,
          0.3510039748562767,
          null,
          -0.10828641901229508,
          -0.5103483912942421,
          null,
          -0.10828641901229508,
          0.004188797698702126,
          null,
          -0.10828641901229508,
          -0.011570406405623434,
          null,
          -0.10828641901229508,
          0.1730965149433343,
          null,
          0.10177792689229892,
          -0.04787179831762081,
          null,
          0.32028034526385374,
          0.19671149952323136,
          null,
          0.405088870162776,
          0.4099078658974083,
          null,
          -0.1255909994884237,
          -0.1804400877232258,
          null,
          -0.17774160956637633,
          -0.21076032639901335,
          null,
          -0.008150950848685598,
          -0.04084510279213568,
          null,
          0.09045442083316653,
          -0.008677060048370992,
          null,
          0.158914664642309,
          -0.011570406405623434,
          null,
          0.3298797058528976,
          0.18424860042639693,
          null,
          -0.23446674632824205,
          -0.40040252782766533,
          null,
          0.3520411650590678,
          0.17592358731212043,
          null,
          0.3608057694486681,
          0.18424860042639693,
          null,
          0.08741492179423639,
          0.019553129452686367,
          null,
          0.07947165991465178,
          0.019553129452686367,
          null,
          -0.05107276376424847,
          -0.03416992629792825,
          null,
          -0.07425991027081762,
          -0.049929728352294374,
          null,
          0.1053786416681245,
          0.08741492179423639,
          null,
          0.17592358731212043,
          0.038935283510637575,
          null,
          -0.007516369320280386,
          -0.07425991027081762,
          null,
          -0.049929728352294374,
          -0.05084024940287107,
          null,
          -0.00801377518221195,
          -0.008150950848685598,
          null,
          -0.011570406405623434,
          -0.07425991027081762,
          null,
          -0.03416992629792825,
          -0.05084024940287107,
          null,
          0.08756807916094189,
          0.03422900617789572,
          null,
          0.6287273465491486,
          0.49585757474637826,
          null,
          -0.34976240921094387,
          -0.3108796766088244,
          null,
          0.008582021516530904,
          -0.15379398895204635,
          null,
          -0.20141657415596628,
          -0.21210595798649565,
          null,
          -0.36331210784564266,
          -0.5138193611146833,
          null,
          0.14995970521347315,
          0.008582021516530904,
          null,
          -0.40040252782766533,
          -0.48077816962348363,
          null,
          -0.029239382295853992,
          -0.08517264199285501,
          null,
          -0.5096761951208034,
          -0.48077816962348363,
          null,
          0.4906048406953791,
          0.3608057694486681,
          null,
          0.6136922564215914,
          0.4881007774596477,
          null,
          -0.5352603545227269,
          -0.49444343727877604,
          null,
          -0.08517264199285501,
          -0.049929728352294374,
          null,
          -0.49444343727877604,
          -0.5096761951208034,
          null,
          -0.14811930325810518,
          -0.23395213365339992,
          null,
          -0.4415373910212542,
          -0.5650489675244471,
          null,
          -0.07877059006775206,
          -0.14811930325810518,
          null,
          -0.5138193611146833,
          -0.5352603545227269,
          null,
          -0.008677060048370992,
          -0.07477966554400858,
          null,
          -0.5300049801349295,
          -0.5096761951208034,
          null
         ]
        },
        {
         "hoverinfo": "text",
         "marker": {
          "color": "darkred",
          "size": 10
         },
         "mode": "markers+text",
         "text": [
          "+",
          "+",
          "*",
          "*",
          "+",
          "+",
          "tanh",
          "*",
          "+",
          "*",
          "+",
          "+",
          "*",
          "tanh",
          "*",
          "+",
          "*",
          "*",
          "*",
          "*",
          "+",
          "*",
          "*",
          "+",
          "+",
          "+",
          "*",
          "+",
          "*",
          "*",
          "+",
          "+",
          "+",
          "+",
          "+",
          "+",
          "+",
          "*",
          "+",
          "*",
          "+",
          "+",
          "+",
          "+",
          "*",
          "*",
          "*",
          "*",
          "*",
          "+",
          "+",
          "+",
          "+",
          "+",
          "+",
          "+",
          "*",
          "+",
          "+",
          "+",
          "tanh",
          "+",
          "+",
          "*",
          "+",
          "tanh",
          "+",
          "+",
          "*",
          "+",
          "tanh",
          "+",
          "*",
          "+",
          "tanh",
          "+",
          "*",
          "*",
          "*",
          "+",
          "+",
          "*",
          "*",
          "*",
          "*",
          "*",
          "*",
          "*",
          "+",
          "*",
          "*",
          "*",
          "+",
          "*",
          "+",
          "*",
          "+",
          "*",
          "+",
          "*",
          "+",
          "*",
          "*",
          "+",
          "+",
          "tanh",
          "+",
          "*",
          "*",
          "*",
          "*",
          "*",
          "*",
          "*",
          "tanh",
          "+",
          "+",
          "*",
          "*",
          "+",
          "*",
          "*",
          "+",
          "+",
          "+",
          "*",
          "+",
          "*",
          "+",
          "+",
          "+",
          "*",
          "+",
          "+",
          "+",
          "*",
          "*",
          "+",
          "+",
          "*",
          "+",
          "+",
          "*",
          "+",
          "*",
          "+",
          "+",
          "+",
          "+",
          "tanh",
          "+",
          "+",
          "+",
          "+",
          "+"
         ],
         "textposition": "middle center",
         "type": "scatter",
         "x": [
          -0.16225507503714126,
          -0.14867255283972491,
          -0.16056170047189355,
          0.09598053924000469,
          -0.045720385541536686,
          -0.43858910708918564,
          -0.017410141326231594,
          -0.4112843618842435,
          0.05559707330872103,
          -0.5104129224392853,
          -0.42271806879772006,
          -0.37778996020902766,
          0.096089404518871,
          0.8425359689481045,
          -0.2001358224156244,
          -0.20379972824590992,
          -0.2291167124640412,
          -0.4014583609843939,
          -0.05012945142118515,
          -0.1725881477938867,
          -0.3709463026248473,
          -0.49551321197649034,
          -0.15351430135391458,
          -0.4073431270632313,
          0.09831568455694129,
          0.2574857229480846,
          0.12532860068235258,
          0.25666133264386676,
          -0.030043790991233915,
          0.18312455070519024,
          -0.022029086644797274,
          0.16157343094213417,
          0.02340249347981646,
          0.49911579550254537,
          0.3614523040692453,
          0.10418816449220902,
          0.33927550139028884,
          0.26657145970059615,
          0.3546248192791052,
          0.517950063725267,
          0.16897888145239764,
          0.01355957828350772,
          0.2070181892815452,
          -0.28275630601248747,
          -0.340602889927865,
          -0.13604670284777745,
          -0.19351021710229616,
          -0.23620270798041204,
          -0.4737404583275498,
          -0.4266870515339555,
          0.19668011251620204,
          -0.45368852253910863,
          0.1589433623358584,
          0.4943204952036028,
          -0.5199773501360464,
          0.6233887902429713,
          0.5173155536174019,
          -0.12612175331486883,
          -0.4080340679622397,
          -0.08593478749324443,
          -0.016617770257236375,
          -0.5211988662510856,
          -0.5187188035475941,
          -0.14841337928932982,
          -0.07313662110040263,
          0.09478641981199507,
          -0.3610698300192753,
          -0.0971155165367177,
          0.16619727882765734,
          -0.3714992233672008,
          0.22226591809726054,
          -0.5211735425656137,
          -0.09335790228788607,
          0.030232445364575526,
          -0.2898954985429318,
          0.22294266050762113,
          0.0468870354741701,
          0.3679744712095921,
          -0.36273489917885166,
          0.027818825822675253,
          -0.3930175941309196,
          -0.18574930396271655,
          0.17339824537228787,
          -0.06359187952933798,
          -0.09650835071985273,
          0.06295810764585252,
          0.17321385376975487,
          0.07928656071547088,
          0.14191519457171917,
          -0.5168169671669501,
          0.1905335591227818,
          0.35014442127327794,
          0.14582040583632144,
          -0.47564317940891576,
          0.17331559350858058,
          0.16171969932865016,
          -0.14669289683202813,
          0.014329491035780066,
          -0.032275694412998816,
          0.34482360239093424,
          0.16073573520071816,
          0.1585220938673301,
          0.205981929466033,
          0.060021509216537386,
          0.0498495232502093,
          -0.025312952295154015,
          0.1610377249703775,
          -0.09668240183996943,
          -0.27523667887625736,
          0.07742824050264845,
          -0.07341767912548713,
          -0.5553740519096806,
          -0.3924877496385559,
          -0.0804056120931519,
          -0.17067807679187388,
          -0.20414987039499188,
          0.3582239683726721,
          0.33061076996146643,
          0.2947584491059699,
          0.18293441112317593,
          -0.16071332753597883,
          0.12111719895974507,
          0.1780288410835997,
          0.498883650398403,
          0.5111656772288393,
          0.05948894884416226,
          0.01955628816885605,
          0.5335953301945489,
          0.16750755448241744,
          0.16307470656739545,
          -0.14536074070811716,
          0.5145479650549829,
          0.17424634273048017,
          -0.13496874430697578,
          -0.35498831134579634,
          0.11307233603535188,
          0.08164956759313108,
          -0.13523300293074175,
          0.06423367750116504,
          0.09416347706063896,
          -0.09076721760089193,
          -0.23043757211891258,
          0.21074204658929058,
          -0.273942702650523,
          0.0408763572970913,
          0.17957641807402921,
          -0.15720303053259088,
          0.030610294518368244,
          -0.27610362651925113,
          -0.29286872618072995,
          0.6402343920464535,
          -0.2836684921970557,
          -0.010656984850800522,
          0.1696929515969309,
          -0.28164610578759147
         ],
         "y": [
          -0.5023959142865091,
          -0.45950513314851604,
          -0.24876668871852536,
          0.5664023895173246,
          -0.5777258646973341,
          0.25114448373455966,
          -0.4080867121710803,
          0.2557810614718191,
          -0.19693722975166833,
          0.36108991171234817,
          0.13525941584626966,
          -0.18862863520996015,
          -0.34441050213871827,
          -0.7343444834404369,
          -0.5677802527088176,
          -0.21138940860044253,
          -0.35522253392907766,
          -0.11415594302042331,
          -0.13280636485804043,
          -0.09691669642019034,
          -0.10411959330354327,
          0.3683378663752538,
          -0.23789169897597723,
          0.012982549247748432,
          0.016157811485946274,
          0.08712685039307373,
          0.2503643984613122,
          0.07651199793799829,
          -0.4903300634730622,
          0.6760145860714222,
          -0.10018533251621614,
          0.552987032102514,
          -0.27196959721764213,
          -0.37581689376379734,
          -0.32526126876868483,
          -0.0031634364445456524,
          -0.3037258187919017,
          0.2872864569373875,
          -0.010645986669724656,
          0.012784512903137656,
          0.27926278042298086,
          -0.2679798589205845,
          -0.2939377145603441,
          -0.09947977633048813,
          -0.20705990025924836,
          -0.1168100784811535,
          -0.17102832851815458,
          -0.29992637924602206,
          0.1376584109752119,
          0.009782916344261833,
          0.11159194196851725,
          0.2528738912202709,
          0.09366977183796253,
          -0.39039885909556216,
          -0.021529137240817023,
          -0.5014208133236283,
          0.1017359351453056,
          -0.08359364703460061,
          0.13498865069537844,
          -0.17201150026394835,
          -0.22674964630806624,
          -0.12126303013878917,
          -0.036549241480413816,
          0.09414453881893496,
          -0.17760528155400632,
          -0.01662469001437917,
          0.05035091600100052,
          0.0908392682299326,
          -0.25359277236630384,
          -0.21334403032799482,
          -0.2280303112741232,
          -0.1065552889678347,
          0.41294050619766365,
          0.20205592630008878,
          -0.18019435694971833,
          -0.3091985775389396,
          0.4164330504209057,
          -0.278897896483268,
          0.01337779208320606,
          0.2129813348339923,
          -0.1252067848202813,
          -0.07189227129244657,
          -0.24068398780095518,
          0.053321517589009035,
          0.020492093790959717,
          -0.28020162634685286,
          0.0675930892637027,
          0.10378412790384099,
          0.4234307748013275,
          -0.22296922971989402,
          0.43564061175009167,
          -0.25893647031297123,
          0.10226044859229008,
          0.12659639962181643,
          -0.057812384168072134,
          0.6817512554686133,
          -0.4753650271122959,
          0.23963450597109487,
          -0.09756322217441289,
          0.03342878500694933,
          0.2710951802452964,
          0.3016836271205279,
          0.43294498219911304,
          0.369893785875153,
          0.3605468150493448,
          -0.07677428770601198,
          0.4195523761579622,
          -0.3093174051532686,
          -0.05204881065679647,
          -0.05992841270895925,
          0.032405047965519615,
          0.026953064287339054,
          0.2584959223935426,
          0.40749836803009215,
          -0.15301554360582476,
          -0.19425096798269484,
          -0.024498026820410638,
          0.04088868039239777,
          0.07367212911834278,
          0.25706415313964726,
          -0.3174346370779537,
          0.2639823761855941,
          0.27252718493753253,
          0.05348402562346138,
          0.049512394683669074,
          -0.04262134503108836,
          -0.062094819311556,
          0.09639678173118044,
          0.107429435411379,
          -0.040888139795549,
          -0.05038498887758272,
          -0.008082363015448773,
          -0.04291515833822052,
          -0.04250508785039966,
          0.060898542669418805,
          0.5622924606477635,
          -0.3303210429098841,
          -0.07260598371775773,
          -0.20676126607123096,
          -0.438565734480163,
          0.07927086336500203,
          -0.44059034872557445,
          -0.0572060121443545,
          -0.4952271823721435,
          0.4257053050720236,
          0.5508965169406196,
          -0.5148518959007515,
          -0.06755118517257469,
          -0.5020598161997898,
          -0.19103571845575257,
          -0.5032931792728507,
          -0.11344494666292862,
          -0.524539857818705,
          -0.041728362796189786,
          -0.5198405876278664
         ]
        },
        {
         "hoverinfo": "text",
         "marker": {
          "color": "darkblue",
          "size": 20
         },
         "mode": "markers+text",
         "text": [
          "",
          "",
          "",
          "",
          "",
          "",
          "",
          "",
          "b",
          "",
          "",
          "",
          "",
          "",
          "w2",
          "",
          "",
          "",
          "w0",
          "w0",
          "",
          "b",
          "",
          "w2",
          "",
          "w1",
          "w0",
          "",
          "",
          "",
          "",
          "",
          "",
          "",
          "w0",
          "",
          "w1",
          "",
          "",
          "",
          "",
          "",
          "",
          "",
          "",
          "",
          "b",
          "",
          "",
          "",
          "",
          "w0",
          "",
          "",
          "",
          "",
          "",
          "",
          "w0",
          "",
          "",
          "",
          "",
          "",
          "",
          "",
          "",
          "w0",
          "",
          "",
          "",
          "w1",
          "",
          "w1",
          "",
          "b",
          "w3",
          "w2",
          "w2",
          "",
          "",
          "w3",
          "",
          "w3",
          "",
          "w2",
          "",
          "",
          "b",
          "w1",
          "b",
          "w2",
          "",
          "w0",
          "w2",
          "",
          "",
          "",
          "",
          "",
          "w2",
          "w1",
          "",
          "",
          "b",
          "",
          "",
          "w1",
          "",
          "w3",
          "",
          "",
          "",
          "",
          "w3",
          "",
          "",
          "",
          "",
          "",
          "",
          "",
          "",
          "",
          "w1",
          "w1",
          "",
          "",
          "w0",
          "",
          "",
          "w2",
          "",
          "",
          "",
          "",
          "",
          "",
          "",
          "b",
          "b",
          "",
          "",
          ""
         ],
         "type": "scatter",
         "x": [
          -0.09992622765335823,
          -0.22026207468346798,
          -0.24986126966134853,
          0.07012614134030601,
          -0.0016186324388158821,
          -0.45253437613909586,
          -0.07708303099598186,
          -0.4272928874001724,
          -0.03391469557325149,
          -0.5380926378396286,
          -0.42464383803927536,
          -0.4619949071329169,
          0.042262748343518675,
          0.6850719378962088,
          -0.16460276387364392,
          -0.2935850132851385,
          -0.22256454397047754,
          -0.39389395457029786,
          -0.5082932169140388,
          -0.23576647142539064,
          -0.42079229955616476,
          0.15381869767760997,
          0.28901966119046113,
          0.08120574994801572,
          0.2873708805820255,
          0.039838645670890405,
          0.20318223746313216,
          0.0747334363236757,
          0.1630668639472483,
          -0.07126213128243855,
          0.4365259484153567,
          0.2959692603210189,
          0.16556365754814545,
          0.25161565496310606,
          0.2441232582107312,
          0.43735188786472495,
          0.5913499413986751,
          0.17848174450709395,
          -0.09094796167505603,
          0.11806711824207147,
          -0.22963642932486358,
          -0.2317923464064669,
          -0.48800076815748655,
          -0.45948014849761304,
          0.2277965674842586,
          -0.4827332070389419,
          0.18572193139677526,
          1,
          0.42693534781747167,
          -0.4595518749028386,
          0.561705642589734,
          0.4742156943027227,
          -0.12261175161729586,
          -0.3952758363683146,
          -0.15522808779812539,
          -0.11401444320668139,
          -0.5804028253692542,
          -0.4570347817259341,
          -0.04640201078990556,
          -0.12963175501244179,
          0.13216479327494154,
          -0.2625877851357119,
          -0.053396782224393646,
          0.08077890269220864,
          -0.44941343344926316,
          0.14510884219069356,
          -0.5803521779983103,
          -0.16868656824675365,
          0.10116507508189317,
          -0.34799865067939667,
          0.14991606069422334,
          -0.0344870437346006,
          0.2994229940038275,
          -0.2684350166317692,
          0.09633783599809262,
          -0.4380365375824425,
          -0.21627052012730769,
          0.09518083578146967,
          -0.004572007441380105,
          0.0574080463490486,
          0.12183493713970336,
          -0.5842205008846371,
          0.2025853737384697,
          0.26376289413119924,
          0.1594760183977013,
          -0.49180621032021854,
          0.2718977506934855,
          0.160372534710052,
          -0.21630276266807438,
          0.08205576429595378,
          0.054240220787272614,
          0.42499473791168235,
          0.16199545200373497,
          0.21587911265276705,
          0.23348211442497205,
          -0.018029236329018476,
          -0.03837320826167466,
          0.04281267143627259,
          0.16007999793702005,
          -0.09343857602658062,
          -0.530395925821051,
          -0.3896996629087972,
          -0.14278198785728533,
          -0.11879160961327025,
          -0.2942852975833024,
          0.4445501860518587,
          0.3965690730527467,
          0.34122184118006227,
          0.13807225476209325,
          -0.0808135855176005,
          0.07278294650280068,
          0.1282611146829408,
          0.5604154129320811,
          0.5849794665929537,
          0.1592789569774125,
          0.10019762842908285,
          0.5067752474570165,
          0.16945145141668946,
          0.22595178470570804,
          -0.06108505209137075,
          0.5845457440581072,
          0.24829505703187751,
          -0.04030105928908799,
          -0.25042474778875407,
          0.10430973493100042,
          0.01338307449203883,
          -0.14083425084904175,
          -0.016641487188363464,
          0.11981878517862146,
          -0.040700184352742114,
          -0.24061306955435716,
          0.2991784520504739,
          -0.32762333061757803,
          -0.046508400088758194,
          0.19907283821103838,
          -0.08982213864425749,
          0.12230564112810724,
          -0.2245839224209243,
          -0.3358761827001114,
          0.5953968461966982,
          -0.23146080169400005,
          0.06850816894265645,
          0.2646524668701861,
          -0.23566888095760488
         ],
         "y": [
          -0.5103483912942421,
          -0.48077816962348363,
          -0.23395213365339992,
          0.6369472042882709,
          -0.6201913748719413,
          0.30503593764410547,
          -0.4382320966735484,
          0.31485062342040687,
          -0.181768501516841,
          0.4136850708091684,
          0.19725302982501383,
          -0.1652387796180486,
          -0.3779413276686121,
          -0.5650489675244471,
          -0.6055555252827057,
          -0.2120184908018717,
          -0.1804400877232258,
          -0.04730070337202864,
          0.4281809801349797,
          -0.2122021541683036,
          0.0732658018675255,
          0.07757777937162143,
          0.18177007010642784,
          0.324805209610504,
          0.16054036519627696,
          -0.4703117356518823,
          0.7341558853974641,
          -0.07477966554400858,
          0.6178732867453802,
          -0.26358124378365083,
          -0.3138411284047853,
          -0.3075174784690548,
          0.038935283510637575,
          -0.26444657851548853,
          0.3928028437683472,
          0.019553129452686367,
          0.03371997665496091,
          0.3673391752116457,
          -0.2556017671895356,
          -0.2803579506516334,
          -0.05084024940287107,
          -0.19945023066437875,
          0.20845028588987147,
          0.0668665360605523,
          0.18424860042639693,
          0.30849475261552795,
          0.17400503212566093,
          -0.9036399993564266,
          -0.34300505906831485,
          0.03422900617789572,
          -0.43779265912280946,
          0.1160569484963748,
          -0.01339330511715487,
          0.19671149952323136,
          -0.1426064263719304,
          -0.21076032639901335,
          -0.07728728065952976,
          0.004188797698702126,
          0.10072099847692803,
          -0.15379398895204635,
          0.013334511550264123,
          0.06647282582410532,
          0.1730965149433343,
          -0.24273896621711913,
          -0.21466956985411795,
          -0.21210595798649565,
          -0.04787179831762081,
          0.41597314649791894,
          0.25415214738670444,
          -0.1609384832350579,
          -0.3108796766088244,
          0.4720603313931433,
          -0.2439546645617508,
          0.022566786467709994,
          0.27600296445451145,
          -0.08947508640550471,
          -0.001178116212962741,
          -0.21692139708642186,
          0.12003634029517293,
          -0.04658389157902246,
          0.49585757474637826,
          -0.23126888958567013,
          0.5039420482885376,
          -0.2040318122211572,
          0.19118638563431603,
          0.18632626318308057,
          -0.04084510279213568,
          0.7456292241918463,
          -0.5124979575510433,
          0.3061724969988554,
          -0.06953544486040208,
          0.07553463006226965,
          0.3510039748562767,
          0.3492151068543513,
          0.49855078918658036,
          0.4099078658974083,
          0.39121392424579204,
          -0.04526215639972888,
          0.4881007774596477,
          -0.10828641901229508,
          0.10177792689229892,
          0.32028034526385374,
          0.405088870162776,
          -0.1255909994884237,
          -0.17774160956637633,
          -0.008150950848685598,
          0.09045442083316653,
          0.158914664642309,
          0.3298797058528976,
          -0.23446674632824205,
          0.3520411650590678,
          0.3608057694486681,
          0.08741492179423639,
          0.07947165991465178,
          -0.05107276376424847,
          -0.07425991027081762,
          0.1053786416681245,
          0.17592358731212043,
          -0.007516369320280386,
          -0.049929728352294374,
          -0.00801377518221195,
          -0.011570406405623434,
          -0.03416992629792825,
          0.08756807916094189,
          0.6287273465491486,
          -0.34976240921094387,
          0.008582021516530904,
          -0.20141657415596628,
          -0.36331210784564266,
          0.14995970521347315,
          -0.40040252782766533,
          -0.029239382295853992,
          -0.5096761951208034,
          0.4906048406953791,
          0.6136922564215914,
          -0.5352603545227269,
          -0.08517264199285501,
          -0.49444343727877604,
          -0.14811930325810518,
          -0.4415373910212542,
          -0.07877059006775206,
          -0.5138193611146833,
          -0.008677060048370992,
          -0.5300049801349295
         ]
        }
       ],
       "layout": {
        "template": {
         "data": {
          "bar": [
           {
            "error_x": {
             "color": "#f2f5fa"
            },
            "error_y": {
             "color": "#f2f5fa"
            },
            "marker": {
             "line": {
              "color": "rgb(17,17,17)",
              "width": 0.5
             },
             "pattern": {
              "fillmode": "overlay",
              "size": 10,
              "solidity": 0.2
             }
            },
            "type": "bar"
           }
          ],
          "barpolar": [
           {
            "marker": {
             "line": {
              "color": "rgb(17,17,17)",
              "width": 0.5
             },
             "pattern": {
              "fillmode": "overlay",
              "size": 10,
              "solidity": 0.2
             }
            },
            "type": "barpolar"
           }
          ],
          "carpet": [
           {
            "aaxis": {
             "endlinecolor": "#A2B1C6",
             "gridcolor": "#506784",
             "linecolor": "#506784",
             "minorgridcolor": "#506784",
             "startlinecolor": "#A2B1C6"
            },
            "baxis": {
             "endlinecolor": "#A2B1C6",
             "gridcolor": "#506784",
             "linecolor": "#506784",
             "minorgridcolor": "#506784",
             "startlinecolor": "#A2B1C6"
            },
            "type": "carpet"
           }
          ],
          "choropleth": [
           {
            "colorbar": {
             "outlinewidth": 0,
             "ticks": ""
            },
            "type": "choropleth"
           }
          ],
          "contour": [
           {
            "colorbar": {
             "outlinewidth": 0,
             "ticks": ""
            },
            "colorscale": [
             [
              0,
              "#0d0887"
             ],
             [
              0.1111111111111111,
              "#46039f"
             ],
             [
              0.2222222222222222,
              "#7201a8"
             ],
             [
              0.3333333333333333,
              "#9c179e"
             ],
             [
              0.4444444444444444,
              "#bd3786"
             ],
             [
              0.5555555555555556,
              "#d8576b"
             ],
             [
              0.6666666666666666,
              "#ed7953"
             ],
             [
              0.7777777777777778,
              "#fb9f3a"
             ],
             [
              0.8888888888888888,
              "#fdca26"
             ],
             [
              1,
              "#f0f921"
             ]
            ],
            "type": "contour"
           }
          ],
          "contourcarpet": [
           {
            "colorbar": {
             "outlinewidth": 0,
             "ticks": ""
            },
            "type": "contourcarpet"
           }
          ],
          "heatmap": [
           {
            "colorbar": {
             "outlinewidth": 0,
             "ticks": ""
            },
            "colorscale": [
             [
              0,
              "#0d0887"
             ],
             [
              0.1111111111111111,
              "#46039f"
             ],
             [
              0.2222222222222222,
              "#7201a8"
             ],
             [
              0.3333333333333333,
              "#9c179e"
             ],
             [
              0.4444444444444444,
              "#bd3786"
             ],
             [
              0.5555555555555556,
              "#d8576b"
             ],
             [
              0.6666666666666666,
              "#ed7953"
             ],
             [
              0.7777777777777778,
              "#fb9f3a"
             ],
             [
              0.8888888888888888,
              "#fdca26"
             ],
             [
              1,
              "#f0f921"
             ]
            ],
            "type": "heatmap"
           }
          ],
          "heatmapgl": [
           {
            "colorbar": {
             "outlinewidth": 0,
             "ticks": ""
            },
            "colorscale": [
             [
              0,
              "#0d0887"
             ],
             [
              0.1111111111111111,
              "#46039f"
             ],
             [
              0.2222222222222222,
              "#7201a8"
             ],
             [
              0.3333333333333333,
              "#9c179e"
             ],
             [
              0.4444444444444444,
              "#bd3786"
             ],
             [
              0.5555555555555556,
              "#d8576b"
             ],
             [
              0.6666666666666666,
              "#ed7953"
             ],
             [
              0.7777777777777778,
              "#fb9f3a"
             ],
             [
              0.8888888888888888,
              "#fdca26"
             ],
             [
              1,
              "#f0f921"
             ]
            ],
            "type": "heatmapgl"
           }
          ],
          "histogram": [
           {
            "marker": {
             "pattern": {
              "fillmode": "overlay",
              "size": 10,
              "solidity": 0.2
             }
            },
            "type": "histogram"
           }
          ],
          "histogram2d": [
           {
            "colorbar": {
             "outlinewidth": 0,
             "ticks": ""
            },
            "colorscale": [
             [
              0,
              "#0d0887"
             ],
             [
              0.1111111111111111,
              "#46039f"
             ],
             [
              0.2222222222222222,
              "#7201a8"
             ],
             [
              0.3333333333333333,
              "#9c179e"
             ],
             [
              0.4444444444444444,
              "#bd3786"
             ],
             [
              0.5555555555555556,
              "#d8576b"
             ],
             [
              0.6666666666666666,
              "#ed7953"
             ],
             [
              0.7777777777777778,
              "#fb9f3a"
             ],
             [
              0.8888888888888888,
              "#fdca26"
             ],
             [
              1,
              "#f0f921"
             ]
            ],
            "type": "histogram2d"
           }
          ],
          "histogram2dcontour": [
           {
            "colorbar": {
             "outlinewidth": 0,
             "ticks": ""
            },
            "colorscale": [
             [
              0,
              "#0d0887"
             ],
             [
              0.1111111111111111,
              "#46039f"
             ],
             [
              0.2222222222222222,
              "#7201a8"
             ],
             [
              0.3333333333333333,
              "#9c179e"
             ],
             [
              0.4444444444444444,
              "#bd3786"
             ],
             [
              0.5555555555555556,
              "#d8576b"
             ],
             [
              0.6666666666666666,
              "#ed7953"
             ],
             [
              0.7777777777777778,
              "#fb9f3a"
             ],
             [
              0.8888888888888888,
              "#fdca26"
             ],
             [
              1,
              "#f0f921"
             ]
            ],
            "type": "histogram2dcontour"
           }
          ],
          "mesh3d": [
           {
            "colorbar": {
             "outlinewidth": 0,
             "ticks": ""
            },
            "type": "mesh3d"
           }
          ],
          "parcoords": [
           {
            "line": {
             "colorbar": {
              "outlinewidth": 0,
              "ticks": ""
             }
            },
            "type": "parcoords"
           }
          ],
          "pie": [
           {
            "automargin": true,
            "type": "pie"
           }
          ],
          "scatter": [
           {
            "marker": {
             "line": {
              "color": "#283442"
             }
            },
            "type": "scatter"
           }
          ],
          "scatter3d": [
           {
            "line": {
             "colorbar": {
              "outlinewidth": 0,
              "ticks": ""
             }
            },
            "marker": {
             "colorbar": {
              "outlinewidth": 0,
              "ticks": ""
             }
            },
            "type": "scatter3d"
           }
          ],
          "scattercarpet": [
           {
            "marker": {
             "colorbar": {
              "outlinewidth": 0,
              "ticks": ""
             }
            },
            "type": "scattercarpet"
           }
          ],
          "scattergeo": [
           {
            "marker": {
             "colorbar": {
              "outlinewidth": 0,
              "ticks": ""
             }
            },
            "type": "scattergeo"
           }
          ],
          "scattergl": [
           {
            "marker": {
             "line": {
              "color": "#283442"
             }
            },
            "type": "scattergl"
           }
          ],
          "scattermapbox": [
           {
            "marker": {
             "colorbar": {
              "outlinewidth": 0,
              "ticks": ""
             }
            },
            "type": "scattermapbox"
           }
          ],
          "scatterpolar": [
           {
            "marker": {
             "colorbar": {
              "outlinewidth": 0,
              "ticks": ""
             }
            },
            "type": "scatterpolar"
           }
          ],
          "scatterpolargl": [
           {
            "marker": {
             "colorbar": {
              "outlinewidth": 0,
              "ticks": ""
             }
            },
            "type": "scatterpolargl"
           }
          ],
          "scatterternary": [
           {
            "marker": {
             "colorbar": {
              "outlinewidth": 0,
              "ticks": ""
             }
            },
            "type": "scatterternary"
           }
          ],
          "surface": [
           {
            "colorbar": {
             "outlinewidth": 0,
             "ticks": ""
            },
            "colorscale": [
             [
              0,
              "#0d0887"
             ],
             [
              0.1111111111111111,
              "#46039f"
             ],
             [
              0.2222222222222222,
              "#7201a8"
             ],
             [
              0.3333333333333333,
              "#9c179e"
             ],
             [
              0.4444444444444444,
              "#bd3786"
             ],
             [
              0.5555555555555556,
              "#d8576b"
             ],
             [
              0.6666666666666666,
              "#ed7953"
             ],
             [
              0.7777777777777778,
              "#fb9f3a"
             ],
             [
              0.8888888888888888,
              "#fdca26"
             ],
             [
              1,
              "#f0f921"
             ]
            ],
            "type": "surface"
           }
          ],
          "table": [
           {
            "cells": {
             "fill": {
              "color": "#506784"
             },
             "line": {
              "color": "rgb(17,17,17)"
             }
            },
            "header": {
             "fill": {
              "color": "#2a3f5f"
             },
             "line": {
              "color": "rgb(17,17,17)"
             }
            },
            "type": "table"
           }
          ]
         },
         "layout": {
          "annotationdefaults": {
           "arrowcolor": "#f2f5fa",
           "arrowhead": 0,
           "arrowwidth": 1
          },
          "autotypenumbers": "strict",
          "coloraxis": {
           "colorbar": {
            "outlinewidth": 0,
            "ticks": ""
           }
          },
          "colorscale": {
           "diverging": [
            [
             0,
             "#8e0152"
            ],
            [
             0.1,
             "#c51b7d"
            ],
            [
             0.2,
             "#de77ae"
            ],
            [
             0.3,
             "#f1b6da"
            ],
            [
             0.4,
             "#fde0ef"
            ],
            [
             0.5,
             "#f7f7f7"
            ],
            [
             0.6,
             "#e6f5d0"
            ],
            [
             0.7,
             "#b8e186"
            ],
            [
             0.8,
             "#7fbc41"
            ],
            [
             0.9,
             "#4d9221"
            ],
            [
             1,
             "#276419"
            ]
           ],
           "sequential": [
            [
             0,
             "#0d0887"
            ],
            [
             0.1111111111111111,
             "#46039f"
            ],
            [
             0.2222222222222222,
             "#7201a8"
            ],
            [
             0.3333333333333333,
             "#9c179e"
            ],
            [
             0.4444444444444444,
             "#bd3786"
            ],
            [
             0.5555555555555556,
             "#d8576b"
            ],
            [
             0.6666666666666666,
             "#ed7953"
            ],
            [
             0.7777777777777778,
             "#fb9f3a"
            ],
            [
             0.8888888888888888,
             "#fdca26"
            ],
            [
             1,
             "#f0f921"
            ]
           ],
           "sequentialminus": [
            [
             0,
             "#0d0887"
            ],
            [
             0.1111111111111111,
             "#46039f"
            ],
            [
             0.2222222222222222,
             "#7201a8"
            ],
            [
             0.3333333333333333,
             "#9c179e"
            ],
            [
             0.4444444444444444,
             "#bd3786"
            ],
            [
             0.5555555555555556,
             "#d8576b"
            ],
            [
             0.6666666666666666,
             "#ed7953"
            ],
            [
             0.7777777777777778,
             "#fb9f3a"
            ],
            [
             0.8888888888888888,
             "#fdca26"
            ],
            [
             1,
             "#f0f921"
            ]
           ]
          },
          "colorway": [
           "#636efa",
           "#EF553B",
           "#00cc96",
           "#ab63fa",
           "#FFA15A",
           "#19d3f3",
           "#FF6692",
           "#B6E880",
           "#FF97FF",
           "#FECB52"
          ],
          "font": {
           "color": "#f2f5fa"
          },
          "geo": {
           "bgcolor": "rgb(17,17,17)",
           "lakecolor": "rgb(17,17,17)",
           "landcolor": "rgb(17,17,17)",
           "showlakes": true,
           "showland": true,
           "subunitcolor": "#506784"
          },
          "hoverlabel": {
           "align": "left"
          },
          "hovermode": "closest",
          "mapbox": {
           "style": "dark"
          },
          "paper_bgcolor": "rgb(17,17,17)",
          "plot_bgcolor": "rgb(17,17,17)",
          "polar": {
           "angularaxis": {
            "gridcolor": "#506784",
            "linecolor": "#506784",
            "ticks": ""
           },
           "bgcolor": "rgb(17,17,17)",
           "radialaxis": {
            "gridcolor": "#506784",
            "linecolor": "#506784",
            "ticks": ""
           }
          },
          "scene": {
           "xaxis": {
            "backgroundcolor": "rgb(17,17,17)",
            "gridcolor": "#506784",
            "gridwidth": 2,
            "linecolor": "#506784",
            "showbackground": true,
            "ticks": "",
            "zerolinecolor": "#C8D4E3"
           },
           "yaxis": {
            "backgroundcolor": "rgb(17,17,17)",
            "gridcolor": "#506784",
            "gridwidth": 2,
            "linecolor": "#506784",
            "showbackground": true,
            "ticks": "",
            "zerolinecolor": "#C8D4E3"
           },
           "zaxis": {
            "backgroundcolor": "rgb(17,17,17)",
            "gridcolor": "#506784",
            "gridwidth": 2,
            "linecolor": "#506784",
            "showbackground": true,
            "ticks": "",
            "zerolinecolor": "#C8D4E3"
           }
          },
          "shapedefaults": {
           "line": {
            "color": "#f2f5fa"
           }
          },
          "sliderdefaults": {
           "bgcolor": "#C8D4E3",
           "bordercolor": "rgb(17,17,17)",
           "borderwidth": 1,
           "tickwidth": 0
          },
          "ternary": {
           "aaxis": {
            "gridcolor": "#506784",
            "linecolor": "#506784",
            "ticks": ""
           },
           "baxis": {
            "gridcolor": "#506784",
            "linecolor": "#506784",
            "ticks": ""
           },
           "bgcolor": "rgb(17,17,17)",
           "caxis": {
            "gridcolor": "#506784",
            "linecolor": "#506784",
            "ticks": ""
           }
          },
          "title": {
           "x": 0.05
          },
          "updatemenudefaults": {
           "bgcolor": "#506784",
           "borderwidth": 0
          },
          "xaxis": {
           "automargin": true,
           "gridcolor": "#283442",
           "linecolor": "#506784",
           "ticks": "",
           "title": {
            "standoff": 15
           },
           "zerolinecolor": "#283442",
           "zerolinewidth": 2
          },
          "yaxis": {
           "automargin": true,
           "gridcolor": "#283442",
           "linecolor": "#506784",
           "ticks": "",
           "title": {
            "standoff": 15
           },
           "zerolinecolor": "#283442",
           "zerolinewidth": 2
          }
         }
        }
       }
      }
     },
     "metadata": {},
     "output_type": "display_data"
    }
   ],
   "source": [
    "x = [2,3,-1]\n",
    "n = MLP(3,[4, 4, 1])\n",
    "n(x)\n",
    "\n",
    "draw_graph(n(x)[0])\n",
    "\n"
   ]
  },
  {
   "cell_type": "code",
   "execution_count": 153,
   "metadata": {},
   "outputs": [
    {
     "name": "stdout",
     "output_type": "stream",
     "text": [
      "[Value(0.4542069349289467, ), Value(-0.15673021275560195, ), Value(-0.47424213042392616, ), Value(-0.26340178536793224, )]\n"
     ]
    }
   ],
   "source": [
    "#Loss Function\n",
    "\n",
    "#Say we have these inputs \n",
    "xs = [[2,3,-1],[3,-1,.5],[.5,1,1],[1,1,-1]]\n",
    "\n",
    "#And we want these outputs\n",
    "ys = [1,-1,-1,1]\n",
    "\n",
    "#Right now we have \n",
    "ypred = [n(x)[0] for x in xs]\n",
    "print(ypred)\n",
    "\n",
    "#We want to minimize the loss function "
   ]
  },
  {
   "cell_type": "code",
   "execution_count": 155,
   "metadata": {},
   "outputs": [
    {
     "data": {
      "text/plain": [
       "41"
      ]
     },
     "execution_count": 155,
     "metadata": {},
     "output_type": "execute_result"
    }
   ],
   "source": [
    "#Mean Squared Error\n",
    "def mse(y,ypred):\n",
    "    mse = []\n",
    "    for ygt, yOut in zip(y,ypred):\n",
    "        #Distance from ground truth squared = MSE \n",
    "        mse.append( (ygt - yOut)**2 )\n",
    "\n",
    "        \n",
    "\n",
    "    return sum(mse)\n",
    "\n",
    "loss = mse(ys,ypred)\n",
    "\n",
    "loss.backwards()\n",
    "\n",
    "len( n.parameters() )"
   ]
  },
  {
   "cell_type": "code",
   "execution_count": 144,
   "metadata": {},
   "outputs": [
    {
     "data": {
      "text/plain": [
       "0.2888731551405782"
      ]
     },
     "execution_count": 144,
     "metadata": {},
     "output_type": "execute_result"
    }
   ],
   "source": [
    "n.layers[0].neurons[0].w[0].grad #Gradient of first weight in first neuron in first layer\n",
    "#Slightly decreasing this would make the loss smaller (cause its calculated with respect to loss)"
   ]
  },
  {
   "cell_type": "code",
   "execution_count": 297,
   "metadata": {},
   "outputs": [
    {
     "name": "stdout",
     "output_type": "stream",
     "text": [
      "Loss= 12.0\n",
      "[Value(-1.0, ), Value(1.0, ), Value(-1.0, ), Value(-1.0, )]\n"
     ]
    }
   ],
   "source": [
    "yPred = [n(x)[0] for x in xs]\n",
    "loss = mse(ys,yPred)\n",
    "loss.backwards()\n",
    "print(\"Loss=\",loss.data)\n",
    "print(yPred)\n",
    "for p in n.parameters():\n",
    "    p.data -= .001*p.grad\n"
   ]
  }
 ],
 "metadata": {
  "kernelspec": {
   "display_name": "Python 3.10.6 64-bit",
   "language": "python",
   "name": "python3"
  },
  "language_info": {
   "codemirror_mode": {
    "name": "ipython",
    "version": 3
   },
   "file_extension": ".py",
   "mimetype": "text/x-python",
   "name": "python",
   "nbconvert_exporter": "python",
   "pygments_lexer": "ipython3",
   "version": "3.10.6"
  },
  "orig_nbformat": 4,
  "vscode": {
   "interpreter": {
    "hash": "aee8b7b246df8f9039afb4144a1f6fd8d2ca17a180786b69acc140d282b71a49"
   }
  }
 },
 "nbformat": 4,
 "nbformat_minor": 2
}
