{
 "cells": [
  {
   "cell_type": "code",
   "execution_count": 44,
   "metadata": {},
   "outputs": [],
   "source": [
    "import math \n",
    "import numpy as np \n",
    "import plotly.express as px \n",
    "import plotly.io as pio\n",
    "import plotly.graph_objects as go\n",
    "import matplotlib.pyplot as plt\n",
    "import random\n",
    "\n",
    "%matplotlib inline\n",
    "pio.templates.default = \"plotly_dark\""
   ]
  },
  {
   "cell_type": "code",
   "execution_count": 6,
   "metadata": {},
   "outputs": [
    {
     "data": {
      "application/vnd.plotly.v1+json": {
       "config": {
        "plotlyServerURL": "https://plot.ly"
       },
       "data": [
        {
         "hovertemplate": "x=%{x}<br>y=%{y}<extra></extra>",
         "legendgroup": "",
         "line": {
          "color": "#636efa",
          "dash": "solid"
         },
         "marker": {
          "symbol": "circle"
         },
         "mode": "lines",
         "name": "",
         "orientation": "v",
         "showlegend": false,
         "type": "scatter",
         "x": [
          -5,
          -4.75,
          -4.5,
          -4.25,
          -4,
          -3.75,
          -3.5,
          -3.25,
          -3,
          -2.75,
          -2.5,
          -2.25,
          -2,
          -1.75,
          -1.5,
          -1.25,
          -1,
          -0.75,
          -0.5,
          -0.25,
          0,
          0.25,
          0.5,
          0.75,
          1,
          1.25,
          1.5,
          1.75,
          2,
          2.25,
          2.5,
          2.75,
          3,
          3.25,
          3.5,
          3.75,
          4,
          4.25,
          4.5,
          4.75
         ],
         "xaxis": "x",
         "y": [
          100,
          91.6875,
          83.75,
          76.1875,
          69,
          62.1875,
          55.75,
          49.6875,
          44,
          38.6875,
          33.75,
          29.1875,
          25,
          21.1875,
          17.75,
          14.6875,
          12,
          9.6875,
          7.75,
          6.1875,
          5,
          4.1875,
          3.75,
          3.6875,
          4,
          4.6875,
          5.75,
          7.1875,
          9,
          11.1875,
          13.75,
          16.6875,
          20,
          23.6875,
          27.75,
          32.1875,
          37,
          42.1875,
          47.75,
          53.6875
         ],
         "yaxis": "y"
        }
       ],
       "layout": {
        "legend": {
         "tracegroupgap": 0
        },
        "margin": {
         "t": 60
        },
        "template": {
         "data": {
          "bar": [
           {
            "error_x": {
             "color": "#f2f5fa"
            },
            "error_y": {
             "color": "#f2f5fa"
            },
            "marker": {
             "line": {
              "color": "rgb(17,17,17)",
              "width": 0.5
             },
             "pattern": {
              "fillmode": "overlay",
              "size": 10,
              "solidity": 0.2
             }
            },
            "type": "bar"
           }
          ],
          "barpolar": [
           {
            "marker": {
             "line": {
              "color": "rgb(17,17,17)",
              "width": 0.5
             },
             "pattern": {
              "fillmode": "overlay",
              "size": 10,
              "solidity": 0.2
             }
            },
            "type": "barpolar"
           }
          ],
          "carpet": [
           {
            "aaxis": {
             "endlinecolor": "#A2B1C6",
             "gridcolor": "#506784",
             "linecolor": "#506784",
             "minorgridcolor": "#506784",
             "startlinecolor": "#A2B1C6"
            },
            "baxis": {
             "endlinecolor": "#A2B1C6",
             "gridcolor": "#506784",
             "linecolor": "#506784",
             "minorgridcolor": "#506784",
             "startlinecolor": "#A2B1C6"
            },
            "type": "carpet"
           }
          ],
          "choropleth": [
           {
            "colorbar": {
             "outlinewidth": 0,
             "ticks": ""
            },
            "type": "choropleth"
           }
          ],
          "contour": [
           {
            "colorbar": {
             "outlinewidth": 0,
             "ticks": ""
            },
            "colorscale": [
             [
              0,
              "#0d0887"
             ],
             [
              0.1111111111111111,
              "#46039f"
             ],
             [
              0.2222222222222222,
              "#7201a8"
             ],
             [
              0.3333333333333333,
              "#9c179e"
             ],
             [
              0.4444444444444444,
              "#bd3786"
             ],
             [
              0.5555555555555556,
              "#d8576b"
             ],
             [
              0.6666666666666666,
              "#ed7953"
             ],
             [
              0.7777777777777778,
              "#fb9f3a"
             ],
             [
              0.8888888888888888,
              "#fdca26"
             ],
             [
              1,
              "#f0f921"
             ]
            ],
            "type": "contour"
           }
          ],
          "contourcarpet": [
           {
            "colorbar": {
             "outlinewidth": 0,
             "ticks": ""
            },
            "type": "contourcarpet"
           }
          ],
          "heatmap": [
           {
            "colorbar": {
             "outlinewidth": 0,
             "ticks": ""
            },
            "colorscale": [
             [
              0,
              "#0d0887"
             ],
             [
              0.1111111111111111,
              "#46039f"
             ],
             [
              0.2222222222222222,
              "#7201a8"
             ],
             [
              0.3333333333333333,
              "#9c179e"
             ],
             [
              0.4444444444444444,
              "#bd3786"
             ],
             [
              0.5555555555555556,
              "#d8576b"
             ],
             [
              0.6666666666666666,
              "#ed7953"
             ],
             [
              0.7777777777777778,
              "#fb9f3a"
             ],
             [
              0.8888888888888888,
              "#fdca26"
             ],
             [
              1,
              "#f0f921"
             ]
            ],
            "type": "heatmap"
           }
          ],
          "heatmapgl": [
           {
            "colorbar": {
             "outlinewidth": 0,
             "ticks": ""
            },
            "colorscale": [
             [
              0,
              "#0d0887"
             ],
             [
              0.1111111111111111,
              "#46039f"
             ],
             [
              0.2222222222222222,
              "#7201a8"
             ],
             [
              0.3333333333333333,
              "#9c179e"
             ],
             [
              0.4444444444444444,
              "#bd3786"
             ],
             [
              0.5555555555555556,
              "#d8576b"
             ],
             [
              0.6666666666666666,
              "#ed7953"
             ],
             [
              0.7777777777777778,
              "#fb9f3a"
             ],
             [
              0.8888888888888888,
              "#fdca26"
             ],
             [
              1,
              "#f0f921"
             ]
            ],
            "type": "heatmapgl"
           }
          ],
          "histogram": [
           {
            "marker": {
             "pattern": {
              "fillmode": "overlay",
              "size": 10,
              "solidity": 0.2
             }
            },
            "type": "histogram"
           }
          ],
          "histogram2d": [
           {
            "colorbar": {
             "outlinewidth": 0,
             "ticks": ""
            },
            "colorscale": [
             [
              0,
              "#0d0887"
             ],
             [
              0.1111111111111111,
              "#46039f"
             ],
             [
              0.2222222222222222,
              "#7201a8"
             ],
             [
              0.3333333333333333,
              "#9c179e"
             ],
             [
              0.4444444444444444,
              "#bd3786"
             ],
             [
              0.5555555555555556,
              "#d8576b"
             ],
             [
              0.6666666666666666,
              "#ed7953"
             ],
             [
              0.7777777777777778,
              "#fb9f3a"
             ],
             [
              0.8888888888888888,
              "#fdca26"
             ],
             [
              1,
              "#f0f921"
             ]
            ],
            "type": "histogram2d"
           }
          ],
          "histogram2dcontour": [
           {
            "colorbar": {
             "outlinewidth": 0,
             "ticks": ""
            },
            "colorscale": [
             [
              0,
              "#0d0887"
             ],
             [
              0.1111111111111111,
              "#46039f"
             ],
             [
              0.2222222222222222,
              "#7201a8"
             ],
             [
              0.3333333333333333,
              "#9c179e"
             ],
             [
              0.4444444444444444,
              "#bd3786"
             ],
             [
              0.5555555555555556,
              "#d8576b"
             ],
             [
              0.6666666666666666,
              "#ed7953"
             ],
             [
              0.7777777777777778,
              "#fb9f3a"
             ],
             [
              0.8888888888888888,
              "#fdca26"
             ],
             [
              1,
              "#f0f921"
             ]
            ],
            "type": "histogram2dcontour"
           }
          ],
          "mesh3d": [
           {
            "colorbar": {
             "outlinewidth": 0,
             "ticks": ""
            },
            "type": "mesh3d"
           }
          ],
          "parcoords": [
           {
            "line": {
             "colorbar": {
              "outlinewidth": 0,
              "ticks": ""
             }
            },
            "type": "parcoords"
           }
          ],
          "pie": [
           {
            "automargin": true,
            "type": "pie"
           }
          ],
          "scatter": [
           {
            "marker": {
             "line": {
              "color": "#283442"
             }
            },
            "type": "scatter"
           }
          ],
          "scatter3d": [
           {
            "line": {
             "colorbar": {
              "outlinewidth": 0,
              "ticks": ""
             }
            },
            "marker": {
             "colorbar": {
              "outlinewidth": 0,
              "ticks": ""
             }
            },
            "type": "scatter3d"
           }
          ],
          "scattercarpet": [
           {
            "marker": {
             "colorbar": {
              "outlinewidth": 0,
              "ticks": ""
             }
            },
            "type": "scattercarpet"
           }
          ],
          "scattergeo": [
           {
            "marker": {
             "colorbar": {
              "outlinewidth": 0,
              "ticks": ""
             }
            },
            "type": "scattergeo"
           }
          ],
          "scattergl": [
           {
            "marker": {
             "line": {
              "color": "#283442"
             }
            },
            "type": "scattergl"
           }
          ],
          "scattermapbox": [
           {
            "marker": {
             "colorbar": {
              "outlinewidth": 0,
              "ticks": ""
             }
            },
            "type": "scattermapbox"
           }
          ],
          "scatterpolar": [
           {
            "marker": {
             "colorbar": {
              "outlinewidth": 0,
              "ticks": ""
             }
            },
            "type": "scatterpolar"
           }
          ],
          "scatterpolargl": [
           {
            "marker": {
             "colorbar": {
              "outlinewidth": 0,
              "ticks": ""
             }
            },
            "type": "scatterpolargl"
           }
          ],
          "scatterternary": [
           {
            "marker": {
             "colorbar": {
              "outlinewidth": 0,
              "ticks": ""
             }
            },
            "type": "scatterternary"
           }
          ],
          "surface": [
           {
            "colorbar": {
             "outlinewidth": 0,
             "ticks": ""
            },
            "colorscale": [
             [
              0,
              "#0d0887"
             ],
             [
              0.1111111111111111,
              "#46039f"
             ],
             [
              0.2222222222222222,
              "#7201a8"
             ],
             [
              0.3333333333333333,
              "#9c179e"
             ],
             [
              0.4444444444444444,
              "#bd3786"
             ],
             [
              0.5555555555555556,
              "#d8576b"
             ],
             [
              0.6666666666666666,
              "#ed7953"
             ],
             [
              0.7777777777777778,
              "#fb9f3a"
             ],
             [
              0.8888888888888888,
              "#fdca26"
             ],
             [
              1,
              "#f0f921"
             ]
            ],
            "type": "surface"
           }
          ],
          "table": [
           {
            "cells": {
             "fill": {
              "color": "#506784"
             },
             "line": {
              "color": "rgb(17,17,17)"
             }
            },
            "header": {
             "fill": {
              "color": "#2a3f5f"
             },
             "line": {
              "color": "rgb(17,17,17)"
             }
            },
            "type": "table"
           }
          ]
         },
         "layout": {
          "annotationdefaults": {
           "arrowcolor": "#f2f5fa",
           "arrowhead": 0,
           "arrowwidth": 1
          },
          "autotypenumbers": "strict",
          "coloraxis": {
           "colorbar": {
            "outlinewidth": 0,
            "ticks": ""
           }
          },
          "colorscale": {
           "diverging": [
            [
             0,
             "#8e0152"
            ],
            [
             0.1,
             "#c51b7d"
            ],
            [
             0.2,
             "#de77ae"
            ],
            [
             0.3,
             "#f1b6da"
            ],
            [
             0.4,
             "#fde0ef"
            ],
            [
             0.5,
             "#f7f7f7"
            ],
            [
             0.6,
             "#e6f5d0"
            ],
            [
             0.7,
             "#b8e186"
            ],
            [
             0.8,
             "#7fbc41"
            ],
            [
             0.9,
             "#4d9221"
            ],
            [
             1,
             "#276419"
            ]
           ],
           "sequential": [
            [
             0,
             "#0d0887"
            ],
            [
             0.1111111111111111,
             "#46039f"
            ],
            [
             0.2222222222222222,
             "#7201a8"
            ],
            [
             0.3333333333333333,
             "#9c179e"
            ],
            [
             0.4444444444444444,
             "#bd3786"
            ],
            [
             0.5555555555555556,
             "#d8576b"
            ],
            [
             0.6666666666666666,
             "#ed7953"
            ],
            [
             0.7777777777777778,
             "#fb9f3a"
            ],
            [
             0.8888888888888888,
             "#fdca26"
            ],
            [
             1,
             "#f0f921"
            ]
           ],
           "sequentialminus": [
            [
             0,
             "#0d0887"
            ],
            [
             0.1111111111111111,
             "#46039f"
            ],
            [
             0.2222222222222222,
             "#7201a8"
            ],
            [
             0.3333333333333333,
             "#9c179e"
            ],
            [
             0.4444444444444444,
             "#bd3786"
            ],
            [
             0.5555555555555556,
             "#d8576b"
            ],
            [
             0.6666666666666666,
             "#ed7953"
            ],
            [
             0.7777777777777778,
             "#fb9f3a"
            ],
            [
             0.8888888888888888,
             "#fdca26"
            ],
            [
             1,
             "#f0f921"
            ]
           ]
          },
          "colorway": [
           "#636efa",
           "#EF553B",
           "#00cc96",
           "#ab63fa",
           "#FFA15A",
           "#19d3f3",
           "#FF6692",
           "#B6E880",
           "#FF97FF",
           "#FECB52"
          ],
          "font": {
           "color": "#f2f5fa"
          },
          "geo": {
           "bgcolor": "rgb(17,17,17)",
           "lakecolor": "rgb(17,17,17)",
           "landcolor": "rgb(17,17,17)",
           "showlakes": true,
           "showland": true,
           "subunitcolor": "#506784"
          },
          "hoverlabel": {
           "align": "left"
          },
          "hovermode": "closest",
          "mapbox": {
           "style": "dark"
          },
          "paper_bgcolor": "rgb(17,17,17)",
          "plot_bgcolor": "rgb(17,17,17)",
          "polar": {
           "angularaxis": {
            "gridcolor": "#506784",
            "linecolor": "#506784",
            "ticks": ""
           },
           "bgcolor": "rgb(17,17,17)",
           "radialaxis": {
            "gridcolor": "#506784",
            "linecolor": "#506784",
            "ticks": ""
           }
          },
          "scene": {
           "xaxis": {
            "backgroundcolor": "rgb(17,17,17)",
            "gridcolor": "#506784",
            "gridwidth": 2,
            "linecolor": "#506784",
            "showbackground": true,
            "ticks": "",
            "zerolinecolor": "#C8D4E3"
           },
           "yaxis": {
            "backgroundcolor": "rgb(17,17,17)",
            "gridcolor": "#506784",
            "gridwidth": 2,
            "linecolor": "#506784",
            "showbackground": true,
            "ticks": "",
            "zerolinecolor": "#C8D4E3"
           },
           "zaxis": {
            "backgroundcolor": "rgb(17,17,17)",
            "gridcolor": "#506784",
            "gridwidth": 2,
            "linecolor": "#506784",
            "showbackground": true,
            "ticks": "",
            "zerolinecolor": "#C8D4E3"
           }
          },
          "shapedefaults": {
           "line": {
            "color": "#f2f5fa"
           }
          },
          "sliderdefaults": {
           "bgcolor": "#C8D4E3",
           "bordercolor": "rgb(17,17,17)",
           "borderwidth": 1,
           "tickwidth": 0
          },
          "ternary": {
           "aaxis": {
            "gridcolor": "#506784",
            "linecolor": "#506784",
            "ticks": ""
           },
           "baxis": {
            "gridcolor": "#506784",
            "linecolor": "#506784",
            "ticks": ""
           },
           "bgcolor": "rgb(17,17,17)",
           "caxis": {
            "gridcolor": "#506784",
            "linecolor": "#506784",
            "ticks": ""
           }
          },
          "title": {
           "x": 0.05
          },
          "updatemenudefaults": {
           "bgcolor": "#506784",
           "borderwidth": 0
          },
          "xaxis": {
           "automargin": true,
           "gridcolor": "#283442",
           "linecolor": "#506784",
           "ticks": "",
           "title": {
            "standoff": 15
           },
           "zerolinecolor": "#283442",
           "zerolinewidth": 2
          },
          "yaxis": {
           "automargin": true,
           "gridcolor": "#283442",
           "linecolor": "#506784",
           "ticks": "",
           "title": {
            "standoff": 15
           },
           "zerolinecolor": "#283442",
           "zerolinewidth": 2
          }
         }
        },
        "xaxis": {
         "anchor": "y",
         "domain": [
          0,
          1
         ],
         "title": {
          "text": "x"
         }
        },
        "yaxis": {
         "anchor": "x",
         "domain": [
          0,
          1
         ],
         "title": {
          "text": "y"
         }
        }
       }
      }
     },
     "metadata": {},
     "output_type": "display_data"
    }
   ],
   "source": [
    "#Part 1- Derivatives\n",
    "\n",
    "def f(x):\n",
    "    return 3*x**2 - 4*x + 5\n",
    "\n",
    "#Plot f(x) btween -5 and 5 in steps of .25 using plotly \n",
    "x = np.arange(-5,5,.25)\n",
    "y = f(x)\n",
    "fig = px.line(x=x,y=y)\n",
    "fig.show()\n"
   ]
  },
  {
   "cell_type": "code",
   "execution_count": 7,
   "metadata": {},
   "outputs": [
    {
     "name": "stdout",
     "output_type": "stream",
     "text": [
      "Derivative at x=3 is:  13.997691894473974\n"
     ]
    }
   ],
   "source": [
    "#In neural nets, we dont calculate derivatives by hand (symbollically) \n",
    "#Derivative Definition:\n",
    "#L = lim h->0 (f(x+h) - f(x))/h\n",
    "\n",
    "h = 1E-13 #Something small\n",
    "x = 3\n",
    "derivative = (f(x+h) - f(x))/h\n",
    "print(\"Derivative at x=3 is: \", derivative)"
   ]
  },
  {
   "cell_type": "code",
   "execution_count": 298,
   "metadata": {},
   "outputs": [],
   "source": [
    "#Create a class \"Value\" that stores a value\n",
    "class Value:\n",
    "    def __init__(self, data, label = '', _children=(), _op=''): #Double underscore methods are called \"magic methods\"\n",
    "        self.data = data\n",
    "        self._prev = list(_children)\n",
    "        self._op = _op\n",
    "        self.grad = 0 \n",
    "        self.label = label\n",
    "\n",
    "    def __repr__(self):\n",
    "        return f\"Value({ self.data}, {self.label})\"\n",
    "\n",
    "    def __add__(self, other): #Called when we use the \"+\" operator\n",
    "        if not isinstance(other, Value):\n",
    "            other = Value(other)\n",
    "        return Value(self.data+other.data, _children=(self,other), _op='+')\n",
    "\n",
    "    def __radd__(self, other):\n",
    "        return self + other\n",
    "\n",
    "    def __sub__(self, other):\n",
    "        if not isinstance(other, Value):\n",
    "            other = Value(other)\n",
    "        return Value(self.data-other.data, _children=(self,other), _op='-')\n",
    "\n",
    "    def __rsub__(self, other):\n",
    "        return self - other\n",
    "\n",
    "    def __mul__(self, other): #Called when we use the \"*\" operator\n",
    "        #If its a number, create a new Value object\n",
    "        if not isinstance(other, Value):\n",
    "            other = Value(other)\n",
    "\n",
    "        return Value(self.data*other.data, _children = (self, other), _op='*')\n",
    "\n",
    "    def __pow__(self,other):\n",
    "        if not isinstance(other, Value):\n",
    "            other = Value(other)\n",
    "        return Value(self.data**other.data, _children=(self,other), _op='**')\n",
    "\n",
    "    def __truediv__(self, other):\n",
    "        if not isinstance(other, Value):\n",
    "            other = Value(other)\n",
    "\n",
    "        return Value(self.data/other.data, _children=(self,other), _op='/')\n",
    "\n",
    "    def __rmul__(self, other): #other * self\n",
    "        return self*other\n",
    "\n",
    "    def tanh(self):\n",
    "        return Value(math.tanh(self.data), _children=(self,), _op='tanh')\n",
    "\n",
    "    def exp(self):\n",
    "        return Value(math.exp(self.data), _children=(self,), _op='exp')\n",
    "\n",
    "\n",
    "    #Backward pass\n",
    "    def backwards(self, prevGrad = 1, prevOp = '', prevOther = 1):\n",
    "        \n",
    "        if prevOp == '*':\n",
    "            self.grad += prevGrad*prevOther\n",
    "        elif prevOp == \"+\":\n",
    "            self.grad += prevGrad\n",
    "        elif prevOp == \"-\":\n",
    "            self.grad -= prevGrad\n",
    "        elif prevOp == 'tanh':\n",
    "            self.grad += (1 - prevOther**2)*prevGrad\n",
    "        elif prevOp == 'exp':\n",
    "            self.grad += math.exp(self.data)*prevGrad\n",
    "        elif prevOp == '**':\n",
    "            self.grad += prevOther*prevGrad*self.data**(prevOther-1)\n",
    "        elif prevOp == '/':\n",
    "            self.grad += (1/prevOther.data)*prevGrad\n",
    "\n",
    "\n",
    "        else:\n",
    "            self.grad += 1\n",
    "\n",
    "        if not self._prev:\n",
    "            return \n",
    "\n",
    "        prev2 = self._prev[1] if len(self._prev) > 1 else self \n",
    "\n",
    "        self._prev[0].backwards(self.grad,self._op,prev2.data) \n",
    "        if prev2 != self:\n",
    "            self._prev[1].backwards(self.grad,self._op,self._prev[0].data) \n"
   ]
  },
  {
   "cell_type": "markdown",
   "metadata": {},
   "source": [
    "Chain Rule\n",
    "----------\n",
    "The chain rule is a fundamental rule in calculus that allows us to compute the derivative of a function that is composed of other functions. For example, if we have a function f(x) = g(h(x)), then the derivative of f with respect to x is given by:\n",
    "\n",
    "$$\\frac{dz}{dx} = \\frac{dz}{dy} \\frac{dy}{dx}$$\n"
   ]
  },
  {
   "cell_type": "code",
   "execution_count": 9,
   "metadata": {},
   "outputs": [],
   "source": [
    "from graphviz import Digraph\n",
    "\n",
    "def trace(root):\n",
    "  # builds a set of all nodes and edges in a graph\n",
    "  nodes, edges = set(), set()\n",
    "  def build(v):\n",
    "    if v not in nodes:\n",
    "      nodes.add(v)\n",
    "      for child in v._prev:\n",
    "        edges.add((child, v))\n",
    "        build(child)\n",
    "  build(root)\n",
    "  return nodes, edges\n",
    "\n",
    "def draw_dot(root):\n",
    "  dot = Digraph(format='svg', graph_attr={'rankdir': 'LR'}) # LR = left to right\n",
    "  \n",
    "  nodes, edges = trace(root)\n",
    "  for n in nodes:\n",
    "    uid = str(id(n))\n",
    "    # for any value in the graph, create a rectangular ('record') node for it\n",
    "    dot.node(name = uid, label = \"{ %s | data %.4f | grad %.4f }\" % ('', n.data, n.grad), shape='record')\n",
    "    if n._op:\n",
    "      # if this value is a result of some operation, create an op node for it\n",
    "      dot.node(name = uid + n._op, label = n._op)\n",
    "      # and connect this node to it\n",
    "      dot.edge(uid + n._op, uid)\n",
    "\n",
    "  for n1, n2 in edges:\n",
    "    # connect n1 to the op node of n2\n",
    "    dot.edge(str(id(n1)), str(id(n2)) + n2._op)\n",
    "\n",
    "  return dot\n"
   ]
  },
  {
   "cell_type": "code",
   "execution_count": 10,
   "metadata": {},
   "outputs": [
    {
     "name": "stdout",
     "output_type": "stream",
     "text": [
      "True\n"
     ]
    }
   ],
   "source": [
    "a = Value(1,'a')\n",
    "b = Value(7,'b') \n",
    "c = a + b \n",
    "c.label = 'c'\n",
    "d = Value(3,'d')\n",
    "e = c * d ; e.label = 'e'\n",
    "\n",
    "e.backwards()"
   ]
  },
  {
   "cell_type": "code",
   "execution_count": 113,
   "metadata": {},
   "outputs": [],
   "source": [
    "#Given a first node, generate a graph of the entire computation graph using plotly\n",
    "import networkx as nx\n",
    "\n",
    "def draw_graph(root):\n",
    "    nodes, edges = trace(root)\n",
    "    \n",
    "\n",
    "    G = nx.DiGraph()\n",
    "    G.add_nodes_from(nodes)\n",
    "    G.add_edges_from(edges)\n",
    "\n",
    "    pos = nx.spring_layout(G)\n",
    "    \n",
    "    node_x = []\n",
    "    node_y = []\n",
    "\n",
    "    node_label = []\n",
    "    node_value = []\n",
    "\n",
    "    for node in G.nodes():\n",
    "        x, y = pos[node]\n",
    "        node_x.append(x)\n",
    "        node_y.append(y)\n",
    "        node_label.append(node.label)\n",
    "        node_value.append(node.data)\n",
    "\n",
    "    node_trace = go.Scatter(\n",
    "        x=node_x, y=node_y,\n",
    "        mode='markers+text',\n",
    "        hoverinfo='text',\n",
    "        text=node_label,\n",
    "\n",
    "        marker=dict(\n",
    "            size = 20,\n",
    "            color = \"darkblue\",\n",
    "            \n",
    "\n",
    "        )\n",
    "    )\n",
    "    \n",
    "    \n",
    "    #Set text to , v = node_value, grad = node.grad (round to 2 decimal places)\n",
    "    # node_trace.text = [f\"{node.label} = {round(node.data,3)}, grad = {round(node.grad,3)}\" for node in G.nodes()]\n",
    "    node_trace.text = [f\"{node.label}\" for node in G.nodes()]\n",
    "\n",
    "\n",
    "\n",
    "    #Make edges\n",
    "    edge_x = []\n",
    "    edge_y = []\n",
    "\n",
    "    ops_x = []\n",
    "    ops_y = []\n",
    "\n",
    "    ops = []\n",
    "\n",
    "    for edge in G.edges():\n",
    "        x0, y0 = pos[edge[0]]\n",
    "        x1, y1 = pos[edge[1]]\n",
    "        edge_x.append(x0)\n",
    "        edge_x.append(x1)\n",
    "        edge_x.append(None)\n",
    "        edge_y.append(y0)\n",
    "        edge_y.append(y1)\n",
    "        edge_y.append(None)\n",
    "\n",
    "        ops.append(edge[1]._op)\n",
    "\n",
    "        #Create an operations node in the middle of the edge\n",
    "        ops_x.append((x0+x1)/2)\n",
    "        ops_y.append((y0+y1)/2)\n",
    "\n",
    "\n",
    "    edge_trace = go.Scatter(\n",
    "        x=edge_x, y=edge_y,\n",
    "        line=dict(width=3, color='#888'),\n",
    "        hoverinfo='text',\n",
    "        mode='lines',\n",
    "    )\n",
    "    edge_trace.text = ops\n",
    "\n",
    "    ops_trace = go.Scatter(\n",
    "        x=ops_x, y=ops_y,\n",
    "        mode='markers+text',\n",
    "        hoverinfo='text',\n",
    "        text=ops,\n",
    "        marker = dict(\n",
    "            size = 10,\n",
    "            color = 'darkred'\n",
    "        ),\n",
    "        textposition = 'middle center'\n",
    "    )\n",
    "\n",
    "\n",
    "    #Show \n",
    "    fig = go.Figure(data=[edge_trace, ops_trace, node_trace])\n",
    "    fig.show()\n"
   ]
  },
  {
   "cell_type": "code",
   "execution_count": 43,
   "metadata": {},
   "outputs": [
    {
     "name": "stdout",
     "output_type": "stream",
     "text": [
      "0.8813700000000004\n"
     ]
    },
    {
     "data": {
      "application/vnd.plotly.v1+json": {
       "config": {
        "plotlyServerURL": "https://plot.ly"
       },
       "data": [
        {
         "hoverinfo": "text",
         "line": {
          "color": "#888",
          "width": 3
         },
         "mode": "lines",
         "text": [
          "*",
          "+",
          "+",
          "tanh",
          "*",
          "*",
          "*",
          "+",
          "+"
         ],
         "type": "scatter",
         "x": [
          -0.06572268929141999,
          0.01870166586001405,
          null,
          0.01870166586001405,
          -0.1479580876065655,
          null,
          0.18340110325888936,
          -0.1479580876065655,
          null,
          -0.27042415151356664,
          -0.4586294462860806,
          null,
          0.5786659381293866,
          0.18340110325888936,
          null,
          0.4561811323468345,
          0.18340110325888936,
          null,
          0.28128308796431306,
          0.01870166586001405,
          null,
          -0.5754985528618051,
          -0.27042415151356664,
          null,
          -0.1479580876065655,
          -0.27042415151356664,
          null
         ],
         "y": [
          -0.7100964008354185,
          -0.32762784354915575,
          null,
          -0.32762784354915575,
          0.07136089584259205,
          null,
          -0.11969967282730146,
          0.07136089584259205,
          null,
          0.48341076236876745,
          1,
          null,
          -0.2055006598305206,
          -0.11969967282730146,
          null,
          0.12145802173860565,
          -0.11969967282730146,
          null,
          -0.6626645327473913,
          -0.32762784354915575,
          null,
          0.34935942983982177,
          0.48341076236876745,
          null,
          0.07136089584259205,
          0.48341076236876745,
          null
         ]
        },
        {
         "hoverinfo": "text",
         "marker": {
          "color": "darkred",
          "size": 20
         },
         "mode": "markers+text",
         "text": [
          "*",
          "+",
          "+",
          "tanh",
          "*",
          "*",
          "*",
          "+",
          "+"
         ],
         "textposition": "middle center",
         "type": "scatter",
         "x": [
          -0.023510511715702967,
          -0.06462821087327573,
          0.017721507826161928,
          -0.36452679889982365,
          0.381033520694138,
          0.31979111780286196,
          0.14999237691216355,
          -0.4229613521876858,
          -0.20919111956006609
         ],
         "y": [
          -0.5188621221922871,
          -0.12813347385328186,
          -0.024169388492354706,
          0.7417053811843837,
          -0.16260016632891103,
          0.0008791744556520958,
          -0.49514618814827355,
          0.41638509610429464,
          0.27738582910567977
         ]
        },
        {
         "hoverinfo": "text",
         "marker": {
          "color": "darkblue",
          "size": 50
         },
         "mode": "markers+text",
         "text": [
          "w2 = 1, grad = 0.0",
          " = 0, grad = 0.5",
          " = -6, grad = 0.5",
          "f = 0.707, grad = 1",
          "y = 0.881, grad = 0.5",
          "w1 = -3, grad = 1.0",
          "x1 = 2, grad = -1.5",
          "x2 = 0, grad = 0.5",
          "b = 6.881, grad = 0.5",
          " = -6, grad = 0.5"
         ],
         "type": "scatter",
         "x": [
          -0.06572268929141999,
          0.01870166586001405,
          0.18340110325888936,
          -0.4586294462860806,
          -0.27042415151356664,
          0.5786659381293866,
          0.4561811323468345,
          0.28128308796431306,
          -0.5754985528618051,
          -0.1479580876065655
         ],
         "y": [
          -0.7100964008354185,
          -0.32762784354915575,
          -0.11969967282730146,
          1,
          0.48341076236876745,
          -0.2055006598305206,
          0.12145802173860565,
          -0.6626645327473913,
          0.34935942983982177,
          0.07136089584259205
         ]
        }
       ],
       "layout": {
        "template": {
         "data": {
          "bar": [
           {
            "error_x": {
             "color": "#f2f5fa"
            },
            "error_y": {
             "color": "#f2f5fa"
            },
            "marker": {
             "line": {
              "color": "rgb(17,17,17)",
              "width": 0.5
             },
             "pattern": {
              "fillmode": "overlay",
              "size": 10,
              "solidity": 0.2
             }
            },
            "type": "bar"
           }
          ],
          "barpolar": [
           {
            "marker": {
             "line": {
              "color": "rgb(17,17,17)",
              "width": 0.5
             },
             "pattern": {
              "fillmode": "overlay",
              "size": 10,
              "solidity": 0.2
             }
            },
            "type": "barpolar"
           }
          ],
          "carpet": [
           {
            "aaxis": {
             "endlinecolor": "#A2B1C6",
             "gridcolor": "#506784",
             "linecolor": "#506784",
             "minorgridcolor": "#506784",
             "startlinecolor": "#A2B1C6"
            },
            "baxis": {
             "endlinecolor": "#A2B1C6",
             "gridcolor": "#506784",
             "linecolor": "#506784",
             "minorgridcolor": "#506784",
             "startlinecolor": "#A2B1C6"
            },
            "type": "carpet"
           }
          ],
          "choropleth": [
           {
            "colorbar": {
             "outlinewidth": 0,
             "ticks": ""
            },
            "type": "choropleth"
           }
          ],
          "contour": [
           {
            "colorbar": {
             "outlinewidth": 0,
             "ticks": ""
            },
            "colorscale": [
             [
              0,
              "#0d0887"
             ],
             [
              0.1111111111111111,
              "#46039f"
             ],
             [
              0.2222222222222222,
              "#7201a8"
             ],
             [
              0.3333333333333333,
              "#9c179e"
             ],
             [
              0.4444444444444444,
              "#bd3786"
             ],
             [
              0.5555555555555556,
              "#d8576b"
             ],
             [
              0.6666666666666666,
              "#ed7953"
             ],
             [
              0.7777777777777778,
              "#fb9f3a"
             ],
             [
              0.8888888888888888,
              "#fdca26"
             ],
             [
              1,
              "#f0f921"
             ]
            ],
            "type": "contour"
           }
          ],
          "contourcarpet": [
           {
            "colorbar": {
             "outlinewidth": 0,
             "ticks": ""
            },
            "type": "contourcarpet"
           }
          ],
          "heatmap": [
           {
            "colorbar": {
             "outlinewidth": 0,
             "ticks": ""
            },
            "colorscale": [
             [
              0,
              "#0d0887"
             ],
             [
              0.1111111111111111,
              "#46039f"
             ],
             [
              0.2222222222222222,
              "#7201a8"
             ],
             [
              0.3333333333333333,
              "#9c179e"
             ],
             [
              0.4444444444444444,
              "#bd3786"
             ],
             [
              0.5555555555555556,
              "#d8576b"
             ],
             [
              0.6666666666666666,
              "#ed7953"
             ],
             [
              0.7777777777777778,
              "#fb9f3a"
             ],
             [
              0.8888888888888888,
              "#fdca26"
             ],
             [
              1,
              "#f0f921"
             ]
            ],
            "type": "heatmap"
           }
          ],
          "heatmapgl": [
           {
            "colorbar": {
             "outlinewidth": 0,
             "ticks": ""
            },
            "colorscale": [
             [
              0,
              "#0d0887"
             ],
             [
              0.1111111111111111,
              "#46039f"
             ],
             [
              0.2222222222222222,
              "#7201a8"
             ],
             [
              0.3333333333333333,
              "#9c179e"
             ],
             [
              0.4444444444444444,
              "#bd3786"
             ],
             [
              0.5555555555555556,
              "#d8576b"
             ],
             [
              0.6666666666666666,
              "#ed7953"
             ],
             [
              0.7777777777777778,
              "#fb9f3a"
             ],
             [
              0.8888888888888888,
              "#fdca26"
             ],
             [
              1,
              "#f0f921"
             ]
            ],
            "type": "heatmapgl"
           }
          ],
          "histogram": [
           {
            "marker": {
             "pattern": {
              "fillmode": "overlay",
              "size": 10,
              "solidity": 0.2
             }
            },
            "type": "histogram"
           }
          ],
          "histogram2d": [
           {
            "colorbar": {
             "outlinewidth": 0,
             "ticks": ""
            },
            "colorscale": [
             [
              0,
              "#0d0887"
             ],
             [
              0.1111111111111111,
              "#46039f"
             ],
             [
              0.2222222222222222,
              "#7201a8"
             ],
             [
              0.3333333333333333,
              "#9c179e"
             ],
             [
              0.4444444444444444,
              "#bd3786"
             ],
             [
              0.5555555555555556,
              "#d8576b"
             ],
             [
              0.6666666666666666,
              "#ed7953"
             ],
             [
              0.7777777777777778,
              "#fb9f3a"
             ],
             [
              0.8888888888888888,
              "#fdca26"
             ],
             [
              1,
              "#f0f921"
             ]
            ],
            "type": "histogram2d"
           }
          ],
          "histogram2dcontour": [
           {
            "colorbar": {
             "outlinewidth": 0,
             "ticks": ""
            },
            "colorscale": [
             [
              0,
              "#0d0887"
             ],
             [
              0.1111111111111111,
              "#46039f"
             ],
             [
              0.2222222222222222,
              "#7201a8"
             ],
             [
              0.3333333333333333,
              "#9c179e"
             ],
             [
              0.4444444444444444,
              "#bd3786"
             ],
             [
              0.5555555555555556,
              "#d8576b"
             ],
             [
              0.6666666666666666,
              "#ed7953"
             ],
             [
              0.7777777777777778,
              "#fb9f3a"
             ],
             [
              0.8888888888888888,
              "#fdca26"
             ],
             [
              1,
              "#f0f921"
             ]
            ],
            "type": "histogram2dcontour"
           }
          ],
          "mesh3d": [
           {
            "colorbar": {
             "outlinewidth": 0,
             "ticks": ""
            },
            "type": "mesh3d"
           }
          ],
          "parcoords": [
           {
            "line": {
             "colorbar": {
              "outlinewidth": 0,
              "ticks": ""
             }
            },
            "type": "parcoords"
           }
          ],
          "pie": [
           {
            "automargin": true,
            "type": "pie"
           }
          ],
          "scatter": [
           {
            "marker": {
             "line": {
              "color": "#283442"
             }
            },
            "type": "scatter"
           }
          ],
          "scatter3d": [
           {
            "line": {
             "colorbar": {
              "outlinewidth": 0,
              "ticks": ""
             }
            },
            "marker": {
             "colorbar": {
              "outlinewidth": 0,
              "ticks": ""
             }
            },
            "type": "scatter3d"
           }
          ],
          "scattercarpet": [
           {
            "marker": {
             "colorbar": {
              "outlinewidth": 0,
              "ticks": ""
             }
            },
            "type": "scattercarpet"
           }
          ],
          "scattergeo": [
           {
            "marker": {
             "colorbar": {
              "outlinewidth": 0,
              "ticks": ""
             }
            },
            "type": "scattergeo"
           }
          ],
          "scattergl": [
           {
            "marker": {
             "line": {
              "color": "#283442"
             }
            },
            "type": "scattergl"
           }
          ],
          "scattermapbox": [
           {
            "marker": {
             "colorbar": {
              "outlinewidth": 0,
              "ticks": ""
             }
            },
            "type": "scattermapbox"
           }
          ],
          "scatterpolar": [
           {
            "marker": {
             "colorbar": {
              "outlinewidth": 0,
              "ticks": ""
             }
            },
            "type": "scatterpolar"
           }
          ],
          "scatterpolargl": [
           {
            "marker": {
             "colorbar": {
              "outlinewidth": 0,
              "ticks": ""
             }
            },
            "type": "scatterpolargl"
           }
          ],
          "scatterternary": [
           {
            "marker": {
             "colorbar": {
              "outlinewidth": 0,
              "ticks": ""
             }
            },
            "type": "scatterternary"
           }
          ],
          "surface": [
           {
            "colorbar": {
             "outlinewidth": 0,
             "ticks": ""
            },
            "colorscale": [
             [
              0,
              "#0d0887"
             ],
             [
              0.1111111111111111,
              "#46039f"
             ],
             [
              0.2222222222222222,
              "#7201a8"
             ],
             [
              0.3333333333333333,
              "#9c179e"
             ],
             [
              0.4444444444444444,
              "#bd3786"
             ],
             [
              0.5555555555555556,
              "#d8576b"
             ],
             [
              0.6666666666666666,
              "#ed7953"
             ],
             [
              0.7777777777777778,
              "#fb9f3a"
             ],
             [
              0.8888888888888888,
              "#fdca26"
             ],
             [
              1,
              "#f0f921"
             ]
            ],
            "type": "surface"
           }
          ],
          "table": [
           {
            "cells": {
             "fill": {
              "color": "#506784"
             },
             "line": {
              "color": "rgb(17,17,17)"
             }
            },
            "header": {
             "fill": {
              "color": "#2a3f5f"
             },
             "line": {
              "color": "rgb(17,17,17)"
             }
            },
            "type": "table"
           }
          ]
         },
         "layout": {
          "annotationdefaults": {
           "arrowcolor": "#f2f5fa",
           "arrowhead": 0,
           "arrowwidth": 1
          },
          "autotypenumbers": "strict",
          "coloraxis": {
           "colorbar": {
            "outlinewidth": 0,
            "ticks": ""
           }
          },
          "colorscale": {
           "diverging": [
            [
             0,
             "#8e0152"
            ],
            [
             0.1,
             "#c51b7d"
            ],
            [
             0.2,
             "#de77ae"
            ],
            [
             0.3,
             "#f1b6da"
            ],
            [
             0.4,
             "#fde0ef"
            ],
            [
             0.5,
             "#f7f7f7"
            ],
            [
             0.6,
             "#e6f5d0"
            ],
            [
             0.7,
             "#b8e186"
            ],
            [
             0.8,
             "#7fbc41"
            ],
            [
             0.9,
             "#4d9221"
            ],
            [
             1,
             "#276419"
            ]
           ],
           "sequential": [
            [
             0,
             "#0d0887"
            ],
            [
             0.1111111111111111,
             "#46039f"
            ],
            [
             0.2222222222222222,
             "#7201a8"
            ],
            [
             0.3333333333333333,
             "#9c179e"
            ],
            [
             0.4444444444444444,
             "#bd3786"
            ],
            [
             0.5555555555555556,
             "#d8576b"
            ],
            [
             0.6666666666666666,
             "#ed7953"
            ],
            [
             0.7777777777777778,
             "#fb9f3a"
            ],
            [
             0.8888888888888888,
             "#fdca26"
            ],
            [
             1,
             "#f0f921"
            ]
           ],
           "sequentialminus": [
            [
             0,
             "#0d0887"
            ],
            [
             0.1111111111111111,
             "#46039f"
            ],
            [
             0.2222222222222222,
             "#7201a8"
            ],
            [
             0.3333333333333333,
             "#9c179e"
            ],
            [
             0.4444444444444444,
             "#bd3786"
            ],
            [
             0.5555555555555556,
             "#d8576b"
            ],
            [
             0.6666666666666666,
             "#ed7953"
            ],
            [
             0.7777777777777778,
             "#fb9f3a"
            ],
            [
             0.8888888888888888,
             "#fdca26"
            ],
            [
             1,
             "#f0f921"
            ]
           ]
          },
          "colorway": [
           "#636efa",
           "#EF553B",
           "#00cc96",
           "#ab63fa",
           "#FFA15A",
           "#19d3f3",
           "#FF6692",
           "#B6E880",
           "#FF97FF",
           "#FECB52"
          ],
          "font": {
           "color": "#f2f5fa"
          },
          "geo": {
           "bgcolor": "rgb(17,17,17)",
           "lakecolor": "rgb(17,17,17)",
           "landcolor": "rgb(17,17,17)",
           "showlakes": true,
           "showland": true,
           "subunitcolor": "#506784"
          },
          "hoverlabel": {
           "align": "left"
          },
          "hovermode": "closest",
          "mapbox": {
           "style": "dark"
          },
          "paper_bgcolor": "rgb(17,17,17)",
          "plot_bgcolor": "rgb(17,17,17)",
          "polar": {
           "angularaxis": {
            "gridcolor": "#506784",
            "linecolor": "#506784",
            "ticks": ""
           },
           "bgcolor": "rgb(17,17,17)",
           "radialaxis": {
            "gridcolor": "#506784",
            "linecolor": "#506784",
            "ticks": ""
           }
          },
          "scene": {
           "xaxis": {
            "backgroundcolor": "rgb(17,17,17)",
            "gridcolor": "#506784",
            "gridwidth": 2,
            "linecolor": "#506784",
            "showbackground": true,
            "ticks": "",
            "zerolinecolor": "#C8D4E3"
           },
           "yaxis": {
            "backgroundcolor": "rgb(17,17,17)",
            "gridcolor": "#506784",
            "gridwidth": 2,
            "linecolor": "#506784",
            "showbackground": true,
            "ticks": "",
            "zerolinecolor": "#C8D4E3"
           },
           "zaxis": {
            "backgroundcolor": "rgb(17,17,17)",
            "gridcolor": "#506784",
            "gridwidth": 2,
            "linecolor": "#506784",
            "showbackground": true,
            "ticks": "",
            "zerolinecolor": "#C8D4E3"
           }
          },
          "shapedefaults": {
           "line": {
            "color": "#f2f5fa"
           }
          },
          "sliderdefaults": {
           "bgcolor": "#C8D4E3",
           "bordercolor": "rgb(17,17,17)",
           "borderwidth": 1,
           "tickwidth": 0
          },
          "ternary": {
           "aaxis": {
            "gridcolor": "#506784",
            "linecolor": "#506784",
            "ticks": ""
           },
           "baxis": {
            "gridcolor": "#506784",
            "linecolor": "#506784",
            "ticks": ""
           },
           "bgcolor": "rgb(17,17,17)",
           "caxis": {
            "gridcolor": "#506784",
            "linecolor": "#506784",
            "ticks": ""
           }
          },
          "title": {
           "x": 0.05
          },
          "updatemenudefaults": {
           "bgcolor": "#506784",
           "borderwidth": 0
          },
          "xaxis": {
           "automargin": true,
           "gridcolor": "#283442",
           "linecolor": "#506784",
           "ticks": "",
           "title": {
            "standoff": 15
           },
           "zerolinecolor": "#283442",
           "zerolinewidth": 2
          },
          "yaxis": {
           "automargin": true,
           "gridcolor": "#283442",
           "linecolor": "#506784",
           "ticks": "",
           "title": {
            "standoff": 15
           },
           "zerolinecolor": "#283442",
           "zerolinewidth": 2
          }
         }
        }
       }
      }
     },
     "metadata": {},
     "output_type": "display_data"
    },
    {
     "name": "stdout",
     "output_type": "stream",
     "text": [
      "Gradient of w1: 1.000005072818119\n",
      "Gradient of w2: 0.0\n",
      "Gradient of x1: -1.5000076092271784\n",
      "Gradient of x2: 0.5000025364090595\n",
      "Gradient of y: 0.5000025364090595\n"
     ]
    }
   ],
   "source": [
    "#Basic Nueron\n",
    "x1 = Value(2,'x1')\n",
    "x2 = Value(0,'x2')\n",
    "\n",
    "w1 = Value(-3,'w1')\n",
    "w2 = Value(1,'w2')\n",
    "\n",
    "b = Value(6.88137,'b')\n",
    "\n",
    "y = w1*x1 + w2*x2 + b ; y.label = 'y'\n",
    "f = y.tanh() ; f.label = 'f'\n",
    "\n",
    "f.backwards()\n",
    "\n",
    "draw_graph(f)\n",
    "\n",
    "#Print Gradients\n",
    "print(f\"Gradient of w1: {w1.grad}\")\n",
    "print(f\"Gradient of w2: {w2.grad}\")\n",
    "print(f\"Gradient of x1: {x1.grad}\")\n",
    "print(f\"Gradient of x2: {x2.grad}\")\n",
    "print(f\"Gradient of y: {y.grad}\")"
   ]
  },
  {
   "cell_type": "code",
   "execution_count": 42,
   "metadata": {},
   "outputs": [
    {
     "data": {
      "application/vnd.plotly.v1+json": {
       "config": {
        "plotlyServerURL": "https://plot.ly"
       },
       "data": [
        {
         "hoverinfo": "text",
         "line": {
          "color": "#888",
          "width": 3
         },
         "mode": "lines",
         "text": [
          "+"
         ],
         "type": "scatter",
         "x": [
          -0.2088689086783719,
          0.2088689086783719,
          null
         ],
         "y": [
          -0.9999999999999989,
          1,
          null
         ]
        },
        {
         "hoverinfo": "text",
         "marker": {
          "color": "darkred",
          "size": 20
         },
         "mode": "markers+text",
         "text": [
          "+"
         ],
         "textposition": "middle center",
         "type": "scatter",
         "x": [
          0
         ],
         "y": [
          5.551115123125783e-16
         ]
        },
        {
         "hoverinfo": "text",
         "marker": {
          "color": "darkblue",
          "size": 50
         },
         "mode": "markers+text",
         "text": [
          "a = 1, grad = 2",
          " = 2, grad = 1"
         ],
         "type": "scatter",
         "x": [
          -0.2088689086783719,
          0.2088689086783719
         ],
         "y": [
          -0.9999999999999989,
          1
         ]
        }
       ],
       "layout": {
        "template": {
         "data": {
          "bar": [
           {
            "error_x": {
             "color": "#f2f5fa"
            },
            "error_y": {
             "color": "#f2f5fa"
            },
            "marker": {
             "line": {
              "color": "rgb(17,17,17)",
              "width": 0.5
             },
             "pattern": {
              "fillmode": "overlay",
              "size": 10,
              "solidity": 0.2
             }
            },
            "type": "bar"
           }
          ],
          "barpolar": [
           {
            "marker": {
             "line": {
              "color": "rgb(17,17,17)",
              "width": 0.5
             },
             "pattern": {
              "fillmode": "overlay",
              "size": 10,
              "solidity": 0.2
             }
            },
            "type": "barpolar"
           }
          ],
          "carpet": [
           {
            "aaxis": {
             "endlinecolor": "#A2B1C6",
             "gridcolor": "#506784",
             "linecolor": "#506784",
             "minorgridcolor": "#506784",
             "startlinecolor": "#A2B1C6"
            },
            "baxis": {
             "endlinecolor": "#A2B1C6",
             "gridcolor": "#506784",
             "linecolor": "#506784",
             "minorgridcolor": "#506784",
             "startlinecolor": "#A2B1C6"
            },
            "type": "carpet"
           }
          ],
          "choropleth": [
           {
            "colorbar": {
             "outlinewidth": 0,
             "ticks": ""
            },
            "type": "choropleth"
           }
          ],
          "contour": [
           {
            "colorbar": {
             "outlinewidth": 0,
             "ticks": ""
            },
            "colorscale": [
             [
              0,
              "#0d0887"
             ],
             [
              0.1111111111111111,
              "#46039f"
             ],
             [
              0.2222222222222222,
              "#7201a8"
             ],
             [
              0.3333333333333333,
              "#9c179e"
             ],
             [
              0.4444444444444444,
              "#bd3786"
             ],
             [
              0.5555555555555556,
              "#d8576b"
             ],
             [
              0.6666666666666666,
              "#ed7953"
             ],
             [
              0.7777777777777778,
              "#fb9f3a"
             ],
             [
              0.8888888888888888,
              "#fdca26"
             ],
             [
              1,
              "#f0f921"
             ]
            ],
            "type": "contour"
           }
          ],
          "contourcarpet": [
           {
            "colorbar": {
             "outlinewidth": 0,
             "ticks": ""
            },
            "type": "contourcarpet"
           }
          ],
          "heatmap": [
           {
            "colorbar": {
             "outlinewidth": 0,
             "ticks": ""
            },
            "colorscale": [
             [
              0,
              "#0d0887"
             ],
             [
              0.1111111111111111,
              "#46039f"
             ],
             [
              0.2222222222222222,
              "#7201a8"
             ],
             [
              0.3333333333333333,
              "#9c179e"
             ],
             [
              0.4444444444444444,
              "#bd3786"
             ],
             [
              0.5555555555555556,
              "#d8576b"
             ],
             [
              0.6666666666666666,
              "#ed7953"
             ],
             [
              0.7777777777777778,
              "#fb9f3a"
             ],
             [
              0.8888888888888888,
              "#fdca26"
             ],
             [
              1,
              "#f0f921"
             ]
            ],
            "type": "heatmap"
           }
          ],
          "heatmapgl": [
           {
            "colorbar": {
             "outlinewidth": 0,
             "ticks": ""
            },
            "colorscale": [
             [
              0,
              "#0d0887"
             ],
             [
              0.1111111111111111,
              "#46039f"
             ],
             [
              0.2222222222222222,
              "#7201a8"
             ],
             [
              0.3333333333333333,
              "#9c179e"
             ],
             [
              0.4444444444444444,
              "#bd3786"
             ],
             [
              0.5555555555555556,
              "#d8576b"
             ],
             [
              0.6666666666666666,
              "#ed7953"
             ],
             [
              0.7777777777777778,
              "#fb9f3a"
             ],
             [
              0.8888888888888888,
              "#fdca26"
             ],
             [
              1,
              "#f0f921"
             ]
            ],
            "type": "heatmapgl"
           }
          ],
          "histogram": [
           {
            "marker": {
             "pattern": {
              "fillmode": "overlay",
              "size": 10,
              "solidity": 0.2
             }
            },
            "type": "histogram"
           }
          ],
          "histogram2d": [
           {
            "colorbar": {
             "outlinewidth": 0,
             "ticks": ""
            },
            "colorscale": [
             [
              0,
              "#0d0887"
             ],
             [
              0.1111111111111111,
              "#46039f"
             ],
             [
              0.2222222222222222,
              "#7201a8"
             ],
             [
              0.3333333333333333,
              "#9c179e"
             ],
             [
              0.4444444444444444,
              "#bd3786"
             ],
             [
              0.5555555555555556,
              "#d8576b"
             ],
             [
              0.6666666666666666,
              "#ed7953"
             ],
             [
              0.7777777777777778,
              "#fb9f3a"
             ],
             [
              0.8888888888888888,
              "#fdca26"
             ],
             [
              1,
              "#f0f921"
             ]
            ],
            "type": "histogram2d"
           }
          ],
          "histogram2dcontour": [
           {
            "colorbar": {
             "outlinewidth": 0,
             "ticks": ""
            },
            "colorscale": [
             [
              0,
              "#0d0887"
             ],
             [
              0.1111111111111111,
              "#46039f"
             ],
             [
              0.2222222222222222,
              "#7201a8"
             ],
             [
              0.3333333333333333,
              "#9c179e"
             ],
             [
              0.4444444444444444,
              "#bd3786"
             ],
             [
              0.5555555555555556,
              "#d8576b"
             ],
             [
              0.6666666666666666,
              "#ed7953"
             ],
             [
              0.7777777777777778,
              "#fb9f3a"
             ],
             [
              0.8888888888888888,
              "#fdca26"
             ],
             [
              1,
              "#f0f921"
             ]
            ],
            "type": "histogram2dcontour"
           }
          ],
          "mesh3d": [
           {
            "colorbar": {
             "outlinewidth": 0,
             "ticks": ""
            },
            "type": "mesh3d"
           }
          ],
          "parcoords": [
           {
            "line": {
             "colorbar": {
              "outlinewidth": 0,
              "ticks": ""
             }
            },
            "type": "parcoords"
           }
          ],
          "pie": [
           {
            "automargin": true,
            "type": "pie"
           }
          ],
          "scatter": [
           {
            "marker": {
             "line": {
              "color": "#283442"
             }
            },
            "type": "scatter"
           }
          ],
          "scatter3d": [
           {
            "line": {
             "colorbar": {
              "outlinewidth": 0,
              "ticks": ""
             }
            },
            "marker": {
             "colorbar": {
              "outlinewidth": 0,
              "ticks": ""
             }
            },
            "type": "scatter3d"
           }
          ],
          "scattercarpet": [
           {
            "marker": {
             "colorbar": {
              "outlinewidth": 0,
              "ticks": ""
             }
            },
            "type": "scattercarpet"
           }
          ],
          "scattergeo": [
           {
            "marker": {
             "colorbar": {
              "outlinewidth": 0,
              "ticks": ""
             }
            },
            "type": "scattergeo"
           }
          ],
          "scattergl": [
           {
            "marker": {
             "line": {
              "color": "#283442"
             }
            },
            "type": "scattergl"
           }
          ],
          "scattermapbox": [
           {
            "marker": {
             "colorbar": {
              "outlinewidth": 0,
              "ticks": ""
             }
            },
            "type": "scattermapbox"
           }
          ],
          "scatterpolar": [
           {
            "marker": {
             "colorbar": {
              "outlinewidth": 0,
              "ticks": ""
             }
            },
            "type": "scatterpolar"
           }
          ],
          "scatterpolargl": [
           {
            "marker": {
             "colorbar": {
              "outlinewidth": 0,
              "ticks": ""
             }
            },
            "type": "scatterpolargl"
           }
          ],
          "scatterternary": [
           {
            "marker": {
             "colorbar": {
              "outlinewidth": 0,
              "ticks": ""
             }
            },
            "type": "scatterternary"
           }
          ],
          "surface": [
           {
            "colorbar": {
             "outlinewidth": 0,
             "ticks": ""
            },
            "colorscale": [
             [
              0,
              "#0d0887"
             ],
             [
              0.1111111111111111,
              "#46039f"
             ],
             [
              0.2222222222222222,
              "#7201a8"
             ],
             [
              0.3333333333333333,
              "#9c179e"
             ],
             [
              0.4444444444444444,
              "#bd3786"
             ],
             [
              0.5555555555555556,
              "#d8576b"
             ],
             [
              0.6666666666666666,
              "#ed7953"
             ],
             [
              0.7777777777777778,
              "#fb9f3a"
             ],
             [
              0.8888888888888888,
              "#fdca26"
             ],
             [
              1,
              "#f0f921"
             ]
            ],
            "type": "surface"
           }
          ],
          "table": [
           {
            "cells": {
             "fill": {
              "color": "#506784"
             },
             "line": {
              "color": "rgb(17,17,17)"
             }
            },
            "header": {
             "fill": {
              "color": "#2a3f5f"
             },
             "line": {
              "color": "rgb(17,17,17)"
             }
            },
            "type": "table"
           }
          ]
         },
         "layout": {
          "annotationdefaults": {
           "arrowcolor": "#f2f5fa",
           "arrowhead": 0,
           "arrowwidth": 1
          },
          "autotypenumbers": "strict",
          "coloraxis": {
           "colorbar": {
            "outlinewidth": 0,
            "ticks": ""
           }
          },
          "colorscale": {
           "diverging": [
            [
             0,
             "#8e0152"
            ],
            [
             0.1,
             "#c51b7d"
            ],
            [
             0.2,
             "#de77ae"
            ],
            [
             0.3,
             "#f1b6da"
            ],
            [
             0.4,
             "#fde0ef"
            ],
            [
             0.5,
             "#f7f7f7"
            ],
            [
             0.6,
             "#e6f5d0"
            ],
            [
             0.7,
             "#b8e186"
            ],
            [
             0.8,
             "#7fbc41"
            ],
            [
             0.9,
             "#4d9221"
            ],
            [
             1,
             "#276419"
            ]
           ],
           "sequential": [
            [
             0,
             "#0d0887"
            ],
            [
             0.1111111111111111,
             "#46039f"
            ],
            [
             0.2222222222222222,
             "#7201a8"
            ],
            [
             0.3333333333333333,
             "#9c179e"
            ],
            [
             0.4444444444444444,
             "#bd3786"
            ],
            [
             0.5555555555555556,
             "#d8576b"
            ],
            [
             0.6666666666666666,
             "#ed7953"
            ],
            [
             0.7777777777777778,
             "#fb9f3a"
            ],
            [
             0.8888888888888888,
             "#fdca26"
            ],
            [
             1,
             "#f0f921"
            ]
           ],
           "sequentialminus": [
            [
             0,
             "#0d0887"
            ],
            [
             0.1111111111111111,
             "#46039f"
            ],
            [
             0.2222222222222222,
             "#7201a8"
            ],
            [
             0.3333333333333333,
             "#9c179e"
            ],
            [
             0.4444444444444444,
             "#bd3786"
            ],
            [
             0.5555555555555556,
             "#d8576b"
            ],
            [
             0.6666666666666666,
             "#ed7953"
            ],
            [
             0.7777777777777778,
             "#fb9f3a"
            ],
            [
             0.8888888888888888,
             "#fdca26"
            ],
            [
             1,
             "#f0f921"
            ]
           ]
          },
          "colorway": [
           "#636efa",
           "#EF553B",
           "#00cc96",
           "#ab63fa",
           "#FFA15A",
           "#19d3f3",
           "#FF6692",
           "#B6E880",
           "#FF97FF",
           "#FECB52"
          ],
          "font": {
           "color": "#f2f5fa"
          },
          "geo": {
           "bgcolor": "rgb(17,17,17)",
           "lakecolor": "rgb(17,17,17)",
           "landcolor": "rgb(17,17,17)",
           "showlakes": true,
           "showland": true,
           "subunitcolor": "#506784"
          },
          "hoverlabel": {
           "align": "left"
          },
          "hovermode": "closest",
          "mapbox": {
           "style": "dark"
          },
          "paper_bgcolor": "rgb(17,17,17)",
          "plot_bgcolor": "rgb(17,17,17)",
          "polar": {
           "angularaxis": {
            "gridcolor": "#506784",
            "linecolor": "#506784",
            "ticks": ""
           },
           "bgcolor": "rgb(17,17,17)",
           "radialaxis": {
            "gridcolor": "#506784",
            "linecolor": "#506784",
            "ticks": ""
           }
          },
          "scene": {
           "xaxis": {
            "backgroundcolor": "rgb(17,17,17)",
            "gridcolor": "#506784",
            "gridwidth": 2,
            "linecolor": "#506784",
            "showbackground": true,
            "ticks": "",
            "zerolinecolor": "#C8D4E3"
           },
           "yaxis": {
            "backgroundcolor": "rgb(17,17,17)",
            "gridcolor": "#506784",
            "gridwidth": 2,
            "linecolor": "#506784",
            "showbackground": true,
            "ticks": "",
            "zerolinecolor": "#C8D4E3"
           },
           "zaxis": {
            "backgroundcolor": "rgb(17,17,17)",
            "gridcolor": "#506784",
            "gridwidth": 2,
            "linecolor": "#506784",
            "showbackground": true,
            "ticks": "",
            "zerolinecolor": "#C8D4E3"
           }
          },
          "shapedefaults": {
           "line": {
            "color": "#f2f5fa"
           }
          },
          "sliderdefaults": {
           "bgcolor": "#C8D4E3",
           "bordercolor": "rgb(17,17,17)",
           "borderwidth": 1,
           "tickwidth": 0
          },
          "ternary": {
           "aaxis": {
            "gridcolor": "#506784",
            "linecolor": "#506784",
            "ticks": ""
           },
           "baxis": {
            "gridcolor": "#506784",
            "linecolor": "#506784",
            "ticks": ""
           },
           "bgcolor": "rgb(17,17,17)",
           "caxis": {
            "gridcolor": "#506784",
            "linecolor": "#506784",
            "ticks": ""
           }
          },
          "title": {
           "x": 0.05
          },
          "updatemenudefaults": {
           "bgcolor": "#506784",
           "borderwidth": 0
          },
          "xaxis": {
           "automargin": true,
           "gridcolor": "#283442",
           "linecolor": "#506784",
           "ticks": "",
           "title": {
            "standoff": 15
           },
           "zerolinecolor": "#283442",
           "zerolinewidth": 2
          },
          "yaxis": {
           "automargin": true,
           "gridcolor": "#283442",
           "linecolor": "#506784",
           "ticks": "",
           "title": {
            "standoff": 15
           },
           "zerolinecolor": "#283442",
           "zerolinewidth": 2
          }
         }
        }
       }
      }
     },
     "metadata": {},
     "output_type": "display_data"
    }
   ],
   "source": [
    "a = Value(1,'a')\n",
    "b = a+a \n",
    "b.backwards()\n",
    "draw_graph(b)"
   ]
  },
  {
   "cell_type": "code",
   "execution_count": 23,
   "metadata": {},
   "outputs": [],
   "source": [
    "import torch"
   ]
  },
  {
   "cell_type": "code",
   "execution_count": 28,
   "metadata": {},
   "outputs": [
    {
     "name": "stdout",
     "output_type": "stream",
     "text": [
      "0.7071050214706146\n",
      "x1.grad= -1.500007465833125\n",
      "x2.grad= 0.5000024886110417\n",
      "w1.grad= 1.0000049772220834\n",
      "w2.grad= 0.0\n"
     ]
    }
   ],
   "source": [
    "x1 = torch.Tensor([2]).double() ; x1.requires_grad = True\n",
    "x2 = torch.Tensor([0]).double() ; x2.requires_grad = True\n",
    "w1 = torch.Tensor([-3]).double() ; w1.requires_grad = True\n",
    "w2 = torch.Tensor([1]).double() ; w2.requires_grad = True\n",
    "b = torch.Tensor([6.88137]).double() ; b.requires_grad = True\n",
    "n = x1*w1 + x2*w2 + b\n",
    "o = torch.tanh(n)\n",
    "\n",
    "print(o.data.item())\n",
    "o.backward()\n",
    "\n",
    "print(\"x1.grad=\",x1.grad.item()) \n",
    "print(\"x2.grad=\",x2.grad.item())\n",
    "print(\"w1.grad=\",w1.grad.item())\n",
    "print(\"w2.grad=\",w2.grad.item())\n"
   ]
  },
  {
   "cell_type": "code",
   "execution_count": 145,
   "metadata": {},
   "outputs": [],
   "source": [
    "class Neuron: \n",
    "    def __init__(self, nin):\n",
    "        #nin = number of inputs going into the nueron\n",
    "        self.w = [Value(random.uniform(-1,1),f\"w{i}\") for i in range(nin)]\n",
    "        self.b = Value(random.uniform(-1,1),'b')\n",
    "\n",
    "    def __call__(self,x): \n",
    "        #w*x + b \n",
    "        return ( sum([w*x for w,x in zip(self.w,x)]) + self.b ).tanh()\n",
    "\n",
    "    def parameters(self): \n",
    "        #Return a list of all the parameters of the neuron\n",
    "        return self.w + [self.b]\n",
    "        \n"
   ]
  },
  {
   "cell_type": "code",
   "execution_count": 146,
   "metadata": {},
   "outputs": [],
   "source": [
    "#Layer of Neurons = List of Nuerons. They aren't connected to each other\n",
    "class Layer: \n",
    "    def __init__(self, nin, nout):\n",
    "        #nin = number of inputs going into the nueron (x)\n",
    "        #nout = number of neurons in the layer\n",
    "        self.neurons = [Neuron(nin) for i in range(nout)]\n",
    "\n",
    "    def __call__(self,x):\n",
    "        return [n(x) for n in self.neurons]\n",
    "\n",
    "    def parameters(self):\n",
    "        #Return a list of all the parameters of the layer\n",
    "        return [p for n in self.neurons for p in n.parameters()]"
   ]
  },
  {
   "cell_type": "code",
   "execution_count": 94,
   "metadata": {},
   "outputs": [
    {
     "data": {
      "text/plain": [
       "[Value(-0.9934405903715453, ),\n",
       " Value(-0.9960895811299004, ),\n",
       " Value(0.9282588462227764, )]"
      ]
     },
     "execution_count": 94,
     "metadata": {},
     "output_type": "execute_result"
    }
   ],
   "source": [
    "x = [2,3]\n",
    "\n",
    "#Inputs in Layer are the same (x)\n",
    "l = Layer(2,3)\n",
    "l(x)"
   ]
  },
  {
   "cell_type": "code",
   "execution_count": 299,
   "metadata": {},
   "outputs": [],
   "source": [
    "#MLP (Multi Layer Perceptron)\n",
    "#Layer of Layers\n",
    "\n",
    "class MLP:\n",
    "    def __init__(self, nin, nouts): \n",
    "        #nin = number of inputs going into the initial layer\n",
    "        #nouts = list of number of outputs in each layer\n",
    "        self.layers = [Layer(nin,nouts[0])] #First layer\n",
    "        for i in range(1,len(nouts)):\n",
    "            self.layers.append(Layer(nouts[i-1],nouts[i]))\n",
    "\n",
    "    def __call__(self,x):\n",
    "        for l in self.layers:\n",
    "            x = l(x)\n",
    "        return x\n",
    "\n",
    "    def parameters(self):  \n",
    "        #Return a list of all the parameters of the MLP\n",
    "        return [p for l in self.layers for p in l.parameters()]\n"
   ]
  },
  {
   "cell_type": "code",
   "execution_count": 300,
   "metadata": {},
   "outputs": [
    {
     "data": {
      "application/vnd.plotly.v1+json": {
       "config": {
        "plotlyServerURL": "https://plot.ly"
       },
       "data": [
        {
         "hoverinfo": "text",
         "line": {
          "color": "#888",
          "width": 3
         },
         "mode": "lines",
         "text": [
          "+",
          "*",
          "*",
          "+",
          "+",
          "*",
          "+",
          "+",
          "tanh",
          "+",
          "+",
          "+",
          "*",
          "*",
          "*",
          "*",
          "*",
          "*",
          "+",
          "+",
          "*",
          "+",
          "*",
          "tanh",
          "*",
          "+",
          "*",
          "tanh",
          "tanh",
          "+",
          "+",
          "+",
          "+",
          "+",
          "+",
          "+",
          "+",
          "*",
          "+",
          "tanh",
          "*",
          "+",
          "+",
          "*",
          "+",
          "*",
          "+",
          "+",
          "+",
          "*",
          "+",
          "+",
          "+",
          "*",
          "+",
          "+",
          "+",
          "+",
          "+",
          "*",
          "+",
          "+",
          "*",
          "*",
          "*",
          "+",
          "*",
          "*",
          "*",
          "+",
          "+",
          "*",
          "+",
          "*",
          "+",
          "*",
          "*",
          "*",
          "*",
          "*",
          "*",
          "*",
          "*",
          "*",
          "tanh",
          "*",
          "+",
          "*",
          "*",
          "+",
          "+",
          "+",
          "*",
          "+",
          "*",
          "+",
          "+",
          "+",
          "*",
          "+",
          "*",
          "+",
          "+",
          "+",
          "+",
          "+",
          "*",
          "+",
          "+",
          "*",
          "+",
          "+",
          "+",
          "+",
          "+",
          "+",
          "+",
          "*",
          "+",
          "+",
          "+",
          "tanh",
          "*",
          "+",
          "+",
          "+",
          "+",
          "+",
          "+",
          "+",
          "+",
          "*",
          "*",
          "*",
          "*",
          "+",
          "*",
          "tanh",
          "+",
          "*",
          "*",
          "*",
          "*",
          "*",
          "*",
          "*",
          "tanh",
          "+",
          "+",
          "*",
          "*",
          "+",
          "*",
          "*",
          "+"
         ],
         "type": "scatter",
         "x": [
          0.34890609519587984,
          0.32635272001836957,
          null,
          0.1645737684756053,
          0.010785634280663078,
          null,
          -0.3968912491649833,
          -0.3015431575398554,
          null,
          0.3424596687224118,
          0.1742699153499012,
          null,
          0.4147587285514322,
          0.4849711049394726,
          null,
          0.13403995573892621,
          -0.09917523400786435,
          null,
          0.3149158262313464,
          0.32635272001836957,
          null,
          -0.3555729821787737,
          -0.4712945992518668,
          null,
          -0.15664474311718138,
          -0.2717037047409665,
          null,
          0.29258374135541243,
          0.29019147674855555,
          null,
          -0.17821030071268334,
          -0.10066900937555506,
          null,
          0.010785634280663078,
          -0.12157120125544864,
          null,
          0.4565579851610484,
          0.29892440972515455,
          null,
          0.11193900751950381,
          -0.16853614385597715,
          null,
          0.11193900751950381,
          0.2783570993311904,
          null,
          0.11193900751950381,
          -0.131311650161635,
          null,
          0.11193900751950381,
          0.4345612553844944,
          null,
          0.2551220857573243,
          0.0829432351698099,
          null,
          0.4849711049394726,
          0.3424596687224118,
          null,
          -0.3794288947224225,
          -0.4712945992518668,
          null,
          0.4329858504742573,
          0.29892440972515455,
          null,
          0.004985515730674693,
          -0.12157120125544864,
          null,
          0.2532524599498376,
          0.0829432351698099,
          null,
          0.10474394153717433,
          -0.030525085236592094,
          null,
          0.02089559810446294,
          -0.10459102862000023,
          null,
          -0.10459102862000023,
          -0.14671898734508607,
          null,
          -0.2942833444097317,
          -0.22098458756103792,
          null,
          0.13114407875269166,
          0.2178995731165265,
          null,
          0.016729803508804788,
          -0.12300728189589025,
          null,
          -0.14115730038523885,
          -0.2414797086150746,
          null,
          0.3353924848559927,
          0.29019147674855555,
          null,
          0.3160518385178858,
          0.4147587285514322,
          null,
          -0.14812939504989478,
          0.05124277651487754,
          null,
          0.1742699153499012,
          0.016729803508804788,
          null,
          -0.0354429031976295,
          -0.15664474311718138,
          null,
          -0.24666472990940502,
          -0.15286589070240633,
          null,
          -0.12157120125544864,
          -0.2414797086150746,
          null,
          -0.2717037047409665,
          -0.3794288947224225,
          null,
          0.22038003058917888,
          0.10474394153717433,
          null,
          -0.5451337644227311,
          -0.6664570789353029,
          null,
          -0.20762390410683482,
          -0.24199305956645217,
          null,
          -0.3185723606999461,
          -0.14812939504989478,
          null,
          -0.131311650161635,
          0.05124277651487754,
          null,
          -0.12300728189589025,
          -0.24513388718371545,
          null,
          0.1855627806418,
          0.2018912642874538,
          null,
          -0.030525085236592094,
          -0.14115730038523885,
          null,
          0.0829432351698099,
          -0.12186152221825812,
          null,
          0.07489154448414721,
          0.2035307406043071,
          null,
          0.05124277651487754,
          0.2035307406043071,
          null,
          -0.0029199440808640458,
          -0.09022056481048882,
          null,
          0.2035307406043071,
          0.2018912642874538,
          null,
          0.2018912642874538,
          0.10474394153717433,
          null,
          -0.16887733606854297,
          -0.27791404469583975,
          null,
          -0.13391929120311824,
          -0.24666472990940502,
          null,
          -0.27791404469583975,
          -0.15286589070240633,
          null,
          -0.24513388718371545,
          -0.3555729821787737,
          null,
          -0.09022056481048882,
          -0.2041831000057978,
          null,
          -0.2041831000057978,
          -0.27791404469583975,
          null,
          -0.11197915941237327,
          -0.0964151459063589,
          null,
          -0.04761974922940752,
          -0.11197915941237327,
          null,
          -0.5715722462904486,
          -0.5451337644227311,
          null,
          -0.2414797086150746,
          -0.3555729821787737,
          null,
          -0.13590276754464428,
          -0.07648293526848725,
          null,
          -0.010092190495851944,
          -0.14115730038523885,
          null,
          -0.1654340970315762,
          -0.24666472990940502,
          null,
          0.25061310391772773,
          0.12365275056705294,
          null,
          -0.27005171500513003,
          -0.3794288947224225,
          null,
          -0.1159204808346421,
          -0.24513388718371545,
          null,
          0.01728100323390921,
          -0.09022056481048882,
          null,
          0.03775060750434682,
          0.22098771573333023,
          null,
          -0.14671898734508607,
          -0.0964151459063589,
          null,
          0.3287214773530806,
          0.29258374135541243,
          null,
          -0.16853614385597715,
          0.0023064846830025652,
          null,
          0.1651796834249338,
          0.010785634280663078,
          null,
          -0.017673344736240108,
          0.1579343063519144,
          null,
          -0.029864770987390505,
          -0.16887733606854297,
          null,
          0.3176312941835975,
          0.1422226412026647,
          null,
          -0.30893254925478014,
          -0.16853614385597715,
          null,
          0.22952393741083987,
          0.1422226412026647,
          null,
          0.22952393741083987,
          0.1855627806418,
          null,
          0.22952393741083987,
          0.15468244775743586,
          null,
          0.22952393741083987,
          0.3409537303511645,
          null,
          0.2751285155239866,
          0.2783570993311904,
          null,
          0.34575835837713964,
          0.27633071463033126,
          null,
          -0.10066900937555506,
          0.005199993888045396,
          null,
          -0.2664957205768778,
          -0.22098458756103792,
          null,
          -0.0547540432085258,
          -0.15664474311718138,
          null,
          -0.45994435002641004,
          -0.3198753498290601,
          null,
          -0.11903913264074095,
          -0.07648293526848725,
          null,
          -0.24199305956645217,
          -0.20538519365497682,
          null,
          0.16409778431278998,
          0.016729803508804788,
          null,
          -0.3182029027059105,
          -0.16520761149900973,
          null,
          0.3789186636160009,
          0.4345612553844944,
          null,
          -0.3198753498290601,
          -0.16520761149900973,
          null,
          0.27123287742057284,
          0.3379954372863191,
          null,
          -0.07648293526848725,
          0.00025359856547029766,
          null,
          0.00025359856547029766,
          0.13114407875269166,
          null,
          -0.0964151459063589,
          0.00025359856547029766,
          null,
          0.46509493957865056,
          0.3409537303511645,
          null,
          -0.14314328304040846,
          -0.14671898734508607,
          null,
          0.36824753978685654,
          0.45879560160528166,
          null,
          0.29019147674855555,
          0.25061310391772773,
          null,
          0.27633071463033126,
          0.12365275056705294,
          null,
          0.2783570993311904,
          0.25061310391772773,
          null,
          0.1422226412026647,
          -0.0354429031976295,
          null,
          -0.06052682695735971,
          -0.2041831000057978,
          null,
          0.03948466468829939,
          -0.10459102862000023,
          null,
          0.12365275056705294,
          -0.0354429031976295,
          null,
          0.1579343063519144,
          0.3149158262313464,
          null,
          -0.06811382747452804,
          -0.11197915941237327,
          null,
          -0.09917523400786435,
          -0.2014884316515282,
          null,
          -0.4712945992518668,
          -0.5451337644227311,
          null,
          0.0023064846830025652,
          0.1579343063519144,
          null,
          -0.16520761149900973,
          0.0023064846830025652,
          null,
          0.29892440972515455,
          0.09149128146554122,
          null,
          0.15468244775743586,
          0.3149158262313464,
          null,
          -0.10476122718323302,
          0.059439399722349226,
          null,
          -0.19569141093427123,
          -0.24199305956645217,
          null,
          -0.1655711678188901,
          -0.015489515503215341,
          null,
          0.45879560160528166,
          0.3424596687224118,
          null,
          0.4345612553844944,
          0.4849711049394726,
          null,
          0.32635272001836957,
          0.1645737684756053,
          null,
          -0.2391802033363874,
          -0.10476122718323302,
          null,
          -0.08900227710815735,
          0.059439399722349226,
          null,
          -0.2014884316515282,
          -0.10066900937555506,
          null,
          0.09149128146554122,
          -0.12186152221825812,
          null,
          0.3409537303511645,
          0.1742699153499012,
          null,
          -0.12186152221825812,
          -0.2014884316515282,
          null,
          0.3379954372863191,
          0.4147587285514322,
          null,
          -0.20538519365497682,
          -0.08900227710815735,
          null,
          0.059439399722349226,
          0.22098771573333023,
          null,
          0.005199993888045396,
          0.3379954372863191,
          null,
          0.005199993888045396,
          -0.3198753498290601,
          null,
          0.005199993888045396,
          -0.3015431575398554,
          null,
          0.005199993888045396,
          0.29258374135541243,
          null,
          -0.3015431575398554,
          -0.14812939504989478,
          null,
          -0.26431417078906455,
          -0.10476122718323302,
          null,
          -0.015489515503215341,
          0.11193900751950381,
          null,
          -0.26760158066257195,
          -0.20538519365497682,
          null,
          0.2178995731165265,
          0.45879560160528166,
          null,
          0.2178995731165265,
          -0.017673344736240108,
          null,
          0.2178995731165265,
          0.27633071463033126,
          null,
          0.2178995731165265,
          0.07489154448414721,
          null,
          -0.1872961978016713,
          -0.017673344736240108,
          null,
          -0.029135091930177093,
          -0.16887733606854297,
          null,
          0.1279579851407591,
          -0.09917523400786435,
          null,
          0.22098771573333023,
          0.22952393741083987,
          null,
          0.030025436252142653,
          0.13114407875269166,
          null,
          -0.22098458756103792,
          -0.08900227710815735,
          null,
          -0.00017874697750596048,
          0.15468244775743586,
          null,
          0.05096372909761763,
          0.1855627806418,
          null,
          0.2874927875459329,
          0.09149128146554122,
          null,
          -0.09099920661665203,
          0.07489154448414721,
          null,
          -0.27959289457010433,
          -0.131311650161635,
          null,
          -0.15286589070240633,
          -0.015489515503215341,
          null
         ],
         "y": [
          0.20766303453719628,
          0.2766674418181583,
          null,
          0.25600131655334485,
          0.23813293273401723,
          null,
          -0.15170324449669778,
          0.05635015403523342,
          null,
          0.059923173844947275,
          0.10267377025335098,
          null,
          -0.1061936002556028,
          -0.01967500743164749,
          null,
          -0.36394006270925827,
          -0.35781128736631634,
          null,
          0.18459640855521756,
          0.2766674418181583,
          null,
          0.498805091460546,
          0.6818979105324213,
          null,
          0.451431997382181,
          0.4699180803196432,
          null,
          0.0041680010320174965,
          0.15220644215239812,
          null,
          -0.23565271261743534,
          -0.12996304586099208,
          null,
          0.23813293273401723,
          0.2910327756764166,
          null,
          -0.1336630619718414,
          -0.2513599566625678,
          null,
          0.041778078447321815,
          0.006411795991566797,
          null,
          0.041778078447321815,
          0.17770072876759688,
          null,
          0.041778078447321815,
          0.21632585041584385,
          null,
          0.041778078447321815,
          -0.1376797911181608,
          null,
          -0.2625096085968888,
          -0.38751549488201437,
          null,
          -0.01967500743164749,
          0.059923173844947275,
          null,
          0.5466443566621324,
          0.6818979105324213,
          null,
          -0.08939010158515064,
          -0.2513599566625678,
          null,
          0.2656974965667234,
          0.2910327756764166,
          null,
          -0.28726795780435355,
          -0.38751549488201437,
          null,
          0.2586971319588274,
          0.26471098664295545,
          null,
          -0.7503632087843575,
          -0.6190085882704977,
          null,
          -0.6190085882704977,
          -0.43458820530901454,
          null,
          -0.4127311653213702,
          -0.2260752013499937,
          null,
          0.026312952162508965,
          0.14487571442146552,
          null,
          0.15029882695202143,
          0.23867556126365383,
          null,
          0.31744081396292534,
          0.3743476679835858,
          null,
          0.028007824509374852,
          0.15220644215239812,
          null,
          -0.15719766766085577,
          -0.1061936002556028,
          null,
          0.23264053952992644,
          0.3222145057346294,
          null,
          0.10267377025335098,
          0.15029882695202143,
          null,
          0.47099632774272454,
          0.451431997382181,
          null,
          -0.13628154308480425,
          -0.07667720076820529,
          null,
          0.2910327756764166,
          0.3743476679835858,
          null,
          0.4699180803196432,
          0.5466443566621324,
          null,
          0.3491967473805761,
          0.2586971319588274,
          null,
          0.810821754801662,
          1,
          null,
          -0.5647836120979939,
          -0.387062562624862,
          null,
          0.0811591571694578,
          0.23264053952992644,
          null,
          0.21632585041584385,
          0.3222145057346294,
          null,
          0.23867556126365383,
          0.34335890835841454,
          null,
          0.3348484628376016,
          0.33168243307985246,
          null,
          0.26471098664295545,
          0.31744081396292534,
          null,
          -0.38751549488201437,
          -0.36692471584704756,
          null,
          0.3139279139526624,
          0.3662293675590358,
          null,
          0.3222145057346294,
          0.3662293675590358,
          null,
          -0.38915456054243247,
          -0.3101519962245216,
          null,
          0.3662293675590358,
          0.33168243307985246,
          null,
          0.33168243307985246,
          0.2586971319588274,
          null,
          -0.22841449862352545,
          -0.17147702633860754,
          null,
          -0.17185785994016253,
          -0.13628154308480425,
          null,
          -0.17147702633860754,
          -0.07667720076820529,
          null,
          0.34335890835841454,
          0.498805091460546,
          null,
          -0.3101519962245216,
          -0.2688221513430908,
          null,
          -0.2688221513430908,
          -0.17147702633860754,
          null,
          -0.41609649509205304,
          -0.24687283573929236,
          null,
          -0.5645267753202992,
          -0.41609649509205304,
          null,
          0.7663684432392313,
          0.810821754801662,
          null,
          0.3743476679835858,
          0.498805091460546,
          null,
          -0.3979202237420196,
          -0.23178941032114286,
          null,
          0.3071634156812971,
          0.31744081396292534,
          null,
          -0.1513040709696558,
          -0.13628154308480425,
          null,
          0.31755306810124523,
          0.439710977747905,
          null,
          0.44115328614370714,
          0.5466443566621324,
          null,
          0.20548180719031292,
          0.34335890835841454,
          null,
          -0.3554485662451893,
          -0.3101519962245216,
          null,
          0.08282356386707058,
          0.20246243039766812,
          null,
          -0.43458820530901454,
          -0.24687283573929236,
          null,
          -0.1458103615721698,
          0.0041680010320174965,
          null,
          0.006411795991566797,
          0.056054703327557076,
          null,
          0.21853642760399333,
          0.23813293273401723,
          null,
          0.07428581010999781,
          0.10176471923457202,
          null,
          -0.24770052812641227,
          -0.22841449862352545,
          null,
          0.35491841835090165,
          0.4555472763469102,
          null,
          -0.032487205380677564,
          0.006411795991566797,
          null,
          0.258973766820336,
          0.4555472763469102,
          null,
          0.258973766820336,
          0.3348484628376016,
          null,
          0.258973766820336,
          0.13338591336473074,
          null,
          0.258973766820336,
          0.08830438001505528,
          null,
          0.051834909069944236,
          0.17770072876759688,
          null,
          0.16029868863370947,
          0.3189441370597851,
          null,
          -0.12996304586099208,
          -0.03364297409667264,
          null,
          -0.4215539967169726,
          -0.2260752013499937,
          null,
          0.5009863609827747,
          0.451431997382181,
          null,
          0.031418742804514566,
          0.033766896086889264,
          null,
          -0.37498451432342633,
          -0.23178941032114286,
          null,
          -0.387062562624862,
          -0.20764403521546657,
          null,
          0.07075577904076319,
          0.15029882695202143,
          null,
          0.004439115779308082,
          0.03400704072550783,
          null,
          -0.25504251464799416,
          -0.1376797911181608,
          null,
          0.033766896086889264,
          0.03400704072550783,
          null,
          -0.30782549466879316,
          -0.19163565436021276,
          null,
          -0.23178941032114286,
          -0.08872110677073405,
          null,
          -0.08872110677073405,
          0.026312952162508965,
          null,
          -0.24687283573929236,
          -0.08872110677073405,
          null,
          0.03584726092499363,
          0.08830438001505528,
          null,
          -0.6161040448692426,
          -0.43458820530901454,
          null,
          -0.14898903067031227,
          -0.03003880015455904,
          null,
          0.15220644215239812,
          0.31755306810124523,
          null,
          0.3189441370597851,
          0.439710977747905,
          null,
          0.17770072876759688,
          0.31755306810124523,
          null,
          0.4555472763469102,
          0.47099632774272454,
          null,
          -0.28232780123088763,
          -0.2688221513430908,
          null,
          -0.72655133004395,
          -0.6190085882704977,
          null,
          0.439710977747905,
          0.47099632774272454,
          null,
          0.10176471923457202,
          0.18459640855521756,
          null,
          -0.5818716701578325,
          -0.41609649509205304,
          null,
          -0.35781128736631634,
          -0.23358026582958716,
          null,
          0.6818979105324213,
          0.810821754801662,
          null,
          0.056054703327557076,
          0.10176471923457202,
          null,
          0.03400704072550783,
          0.056054703327557076,
          null,
          -0.2513599566625678,
          -0.35863888694206947,
          null,
          0.13338591336473074,
          0.18459640855521756,
          null,
          -0.03472349968625444,
          0.07494259088618549,
          null,
          -0.543665437869189,
          -0.387062562624862,
          null,
          -0.05112160398081671,
          -0.009223528337741378,
          null,
          -0.03003880015455904,
          0.059923173844947275,
          null,
          -0.1376797911181608,
          -0.01967500743164749,
          null,
          0.2766674418181583,
          0.25600131655334485,
          null,
          -0.14724102164802208,
          -0.03472349968625444,
          null,
          -0.058428260847700565,
          0.07494259088618549,
          null,
          -0.23358026582958716,
          -0.12996304586099208,
          null,
          -0.35863888694206947,
          -0.36692471584704756,
          null,
          0.08830438001505528,
          0.10267377025335098,
          null,
          -0.36692471584704756,
          -0.23358026582958716,
          null,
          -0.19163565436021276,
          -0.1061936002556028,
          null,
          -0.20764403521546657,
          -0.058428260847700565,
          null,
          0.07494259088618549,
          0.20246243039766812,
          null,
          -0.03364297409667264,
          -0.19163565436021276,
          null,
          -0.03364297409667264,
          0.033766896086889264,
          null,
          -0.03364297409667264,
          0.05635015403523342,
          null,
          -0.03364297409667264,
          0.0041680010320174965,
          null,
          0.05635015403523342,
          0.23264053952992644,
          null,
          -0.1372845408725553,
          -0.03472349968625444,
          null,
          -0.009223528337741378,
          0.041778078447321815,
          null,
          -0.3751884907804947,
          -0.20764403521546657,
          null,
          0.14487571442146552,
          -0.03003880015455904,
          null,
          0.14487571442146552,
          0.07428581010999781,
          null,
          0.14487571442146552,
          0.3189441370597851,
          null,
          0.14487571442146552,
          0.3139279139526624,
          null,
          0.06878845204143029,
          0.07428581010999781,
          null,
          -0.21579623628911904,
          -0.22841449862352545,
          null,
          -0.3865825975745568,
          -0.35781128736631634,
          null,
          0.20246243039766812,
          0.258973766820336,
          null,
          -0.07888623850762672,
          0.026312952162508965,
          null,
          -0.2260752013499937,
          -0.058428260847700565,
          null,
          0.12698972213139856,
          0.13338591336473074,
          null,
          0.2707990593591288,
          0.3348484628376016,
          null,
          -0.27006812839610034,
          -0.35863888694206947,
          null,
          0.21393585016131764,
          0.3139279139526624,
          null,
          0.09450142651579073,
          0.21632585041584385,
          null,
          -0.07667720076820529,
          -0.009223528337741378,
          null
         ]
        },
        {
         "hoverinfo": "text",
         "marker": {
          "color": "darkred",
          "size": 10
         },
         "mode": "markers+text",
         "text": [
          "+",
          "*",
          "*",
          "+",
          "+",
          "*",
          "+",
          "+",
          "tanh",
          "+",
          "+",
          "+",
          "*",
          "*",
          "*",
          "*",
          "*",
          "*",
          "+",
          "+",
          "*",
          "+",
          "*",
          "tanh",
          "*",
          "+",
          "*",
          "tanh",
          "tanh",
          "+",
          "+",
          "+",
          "+",
          "+",
          "+",
          "+",
          "+",
          "*",
          "+",
          "tanh",
          "*",
          "+",
          "+",
          "*",
          "+",
          "*",
          "+",
          "+",
          "+",
          "*",
          "+",
          "+",
          "+",
          "*",
          "+",
          "+",
          "+",
          "+",
          "+",
          "*",
          "+",
          "+",
          "*",
          "*",
          "*",
          "+",
          "*",
          "*",
          "*",
          "+",
          "+",
          "*",
          "+",
          "*",
          "+",
          "*",
          "*",
          "*",
          "*",
          "*",
          "*",
          "*",
          "*",
          "*",
          "tanh",
          "*",
          "+",
          "*",
          "*",
          "+",
          "+",
          "+",
          "*",
          "+",
          "*",
          "+",
          "+",
          "+",
          "*",
          "+",
          "*",
          "+",
          "+",
          "+",
          "+",
          "+",
          "*",
          "+",
          "+",
          "*",
          "+",
          "+",
          "+",
          "+",
          "+",
          "+",
          "+",
          "*",
          "+",
          "+",
          "+",
          "tanh",
          "*",
          "+",
          "+",
          "+",
          "+",
          "+",
          "+",
          "+",
          "+",
          "*",
          "*",
          "*",
          "*",
          "+",
          "*",
          "tanh",
          "+",
          "*",
          "*",
          "*",
          "*",
          "*",
          "*",
          "*",
          "tanh",
          "+",
          "+",
          "*",
          "*",
          "+",
          "*",
          "*",
          "+"
         ],
         "textposition": "middle center",
         "type": "scatter",
         "x": [
          0.3376294076071247,
          0.08767970137813419,
          -0.34921720335241935,
          0.2583647920361565,
          0.44986491674545237,
          0.017432360865530933,
          0.320634273124858,
          -0.41343379071532027,
          -0.21417422392907393,
          0.291387609051984,
          -0.1394396550441192,
          -0.05539278348739278,
          0.3777411974431015,
          -0.02829856816823667,
          0.1951480534253471,
          -0.009686321321065602,
          0.2732501314519991,
          0.1690326604635671,
          0.4137153868309422,
          -0.4253617469871447,
          0.3659551300997059,
          -0.05829284276238697,
          0.16809784755982374,
          0.03710942815029111,
          -0.04184771525776865,
          -0.12565500798254314,
          -0.2576339659853848,
          0.17452182593460908,
          -0.05313873919354273,
          -0.19131850450015672,
          0.3127919808022741,
          0.365405283534659,
          -0.048443309267508616,
          0.09549985942935299,
          -0.09604382315740544,
          -0.19976531030590566,
          -0.18152545493526162,
          -0.3255662997316945,
          0.1625619860631766,
          -0.605795421679017,
          -0.22480848183664348,
          -0.23335087787492043,
          -0.04003443682337873,
          -0.18407058453980285,
          0.19372702246462692,
          -0.08584119281091547,
          -0.019459143524224107,
          0.13921114254422715,
          0.1273867585595923,
          -0.04657025444567643,
          0.20271100244588044,
          0.15331760291231405,
          -0.22339569038219137,
          -0.19029201055626163,
          -0.21538996769912305,
          -0.3003534346812446,
          -0.14720183240814333,
          -0.24104857235081878,
          -0.10419715265936608,
          -0.07979945432089039,
          -0.5583530053565898,
          -0.29852634539692413,
          -0.10619285140656576,
          -0.0756247454405454,
          -0.2060494134704906,
          0.18713292724239033,
          -0.32474030486377625,
          -0.18052718400917878,
          -0.0364697807882898,
          0.12936916161883852,
          -0.12156706662572248,
          0.31065260935424654,
          -0.08311482958648729,
          0.08798265885279843,
          0.07013048080783715,
          -0.09937105352796674,
          0.2299269676931311,
          -0.23873434655537865,
          0.1858732893067523,
          0.20754335902631993,
          0.19210319258413788,
          0.2852388338810022,
          0.2767428074275885,
          0.3110445365037354,
          -0.04773450774375483,
          -0.24374015406895788,
          -0.1056993931628536,
          -0.38990984992773503,
          -0.09776103395461411,
          -0.2236891266107145,
          0.09041379391079739,
          -0.2417052571024601,
          0.40673995950024766,
          -0.24254148066403491,
          0.304614157353446,
          -0.03811466835150847,
          0.06569883865908098,
          -0.0480807736704443,
          0.4030243349649075,
          -0.14493113519274725,
          0.4135215706960691,
          0.27040229033314167,
          0.1999917325986921,
          0.26448510162445904,
          0.053389869002517604,
          -0.13235496348157877,
          -0.03255318196585042,
          0.04410492368471172,
          0.2364250662916304,
          -0.09004649344345066,
          -0.15033183282969625,
          -0.5082141818372989,
          0.08012039551745849,
          -0.08145056340800358,
          0.19520784559534787,
          0.23479913699439114,
          -0.0226609137304419,
          -0.2188422352503617,
          -0.09053034166105273,
          0.4006276351638467,
          0.4597661801619835,
          0.24546324424698743,
          -0.17197071525981023,
          -0.014781438692904061,
          -0.15107872051354163,
          -0.015185120376358448,
          0.25761182285053286,
          -0.16167497693489316,
          0.3763770829188756,
          -0.14719373538156708,
          0.14021355772783972,
          0.17159771558718223,
          -0.15733767797050735,
          -0.148171581825905,
          0.1488918676217289,
          -0.22483627629487507,
          -0.1845376989861488,
          0.048224746008144234,
          -0.23649338715877438,
          0.3383475873609041,
          0.1001131141901432,
          0.24711514387342887,
          0.14639555880033686,
          -0.10248477126895571,
          -0.09900621399936003,
          0.014391375566447373,
          0.22525582657208504,
          0.08058475750241716,
          -0.15499343233459764,
          0.07725185038996495,
          0.11826325486970882,
          0.18949203450573704,
          -0.00805383106625241,
          -0.20545227236586966,
          -0.08417770310281084
         ],
         "y": [
          0.24216523817767727,
          0.24706712464368102,
          -0.047676545230732184,
          0.08129847204914913,
          -0.06293430384362514,
          -0.3608756750377873,
          0.2306319251866879,
          0.5903515009964837,
          0.4606750388509121,
          0.07818722159220781,
          -0.1828078792392137,
          0.26458285420521693,
          -0.1925115093172046,
          0.024094937219444307,
          0.10973940360745935,
          0.12905196443158284,
          -0.0479508563354195,
          -0.3250125517394516,
          0.020124083206649893,
          0.6142711335972768,
          -0.1703750291238592,
          0.27836513612157,
          -0.33739172634318393,
          0.2617040593008914,
          -0.6846858985274276,
          -0.526798396789756,
          -0.31940318333568196,
          0.08559433329198723,
          0.19448719410783763,
          0.3458942409732556,
          0.09010713333088649,
          -0.13169563395822928,
          0.27742752263227793,
          0.1264862986026862,
          0.46121416256245273,
          -0.10647937192650478,
          0.3326902218300012,
          0.5082812184908878,
          0.30394693966970177,
          0.9054108774008309,
          -0.47592308736142797,
          0.15689984834969212,
          0.2692701780752366,
          0.2910172348110342,
          0.33326544795872703,
          0.2910759003029404,
          -0.377220105364531,
          0.3400786407558491,
          0.3442219366468326,
          -0.34965327838347704,
          0.3489559003194441,
          0.2951897825193399,
          -0.1999457624810665,
          -0.1540697015124834,
          -0.12407711355340642,
          0.42108199990948025,
          -0.2894870737838062,
          -0.22014958884084918,
          -0.3314846654156727,
          -0.4903116352061761,
          0.7885950990204467,
          0.4365763797220659,
          -0.31485481703158125,
          0.31230211482211123,
          -0.14379280702723002,
          0.3786320229245751,
          0.49389882140291974,
          0.27442035777436374,
          -0.33280028123485544,
          0.14264299713236936,
          -0.3407305205241534,
          -0.07082118027007615,
          0.031233249659561937,
          0.22833468016900527,
          0.08802526467228491,
          -0.23805751337496886,
          0.40523284734890597,
          -0.013037704694555383,
          0.3572605215836231,
          0.2969111148289688,
          0.19617984009253336,
          0.17363907341769563,
          0.11476781891877055,
          0.23962141284674726,
          -0.08180300997883236,
          -0.32381459903348314,
          0.47620917918247785,
          0.032592819445701915,
          -0.30338696232228457,
          -0.29735329892016427,
          0.11052730299639231,
          0.019223078252407957,
          -0.19636115288307748,
          0.03388696840619855,
          -0.24973057451450298,
          -0.16025525854593847,
          -0.031204077304112544,
          -0.1677969712550132,
          0.062075820470024454,
          -0.5253461250891286,
          -0.08951391541243565,
          0.2348797551268217,
          0.37932755740384505,
          0.24762689843442104,
          0.4632718020448174,
          -0.27557497628698924,
          -0.6727799591572239,
          0.4553536527453148,
          0.14318056389489478,
          -0.49898408262494276,
          -0.29569577659795176,
          0.7463598326670416,
          0.07890971128106455,
          0.045030872026532456,
          -0.30499942180231865,
          0.15899116095997415,
          0.020109545599965525,
          -0.4653640002470255,
          -0.030172566159279043,
          0.014942186845194117,
          -0.07867739927490415,
          0.26633437918575154,
          -0.09098226066713826,
          0.008257165019242462,
          -0.18177165584528962,
          -0.3627818013945585,
          0.09548907513420313,
          -0.30025249083831734,
          -0.14891462730790778,
          -0.13303614803158356,
          0.1387025106419268,
          -0.1126393142284427,
          0.00006196099510831152,
          0.01135358996928039,
          -0.014737486532327572,
          0.14449534678257994,
          -0.08600402027940486,
          0.01627727505479022,
          -0.2914162629979806,
          0.05741845713345324,
          0.10958076226573166,
          0.2319099257406253,
          0.22940181418706396,
          0.07153713107571405,
          -0.22210536745632226,
          -0.37219694247043655,
          0.23071809860900205,
          -0.026286643172558875,
          -0.14225173109884715,
          0.13018781774806465,
          0.3028237610983652,
          -0.3143535076690849,
          0.26393188205699003,
          0.1554136384658173,
          -0.04295036455297334
         ]
        },
        {
         "hoverinfo": "text",
         "marker": {
          "color": "darkblue",
          "size": 20
         },
         "mode": "markers+text",
         "text": [
          "b",
          "",
          "w0",
          "",
          "",
          "w2",
          "",
          "",
          "",
          "",
          "b",
          "",
          "w0",
          "",
          "w1",
          "",
          "",
          "",
          "",
          "",
          "",
          "",
          "",
          "w1",
          "",
          "",
          "",
          "",
          "",
          "",
          "",
          "",
          "",
          "",
          "",
          "b",
          "",
          "",
          "",
          "",
          "",
          "",
          "",
          "",
          "",
          "",
          "",
          "",
          "",
          "",
          "",
          "",
          "",
          "",
          "",
          "",
          "",
          "b",
          "",
          "",
          "w1",
          "w2",
          "",
          "w3",
          "w2",
          "w0",
          "b",
          "",
          "w0",
          "",
          "w0",
          "",
          "w1",
          "w3",
          "w1",
          "",
          "w1",
          "w2",
          "",
          "",
          "b",
          "w0",
          "w2",
          "",
          "b",
          "",
          "w1",
          "",
          "w0",
          "",
          "",
          "",
          "w3",
          "",
          "w2",
          "",
          "",
          "",
          "",
          "",
          "w0",
          "",
          "",
          "w1",
          "",
          "",
          "",
          "",
          "",
          "",
          "",
          "w0",
          "b",
          "",
          "",
          "",
          "",
          "",
          "",
          "",
          "",
          "",
          "",
          "",
          "",
          "",
          "",
          "w2",
          "",
          "",
          "",
          "w2",
          "",
          "",
          "",
          "",
          "b",
          "",
          "w3",
          "w3",
          "",
          "w2",
          "w1",
          ""
         ],
         "type": "scatter",
         "x": [
          0.34890609519587984,
          0.1645737684756053,
          -0.3968912491649833,
          0.3424596687224118,
          0.4147587285514322,
          0.13403995573892621,
          0.3149158262313464,
          -0.3555729821787737,
          -0.15664474311718138,
          0.29258374135541243,
          -0.17821030071268334,
          0.010785634280663078,
          0.4565579851610484,
          0.11193900751950381,
          0.2551220857573243,
          0.4849711049394726,
          -0.3794288947224225,
          0.4329858504742573,
          0.004985515730674693,
          0.2532524599498376,
          0.10474394153717433,
          0.02089559810446294,
          -0.10459102862000023,
          -0.2942833444097317,
          0.13114407875269166,
          0.016729803508804788,
          -0.14115730038523885,
          0.3353924848559927,
          0.3160518385178858,
          -0.14812939504989478,
          0.1742699153499012,
          -0.0354429031976295,
          -0.24666472990940502,
          -0.12157120125544864,
          -0.2717037047409665,
          0.22038003058917888,
          -0.5451337644227311,
          -0.20762390410683482,
          -0.3185723606999461,
          -0.131311650161635,
          -0.12300728189589025,
          0.1855627806418,
          -0.030525085236592094,
          0.0829432351698099,
          0.07489154448414721,
          0.05124277651487754,
          -0.0029199440808640458,
          0.2035307406043071,
          0.2018912642874538,
          -0.16887733606854297,
          -0.13391929120311824,
          -0.27791404469583975,
          -0.24513388718371545,
          -0.09022056481048882,
          -0.2041831000057978,
          -0.11197915941237327,
          -0.04761974922940752,
          -0.5715722462904486,
          -0.2414797086150746,
          -0.13590276754464428,
          -0.010092190495851944,
          -0.1654340970315762,
          0.25061310391772773,
          -0.27005171500513003,
          -0.1159204808346421,
          0.01728100323390921,
          0.03775060750434682,
          -0.14671898734508607,
          0.3287214773530806,
          -0.16853614385597715,
          0.1651796834249338,
          -0.017673344736240108,
          -0.029864770987390505,
          0.3176312941835975,
          -0.30893254925478014,
          0.22952393741083987,
          0.2751285155239866,
          0.34575835837713964,
          -0.10066900937555506,
          -0.2664957205768778,
          -0.0547540432085258,
          -0.45994435002641004,
          -0.11903913264074095,
          -0.24199305956645217,
          0.16409778431278998,
          -0.3182029027059105,
          0.3789186636160009,
          -0.3198753498290601,
          0.27123287742057284,
          -0.07648293526848725,
          0.00025359856547029766,
          -0.0964151459063589,
          0.46509493957865056,
          -0.14314328304040846,
          0.36824753978685654,
          0.29019147674855555,
          0.27633071463033126,
          0.2783570993311904,
          0.1422226412026647,
          -0.06052682695735971,
          0.03948466468829939,
          0.12365275056705294,
          0.1579343063519144,
          -0.06811382747452804,
          -0.09917523400786435,
          -0.4712945992518668,
          0.0023064846830025652,
          -0.16520761149900973,
          0.29892440972515455,
          0.15468244775743586,
          -0.10476122718323302,
          -0.19569141093427123,
          -0.1655711678188901,
          0.45879560160528166,
          0.4345612553844944,
          0.32635272001836957,
          -0.2391802033363874,
          -0.08900227710815735,
          -0.2014884316515282,
          0.09149128146554122,
          0.3409537303511645,
          -0.12186152221825812,
          0.3379954372863191,
          -0.20538519365497682,
          0.059439399722349226,
          0.005199993888045396,
          -0.3015431575398554,
          -0.26431417078906455,
          -0.015489515503215341,
          -0.26760158066257195,
          0.2178995731165265,
          -0.1872961978016713,
          -0.029135091930177093,
          -0.6664570789353029,
          0.1279579851407591,
          0.22098771573333023,
          0.030025436252142653,
          -0.22098458756103792,
          -0.00017874697750596048,
          0.05096372909761763,
          0.2874927875459329,
          -0.09099920661665203,
          -0.27959289457010433,
          -0.15286589070240633
         ],
         "y": [
          0.20766303453719628,
          0.25600131655334485,
          -0.15170324449669778,
          0.059923173844947275,
          -0.1061936002556028,
          -0.36394006270925827,
          0.18459640855521756,
          0.498805091460546,
          0.451431997382181,
          0.0041680010320174965,
          -0.23565271261743534,
          0.23813293273401723,
          -0.1336630619718414,
          0.041778078447321815,
          -0.2625096085968888,
          -0.01967500743164749,
          0.5466443566621324,
          -0.08939010158515064,
          0.2656974965667234,
          -0.28726795780435355,
          0.2586971319588274,
          -0.7503632087843575,
          -0.6190085882704977,
          -0.4127311653213702,
          0.026312952162508965,
          0.15029882695202143,
          0.31744081396292534,
          0.028007824509374852,
          -0.15719766766085577,
          0.23264053952992644,
          0.10267377025335098,
          0.47099632774272454,
          -0.13628154308480425,
          0.2910327756764166,
          0.4699180803196432,
          0.3491967473805761,
          0.810821754801662,
          -0.5647836120979939,
          0.0811591571694578,
          0.21632585041584385,
          0.23867556126365383,
          0.3348484628376016,
          0.26471098664295545,
          -0.38751549488201437,
          0.3139279139526624,
          0.3222145057346294,
          -0.38915456054243247,
          0.3662293675590358,
          0.33168243307985246,
          -0.22841449862352545,
          -0.17185785994016253,
          -0.17147702633860754,
          0.34335890835841454,
          -0.3101519962245216,
          -0.2688221513430908,
          -0.41609649509205304,
          -0.5645267753202992,
          0.7663684432392313,
          0.3743476679835858,
          -0.3979202237420196,
          0.3071634156812971,
          -0.1513040709696558,
          0.31755306810124523,
          0.44115328614370714,
          0.20548180719031292,
          -0.3554485662451893,
          0.08282356386707058,
          -0.43458820530901454,
          -0.1458103615721698,
          0.006411795991566797,
          0.21853642760399333,
          0.07428581010999781,
          -0.24770052812641227,
          0.35491841835090165,
          -0.032487205380677564,
          0.258973766820336,
          0.051834909069944236,
          0.16029868863370947,
          -0.12996304586099208,
          -0.4215539967169726,
          0.5009863609827747,
          0.031418742804514566,
          -0.37498451432342633,
          -0.387062562624862,
          0.07075577904076319,
          0.004439115779308082,
          -0.25504251464799416,
          0.033766896086889264,
          -0.30782549466879316,
          -0.23178941032114286,
          -0.08872110677073405,
          -0.24687283573929236,
          0.03584726092499363,
          -0.6161040448692426,
          -0.14898903067031227,
          0.15220644215239812,
          0.3189441370597851,
          0.17770072876759688,
          0.4555472763469102,
          -0.28232780123088763,
          -0.72655133004395,
          0.439710977747905,
          0.10176471923457202,
          -0.5818716701578325,
          -0.35781128736631634,
          0.6818979105324213,
          0.056054703327557076,
          0.03400704072550783,
          -0.2513599566625678,
          0.13338591336473074,
          -0.03472349968625444,
          -0.543665437869189,
          -0.05112160398081671,
          -0.03003880015455904,
          -0.1376797911181608,
          0.2766674418181583,
          -0.14724102164802208,
          -0.058428260847700565,
          -0.23358026582958716,
          -0.35863888694206947,
          0.08830438001505528,
          -0.36692471584704756,
          -0.19163565436021276,
          -0.20764403521546657,
          0.07494259088618549,
          -0.03364297409667264,
          0.05635015403523342,
          -0.1372845408725553,
          -0.009223528337741378,
          -0.3751884907804947,
          0.14487571442146552,
          0.06878845204143029,
          -0.21579623628911904,
          1,
          -0.3865825975745568,
          0.20246243039766812,
          -0.07888623850762672,
          -0.2260752013499937,
          0.12698972213139856,
          0.2707990593591288,
          -0.27006812839610034,
          0.21393585016131764,
          0.09450142651579073,
          -0.07667720076820529
         ]
        }
       ],
       "layout": {
        "template": {
         "data": {
          "bar": [
           {
            "error_x": {
             "color": "#f2f5fa"
            },
            "error_y": {
             "color": "#f2f5fa"
            },
            "marker": {
             "line": {
              "color": "rgb(17,17,17)",
              "width": 0.5
             },
             "pattern": {
              "fillmode": "overlay",
              "size": 10,
              "solidity": 0.2
             }
            },
            "type": "bar"
           }
          ],
          "barpolar": [
           {
            "marker": {
             "line": {
              "color": "rgb(17,17,17)",
              "width": 0.5
             },
             "pattern": {
              "fillmode": "overlay",
              "size": 10,
              "solidity": 0.2
             }
            },
            "type": "barpolar"
           }
          ],
          "carpet": [
           {
            "aaxis": {
             "endlinecolor": "#A2B1C6",
             "gridcolor": "#506784",
             "linecolor": "#506784",
             "minorgridcolor": "#506784",
             "startlinecolor": "#A2B1C6"
            },
            "baxis": {
             "endlinecolor": "#A2B1C6",
             "gridcolor": "#506784",
             "linecolor": "#506784",
             "minorgridcolor": "#506784",
             "startlinecolor": "#A2B1C6"
            },
            "type": "carpet"
           }
          ],
          "choropleth": [
           {
            "colorbar": {
             "outlinewidth": 0,
             "ticks": ""
            },
            "type": "choropleth"
           }
          ],
          "contour": [
           {
            "colorbar": {
             "outlinewidth": 0,
             "ticks": ""
            },
            "colorscale": [
             [
              0,
              "#0d0887"
             ],
             [
              0.1111111111111111,
              "#46039f"
             ],
             [
              0.2222222222222222,
              "#7201a8"
             ],
             [
              0.3333333333333333,
              "#9c179e"
             ],
             [
              0.4444444444444444,
              "#bd3786"
             ],
             [
              0.5555555555555556,
              "#d8576b"
             ],
             [
              0.6666666666666666,
              "#ed7953"
             ],
             [
              0.7777777777777778,
              "#fb9f3a"
             ],
             [
              0.8888888888888888,
              "#fdca26"
             ],
             [
              1,
              "#f0f921"
             ]
            ],
            "type": "contour"
           }
          ],
          "contourcarpet": [
           {
            "colorbar": {
             "outlinewidth": 0,
             "ticks": ""
            },
            "type": "contourcarpet"
           }
          ],
          "heatmap": [
           {
            "colorbar": {
             "outlinewidth": 0,
             "ticks": ""
            },
            "colorscale": [
             [
              0,
              "#0d0887"
             ],
             [
              0.1111111111111111,
              "#46039f"
             ],
             [
              0.2222222222222222,
              "#7201a8"
             ],
             [
              0.3333333333333333,
              "#9c179e"
             ],
             [
              0.4444444444444444,
              "#bd3786"
             ],
             [
              0.5555555555555556,
              "#d8576b"
             ],
             [
              0.6666666666666666,
              "#ed7953"
             ],
             [
              0.7777777777777778,
              "#fb9f3a"
             ],
             [
              0.8888888888888888,
              "#fdca26"
             ],
             [
              1,
              "#f0f921"
             ]
            ],
            "type": "heatmap"
           }
          ],
          "heatmapgl": [
           {
            "colorbar": {
             "outlinewidth": 0,
             "ticks": ""
            },
            "colorscale": [
             [
              0,
              "#0d0887"
             ],
             [
              0.1111111111111111,
              "#46039f"
             ],
             [
              0.2222222222222222,
              "#7201a8"
             ],
             [
              0.3333333333333333,
              "#9c179e"
             ],
             [
              0.4444444444444444,
              "#bd3786"
             ],
             [
              0.5555555555555556,
              "#d8576b"
             ],
             [
              0.6666666666666666,
              "#ed7953"
             ],
             [
              0.7777777777777778,
              "#fb9f3a"
             ],
             [
              0.8888888888888888,
              "#fdca26"
             ],
             [
              1,
              "#f0f921"
             ]
            ],
            "type": "heatmapgl"
           }
          ],
          "histogram": [
           {
            "marker": {
             "pattern": {
              "fillmode": "overlay",
              "size": 10,
              "solidity": 0.2
             }
            },
            "type": "histogram"
           }
          ],
          "histogram2d": [
           {
            "colorbar": {
             "outlinewidth": 0,
             "ticks": ""
            },
            "colorscale": [
             [
              0,
              "#0d0887"
             ],
             [
              0.1111111111111111,
              "#46039f"
             ],
             [
              0.2222222222222222,
              "#7201a8"
             ],
             [
              0.3333333333333333,
              "#9c179e"
             ],
             [
              0.4444444444444444,
              "#bd3786"
             ],
             [
              0.5555555555555556,
              "#d8576b"
             ],
             [
              0.6666666666666666,
              "#ed7953"
             ],
             [
              0.7777777777777778,
              "#fb9f3a"
             ],
             [
              0.8888888888888888,
              "#fdca26"
             ],
             [
              1,
              "#f0f921"
             ]
            ],
            "type": "histogram2d"
           }
          ],
          "histogram2dcontour": [
           {
            "colorbar": {
             "outlinewidth": 0,
             "ticks": ""
            },
            "colorscale": [
             [
              0,
              "#0d0887"
             ],
             [
              0.1111111111111111,
              "#46039f"
             ],
             [
              0.2222222222222222,
              "#7201a8"
             ],
             [
              0.3333333333333333,
              "#9c179e"
             ],
             [
              0.4444444444444444,
              "#bd3786"
             ],
             [
              0.5555555555555556,
              "#d8576b"
             ],
             [
              0.6666666666666666,
              "#ed7953"
             ],
             [
              0.7777777777777778,
              "#fb9f3a"
             ],
             [
              0.8888888888888888,
              "#fdca26"
             ],
             [
              1,
              "#f0f921"
             ]
            ],
            "type": "histogram2dcontour"
           }
          ],
          "mesh3d": [
           {
            "colorbar": {
             "outlinewidth": 0,
             "ticks": ""
            },
            "type": "mesh3d"
           }
          ],
          "parcoords": [
           {
            "line": {
             "colorbar": {
              "outlinewidth": 0,
              "ticks": ""
             }
            },
            "type": "parcoords"
           }
          ],
          "pie": [
           {
            "automargin": true,
            "type": "pie"
           }
          ],
          "scatter": [
           {
            "marker": {
             "line": {
              "color": "#283442"
             }
            },
            "type": "scatter"
           }
          ],
          "scatter3d": [
           {
            "line": {
             "colorbar": {
              "outlinewidth": 0,
              "ticks": ""
             }
            },
            "marker": {
             "colorbar": {
              "outlinewidth": 0,
              "ticks": ""
             }
            },
            "type": "scatter3d"
           }
          ],
          "scattercarpet": [
           {
            "marker": {
             "colorbar": {
              "outlinewidth": 0,
              "ticks": ""
             }
            },
            "type": "scattercarpet"
           }
          ],
          "scattergeo": [
           {
            "marker": {
             "colorbar": {
              "outlinewidth": 0,
              "ticks": ""
             }
            },
            "type": "scattergeo"
           }
          ],
          "scattergl": [
           {
            "marker": {
             "line": {
              "color": "#283442"
             }
            },
            "type": "scattergl"
           }
          ],
          "scattermapbox": [
           {
            "marker": {
             "colorbar": {
              "outlinewidth": 0,
              "ticks": ""
             }
            },
            "type": "scattermapbox"
           }
          ],
          "scatterpolar": [
           {
            "marker": {
             "colorbar": {
              "outlinewidth": 0,
              "ticks": ""
             }
            },
            "type": "scatterpolar"
           }
          ],
          "scatterpolargl": [
           {
            "marker": {
             "colorbar": {
              "outlinewidth": 0,
              "ticks": ""
             }
            },
            "type": "scatterpolargl"
           }
          ],
          "scatterternary": [
           {
            "marker": {
             "colorbar": {
              "outlinewidth": 0,
              "ticks": ""
             }
            },
            "type": "scatterternary"
           }
          ],
          "surface": [
           {
            "colorbar": {
             "outlinewidth": 0,
             "ticks": ""
            },
            "colorscale": [
             [
              0,
              "#0d0887"
             ],
             [
              0.1111111111111111,
              "#46039f"
             ],
             [
              0.2222222222222222,
              "#7201a8"
             ],
             [
              0.3333333333333333,
              "#9c179e"
             ],
             [
              0.4444444444444444,
              "#bd3786"
             ],
             [
              0.5555555555555556,
              "#d8576b"
             ],
             [
              0.6666666666666666,
              "#ed7953"
             ],
             [
              0.7777777777777778,
              "#fb9f3a"
             ],
             [
              0.8888888888888888,
              "#fdca26"
             ],
             [
              1,
              "#f0f921"
             ]
            ],
            "type": "surface"
           }
          ],
          "table": [
           {
            "cells": {
             "fill": {
              "color": "#506784"
             },
             "line": {
              "color": "rgb(17,17,17)"
             }
            },
            "header": {
             "fill": {
              "color": "#2a3f5f"
             },
             "line": {
              "color": "rgb(17,17,17)"
             }
            },
            "type": "table"
           }
          ]
         },
         "layout": {
          "annotationdefaults": {
           "arrowcolor": "#f2f5fa",
           "arrowhead": 0,
           "arrowwidth": 1
          },
          "autotypenumbers": "strict",
          "coloraxis": {
           "colorbar": {
            "outlinewidth": 0,
            "ticks": ""
           }
          },
          "colorscale": {
           "diverging": [
            [
             0,
             "#8e0152"
            ],
            [
             0.1,
             "#c51b7d"
            ],
            [
             0.2,
             "#de77ae"
            ],
            [
             0.3,
             "#f1b6da"
            ],
            [
             0.4,
             "#fde0ef"
            ],
            [
             0.5,
             "#f7f7f7"
            ],
            [
             0.6,
             "#e6f5d0"
            ],
            [
             0.7,
             "#b8e186"
            ],
            [
             0.8,
             "#7fbc41"
            ],
            [
             0.9,
             "#4d9221"
            ],
            [
             1,
             "#276419"
            ]
           ],
           "sequential": [
            [
             0,
             "#0d0887"
            ],
            [
             0.1111111111111111,
             "#46039f"
            ],
            [
             0.2222222222222222,
             "#7201a8"
            ],
            [
             0.3333333333333333,
             "#9c179e"
            ],
            [
             0.4444444444444444,
             "#bd3786"
            ],
            [
             0.5555555555555556,
             "#d8576b"
            ],
            [
             0.6666666666666666,
             "#ed7953"
            ],
            [
             0.7777777777777778,
             "#fb9f3a"
            ],
            [
             0.8888888888888888,
             "#fdca26"
            ],
            [
             1,
             "#f0f921"
            ]
           ],
           "sequentialminus": [
            [
             0,
             "#0d0887"
            ],
            [
             0.1111111111111111,
             "#46039f"
            ],
            [
             0.2222222222222222,
             "#7201a8"
            ],
            [
             0.3333333333333333,
             "#9c179e"
            ],
            [
             0.4444444444444444,
             "#bd3786"
            ],
            [
             0.5555555555555556,
             "#d8576b"
            ],
            [
             0.6666666666666666,
             "#ed7953"
            ],
            [
             0.7777777777777778,
             "#fb9f3a"
            ],
            [
             0.8888888888888888,
             "#fdca26"
            ],
            [
             1,
             "#f0f921"
            ]
           ]
          },
          "colorway": [
           "#636efa",
           "#EF553B",
           "#00cc96",
           "#ab63fa",
           "#FFA15A",
           "#19d3f3",
           "#FF6692",
           "#B6E880",
           "#FF97FF",
           "#FECB52"
          ],
          "font": {
           "color": "#f2f5fa"
          },
          "geo": {
           "bgcolor": "rgb(17,17,17)",
           "lakecolor": "rgb(17,17,17)",
           "landcolor": "rgb(17,17,17)",
           "showlakes": true,
           "showland": true,
           "subunitcolor": "#506784"
          },
          "hoverlabel": {
           "align": "left"
          },
          "hovermode": "closest",
          "mapbox": {
           "style": "dark"
          },
          "paper_bgcolor": "rgb(17,17,17)",
          "plot_bgcolor": "rgb(17,17,17)",
          "polar": {
           "angularaxis": {
            "gridcolor": "#506784",
            "linecolor": "#506784",
            "ticks": ""
           },
           "bgcolor": "rgb(17,17,17)",
           "radialaxis": {
            "gridcolor": "#506784",
            "linecolor": "#506784",
            "ticks": ""
           }
          },
          "scene": {
           "xaxis": {
            "backgroundcolor": "rgb(17,17,17)",
            "gridcolor": "#506784",
            "gridwidth": 2,
            "linecolor": "#506784",
            "showbackground": true,
            "ticks": "",
            "zerolinecolor": "#C8D4E3"
           },
           "yaxis": {
            "backgroundcolor": "rgb(17,17,17)",
            "gridcolor": "#506784",
            "gridwidth": 2,
            "linecolor": "#506784",
            "showbackground": true,
            "ticks": "",
            "zerolinecolor": "#C8D4E3"
           },
           "zaxis": {
            "backgroundcolor": "rgb(17,17,17)",
            "gridcolor": "#506784",
            "gridwidth": 2,
            "linecolor": "#506784",
            "showbackground": true,
            "ticks": "",
            "zerolinecolor": "#C8D4E3"
           }
          },
          "shapedefaults": {
           "line": {
            "color": "#f2f5fa"
           }
          },
          "sliderdefaults": {
           "bgcolor": "#C8D4E3",
           "bordercolor": "rgb(17,17,17)",
           "borderwidth": 1,
           "tickwidth": 0
          },
          "ternary": {
           "aaxis": {
            "gridcolor": "#506784",
            "linecolor": "#506784",
            "ticks": ""
           },
           "baxis": {
            "gridcolor": "#506784",
            "linecolor": "#506784",
            "ticks": ""
           },
           "bgcolor": "rgb(17,17,17)",
           "caxis": {
            "gridcolor": "#506784",
            "linecolor": "#506784",
            "ticks": ""
           }
          },
          "title": {
           "x": 0.05
          },
          "updatemenudefaults": {
           "bgcolor": "#506784",
           "borderwidth": 0
          },
          "xaxis": {
           "automargin": true,
           "gridcolor": "#283442",
           "linecolor": "#506784",
           "ticks": "",
           "title": {
            "standoff": 15
           },
           "zerolinecolor": "#283442",
           "zerolinewidth": 2
          },
          "yaxis": {
           "automargin": true,
           "gridcolor": "#283442",
           "linecolor": "#506784",
           "ticks": "",
           "title": {
            "standoff": 15
           },
           "zerolinecolor": "#283442",
           "zerolinewidth": 2
          }
         }
        }
       }
      }
     },
     "metadata": {},
     "output_type": "display_data"
    }
   ],
   "source": [
    "x = [2,3,-1]\n",
    "n = MLP(3,[4, 4, 1])\n",
    "n(x)\n",
    "\n",
    "draw_graph(n(x)[0])\n",
    "\n"
   ]
  },
  {
   "cell_type": "code",
   "execution_count": 301,
   "metadata": {},
   "outputs": [
    {
     "name": "stdout",
     "output_type": "stream",
     "text": [
      "[Value(0.21219181480468247, ), Value(-0.08664362523731337, ), Value(0.8031813566976487, ), Value(0.10767201000273122, )]\n"
     ]
    }
   ],
   "source": [
    "#Loss Function\n",
    "\n",
    "#Say we have these inputs \n",
    "xs = [[2,3,-1],[3,-1,.5],[.5,1,1],[1,1,-1]]\n",
    "\n",
    "#And we want these outputs\n",
    "ys = [1,-1,-1,1]\n",
    "\n",
    "#Right now we have \n",
    "ypred = [n(x)[0] for x in xs]\n",
    "print(ypred)\n",
    "\n",
    "#We want to minimize the loss function "
   ]
  },
  {
   "cell_type": "code",
   "execution_count": 302,
   "metadata": {},
   "outputs": [
    {
     "data": {
      "text/plain": [
       "41"
      ]
     },
     "execution_count": 302,
     "metadata": {},
     "output_type": "execute_result"
    }
   ],
   "source": [
    "#Mean Squared Error\n",
    "def mse(y,ypred):\n",
    "    mse = []\n",
    "    for ygt, yOut in zip(y,ypred):\n",
    "        #Distance from ground truth squared = MSE \n",
    "        mse.append( (ygt - yOut)**2 )\n",
    "\n",
    "        \n",
    "\n",
    "    return sum(mse)\n",
    "\n",
    "loss = mse(ys,ypred)\n",
    "\n",
    "loss.backwards()\n",
    "\n",
    "len( n.parameters() )"
   ]
  },
  {
   "cell_type": "code",
   "execution_count": 303,
   "metadata": {},
   "outputs": [
    {
     "data": {
      "text/plain": [
       "10.467724060344194"
      ]
     },
     "execution_count": 303,
     "metadata": {},
     "output_type": "execute_result"
    }
   ],
   "source": [
    "n.layers[0].neurons[0].w[0].grad #Gradient of first weight in first neuron in first layer\n",
    "#Slightly decreasing this would make the loss smaller (cause its calculated with respect to loss)"
   ]
  },
  {
   "cell_type": "code",
   "execution_count": 394,
   "metadata": {},
   "outputs": [
    {
     "name": "stdout",
     "output_type": "stream",
     "text": [
      "Loss= 8.0\n",
      "[Value(-1.0, ), Value(-1.0, ), Value(-1.0, ), Value(-1.0, )]\n"
     ]
    }
   ],
   "source": [
    "yPred = [n(x)[0] for x in xs]\n",
    "loss = mse(ys,yPred)\n",
    "loss.backwards()\n",
    "print(\"Loss=\",loss.data)\n",
    "print(yPred)\n",
    "for p in n.parameters():\n",
    "    p.data -= .1*p.grad\n"
   ]
  },
  {
   "cell_type": "code",
   "execution_count": null,
   "metadata": {},
   "outputs": [],
   "source": []
  }
 ],
 "metadata": {
  "kernelspec": {
   "display_name": "Python 3.10.6 64-bit",
   "language": "python",
   "name": "python3"
  },
  "language_info": {
   "codemirror_mode": {
    "name": "ipython",
    "version": 3
   },
   "file_extension": ".py",
   "mimetype": "text/x-python",
   "name": "python",
   "nbconvert_exporter": "python",
   "pygments_lexer": "ipython3",
   "version": "3.10.6"
  },
  "orig_nbformat": 4,
  "vscode": {
   "interpreter": {
    "hash": "aee8b7b246df8f9039afb4144a1f6fd8d2ca17a180786b69acc140d282b71a49"
   }
  }
 },
 "nbformat": 4,
 "nbformat_minor": 2
}
