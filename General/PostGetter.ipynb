{
 "cells": [
  {
   "cell_type": "code",
   "execution_count": 5,
   "metadata": {},
   "outputs": [],
   "source": [
    "filePath = \"/Users/mattraghu/Downloads/Transferred Docs 2023_02_12 20_26_14\"\n",
    "\n",
    "#Loop though this folder and go into each .docx file and extract the text from it \n",
    "\n",
    "text = \"\"\n",
    "\n",
    "import os\n",
    "import docx\n",
    "\n",
    "for file in os.listdir(filePath):\n",
    "    if file.endswith(\".docx\"):\n",
    "        doc = docx.Document(filePath + \"/\" + file)\n",
    "        for para in doc.paragraphs:\n",
    "            if para.text != \"\":\n",
    "                text += para.text + \"\\n\"\n",
    "\n",
    "#Save the text to a file\n",
    "with open(\"text.txt\", \"w\") as f:\n",
    "    f.write(text)\n",
    "    \n",
    "\n",
    "\n",
    "\n"
   ]
  },
  {
   "cell_type": "code",
   "execution_count": null,
   "metadata": {},
   "outputs": [],
   "source": []
  }
 ],
 "metadata": {
  "kernelspec": {
   "display_name": "Python 3.10.6 64-bit",
   "language": "python",
   "name": "python3"
  },
  "language_info": {
   "codemirror_mode": {
    "name": "ipython",
    "version": 3
   },
   "file_extension": ".py",
   "mimetype": "text/x-python",
   "name": "python",
   "nbconvert_exporter": "python",
   "pygments_lexer": "ipython3",
   "version": "3.10.6"
  },
  "orig_nbformat": 4,
  "vscode": {
   "interpreter": {
    "hash": "aee8b7b246df8f9039afb4144a1f6fd8d2ca17a180786b69acc140d282b71a49"
   }
  }
 },
 "nbformat": 4,
 "nbformat_minor": 2
}
