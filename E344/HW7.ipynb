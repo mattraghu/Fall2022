{
 "cells": [
  {
   "cell_type": "code",
   "execution_count": 1,
   "metadata": {},
   "outputs": [],
   "source": [
    "from sympy import *"
   ]
  },
  {
   "cell_type": "code",
   "execution_count": 6,
   "metadata": {},
   "outputs": [
    {
     "data": {
      "text/latex": [
       "$\\displaystyle \\epsilon_{\\perp}$"
      ],
      "text/plain": [
       "\\epsilon_{\\perp}"
      ]
     },
     "execution_count": 6,
     "metadata": {},
     "output_type": "execute_result"
    }
   ],
   "source": [
    "#Important Equations\n",
    "\n",
    "E, stress, strain = symbols('E \\sigma \\epsilon')\n",
    "EEq = Eq(E, stress/strain)\n",
    "\n",
    "PR = symbols('\\mu')\n",
    "strain_perp = symbols('\\epsilon_{\\perp}')\n",
    "strain_para = symbols('\\epsilon_{||}')\n",
    "PREq = Eq(PR, strain_perp/strain_para)"
   ]
  },
  {
   "cell_type": "code",
   "execution_count": 13,
   "metadata": {},
   "outputs": [
    {
     "name": "stdout",
     "output_type": "stream",
     "text": [
      "The stress in the rod is 350.140874802170 MPa\n",
      "The following materials are acceptable based on yield strength:\n",
      "Steel\n",
      "Titanium\n",
      "The diameter reduction of Steel is -0.00507450543191550 mm\n",
      "The diameter reduction of Titanium is -0.0111259717226858 mm\n",
      "The diameter reduction of Titanium is too large.\n"
     ]
    }
   ],
   "source": [
    "#Question 6\n",
    "# A cylindrical rod 100 mm long and having a diameter of 10.0 mm is to be deformed using a tensile load of 27,500 N. It must not\n",
    "# experience either plastic deformation or a diameter reduction of more than 7.5x 10-3 mm. Of the materials listed as follows, which are\n",
    "# possible candidates? Justify your choice(s).\n",
    "# Material\n",
    "# Aluminum alloy\n",
    "# Brass alloy\n",
    "# Steel alloy\n",
    "# Titanium alloy\n",
    "# Modulus of Elasticity(GPa)  \n",
    "# 70\n",
    "# 101\n",
    "# 207\n",
    "# 107\n",
    "# Yield Strength (MPa)\n",
    "# 200\n",
    "# 300\n",
    "# 400\n",
    "# 650\n",
    "# Poisson's Ratio\n",
    "# 0.33\n",
    "# 0.34\n",
    "# 0.30\n",
    "# 0.34\n",
    "\n",
    "#Calculate stress in rod\n",
    "l = 100E-3\n",
    "d = 10E-3\n",
    "F = 27500\n",
    "strain_max = 7.5E-6/d\n",
    "A = pi*(d/2)**2\n",
    "\n",
    "stress = N( F/A )\n",
    "#Print in MPa\n",
    "print('The stress in the rod is', stress/1E6, 'MPa')\n",
    "\n",
    "#Print Acceptable Materials Based on Yield Strength\n",
    "yieldStrengths = {\n",
    "    'Aluminum': 200E6,\n",
    "    'Brass': 300E6,\n",
    "    'Steel': 400E6,\n",
    "    'Titanium': 650E6\n",
    "}\n",
    "\n",
    "print('The following materials are acceptable based on yield strength:')\n",
    "materials = []\n",
    "for material in yieldStrengths:\n",
    "    if yieldStrengths[material] >= stress:\n",
    "        print(material)\n",
    "        materials.append(material)\n",
    "\n",
    "\n",
    "#Calculate Diameter Reduction of materials\n",
    "modsOfElastic = {\n",
    "    'Aluminum': 70E9,\n",
    "    'Brass': 101E9,\n",
    "    'Steel': 207E9,\n",
    "    'Titanium': 107E9\n",
    "}\n",
    "\n",
    "posRatios = {\n",
    "    'Aluminum': 0.33,\n",
    "    'Brass': 0.34,\n",
    "    'Steel': 0.30,\n",
    "    'Titanium': 0.34\n",
    "}\n",
    "\n",
    "for material in materials:\n",
    "    strain_l = stress/modsOfElastic[material]\n",
    "    strain_d = strain_l*posRatios[material]\n",
    "\n",
    "    deltaD = -strain_d*d\n",
    "    print('The diameter reduction of', material, 'is', deltaD*1E3, 'mm')\n",
    "\n",
    "    if abs(deltaD) > 7.5E-6:\n",
    "        print('The diameter reduction of', material, 'is too large.')\n",
    "        materials.remove(material)\n"
   ]
  },
  {
   "cell_type": "code",
   "execution_count": null,
   "metadata": {},
   "outputs": [],
   "source": []
  }
 ],
 "metadata": {
  "kernelspec": {
   "display_name": "Python 3.8.3 64-bit",
   "language": "python",
   "name": "python3"
  },
  "language_info": {
   "codemirror_mode": {
    "name": "ipython",
    "version": 3
   },
   "file_extension": ".py",
   "mimetype": "text/x-python",
   "name": "python",
   "nbconvert_exporter": "python",
   "pygments_lexer": "ipython3",
   "version": "3.8.3"
  },
  "orig_nbformat": 4,
  "vscode": {
   "interpreter": {
    "hash": "1f59d50658d4cd97c33559e64c64cdabcc2031b5c15f33137a9aa45101c8cb06"
   }
  }
 },
 "nbformat": 4,
 "nbformat_minor": 2
}
