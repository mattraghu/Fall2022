{
 "cells": [
  {
   "cell_type": "code",
   "execution_count": 1,
   "metadata": {},
   "outputs": [],
   "source": [
    "from sympy import *"
   ]
  },
  {
   "cell_type": "code",
   "execution_count": 14,
   "metadata": {},
   "outputs": [],
   "source": [
    "#Body Centered Cubic (BCC) Lattice\n",
    "\n",
    "#Symbols\n",
    "a, R = symbols('a, R')\n",
    "\n",
    "#Relating the lattice parameters to the atomic radius\n",
    "a_R_Equation = Eq((4*R)**2, a**2 + (2*a**2))\n",
    "\n"
   ]
  },
  {
   "cell_type": "code",
   "execution_count": 22,
   "metadata": {},
   "outputs": [
    {
     "data": {
      "text/latex": [
       "$\\displaystyle \\emptyset$"
      ],
      "text/plain": [
       "EmptySet"
      ]
     },
     "execution_count": 22,
     "metadata": {},
     "output_type": "execute_result"
    }
   ],
   "source": [
    "#Symbols\n",
    "p, V, N = symbols('p, V, N')\n",
    "\n",
    "N = 6.02214076e23 #Avogadro's Number\n",
    "\n",
    "A = 52\n",
    "n = 2\n",
    "R = .125E-9\n",
    "\n",
    "\n",
    "\n",
    "Equations = [\n",
    "    Eq(p,n*A/(V*N)),\n",
    "    Eq(a,4*R/sqrt(3)),\n",
    "    Eq(V,abs(a)**3)\n",
    "]\n",
    "\n",
    "Sol = nonlinsolve(Equations, [p])\n",
    "Sol"
   ]
  },
  {
   "cell_type": "code",
   "execution_count": null,
   "metadata": {},
   "outputs": [],
   "source": []
  }
 ],
 "metadata": {
  "kernelspec": {
   "display_name": "Python 3.10.6 64-bit",
   "language": "python",
   "name": "python3"
  },
  "language_info": {
   "codemirror_mode": {
    "name": "ipython",
    "version": 3
   },
   "file_extension": ".py",
   "mimetype": "text/x-python",
   "name": "python",
   "nbconvert_exporter": "python",
   "pygments_lexer": "ipython3",
   "version": "3.10.6"
  },
  "orig_nbformat": 4,
  "vscode": {
   "interpreter": {
    "hash": "aee8b7b246df8f9039afb4144a1f6fd8d2ca17a180786b69acc140d282b71a49"
   }
  }
 },
 "nbformat": 4,
 "nbformat_minor": 2
}
