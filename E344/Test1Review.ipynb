{
 "cells": [
  {
   "cell_type": "code",
   "execution_count": 24,
   "metadata": {},
   "outputs": [],
   "source": [
    "from sympy import *"
   ]
  },
  {
   "cell_type": "code",
   "execution_count": 34,
   "metadata": {},
   "outputs": [
    {
     "data": {
      "text/latex": [
       "$\\displaystyle N_{v} = N e^{- \\frac{Q_{v}}{T k}}$"
      ],
      "text/plain": [
       "Eq(N_v, N*exp(-Q_v/(T*k)))"
      ]
     },
     "metadata": {},
     "output_type": "display_data"
    }
   ],
   "source": [
    "#Equilibrium  Vacancy Concentration with TEmperature\n",
    "# 1. Define the variables\n",
    "N_v = symbols(\"N_v\") #Vacancy Concentration\n",
    "N = symbols(\"N\") #Total Concentration\n",
    "Q_v = symbols(\"Q_v\") #Activation Energy to form a vacancy\n",
    "k = symbols(\"k\") #Boltzmann Constant\n",
    "T = symbols(\"T\") #Temperature\n",
    "\n",
    "# 2. Define the equation\n",
    "EquilibriumVacancyConcWithTempEq = Eq(N_v, N*exp(-Q_v/(k*T)))\n",
    "\n",
    "display(EquilibriumVacancyConcWithTempEq)"
   ]
  },
  {
   "cell_type": "code",
   "execution_count": 27,
   "metadata": {},
   "outputs": [
    {
     "name": "stdout",
     "output_type": "stream",
     "text": [
      "The equilibrium number of vacancies in 1 m3 of Cu at 1000°C is 2.2e+25 atoms/m3\n"
     ]
    }
   ],
   "source": [
    "#Find the equilibrium number of vacancies in 1 m3 of Cu at 1000°C\n",
    "\n",
    "\n",
    "# 3. Define the values\n",
    "k = 8.617e-5 #eV/K\n",
    "N_A = 6.022e23 #atoms/mole\n",
    "\n",
    "T = 1000 + 273 #K\n",
    "\n",
    "#Copper Values:\n",
    "Q_v = 0.9 #eV/atom \n",
    "p = 8.4 #g/cm3\n",
    "m = 63.5 #g/mol\n",
    "\n",
    "# 4. Calculate the number of atoms in 1 m3 of Cu\n",
    "N = p*N_A / m #atoms/cm3\n",
    "N = N * 1e6 #atoms/m3\n",
    "\n",
    "# 5. Substitute the values into the equation\n",
    "eq = EquilibriumVacancyConcWithTempEq.subs([(\"k\", k), (\"N\", N), (\"Q_v\", Q_v), (\"T\", T)])\n",
    "\n",
    "# 6. Solve for N_v\n",
    "sol = solve(eq, N_v)[0]\n",
    "\n",
    "# 7. Print the result\n",
    "print(\"The equilibrium number of vacancies in 1 m3 of Cu at 1000°C is\", sol.evalf(2), \"atoms/m3\")\n",
    "\n"
   ]
  },
  {
   "cell_type": "code",
   "execution_count": 30,
   "metadata": {},
   "outputs": [
    {
     "data": {
      "text/plain": [
       "{N: 5.77643188137164e+28, N_v: 1.15528637627433e+23}"
      ]
     },
     "execution_count": 30,
     "metadata": {},
     "output_type": "execute_result"
    }
   ],
   "source": [
    "#The equilibrium fraction of lattice sites that are vacant in silver (Ag) at 700 degrees C is 2*10^-6 . Calculate the number of vacancies (per meter cubed) at 700 degrees C . Assume a density of 10.35 g/cm^3 for Ag.\n",
    "\n",
    "p = 10.35\n",
    "N_A = 6.022e23\n",
    "m = 107.9\n",
    "T = 700 + 273\n",
    "k = 8.617e-5\n",
    "\n",
    "\n",
    "\n",
    "eqs = [\n",
    "    Eq(N_v/N, 2e-6),\n",
    "    Eq(N, p*N_A/m*1e6)\n",
    "\n",
    "]\n",
    "\n",
    "solve(eqs)"
   ]
  },
  {
   "cell_type": "code",
   "execution_count": 52,
   "metadata": {},
   "outputs": [],
   "source": [
    "#(a) Calculate the fraction of atom sites that are vacant for copper (Cu) at a temperature of 959°C (1232 K). Assume an energy for vacancy formation of 0.90 eV/atom. (b) Repeat this calculation at room temperature (298 K). (c) What is ratio of Nv/N(1232 K) and Nv/N (298 K)? Enter your answer using scientific notation\n",
    "\n",
    "Q_v = 0.9\n",
    "k = 8.617e-5\n",
    "\n",
    "#a\n",
    "T = 1227 #K\n",
    "\n",
    "#Substitute the values into the equation\n",
    "eq1 = EquilibriumVacancyConcWithTempEq.subs([(\"k\", k), (\"Q_v\", Q_v), (\"T\", T)])\n",
    "\n",
    "#b\n",
    "T = 298 #K\n",
    "\n",
    "#Substitute the values into the equation\n",
    "eq = EquilibriumVacancyConcWithTempEq.subs([(\"k\", k), (\"Q_v\", Q_v), (\"T\", T)])\n"
   ]
  },
  {
   "cell_type": "code",
   "execution_count": 62,
   "metadata": {},
   "outputs": [
    {
     "data": {
      "text/plain": [
       "0.9903702265566352"
      ]
     },
     "execution_count": 62,
     "metadata": {},
     "output_type": "execute_result"
    }
   ],
   "source": [
    "#Samples of rejuvenated mitochondria are mutated (defective) with a probability 0.15. Find the probability that at most one sample is mutated in 10 samples. Report answer to 3 decimal places.\n",
    "\n",
    "from scipy.stats import *\n",
    "\n",
    "# 1. Define the variables\n",
    "n = symbols(\"n\") #Number of Samples\n",
    "p = symbols(\"p\") #Probability of Mutation\n",
    "k = symbols(\"k\") #Number of Mutated Samples\n",
    "\n",
    "#Givens \n",
    "n = 15\n",
    "p = 0.01\n",
    "\n",
    "# 2. Define the equation\n",
    "ans = binom.pmf(1,n,p) + binom.pmf(0,n,p)\n",
    "\n",
    "ans\n"
   ]
  },
  {
   "cell_type": "code",
   "execution_count": 60,
   "metadata": {},
   "outputs": [
    {
     "data": {
      "text/plain": [
       "0.3474254194248047"
      ]
     },
     "execution_count": 60,
     "metadata": {},
     "output_type": "execute_result"
    }
   ],
   "source": [
    "\n",
    "ProbabilityOfMutationEq = (binom.pmf(k, n, p))\n",
    "ProbabilityOfMutationEq\n"
   ]
  },
  {
   "cell_type": "code",
   "execution_count": 53,
   "metadata": {},
   "outputs": [
    {
     "data": {
      "text/latex": [
       "$\\displaystyle N_{v} = 0.000201000999133651 N$"
      ],
      "text/plain": [
       "Eq(N_v, 0.000201000999133651*N)"
      ]
     },
     "execution_count": 53,
     "metadata": {},
     "output_type": "execute_result"
    }
   ],
   "source": [
    "eq1"
   ]
  },
  {
   "cell_type": "code",
   "execution_count": null,
   "metadata": {},
   "outputs": [],
   "source": [
    "equation = (15+x)/64"
   ]
  }
 ],
 "metadata": {
  "kernelspec": {
   "display_name": "Python 3.10.6 64-bit",
   "language": "python",
   "name": "python3"
  },
  "language_info": {
   "codemirror_mode": {
    "name": "ipython",
    "version": 3
   },
   "file_extension": ".py",
   "mimetype": "text/x-python",
   "name": "python",
   "nbconvert_exporter": "python",
   "pygments_lexer": "ipython3",
   "version": "3.10.6"
  },
  "orig_nbformat": 4,
  "vscode": {
   "interpreter": {
    "hash": "aee8b7b246df8f9039afb4144a1f6fd8d2ca17a180786b69acc140d282b71a49"
   }
  }
 },
 "nbformat": 4,
 "nbformat_minor": 2
}
