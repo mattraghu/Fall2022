{
 "cells": [
  {
   "cell_type": "code",
   "execution_count": 2,
   "metadata": {},
   "outputs": [],
   "source": [
    "from sympy import *"
   ]
  },
  {
   "cell_type": "code",
   "execution_count": 7,
   "metadata": {},
   "outputs": [],
   "source": [
    "#Define Symbols\n",
    "J, D, dC, dx = symbols('J D dC dx')\n",
    "D, D_0, Q_d, R, T = symbols('D D_0 Q_d R T')\n",
    "\n",
    "#Equations\n",
    "JEq = Eq(J,-D*dC/dx)\n",
    "\n",
    "DTempEq = Eq(D,D_0*exp(-Q_d/(R*T)))\n"
   ]
  },
  {
   "cell_type": "code",
   "execution_count": 7,
   "metadata": {},
   "outputs": [
    {
     "data": {
      "text/latex": [
       "$\\displaystyle 0.0451166896551725$"
      ],
      "text/plain": [
       "0.0451166896551725"
      ]
     },
     "execution_count": 7,
     "metadata": {},
     "output_type": "execute_result"
    }
   ],
   "source": [
    "#Question 2\n",
    "#The purification of hydrogen gas is possible by diffusion through a thin palladium sheet. Calculate the number of kilograms of hydrogen that pass per hour through a 8.7-mm-thick sheet of palladium having an area of 0.48 m? at 500°C. Assume a diffusion coefficient of 5.5 × 10-8 m7/s, that the concentrations at the high- and low-pressure sides of the plates are 4.7 and 0.57 kg/m? of hydrogen per cubic meter of palladium, and that steady-state conditions have been attained.\n",
    "\n",
    "#Givens\n",
    "D = 5.5e-8 #m^2/s\n",
    "A = 0.48 #m^2\n",
    "C1 = 4.7 #kg/m^3\n",
    "C2 = 0.57 #kg/m^3\n",
    "thickness = 8.7e-3 #m\n",
    "t= 60*60 #s\n",
    "\n",
    "# D = 6E-8\n",
    "# A = .25\n",
    "# C1 = 4.2\n",
    "# C2 = .51\n",
    "# thickness = 4.7E-3\n",
    "\n",
    "dC = C2-C1 #kg/m^3\n",
    "dx = thickness #m\n",
    "\n",
    "#Subsitute and solve for J\n",
    "subbed = JEq.subs([(\"D\",D),(\"dC\",dC),(\"dx\",dx)]) #kg/m^2/s\n",
    "J = solve(subbed,\"J\")[0] #kg/m^2/s\n",
    "\n",
    "M = J*t*A #kg/hour\n",
    "M\n"
   ]
  },
  {
   "cell_type": "code",
   "execution_count": 12,
   "metadata": {},
   "outputs": [
    {
     "name": "stdout",
     "output_type": "stream",
     "text": [
      "a-iron:  4.21568386113535e-10\n",
      "y-iron:  1.09940379961914e-11\n"
     ]
    }
   ],
   "source": [
    "#Question 3\n",
    "#Compute diffusion coefficients for the interdiffusion of carbon in both (a) a-iron (BCC) and (b) -iron (FCC) at 950°C. Assume that Do for the interdiffusion of carbon in a-iron and in y-iron are 1.1 × 106 and 2.3 × 10-5 m7/s, respectively, and that Qa are 80 and 148 kJ/mol, respectively.A\n",
    "\n",
    "T = 950+273.15 #K\n",
    "\n",
    "#a (a-iron)\n",
    "D_0 = 1.1e-6 #m^2/s\n",
    "Q_d = 80e3 #J/mol\n",
    "R = 8.314 #J/mol/K\n",
    "subbed = DTempEq.subs([(\"D_0\",D_0),(\"Q_d\",Q_d),(\"R\",R),(\"T\",T)]) #m^2/s\n",
    "D = solve(subbed,\"D\")[0] #m^2/s\n",
    "print(\"a-iron: \",D) #m^2/s\n",
    "\n",
    "#b (y-iron)\n",
    "D_0 = 2.3e-5 #m^2/s\n",
    "Q_d = 148e3 #J/mol\n",
    "R = 8.314 #J/mol/K\n",
    "subbed = DTempEq.subs([(\"D_0\",D_0),(\"Q_d\",Q_d),(\"R\",R),(\"T\",T)]) #m^2/s\n",
    "D = solve(subbed,\"D\")[0] #m^2/s\n",
    "print(\"y-iron: \",D) #m^2/s\n",
    "\n",
    "\n",
    "\n"
   ]
  },
  {
   "cell_type": "code",
   "execution_count": 13,
   "metadata": {},
   "outputs": [
    {
     "name": "stdout",
     "output_type": "stream",
     "text": [
      "D:  1.81535117393591e-15\n"
     ]
    }
   ],
   "source": [
    "#Question 4\n",
    "#Calculate the value of D at 690°C for the diffusion of some species in a metal for which the values of Do and Qa are 4.7 x 10-5 m7/s and 192 kJ/mol, respectively.\n",
    "T = 690+273.15 #K\n",
    "D_0 = 4.7e-5 #m^2/s\n",
    "Q_d = 192e3 #J/mol\n",
    "R = 8.314 #J/mol/K\n",
    "subbed = DTempEq.subs([(\"D_0\",D_0),(\"Q_d\",Q_d),(\"R\",R),(\"T\",T)]) #m^2/s\n",
    "D = solve(subbed,\"D\")[0] #m^2/s\n",
    "print(\"D: \",D) #m^2/s\n"
   ]
  },
  {
   "cell_type": "code",
   "execution_count": 10,
   "metadata": {},
   "outputs": [
    {
     "name": "stdout",
     "output_type": "stream",
     "text": [
      "Q_d:  173847.877945726\n",
      "D_0:  6.31845015216717e-10\n",
      "D:  3.21607544766750e-16\n"
     ]
    }
   ],
   "source": [
    "#Question 5\n",
    "T1 = 1040+273 #K\n",
    "T2 = 1260+273 #K\n",
    "D1 = 7.66E-17 #m^2/s\n",
    "D2 = 7.53E-16 #m^2/s\n",
    "\n",
    "# T1 = 1030+273 #K\n",
    "# T2 = 1290+273 #K\n",
    "# D1 = 6.38E-17 #m^2/s\n",
    "# D2 = 6.26E-16 #m^2/s\n",
    "\n",
    "R = 8.314 #J/mol/K\n",
    "\n",
    "#Determine Activation Energy\n",
    "Q_d = symbols(\"Q_d\")\n",
    "subbed = Eq(ln( D1/D2 ),Q_d/(R*T2)+(-Q_d/(R*(T1)))) #m^2/s\n",
    "Q_d = solve(subbed,\"Q_d\")[0] #J/mol\n",
    "print(\"Q_d: \",Q_d) #J/mol\n",
    "\n",
    "#Determine Pre-Exponential Factor\n",
    "subbed = DTempEq.subs([(\"D\",D1),(\"Q_d\",Q_d),(\"R\",R),(\"T\",T1)]) #m^2/s\n",
    "D_0 = solve(subbed,\"D_0\")[0] #m^2/s\n",
    "print(\"D_0: \",D_0) #m^2/s\n",
    "\n",
    "#Solve for D at 1170C\n",
    "T = 1170+273 #K\n",
    "subbed = DTempEq.subs([(\"D_0\",D_0),(\"Q_d\",Q_d),(\"R\",R),(\"T\",T)]) #m^2/s\n",
    "D = solve(subbed,\"D\")[0] #m^2/s\n",
    "print(\"D: \",D) #m^2/s"
   ]
  },
  {
   "cell_type": "code",
   "execution_count": 23,
   "metadata": {},
   "outputs": [
    {
     "name": "stdout",
     "output_type": "stream",
     "text": [
      "D:  7.15016582314679e-14\n",
      "D2:  4.73439309931888e-13\n"
     ]
    },
    {
     "data": {
      "text/plain": [
       "{x: 1.00102321524055e-12, t2: 2.11436438470765}"
      ]
     },
     "execution_count": 23,
     "metadata": {},
     "output_type": "execute_result"
    }
   ],
   "source": [
    "#Question 6\n",
    "D_0 = 6.5E-5 #m^2/s\n",
    "Q_d = 136E3 #eV/atom\n",
    "\n",
    "T = 530+273 #K\n",
    "T = 520+273\n",
    "R = 8.314 #J/mol/K\n",
    "\n",
    "#Determine D \n",
    "subbed = DTempEq.subs([(\"D_0\",D_0),(\"Q_d\",Q_d),(\"R\",R),(\"T\",T)]) #m^2/s\n",
    "D1 = solve(subbed,\"D\")[0] #m^2/s\n",
    "print(\"D: \",D1) #m^2/s\n",
    "\n",
    "#b\n",
    "T = 650+273\n",
    "T = 600+273\n",
    "subbed = DTempEq.subs([(\"D_0\",D_0),(\"Q_d\",Q_d),(\"R\",R),(\"T\",T)]) #m^2/s\n",
    "D2 = solve(subbed,\"D\")[0] #m^2/s\n",
    "print(\"D2: \",D2) #m^2/s\n",
    "\n",
    "x, t1, t2 = symbols(\"x t1 t2\")\n",
    "t1 = 13\n",
    "t1 = 14\n",
    "eq1 = Eq(x/t1,D1)\n",
    "eq2 = Eq(x/t2,D2)\n",
    "\n",
    "sol = solve([eq1,eq2],(x,t2))\n",
    "sol\n",
    "\n"
   ]
  },
  {
   "cell_type": "code",
   "execution_count": 32,
   "metadata": {},
   "outputs": [
    {
     "name": "stdout",
     "output_type": "stream",
     "text": [
      "ERF:  0.6489361702127661\n",
      "D:  1.23279644504706e-12\n",
      "t:  220.078265928320\n"
     ]
    }
   ],
   "source": [
    "#Question 7\n",
    "#Determine the carburizing time necessary to achieve a carbon concentration of 0.49 wt% at a position 1.3 mm into an iron-carbon alloy that initially contains 0.16 wt% C. The surface concentration is to be maintained at 1.1 wt% C, and the treatment is to be conducted at 1060°C. Assume that Do = 5.4 x 10-5 m7/s and Qd= 195 kJ/mol. The table Tabulation of Error Function Values may be useful.\n",
    "\n",
    "#Given\n",
    "C_x = 0.49 #wt%\n",
    "C_0 = 0.16 #wt%\n",
    "C_s = 1.1 #wt%\n",
    "T = 1060+273 #K\n",
    "D_0 = 5.4e-5 #m^2/s\n",
    "Q_d = 195e3 #J/mol\n",
    "R = 8.314 #J/mol/K\n",
    "\n",
    "#Determine ERF\n",
    "ERF = 1- (C_x-C_0)/(C_s-C_0)\n",
    "print(\"ERF: \",ERF)\n",
    "\n",
    "#Determine D\n",
    "subbed = DTempEq.subs([(\"D_0\",D_0),(\"Q_d\",Q_d),(\"R\",R),(\"T\",T)]) #m^2/s\n",
    "D = solve(subbed,\"D\")[0] #m^2/s\n",
    "print(\"D: \",D) #m^2/s\n",
    "\n",
    "x = 1.3e-3 #m\n",
    "z = .6577\n",
    "t = symbols(\"t\")\n",
    "equation = Eq(z, x/(2*sqrt(D*t)))\n",
    "t = solve(equation,\"t\")[0] #s\n",
    "\n",
    "#in hours\n",
    "print(\"t: \",t/3600) \n"
   ]
  },
  {
   "cell_type": "code",
   "execution_count": 35,
   "metadata": {},
   "outputs": [
    {
     "name": "stdout",
     "output_type": "stream",
     "text": [
      "ERF:  0.6501283147989735\n",
      "D:  1.76326492249100e-10\n",
      "t:  8390.86477758007\n"
     ]
    }
   ],
   "source": [
    "#Question 8\n",
    "C_x = .44\n",
    "C_0 = .031\n",
    "C_s = 1.2\n",
    "T = 1200+273\n",
    "D_0 = 5.1E-5\n",
    "Q_d = 154E3\n",
    "R = 8.314\n",
    "\n",
    "#Determine ERF\n",
    "ERF = 1- (C_x-C_0)/(C_s-C_0)\n",
    "print(\"ERF: \",ERF)\n",
    "\n",
    "#Determine D\n",
    "subbed = DTempEq.subs([(\"D_0\",D_0),(\"Q_d\",Q_d),(\"R\",R),(\"T\",T)]) #m^2/s\n",
    "D = solve(subbed,\"D\")[0] #m^2/s\n",
    "print(\"D: \",D) #m^2/s\n",
    "\n",
    "x = 1.6e-3 #m\n",
    "z = .6577\n",
    "t = symbols(\"t\")\n",
    "equation = Eq(z, x/(2*sqrt(D*t)))\n",
    "t = solve(equation,\"t\")[0] #s\n",
    "\n",
    "print(\"t: \",t) #s"
   ]
  },
  {
   "cell_type": "code",
   "execution_count": null,
   "metadata": {},
   "outputs": [],
   "source": []
  }
 ],
 "metadata": {
  "kernelspec": {
   "display_name": "Python 3.10.6 64-bit",
   "language": "python",
   "name": "python3"
  },
  "language_info": {
   "codemirror_mode": {
    "name": "ipython",
    "version": 3
   },
   "file_extension": ".py",
   "mimetype": "text/x-python",
   "name": "python",
   "nbconvert_exporter": "python",
   "pygments_lexer": "ipython3",
   "version": "3.10.6"
  },
  "orig_nbformat": 4,
  "vscode": {
   "interpreter": {
    "hash": "aee8b7b246df8f9039afb4144a1f6fd8d2ca17a180786b69acc140d282b71a49"
   }
  }
 },
 "nbformat": 4,
 "nbformat_minor": 2
}
