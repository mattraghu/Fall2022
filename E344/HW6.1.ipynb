{
 "cells": [
  {
   "cell_type": "code",
   "execution_count": 1,
   "metadata": {},
   "outputs": [],
   "source": [
    "from sympy import *"
   ]
  },
  {
   "cell_type": "code",
   "execution_count": 8,
   "metadata": {},
   "outputs": [],
   "source": [
    "#Define Symbols\n",
    "J, D, dC, dx = symbols('J D dC dx')\n",
    "D, D_0, Q_d, R, T = symbols('D D_0 Q_d R T')\n",
    "\n",
    "#Equations\n",
    "JEq = Eq(J,-D*dC/dx)\n",
    "\n",
    "DTempEq = Eq(D,D_0*exp(-Q_d/(R*T)))\n"
   ]
  },
  {
   "cell_type": "code",
   "execution_count": 7,
   "metadata": {},
   "outputs": [
    {
     "data": {
      "text/latex": [
       "$\\displaystyle 0.0451166896551725$"
      ],
      "text/plain": [
       "0.0451166896551725"
      ]
     },
     "execution_count": 7,
     "metadata": {},
     "output_type": "execute_result"
    }
   ],
   "source": [
    "#Question 2\n",
    "#The purification of hydrogen gas is possible by diffusion through a thin palladium sheet. Calculate the number of kilograms of hydrogen that pass per hour through a 8.7-mm-thick sheet of palladium having an area of 0.48 m? at 500°C. Assume a diffusion coefficient of 5.5 × 10-8 m7/s, that the concentrations at the high- and low-pressure sides of the plates are 4.7 and 0.57 kg/m? of hydrogen per cubic meter of palladium, and that steady-state conditions have been attained.\n",
    "\n",
    "#Givens\n",
    "D = 5.5e-8 #m^2/s\n",
    "A = 0.48 #m^2\n",
    "C1 = 4.7 #kg/m^3\n",
    "C2 = 0.57 #kg/m^3\n",
    "thickness = 8.7e-3 #m\n",
    "t= 60*60 #s\n",
    "\n",
    "# D = 6E-8\n",
    "# A = .25\n",
    "# C1 = 4.2\n",
    "# C2 = .51\n",
    "# thickness = 4.7E-3\n",
    "\n",
    "dC = C2-C1 #kg/m^3\n",
    "dx = thickness #m\n",
    "\n",
    "#Subsitute and solve for J\n",
    "subbed = JEq.subs([(\"D\",D),(\"dC\",dC),(\"dx\",dx)]) #kg/m^2/s\n",
    "J = solve(subbed,\"J\")[0] #kg/m^2/s\n",
    "\n",
    "M = J*t*A #kg/hour\n",
    "M\n"
   ]
  },
  {
   "cell_type": "code",
   "execution_count": 12,
   "metadata": {},
   "outputs": [
    {
     "name": "stdout",
     "output_type": "stream",
     "text": [
      "a-iron:  4.21568386113535e-10\n",
      "y-iron:  1.09940379961914e-11\n"
     ]
    }
   ],
   "source": [
    "#Question 3\n",
    "#Compute diffusion coefficients for the interdiffusion of carbon in both (a) a-iron (BCC) and (b) -iron (FCC) at 950°C. Assume that Do for the interdiffusion of carbon in a-iron and in y-iron are 1.1 × 106 and 2.3 × 10-5 m7/s, respectively, and that Qa are 80 and 148 kJ/mol, respectively.A\n",
    "\n",
    "T = 950+273.15 #K\n",
    "\n",
    "#a (a-iron)\n",
    "D_0 = 1.1e-6 #m^2/s\n",
    "Q_d = 80e3 #J/mol\n",
    "R = 8.314 #J/mol/K\n",
    "subbed = DTempEq.subs([(\"D_0\",D_0),(\"Q_d\",Q_d),(\"R\",R),(\"T\",T)]) #m^2/s\n",
    "D = solve(subbed,\"D\")[0] #m^2/s\n",
    "print(\"a-iron: \",D) #m^2/s\n",
    "\n",
    "#b (y-iron)\n",
    "D_0 = 2.3e-5 #m^2/s\n",
    "Q_d = 148e3 #J/mol\n",
    "R = 8.314 #J/mol/K\n",
    "subbed = DTempEq.subs([(\"D_0\",D_0),(\"Q_d\",Q_d),(\"R\",R),(\"T\",T)]) #m^2/s\n",
    "D = solve(subbed,\"D\")[0] #m^2/s\n",
    "print(\"y-iron: \",D) #m^2/s\n",
    "\n",
    "\n",
    "\n"
   ]
  },
  {
   "cell_type": "code",
   "execution_count": 13,
   "metadata": {},
   "outputs": [
    {
     "name": "stdout",
     "output_type": "stream",
     "text": [
      "D:  1.81535117393591e-15\n"
     ]
    }
   ],
   "source": [
    "#Question 4\n",
    "#Calculate the value of D at 690°C for the diffusion of some species in a metal for which the values of Do and Qa are 4.7 x 10-5 m7/s and 192 kJ/mol, respectively.\n",
    "T = 690+273.15 #K\n",
    "D_0 = 4.7e-5 #m^2/s\n",
    "Q_d = 192e3 #J/mol\n",
    "R = 8.314 #J/mol/K\n",
    "subbed = DTempEq.subs([(\"D_0\",D_0),(\"Q_d\",Q_d),(\"R\",R),(\"T\",T)]) #m^2/s\n",
    "D = solve(subbed,\"D\")[0] #m^2/s\n",
    "print(\"D: \",D) #m^2/s\n"
   ]
  },
  {
   "cell_type": "code",
   "execution_count": 22,
   "metadata": {},
   "outputs": [
    {
     "name": "stdout",
     "output_type": "stream",
     "text": [
      "Q_d:  -4180.30408572866\n"
     ]
    }
   ],
   "source": [
    "#Question 5\n",
    "T1 = 1040+273 #K\n",
    "T2 = 1260+273 #K\n",
    "D1 = 7.66E-17 #m^2/s\n",
    "D2 = 7.53E-16 #m^2/s\n",
    "\n",
    "#Determine Activation Energy\n",
    "\n",
    "Q_d = symbols(\"Q_d\")\n",
    "subbed = Eq(ln( D1/D2 ),(-Q_d/(R*(T1-T2)))) #m^2/s\n",
    "Q_d = solve(subbed,\"Q_d\")[0] #J/mol\n",
    "print(\"Q_d: \",Q_d) #J/mol"
   ]
  },
  {
   "cell_type": "code",
   "execution_count": null,
   "metadata": {},
   "outputs": [],
   "source": []
  }
 ],
 "metadata": {
  "kernelspec": {
   "display_name": "Python 3.10.6 64-bit",
   "language": "python",
   "name": "python3"
  },
  "language_info": {
   "codemirror_mode": {
    "name": "ipython",
    "version": 3
   },
   "file_extension": ".py",
   "mimetype": "text/x-python",
   "name": "python",
   "nbconvert_exporter": "python",
   "pygments_lexer": "ipython3",
   "version": "3.10.6"
  },
  "orig_nbformat": 4,
  "vscode": {
   "interpreter": {
    "hash": "aee8b7b246df8f9039afb4144a1f6fd8d2ca17a180786b69acc140d282b71a49"
   }
  }
 },
 "nbformat": 4,
 "nbformat_minor": 2
}
