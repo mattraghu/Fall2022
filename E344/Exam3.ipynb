{
 "cells": [
  {
   "cell_type": "code",
   "execution_count": 1,
   "metadata": {},
   "outputs": [],
   "source": [
    "#Imports \n",
    "from sympy import *"
   ]
  },
  {
   "cell_type": "code",
   "execution_count": 2,
   "metadata": {},
   "outputs": [],
   "source": [
    "#Notes: \n",
    "#The Eutectic and Eutectoid points are the FIRST concentration that the alloy changes at\n",
    "#Martensite - Body Center Tetragonal (BCT) \n",
    "#Austenite to Pearlite faster at lower cooling temperatures because there is more undercooling, which decreases the critical nuclei size of a and Fe3C phases\n",
    "\n",
    "#Ceramics are usually proced with powdered methods like slipcasting (have high melting points) but is difficult to sinter to produce dense structures.\n",
    "\n",
    "#Highly crosslinked thermoset polymers have high glass transition temps and low viscoelastic behavior\n",
    "\n",
    "#Effects of increasing temp on electrical conductivity\n",
    "#1. Conductivity of conductors decreases linearly (scattering increased)\n",
    "#2. Conductivity of semiconductors increases exponentially (electron transitions from valence to conduction band thermally ativated)\n",
    "#3. Conductivity of insulators cannot be changed by temperature\n",
    "\n",
    "#In ptype silicon, electrons jump to acceptor level from valence band more easily. Also the extra holes cannot create more free electrons. Hole Concentratio is same as dopant. Valence e- move via holes.\n",
    "\n",
    "#If egap falls within vis light spectrum then it can be engineered to be translucent w/ color\n",
    "\n",
    "#Hypereutectoid = > eutectoid concentration\n",
    "#Hypoeutectoid = < eutectoid concentration"
   ]
  },
  {
   "cell_type": "code",
   "execution_count": null,
   "metadata": {},
   "outputs": [],
   "source": []
  }
 ],
 "metadata": {
  "kernelspec": {
   "display_name": "Python 3.10.6 64-bit",
   "language": "python",
   "name": "python3"
  },
  "language_info": {
   "codemirror_mode": {
    "name": "ipython",
    "version": 3
   },
   "file_extension": ".py",
   "mimetype": "text/x-python",
   "name": "python",
   "nbconvert_exporter": "python",
   "pygments_lexer": "ipython3",
   "version": "3.10.6"
  },
  "orig_nbformat": 4,
  "vscode": {
   "interpreter": {
    "hash": "aee8b7b246df8f9039afb4144a1f6fd8d2ca17a180786b69acc140d282b71a49"
   }
  }
 },
 "nbformat": 4,
 "nbformat_minor": 2
}
