{
 "cells": [
  {
   "cell_type": "code",
   "execution_count": 3,
   "metadata": {},
   "outputs": [],
   "source": [
    "from sympy import *"
   ]
  },
  {
   "cell_type": "code",
   "execution_count": 17,
   "metadata": {},
   "outputs": [
    {
     "name": "stdout",
     "output_type": "stream",
     "text": [
      "The maximum data rate is 24000000 bits/sec\n"
     ]
    }
   ],
   "source": [
    "#Maximum Data Rate of a Channel\n",
    "\n",
    "r_1 = symbols('r_1')\n",
    "H = symbols('H')\n",
    "V = symbols('V')\n",
    "\n",
    "#Nyquist Theorem\n",
    "NyquistEquation = Eq(r_1, 2*H*log(V,2))\n",
    "\n",
    "#Exer 3-1. Television channels are 6 MHz wide. How many bits/sec can be sent if four-level digital signals are used? Assume a noiseless channel.\n",
    "\n",
    "#Given\n",
    "H = 6*10**6 #Hz\n",
    "V = 4 #\n",
    "\n",
    "\n",
    "#Plug in\n",
    "NyquistEquation = NyquistEquation.subs([(\"H\",6*10**6),(\"V\",4)])\n",
    "\n",
    "#Solve\n",
    "r_1 = solve(NyquistEquation, r_1)\n",
    "\n",
    "#Print\n",
    "print(\"The maximum data rate is\", r_1[0], \"bits/sec\")\n",
    "\n"
   ]
  },
  {
   "cell_type": "code",
   "execution_count": 18,
   "metadata": {},
   "outputs": [
    {
     "ename": "SyntaxError",
     "evalue": "invalid syntax (3174436046.py, line 2)",
     "output_type": "error",
     "traceback": [
      "\u001b[0;36m  Cell \u001b[0;32mIn [18], line 2\u001b[0;36m\u001b[0m\n\u001b[0;31m    k =\u001b[0m\n\u001b[0m        ^\u001b[0m\n\u001b[0;31mSyntaxError\u001b[0m\u001b[0;31m:\u001b[0m invalid syntax\n"
     ]
    }
   ],
   "source": [
    "#Desnity of unit cell\n",
    "#Symbolic Variables\n",
    "p = symbols('p')\n",
    "n = symbols('n')\n",
    "A = symbols('A')\n",
    "V = symbols('V')\n",
    "N = symbols('N')\n",
    "\n",
    "UnitCellDensityEq = Eq(p,n*A/(V*N))\n",
    "\n",
    "#Givens\n",
    "a = 4*R/(sqrt(3))\n",
    "\n"
   ]
  },
  {
   "cell_type": "code",
   "execution_count": null,
   "metadata": {},
   "outputs": [],
   "source": []
  }
 ],
 "metadata": {
  "kernelspec": {
   "display_name": "Python 3.10.6 64-bit",
   "language": "python",
   "name": "python3"
  },
  "language_info": {
   "codemirror_mode": {
    "name": "ipython",
    "version": 3
   },
   "file_extension": ".py",
   "mimetype": "text/x-python",
   "name": "python",
   "nbconvert_exporter": "python",
   "pygments_lexer": "ipython3",
   "version": "3.10.6"
  },
  "orig_nbformat": 4,
  "vscode": {
   "interpreter": {
    "hash": "aee8b7b246df8f9039afb4144a1f6fd8d2ca17a180786b69acc140d282b71a49"
   }
  }
 },
 "nbformat": 4,
 "nbformat_minor": 2
}
