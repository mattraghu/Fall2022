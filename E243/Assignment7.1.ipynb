{
 "cells": [
  {
   "cell_type": "code",
   "execution_count": 30,
   "metadata": {},
   "outputs": [],
   "source": [
    "from sympy import *\n",
    "from sympy.stats import *"
   ]
  },
  {
   "cell_type": "code",
   "execution_count": 68,
   "metadata": {},
   "outputs": [],
   "source": [
    "#Setup\n",
    "x = Symbol('x') #Random Variable\n",
    "mu = Symbol('mu') #Mean\n",
    "sigma = Symbol('sigma') #Standard Deviation\n",
    "a = Symbol('a') #a value\n",
    "\n",
    "aEq = Eq(a,( x-mu )/sigma)"
   ]
  },
  {
   "cell_type": "code",
   "execution_count": 13,
   "metadata": {},
   "outputs": [
    {
     "data": {
      "text/latex": [
       "$\\displaystyle 0.377123616632825$"
      ],
      "text/plain": [
       "0.377123616632825"
      ]
     },
     "execution_count": 13,
     "metadata": {},
     "output_type": "execute_result"
    }
   ],
   "source": [
    "#Question 2\n",
    "#The rate at which customers are served at an airport check-in counter is a Poisson process with a with a rate of 7.9 per hour. Suppose that a random sample of 50 customers is observed. The probability that the average waiting time for these 50 customers is less than 8 minutes is given by, P( < 8) = P(Z < a), where Z is the standard normal variable. What is the value of a? Please report your answer in 3 decimal places.\n",
    "\n",
    "\n",
    "\n",
    "#Givens\n",
    "mu = 60/7.9 #mean (min / customer)\n",
    "stdError = mu/sqrt(50) #standard error (min / customer)\n",
    "x = 8 #minutes\n",
    "\n",
    "# mu = 1/7.9\n",
    "# stdError = mu/sqrt(50) #standard error (min / customer)\n",
    "# x = 8/60 #minutes\n",
    "\n",
    "\n",
    "#Solve for a\n",
    "subbed = aEq.subs({\"x\":x,\"mu\":mu,\"sigma\":stdError}) #substitute values\n",
    "a = solve(subbed,\"a\")[0] #solve for a\n",
    "\n",
    "a"
   ]
  },
  {
   "cell_type": "code",
   "execution_count": 14,
   "metadata": {},
   "outputs": [
    {
     "data": {
      "text/latex": [
       "$\\displaystyle -0.798228126285287$"
      ],
      "text/plain": [
       "-0.798228126285287"
      ]
     },
     "execution_count": 14,
     "metadata": {},
     "output_type": "execute_result"
    }
   ],
   "source": [
    "#The rate at which customers are served at an airport check-in counter is a Poisson process with a rate of 11.3 per hour. The probability that more than 50 customers are served at the counter in the next 5 hours is P(Xp>50). If this is solved as a Poisson variable, the calculations will be tedious. So we use the normal approximation. Now, P(Xp > 50)=P(Z > a), where Z is the standard normal variable. What is the value of a? Please report your answer in 3 decimal places.\n",
    "\n",
    "#Givens  \n",
    "mu = 5*11.3 #mean (customers / 5 hours) = 56.5 customers 5 hours\n",
    "sigma = sqrt(mu) #standard deviation (customers / 5 hours) = 5.5 customers 5 hours\n",
    "x = 50+.5\n",
    "\n",
    "#Solve for a\n",
    "subbed = aEq.subs({\"x\":x,\"mu\":mu,\"sigma\":sigma}) #substitute values\n",
    "a = solve(subbed,\"a\")[0] #solve for a\n",
    "\n",
    "a\n"
   ]
  },
  {
   "cell_type": "code",
   "execution_count": 64,
   "metadata": {},
   "outputs": [
    {
     "data": {
      "text/latex": [
       "$\\displaystyle 1.0075$"
      ],
      "text/plain": [
       "1.00750000000000"
      ]
     },
     "execution_count": 64,
     "metadata": {},
     "output_type": "execute_result"
    }
   ],
   "source": [
    "#Question 6\n",
    "#Water use in the summer is normally distributed with a mean of 303.2 million gallons per day and a standard deviation of 40 million gallons per day. City reservoirs have a combined storage capacity of 350 million gallons. The probability that a day requires more water than is stored in city reservoirs is P(X > 350)= 1 - P (Z < b). What is the value of b? Please report your answer in 3 decimal places. \n",
    "\n",
    "#Givens\n",
    "mu = 309.7 #mean (million gallons / day) = 303.2 million gallons / day\n",
    "sigma = 40 #standard deviation (million gallons / day) = 40 million gallons / day\n",
    "x = 350 #million gallons\n",
    "\n",
    "#Solve for a\n",
    "subbed = aEq.subs({\"x\":x,\"mu\":mu,\"sigma\":sigma}) #substitute values\n",
    "a = solve(subbed,\"a\")[0] #solve for a\n",
    "\n",
    "a"
   ]
  },
  {
   "cell_type": "code",
   "execution_count": 24,
   "metadata": {},
   "outputs": [
    {
     "data": {
      "text/latex": [
       "$\\displaystyle 183.966$"
      ],
      "text/plain": [
       "183.966000000000"
      ]
     },
     "execution_count": 24,
     "metadata": {},
     "output_type": "execute_result"
    }
   ],
   "source": [
    "#Question 9 \n",
    "#Water use in the summer is normally distributed with a mean of 300 million gallons per day and a standard deviation of 49.8 million gallons per day. City reservoirs have a combined storage capacity of 350 million gallons. What amount of water use is exceeded with 99% probability? Please report your answer in 2 decimal places. \n",
    "\n",
    "#Givens\n",
    "mu = 300 #mean (million gallons / day) = 300 million gallons / day\n",
    "sigma = 49.8 #standard deviation (million gallons / day) = 49.8 million gallons / day\n",
    "a = -2.33\n",
    "\n",
    "#Solve for x\n",
    "subbed = aEq.subs({\"a\":a,\"mu\":mu,\"sigma\":sigma}) #substitute values\n",
    "x = solve(subbed,\"x\")[0] #solve for x\n",
    "\n",
    "x\n"
   ]
  },
  {
   "cell_type": "code",
   "execution_count": 66,
   "metadata": {},
   "outputs": [
    {
     "data": {
      "text/latex": [
       "$\\displaystyle 2.0714774039996$"
      ],
      "text/plain": [
       "2.07147740399960"
      ]
     },
     "execution_count": 66,
     "metadata": {},
     "output_type": "execute_result"
    }
   ],
   "source": [
    "#Question 11\n",
    "#The lifetime of bacteria follows the Weibull distribution. The probability that the bacteria lives for more than 10 hours is 0.74 and that it lives more than 20 hours is 0.3. The probability that among 300 bacteria more than 200 live longer than 10 hours can be computed as P(Z>a). What is the value of a? Please report your answer in 3 decimal places. \n",
    "\n",
    "#Givens\n",
    "p = 0.61 #probability that the bacteria lives for more than 10 hours\n",
    "mu = 300*p #mean (bacteria) = 222 bacteria\n",
    "sigma = sqrt(mu*(1-p)) #standard deviation (bacteria) \n",
    "x = 200.5 #bacteria\n",
    "\n",
    "#Solve for a\n",
    "subbed = aEq.subs({\"x\":x,\"mu\":mu,\"sigma\":sigma}) #substitute values\n",
    "a = solve(subbed,\"a\")[0] #solve for a\n",
    "\n",
    "a\n"
   ]
  },
  {
   "cell_type": "code",
   "execution_count": 37,
   "metadata": {},
   "outputs": [
    {
     "data": {
      "text/latex": [
       "$\\displaystyle 0.896143957136221$"
      ],
      "text/plain": [
       "0.896143957136221"
      ]
     },
     "execution_count": 37,
     "metadata": {},
     "output_type": "execute_result"
    }
   ],
   "source": [
    "X = Normal(\"x\",mu,sigma)\n",
    "N(P(X > 200))"
   ]
  },
  {
   "cell_type": "markdown",
   "metadata": {},
   "source": []
  },
  {
   "cell_type": "code",
   "execution_count": 91,
   "metadata": {},
   "outputs": [
    {
     "name": "stdout",
     "output_type": "stream",
     "text": [
      "mu =  3.07261747654524\n",
      "sigma =  0.834721771630534\n",
      "a =  0.750372817720177\n"
     ]
    }
   ],
   "source": [
    "#Question 13/14/15\n",
    "#The flow in a river can be modeled as a log-normal distribution. From the data, it was estimated that, the probability that the flow exceeds 998 cfs is 50% and the probability that it exceeds 100 cfs is 90%. Let X denote the flow in cfs in the river. What is the mean of log (to the base 10) of X? Please report your answer in 3 decimal places.\n",
    "\n",
    "#Givens\n",
    "a_1 = 0 \n",
    "a_2 = 1.285\n",
    "x_1 = 1182 #cfs\n",
    "x_2 = 100 #cfs\n",
    "\n",
    "mu = symbols(\"mu\")\n",
    "sigma = symbols(\"sigma\")\n",
    "\n",
    "#Take logs of x\n",
    "log_x_1 = log(x_1,10) #log of x_1\n",
    "log_x_2 = log(x_2,10) #log of x_2\n",
    "\n",
    "#Solve for unknowns\n",
    "subbed1 = aEq.subs({\"x\":log_x_1,\"a\":a_1}) #substitute values\n",
    "subbed2 = aEq.subs({\"x\":log_x_2,\"a\":a_2}) #substitute values\n",
    "\n",
    "#Solve for unknowns\n",
    "eqs = [subbed1,subbed2] #equations to solve\n",
    "unknowns = [mu,sigma] #unknowns to solve for\n",
    "sol = solve(eqs,unknowns) #solve for unknowns\n",
    "mu = sol[mu] #solve for mu\n",
    "sigma = sol[sigma] #solve for sigma\n",
    "sigma = abs(sigma) #make sigma positive\n",
    "print(\"mu = \",mu) #print mu\n",
    "print(\"sigma = \",sigma) #print sigma\n",
    "\n",
    "#Substitute values into equation\n",
    "x = N(log(5000,10))\n",
    "subbed = aEq.subs({\"x\":x,\"mu\":mu,\"sigma\":sigma}) #substitute values\n",
    "a = solve(subbed,\"a\")[0] #solve for a\n",
    "print(\"a = \",a) #print a\n"
   ]
  }
 ],
 "metadata": {
  "kernelspec": {
   "display_name": "Python 3.10.6 64-bit",
   "language": "python",
   "name": "python3"
  },
  "language_info": {
   "codemirror_mode": {
    "name": "ipython",
    "version": 3
   },
   "file_extension": ".py",
   "mimetype": "text/x-python",
   "name": "python",
   "nbconvert_exporter": "python",
   "pygments_lexer": "ipython3",
   "version": "3.10.6"
  },
  "orig_nbformat": 4,
  "vscode": {
   "interpreter": {
    "hash": "aee8b7b246df8f9039afb4144a1f6fd8d2ca17a180786b69acc140d282b71a49"
   }
  }
 },
 "nbformat": 4,
 "nbformat_minor": 2
}
