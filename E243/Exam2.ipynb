{
 "cells": [
  {
   "cell_type": "code",
   "execution_count": 1,
   "metadata": {},
   "outputs": [],
   "source": [
    "from sympy import * \n",
    "from sympy.stats import *\n",
    "from scipy.stats import *"
   ]
  },
  {
   "cell_type": "code",
   "execution_count": 31,
   "metadata": {},
   "outputs": [],
   "source": [
    "#Setup\n",
    "x = Symbol('x') #Random Variable\n",
    "mu = Symbol('mu') #Mean\n",
    "sigma = Symbol('sigma') #Standard Deviation\n",
    "a = Symbol('a') #a value\n",
    "\n",
    "aEq = Eq(a,( x-mu )/sigma)"
   ]
  },
  {
   "cell_type": "code",
   "execution_count": 8,
   "metadata": {},
   "outputs": [
    {
     "name": "stdout",
     "output_type": "stream",
     "text": [
      "Probability:  0.05040000000000001\n",
      "Probability:  0.08100000000000002\n"
     ]
    }
   ],
   "source": [
    "#Sample Question 1 \n",
    "#The probability that the mileage of a certain kind of compact car is less than 22 miles per gallon is 0.40. The probability that the mileage is between 22 and 25 miles per gallon is 0.50 and that it is greater than 25 is 0.10. a. Find the probability that among ten such cars tested, three will average less than 22 miles per gallon, five will average between 22 and 25 miles per gallon, and two will average more than 25 miles per gallon. b. What is the probability that the 3rd car tested is the first with mileage greater than 25 miles per gallon?\n",
    "\n",
    "#a\n",
    "\n",
    "p1 = multinomial.pmf(\n",
    "    n = 10, #number of trials\n",
    "    p = [0.4, 0.5, 0.1], #probabilities of each outcome\n",
    "    x = [3, 5, 2] #number of times each outcome occurs\n",
    ")\n",
    "\n",
    "print(\"Probability: \", p1) \n",
    "\n",
    "#b\n",
    "p1 = binom.pmf(\n",
    "    n = 2, #number of trials\n",
    "    p = .1, #probability of success\n",
    "    k = 0 #number of successes\n",
    ")*.1\n",
    "print(\"Probability: \", p1)"
   ]
  },
  {
   "cell_type": "code",
   "execution_count": 28,
   "metadata": {},
   "outputs": [
    {
     "name": "stdout",
     "output_type": "stream",
     "text": [
      "Probability:  0.33949105187500006\n",
      "Probability:  0.4132168726443004\n"
     ]
    }
   ],
   "source": [
    "#2. The lifetime of an electric bulb follows the Weibull distribution with a rate of 1 per 50,000 hours and parameter a = 1.1. a) What is the probability that a bulb will last more than 60,000 hours? b) If four such bulbs are tested, what is a probability that at least 2 of them will still be working after 60,000 hours? c) If you buy a pack of 100 such bulbs, what is the probability that more than 30 of them will work longer than 60,000 hours?\n",
    "\n",
    "#b\n",
    "p = .295 #probability of success\n",
    "\n",
    "p1=0\n",
    "for k in range(2, 5):\n",
    "    p1 += binom.pmf(\n",
    "        n = 4, #number of trials\n",
    "        p = p, #probability of success\n",
    "        k = k #number of successes\n",
    "    )\n",
    "\n",
    "print(\"Probability: \", p1)\n",
    "\n",
    "#c\n",
    "p = (.295) #probability of failure\n",
    "\n",
    "mu = 100*p #expected value\n",
    "sigma = sqrt(mu*(1-p)) #standard deviation\n",
    "\n",
    "X = Normal(\n",
    "    'X', #name\n",
    "    mu, #mean\n",
    "    sigma #standard deviation\n",
    ")\n",
    "\n",
    "p1 = P(X > 30.5)\n",
    "print(\"Probability: \", float(p1))"
   ]
  },
  {
   "cell_type": "code",
   "execution_count": null,
   "metadata": {},
   "outputs": [],
   "source": [
    "#4. The time between hurricanes at a certain region is known to follow a lognormal distribution with a log (base e) adjusted mean of 4.38 and a variance of 0.39. a) Determine the probability that the next hurricane will occur within 20 years. b) What is the 75th percentile time between the hurricanes?\n",
    "\n",
    "#a\n",
    "mu = 4.38 #mean\n",
    "sigma = sqrt(0.39) #standard deviation\n",
    "x = log(20)\n"
   ]
  },
  {
   "cell_type": "code",
   "execution_count": 2,
   "metadata": {},
   "outputs": [
    {
     "data": {
      "text/plain": [
       "0.13445599999999988"
      ]
     },
     "execution_count": 2,
     "metadata": {},
     "output_type": "execute_result"
    }
   ],
   "source": [
    "p1 = multinomial.pmf(\n",
    "    n = 7, #number of trials\n",
    "    p = [7/20,8/20,5/20], #probabilities of each outcome\n",
    "    x = [3, 3, 1] #number of times each outcome occurs\n",
    ")\n",
    "\n",
    "p1 += multinomial.pmf(\n",
    "    n = 7, #number of trials\n",
    "    p = [7/20,8/20,5/20], #probabilities of each outcome\n",
    "    x = [3, 4, 0] #number of times each outcome occurs\n",
    ")\n",
    "\n",
    "p1"
   ]
  },
  {
   "cell_type": "code",
   "execution_count": 3,
   "metadata": {},
   "outputs": [
    {
     "data": {
      "text/plain": [
       "0.08528136093749997"
      ]
     },
     "execution_count": 3,
     "metadata": {},
     "output_type": "execute_result"
    }
   ],
   "source": [
    "p1 = binom.pmf(\n",
    "    n = 6, #number of trials\n",
    "    p = 7/20, #probability of success\n",
    "    k = 1 #number of successes\n",
    ")*7/20\n",
    "\n",
    "p1"
   ]
  },
  {
   "cell_type": "code",
   "execution_count": 4,
   "metadata": {},
   "outputs": [
    {
     "ename": "IndexError",
     "evalue": "list index out of range",
     "output_type": "error",
     "traceback": [
      "\u001b[0;31m---------------------------------------------------------------------------\u001b[0m",
      "\u001b[0;31mIndexError\u001b[0m                                Traceback (most recent call last)",
      "Cell \u001b[0;32mIn [4], line 4\u001b[0m\n\u001b[1;32m      1\u001b[0m x \u001b[38;5;241m=\u001b[39m Symbol(\u001b[38;5;124m'\u001b[39m\u001b[38;5;124mx\u001b[39m\u001b[38;5;124m'\u001b[39m) \u001b[38;5;66;03m#Random Variable\u001b[39;00m\n\u001b[1;32m      2\u001b[0m eq \u001b[38;5;241m=\u001b[39m Eq(\u001b[38;5;241m.525\u001b[39m,(log(x,\u001b[38;5;241m10\u001b[39m)\u001b[38;5;241m-\u001b[39m\u001b[38;5;241m.85\u001b[39m)\u001b[38;5;241m/\u001b[39m(sqrt(\u001b[38;5;241m.35\u001b[39m)))\n\u001b[0;32m----> 4\u001b[0m \u001b[43msolve\u001b[49m\u001b[43m(\u001b[49m\u001b[43meq\u001b[49m\u001b[43m)\u001b[49m\u001b[43m[\u001b[49m\u001b[38;5;241;43m0\u001b[39;49m\u001b[43m]\u001b[49m \u001b[38;5;66;03m#Solve for x\u001b[39;00m\n\u001b[1;32m      5\u001b[0m x\n",
      "\u001b[0;31mIndexError\u001b[0m: list index out of range"
     ]
    }
   ],
   "source": [
    "x = Symbol('x') #Random Variable\n",
    "eq = Eq(.525,(log(x,10)-.85)/(sqrt(.35)))\n",
    "\n",
    "solve(eq)[0] #Solve for x\n",
    "x"
   ]
  },
  {
   "cell_type": "code",
   "execution_count": 5,
   "metadata": {},
   "outputs": [
    {
     "data": {
      "text/plain": [
       "0.14930834589999992"
      ]
     },
     "execution_count": 5,
     "metadata": {},
     "output_type": "execute_result"
    }
   ],
   "source": [
    "p1 = binom.pmf(\n",
    "    n = 10, #number of trials\n",
    "    p = .3, #probability of success\n",
    "    k = 0\n",
    ")  \n",
    "p1 += binom.pmf(\n",
    "    n = 10, #number of trials\n",
    "    p = .3, #probability of success\n",
    "    k = 1\n",
    ")  \n",
    "\n",
    "p1"
   ]
  },
  {
   "cell_type": "code",
   "execution_count": null,
   "metadata": {},
   "outputs": [],
   "source": []
  }
 ],
 "metadata": {
  "kernelspec": {
   "display_name": "Python 3.10.6 64-bit",
   "language": "python",
   "name": "python3"
  },
  "language_info": {
   "codemirror_mode": {
    "name": "ipython",
    "version": 3
   },
   "file_extension": ".py",
   "mimetype": "text/x-python",
   "name": "python",
   "nbconvert_exporter": "python",
   "pygments_lexer": "ipython3",
   "version": "3.10.6"
  },
  "orig_nbformat": 4,
  "vscode": {
   "interpreter": {
    "hash": "aee8b7b246df8f9039afb4144a1f6fd8d2ca17a180786b69acc140d282b71a49"
   }
  }
 },
 "nbformat": 4,
 "nbformat_minor": 2
}
