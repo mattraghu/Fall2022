{
 "cells": [
  {
   "cell_type": "code",
   "execution_count": 1,
   "metadata": {},
   "outputs": [],
   "source": [
    "from sympy import *\n",
    "from scipy.stats import *\n",
    "import pyperclip\n",
    "import numpy as np"
   ]
  },
  {
   "cell_type": "code",
   "execution_count": 97,
   "metadata": {},
   "outputs": [],
   "source": [
    "u_u, u_l, Z, stdErr, x = symbols('u_u u_l Z stdErr x')\n",
    "u = symbols(\"u\")\n",
    "\n",
    "u_uEq = Eq(u, Z*stdErr + x)\n",
    "u_lEq = Eq(u, -Z*stdErr + x)"
   ]
  },
  {
   "cell_type": "code",
   "execution_count": 49,
   "metadata": {},
   "outputs": [
    {
     "name": "stdout",
     "output_type": "stream",
     "text": [
      "n =  207\n",
      "pValue =  0.0027301967728019516\n",
      "z_calc =  2.7785391341997925\n"
     ]
    }
   ],
   "source": [
    "#1) The 94% confidence interval for the proportion of cars above the speed limit on NJ Turnpike is (0.24, 0.36).\n",
    "#a) Find the number of samples based on which the above confidence interval is constructed?\n",
    "#b) Can you conclude that the proportion of speeding cars is above 0.22 at 1% significance?\n",
    "\n",
    "#a.)\n",
    "\n",
    "u_u, u_l, x, z_a, sigma, n = symbols('u_u u_l x z_a sigma n')\n",
    "\n",
    "u_u = 0.36\n",
    "u_l = 0.24\n",
    "\n",
    "z_a = norm.ppf(0.97)\n",
    "\n",
    "pHat = symbols(\"pHat\")\n",
    "stdError = sqrt(pHat*(1-pHat)/n)\n",
    "\n",
    "eq1 = Eq(u_u, z_a*stdError + pHat)\n",
    "eq2 = Eq(u_l, -z_a*stdError + pHat)\n",
    "\n",
    "sol = solve([eq1, eq2], [pHat, n])[0]\n",
    "n = sol[1]\n",
    "pHat = sol[0]\n",
    "\n",
    "print(\"n = \", round(n)+1)\n",
    "\n",
    "#b.) \n",
    "z_a = symbols(\"z_a\")\n",
    "pHat = 0.22\n",
    "n = round(n)+1\n",
    "\n",
    "stdError = sqrt(pHat*(1-pHat)/n)\n",
    "u_u = .3\n",
    "\n",
    "eq = Eq(u_u, z_a*stdError + pHat)\n",
    "sol = solve(eq, z_a)[0]\n",
    "z_a = float(sol)\n",
    "\n",
    "pValue = 1 - norm.cdf(z_a)\n",
    "print(\"pValue = \", pValue)\n",
    "print(\"z_calc = \", z_a)\n",
    "\n",
    "\n"
   ]
  },
  {
   "cell_type": "code",
   "execution_count": 55,
   "metadata": {},
   "outputs": [
    {
     "name": "stdout",
     "output_type": "stream",
     "text": [
      "u_u =  1.51010761358458\n",
      "u_l =  0.489892386415421\n",
      "t_a =  -5.299989400031802\n",
      "pValue =  0.9999977726152659\n"
     ]
    }
   ],
   "source": [
    "#2) Two groups were tested in a pH rain experiment. Group A has 25 samples with mean of 4 and  standard deviation of 0.5, group B has 25 samples with mean of 5 and standard deviation 0.8.\n",
    "#a) What is the 99% confidence interval for the difference pH of the two groups?\n",
    "#b) Can you conclude that mean of group A is different from that of group B at 5% significance? What is the p-value?\n",
    "\n",
    "#a.)\n",
    "n = 25 \n",
    "x1 = 4\n",
    "x2 = 5\n",
    "s1 = 0.5\n",
    "s2 = 0.8\n",
    "\n",
    "x = x2-x1\n",
    "\n",
    "df = (s1**2/n + s2**2/n)**2 / (s1**4/(n**2*(n-1)) + s2**4/(n**2*(n-1)))\n",
    "t_a = t.ppf(0.995, df)\n",
    "stdError = sqrt(s1**2/n + s2**2/n)\n",
    "\n",
    "u_u = x + t_a*stdError\n",
    "u_l = x - t_a*stdError\n",
    "\n",
    "print(\"u_u = \", u_u)\n",
    "print(\"u_l = \", u_l)\n",
    "\n",
    "#b.)\n",
    "u_u = 0\n",
    "\n",
    "t_a = symbols(\"t_a\")\n",
    "eq = Eq(u_u, t_a*stdError + x)\n",
    "sol = solve(eq, t_a)[0]\n",
    "t_a = float(sol)\n",
    "\n",
    "print(\"t_a = \", t_a)\n",
    "\n",
    "pValue = 1 - t.cdf(t_a, df)\n",
    "print(\"pValue = \", pValue)\n"
   ]
  },
  {
   "cell_type": "code",
   "execution_count": 70,
   "metadata": {},
   "outputs": [
    {
     "name": "stdout",
     "output_type": "stream",
     "text": [
      "t_stat =  4.43379759344995\n",
      "u_u =  10.1416069875439\n",
      "u_l =  2.25839301245614\n",
      "f_crit =  7.945385729170028\n",
      "f_calc =  19.6585610996826\n",
      "r2 =  0.471897266270015\n",
      "r2 =  0.471897266270015\n"
     ]
    }
   ],
   "source": [
    "#3) A  paper  reported  that  a  simple  linear  regression  model  was  built  based  on  24  samples.  The  95% confidence interval for the slope was (3.3, 9.1).\n",
    "#a) What is the t statistic for the slope?\n",
    "#b) What is the 99% confidence interval for the slope?\n",
    "#c) Is the model significant at 1% significance?\n",
    "#d) What is the R2 for the model? \n",
    "\n",
    "#a.)\n",
    "u_u = 9.1\n",
    "u_l = 3.3\n",
    "\n",
    "n = 24\n",
    "df = n-2\n",
    "\n",
    "t_a = t.ppf(0.975, df)\n",
    "\n",
    "x = symbols(\"x\")\n",
    "stdError = symbols(\"stdError\")\n",
    "\n",
    "eq = Eq(u_u, t_a*stdError + x)\n",
    "e2 = Eq(u_l, -t_a*stdError + x)\n",
    "\n",
    "sol = solve([eq, e2], [x, stdError])\n",
    "x = sol[x]\n",
    "stdError = sol[stdError]\n",
    "\n",
    "t_stat = x / stdError #u_u is the mean and x is 0 \n",
    "print(\"t_stat = \", t_stat)\n",
    "\n",
    "#b.)\n",
    "t_a = t.ppf(0.995, df)\n",
    "\n",
    "subbed = u_uEq.subs({\"x\":x, \"stdErr\":stdError, \"Z\":t_a})\n",
    "u_u = solve(subbed, \"u_u\")[0]\n",
    "print(\"u_u = \", u_u)\n",
    "\n",
    "subbed = u_lEq.subs({\"x\":x, \"stdErr\":stdError, \"Z\":t_a})\n",
    "u_l = solve(subbed, \"u_l\")[0]\n",
    "print(\"u_l = \", u_l)\n",
    "\n",
    "#c.)\n",
    "f_crit = f.ppf(0.99, 1, df)\n",
    "f_calc = (t_stat**2) \n",
    "print(\"f_crit = \", f_crit)\n",
    "print(\"f_calc = \", f_calc)\n",
    "\n",
    "#d.)\n",
    "r2 = t_stat**2 / (t_stat**2 + df)\n",
    "print(\"r2 = \", r2)\n",
    "\n",
    "#These are the same \n",
    "r2 = 1/(1 + df/(f_calc*1))\n",
    "print(\"r2 = \", r2)"
   ]
  },
  {
   "cell_type": "code",
   "execution_count": 78,
   "metadata": {},
   "outputs": [
    {
     "name": "stdout",
     "output_type": "stream",
     "text": [
      "f_stat =  5.18499991729522\n",
      "r2 =  0.4778067845319114\n",
      "f_crit =  3.1967768409433432\n"
     ]
    }
   ],
   "source": [
    "#4) A multi-linear model with 3 independent variables was built based on 21 samples. The p-value for the model is 0.01.\n",
    "#a) Find the F-statistic and R2. \n",
    "#b) Is the model statistically significant at 5%? \n",
    "n = 21\n",
    "pValue = 0.01\n",
    "p = 3\n",
    "\n",
    "#a.)\n",
    "f_stat = f.ppf(1-pValue, p, n-p-1)\n",
    "print(\"f_stat = \", f_stat)\n",
    "\n",
    "r2 = 1/(1 + (n-p-1)/(f_stat*(p)))\n",
    "print(\"r2 = \", r2)\n",
    "\n",
    "#b.)\n",
    "f_crit = f.ppf(0.95, p, n-p-1)\n",
    "print(\"f_crit = \", f_crit)"
   ]
  },
  {
   "cell_type": "code",
   "execution_count": 101,
   "metadata": {},
   "outputs": [
    {
     "name": "stdout",
     "output_type": "stream",
     "text": [
      "t_calc =  -3.08454263906030\n",
      "t_crit =  2.4998667394943976\n"
     ]
    }
   ],
   "source": [
    "#5) The management of White Industries is considering a new method of assembling its golf cart. \n",
    "#The  present  method  requires  42.3  minutes  to  assemble  a  cart.  The  mean  assembly  time  for  a \n",
    "#random sample of 24 carts, using the new method, was 40.6 minutes, and the standard deviation \n",
    "#of the sample was 2.7 minutes. Can we conclude that the assembly time using the new method is \n",
    "#faster at the 1% significance level?\n",
    "\n",
    "x = 42.3\n",
    "u_u = 40.6\n",
    "s = 2.7 \n",
    "n = 24\n",
    "stdErr = s/sqrt(n)\n",
    "\n",
    "subbed = u_uEq.subs({\"x\":x, \"stdErr\":stdErr, \"u\":u_u})\n",
    "Z = solve(subbed, \"Z\")[0]\n",
    "print(\"t_calc = \", Z)\n",
    "\n",
    "t_crit = t.ppf(0.99, n-1)\n",
    "print(\"t_crit = \", t_crit) #tcric < t_calc so we can reject the null hypothesis"
   ]
  },
  {
   "cell_type": "code",
   "execution_count": 104,
   "metadata": {},
   "outputs": [
    {
     "name": "stdout",
     "output_type": "stream",
     "text": [
      "Z =  2.94244943168250\n",
      "z_crit =  1.959963984540054\n"
     ]
    }
   ],
   "source": [
    "#1) In 1000 rolls of two dice, six was rolled 200 times for die A and 150 times for die B. Is there a significant  difference  between  the  two  dice  in  the  proportion  of  sixes  obtained  at  the  5% significance level?\n",
    "\n",
    "n1 = 1000\n",
    "n2 = 1000\n",
    "x1 = 200\n",
    "x2 = 150\n",
    "p1 = x1/n1\n",
    "p2 = x2/n2\n",
    "\n",
    "p = (x1+x2)/(n1+n2)\n",
    "stdError = sqrt(p*(1-p)*(1/n1 + 1/n2))\n",
    "\n",
    "x = 0\n",
    "u_u =  p1-p2\n",
    "\n",
    "subbed = u_uEq.subs({\"x\":x, \"stdErr\":stdError, \"u\":u_u})\n",
    "Z = solve(subbed, \"Z\")[0]\n",
    "print(\"Z = \", Z)\n",
    "\n",
    "z_crit = norm.ppf(0.975)\n",
    "print(\"z_crit = \", z_crit)\n",
    "\n",
    "#YESSSSS\n",
    "#I GOT IT RIGHT\n",
    "#THEY ARE DIFFERENT\n",
    "#BECAUSE Z > Z_crit\n",
    "#POG CHAMP"
   ]
  },
  {
   "cell_type": "code",
   "execution_count": 108,
   "metadata": {},
   "outputs": [
    {
     "name": "stdout",
     "output_type": "stream",
     "text": [
      "Z =  1.68870098792414\n"
     ]
    }
   ],
   "source": [
    "#2) Twelve randomly selected mature apple trees of species A have a mean height of 13.6 feet with a standard deviation of 1.2 feet, and fifteen randomly selected mature apple trees of species B have a mean height of 12.7 feet with a standard deviation of 1.5 feet. You may assume that the population variances are equal.\n",
    "#a) Test at 1% significance whether species A is taller than species B. What is the p-value?\n",
    "#b) Find the 95% confidence interval for the difference between mean heights of the apple trees. \n",
    "\n",
    "n1 = 12\n",
    "u1 = 13.6\n",
    "s1 = 1.2\n",
    "\n",
    "n2 = 15\n",
    "u2 = 12.7\n",
    "s2 = 1.5\n",
    "\n",
    "s = sqrt(((n1-1)*(s1**2) + (n2-1)*(s2**2))/(n1+n2-2))\n",
    "stdError = s*sqrt(1/n1 + 1/n2)\n",
    "x = 0\n",
    "u_u = u1-u2\n",
    "\n",
    "subbed = u_uEq.subs({\"x\":x, \"stdErr\":stdError, \"u\":u_u})\n",
    "Z = solve(subbed, \"Z\")[0]\n",
    "print(\"Z = \", Z)"
   ]
  },
  {
   "cell_type": "code",
   "execution_count": 115,
   "metadata": {},
   "outputs": [
    {
     "name": "stdout",
     "output_type": "stream",
     "text": [
      "t_x1 =  1.56371189061854\n",
      "t_x2 =  1.22863077120029\n",
      "X1 is more significant than X2\n"
     ]
    }
   ],
   "source": [
    "#3)  The  98%  confidence  interval  for  the  intercept,  coefficient  of  X1,  and  coefficient  of  X2  of  a linear model with 2 predictors, are (18, 24), (-2,9) and (-1, 3) respectively based on 33 samples.\n",
    "#a) What are the t-stats for X1 and X2? \n",
    "#b) Is the coefficient of X1 statistically more significant than that of X2? \n",
    "\n",
    "#a.) \n",
    "u_u_x1 = 9\n",
    "u_l_x1 = -2\n",
    "u_u_x2 = 3\n",
    "u_l_x2 = -1\n",
    "\n",
    "n = 33\n",
    "p = 2\n",
    "\n",
    "t_a = t.ppf(0.99, n-p-1)\n",
    "\n",
    "eq1_x1 = u_uEq.subs({\"u\":u_u_x1, \"Z\":t_a})\n",
    "eq2_x1 = u_lEq.subs({\"u\":u_l_x1, \"Z\":t_a})\n",
    "sol = solve([eq1_x1, eq2_x1], [\"x\", \"stdErr\"])\n",
    "x_x1 = sol[symbols(\"x\")]\n",
    "stdErr_x1 = sol[symbols(\"stdErr\")]\n",
    "t_x1 = x_x1/stdErr_x1\n",
    "print(\"t_x1 = \", t_x1)\n",
    "\n",
    "eq1_x2 = u_uEq.subs({\"u\":u_u_x2, \"Z\":t_a})\n",
    "eq2_x2 = u_lEq.subs({\"u\":u_l_x2, \"Z\":t_a})\n",
    "sol = solve([eq1_x2, eq2_x2], [\"x\", \"stdErr\"])\n",
    "x_x2 = sol[symbols(\"x\")]\n",
    "stdErr_x2 = sol[symbols(\"stdErr\")]\n",
    "t_x2 = x_x2/stdErr_x2\n",
    "print(\"t_x2 = \", t_x2)\n",
    "\n",
    "\n",
    "#b.)\n",
    "if t_x1 > t_x2:\n",
    "    print(\"X1 is more significant than X2\")\n",
    "else:\n",
    "    print(\"X2 is more significant than X1\")\n"
   ]
  },
  {
   "cell_type": "code",
   "execution_count": 121,
   "metadata": {},
   "outputs": [
    {
     "name": "stdout",
     "output_type": "stream",
     "text": [
      "u_u =  5.44995498067507\n",
      "u_l =  0.550045019324933\n",
      "Z =  0.400000000000000\n",
      "z_crit =  1.6448536269514722\n",
      "We cannot reject the null hypothesis\n"
     ]
    }
   ],
   "source": [
    "#4) The HP computer battery lifetime based on 16 samples is 3 hours. The population variance is 25 hours.\n",
    "#a) Calculate the 95% confidence interval for the population mean \n",
    "#b) Can you state at a 5% significance level that the population mean is greater than 2.5 hours? \n",
    "var = 25\n",
    "stdDev = sqrt(var)\n",
    "n = 16\n",
    "x = 3\n",
    "stdErr = stdDev/sqrt(n)\n",
    "\n",
    "#a.)\n",
    "z = norm.ppf(0.975)\n",
    "subbed = u_uEq.subs({\"x\":x, \"stdErr\":stdErr, \"Z\":z})\n",
    "u_u = solve(subbed, \"u\")[0]\n",
    "print(\"u_u = \", u_u)\n",
    "\n",
    "subbed = u_lEq.subs({\"x\":x, \"stdErr\":stdErr, \"Z\":z})\n",
    "u_l = solve(subbed, \"u\")[0]\n",
    "print(\"u_l = \", u_l)\n",
    "\n",
    "#b.)\n",
    "u_u = x\n",
    "x = 2.5 \n",
    "subbed = u_uEq.subs({\"x\":x, \"stdErr\":stdErr, \"u\":u_u})\n",
    "Z = solve(subbed, \"Z\")[0]\n",
    "print(\"Z = \", Z)\n",
    "\n",
    "z_crit = norm.ppf(0.95)\n",
    "print(\"z_crit = \", z_crit)\n",
    "\n",
    "if abs(Z) > abs(z_crit):\n",
    "    print(\"We can reject the null hypothesis\")\n",
    "else:\n",
    "    print(\"We cannot reject the null hypothesis\")"
   ]
  },
  {
   "cell_type": "code",
   "execution_count": 134,
   "metadata": {},
   "outputs": [
    {
     "name": "stdout",
     "output_type": "stream",
     "text": [
      "Z =  -3.45690721149406\n",
      "z_crit =  1.959963984540054\n",
      "p =  0.9997267935208715\n"
     ]
    }
   ],
   "source": [
    "#Question 1 \n",
    "#The time taken to complete a marathon in two different regions is being compared. At location A, based on 20 runners, the average time was 300 minutes with a standard deviation of 30 minutes. At location B, based on 18 runners, the average time was 330 minutes with a standard deviation of 40 minutes. The population variance of both brands is assumed to be equal. Can you conclude that on average runners at location A are faster by 10 minutes than runners at location B at 5% significance? What is the p-value?\n",
    "\n",
    "n1 = 20\n",
    "u1 = 300\n",
    "s1 = 30\n",
    "\n",
    "n2 = 18\n",
    "u2 = 330\n",
    "s2 = 40\n",
    "\n",
    "p1 = x1/n1\n",
    "p2 = x2/n2\n",
    "\n",
    "stdError = sqrt(s1**2/n1 + s2**2/n2)\n",
    "\n",
    "u_u = u1-u2\n",
    "x = 10\n",
    "subbed = u_uEq.subs({\"x\":x, \"stdErr\":stdError, \"u\":u_u})\n",
    "Z = solve(subbed, \"Z\")[0]\n",
    "print(\"Z = \", Z)\n",
    "\n",
    "z_crit = norm.ppf(0.975)\n",
    "print(\"z_crit = \", z_crit)\n",
    "\n",
    "p = 1 - norm.cdf(float(Z))\n",
    "print(\"p = \", p)"
   ]
  },
  {
   "cell_type": "code",
   "execution_count": 136,
   "metadata": {},
   "outputs": [
    {
     "name": "stdout",
     "output_type": "stream",
     "text": [
      "u_l =  475.995441618223\n"
     ]
    }
   ],
   "source": [
    "#Based on 24 cell phones, the battery run time was found to be 500 minutes with a standard deviation of 60 minutes. Find the 95% lower bound of the mean battery run time?\n",
    "n = 24\n",
    "x = 500\n",
    "s = 60\n",
    "stdErr = s/sqrt(n)\n",
    "z = norm.ppf(0.975)\n",
    "\n",
    "subbed = u_lEq.subs({\"x\":x, \"stdErr\":stdErr, \"Z\":z})\n",
    "u_l = solve(subbed, \"u\")[0]\n",
    "print(\"u_l = \", u_l)"
   ]
  },
  {
   "cell_type": "code",
   "execution_count": 161,
   "metadata": {},
   "outputs": [
    {
     "name": "stdout",
     "output_type": "stream",
     "text": [
      "z_calc =  3.00375704593056\n",
      "z_crit =  2.5758293035489004\n",
      "p =  0.0013333408968070337\n",
      "u_u =  0.540612827699856\n",
      "u_l =  0.359387172300144\n"
     ]
    },
    {
     "data": {
      "text/latex": [
       "$\\displaystyle 380.622837370242$"
      ],
      "text/plain": [
       "380.622837370242"
      ]
     },
     "execution_count": 161,
     "metadata": {},
     "output_type": "execute_result"
    }
   ],
   "source": [
    "#Two different brands of flu vaccine are under investigation for approval. For testing the effectiveness, they take two random samples of 200 unvaccinated people each. First group gets vaccine A while the second group gets Vaccine B. 120 people from the first group taking vaccine A and 90 people from the second group taking vaccine B show immunity from monkeypox.\n",
    "#a. Can you conclude that vaccine A is better than vaccine B at 1% significance? What is the p-value of the test?\n",
    "#b. Find the 99% confidence interval for the proportion of people who got immunity from vaccine B.\n",
    "#c. How many more people need to be tested  to estimate for the 95% confidence interval  the immunity proportion from vaccine B to within 0.05?\n",
    "\n",
    "n1 = 200\n",
    "x1 = 120\n",
    "p1 = x1/n1\n",
    "\n",
    "n2 = 200\n",
    "x2 = 90\n",
    "p2 = x2/n2\n",
    "\n",
    "p = (x1+x2)/(n1+n2)\n",
    "stdError = sqrt(p*(1-p)*(1/n1 + 1/n2))\n",
    "\n",
    "u_u = p1-p2\n",
    "\n",
    "#a.\n",
    "x = 0\n",
    "subbed = u_uEq.subs({\"x\":x, \"stdErr\":stdError, \"u\":u_u})\n",
    "Z = solve(subbed, \"Z\")[0]\n",
    "print(\"z_calc = \", Z)\n",
    "\n",
    "z_crit = norm.ppf(0.995)\n",
    "print(\"z_crit = \", z_crit)\n",
    "\n",
    "p = 1 - norm.cdf(float(Z))\n",
    "print(\"p = \", p)\n",
    "\n",
    "\n",
    "\n",
    "#b.\n",
    "z = norm.ppf(0.995)\n",
    "stdError = sqrt(p2*(1-p2)/n2)\n",
    "x = p2\n",
    "\n",
    "subbed = u_uEq.subs({\"x\":x, \"stdErr\":stdError, \"Z\":z})\n",
    "u_u = solve(subbed, \"u\")[0]\n",
    "print(\"u_u = \", u_u)\n",
    "\n",
    "subbed = u_lEq.subs({\"x\":x, \"stdErr\":stdError, \"Z\":z})\n",
    "u_l = solve(subbed, \"u\")[0]\n",
    "print(\"u_l = \", u_l)\n",
    "\n",
    "#c.\n",
    "z = norm.ppf(0.975)\n",
    "(sqrt(p2*(1-p2))/.0255)**2"
   ]
  },
  {
   "cell_type": "code",
   "execution_count": 169,
   "metadata": {},
   "outputs": [
    {
     "name": "stdout",
     "output_type": "stream",
     "text": [
      "t_stat =  4\n",
      "stdErr =  -0.400000000000000\n",
      "p =  0.00046750510645887427\n",
      "r2 =  0.38095238095238093\n"
     ]
    }
   ],
   "source": [
    "#A linear regression model, Y = 0.3 - 1.6X was built based on 28 samples. The t-stat for the intercept was 1 and the F-stat for the model was 16.   \n",
    "#a. What is the t-stat for X?\n",
    "#b. What is the standard error for X?\n",
    "#c. Find the p-value for this model and R2.\n",
    "\n",
    "n = 28\n",
    "f_calc = 16\n",
    "\n",
    "#a.\n",
    "t_stat = sqrt(f_calc)\n",
    "print(\"t_stat = \", t_stat)\n",
    "\n",
    "#b.\n",
    "x = -1.6\n",
    "stdErr = x/t_stat\n",
    "print(\"stdErr = \", stdErr)\n",
    "\n",
    "#c.\n",
    "p = f.sf(f_calc, 1, n-2)\n",
    "print(\"p = \", p)\n",
    "\n",
    "n= 28\n",
    "p = 1 \n",
    "r2 = 1/(1 + (n-p-1)/(f_calc*(p)))\n",
    "print(\"r2 = \", r2)"
   ]
  },
  {
   "cell_type": "code",
   "execution_count": 170,
   "metadata": {},
   "outputs": [
    {
     "name": "stdout",
     "output_type": "stream",
     "text": [
      "f_crit =  3.5915305684750827\n"
     ]
    }
   ],
   "source": [
    "#A linear model based on 20 data points has two predictor variables, X1 and X2. The 95% confidence intervals for the coefficients of these variables were (-3, -4), (8, 9.4), and the intercept was 6.5.\n",
    "#a. Which variable, X1 and X2, is more significant? Why?\n",
    "#b. If MSE is 2.5 and R2 is 0.65. Complete the ANOVA table.\n",
    "#c.  Is the model statistically significant at 5% significance level?\n",
    "\n",
    "#a.\n",
    "u_u_x1 = -3\n",
    "u_u_x2 = 9.4\n",
    "\n",
    "#c\n",
    "f_crit = f.ppf(0.95, 2, 17)\n",
    "print(\"f_crit = \", f_crit)\n",
    "\n"
   ]
  },
  {
   "cell_type": "code",
   "execution_count": 176,
   "metadata": {},
   "outputs": [
    {
     "data": {
      "text/plain": [
       "[0.470149253731343]"
      ]
     },
     "execution_count": 176,
     "metadata": {},
     "output_type": "execute_result"
    }
   ],
   "source": [
    "tin = symbols(\"tin\")\n",
    "eq = Eq((1.5*.12+tin)/(1.5+tin),.33)\n",
    "solve(eq, tin)"
   ]
  },
  {
   "cell_type": "code",
   "execution_count": null,
   "metadata": {},
   "outputs": [],
   "source": []
  }
 ],
 "metadata": {
  "kernelspec": {
   "display_name": "Python 3.10.6 64-bit",
   "language": "python",
   "name": "python3"
  },
  "language_info": {
   "codemirror_mode": {
    "name": "ipython",
    "version": 3
   },
   "file_extension": ".py",
   "mimetype": "text/x-python",
   "name": "python",
   "nbconvert_exporter": "python",
   "pygments_lexer": "ipython3",
   "version": "3.10.6"
  },
  "orig_nbformat": 4,
  "vscode": {
   "interpreter": {
    "hash": "aee8b7b246df8f9039afb4144a1f6fd8d2ca17a180786b69acc140d282b71a49"
   }
  }
 },
 "nbformat": 4,
 "nbformat_minor": 2
}
