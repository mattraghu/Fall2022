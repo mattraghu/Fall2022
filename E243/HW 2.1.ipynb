{
 "cells": [
  {
   "cell_type": "code",
   "execution_count": 1,
   "metadata": {},
   "outputs": [],
   "source": [
    "from sympy import *"
   ]
  },
  {
   "cell_type": "code",
   "execution_count": 11,
   "metadata": {},
   "outputs": [
    {
     "name": "stdout",
     "output_type": "stream",
     "text": [
      "The force of attraction is -2.42727622982952e-9 N\n"
     ]
    }
   ],
   "source": [
    "#the atomic radii of a divalent cation and ma monovalent anion are .31 nm and .126 nm respectivelly\n",
    "\n",
    "#Calculate the force of attraction\n",
    "\n",
    "\n",
    "\n",
    "\n",
    "#Define the symbols\n",
    "FA = Symbol('FA')\n",
    "r, R, a, b, Z1, Z2 = symbols('r R a b Z1 Z2')\n",
    "\n",
    "#Constants\n",
    "e_0 = 8.854187817e-12\n",
    "k = 1/(4*pi*e_0)\n",
    "e_c = 1.60217662e-19\n",
    "\n",
    "\n",
    "\n",
    "\n",
    "#Equation \n",
    "ForceOfAttractionEquation = Eq(FA, (k * (Z1 * Z2 * e_c**2))/(r**2))\n",
    "\n",
    "#Given\n",
    "r1 = .31e-9\n",
    "r2 = .126e-9\n",
    "Z1 = 2\n",
    "Z2 = 1\n",
    "\n",
    "\n",
    "#Plug in givens\n",
    "ForceOfAttractionEquation = ForceOfAttractionEquation.subs(r, r1 + r2)\n",
    "ForceOfAttractionEquation = ForceOfAttractionEquation.subs({\n",
    "    \"Z1\": Z1,\n",
    "    \"Z2\": Z2\n",
    "})\n",
    "\n",
    "#Solve for Force of Attraction\n",
    "ForceOfAttractionEquation = solve(ForceOfAttractionEquation, FA)\n",
    "\n",
    "#Print the answer\n",
    "print(\"The force of attraction is\", ForceOfAttractionEquation[0], \"N\")\n",
    "\n",
    "\n",
    "#Calculate the force of repulsion\n",
    "\n",
    "#Symbols \n",
    "FR = Symbol('FR')\n",
    "\n",
    "#Equation\n",
    "ForceOfRepulsionEquation = Eq(FR, (k * (Z1 * Z2 * e_c**2))/(r**2))\n"
   ]
  },
  {
   "cell_type": "code",
   "execution_count": 55,
   "metadata": {},
   "outputs": [
    {
     "name": "stdout",
     "output_type": "stream",
     "text": [
      "[]\n",
      "The radius of the anion is 1.08276403968135e-10 m\n"
     ]
    }
   ],
   "source": [
    "#The Force of attraction between a divalent cation and a divalent anion is 2.19E-8 N. If the iconic radius of the cation is .097 nm what is the radius of the anion?\n",
    "\n",
    "#Equation \n",
    "ForceOfAttractionEquation = Eq(FA, (-k * (Z1 * Z2 * e_c**2))/(r**2))\n",
    "\n",
    "#Given\n",
    "r1 = .097e-9\n",
    "r2 = symbols('r2')\n",
    "Z1 = 2\n",
    "Z2 = 2\n",
    "FA = 2.19e-8\n",
    "\n",
    "# FA = 1.11E-8 \n",
    "# r1 = .09E-9\n",
    "# Z1 = 2\n",
    "# Z2 = 2 \n",
    "\n",
    "\n",
    "#Plug in givens\n",
    "ForceOfAttractionEquation = ForceOfAttractionEquation.subs(r, r1 + r2)\n",
    "ForceOfAttractionEquation = ForceOfAttractionEquation.subs({\n",
    "    \"Z1\": Z1,\n",
    "    \"Z2\": Z2,\n",
    "    \"FA\": FA\n",
    "\n",
    "})\n",
    "\n",
    "print(\n",
    "solve(ForceOfAttractionEquation))\n",
    "\n",
    "\n",
    "#Non linear solve for the radius of the anion\n",
    "ForceOfAttractionEquation = nonlinsolve([ForceOfAttractionEquation], [r2])\n",
    "\n",
    "#Print the answer as a number\n",
    "print(\"The radius of the anion is\", N( ForceOfAttractionEquation.args[0][0] ), \"m\")"
   ]
  },
  {
   "cell_type": "code",
   "execution_count": null,
   "metadata": {},
   "outputs": [],
   "source": [
    "#Compute the percent ionic character of the interatomic bonds for the following compound: GaP\n",
    "\n",
    "#Symbols\n",
    "IC = Symbol('IC')\n",
    "XA = Symbol('XA')\n",
    "XB = Symbol('XB')\n",
    "\n",
    "#Equation\n",
    "ICEquation = Eq(IC, 100*( 1 - exp(-2*.25*(XA-XB)) ))"
   ]
  }
 ],
 "metadata": {
  "kernelspec": {
   "display_name": "Python 3.8.3 64-bit",
   "language": "python",
   "name": "python3"
  },
  "language_info": {
   "codemirror_mode": {
    "name": "ipython",
    "version": 3
   },
   "file_extension": ".py",
   "mimetype": "text/x-python",
   "name": "python",
   "nbconvert_exporter": "python",
   "pygments_lexer": "ipython3",
   "version": "3.8.3"
  },
  "orig_nbformat": 4,
  "vscode": {
   "interpreter": {
    "hash": "1f59d50658d4cd97c33559e64c64cdabcc2031b5c15f33137a9aa45101c8cb06"
   }
  }
 },
 "nbformat": 4,
 "nbformat_minor": 2
}
