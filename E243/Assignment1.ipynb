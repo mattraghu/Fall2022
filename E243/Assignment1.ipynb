{
 "cells": [
  {
   "cell_type": "code",
   "execution_count": 6,
   "metadata": {},
   "outputs": [],
   "source": [
    "import pandas as pd\n",
    "from sympy import *\n"
   ]
  },
  {
   "cell_type": "code",
   "execution_count": 22,
   "metadata": {},
   "outputs": [],
   "source": [
    "a,A,a1,A1,a,A,a2,A2,a,A,a3,A3,a,A,a4,A4,a,A,a5,A5,a,A,a6,A6,a,A,a7,A7,a,A,a8,A8,a,A,a9,A9,a,A,a0,A0,b,B,b1,B1,b,B,b2,B2,b,B,b3,B3,b,B,b4,B4,b,B,b5,B5,b,B,b6,B6,b,B,b7,B7,b,B,b8,B8,b,B,b9,B9,b,B,b0,B0,c,C,c1,C1,c,C,c2,C2,c,C,c3,C3,c,C,c4,C4,c,C,c5,C5,c,C,c6,C6,c,C,c7,C7,c,C,c8,C8,c,C,c9,C9,c,C,c0,C0,d,D,d1,D1,d,D,d2,D2,d,D,d3,D3,d,D,d4,D4,d,D,d5,D5,d,D,d6,D6,d,D,d7,D7,d,D,d8,D8,d,D,d9,D9,d,D,d0,D0,e,E,e1,E1,e,E,e2,E2,e,E,e3,E3,e,E,e4,E4,e,E,e5,E5,e,E,e6,E6,e,E,e7,E7,e,E,e8,E8,e,E,e9,E9,e,E,e0,E0,f,F,f1,F1,f,F,f2,F2,f,F,f3,F3,f,F,f4,F4,f,F,f5,F5,f,F,f6,F6,f,F,f7,F7,f,F,f8,F8,f,F,f9,F9,f,F,f0,F0,g,G,g1,G1,g,G,g2,G2,g,G,g3,G3,g,G,g4,G4,g,G,g5,G5,g,G,g6,G6,g,G,g7,G7,g,G,g8,G8,g,G,g9,G9,g,G,g0,G0,h,H,h1,H1,h,H,h2,H2,h,H,h3,H3,h,H,h4,H4,h,H,h5,H5,h,H,h6,H6,h,H,h7,H7,h,H,h8,H8,h,H,h9,H9,h,H,h0,H0,i,I,i1,I1,i,I,i2,I2,i,I,i3,I3,i,I,i4,I4,i,I,i5,I5,i,I,i6,I6,i,I,i7,I7,i,I,i8,I8,i,I,i9,I9,i,I,i0,I0,j,J,j1,J1,j,J,j2,J2,j,J,j3,J3,j,J,j4,J4,j,J,j5,J5,j,J,j6,J6,j,J,j7,J7,j,J,j8,J8,j,J,j9,J9,j,J,j0,J0,k,K,k1,K1,k,K,k2,K2,k,K,k3,K3,k,K,k4,K4,k,K,k5,K5,k,K,k6,K6,k,K,k7,K7,k,K,k8,K8,k,K,k9,K9,k,K,k0,K0,l,L,l1,L1,l,L,l2,L2,l,L,l3,L3,l,L,l4,L4,l,L,l5,L5,l,L,l6,L6,l,L,l7,L7,l,L,l8,L8,l,L,l9,L9,l,L,l0,L0,m,M,m1,M1,m,M,m2,M2,m,M,m3,M3,m,M,m4,M4,m,M,m5,M5,m,M,m6,M6,m,M,m7,M7,m,M,m8,M8,m,M,m9,M9,m,M,m0,M0,n,N,n1,N1,n,N,n2,N2,n,N,n3,N3,n,N,n4,N4,n,N,n5,N5,n,N,n6,N6,n,N,n7,N7,n,N,n8,N8,n,N,n9,N9,n,N,n0,N0,o,O,o1,O1,o,O,o2,O2,o,O,o3,O3,o,O,o4,O4,o,O,o5,O5,o,O,o6,O6,o,O,o7,O7,o,O,o8,O8,o,O,o9,O9,o,O,o0,O0,p,P,p1,P1,p,P,p2,P2,p,P,p3,P3,p,P,p4,P4,p,P,p5,P5,p,P,p6,P6,p,P,p7,P7,p,P,p8,P8,p,P,p9,P9,p,P,p0,P0,q,Q,q1,Q1,q,Q,q2,Q2,q,Q,q3,Q3,q,Q,q4,Q4,q,Q,q5,Q5,q,Q,q6,Q6,q,Q,q7,Q7,q,Q,q8,Q8,q,Q,q9,Q9,q,Q,q0,Q0,r,R,r1,R1,r,R,r2,R2,r,R,r3,R3,r,R,r4,R4,r,R,r5,R5,r,R,r6,R6,r,R,r7,R7,r,R,r8,R8,r,R,r9,R9,r,R,r0,R0,s,S,s1,S1,s,S,s2,S2,s,S,s3,S3,s,S,s4,S4,s,S,s5,S5,s,S,s6,S6,s,S,s7,S7,s,S,s8,S8,s,S,s9,S9,s,S,s0,S0,t,T,t1,T1,t,T,t2,T2,t,T,t3,T3,t,T,t4,T4,t,T,t5,T5,t,T,t6,T6,t,T,t7,T7,t,T,t8,T8,t,T,t9,T9,t,T,t0,T0,u,U,u1,U1,u,U,u2,U2,u,U,u3,U3,u,U,u4,U4,u,U,u5,U5,u,U,u6,U6,u,U,u7,U7,u,U,u8,U8,u,U,u9,U9,u,U,u0,U0,v,V,v1,V1,v,V,v2,V2,v,V,v3,V3,v,V,v4,V4,v,V,v5,V5,v,V,v6,V6,v,V,v7,V7,v,V,v8,V8,v,V,v9,V9,v,V,v0,V0,w,W,w1,W1,w,W,w2,W2,w,W,w3,W3,w,W,w4,W4,w,W,w5,W5,w,W,w6,W6,w,W,w7,W7,w,W,w8,W8,w,W,w9,W9,w,W,w0,W0,x,X,x1,X1,x,X,x2,X2,x,X,x3,X3,x,X,x4,X4,x,X,x5,X5,x,X,x6,X6,x,X,x7,X7,x,X,x8,X8,x,X,x9,X9,x,X,x0,X0,y,Y,y1,Y1,y,Y,y2,Y2,y,Y,y3,Y3,y,Y,y4,Y4,y,Y,y5,Y5,y,Y,y6,Y6,y,Y,y7,Y7,y,Y,y8,Y8,y,Y,y9,Y9,y,Y,y0,Y0,z,Z,z1,Z1,z,Z,z2,Z2,z,Z,z3,Z3,z,Z,z4,Z4,z,Z,z5,Z5,z,Z,z6,Z6,z,Z,z7,Z7,z,Z,z8,Z8,z,Z,z9,Z9,z,Z,z0,Z0=symbols('a,A,a1,A1,a,A,a2,A2,a,A,a3,A3,a,A,a4,A4,a,A,a5,A5,a,A,a6,A6,a,A,a7,A7,a,A,a8,A8,a,A,a9,A9,a,A,a0,A0,b,B,b1,B1,b,B,b2,B2,b,B,b3,B3,b,B,b4,B4,b,B,b5,B5,b,B,b6,B6,b,B,b7,B7,b,B,b8,B8,b,B,b9,B9,b,B,b0,B0,c,C,c1,C1,c,C,c2,C2,c,C,c3,C3,c,C,c4,C4,c,C,c5,C5,c,C,c6,C6,c,C,c7,C7,c,C,c8,C8,c,C,c9,C9,c,C,c0,C0,d,D,d1,D1,d,D,d2,D2,d,D,d3,D3,d,D,d4,D4,d,D,d5,D5,d,D,d6,D6,d,D,d7,D7,d,D,d8,D8,d,D,d9,D9,d,D,d0,D0,e,E,e1,E1,e,E,e2,E2,e,E,e3,E3,e,E,e4,E4,e,E,e5,E5,e,E,e6,E6,e,E,e7,E7,e,E,e8,E8,e,E,e9,E9,e,E,e0,E0,f,F,f1,F1,f,F,f2,F2,f,F,f3,F3,f,F,f4,F4,f,F,f5,F5,f,F,f6,F6,f,F,f7,F7,f,F,f8,F8,f,F,f9,F9,f,F,f0,F0,g,G,g1,G1,g,G,g2,G2,g,G,g3,G3,g,G,g4,G4,g,G,g5,G5,g,G,g6,G6,g,G,g7,G7,g,G,g8,G8,g,G,g9,G9,g,G,g0,G0,h,H,h1,H1,h,H,h2,H2,h,H,h3,H3,h,H,h4,H4,h,H,h5,H5,h,H,h6,H6,h,H,h7,H7,h,H,h8,H8,h,H,h9,H9,h,H,h0,H0,i,I,i1,I1,i,I,i2,I2,i,I,i3,I3,i,I,i4,I4,i,I,i5,I5,i,I,i6,I6,i,I,i7,I7,i,I,i8,I8,i,I,i9,I9,i,I,i0,I0,j,J,j1,J1,j,J,j2,J2,j,J,j3,J3,j,J,j4,J4,j,J,j5,J5,j,J,j6,J6,j,J,j7,J7,j,J,j8,J8,j,J,j9,J9,j,J,j0,J0,k,K,k1,K1,k,K,k2,K2,k,K,k3,K3,k,K,k4,K4,k,K,k5,K5,k,K,k6,K6,k,K,k7,K7,k,K,k8,K8,k,K,k9,K9,k,K,k0,K0,l,L,l1,L1,l,L,l2,L2,l,L,l3,L3,l,L,l4,L4,l,L,l5,L5,l,L,l6,L6,l,L,l7,L7,l,L,l8,L8,l,L,l9,L9,l,L,l0,L0,m,M,m1,M1,m,M,m2,M2,m,M,m3,M3,m,M,m4,M4,m,M,m5,M5,m,M,m6,M6,m,M,m7,M7,m,M,m8,M8,m,M,m9,M9,m,M,m0,M0,n,N,n1,N1,n,N,n2,N2,n,N,n3,N3,n,N,n4,N4,n,N,n5,N5,n,N,n6,N6,n,N,n7,N7,n,N,n8,N8,n,N,n9,N9,n,N,n0,N0,o,O,o1,O1,o,O,o2,O2,o,O,o3,O3,o,O,o4,O4,o,O,o5,O5,o,O,o6,O6,o,O,o7,O7,o,O,o8,O8,o,O,o9,O9,o,O,o0,O0,p,P,p1,P1,p,P,p2,P2,p,P,p3,P3,p,P,p4,P4,p,P,p5,P5,p,P,p6,P6,p,P,p7,P7,p,P,p8,P8,p,P,p9,P9,p,P,p0,P0,q,Q,q1,Q1,q,Q,q2,Q2,q,Q,q3,Q3,q,Q,q4,Q4,q,Q,q5,Q5,q,Q,q6,Q6,q,Q,q7,Q7,q,Q,q8,Q8,q,Q,q9,Q9,q,Q,q0,Q0,r,R,r1,R1,r,R,r2,R2,r,R,r3,R3,r,R,r4,R4,r,R,r5,R5,r,R,r6,R6,r,R,r7,R7,r,R,r8,R8,r,R,r9,R9,r,R,r0,R0,s,S,s1,S1,s,S,s2,S2,s,S,s3,S3,s,S,s4,S4,s,S,s5,S5,s,S,s6,S6,s,S,s7,S7,s,S,s8,S8,s,S,s9,S9,s,S,s0,S0,t,T,t1,T1,t,T,t2,T2,t,T,t3,T3,t,T,t4,T4,t,T,t5,T5,t,T,t6,T6,t,T,t7,T7,t,T,t8,T8,t,T,t9,T9,t,T,t0,T0,u,U,u1,U1,u,U,u2,U2,u,U,u3,U3,u,U,u4,U4,u,U,u5,U5,u,U,u6,U6,u,U,u7,U7,u,U,u8,U8,u,U,u9,U9,u,U,u0,U0,v,V,v1,V1,v,V,v2,V2,v,V,v3,V3,v,V,v4,V4,v,V,v5,V5,v,V,v6,V6,v,V,v7,V7,v,V,v8,V8,v,V,v9,V9,v,V,v0,V0,w,W,w1,W1,w,W,w2,W2,w,W,w3,W3,w,W,w4,W4,w,W,w5,W5,w,W,w6,W6,w,W,w7,W7,w,W,w8,W8,w,W,w9,W9,w,W,w0,W0,x,X,x1,X1,x,X,x2,X2,x,X,x3,X3,x,X,x4,X4,x,X,x5,X5,x,X,x6,X6,x,X,x7,X7,x,X,x8,X8,x,X,x9,X9,x,X,x0,X0,y,Y,y1,Y1,y,Y,y2,Y2,y,Y,y3,Y3,y,Y,y4,Y4,y,Y,y5,Y5,y,Y,y6,Y6,y,Y,y7,Y7,y,Y,y8,Y8,y,Y,y9,Y9,y,Y,y0,Y0,z,Z,z1,Z1,z,Z,z2,Z2,z,Z,z3,Z3,z,Z,z4,Z4,z,Z,z5,Z5,z,Z,z6,Z6,z,Z,z7,Z7,z,Z,z8,Z8,z,Z,z9,Z9,z,Z,z0,Z0')"
   ]
  },
  {
   "cell_type": "code",
   "execution_count": 69,
   "metadata": {},
   "outputs": [],
   "source": [
    "#Create an empty pandas data frame with A,B and Total as Columns and Civil, Mechanical, Electrical, and Total as Rows\n",
    "def createDataFrame():\n",
    "    df = pd.DataFrame(columns=['A', 'B', 'TotalSections'], index=['Civil', 'Mechanical', 'Electrical', 'TotalMajors'])\n",
    "    return df\n",
    "\n",
    "df = createDataFrame()\n",
    "df.to_csv('data.csv')\n",
    "# display(df)\n",
    "#Enter Known Values \n",
    "# df.loc['Civil', 'A'] = "
   ]
  },
  {
   "cell_type": "code",
   "execution_count": 73,
   "metadata": {},
   "outputs": [
    {
     "data": {
      "text/html": [
       "<div>\n",
       "<style scoped>\n",
       "    .dataframe tbody tr th:only-of-type {\n",
       "        vertical-align: middle;\n",
       "    }\n",
       "\n",
       "    .dataframe tbody tr th {\n",
       "        vertical-align: top;\n",
       "    }\n",
       "\n",
       "    .dataframe thead th {\n",
       "        text-align: right;\n",
       "    }\n",
       "</style>\n",
       "<table border=\"1\" class=\"dataframe\">\n",
       "  <thead>\n",
       "    <tr style=\"text-align: right;\">\n",
       "      <th></th>\n",
       "      <th>A</th>\n",
       "      <th>B</th>\n",
       "      <th>TotalSections</th>\n",
       "    </tr>\n",
       "  </thead>\n",
       "  <tbody>\n",
       "    <tr>\n",
       "      <th>Civil</th>\n",
       "      <td>18.0</td>\n",
       "      <td>22.0000000000000</td>\n",
       "      <td>40.0</td>\n",
       "    </tr>\n",
       "    <tr>\n",
       "      <th>Mechanical</th>\n",
       "      <td>16.0000000000000</td>\n",
       "      <td>44.0</td>\n",
       "      <td>60.0</td>\n",
       "    </tr>\n",
       "    <tr>\n",
       "      <th>Electrical</th>\n",
       "      <td>16.0000000000000</td>\n",
       "      <td>4.00000000000000</td>\n",
       "      <td>20.0000000000000</td>\n",
       "    </tr>\n",
       "    <tr>\n",
       "      <th>TotalMajors</th>\n",
       "      <td>50.0</td>\n",
       "      <td>70.0000000000000</td>\n",
       "      <td>120.0</td>\n",
       "    </tr>\n",
       "  </tbody>\n",
       "</table>\n",
       "</div>"
      ],
      "text/plain": [
       "                            A                 B     TotalSections\n",
       "Civil                    18.0  22.0000000000000              40.0\n",
       "Mechanical   16.0000000000000              44.0              60.0\n",
       "Electrical   16.0000000000000  4.00000000000000  20.0000000000000\n",
       "TotalMajors              50.0  70.0000000000000             120.0"
      ]
     },
     "execution_count": 73,
     "metadata": {},
     "output_type": "execute_result"
    }
   ],
   "source": [
    "#Import data from csv file as a pandas data frame\n",
    "df = pd.read_csv('data.csv', index_col=0)\n",
    "\n",
    "#Use sympy to calculate the unknown values where row and column values are the total of the row and column\n",
    "def fillTable(df):\n",
    "    unknownValues = []\n",
    "    equations = []\n",
    "\n",
    "    sums = {}\n",
    "    #Loop Through Rows\n",
    "    for row in df.index:\n",
    "        #Loop through values in row\n",
    "        for col in df.columns:\n",
    "            val = df.loc[row, col]\n",
    "\n",
    "            #If the value is null then create a symbol for it\n",
    "            if pd.isnull(val):\n",
    "                val = symbols(row + \"_\" + col)\n",
    "                df.loc[row, col] = val\n",
    "\n",
    "\n",
    "            #Search row and col for \"Total\"\n",
    "            if \"Total\" in row or  \"Total\" in col:\n",
    "                val = -val\n",
    "\n",
    "            #Add the value to both the row and column sums\n",
    "            if row not in sums:\n",
    "                sums[row] = 0\n",
    "\n",
    "            if col not in sums:\n",
    "                sums[col] = 0\n",
    "\n",
    "            if \"Total\" in row and not \"Total\" in col:\n",
    "                sums[row]+=-val\n",
    "            else: \n",
    "                sums[row]+=val\n",
    "\n",
    "            if \"Total\" in col and not \"Total\" in row:\n",
    "                sums[col]+=-val\n",
    "            else:\n",
    "                sums[col]+=val\n",
    "\n",
    "            \n",
    "\n",
    "\n",
    "\n",
    "    #Loop through the sums and create equations for each\n",
    "    for key in sums:\n",
    "        equations.append(Eq(sums[key], 0))\n",
    "\n",
    "\n",
    "    #Get Solution\n",
    "    solution = solve(equations)\n",
    "\n",
    "    #Fill in the table with the solution\n",
    "    for key in solution:\n",
    "        strKey = str(key)\n",
    "        df.loc[strKey.split(\"_\")[0], strKey.split(\"_\")[1]] = solution[key]\n",
    "\n",
    "\n",
    "\n",
    "    \n",
    "            \n",
    "            \n",
    "    #Export CSV File\n",
    "    df.to_csv('completedData.csv')\n",
    "    df.to_clipboard()\n",
    "\n",
    "\n",
    "    return df\n",
    "            \n",
    "\n",
    "fillTable(df)\n"
   ]
  },
  {
   "cell_type": "code",
   "execution_count": 31,
   "metadata": {},
   "outputs": [
    {
     "data": {
      "text/plain": [
       "{N_A_Int_Ele: 16, N_A_Int_Mech: 16}"
      ]
     },
     "execution_count": 31,
     "metadata": {},
     "output_type": "execute_result"
    }
   ],
   "source": [
    "#Question 1\n",
    "N_Sample = 118\n",
    "N_A_Int_Civil = 18\n",
    "N_A = 50\n",
    "N_B_Int_Mech = 44\n",
    "N_Civil = 40 \n",
    "N_Mech = 60\n",
    "\n",
    "\n",
    "N_Sample = 120\n",
    "N_A_Int_Civil = 18\n",
    "N_A = 50\n",
    "N_B_Int_Mech = 44\n",
    "N_Civil = 40 \n",
    "N_Mech = 60\n",
    "\n",
    "N_Ele = symbols(\"N_Ele\")\n",
    "N_A_Int_Ele = symbols('N_A_Int_Ele')\n",
    "N_A_Int_Mech = symbols('N_A_Int_Mech')\n",
    "\n",
    "\n",
    "eqs = [\n",
    "    Eq(N_Mech,N_A_Int_Mech+N_B_Int_Mech),\n",
    "    Eq(N_A_Int_Civil+N_A_Int_Mech+N_A_Int_Ele,N_A),\n",
    "    Eq(N_Ele,N_Sample),\n",
    "]\n",
    "\n",
    "solve(eqs)"
   ]
  },
  {
   "cell_type": "code",
   "execution_count": null,
   "metadata": {},
   "outputs": [],
   "source": []
  }
 ],
 "metadata": {
  "kernelspec": {
   "display_name": "Python 3.10.6 64-bit",
   "language": "python",
   "name": "python3"
  },
  "language_info": {
   "codemirror_mode": {
    "name": "ipython",
    "version": 3
   },
   "file_extension": ".py",
   "mimetype": "text/x-python",
   "name": "python",
   "nbconvert_exporter": "python",
   "pygments_lexer": "ipython3",
   "version": "3.10.6"
  },
  "orig_nbformat": 4,
  "vscode": {
   "interpreter": {
    "hash": "aee8b7b246df8f9039afb4144a1f6fd8d2ca17a180786b69acc140d282b71a49"
   }
  }
 },
 "nbformat": 4,
 "nbformat_minor": 2
}
