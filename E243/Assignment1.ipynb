{
 "cells": [
  {
   "cell_type": "code",
   "execution_count": 1,
   "metadata": {},
   "outputs": [],
   "source": [
    "import pandas as pd\n",
    "from sympy import *\n"
   ]
  },
  {
   "cell_type": "code",
   "execution_count": 8,
   "metadata": {},
   "outputs": [],
   "source": [
    "a,A,a1,A1,a,A,a2,A2,a,A,a3,A3,a,A,a4,A4,a,A,a5,A5,a,A,a6,A6,a,A,a7,A7,a,A,a8,A8,a,A,a9,A9,a,A,a0,A0,b,B,b1,B1,b,B,b2,B2,b,B,b3,B3,b,B,b4,B4,b,B,b5,B5,b,B,b6,B6,b,B,b7,B7,b,B,b8,B8,b,B,b9,B9,b,B,b0,B0,c,C,c1,C1,c,C,c2,C2,c,C,c3,C3,c,C,c4,C4,c,C,c5,C5,c,C,c6,C6,c,C,c7,C7,c,C,c8,C8,c,C,c9,C9,c,C,c0,C0,d,D,d1,D1,d,D,d2,D2,d,D,d3,D3,d,D,d4,D4,d,D,d5,D5,d,D,d6,D6,d,D,d7,D7,d,D,d8,D8,d,D,d9,D9,d,D,d0,D0,e,E,e1,E1,e,E,e2,E2,e,E,e3,E3,e,E,e4,E4,e,E,e5,E5,e,E,e6,E6,e,E,e7,E7,e,E,e8,E8,e,E,e9,E9,e,E,e0,E0,f,F,f1,F1,f,F,f2,F2,f,F,f3,F3,f,F,f4,F4,f,F,f5,F5,f,F,f6,F6,f,F,f7,F7,f,F,f8,F8,f,F,f9,F9,f,F,f0,F0,g,G,g1,G1,g,G,g2,G2,g,G,g3,G3,g,G,g4,G4,g,G,g5,G5,g,G,g6,G6,g,G,g7,G7,g,G,g8,G8,g,G,g9,G9,g,G,g0,G0,h,H,h1,H1,h,H,h2,H2,h,H,h3,H3,h,H,h4,H4,h,H,h5,H5,h,H,h6,H6,h,H,h7,H7,h,H,h8,H8,h,H,h9,H9,h,H,h0,H0,i,I,i1,I1,i,I,i2,I2,i,I,i3,I3,i,I,i4,I4,i,I,i5,I5,i,I,i6,I6,i,I,i7,I7,i,I,i8,I8,i,I,i9,I9,i,I,i0,I0,j,J,j1,J1,j,J,j2,J2,j,J,j3,J3,j,J,j4,J4,j,J,j5,J5,j,J,j6,J6,j,J,j7,J7,j,J,j8,J8,j,J,j9,J9,j,J,j0,J0,k,K,k1,K1,k,K,k2,K2,k,K,k3,K3,k,K,k4,K4,k,K,k5,K5,k,K,k6,K6,k,K,k7,K7,k,K,k8,K8,k,K,k9,K9,k,K,k0,K0,l,L,l1,L1,l,L,l2,L2,l,L,l3,L3,l,L,l4,L4,l,L,l5,L5,l,L,l6,L6,l,L,l7,L7,l,L,l8,L8,l,L,l9,L9,l,L,l0,L0,m,M,m1,M1,m,M,m2,M2,m,M,m3,M3,m,M,m4,M4,m,M,m5,M5,m,M,m6,M6,m,M,m7,M7,m,M,m8,M8,m,M,m9,M9,m,M,m0,M0,n,N,n1,N1,n,N,n2,N2,n,N,n3,N3,n,N,n4,N4,n,N,n5,N5,n,N,n6,N6,n,N,n7,N7,n,N,n8,N8,n,N,n9,N9,n,N,n0,N0,o,O,o1,O1,o,O,o2,O2,o,O,o3,O3,o,O,o4,O4,o,O,o5,O5,o,O,o6,O6,o,O,o7,O7,o,O,o8,O8,o,O,o9,O9,o,O,o0,O0,p,P,p1,P1,p,P,p2,P2,p,P,p3,P3,p,P,p4,P4,p,P,p5,P5,p,P,p6,P6,p,P,p7,P7,p,P,p8,P8,p,P,p9,P9,p,P,p0,P0,q,Q,q1,Q1,q,Q,q2,Q2,q,Q,q3,Q3,q,Q,q4,Q4,q,Q,q5,Q5,q,Q,q6,Q6,q,Q,q7,Q7,q,Q,q8,Q8,q,Q,q9,Q9,q,Q,q0,Q0,r,R,r1,R1,r,R,r2,R2,r,R,r3,R3,r,R,r4,R4,r,R,r5,R5,r,R,r6,R6,r,R,r7,R7,r,R,r8,R8,r,R,r9,R9,r,R,r0,R0,s,S,s1,S1,s,S,s2,S2,s,S,s3,S3,s,S,s4,S4,s,S,s5,S5,s,S,s6,S6,s,S,s7,S7,s,S,s8,S8,s,S,s9,S9,s,S,s0,S0,t,T,t1,T1,t,T,t2,T2,t,T,t3,T3,t,T,t4,T4,t,T,t5,T5,t,T,t6,T6,t,T,t7,T7,t,T,t8,T8,t,T,t9,T9,t,T,t0,T0,u,U,u1,U1,u,U,u2,U2,u,U,u3,U3,u,U,u4,U4,u,U,u5,U5,u,U,u6,U6,u,U,u7,U7,u,U,u8,U8,u,U,u9,U9,u,U,u0,U0,v,V,v1,V1,v,V,v2,V2,v,V,v3,V3,v,V,v4,V4,v,V,v5,V5,v,V,v6,V6,v,V,v7,V7,v,V,v8,V8,v,V,v9,V9,v,V,v0,V0,w,W,w1,W1,w,W,w2,W2,w,W,w3,W3,w,W,w4,W4,w,W,w5,W5,w,W,w6,W6,w,W,w7,W7,w,W,w8,W8,w,W,w9,W9,w,W,w0,W0,x,X,x1,X1,x,X,x2,X2,x,X,x3,X3,x,X,x4,X4,x,X,x5,X5,x,X,x6,X6,x,X,x7,X7,x,X,x8,X8,x,X,x9,X9,x,X,x0,X0,y,Y,y1,Y1,y,Y,y2,Y2,y,Y,y3,Y3,y,Y,y4,Y4,y,Y,y5,Y5,y,Y,y6,Y6,y,Y,y7,Y7,y,Y,y8,Y8,y,Y,y9,Y9,y,Y,y0,Y0,z,Z,z1,Z1,z,Z,z2,Z2,z,Z,z3,Z3,z,Z,z4,Z4,z,Z,z5,Z5,z,Z,z6,Z6,z,Z,z7,Z7,z,Z,z8,Z8,z,Z,z9,Z9,z,Z,z0,Z0=symbols('a,A,a1,A1,a,A,a2,A2,a,A,a3,A3,a,A,a4,A4,a,A,a5,A5,a,A,a6,A6,a,A,a7,A7,a,A,a8,A8,a,A,a9,A9,a,A,a0,A0,b,B,b1,B1,b,B,b2,B2,b,B,b3,B3,b,B,b4,B4,b,B,b5,B5,b,B,b6,B6,b,B,b7,B7,b,B,b8,B8,b,B,b9,B9,b,B,b0,B0,c,C,c1,C1,c,C,c2,C2,c,C,c3,C3,c,C,c4,C4,c,C,c5,C5,c,C,c6,C6,c,C,c7,C7,c,C,c8,C8,c,C,c9,C9,c,C,c0,C0,d,D,d1,D1,d,D,d2,D2,d,D,d3,D3,d,D,d4,D4,d,D,d5,D5,d,D,d6,D6,d,D,d7,D7,d,D,d8,D8,d,D,d9,D9,d,D,d0,D0,e,E,e1,E1,e,E,e2,E2,e,E,e3,E3,e,E,e4,E4,e,E,e5,E5,e,E,e6,E6,e,E,e7,E7,e,E,e8,E8,e,E,e9,E9,e,E,e0,E0,f,F,f1,F1,f,F,f2,F2,f,F,f3,F3,f,F,f4,F4,f,F,f5,F5,f,F,f6,F6,f,F,f7,F7,f,F,f8,F8,f,F,f9,F9,f,F,f0,F0,g,G,g1,G1,g,G,g2,G2,g,G,g3,G3,g,G,g4,G4,g,G,g5,G5,g,G,g6,G6,g,G,g7,G7,g,G,g8,G8,g,G,g9,G9,g,G,g0,G0,h,H,h1,H1,h,H,h2,H2,h,H,h3,H3,h,H,h4,H4,h,H,h5,H5,h,H,h6,H6,h,H,h7,H7,h,H,h8,H8,h,H,h9,H9,h,H,h0,H0,i,I,i1,I1,i,I,i2,I2,i,I,i3,I3,i,I,i4,I4,i,I,i5,I5,i,I,i6,I6,i,I,i7,I7,i,I,i8,I8,i,I,i9,I9,i,I,i0,I0,j,J,j1,J1,j,J,j2,J2,j,J,j3,J3,j,J,j4,J4,j,J,j5,J5,j,J,j6,J6,j,J,j7,J7,j,J,j8,J8,j,J,j9,J9,j,J,j0,J0,k,K,k1,K1,k,K,k2,K2,k,K,k3,K3,k,K,k4,K4,k,K,k5,K5,k,K,k6,K6,k,K,k7,K7,k,K,k8,K8,k,K,k9,K9,k,K,k0,K0,l,L,l1,L1,l,L,l2,L2,l,L,l3,L3,l,L,l4,L4,l,L,l5,L5,l,L,l6,L6,l,L,l7,L7,l,L,l8,L8,l,L,l9,L9,l,L,l0,L0,m,M,m1,M1,m,M,m2,M2,m,M,m3,M3,m,M,m4,M4,m,M,m5,M5,m,M,m6,M6,m,M,m7,M7,m,M,m8,M8,m,M,m9,M9,m,M,m0,M0,n,N,n1,N1,n,N,n2,N2,n,N,n3,N3,n,N,n4,N4,n,N,n5,N5,n,N,n6,N6,n,N,n7,N7,n,N,n8,N8,n,N,n9,N9,n,N,n0,N0,o,O,o1,O1,o,O,o2,O2,o,O,o3,O3,o,O,o4,O4,o,O,o5,O5,o,O,o6,O6,o,O,o7,O7,o,O,o8,O8,o,O,o9,O9,o,O,o0,O0,p,P,p1,P1,p,P,p2,P2,p,P,p3,P3,p,P,p4,P4,p,P,p5,P5,p,P,p6,P6,p,P,p7,P7,p,P,p8,P8,p,P,p9,P9,p,P,p0,P0,q,Q,q1,Q1,q,Q,q2,Q2,q,Q,q3,Q3,q,Q,q4,Q4,q,Q,q5,Q5,q,Q,q6,Q6,q,Q,q7,Q7,q,Q,q8,Q8,q,Q,q9,Q9,q,Q,q0,Q0,r,R,r1,R1,r,R,r2,R2,r,R,r3,R3,r,R,r4,R4,r,R,r5,R5,r,R,r6,R6,r,R,r7,R7,r,R,r8,R8,r,R,r9,R9,r,R,r0,R0,s,S,s1,S1,s,S,s2,S2,s,S,s3,S3,s,S,s4,S4,s,S,s5,S5,s,S,s6,S6,s,S,s7,S7,s,S,s8,S8,s,S,s9,S9,s,S,s0,S0,t,T,t1,T1,t,T,t2,T2,t,T,t3,T3,t,T,t4,T4,t,T,t5,T5,t,T,t6,T6,t,T,t7,T7,t,T,t8,T8,t,T,t9,T9,t,T,t0,T0,u,U,u1,U1,u,U,u2,U2,u,U,u3,U3,u,U,u4,U4,u,U,u5,U5,u,U,u6,U6,u,U,u7,U7,u,U,u8,U8,u,U,u9,U9,u,U,u0,U0,v,V,v1,V1,v,V,v2,V2,v,V,v3,V3,v,V,v4,V4,v,V,v5,V5,v,V,v6,V6,v,V,v7,V7,v,V,v8,V8,v,V,v9,V9,v,V,v0,V0,w,W,w1,W1,w,W,w2,W2,w,W,w3,W3,w,W,w4,W4,w,W,w5,W5,w,W,w6,W6,w,W,w7,W7,w,W,w8,W8,w,W,w9,W9,w,W,w0,W0,x,X,x1,X1,x,X,x2,X2,x,X,x3,X3,x,X,x4,X4,x,X,x5,X5,x,X,x6,X6,x,X,x7,X7,x,X,x8,X8,x,X,x9,X9,x,X,x0,X0,y,Y,y1,Y1,y,Y,y2,Y2,y,Y,y3,Y3,y,Y,y4,Y4,y,Y,y5,Y5,y,Y,y6,Y6,y,Y,y7,Y7,y,Y,y8,Y8,y,Y,y9,Y9,y,Y,y0,Y0,z,Z,z1,Z1,z,Z,z2,Z2,z,Z,z3,Z3,z,Z,z4,Z4,z,Z,z5,Z5,z,Z,z6,Z6,z,Z,z7,Z7,z,Z,z8,Z8,z,Z,z9,Z9,z,Z,z0,Z0')"
   ]
  },
  {
   "cell_type": "code",
   "execution_count": 9,
   "metadata": {},
   "outputs": [],
   "source": [
    "#Create an empty pandas data frame with A,B and Total as Columns and Civil, Mechanical, Electrical, and Total as Rows\n",
    "def createDataFrame():\n",
    "    df = pd.DataFrame(columns=['A', 'B', 'TotalSections'], index=['Civil', 'Mechanical', 'Electrical', 'TotalMajors'])\n",
    "    return df\n",
    "\n",
    "df = createDataFrame()\n",
    "df.to_csv('data.csv')\n",
    "# display(df)\n",
    "#Enter Known Values \n",
    "# df.loc['Civil', 'A'] = "
   ]
  },
  {
   "cell_type": "code",
   "execution_count": 1,
   "metadata": {},
   "outputs": [
    {
     "ename": "NameError",
     "evalue": "name 'pd' is not defined",
     "output_type": "error",
     "traceback": [
      "\u001b[0;31m---------------------------------------------------------------------------\u001b[0m",
      "\u001b[0;31mNameError\u001b[0m                                 Traceback (most recent call last)",
      "Cell \u001b[0;32mIn [1], line 2\u001b[0m\n\u001b[1;32m      1\u001b[0m \u001b[38;5;66;03m#Import data from csv file as a pandas data frame\u001b[39;00m\n\u001b[0;32m----> 2\u001b[0m df \u001b[38;5;241m=\u001b[39m \u001b[43mpd\u001b[49m\u001b[38;5;241m.\u001b[39mread_csv(\u001b[38;5;124m'\u001b[39m\u001b[38;5;124mdata.csv\u001b[39m\u001b[38;5;124m'\u001b[39m, index_col\u001b[38;5;241m=\u001b[39m\u001b[38;5;241m0\u001b[39m)\n\u001b[1;32m      4\u001b[0m \u001b[38;5;66;03m#Use sympy to calculate the unknown values where row and column values are the total of the row and column\u001b[39;00m\n\u001b[1;32m      5\u001b[0m \u001b[38;5;28;01mdef\u001b[39;00m \u001b[38;5;21mfillTable\u001b[39m(df):\n",
      "\u001b[0;31mNameError\u001b[0m: name 'pd' is not defined"
     ]
    }
   ],
   "source": [
    "#Import data from csv file as a pandas data frame\n",
    "df = pd.read_csv('data.csv', index_col=0)\n",
    "\n",
    "#Use sympy to calculate the unknown values where row and column values are the total of the row and column\n",
    "def fillTable(df):\n",
    "    unknownValues = []\n",
    "    equations = []\n",
    "\n",
    "    sums = {}\n",
    "    #Loop Through Rows\n",
    "    for row in df.index:\n",
    "        #Loop through values in row\n",
    "        for col in df.columns:\n",
    "            val = df.loc[row, col]\n",
    "\n",
    "            #If the value is null then create a symbol for it\n",
    "            if pd.isnull(val):\n",
    "                val = symbols(row + \"_\" + col)\n",
    "                df.loc[row, col] = val\n",
    "\n",
    "\n",
    "            #Search row and col for \"Total\"\n",
    "            if \"Total\" in row or  \"Total\" in col:\n",
    "                val = -val\n",
    "\n",
    "            #Add the value to both the row and column sums\n",
    "            if row not in sums:\n",
    "                sums[row] = 0\n",
    "\n",
    "            if col not in sums:\n",
    "                sums[col] = 0\n",
    "\n",
    "            if \"Total\" in row and not \"Total\" in col:\n",
    "                sums[row]+=-val\n",
    "            else: \n",
    "                sums[row]+=val\n",
    "\n",
    "            if \"Total\" in col and not \"Total\" in row:\n",
    "                sums[col]+=-val\n",
    "            else:\n",
    "                sums[col]+=val\n",
    "\n",
    "            \n",
    "\n",
    "\n",
    "\n",
    "    #Loop through the sums and create equations for each\n",
    "    for key in sums:\n",
    "        equations.append(Eq(sums[key], 0))\n",
    "\n",
    "\n",
    "    #Get Solution\n",
    "    solution = solve(equations)\n",
    "\n",
    "    #Fill in the table with the solution\n",
    "    for key in solution:\n",
    "        strKey = str(key)\n",
    "        df.loc[strKey.split(\"_\")[0], strKey.split(\"_\")[1]] = solution[key]\n",
    "\n",
    "\n",
    "\n",
    "    \n",
    "            \n",
    "            \n",
    "    #Export CSV File\n",
    "    df.to_csv('completedData.csv')\n",
    "    df.to_clipboard()\n",
    "\n",
    "\n",
    "    return df\n",
    "            \n",
    "\n",
    "fillTable(df)\n"
   ]
  },
  {
   "cell_type": "code",
   "execution_count": 31,
   "metadata": {},
   "outputs": [
    {
     "data": {
      "text/plain": [
       "{N_A_Int_Ele: 16, N_A_Int_Mech: 16}"
      ]
     },
     "execution_count": 31,
     "metadata": {},
     "output_type": "execute_result"
    }
   ],
   "source": [
    "#Question 1\n",
    "N_Sample = 118\n",
    "N_A_Int_Civil = 18\n",
    "N_A = 50\n",
    "N_B_Int_Mech = 44\n",
    "N_Civil = 40 \n",
    "N_Mech = 60\n",
    "\n",
    "\n",
    "N_Sample = 120\n",
    "N_A_Int_Civil = 18\n",
    "N_A = 50\n",
    "N_B_Int_Mech = 44\n",
    "N_Civil = 40 \n",
    "N_Mech = 60\n",
    "\n",
    "N_Ele = symbols(\"N_Ele\")\n",
    "N_A_Int_Ele = symbols('N_A_Int_Ele')\n",
    "N_A_Int_Mech = symbols('N_A_Int_Mech')\n",
    "\n",
    "\n",
    "eqs = [\n",
    "    Eq(N_Mech,N_A_Int_Mech+N_B_Int_Mech),\n",
    "    Eq(N_A_Int_Civil+N_A_Int_Mech+N_A_Int_Ele,N_A),\n",
    "    Eq(N_Ele,N_Sample),\n",
    "]\n",
    "\n",
    "solve(eqs)"
   ]
  },
  {
   "cell_type": "code",
   "execution_count": 78,
   "metadata": {},
   "outputs": [
    {
     "data": {
      "text/plain": [
       "{P_A_Given_B: 0.800000000000000}"
      ]
     },
     "execution_count": 78,
     "metadata": {},
     "output_type": "execute_result"
    }
   ],
   "source": [
    "#Question 16\n",
    "P_A_Given_B, P_B_Given_A, P_A, P_B = symbols(\"P_A_Given_B, P_B_Given_A, P_A, P_B\")\n",
    "\n",
    "P_B_Given_A = 1\n",
    "P_A = .4\n",
    "P_B = .5\n",
    "\n",
    "\n",
    "BayesRule = Eq(P_A_Given_B, P_A*P_B_Given_A/P_B)\n",
    "solve([BayesRule])\n"
   ]
  },
  {
   "cell_type": "code",
   "execution_count": 81,
   "metadata": {},
   "outputs": [],
   "source": [
    "pi = 3.14\n",
    "\n",
    "#Create unknown symbols\n",
    "E, E_f, k, T, m_n, E_c = symbols(\"E, E_f, k, T, m_n, E_c\")\n",
    "\n",
    "f_f = 1+exp((E-E_f)/(k*T))\n",
    "g_c = 4*pi*(2*m_n)**(3/2)*sqrt(E/E_c)*exp(-E/(2*k*T))\n",
    "\n",
    "T = 300\n",
    "\n",
    "eqs = [\n",
    "    Eq(integrate(g_c*f_f, E),N),\n",
    "    Eq(E,E_c+k*T/2),\n",
    "    Eq(E_c-E,.25)\n",
    "]"
   ]
  },
  {
   "cell_type": "code",
   "execution_count": 82,
   "metadata": {},
   "outputs": [
    {
     "ename": "KeyboardInterrupt",
     "evalue": "",
     "output_type": "error",
     "traceback": [
      "\u001b[0;31m---------------------------------------------------------------------------\u001b[0m",
      "\u001b[0;31mKeyboardInterrupt\u001b[0m                         Traceback (most recent call last)",
      "Cell \u001b[0;32mIn [82], line 1\u001b[0m\n\u001b[0;32m----> 1\u001b[0m \u001b[43msolve\u001b[49m\u001b[43m(\u001b[49m\u001b[43meqs\u001b[49m\u001b[43m)\u001b[49m\n",
      "File \u001b[0;32m/Library/Frameworks/Python.framework/Versions/3.10/lib/python3.10/site-packages/sympy/solvers/solvers.py:1114\u001b[0m, in \u001b[0;36msolve\u001b[0;34m(f, *symbols, **flags)\u001b[0m\n\u001b[1;32m   1112\u001b[0m     solution \u001b[39m=\u001b[39m _solve(f[\u001b[39m0\u001b[39m], \u001b[39m*\u001b[39msymbols, \u001b[39m*\u001b[39m\u001b[39m*\u001b[39mflags)\n\u001b[1;32m   1113\u001b[0m \u001b[39melse\u001b[39;00m:\n\u001b[0;32m-> 1114\u001b[0m     solution \u001b[39m=\u001b[39m _solve_system(f, symbols, \u001b[39m*\u001b[39;49m\u001b[39m*\u001b[39;49mflags)\n\u001b[1;32m   1116\u001b[0m \u001b[39m#\u001b[39;00m\n\u001b[1;32m   1117\u001b[0m \u001b[39m# postprocessing\u001b[39;00m\n\u001b[1;32m   1118\u001b[0m \u001b[39m###########################################################################\u001b[39;00m\n\u001b[1;32m   1119\u001b[0m \u001b[39m# Restore masked-off objects\u001b[39;00m\n\u001b[1;32m   1120\u001b[0m \u001b[39mif\u001b[39;00m non_inverts:\n",
      "File \u001b[0;32m/Library/Frameworks/Python.framework/Versions/3.10/lib/python3.10/site-packages/sympy/solvers/solvers.py:1967\u001b[0m, in \u001b[0;36m_solve_system\u001b[0;34m(exprs, symbols, **flags)\u001b[0m\n\u001b[1;32m   1965\u001b[0m \u001b[39mfor\u001b[39;00m s \u001b[39min\u001b[39;00m ok_syms:\n\u001b[1;32m   1966\u001b[0m     \u001b[39mtry\u001b[39;00m:\n\u001b[0;32m-> 1967\u001b[0m         soln \u001b[39m=\u001b[39m _solve(eq2, s, \u001b[39m*\u001b[39;49m\u001b[39m*\u001b[39;49mflags)\n\u001b[1;32m   1968\u001b[0m     \u001b[39mexcept\u001b[39;00m \u001b[39mNotImplementedError\u001b[39;00m:\n\u001b[1;32m   1969\u001b[0m         \u001b[39mcontinue\u001b[39;00m\n",
      "File \u001b[0;32m/Library/Frameworks/Python.framework/Versions/3.10/lib/python3.10/site-packages/sympy/solvers/solvers.py:1736\u001b[0m, in \u001b[0;36m_solve\u001b[0;34m(f, *symbols, **flags)\u001b[0m\n\u001b[1;32m   1734\u001b[0m flags\u001b[39m.\u001b[39mpop(\u001b[39m'\u001b[39m\u001b[39mtsolve\u001b[39m\u001b[39m'\u001b[39m, \u001b[39mNone\u001b[39;00m)  \u001b[39m# allow tsolve to be used on next pass\u001b[39;00m\n\u001b[1;32m   1735\u001b[0m \u001b[39mtry\u001b[39;00m:\n\u001b[0;32m-> 1736\u001b[0m     soln \u001b[39m=\u001b[39m _tsolve(f_num, symbol, \u001b[39m*\u001b[39;49m\u001b[39m*\u001b[39;49mflags)\n\u001b[1;32m   1737\u001b[0m     \u001b[39mif\u001b[39;00m soln \u001b[39mis\u001b[39;00m \u001b[39mnot\u001b[39;00m \u001b[39mNone\u001b[39;00m:\n\u001b[1;32m   1738\u001b[0m         result \u001b[39m=\u001b[39m soln\n",
      "File \u001b[0;32m/Library/Frameworks/Python.framework/Versions/3.10/lib/python3.10/site-packages/sympy/solvers/solvers.py:2585\u001b[0m, in \u001b[0;36m_tsolve\u001b[0;34m(eq, sym, **flags)\u001b[0m\n\u001b[1;32m   2581\u001b[0m \u001b[39mtry\u001b[39;00m:\n\u001b[1;32m   2582\u001b[0m     \u001b[39mif\u001b[39;00m lhs\u001b[39m.\u001b[39mis_Add:\n\u001b[1;32m   2583\u001b[0m         \u001b[39m# it's time to try factoring; powdenest is used\u001b[39;00m\n\u001b[1;32m   2584\u001b[0m         \u001b[39m# to try get powers in standard form for better factoring\u001b[39;00m\n\u001b[0;32m-> 2585\u001b[0m         f \u001b[39m=\u001b[39m factor(powdenest(lhs \u001b[39m-\u001b[39;49m rhs))\n\u001b[1;32m   2586\u001b[0m         \u001b[39mif\u001b[39;00m f\u001b[39m.\u001b[39mis_Mul:\n\u001b[1;32m   2587\u001b[0m             \u001b[39mreturn\u001b[39;00m _solve(f, sym, \u001b[39m*\u001b[39m\u001b[39m*\u001b[39mflags)\n",
      "File \u001b[0;32m/Library/Frameworks/Python.framework/Versions/3.10/lib/python3.10/site-packages/sympy/polys/polytools.py:6449\u001b[0m, in \u001b[0;36mfactor\u001b[0;34m(f, deep, *gens, **args)\u001b[0m\n\u001b[1;32m   6446\u001b[0m     \u001b[39mreturn\u001b[39;00m f\u001b[39m.\u001b[39mxreplace(partials)\n\u001b[1;32m   6448\u001b[0m \u001b[39mtry\u001b[39;00m:\n\u001b[0;32m-> 6449\u001b[0m     \u001b[39mreturn\u001b[39;00m _generic_factor(f, gens, args, method\u001b[39m=\u001b[39;49m\u001b[39m'\u001b[39;49m\u001b[39mfactor\u001b[39;49m\u001b[39m'\u001b[39;49m)\n\u001b[1;32m   6450\u001b[0m \u001b[39mexcept\u001b[39;00m PolynomialError \u001b[39mas\u001b[39;00m msg:\n\u001b[1;32m   6451\u001b[0m     \u001b[39mif\u001b[39;00m \u001b[39mnot\u001b[39;00m f\u001b[39m.\u001b[39mis_commutative:\n",
      "File \u001b[0;32m/Library/Frameworks/Python.framework/Versions/3.10/lib/python3.10/site-packages/sympy/polys/polytools.py:6130\u001b[0m, in \u001b[0;36m_generic_factor\u001b[0;34m(expr, gens, args, method)\u001b[0m\n\u001b[1;32m   6128\u001b[0m opt \u001b[39m=\u001b[39m options\u001b[39m.\u001b[39mbuild_options(gens, args)\n\u001b[1;32m   6129\u001b[0m opt[\u001b[39m'\u001b[39m\u001b[39mfraction\u001b[39m\u001b[39m'\u001b[39m] \u001b[39m=\u001b[39m fraction\n\u001b[0;32m-> 6130\u001b[0m \u001b[39mreturn\u001b[39;00m _symbolic_factor(sympify(expr), opt, method)\n",
      "File \u001b[0;32m/Library/Frameworks/Python.framework/Versions/3.10/lib/python3.10/site-packages/sympy/polys/polytools.py:6070\u001b[0m, in \u001b[0;36m_symbolic_factor\u001b[0;34m(expr, opt, method)\u001b[0m\n\u001b[1;32m   6068\u001b[0m     \u001b[39mif\u001b[39;00m \u001b[39mhasattr\u001b[39m(expr,\u001b[39m'\u001b[39m\u001b[39m_eval_factor\u001b[39m\u001b[39m'\u001b[39m):\n\u001b[1;32m   6069\u001b[0m         \u001b[39mreturn\u001b[39;00m expr\u001b[39m.\u001b[39m_eval_factor()\n\u001b[0;32m-> 6070\u001b[0m     coeff, factors \u001b[39m=\u001b[39m _symbolic_factor_list(together(expr, fraction\u001b[39m=\u001b[39;49mopt[\u001b[39m'\u001b[39;49m\u001b[39mfraction\u001b[39;49m\u001b[39m'\u001b[39;49m]), opt, method)\n\u001b[1;32m   6071\u001b[0m     \u001b[39mreturn\u001b[39;00m _keep_coeff(coeff, _factors_product(factors))\n\u001b[1;32m   6072\u001b[0m \u001b[39melif\u001b[39;00m \u001b[39mhasattr\u001b[39m(expr, \u001b[39m'\u001b[39m\u001b[39margs\u001b[39m\u001b[39m'\u001b[39m):\n",
      "File \u001b[0;32m/Library/Frameworks/Python.framework/Versions/3.10/lib/python3.10/site-packages/sympy/polys/polytools.py:6035\u001b[0m, in \u001b[0;36m_symbolic_factor_list\u001b[0;34m(expr, opt, method)\u001b[0m\n\u001b[1;32m   6032\u001b[0m \u001b[39melse\u001b[39;00m:\n\u001b[1;32m   6033\u001b[0m     func \u001b[39m=\u001b[39m \u001b[39mgetattr\u001b[39m(poly, method \u001b[39m+\u001b[39m \u001b[39m'\u001b[39m\u001b[39m_list\u001b[39m\u001b[39m'\u001b[39m)\n\u001b[0;32m-> 6035\u001b[0m     _coeff, _factors \u001b[39m=\u001b[39m func()\n\u001b[1;32m   6036\u001b[0m     \u001b[39mif\u001b[39;00m _coeff \u001b[39mis\u001b[39;00m \u001b[39mnot\u001b[39;00m S\u001b[39m.\u001b[39mOne:\n\u001b[1;32m   6037\u001b[0m         \u001b[39mif\u001b[39;00m exp\u001b[39m.\u001b[39mis_Integer:\n",
      "File \u001b[0;32m/Library/Frameworks/Python.framework/Versions/3.10/lib/python3.10/site-packages/sympy/polys/polytools.py:3350\u001b[0m, in \u001b[0;36mPoly.factor_list\u001b[0;34m(f)\u001b[0m\n\u001b[1;32m   3348\u001b[0m \u001b[39mif\u001b[39;00m \u001b[39mhasattr\u001b[39m(f\u001b[39m.\u001b[39mrep, \u001b[39m'\u001b[39m\u001b[39mfactor_list\u001b[39m\u001b[39m'\u001b[39m):\n\u001b[1;32m   3349\u001b[0m     \u001b[39mtry\u001b[39;00m:\n\u001b[0;32m-> 3350\u001b[0m         coeff, factors \u001b[39m=\u001b[39m f\u001b[39m.\u001b[39;49mrep\u001b[39m.\u001b[39;49mfactor_list()\n\u001b[1;32m   3351\u001b[0m     \u001b[39mexcept\u001b[39;00m DomainError:\n\u001b[1;32m   3352\u001b[0m         \u001b[39mreturn\u001b[39;00m S\u001b[39m.\u001b[39mOne, [(f, \u001b[39m1\u001b[39m)]\n",
      "File \u001b[0;32m/Library/Frameworks/Python.framework/Versions/3.10/lib/python3.10/site-packages/sympy/polys/polyclasses.py:823\u001b[0m, in \u001b[0;36mDMP.factor_list\u001b[0;34m(f)\u001b[0m\n\u001b[1;32m    821\u001b[0m \u001b[39mdef\u001b[39;00m \u001b[39mfactor_list\u001b[39m(f):\n\u001b[1;32m    822\u001b[0m     \u001b[39m\"\"\"Returns a list of irreducible factors of ``f``. \"\"\"\u001b[39;00m\n\u001b[0;32m--> 823\u001b[0m     coeff, factors \u001b[39m=\u001b[39m dmp_factor_list(f\u001b[39m.\u001b[39;49mrep, f\u001b[39m.\u001b[39;49mlev, f\u001b[39m.\u001b[39;49mdom)\n\u001b[1;32m    824\u001b[0m     \u001b[39mreturn\u001b[39;00m coeff, [ (f\u001b[39m.\u001b[39mper(g), k) \u001b[39mfor\u001b[39;00m g, k \u001b[39min\u001b[39;00m factors ]\n",
      "File \u001b[0;32m/Library/Frameworks/Python.framework/Versions/3.10/lib/python3.10/site-packages/sympy/polys/factortools.py:1403\u001b[0m, in \u001b[0;36mdmp_factor_list\u001b[0;34m(f, u, K0)\u001b[0m\n\u001b[1;32m   1401\u001b[0m     coeff, factors \u001b[39m=\u001b[39m dmp_ext_factor(f, u, K0)\n\u001b[1;32m   1402\u001b[0m \u001b[39melif\u001b[39;00m K0\u001b[39m.\u001b[39mis_GaussianRing:\n\u001b[0;32m-> 1403\u001b[0m     coeff, factors \u001b[39m=\u001b[39m dmp_zz_i_factor(f, u, K0)\n\u001b[1;32m   1404\u001b[0m \u001b[39melif\u001b[39;00m K0\u001b[39m.\u001b[39mis_GaussianField:\n\u001b[1;32m   1405\u001b[0m     coeff, factors \u001b[39m=\u001b[39m dmp_qq_i_factor(f, u, K0)\n",
      "File \u001b[0;32m/Library/Frameworks/Python.framework/Versions/3.10/lib/python3.10/site-packages/sympy/polys/factortools.py:1218\u001b[0m, in \u001b[0;36mdmp_zz_i_factor\u001b[0;34m(f, u, K0)\u001b[0m\n\u001b[1;32m   1216\u001b[0m K1 \u001b[39m=\u001b[39m K0\u001b[39m.\u001b[39mget_field()\n\u001b[1;32m   1217\u001b[0m f \u001b[39m=\u001b[39m dmp_convert(f, u, K0, K1)\n\u001b[0;32m-> 1218\u001b[0m coeff, factors \u001b[39m=\u001b[39m dmp_qq_i_factor(f, u, K1)\n\u001b[1;32m   1220\u001b[0m new_factors \u001b[39m=\u001b[39m []\n\u001b[1;32m   1221\u001b[0m \u001b[39mfor\u001b[39;00m fac, i \u001b[39min\u001b[39;00m factors:\n\u001b[1;32m   1222\u001b[0m     \u001b[39m# Extract content\u001b[39;00m\n",
      "File \u001b[0;32m/Library/Frameworks/Python.framework/Versions/3.10/lib/python3.10/site-packages/sympy/polys/factortools.py:1207\u001b[0m, in \u001b[0;36mdmp_qq_i_factor\u001b[0;34m(f, u, K0)\u001b[0m\n\u001b[1;32m   1205\u001b[0m K1 \u001b[39m=\u001b[39m K0\u001b[39m.\u001b[39mas_AlgebraicField()\n\u001b[1;32m   1206\u001b[0m f \u001b[39m=\u001b[39m dmp_convert(f, u, K0, K1)\n\u001b[0;32m-> 1207\u001b[0m coeff, factors \u001b[39m=\u001b[39m dmp_factor_list(f, u, K1)\n\u001b[1;32m   1208\u001b[0m factors \u001b[39m=\u001b[39m [(dmp_convert(fac, u, K1, K0), i) \u001b[39mfor\u001b[39;00m fac, i \u001b[39min\u001b[39;00m factors]\n\u001b[1;32m   1209\u001b[0m coeff \u001b[39m=\u001b[39m K0\u001b[39m.\u001b[39mconvert(coeff, K1)\n",
      "File \u001b[0;32m/Library/Frameworks/Python.framework/Versions/3.10/lib/python3.10/site-packages/sympy/polys/factortools.py:1401\u001b[0m, in \u001b[0;36mdmp_factor_list\u001b[0;34m(f, u, K0)\u001b[0m\n\u001b[1;32m   1399\u001b[0m     coeff, factors \u001b[39m=\u001b[39m dmp_gf_factor(f, u, K0)\n\u001b[1;32m   1400\u001b[0m \u001b[39melif\u001b[39;00m K0\u001b[39m.\u001b[39mis_Algebraic:\n\u001b[0;32m-> 1401\u001b[0m     coeff, factors \u001b[39m=\u001b[39m dmp_ext_factor(f, u, K0)\n\u001b[1;32m   1402\u001b[0m \u001b[39melif\u001b[39;00m K0\u001b[39m.\u001b[39mis_GaussianRing:\n\u001b[1;32m   1403\u001b[0m     coeff, factors \u001b[39m=\u001b[39m dmp_zz_i_factor(f, u, K0)\n",
      "File \u001b[0;32m/Library/Frameworks/Python.framework/Versions/3.10/lib/python3.10/site-packages/sympy/polys/factortools.py:1278\u001b[0m, in \u001b[0;36mdmp_ext_factor\u001b[0;34m(f, u, K)\u001b[0m\n\u001b[1;32m   1275\u001b[0m     \u001b[39mreturn\u001b[39;00m lc, []\n\u001b[1;32m   1277\u001b[0m f, F \u001b[39m=\u001b[39m dmp_sqf_part(f, u, K), f\n\u001b[0;32m-> 1278\u001b[0m s, g, r \u001b[39m=\u001b[39m dmp_sqf_norm(f, u, K)\n\u001b[1;32m   1280\u001b[0m factors \u001b[39m=\u001b[39m dmp_factor_list_include(r, u, K\u001b[39m.\u001b[39mdom)\n\u001b[1;32m   1282\u001b[0m \u001b[39mif\u001b[39;00m \u001b[39mlen\u001b[39m(factors) \u001b[39m==\u001b[39m \u001b[39m1\u001b[39m:\n",
      "File \u001b[0;32m/Library/Frameworks/Python.framework/Versions/3.10/lib/python3.10/site-packages/sympy/polys/sqfreetools.py:161\u001b[0m, in \u001b[0;36mdmp_sqf_norm\u001b[0;34m(f, u, K)\u001b[0m\n\u001b[1;32m    159\u001b[0m \u001b[39mwhile\u001b[39;00m \u001b[39mTrue\u001b[39;00m:\n\u001b[1;32m    160\u001b[0m     h, _ \u001b[39m=\u001b[39m dmp_inject(f, u, K, front\u001b[39m=\u001b[39m\u001b[39mTrue\u001b[39;00m)\n\u001b[0;32m--> 161\u001b[0m     r \u001b[39m=\u001b[39m dmp_resultant(g, h, u \u001b[39m+\u001b[39;49m \u001b[39m1\u001b[39;49m, K\u001b[39m.\u001b[39;49mdom)\n\u001b[1;32m    163\u001b[0m     \u001b[39mif\u001b[39;00m dmp_sqf_p(r, u, K\u001b[39m.\u001b[39mdom):\n\u001b[1;32m    164\u001b[0m         \u001b[39mbreak\u001b[39;00m\n",
      "File \u001b[0;32m/Library/Frameworks/Python.framework/Versions/3.10/lib/python3.10/site-packages/sympy/polys/euclidtools.py:800\u001b[0m, in \u001b[0;36mdmp_resultant\u001b[0;34m(f, g, u, K, includePRS)\u001b[0m\n\u001b[1;32m    797\u001b[0m     \u001b[39mif\u001b[39;00m K\u001b[39m.\u001b[39mis_ZZ \u001b[39mand\u001b[39;00m query(\u001b[39m'\u001b[39m\u001b[39mUSE_COLLINS_RESULTANT\u001b[39m\u001b[39m'\u001b[39m):\n\u001b[1;32m    798\u001b[0m         \u001b[39mreturn\u001b[39;00m dmp_zz_collins_resultant(f, g, u, K)\n\u001b[0;32m--> 800\u001b[0m \u001b[39mreturn\u001b[39;00m dmp_prs_resultant(f, g, u, K)[\u001b[39m0\u001b[39m]\n",
      "File \u001b[0;32m/Library/Frameworks/Python.framework/Versions/3.10/lib/python3.10/site-packages/sympy/polys/euclidtools.py:584\u001b[0m, in \u001b[0;36mdmp_prs_resultant\u001b[0;34m(f, g, u, K)\u001b[0m\n\u001b[1;32m    581\u001b[0m \u001b[39mif\u001b[39;00m dmp_zero_p(f, u) \u001b[39mor\u001b[39;00m dmp_zero_p(g, u):\n\u001b[1;32m    582\u001b[0m     \u001b[39mreturn\u001b[39;00m (dmp_zero(u \u001b[39m-\u001b[39m \u001b[39m1\u001b[39m), [])\n\u001b[0;32m--> 584\u001b[0m R, S \u001b[39m=\u001b[39m dmp_inner_subresultants(f, g, u, K)\n\u001b[1;32m    586\u001b[0m \u001b[39mif\u001b[39;00m dmp_degree(R[\u001b[39m-\u001b[39m\u001b[39m1\u001b[39m], u) \u001b[39m>\u001b[39m \u001b[39m0\u001b[39m:\n\u001b[1;32m    587\u001b[0m     \u001b[39mreturn\u001b[39;00m (dmp_zero(u \u001b[39m-\u001b[39m \u001b[39m1\u001b[39m), R)\n",
      "File \u001b[0;32m/Library/Frameworks/Python.framework/Versions/3.10/lib/python3.10/site-packages/sympy/polys/euclidtools.py:512\u001b[0m, in \u001b[0;36mdmp_inner_subresultants\u001b[0;34m(f, g, u, K)\u001b[0m\n\u001b[1;32m    507\u001b[0m f, g, m, d \u001b[39m=\u001b[39m g, h, k, m \u001b[39m-\u001b[39m k\n\u001b[1;32m    509\u001b[0m b \u001b[39m=\u001b[39m dmp_mul(dmp_neg(lc, v, K),\n\u001b[1;32m    510\u001b[0m             dmp_pow(c, d, v, K), v, K)\n\u001b[0;32m--> 512\u001b[0m h \u001b[39m=\u001b[39m dmp_prem(f, g, u, K)\n\u001b[1;32m    513\u001b[0m h \u001b[39m=\u001b[39m [ dmp_quo(ch, b, v, K) \u001b[39mfor\u001b[39;00m ch \u001b[39min\u001b[39;00m h ]\n\u001b[1;32m    515\u001b[0m lc \u001b[39m=\u001b[39m dmp_LC(g, K)\n",
      "File \u001b[0;32m/Library/Frameworks/Python.framework/Versions/3.10/lib/python3.10/site-packages/sympy/polys/densearith.py:1237\u001b[0m, in \u001b[0;36mdmp_prem\u001b[0;34m(f, g, u, K)\u001b[0m\n\u001b[1;32m   1234\u001b[0m lc_r \u001b[39m=\u001b[39m dmp_LC(r, K)\n\u001b[1;32m   1235\u001b[0m j, N \u001b[39m=\u001b[39m dr \u001b[39m-\u001b[39m dg, N \u001b[39m-\u001b[39m \u001b[39m1\u001b[39m\n\u001b[0;32m-> 1237\u001b[0m R \u001b[39m=\u001b[39m dmp_mul_term(r, lc_g, \u001b[39m0\u001b[39;49m, u, K)\n\u001b[1;32m   1238\u001b[0m G \u001b[39m=\u001b[39m dmp_mul_term(g, lc_r, j, u, K)\n\u001b[1;32m   1239\u001b[0m r \u001b[39m=\u001b[39m dmp_sub(R, G, u, K)\n",
      "File \u001b[0;32m/Library/Frameworks/Python.framework/Versions/3.10/lib/python3.10/site-packages/sympy/polys/densearith.py:184\u001b[0m, in \u001b[0;36mdmp_mul_term\u001b[0;34m(f, c, i, u, K)\u001b[0m\n\u001b[1;32m    182\u001b[0m     \u001b[39mreturn\u001b[39;00m dmp_zero(u)\n\u001b[1;32m    183\u001b[0m \u001b[39melse\u001b[39;00m:\n\u001b[0;32m--> 184\u001b[0m     \u001b[39mreturn\u001b[39;00m [ dmp_mul(cf, c, v, K) \u001b[39mfor\u001b[39;00m cf \u001b[39min\u001b[39;00m f ] \u001b[39m+\u001b[39m dmp_zeros(i, v, K)\n",
      "File \u001b[0;32m/Library/Frameworks/Python.framework/Versions/3.10/lib/python3.10/site-packages/sympy/polys/densearith.py:184\u001b[0m, in \u001b[0;36m<listcomp>\u001b[0;34m(.0)\u001b[0m\n\u001b[1;32m    182\u001b[0m     \u001b[39mreturn\u001b[39;00m dmp_zero(u)\n\u001b[1;32m    183\u001b[0m \u001b[39melse\u001b[39;00m:\n\u001b[0;32m--> 184\u001b[0m     \u001b[39mreturn\u001b[39;00m [ dmp_mul(cf, c, v, K) \u001b[39mfor\u001b[39;00m cf \u001b[39min\u001b[39;00m f ] \u001b[39m+\u001b[39m dmp_zeros(i, v, K)\n",
      "File \u001b[0;32m/Library/Frameworks/Python.framework/Versions/3.10/lib/python3.10/site-packages/sympy/polys/densearith.py:828\u001b[0m, in \u001b[0;36mdmp_mul\u001b[0;34m(f, g, u, K)\u001b[0m\n\u001b[1;32m    825\u001b[0m     coeff \u001b[39m=\u001b[39m dmp_zero(v)\n\u001b[1;32m    827\u001b[0m     \u001b[39mfor\u001b[39;00m j \u001b[39min\u001b[39;00m \u001b[39mrange\u001b[39m(\u001b[39mmax\u001b[39m(\u001b[39m0\u001b[39m, i \u001b[39m-\u001b[39m dg), \u001b[39mmin\u001b[39m(df, i) \u001b[39m+\u001b[39m \u001b[39m1\u001b[39m):\n\u001b[0;32m--> 828\u001b[0m         coeff \u001b[39m=\u001b[39m dmp_add(coeff, dmp_mul(f[j], g[i \u001b[39m-\u001b[39;49m j], v, K), v, K)\n\u001b[1;32m    830\u001b[0m     h\u001b[39m.\u001b[39mappend(coeff)\n\u001b[1;32m    832\u001b[0m \u001b[39mreturn\u001b[39;00m dmp_strip(h, u)\n",
      "File \u001b[0;32m/Library/Frameworks/Python.framework/Versions/3.10/lib/python3.10/site-packages/sympy/polys/densearith.py:828\u001b[0m, in \u001b[0;36mdmp_mul\u001b[0;34m(f, g, u, K)\u001b[0m\n\u001b[1;32m    825\u001b[0m     coeff \u001b[39m=\u001b[39m dmp_zero(v)\n\u001b[1;32m    827\u001b[0m     \u001b[39mfor\u001b[39;00m j \u001b[39min\u001b[39;00m \u001b[39mrange\u001b[39m(\u001b[39mmax\u001b[39m(\u001b[39m0\u001b[39m, i \u001b[39m-\u001b[39m dg), \u001b[39mmin\u001b[39m(df, i) \u001b[39m+\u001b[39m \u001b[39m1\u001b[39m):\n\u001b[0;32m--> 828\u001b[0m         coeff \u001b[39m=\u001b[39m dmp_add(coeff, dmp_mul(f[j], g[i \u001b[39m-\u001b[39;49m j], v, K), v, K)\n\u001b[1;32m    830\u001b[0m     h\u001b[39m.\u001b[39mappend(coeff)\n\u001b[1;32m    832\u001b[0m \u001b[39mreturn\u001b[39;00m dmp_strip(h, u)\n",
      "    \u001b[0;31m[... skipping similar frames: dmp_mul at line 828 (3 times)]\u001b[0m\n",
      "File \u001b[0;32m/Library/Frameworks/Python.framework/Versions/3.10/lib/python3.10/site-packages/sympy/polys/densearith.py:828\u001b[0m, in \u001b[0;36mdmp_mul\u001b[0;34m(f, g, u, K)\u001b[0m\n\u001b[1;32m    825\u001b[0m     coeff \u001b[39m=\u001b[39m dmp_zero(v)\n\u001b[1;32m    827\u001b[0m     \u001b[39mfor\u001b[39;00m j \u001b[39min\u001b[39;00m \u001b[39mrange\u001b[39m(\u001b[39mmax\u001b[39m(\u001b[39m0\u001b[39m, i \u001b[39m-\u001b[39m dg), \u001b[39mmin\u001b[39m(df, i) \u001b[39m+\u001b[39m \u001b[39m1\u001b[39m):\n\u001b[0;32m--> 828\u001b[0m         coeff \u001b[39m=\u001b[39m dmp_add(coeff, dmp_mul(f[j], g[i \u001b[39m-\u001b[39;49m j], v, K), v, K)\n\u001b[1;32m    830\u001b[0m     h\u001b[39m.\u001b[39mappend(coeff)\n\u001b[1;32m    832\u001b[0m \u001b[39mreturn\u001b[39;00m dmp_strip(h, u)\n",
      "File \u001b[0;32m/Library/Frameworks/Python.framework/Versions/3.10/lib/python3.10/site-packages/sympy/polys/densearith.py:567\u001b[0m, in \u001b[0;36mdmp_add\u001b[0;34m(f, g, u, K)\u001b[0m\n\u001b[1;32m    563\u001b[0m     \u001b[39mreturn\u001b[39;00m dup_add(f, g, K)\n\u001b[1;32m    565\u001b[0m df \u001b[39m=\u001b[39m dmp_degree(f, u)\n\u001b[0;32m--> 567\u001b[0m \u001b[39mif\u001b[39;00m df \u001b[39m<\u001b[39;49m \u001b[39m0\u001b[39;49m:\n\u001b[1;32m    568\u001b[0m     \u001b[39mreturn\u001b[39;00m g\n\u001b[1;32m    570\u001b[0m dg \u001b[39m=\u001b[39m dmp_degree(g, u)\n",
      "File \u001b[0;32m/Library/Frameworks/Python.framework/Versions/3.10/lib/python3.10/site-packages/sympy/core/decorators.py:236\u001b[0m, in \u001b[0;36m_SympifyWrapper.make_wrapped.<locals>._func\u001b[0;34m(self, other)\u001b[0m\n\u001b[1;32m    234\u001b[0m \u001b[39mif\u001b[39;00m \u001b[39mnot\u001b[39;00m \u001b[39misinstance\u001b[39m(other, expectedcls):\n\u001b[1;32m    235\u001b[0m     \u001b[39mreturn\u001b[39;00m retval\n\u001b[0;32m--> 236\u001b[0m \u001b[39mreturn\u001b[39;00m func(\u001b[39mself\u001b[39;49m, other)\n",
      "File \u001b[0;32m/Library/Frameworks/Python.framework/Versions/3.10/lib/python3.10/site-packages/sympy/core/expr.py:376\u001b[0m, in \u001b[0;36mExpr.__lt__\u001b[0;34m(self, other)\u001b[0m\n\u001b[1;32m    373\u001b[0m \u001b[39m@sympify_return\u001b[39m([(\u001b[39m'\u001b[39m\u001b[39mother\u001b[39m\u001b[39m'\u001b[39m, \u001b[39m'\u001b[39m\u001b[39mExpr\u001b[39m\u001b[39m'\u001b[39m)], \u001b[39mNotImplemented\u001b[39m)\n\u001b[1;32m    374\u001b[0m \u001b[39mdef\u001b[39;00m \u001b[39m__lt__\u001b[39m(\u001b[39mself\u001b[39m, other):\n\u001b[1;32m    375\u001b[0m     \u001b[39mfrom\u001b[39;00m \u001b[39m.\u001b[39;00m\u001b[39mrelational\u001b[39;00m \u001b[39mimport\u001b[39;00m StrictLessThan\n\u001b[0;32m--> 376\u001b[0m     \u001b[39mreturn\u001b[39;00m StrictLessThan(\u001b[39mself\u001b[39;49m, other)\n",
      "File \u001b[0;32m/Library/Frameworks/Python.framework/Versions/3.10/lib/python3.10/site-packages/sympy/core/relational.py:845\u001b[0m, in \u001b[0;36m_Inequality.__new__\u001b[0;34m(cls, lhs, rhs, **options)\u001b[0m\n\u001b[1;32m    836\u001b[0m             \u001b[39mraise\u001b[39;00m \u001b[39mTypeError\u001b[39;00m(\u001b[39m\"\u001b[39m\u001b[39mInvalid NaN comparison\u001b[39m\u001b[39m\"\u001b[39m)\n\u001b[1;32m    837\u001b[0m     \u001b[39m# First we invoke the appropriate inequality method of `lhs`\u001b[39;00m\n\u001b[1;32m    838\u001b[0m     \u001b[39m# (e.g., `lhs.__lt__`).  That method will try to reduce to\u001b[39;00m\n\u001b[1;32m    839\u001b[0m     \u001b[39m# boolean or raise an exception.  It may keep calling\u001b[39;00m\n\u001b[0;32m   (...)\u001b[0m\n\u001b[1;32m    843\u001b[0m     \u001b[39m# exception).  In that case, it must call us with\u001b[39;00m\n\u001b[1;32m    844\u001b[0m     \u001b[39m# `evaluate=False` to prevent infinite recursion.\u001b[39;00m\n\u001b[0;32m--> 845\u001b[0m     \u001b[39mreturn\u001b[39;00m \u001b[39mcls\u001b[39;49m\u001b[39m.\u001b[39;49m_eval_relation(lhs, rhs, \u001b[39m*\u001b[39;49m\u001b[39m*\u001b[39;49moptions)\n\u001b[1;32m    847\u001b[0m \u001b[39m# make a \"non-evaluated\" Expr for the inequality\u001b[39;00m\n\u001b[1;32m    848\u001b[0m \u001b[39mreturn\u001b[39;00m Relational\u001b[39m.\u001b[39m\u001b[39m__new__\u001b[39m(\u001b[39mcls\u001b[39m, lhs, rhs, \u001b[39m*\u001b[39m\u001b[39m*\u001b[39moptions)\n",
      "File \u001b[0;32m/Library/Frameworks/Python.framework/Versions/3.10/lib/python3.10/site-packages/sympy/core/relational.py:852\u001b[0m, in \u001b[0;36m_Inequality._eval_relation\u001b[0;34m(cls, lhs, rhs, **options)\u001b[0m\n\u001b[1;32m    850\u001b[0m \u001b[39m@classmethod\u001b[39m\n\u001b[1;32m    851\u001b[0m \u001b[39mdef\u001b[39;00m \u001b[39m_eval_relation\u001b[39m(\u001b[39mcls\u001b[39m, lhs, rhs, \u001b[39m*\u001b[39m\u001b[39m*\u001b[39moptions):\n\u001b[0;32m--> 852\u001b[0m     val \u001b[39m=\u001b[39m \u001b[39mcls\u001b[39;49m\u001b[39m.\u001b[39;49m_eval_fuzzy_relation(lhs, rhs)\n\u001b[1;32m    853\u001b[0m     \u001b[39mif\u001b[39;00m val \u001b[39mis\u001b[39;00m \u001b[39mNone\u001b[39;00m:\n\u001b[1;32m    854\u001b[0m         \u001b[39mreturn\u001b[39;00m \u001b[39mcls\u001b[39m(lhs, rhs, evaluate\u001b[39m=\u001b[39m\u001b[39mFalse\u001b[39;00m)\n",
      "File \u001b[0;32m/Library/Frameworks/Python.framework/Versions/3.10/lib/python3.10/site-packages/sympy/core/relational.py:1179\u001b[0m, in \u001b[0;36mStrictLessThan._eval_fuzzy_relation\u001b[0;34m(cls, lhs, rhs)\u001b[0m\n\u001b[1;32m   1177\u001b[0m \u001b[39m@classmethod\u001b[39m\n\u001b[1;32m   1178\u001b[0m \u001b[39mdef\u001b[39;00m \u001b[39m_eval_fuzzy_relation\u001b[39m(\u001b[39mcls\u001b[39m, lhs, rhs):\n\u001b[0;32m-> 1179\u001b[0m     \u001b[39mreturn\u001b[39;00m is_lt(lhs, rhs)\n",
      "File \u001b[0;32m/Library/Frameworks/Python.framework/Versions/3.10/lib/python3.10/site-packages/sympy/core/relational.py:1258\u001b[0m, in \u001b[0;36mis_lt\u001b[0;34m(lhs, rhs, assumptions)\u001b[0m\n\u001b[1;32m   1253\u001b[0m \u001b[39mdef\u001b[39;00m \u001b[39mis_lt\u001b[39m(lhs, rhs, assumptions\u001b[39m=\u001b[39m\u001b[39mNone\u001b[39;00m):\n\u001b[1;32m   1254\u001b[0m     \u001b[39m\"\"\"Fuzzy bool for lhs is strictly less than rhs.\u001b[39;00m\n\u001b[1;32m   1255\u001b[0m \n\u001b[1;32m   1256\u001b[0m \u001b[39m    See the docstring for :func:`~.is_ge` for more.\u001b[39;00m\n\u001b[1;32m   1257\u001b[0m \u001b[39m    \"\"\"\u001b[39;00m\n\u001b[0;32m-> 1258\u001b[0m     \u001b[39mreturn\u001b[39;00m fuzzy_not(is_ge(lhs, rhs, assumptions))\n",
      "File \u001b[0;32m/Library/Frameworks/Python.framework/Versions/3.10/lib/python3.10/site-packages/sympy/core/relational.py:1372\u001b[0m, in \u001b[0;36mis_ge\u001b[0;34m(lhs, rhs, assumptions)\u001b[0m\n\u001b[1;32m   1278\u001b[0m \u001b[39m\"\"\"\u001b[39;00m\n\u001b[1;32m   1279\u001b[0m \u001b[39mFuzzy bool for *lhs* is greater than or equal to *rhs*.\u001b[39;00m\n\u001b[1;32m   1280\u001b[0m \n\u001b[0;32m   (...)\u001b[0m\n\u001b[1;32m   1368\u001b[0m \u001b[39mTrue\u001b[39;00m\n\u001b[1;32m   1369\u001b[0m \u001b[39m\"\"\"\u001b[39;00m\n\u001b[1;32m   1370\u001b[0m \u001b[39mfrom\u001b[39;00m \u001b[39msympy\u001b[39;00m\u001b[39m.\u001b[39;00m\u001b[39massumptions\u001b[39;00m\u001b[39m.\u001b[39;00m\u001b[39mwrapper\u001b[39;00m \u001b[39mimport\u001b[39;00m AssumptionsWrapper, is_extended_nonnegative\n\u001b[0;32m-> 1372\u001b[0m \u001b[39mif\u001b[39;00m \u001b[39mnot\u001b[39;00m (\u001b[39misinstance\u001b[39;49m(lhs, Expr) \u001b[39mand\u001b[39;00m \u001b[39misinstance\u001b[39m(rhs, Expr)):\n\u001b[1;32m   1373\u001b[0m     \u001b[39mraise\u001b[39;00m \u001b[39mTypeError\u001b[39;00m(\u001b[39m\"\u001b[39m\u001b[39mCan only compare inequalities with Expr\u001b[39m\u001b[39m\"\u001b[39m)\n\u001b[1;32m   1375\u001b[0m retval \u001b[39m=\u001b[39m _eval_is_ge(lhs, rhs)\n",
      "\u001b[0;31mKeyboardInterrupt\u001b[0m: "
     ]
    }
   ],
   "source": [
    "solve(eqs)"
   ]
  },
  {
   "cell_type": "code",
   "execution_count": 3,
   "metadata": {},
   "outputs": [
    {
     "data": {
      "text/plain": [
       "[{n_i: -2.11738454002743e+19*sqrt(exp(-0.0028/k))},\n",
       " {n_i: 2.11738454002743e+19*sqrt(exp(-0.0028/k))}]"
      ]
     },
     "execution_count": 3,
     "metadata": {},
     "output_type": "execute_result"
    }
   ],
   "source": [
    "T = 400\n",
    "#For silicon \n",
    "n_c = 2.8*10**19*(T/300)**(3/2)\n",
    "n_v = 1.04*10**19\n",
    "E_g = 1.12\n",
    "\n",
    "n_i = symbols(\"n_i\")\n",
    "\n",
    "eqs = [\n",
    "    Eq( n_i**2,n_c*n_v*exp(-E_g/(k*T)) )\n",
    "]\n",
    "\n",
    "solve(eqs)"
   ]
  },
  {
   "cell_type": "code",
   "execution_count": 5,
   "metadata": {},
   "outputs": [
    {
     "data": {
      "text/plain": [
       "[0]"
      ]
     },
     "execution_count": 5,
     "metadata": {},
     "output_type": "execute_result"
    }
   ],
   "source": [
    "#Calculate the position of Efi with respect to the center of the band gap\n",
    "\n",
    "m_0 = 3.5*10**(-31)\n",
    "m_p = .56*m_0\n",
    "m_n = .56*m_0\n",
    "kT = .0259\n",
    "\n",
    "E_fi = symbols(\"E_fi\")\n",
    "dist = symbols(\"dist\")\n",
    "eq1 = Eq(dist,3/4*kT*log(m_p/m_n))\n",
    "\n",
    "solve(eq1)\n",
    "\n"
   ]
  },
  {
   "cell_type": "code",
   "execution_count": 7,
   "metadata": {},
   "outputs": [
    {
     "data": {
      "text/latex": [
       "$\\displaystyle n_{0} = 1.79939435105673 \\cdot 10^{15}$"
      ],
      "text/plain": [
       "Eq(n_0, 1.79939435105673e+15)"
      ]
     },
     "execution_count": 7,
     "metadata": {},
     "output_type": "execute_result"
    }
   ],
   "source": [
    "#Calculate the thermal equilibrium concentration of electrons and holes for a given E_f\n",
    "\n",
    "E_f = .25\n",
    "N_c = 2.8*10**19\n",
    "N_v = 1.04*10**19\n",
    "kt = .0259\n",
    "\n",
    "n_0 = symbols(\"n_0\")\n",
    "\n",
    "eq = Eq(n_0, N_c*exp(-E_f/kt))\n",
    "\n",
    "solve(eq)\n",
    "eq"
   ]
  }
 ],
 "metadata": {
  "kernelspec": {
   "display_name": "Python 3.10.6 64-bit",
   "language": "python",
   "name": "python3"
  },
  "language_info": {
   "codemirror_mode": {
    "name": "ipython",
    "version": 3
   },
   "file_extension": ".py",
   "mimetype": "text/x-python",
   "name": "python",
   "nbconvert_exporter": "python",
   "pygments_lexer": "ipython3",
   "version": "3.10.6"
  },
  "orig_nbformat": 4,
  "vscode": {
   "interpreter": {
    "hash": "aee8b7b246df8f9039afb4144a1f6fd8d2ca17a180786b69acc140d282b71a49"
   }
  }
 },
 "nbformat": 4,
 "nbformat_minor": 2
}
