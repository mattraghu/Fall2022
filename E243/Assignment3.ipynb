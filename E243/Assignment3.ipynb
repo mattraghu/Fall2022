{
 "cells": [
  {
   "cell_type": "code",
   "execution_count": 3,
   "metadata": {},
   "outputs": [],
   "source": [
    "from sympy import *"
   ]
  },
  {
   "cell_type": "code",
   "execution_count": 4,
   "metadata": {},
   "outputs": [
    {
     "name": "stdout",
     "output_type": "stream",
     "text": [
      "c =  0.0303030303030303\n"
     ]
    }
   ],
   "source": [
    "#1\n",
    "\n",
    "#Define symbols\n",
    "x, y, c, f = symbols('x y c f')\n",
    "\n",
    "f_xy = c*(x+4*y)\n",
    "\n",
    "rangeX = (x,0,3)\n",
    "rangeY = (y,0,2)\n",
    "\n",
    "\n",
    "\n",
    "#Integrate over the region\n",
    "integral = Eq(integrate(f_xy, rangeY, rangeX),1)\n",
    "\n",
    "#Solve for c\n",
    "sol = solve(integral, c)[0]\n",
    "\n",
    "#Print the result\n",
    "print(\"c = \", N(sol))\n",
    "\n",
    "\n"
   ]
  },
  {
   "cell_type": "code",
   "execution_count": 32,
   "metadata": {},
   "outputs": [
    {
     "name": "stdout",
     "output_type": "stream",
     "text": [
      "P =  0.247333333333333\n"
     ]
    }
   ],
   "source": [
    "p = symbols(\"p\")\n",
    "P = symbols(\"P\")\n",
    "\n",
    "\n",
    "f_xy = 1/15*(x+y)\n",
    "\n",
    "rangeX = (x,1.3,2)\n",
    "rangeY = (y,0,2)\n",
    "\n",
    "#Integrate over the region\n",
    "integral = Eq(integrate(f_xy, rangeY, rangeX),P)\n",
    "\n",
    "#Solve for c\n",
    "sol = solve(integral, P)[0]\n",
    "\n",
    "#Print the result\n",
    "print(\"P = \", N(sol))"
   ]
  },
  {
   "cell_type": "code",
   "execution_count": 48,
   "metadata": {},
   "outputs": [
    {
     "data": {
      "text/latex": [
       "$\\displaystyle 5.24380165289256$"
      ],
      "text/plain": [
       "5.24380165289256"
      ]
     },
     "metadata": {},
     "output_type": "display_data"
    }
   ],
   "source": [
    "f_xy = (x+y)/(2*(2+2))\n",
    "\n",
    "rangeX = (x,0,2)\n",
    "rangeY = (y,0,2)\n",
    "\n",
    "f_x_x = integrate(f_xy, rangeY)\n",
    "\n",
    "e_x = integrate(f_x_x*x, rangeX)\n",
    "e_xx = integrate(f_x_x.subs(x,x)*x*x, rangeX)\n",
    "\n",
    "v_x = e_xx - e_x*e_x\n",
    "display(N(v_x))"
   ]
  },
  {
   "cell_type": "code",
   "execution_count": 83,
   "metadata": {},
   "outputs": [
    {
     "name": "stdout",
     "output_type": "stream",
     "text": [
      "p =  1.00000000000000\n"
     ]
    },
    {
     "data": {
      "text/latex": [
       "$\\displaystyle 0.590909090909091$"
      ],
      "text/plain": [
       "0.590909090909091"
      ]
     },
     "execution_count": 83,
     "metadata": {},
     "output_type": "execute_result"
    }
   ],
   "source": [
    "#7/8\n",
    "k = symbols(\"k\")\n",
    "p_xy =(x*y*(2+y))/(18*2+30)\n",
    "\n",
    "rangeX = (x,1,3)\n",
    "rangeY = (y,1,2)\n",
    "\n",
    "#We know that the sum for all in range is 1 \n",
    "#So we can use this to find k\n",
    "sum = Eq(Sum(p_xy, rangeY, rangeX).doit(),p)\n",
    "\n",
    "#Solve for k\n",
    "sol = solve(sum, p)[0]\n",
    "\n",
    "#Print the result\n",
    "print(\"p = \", N(sol))\n",
    "\n",
    "\n",
    "#Sum over the region when x>y\n",
    "sum = 0\n",
    "for i in range(1,4):\n",
    "    for j in range(1,3):\n",
    "        if i > j:\n",
    "            sum += p_xy.subs(x,i).subs(y,j)\n",
    "\n",
    "N(sum)"
   ]
  },
  {
   "cell_type": "code",
   "execution_count": 87,
   "metadata": {},
   "outputs": [
    {
     "data": {
      "text/latex": [
       "$\\displaystyle 0.75$"
      ],
      "text/plain": [
       "0.750000000000000"
      ]
     },
     "execution_count": 87,
     "metadata": {},
     "output_type": "execute_result"
    }
   ],
   "source": [
    "#9 \n",
    "p_xy = (x*y*(1+y))/(18*1+30)\n",
    "\n",
    "rangeY = (y,1,2)\n",
    "p_x_x = Sum(p_xy, rangeY)\n",
    "\n",
    "N( p_xy.subs(x,1).subs(y,2) / p_x_x.subs(x,1) )\n"
   ]
  },
  {
   "cell_type": "code",
   "execution_count": 98,
   "metadata": {},
   "outputs": [
    {
     "data": {
      "text/latex": [
       "$\\displaystyle \\text{True}$"
      ],
      "text/plain": [
       "True"
      ]
     },
     "metadata": {},
     "output_type": "display_data"
    },
    {
     "data": {
      "text/latex": [
       "$\\displaystyle 0.555555555555557$"
      ],
      "text/plain": [
       "0.555555555555557"
      ]
     },
     "metadata": {},
     "output_type": "display_data"
    },
    {
     "data": {
      "text/latex": [
       "$\\displaystyle 5.00000000000001$"
      ],
      "text/plain": [
       "5.00000000000001"
      ]
     },
     "metadata": {},
     "output_type": "display_data"
    }
   ],
   "source": [
    "p_xy = 1/48*x*y*(1+y)\n",
    "\n",
    "rangeX = (x,1,3)\n",
    "rangeY = (y,1,2)\n",
    "\n",
    "p_x_x = Sum(p_xy, rangeY).doit()\n",
    "p_x_y = Sum(p_xy, rangeX).doit()\n",
    "\n",
    "p = Sum(p_xy, rangeY, rangeX).doit()\n",
    "\n",
    "#Check for independence (independence is when p(x,y) = p(x)p(y))\n",
    "independent = Eq(p_x_x*p_x_y, p_xy)\n",
    "display(independent)\n",
    "\n",
    "#Get Variance of X\n",
    "e_x = Sum(x*p_xy, rangeY, rangeX).doit()\n",
    "e_xx = Sum(x*x*p_xy, rangeY, rangeX).doit()\n",
    "v_x = e_xx - e_x*e_x\n",
    "display(N(v_x))\n",
    "\n",
    "#Get Variable of 4-3X\n",
    "v = v_x*(3**2)\n",
    "display(N(v))\n"
   ]
  },
  {
   "cell_type": "code",
   "execution_count": 105,
   "metadata": {},
   "outputs": [
    {
     "data": {
      "text/latex": [
       "$\\displaystyle 6.0$"
      ],
      "text/plain": [
       "6.00000000000000"
      ]
     },
     "metadata": {},
     "output_type": "display_data"
    }
   ],
   "source": [
    "#14 \n",
    "p_xy = (x+y)/k\n",
    "\n",
    "xVals = [0,1]\n",
    "yVals = [0,2]\n",
    "\n",
    "#Sum over the region is 1\n",
    "#So we can use this to find k\n",
    "\n",
    "sum = 0\n",
    "for i in xVals:\n",
    "    for j in yVals:\n",
    "        sum += p_xy.subs(x,i).subs(y,j)\n",
    "\n",
    "sol = solve(Eq(sum,1),k)[0]\n",
    "display(N(sol))\n",
    "\n",
    "\n",
    "        \n",
    "\n"
   ]
  },
  {
   "cell_type": "code",
   "execution_count": 8,
   "metadata": {},
   "outputs": [
    {
     "data": {
      "text/latex": [
       "$\\displaystyle 2.4375$"
      ],
      "text/plain": [
       "2.43750000000000"
      ]
     },
     "metadata": {},
     "output_type": "display_data"
    }
   ],
   "source": [
    "#4 Redo\n",
    "f_xy = (x+y)/(6*(6+2))\n",
    "\n",
    "rangeX = (x,0,6)\n",
    "rangeY = (y,0,2)\n",
    "\n",
    "#Variance of x is equal to the integral of x^2*f(x,y) - (integral of x*f(x,y))^2\n",
    "f_x_x = integrate(f_xy, rangeY)\n",
    "e_x = integrate(f_x_x*x, rangeX)\n",
    "e_xx = integrate(f_x_x.subs(x,x)*x*x, rangeX)\n",
    "v_x = e_xx - e_x*e_x\n",
    "display(N(v_x))\n",
    "\n"
   ]
  },
  {
   "cell_type": "code",
   "execution_count": null,
   "metadata": {},
   "outputs": [],
   "source": []
  }
 ],
 "metadata": {
  "kernelspec": {
   "display_name": "Python 3.10.6 64-bit",
   "language": "python",
   "name": "python3"
  },
  "language_info": {
   "codemirror_mode": {
    "name": "ipython",
    "version": 3
   },
   "file_extension": ".py",
   "mimetype": "text/x-python",
   "name": "python",
   "nbconvert_exporter": "python",
   "pygments_lexer": "ipython3",
   "version": "3.10.6"
  },
  "orig_nbformat": 4,
  "vscode": {
   "interpreter": {
    "hash": "aee8b7b246df8f9039afb4144a1f6fd8d2ca17a180786b69acc140d282b71a49"
   }
  }
 },
 "nbformat": 4,
 "nbformat_minor": 2
}
