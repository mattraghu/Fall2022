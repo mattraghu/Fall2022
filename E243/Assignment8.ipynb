{
 "cells": [
  {
   "cell_type": "code",
   "execution_count": 16,
   "metadata": {},
   "outputs": [],
   "source": [
    "from sympy import *\n",
    "from scipy.stats import *\n",
    "import numpy as np"
   ]
  },
  {
   "cell_type": "code",
   "execution_count": 17,
   "metadata": {},
   "outputs": [],
   "source": [
    "#Useful functions \n",
    "\n",
    "#Average Function\n",
    "def average(x):\n",
    "    return sum(x)/len(x)"
   ]
  },
  {
   "cell_type": "code",
   "execution_count": 61,
   "metadata": {},
   "outputs": [
    {
     "data": {
      "text/plain": [
       "-2.1447866879169273"
      ]
     },
     "execution_count": 61,
     "metadata": {},
     "output_type": "execute_result"
    }
   ],
   "source": [
    "#Question 1\n",
    "#A machine produces metal rods used in an automobile suspensionsystem. A random sample of 15 rods is selected, and the diameter ismeasured. The resulting data (in millimeters) are as follows: 8.24 8.25 8.20 8.23 8.24 8.21 8.26 8.26 8.20 8.25 8.23 8.23 8.19 8.28 8.24 a) Calculate a 95% two-sided confidence inerval on mean roddiameter. a) Calculate a 95% upper confidence bound on the mean. Comparethis bound with the upper bound of the two-sided confidenceinterval and discuss why they are different.\n",
    "data = [8.24, 8.25, 8.20, 8.23, 8.24, 8.21, 8.26, 8.26, 8.20, 8.25, 8.23, 8.23, 8.19, 8.28, 8.24]\n",
    "\n",
    "xbar = average(data)\n",
    "s = np.std(data)\n",
    "n = len(data)\n",
    "t_a2 = t.ppf(( 1-0.95 )/2,n-1)\n",
    "CI = [xbar - t_a2*s/np.sqrt(n), xbar + t_a2*s/np.sqrt(n)]\n",
    "\n",
    "CI\n",
    "t_a2\n"
   ]
  },
  {
   "cell_type": "code",
   "execution_count": 60,
   "metadata": {},
   "outputs": [
    {
     "data": {
      "text/plain": [
       "-2.1447866879169273"
      ]
     },
     "execution_count": 60,
     "metadata": {},
     "output_type": "execute_result"
    }
   ],
   "source": [
    "#A machine produces metal rods used in an automobile suspension system. A random sample of 15 rods is selected, and the diameter is measured. The resulting data (in millimeters) are as follows: 8.24, 8.25, 8.20, 8.23, 8.24, 8.21, 8.26, 8.26, 8.20, 8.25, 8.23, 8.23, 8.19, 8.34, 8.24. You have to find a 95% two-sided confidence interval on mean rod diameter. What is the upper value of the 95% CI of mean rod diameter? Please report your answer to 3 decimal places.\n",
    "data = [8.24, 8.25, 8.20, 8.23, 8.24, 8.21, 8.26, 8.26, 8.20, 8.25, 8.23, 8.23, 8.19, 8.34, 8.24]\n",
    "\n",
    "xbar = average(data)\n",
    "s = np.std(data)\n",
    "n = len(data)\n",
    "t_a2 = t.ppf(( 1-0.95 )/2,n-1)\n",
    "CI = [xbar - t_a2*s/np.sqrt(n), xbar + t_a2*s/np.sqrt(n)]\n",
    "\n",
    "CI"
   ]
  },
  {
   "cell_type": "code",
   "execution_count": 43,
   "metadata": {},
   "outputs": [
    {
     "data": {
      "text/plain": [
       "2.1447866879169273"
      ]
     },
     "execution_count": 43,
     "metadata": {},
     "output_type": "execute_result"
    }
   ],
   "source": [
    "#Question 2\n",
    "#What is the t-value corresponding to an  = 0.025 and df = 14?\n",
    "t.ppf(1-0.025,14)"
   ]
  },
  {
   "cell_type": "code",
   "execution_count": 47,
   "metadata": {},
   "outputs": [
    {
     "data": {
      "text/plain": [
       "5.710795826886093"
      ]
     },
     "execution_count": 47,
     "metadata": {},
     "output_type": "execute_result"
    }
   ],
   "source": [
    "#A machine produces metal rods used in an automobile suspension system. A random sample of 15 rods is selected, and the diameter is measured. The resulting data (in millimeters) are as follows: 8.24, 8.25, 8.20, 8.23, 8.24, 8.21, 8.26, 8.26, 8.20, 8.25, 8.23, 8.23, 8.19, 8.24, 8.24. A conclusion has to be made at 1% significance that the mean rod diameter is greater than 8.20. What is the value of tcalc? Please report your answer in 3 decimal places. \n",
    "\n",
    "data = [8.24, 8.25, 8.20, 8.23, 8.24, 8.21, 8.26, 8.26, 8.20, 8.25, 8.23, 8.23, 8.19, 8.24, 8.24]\n",
    "p = 0.01\n",
    "\n",
    "xbar = average(data)\n",
    "s = np.std(data)\n",
    "n = len(data)\n",
    "t_a = t.ppf(1-p,n-1)\n",
    "\n",
    "u_0 = 8.20\n",
    "t_calc = (xbar - u_0)/(s/np.sqrt(n))\n",
    "t_calc"
   ]
  },
  {
   "cell_type": "code",
   "execution_count": 49,
   "metadata": {},
   "outputs": [
    {
     "name": "stdout",
     "output_type": "stream",
     "text": [
      "t_a =  2.6244940675602306\n",
      "t_calc =  3.057618431216498\n"
     ]
    }
   ],
   "source": [
    "n = 15\n",
    "xbar = 8.23\n",
    "s = .038\n",
    "p = .01\n",
    "u_0 = 8.20\n",
    "\n",
    "t_a = t.ppf(1-p,n-1)\n",
    "t_calc = (xbar - u_0)/(s/np.sqrt(n))\n",
    "\n",
    "#Print \n",
    "print(\"t_a = \", t_a)\n",
    "print(\"t_calc = \", t_calc)"
   ]
  },
  {
   "cell_type": "code",
   "execution_count": 79,
   "metadata": {},
   "outputs": [
    {
     "data": {
      "text/latex": [
       "$\\displaystyle \\frac{s^{2} t_{c}^{2}}{offset^{2}}$"
      ],
      "text/plain": [
       "s**2*t_c**2/offset**2"
      ]
     },
     "execution_count": 79,
     "metadata": {},
     "output_type": "execute_result"
    }
   ],
   "source": [
    "offset,t_c,s,n = symbols('offset,t_c,s,n')\n",
    "tCalcOffsetEq = Eq(t_c, offset/(s/sqrt(n)))\n"
   ]
  },
  {
   "cell_type": "code",
   "execution_count": 87,
   "metadata": {},
   "outputs": [
    {
     "name": "stdout",
     "output_type": "stream",
     "text": [
      "n =  83.4153268515383\n"
     ]
    }
   ],
   "source": [
    "#Question 6\n",
    "#A machine produces metal rods used in an automobile suspension system. A random sample of 15 rods is selected, and the diameter is measured. The resulting data (in millimeters) are as follows: 8.24, 8.25, 8.20, 8.23, 8.24, 8.21, 8.26, 8.26, 8.20, 8.25, 8.23, 8.23, 8.19, 8.22, 8.24. How many more samples do you need to collect to estimate the mean to within 0.005 mm with 95% two-sided confidence? Assume degrees of freedom is 14 for the t distribution for calculation of this problem. Please report your answer as a whole number.\n",
    "\n",
    "data = [8.24, 8.25, 8.20, 8.23, 8.24, 8.21, 8.26, 8.26, 8.20, 8.25, 8.23, 8.23, 8.19, 8.22, 8.24]\n",
    "p = 0.05\n",
    "xbar = average(data)\n",
    "s = np.std(data)\n",
    "n = len(data)\n",
    "\n",
    "#Get Z Value at 95% confidence\n",
    "t_a2 = -t.ppf((p)/2,n-1) #/2 Because it is two sided\n",
    "\n",
    "\n",
    "subbed = tCalcOffsetEq.subs([(\"t_c\",t_a2),(\"s\",s),(\"offset\",.005)])\n",
    "n = solve(subbed,\"n\")[0]\n",
    "print(\"n = \", n)"
   ]
  },
  {
   "cell_type": "code",
   "execution_count": null,
   "metadata": {},
   "outputs": [],
   "source": [
    "#Question 7\n",
    "#A melting point test of n = 10 samples of a binder used in manufacturing a rocket propellant resulted in a sample mean of 154.6 °F. Assume that the melting point is normally distributed with σ = 1.5°F. Is it possible to conclude at 1% significance that the melting point is not 155°F? What is the value of zcalc ? Please report your answer in 3 decimal places. \n"
   ]
  }
 ],
 "metadata": {
  "kernelspec": {
   "display_name": "Python 3.10.6 64-bit",
   "language": "python",
   "name": "python3"
  },
  "language_info": {
   "codemirror_mode": {
    "name": "ipython",
    "version": 3
   },
   "file_extension": ".py",
   "mimetype": "text/x-python",
   "name": "python",
   "nbconvert_exporter": "python",
   "pygments_lexer": "ipython3",
   "version": "3.10.6"
  },
  "orig_nbformat": 4,
  "vscode": {
   "interpreter": {
    "hash": "aee8b7b246df8f9039afb4144a1f6fd8d2ca17a180786b69acc140d282b71a49"
   }
  }
 },
 "nbformat": 4,
 "nbformat_minor": 2
}
