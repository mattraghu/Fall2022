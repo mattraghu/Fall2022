{
 "cells": [
  {
   "cell_type": "code",
   "execution_count": 2,
   "metadata": {},
   "outputs": [],
   "source": [
    "from sympy import *\n",
    "from scipy.stats import *\n",
    "import numpy as np"
   ]
  },
  {
   "cell_type": "code",
   "execution_count": 3,
   "metadata": {},
   "outputs": [],
   "source": [
    "#Useful functions \n",
    "\n",
    "#Average Function\n",
    "def average(x):\n",
    "    return sum(x)/len(x)"
   ]
  },
  {
   "cell_type": "code",
   "execution_count": 61,
   "metadata": {},
   "outputs": [
    {
     "data": {
      "text/plain": [
       "-2.1447866879169273"
      ]
     },
     "execution_count": 61,
     "metadata": {},
     "output_type": "execute_result"
    }
   ],
   "source": [
    "#Question 1\n",
    "#A machine produces metal rods used in an automobile suspensionsystem. A random sample of 15 rods is selected, and the diameter ismeasured. The resulting data (in millimeters) are as follows: 8.24 8.25 8.20 8.23 8.24 8.21 8.26 8.26 8.20 8.25 8.23 8.23 8.19 8.28 8.24 a) Calculate a 95% two-sided confidence inerval on mean roddiameter. a) Calculate a 95% upper confidence bound on the mean. Comparethis bound with the upper bound of the two-sided confidenceinterval and discuss why they are different.\n",
    "data = [8.24, 8.25, 8.20, 8.23, 8.24, 8.21, 8.26, 8.26, 8.20, 8.25, 8.23, 8.23, 8.19, 8.28, 8.24]\n",
    "\n",
    "xbar = average(data)\n",
    "s = np.std(data)\n",
    "n = len(data)\n",
    "t_a2 = t.ppf(( 1-0.95 )/2,n-1)\n",
    "CI = [xbar - t_a2*s/np.sqrt(n), xbar + t_a2*s/np.sqrt(n)]\n",
    "\n",
    "CI\n",
    "t_a2\n"
   ]
  },
  {
   "cell_type": "code",
   "execution_count": 37,
   "metadata": {},
   "outputs": [
    {
     "data": {
      "text/plain": [
       "[8.257098104765788, 8.218901895234215]"
      ]
     },
     "execution_count": 37,
     "metadata": {},
     "output_type": "execute_result"
    }
   ],
   "source": [
    "#A machine produces metal rods used in an automobile suspension system. A random sample of 15 rods is selected, and the diameter is measured. The resulting data (in millimeters) are as follows: 8.24, 8.25, 8.20, 8.23, 8.24, 8.21, 8.26, 8.26, 8.20, 8.25, 8.23, 8.23, 8.19, 8.34, 8.24. You have to find a 95% two-sided confidence interval on mean rod diameter. What is the upper value of the 95% CI of mean rod diameter? Please report your answer to 3 decimal places.\n",
    "data = [8.24, 8.25, 8.20, 8.23, 8.24, 8.21, 8.26, 8.26, 8.20, 8.25, 8.23, 8.23, 8.19, 8.34, 8.24]\n",
    "\n",
    "xbar = average(data)\n",
    "s = np.std(data)\n",
    "n = len(data)\n",
    "t_a2 = t.ppf(( 1-0.95 )/2,n-1)\n",
    "CI = [xbar - t_a2*s/np.sqrt(n), xbar + t_a2*s/np.sqrt(n)]\n",
    "\n",
    "CI"
   ]
  },
  {
   "cell_type": "code",
   "execution_count": 43,
   "metadata": {},
   "outputs": [
    {
     "data": {
      "text/plain": [
       "2.1447866879169273"
      ]
     },
     "execution_count": 43,
     "metadata": {},
     "output_type": "execute_result"
    }
   ],
   "source": [
    "#Question 2\n",
    "#What is the t-value corresponding to an  = 0.025 and df = 14?\n",
    "t.ppf(1-0.025,14)"
   ]
  },
  {
   "cell_type": "code",
   "execution_count": 47,
   "metadata": {},
   "outputs": [
    {
     "data": {
      "text/plain": [
       "5.710795826886093"
      ]
     },
     "execution_count": 47,
     "metadata": {},
     "output_type": "execute_result"
    }
   ],
   "source": [
    "#A machine produces metal rods used in an automobile suspension system. A random sample of 15 rods is selected, and the diameter is measured. The resulting data (in millimeters) are as follows: 8.24, 8.25, 8.20, 8.23, 8.24, 8.21, 8.26, 8.26, 8.20, 8.25, 8.23, 8.23, 8.19, 8.24, 8.24. A conclusion has to be made at 1% significance that the mean rod diameter is greater than 8.20. What is the value of tcalc? Please report your answer in 3 decimal places. \n",
    "\n",
    "data = [8.24, 8.25, 8.20, 8.23, 8.24, 8.21, 8.26, 8.26, 8.20, 8.25, 8.23, 8.23, 8.19, 8.24, 8.24]\n",
    "p = 0.01\n",
    "\n",
    "xbar = average(data)\n",
    "s = np.std(data)\n",
    "n = len(data)\n",
    "t_a = t.ppf(1-p,n-1)\n",
    "\n",
    "u_0 = 8.20\n",
    "t_calc = (xbar - u_0)/(s/np.sqrt(n))\n",
    "t_calc\n",
    "\n"
   ]
  },
  {
   "cell_type": "code",
   "execution_count": 59,
   "metadata": {},
   "outputs": [
    {
     "data": {
      "text/plain": [
       "4.843986011264623"
      ]
     },
     "execution_count": 59,
     "metadata": {},
     "output_type": "execute_result"
    }
   ],
   "source": [
    "#A machine produces metal rods used in an automobile suspension system. A random sample of 15 rods is selected, and the diameter is measured. The resulting data (in millimeters) are as follows: 8.24, 8.25, 8.20, 8.23, 8.24, 8.21, 8.26, 8.26, 8.20, 8.25, 8.23, 8.23, 8.19, 8.34, 8.24. A conclusion has to be made at 1% significance that the mean rod diameter is greater than 8.20. What is the value of tcalc? Please report your answer in 3 decimal places.\n",
    "\n",
    "data = [8.24, 8.25, 8.20, 8.23, 8.24, 8.21, 8.26, 8.26, 8.20, 8.25, 8.23, 8.23, 8.19, 8.34, 8.24]\n",
    "data = [8.24, 8.25, 8.20, 8.23, 8.24, 8.21, 8.26, 8.26, 8.20, 8.25, 8.23, 8.23, 8.19, 8.32, 8.24]\n",
    "data = [8.24, 8.25, 8.20, 8.23, 8.24, 8.21, 8.26, 8.26, 8.20, 8.25, 8.23, 8.23, 8.19, 8.3, 8.24]\n",
    "p = 0.01\n",
    "\n",
    "xbar = average(data)\n",
    "s = np.std(data,ddof=1)\n",
    "n = len(data)\n",
    "t_a = t.ppf(1-p,n-1)\n",
    "\n",
    "\n",
    "# xbar = 8.24\n",
    "u_0 = 8.20\n",
    "t_calc = (xbar - u_0)/(s/np.sqrt(n))\n",
    "t_calc\n"
   ]
  },
  {
   "cell_type": "code",
   "execution_count": 49,
   "metadata": {},
   "outputs": [
    {
     "name": "stdout",
     "output_type": "stream",
     "text": [
      "t_a =  2.6244940675602306\n",
      "t_calc =  3.057618431216498\n"
     ]
    }
   ],
   "source": [
    "n = 15\n",
    "xbar = 8.23\n",
    "s = .038\n",
    "p = .01\n",
    "u_0 = 8.20\n",
    "\n",
    "t_a = t.ppf(1-p,n-1)\n",
    "t_calc = (xbar - u_0)/(s/np.sqrt(n))\n",
    "\n",
    "#Print \n",
    "print(\"t_a = \", t_a)\n",
    "print(\"t_calc = \", t_calc)"
   ]
  },
  {
   "cell_type": "code",
   "execution_count": 61,
   "metadata": {},
   "outputs": [],
   "source": [
    "offset,t_c,s,n = symbols('offset,t_c,s,n')\n",
    "tCalcOffsetEq = Eq(t_c, offset/(s/sqrt(n)))\n"
   ]
  },
  {
   "cell_type": "code",
   "execution_count": 71,
   "metadata": {},
   "outputs": [
    {
     "name": "stdout",
     "output_type": "stream",
     "text": [
      "n =  102.762814378641\n"
     ]
    }
   ],
   "source": [
    "#Question 6\n",
    "#A machine produces metal rods used in an automobile suspension system. A random sample of 15 rods is selected, and the diameter is measured. The resulting data (in millimeters) are as follows: 8.24, 8.25, 8.20, 8.23, 8.24, 8.21, 8.26, 8.26, 8.20, 8.25, 8.23, 8.23, 8.19, 8.22, 8.24. How many more samples do you need to collect to estimate the mean to within 0.005 mm with 95% two-sided confidence? Assume degrees of freedom is 14 for the t distribution for calculation of this problem. Please report your answer as a whole number.\n",
    "\n",
    "data = [8.24, 8.25, 8.20, 8.23, 8.24, 8.21, 8.26, 8.26, 8.20, 8.25, 8.23, 8.23, 8.19, 8.22, 8.24]\n",
    "data = [8.24, 8.25, 8.20, 8.23, 8.24, 8.21, 8.26, 8.26, 8.20, 8.25, 8.23, 8.23, 8.19, 8.33, 8.24]\n",
    "data = [8.24, 8.25, 8.20, 8.23, 8.24, 8.21, 8.26, 8.26, 8.20, 8.25, 8.23, 8.23, 8.19, 8.28, 8.24]\n",
    "p = 0.05\n",
    "xbar = average(data)\n",
    "s = np.std(data, ddof=1)\n",
    "n = len(data)\n",
    "\n",
    "#Get Z Value at 95% confidence\n",
    "t_a2 = -t.ppf((p)/2,n-1) #/2 Because it is two sided\n",
    "\n",
    "\n",
    "subbed = tCalcOffsetEq.subs([(\"t_c\",t_a2),(\"s\",s),(\"offset\",.005)])\n",
    "n2 = solve(subbed,\"n\")[0]\n",
    "print(\"n = \", n2-n)"
   ]
  },
  {
   "cell_type": "code",
   "execution_count": 70,
   "metadata": {},
   "outputs": [
    {
     "data": {
      "text/plain": [
       "15"
      ]
     },
     "execution_count": 70,
     "metadata": {},
     "output_type": "execute_result"
    }
   ],
   "source": [
    "n"
   ]
  },
  {
   "cell_type": "code",
   "execution_count": 20,
   "metadata": {},
   "outputs": [
    {
     "name": "stdout",
     "output_type": "stream",
     "text": [
      "z_calc =  -0.8432740427115798\n",
      "p =  0.19953759827411527\n",
      "t_a =  2.8214379233005493\n"
     ]
    }
   ],
   "source": [
    "#Question 7\n",
    "#A melting point test of n = 10 samples of a binder used in manufacturing a rocket propellant resulted in a sample mean of 154.6 °F. Assume that the melting point is normally distributed with σ = 1.5°F. Is it possible to conclude at 1% significance that the melting point is not 155°F? What is the value of zcalc ? Please report your answer in 3 decimal places. \n",
    "\n",
    "n = 10\n",
    "xbar = 154.6\n",
    "# xbar = 154.2\n",
    "s = 1.5\n",
    "\n",
    "z_calc = (xbar - 155)/(s/np.sqrt(n)) #One sided (so multiply p by 2 for two sided)\n",
    "\n",
    "#Print\n",
    "print(\"z_calc = \", z_calc)\n",
    "\n",
    "#Get p value of z_calc\n",
    "p =  norm.cdf(z_calc)\n",
    "print(\"p = \", p)\n",
    "\n",
    "p = 0.01\n",
    "t_a = t.ppf(1-p,n-1)\n",
    "print(\"t_a = \", t_a)\n"
   ]
  },
  {
   "cell_type": "code",
   "execution_count": 27,
   "metadata": {},
   "outputs": [
    {
     "name": "stdout",
     "output_type": "stream",
     "text": [
      "p =  0.13566606094638267\n"
     ]
    }
   ],
   "source": [
    "#Question 8\n",
    "#What is the p-value for p(z<-1.1)? Please report your answer in 3 decimal places.\n",
    "\n",
    "p = norm.cdf(-1.1)\n",
    "print(\"p = \", p)"
   ]
  },
  {
   "cell_type": "code",
   "execution_count": 64,
   "metadata": {},
   "outputs": [
    {
     "data": {
      "text/plain": [
       "[155.72969254845685, 153.87030745154317]"
      ]
     },
     "execution_count": 64,
     "metadata": {},
     "output_type": "execute_result"
    }
   ],
   "source": [
    "#Question 9\n",
    "#A melting point test of n = 10 samples of a binder used in manufacturing a rocket propellant resulted in a sample mean of 154 °F. Assume that the melting point is normally distributed with σ = 1.5°F. Find a lower value in a 95% confidence interval for the melting point? Please report your answer in 3 decimal places.\n",
    "\n",
    "n = 10\n",
    "xbar = 154.8\n",
    "s = 1.5\n",
    "\n",
    "z_a2 = norm.ppf(0.05/2)\n",
    "\n",
    "CI = [xbar - z_a2*s/np.sqrt(n), xbar + z_a2*s/np.sqrt(n)]\n",
    "CI"
   ]
  },
  {
   "cell_type": "code",
   "execution_count": 30,
   "metadata": {},
   "outputs": [
    {
     "data": {
      "text/plain": [
       "0.1603260739867349"
      ]
     },
     "execution_count": 30,
     "metadata": {},
     "output_type": "execute_result"
    }
   ],
   "source": [
    "#Question 10\n",
    "#Consider the following computer output:\n",
    "#Test of mu = 91 vs > 91\n",
    "#Variable\tN\tMean\tStDev\n",
    "#x\t20\t92.379\t0.717\n",
    "#Find SE Mean (standard error of mean). Please report your answer in 3 decimal places.\n",
    "\n",
    "n = 20\n",
    "xbar = 92.379\n",
    "s = 0.717\n",
    "\n",
    "SE = s/np.sqrt(n)\n",
    "SE\n",
    "\n"
   ]
  },
  {
   "cell_type": "code",
   "execution_count": 33,
   "metadata": {},
   "outputs": [
    {
     "data": {
      "text/plain": [
       "-2.5394831906222888"
      ]
     },
     "execution_count": 33,
     "metadata": {},
     "output_type": "execute_result"
    }
   ],
   "source": [
    "#Consider the following computer output:\n",
    "\n",
    "#Test of mu = 91 vs > 91\n",
    "\n",
    "#Variable\tN\tMean\tStDev\tSE Mean\n",
    "#x\t20\t92.379\t0.717\t0.16\n",
    "#What is the value of tcrit for a significance level of 0.01? Please report your answer in 3 decimal places.\n",
    "\n",
    "n = 20\n",
    "xbar = 92.379\n",
    "s = 0.717\n",
    "SE = 0.16\n",
    "p = 0.01\n",
    "\n",
    "t_a = t.ppf(p,n-1)\n",
    "t_a\n"
   ]
  },
  {
   "cell_type": "code",
   "execution_count": 34,
   "metadata": {},
   "outputs": [
    {
     "data": {
      "text/plain": [
       "[92.66666124984341, 92.11333875015659]"
      ]
     },
     "execution_count": 34,
     "metadata": {},
     "output_type": "execute_result"
    }
   ],
   "source": [
    "#Question 12\n",
    "#Consider the following computer output:\n",
    "\n",
    "#Test of mu = 91 vs > 91\n",
    "\n",
    "#Variable\tN\tMean\tStDev\tSE Mean\n",
    "#x\t20\t92.39\t0.717\t0.16\n",
    "#Find the 95% Lower bound. Please report your answer in 3 decimal places.\n",
    "\n",
    "n = 20\n",
    "xbar = 92.39\n",
    "s = 0.717\n",
    "SE = 0.16\n",
    "\n",
    "t_a2 = t.ppf(0.05,n-1)\n",
    "\n",
    "CI = [xbar - t_a2*SE, xbar + t_a2*SE]\n",
    "CI\n",
    "\n"
   ]
  },
  {
   "cell_type": "code",
   "execution_count": 36,
   "metadata": {},
   "outputs": [
    {
     "name": "stdout",
     "output_type": "stream",
     "text": [
      "t_calc =  8.124999999999982\n"
     ]
    },
    {
     "data": {
      "text/plain": [
       "0.1603260739867349"
      ]
     },
     "execution_count": 36,
     "metadata": {},
     "output_type": "execute_result"
    }
   ],
   "source": [
    "#Question 13\n",
    "#Consider the following computer output:\n",
    "\n",
    "#Test of mu = 90 vs > 90\n",
    "\n",
    "#Variable\tN\tMean\tStDev\tSE Mean\n",
    "#x\t20\t91.3\t0.717\t0.16\n",
    "#What is the value of tcalc? Please report your answer in 3 decimal places.\n",
    "\n",
    "n = 20\n",
    "xbar = 91.3\n",
    "s = 0.717\n",
    "SE = 0.16\n",
    "u_0 = 90\n",
    "\n",
    "t_calc = (xbar - u_0)/SE\n",
    "\n",
    "print(\"t_calc = \", t_calc)\n",
    "#Verify the SE\n",
    "SE2 = s/np.sqrt(n)\n",
    "SE2\n"
   ]
  },
  {
   "cell_type": "code",
   "execution_count": null,
   "metadata": {},
   "outputs": [],
   "source": []
  }
 ],
 "metadata": {
  "kernelspec": {
   "display_name": "Python 3.8.3 64-bit",
   "language": "python",
   "name": "python3"
  },
  "language_info": {
   "codemirror_mode": {
    "name": "ipython",
    "version": 3
   },
   "file_extension": ".py",
   "mimetype": "text/x-python",
   "name": "python",
   "nbconvert_exporter": "python",
   "pygments_lexer": "ipython3",
   "version": "3.8.3"
  },
  "orig_nbformat": 4,
  "vscode": {
   "interpreter": {
    "hash": "1f59d50658d4cd97c33559e64c64cdabcc2031b5c15f33137a9aa45101c8cb06"
   }
  }
 },
 "nbformat": 4,
 "nbformat_minor": 2
}
