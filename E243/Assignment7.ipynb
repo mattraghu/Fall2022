{
 "cells": [
  {
   "cell_type": "code",
   "execution_count": 1,
   "metadata": {},
   "outputs": [],
   "source": [
    "from sympy import *\n",
    "from scipy.stats import *"
   ]
  },
  {
   "cell_type": "code",
   "execution_count": 15,
   "metadata": {},
   "outputs": [],
   "source": [
    "lam = symbols('lambda')\n",
    "t = symbols('t')\n",
    "a = symbols('a')\n",
    "P = symbols('P')\n",
    "x = symbols('x')"
   ]
  },
  {
   "cell_type": "code",
   "execution_count": 10,
   "metadata": {},
   "outputs": [
    {
     "data": {
      "text/latex": [
       "$\\displaystyle P = 1 - e^{- \\left(\\lambda t\\right)^{a}}$"
      ],
      "text/plain": [
       "Eq(P, 1 - exp(-(lambda*t)**a))"
      ]
     },
     "execution_count": 10,
     "metadata": {},
     "output_type": "execute_result"
    }
   ],
   "source": [
    "weibellEq = Eq(P, 1-exp(-(lam*t)**a))"
   ]
  },
  {
   "cell_type": "code",
   "execution_count": null,
   "metadata": {},
   "outputs": [],
   "source": []
  },
  {
   "cell_type": "code",
   "execution_count": 14,
   "metadata": {},
   "outputs": [
    {
     "data": {
      "text/plain": [
       "[(0.580960217696765, 1.23690000478959)]"
      ]
     },
     "execution_count": 14,
     "metadata": {},
     "output_type": "execute_result"
    }
   ],
   "source": [
    "weibellEq = Eq(ln(-(P-1)), (-(lam*t)**a))\n",
    "#Example 1 \n",
    "Equations = [\n",
    "    weibellEq.subs([\n",
    "        (P, .4), \n",
    "        (t, 1)\n",
    "    ]),\n",
    "    weibellEq.subs([\n",
    "        (P, .7), \n",
    "        (t, 2)\n",
    "    ]),\n",
    "]\n",
    "\n",
    "solve(Equations, [lam, a])"
   ]
  },
  {
   "cell_type": "code",
   "execution_count": 35,
   "metadata": {},
   "outputs": [
    {
     "name": "stdout",
     "output_type": "stream",
     "text": [
      "0.669145815714747\n"
     ]
    },
    {
     "data": {
      "text/latex": [
       "$\\displaystyle 0.899741156277196$"
      ],
      "text/plain": [
       "0.899741156277196"
      ]
     },
     "execution_count": 35,
     "metadata": {},
     "output_type": "execute_result"
    }
   ],
   "source": [
    "#Question 1\n",
    "#Inclusions are defects in poured metal caused by contaminants. The number of (large) inclusions in cast iron follows a Poisson distribution with a rate of 2.3 per cubic millimetre. What is the probability of at least one inclusion in a cubic millimetre? Please enter the answer to 3 decimal places.\n",
    "\n",
    "#Define all symbols \n",
    "P, lam, t, x = symbols('P, lambda, t, x')\n",
    "\n",
    "#Poission Distribution\n",
    "posEq = Eq(P, exp(-lam*t)*(lam*t)**x/factorial(x))\n",
    "\n",
    "#Givens \n",
    "lam = 2.3\n",
    "x = 1 \n",
    "t = 1\n",
    "\n",
    "# lam = 2.5 \n",
    "\n",
    "#Substitute givens into equation\n",
    "subbed = posEq.subs([\n",
    "    (\"lambda\", lam),\n",
    "    (\"x\", x),\n",
    "    (\"t\", t)\n",
    "])\n",
    "\n",
    "subbed2 = posEq.subs([\n",
    "    (\"lambda\", lam),\n",
    "    (\"x\", 0),\n",
    "    (\"t\", t)\n",
    "])\n",
    "#Solve for P\n",
    "P1 = solve(subbed, P)[0]\n",
    "P2 = solve(subbed2, P)[0]\n",
    "\n",
    "print( 1-P1-P2 )\n",
    "1-P2"
   ]
  },
  {
   "cell_type": "code",
   "execution_count": 38,
   "metadata": {},
   "outputs": [
    {
     "name": "stdout",
     "output_type": "stream",
     "text": [
      "0.168031355741541\n"
     ]
    }
   ],
   "source": [
    "#Question 2\n",
    "#Inclusions are defects in poured metal caused by contaminants. The number of (large) inclusions in cast iron follows a Poisson distribution with a rate of 1.5 per cubic millimetre. What is the probability of exactly four inclusions in 2.0 cubic millimetres?  Please enter the answer to 3 decimal places.\n",
    "\n",
    "#Define all symbols\n",
    "P, lam, t, x = symbols('P, lambda, t, x')\n",
    "\n",
    "#Poission Distribution\n",
    "posEq = Eq(P, exp(-lam*t)*(lam*t)**x/factorial(x))\n",
    "\n",
    "#Givens\n",
    "lam = 1.5\n",
    "x = 4\n",
    "t = 2\n",
    "\n",
    "#Substitute givens into equation\n",
    "subbed = posEq.subs([\n",
    "    (\"lambda\", lam),\n",
    "    (\"x\", x),\n",
    "    (\"t\", t)\n",
    "])\n",
    "\n",
    "#Solve for P\n",
    "P1 = solve(subbed, P)[0]\n",
    "\n",
    "print(P1)\n"
   ]
  },
  {
   "cell_type": "code",
   "execution_count": 44,
   "metadata": {},
   "outputs": [
    {
     "data": {
      "text/latex": [
       "$\\displaystyle 3.07011345732539$"
      ],
      "text/plain": [
       "3.07011345732539"
      ]
     },
     "execution_count": 44,
     "metadata": {},
     "output_type": "execute_result"
    }
   ],
   "source": [
    "#Question 3\n",
    "#Inclusions are defects in poured metal caused by contaminants. The number of (large) inclusions in cast iron follows a Poisson distribution with a rate of 1.5 per cubic millimetre. What is the volume of material to inspect such that the probability of at least one inclusion is 0.99?  Please enter the answer to 2 decimal places.\n",
    "\n",
    "#Define all symbols\n",
    "P, lam, t, x = symbols('P, lambda, t, x')\n",
    "\n",
    "#Poission Distribution\n",
    "posEq = Eq(P, exp(-lam*t)*(lam*t)**x/factorial(x))\n",
    "\n",
    "#Givens\n",
    "lam = 1.5\n",
    "x = 0 \n",
    "P = 1-.99\n",
    "\n",
    "#Substitute givens into equation\n",
    "subbed = posEq.subs(((\"lambda\", lam),(\"x\", x),(\"P\", P)))\n",
    "\n",
    "\n",
    "solve(subbed, t)[0]"
   ]
  },
  {
   "cell_type": "code",
   "execution_count": 53,
   "metadata": {},
   "outputs": [
    {
     "data": {
      "text/latex": [
       "$\\displaystyle 0.0814495229457793$"
      ],
      "text/plain": [
       "0.0814495229457793"
      ]
     },
     "execution_count": 53,
     "metadata": {},
     "output_type": "execute_result"
    }
   ],
   "source": [
    "#Question 5\n",
    "#The distance between major cracks in a highway follows an exponential distribution with a mean of 15 miles. What is the probability that the first major crack occurs between 12 and 15 miles of the start of inspection? Please enter the answer to 3 decimal places.\n",
    "\n",
    "#Define all symbols\n",
    "P, lam, t, x = symbols('P, lambda, t, x')\n",
    "\n",
    "#Exponential Distribution\n",
    "expEq = Eq(P, 1-exp(-lam*t))\n",
    "\n",
    "#Givens\n",
    "lam = 1/15\n",
    "t = 15-12\n",
    "t1 = 12\n",
    "x = 0\n",
    "\n",
    "#Substitute givens into equation\n",
    "subbed = expEq.subs([(\"lambda\", lam),(\"t\", t)])\n",
    "subbed2 = expEq.subs([(\"lambda\", lam),(\"t\", t1)])\n",
    "\n",
    "#Solve for P\n",
    "P1 = solve(subbed, P)[0]\n",
    "P2 = solve(subbed2, P)[0]\n",
    "\n",
    "(1-P2)*P1"
   ]
  },
  {
   "cell_type": "code",
   "execution_count": 75,
   "metadata": {},
   "outputs": [
    {
     "name": "stdout",
     "output_type": "stream",
     "text": [
      "0.449328964117222\n",
      "\n"
     ]
    }
   ],
   "source": [
    "#Question 5\n",
    "#The distance between major cracks in a highway follows an exponential distribution with a mean of 15 miles. What is the probability that the first major crack occurs between 12 and 15 miles of the start of inspection? Please enter the answer to 3 decimal places.\n",
    "\n",
    "#Define all symbols\n",
    "P, lam, t, x = symbols('P, lambda, t, x')\n",
    "\n",
    "#Exponential Distribution\n",
    "expEq = Eq(P, 1-exp(-lam*t))\n",
    "\n",
    "#Givens\n",
    "lam = 1/15\n",
    "t1 = 12\n",
    "t2 = 15\n",
    "\n",
    "#Substitute givens into equation\n",
    "subbed = expEq.subs([(\"lambda\", lam),(\"t\", t1)])\n",
    "subbed2 = expEq.subs([(\"lambda\", lam),(\"t\", t2)])\n",
    "\n",
    "#Solve for P\n",
    "P1 = solve(subbed, P)[0]\n",
    "P2 = solve(subbed2, P)[0]\n",
    "\n",
    "print(1-P1)\n",
    "print()\n",
    "\n"
   ]
  },
  {
   "cell_type": "code",
   "execution_count": 77,
   "metadata": {},
   "outputs": [
    {
     "name": "stdout",
     "output_type": "stream",
     "text": [
      "0.846481724890614\n",
      "0.846481724890614\n"
     ]
    }
   ],
   "source": [
    "#Question 6\n",
    "#The distance between major cracks in a highway follows an exponential distribution with a mean of 30 miles. Given that there are no cracks in the first five miles inspected, what is the probability that there is no major crack in the next 5 mile stretch? Please enter the answer to 3 decimal places.\n",
    "\n",
    "#Define all symbols\n",
    "P, lam, t, x = symbols('P, lambda, t, x')\n",
    "\n",
    "#Exponential Distribution\n",
    "expEq = Eq(P, 1-exp(-lam*t))\n",
    "\n",
    "#Givens\n",
    "lam = 1/30\n",
    "t1 = 5\n",
    "t2 = 10\n",
    "\n",
    "#Substitute givens into equation\n",
    "subbed = expEq.subs([(\"lambda\", lam),(\"t\", t1)])\n",
    "subbed2 = expEq.subs([(\"lambda\", lam),(\"t\", t2)])\n",
    "\n",
    "#Solve for P\n",
    "P1 = solve(subbed, P)[0]\n",
    "P2 = solve(subbed2, P)[0]\n",
    "\n",
    "P1 = 1-P1\n",
    "P2 = 1-P2\n",
    "\n",
    "print(P1)\n",
    "print(P2/P1)\n"
   ]
  },
  {
   "cell_type": "code",
   "execution_count": 85,
   "metadata": {},
   "outputs": [
    {
     "name": "stdout",
     "output_type": "stream",
     "text": [
      "0.0820849986238988\n"
     ]
    }
   ],
   "source": [
    "#Question 7\n",
    "#The distance between major cracks in a highway follows an exponential distribution with a mean of 4 miles. What is the probability that there are no major cracks in two separate five-mile stretches? Please enter the answer to 3 decimal places.\n",
    "\n",
    "#Define all symbols\n",
    "P, lam, t, x = symbols('P, lambda, t, x')\n",
    "\n",
    "#Exponential Distribution\n",
    "expEq = Eq(P, 1-exp(-lam*t))\n",
    "\n",
    "#Givens\n",
    "lam = 1/4\n",
    "t1 = 5\n",
    "\n",
    "#Substitute givens into equation\n",
    "subbed = expEq.subs([(\"lambda\", lam),(\"t\", t1)])\n",
    "\n",
    "#Solve for P\n",
    "P1 = solve(subbed, P)[0]\n",
    "P1 = 1-P1\n",
    "\n",
    "print(P1**2)\n",
    "\n"
   ]
  },
  {
   "cell_type": "code",
   "execution_count": 88,
   "metadata": {},
   "outputs": [
    {
     "data": {
      "text/latex": [
       "$\\displaystyle 0.4925961379447$"
      ],
      "text/plain": [
       "0.492596137944700"
      ]
     },
     "execution_count": 88,
     "metadata": {},
     "output_type": "execute_result"
    }
   ],
   "source": [
    "#Question 8\n",
    "#Suppose that the lifetime of a component (in hours), X is modelled with a Weibull distribution with a = 1.2. and λ = 1/4000.\n",
    "\n",
    "#Define all symbols\n",
    "P, lam, t, x, a = symbols('P, lambda, t, x, a')\n",
    "\n",
    "#Weibull Distribution\n",
    "weiEq = Eq(P, 1-exp(-((lam*t)**a)))\n",
    "\n",
    "#Givens\n",
    "lam = 1/4000\n",
    "a = 1.2\n",
    "t = 3000\n",
    "\n",
    "#Substitute givens into equation\n",
    "subbed = weiEq.subs([(\"lambda\", lam),(\"a\", a),(\"t\", t)])\n",
    "\n",
    "#Solve for P\n",
    "P1 = solve(subbed, P)[0]\n",
    "\n",
    "1-P1"
   ]
  },
  {
   "cell_type": "code",
   "execution_count": 91,
   "metadata": {},
   "outputs": [
    {
     "data": {
      "text/latex": [
       "$\\displaystyle 0.755485300590018$"
      ],
      "text/plain": [
       "0.755485300590018"
      ]
     },
     "execution_count": 91,
     "metadata": {},
     "output_type": "execute_result"
    }
   ],
   "source": [
    "#Question 9\n",
    "#Suppose that the lifetime of a component (in hours), X is modelled with a Weibull distribution with a = 0.6. and λ = 1/4000. Determine the value for P(X > 5,446 | X > 3500) i.e Probability of X > 5,446 given tha X is greater than 3500. Please enter the answer to 3 decimal places.\n",
    "\n",
    "#Define all symbols\n",
    "P, lam, t, x, a = symbols('P, lambda, t, x, a')\n",
    "\n",
    "#Weibull Distribution\n",
    "weiEq = Eq(P, exp(-((lam*t)**a)))\n",
    "\n",
    "#Givens\n",
    "lam = 1/4000\n",
    "a = 0.6\n",
    "\n",
    "t1 = 5446\n",
    "t2 = 3500\n",
    "\n",
    "\n",
    "\n",
    "#Substitute givens into equation\n",
    "subbed = weiEq.subs([(\"lambda\", lam),(\"a\", a),(\"t\", t1)])\n",
    "subbed2 = weiEq.subs([(\"lambda\", lam),(\"a\", a),(\"t\", t2)])\n",
    "\n",
    "#Solve for P\n",
    "P1 = solve(subbed, P)[0]\n",
    "P2 = solve(subbed2, P)[0]\n",
    "\n",
    "P1/P2\n",
    "\n",
    "\n"
   ]
  },
  {
   "cell_type": "code",
   "execution_count": null,
   "metadata": {},
   "outputs": [],
   "source": []
  }
 ],
 "metadata": {
  "kernelspec": {
   "display_name": "Python 3.10.6 64-bit",
   "language": "python",
   "name": "python3"
  },
  "language_info": {
   "codemirror_mode": {
    "name": "ipython",
    "version": 3
   },
   "file_extension": ".py",
   "mimetype": "text/x-python",
   "name": "python",
   "nbconvert_exporter": "python",
   "pygments_lexer": "ipython3",
   "version": "3.10.6"
  },
  "orig_nbformat": 4,
  "vscode": {
   "interpreter": {
    "hash": "aee8b7b246df8f9039afb4144a1f6fd8d2ca17a180786b69acc140d282b71a49"
   }
  }
 },
 "nbformat": 4,
 "nbformat_minor": 2
}
