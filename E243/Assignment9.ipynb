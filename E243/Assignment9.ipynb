{
 "cells": [
  {
   "cell_type": "code",
   "execution_count": 2,
   "metadata": {},
   "outputs": [],
   "source": [
    "from sympy import *\n",
    "from scipy.stats import *\n",
    "import pyperclip\n",
    "import numpy as np"
   ]
  },
  {
   "cell_type": "code",
   "execution_count": 9,
   "metadata": {},
   "outputs": [
    {
     "data": {
      "text/latex": [
       "$\\displaystyle u = - Z stdErr + \\bar{x}$"
      ],
      "text/plain": [
       "Eq(u, -Z*stdErr + xbar)"
      ]
     },
     "execution_count": 9,
     "metadata": {},
     "output_type": "execute_result"
    }
   ],
   "source": [
    "u, xbar, Z, stdErr = symbols('u xbar Z stdErr')\n",
    "lowerBoundConfEq = Eq(u,xbar-Z*stdErr)\n",
    "upperBoundConfEq = Eq(u,xbar+Z*stdErr)\n",
    "lowerBoundConfEq\n"
   ]
  },
  {
   "cell_type": "code",
   "execution_count": 8,
   "metadata": {},
   "outputs": [
    {
     "name": "stdout",
     "output_type": "stream",
     "text": [
      "The value of zCalc is:  6.32455532033676\n",
      "1.6448536269514722\n",
      "The upper bound of 95% is:  7.56044516362667\n"
     ]
    }
   ],
   "source": [
    "#Question 1\n",
    "#The burning rates of two different solid-fuel propellants used in aircrew escape systems are being studied. It is known that both propellants have the same standard deviation of burning rate; σ1 = σ2 = 3 centimetres per second. Two random samples of n1 = n2 = 20 are tested; the sample mean burning rates are 24.2 and 24 centimetres per second respectively. If you want to test the hypothesis that the burning rates of the 2 propellants are different, what is the value of zcalc? In computing zcalc, use the hypothesis test with respect to .Please report your answer in 2 decimal places.\n",
    "\n",
    "stdDev1 = 3\n",
    "stdDev2 = 3\n",
    "n1 = 20\n",
    "n2 = 20\n",
    "xbar1 = 24.2\n",
    "xbar2 = 24\n",
    "\n",
    "xbar1 = 19\n",
    "xbar2 = 24\n",
    "\n",
    "xbar1 = 30\n",
    "xbar2 = 24\n",
    "\n",
    "# xbar1 = 18\n",
    "# xbar2 = 24\n",
    "\n",
    "# xbar1 = 18 \n",
    "# xbar2 = 24\n",
    "\n",
    "u_l = 0 \n",
    "\n",
    "stdErr = sqrt((stdDev1**2/n1)+(stdDev2**2/n2))\n",
    "xbar = xbar1-xbar2\n",
    "\n",
    "zCalc = solve(lowerBoundConfEq.subs({\"u\":u_l, \"xbar\":xbar, \"stdErr\":stdErr}), \"Z\")[0]\n",
    "# zCalc = xbar/stdErr\n",
    "print(\"The value of zCalc is: \",zCalc)\n",
    "\n",
    "\n",
    "#Construct Upperbound of 95%\n",
    "z = norm.ppf(0.95)\n",
    "print(z)\n",
    "subbed = upperBoundConfEq.subs({\"xbar\":xbar, \"Z\":z, \"stdErr\":stdErr})\n",
    "print(\"The upper bound of 95% is: \",solve(subbed, \"u\")[0])"
   ]
  },
  {
   "cell_type": "code",
   "execution_count": 77,
   "metadata": {},
   "outputs": [
    {
     "data": {
      "text/plain": [
       "1.959963984540054"
      ]
     },
     "execution_count": 77,
     "metadata": {},
     "output_type": "execute_result"
    }
   ],
   "source": [
    "z"
   ]
  },
  {
   "cell_type": "code",
   "execution_count": 13,
   "metadata": {},
   "outputs": [
    {
     "data": {
      "text/plain": [
       "0.022750131948179195"
      ]
     },
     "execution_count": 13,
     "metadata": {},
     "output_type": "execute_result"
    }
   ],
   "source": [
    "#Look up p of z\n",
    "p = norm.cdf(-2)\n",
    "p"
   ]
  },
  {
   "cell_type": "code",
   "execution_count": 51,
   "metadata": {},
   "outputs": [
    {
     "name": "stdout",
     "output_type": "stream",
     "text": [
      "The value of z is:  1.80808029451010\n",
      "The value of alpha is:  0.07059400462205012\n"
     ]
    }
   ],
   "source": [
    "#Question 3\n",
    "#A paper reported a (1-α) confidence interval for the proportion of voters is (0.561, 0.599) based on a sample of 2,111 people. However, the paper omitted the value of α. What is the value of α? Please report your answer upto 3 decimal places.\n",
    "#XBAR IS P!!!\n",
    "\n",
    "n = 2111\n",
    "n = 2206\n",
    "p1 = 0.561\n",
    "p2 = 0.599\n",
    "\n",
    "p = (p1+p2)/2\n",
    "du = p2-p\n",
    "stdError = sqrt((p*(1-p))/n)\n",
    "\n",
    "z = solve(lowerBoundConfEq.subs({\"u\":p-du, \"xbar\":p, \"stdErr\":stdError}), \"Z\")[0]\n",
    "print(\"The value of z is: \",z)\n",
    "z = float(z)\n",
    "alpha = (1-norm.cdf(z))*2\n",
    "print(\"The value of alpha is: \",alpha)\n",
    "\n"
   ]
  },
  {
   "cell_type": "code",
   "execution_count": 60,
   "metadata": {},
   "outputs": [
    {
     "name": "stdout",
     "output_type": "stream",
     "text": [
      "The value of zCalc is:  -7.28053252490186\n"
     ]
    }
   ],
   "source": [
    "#A paper reported a (1-α) confidence interval for the proportion of voters is (0.561, 0.599) based on a sample of 2,461 people. However, the paper omitted the value of α. If you want to test the hypothesis that the proportion of voters is greater than 65% at 1% significance, find zcalc value for this problem? Please report your answer to 2 decimal places.\n",
    "\n",
    "n = 2461\n",
    "p1 = 0.561\n",
    "p2 = 0.599\n",
    "\n",
    "uu = (p1+p2)/2\n",
    "p = 0.65\n",
    "stdError = sqrt((p*(1-p))/n)\n",
    "\n",
    "zCalc = solve(upperBoundConfEq.subs({\"u\":uu, \"xbar\":p, \"stdErr\":stdError}), \"Z\")[0]\n",
    "print(\"The value of zCalc is: \",zCalc)\n",
    "\n",
    "\n",
    "\n",
    "\n"
   ]
  },
  {
   "cell_type": "code",
   "execution_count": 9,
   "metadata": {},
   "outputs": [
    {
     "name": "stdout",
     "output_type": "stream",
     "text": [
      "The value of zCalc is:  1.49116289607641\n"
     ]
    }
   ],
   "source": [
    "#Question 6\n",
    "#Two different types of injection-moulding machines are used to form plastic parts. A part is considered defective if it has excessive shrinkage or is discoloured. Two random samples, each of size 300, are selected, and 15 defective parts are found in the sample from machine 1, and 8 defective parts are found in the sample from machine 2. Is it reasonable to conclude that both machines produce the same fraction of defective parts, using α = 0.05, find the value of zcalc? Please report your answer upto 2 decimal places.\n",
    "\n",
    "n = 300\n",
    "p1 = 15/n\n",
    "p2 = 8/n\n",
    "\n",
    "uu = p1\n",
    "xbar = p2\n",
    "stdError = sqrt((p1*(1-p1))/n+(p2*(1-p2))/n)\n",
    "\n",
    "#Sub into Upper Bound Eq\n",
    "subbed = upperBoundConfEq.subs({\"xbar\":xbar, \"stdErr\":stdError, \"u\":uu})\n",
    "zCalc = solve(subbed, \"Z\")[0]\n",
    "print(\"The value of zCalc is: \",zCalc)\n"
   ]
  },
  {
   "cell_type": "code",
   "execution_count": 29,
   "metadata": {},
   "outputs": [
    {
     "name": "stdout",
     "output_type": "stream",
     "text": [
      "The upper bound of 95% is:  0.310872305947974\n",
      "The lower bound of 95% is:  0.0891276940520258\n",
      "The population is between:  280.496430047960  and  80.4188714197780\n"
     ]
    }
   ],
   "source": [
    "#A biologist was hired to estimate the endangered Key Deer population. She captures\n",
    "#tags, and releases 25 deer. After 2 weeks, she inspects a random sample of 50\n",
    "#deer and finds that 10 of them have her tag,\n",
    "#Find a 95% confidence interval for the number of deer in the population?\n",
    "\n",
    "n = 50\n",
    "x = 10\n",
    "p = x/n\n",
    "\n",
    "stdErr = sqrt((p*(1-p))/n)\n",
    "z = norm.ppf(0.975)\n",
    "\n",
    "subbed = upperBoundConfEq.subs({\"xbar\":p, \"Z\":z, \"stdErr\":stdErr})\n",
    "upper = solve(subbed, \"u\")[0]\n",
    "print(\"The upper bound of 95% is: \",solve(subbed, \"u\")[0])\n",
    "\n",
    "subbed = lowerBoundConfEq.subs({\"xbar\":p, \"Z\":z, \"stdErr\":stdErr})\n",
    "lower = solve(subbed, \"u\")[0]\n",
    "print(\"The lower bound of 95% is: \",solve(subbed, \"u\")[0])\n",
    "\n",
    "X = 25\n",
    "print(\"The population is between: \",X/lower, \" and \", X/upper)\n",
    "\n",
    "\n"
   ]
  },
  {
   "cell_type": "code",
   "execution_count": 5,
   "metadata": {},
   "outputs": [
    {
     "name": "stdout",
     "output_type": "stream",
     "text": [
      "The lower bound of 99% is:  -0.00784902244382981\n",
      "The upper bound of 99% is:  0.0678490224438298\n"
     ]
    }
   ],
   "source": [
    "#Question 7\n",
    "#Two different types of injection-moulding machines are used to form plastic parts. A part is considered defective if it has excessive shrinkage or is discolored. Two random samples, each of size 300, are selected, and 17 defective parts are found in the sample from machine 1, and 8 defective parts are found in the sample from machine 2. Construct a 99% lower bound on the difference in the two fractions (p1-p2).  Please report your answer to 3 decimals.\n",
    "\n",
    "n = 300\n",
    "p1 = 17/n\n",
    "p2 = 8/n\n",
    "\n",
    "# p1 = 15/n\n",
    "\n",
    "p = p1-p2\n",
    "stdErr = sqrt((p1*(1-p1))/n+(p2*(1-p2))/n)\n",
    "\n",
    "CIPercent = .99\n",
    "z = abs( norm.ppf((1-CIPercent)) )\n",
    "\n",
    "subbed = lowerBoundConfEq.subs({\"xbar\":p, \"Z\":z, \"stdErr\":stdErr})\n",
    "print(\"The lower bound of 99% is: \",solve(subbed, \"u\")[0])\n",
    "\n",
    "subbed = upperBoundConfEq.subs({\"xbar\":p, \"Z\":z, \"stdErr\":stdErr})\n",
    "print(\"The upper bound of 99% is: \",solve(subbed, \"u\")[0])"
   ]
  },
  {
   "cell_type": "markdown",
   "metadata": {},
   "source": []
  },
  {
   "cell_type": "code",
   "execution_count": 31,
   "metadata": {},
   "outputs": [
    {
     "name": "stdout",
     "output_type": "stream",
     "text": [
      "The p-value is:  0.024997895148220484\n"
     ]
    }
   ],
   "source": [
    "#Question 8\n",
    "#What is the p-value for (z>1.96)?\n",
    "\n",
    "z = 1.96\n",
    "pValue = 1-norm.cdf(z)\n",
    "print(\"The p-value is: \",pValue)"
   ]
  },
  {
   "cell_type": "code",
   "execution_count": 26,
   "metadata": {},
   "outputs": [
    {
     "name": "stdout",
     "output_type": "stream",
     "text": [
      "The value of tCalc is:  0.897925941623549\n",
      "The p-value is:  0.189264466352967\n"
     ]
    }
   ],
   "source": [
    "#Question 9\n",
    "#Two suppliers manufacture a plastic gear used in a laser printer. The impact strength of these gears measured in foot-pounds is an important characteristic. A random sample of 10 gears from supplier 1 results in x1 = 290 and s1 = 12, and another random sample of 16 gears from the second supplier results in x2 = 311 and s2 = 22.\n",
    "\n",
    "#Do the data support the claim that the mean impact strength of gears from supplier 2 is at least 10 foot-pounds higher than that of supplier 1, find the tcalc value? Please report your answer upto 3 decimal places.\n",
    "\n",
    "n1 = 10\n",
    "n2 = 16\n",
    "s1 = 12\n",
    "s2 = 22\n",
    "\n",
    "x2 = 307\n",
    "x1 = 290\n",
    "\n",
    "x2 = 301 \n",
    "\n",
    "x1 = 290\n",
    "x2 = 294\n",
    "\n",
    "\n",
    "stdErr = sqrt((s1**2)/n1+(s2**2)/n2)\n",
    "xbar = x2-x1\n",
    "du = 10\n",
    "tCalc = solve(upperBoundConfEq.subs({\"xbar\":xbar, \"stdErr\":stdErr, \"u\":du}), \"Z\")[0]\n",
    "print(\"The value of tCalc is: \",tCalc)\n",
    "\n",
    "\n",
    "DF = (stdErr**4)/(((s1**2)/n1)**2/(n1-1)+((s2**2)/n2)**2/(n2-1)) \n",
    "#Round \n",
    "DF = int(DF)\n",
    "#Lookup P \n",
    "pValue = 1-t.cdf(float(tCalc), DF)\n",
    "print(\"The p-value is: \",pValue)"
   ]
  },
  {
   "cell_type": "code",
   "execution_count": 27,
   "metadata": {},
   "outputs": [
    {
     "name": "stdout",
     "output_type": "stream",
     "text": [
      "                                                            \n",
      "                                                            \n",
      "                                                            \n",
      "                erEnginee           gineerEng               \n",
      "            ineerEngineerEngi   rEngineerEngineer           \n",
      "          gineerEngineerEngineerEngineerEngineerEng         \n",
      "         gineerEngineerEngineerEngineerEngineerEngin        \n",
      "        gineerEngineerEngineerEngineerEngineerEnginee       \n",
      "        ineerEngineerEngineerEngineerEngineerEngineer       \n",
      "        neerEngineerEngineerEngineerEngineerEngineerE       \n",
      "        eerEngineerEngineerEngineerEngineerEngineerEn       \n",
      "        erEngineerEngineerEngineerEngineerEngineerEng       \n",
      "        rEngineerEngineerEngineerEngineerEngineerEngi       \n",
      "         ngineerEngineerEngineerEngineerEngineerEngi        \n",
      "          ineerEngineerEngineerEngineerEngineerEngi         \n",
      "          neerEngineerEngineerEngineerEngineerEngin         \n",
      "            rEngineerEngineerEngineerEngineerEngi           \n",
      "             ngineerEngineerEngineerEngineerEngi            \n",
      "              ineerEngineerEngineerEngineerEngi             \n",
      "                erEngineerEngineerEngineerEng               \n",
      "                  ngineerEngineerEngineerEn                 \n",
      "                    neerEngineerEngineerE                   \n",
      "                       EngineerEnginee                      \n",
      "                          neerEngin                         \n",
      "                             Eng                            \n",
      "                              g                             \n",
      "                                                            \n",
      "                                                            \n",
      "                                                            \n",
      "                                                            \n"
     ]
    }
   ],
   "source": [
    "print('\\n'.join\n",
    " ([''.join\n",
    "   ([('Engineer'[(x-y)%8 ]\n",
    "     if((x*0.05)**2+(y*0.1)**2-1)\n",
    "      **3-(x*0.05)**2*(y*0.1)\n",
    "       **3<=0 else' ')\n",
    "        for x in range(-30,30)])\n",
    "         for y in range(15,-15,-1)]))\n"
   ]
  },
  {
   "cell_type": "code",
   "execution_count": 51,
   "metadata": {},
   "outputs": [
    {
     "name": "stdout",
     "output_type": "stream",
     "text": [
      "The lower bound of 95% is:  9.17709424891759\n"
     ]
    }
   ],
   "source": [
    "#Two suppliers manufacture a plastic gear used in a laser printer. The impact strength of these gears measured in foot-pounds is an important characteristic. A random sample of 10 gears from supplier 1 results in x1 = 290 and s1 = 12, and another random sample of 16 gears from the second supplier results in x2 = 313 and s2 = 22. Construct a confidence interval estimate for the difference in mean impact strength lower value of the 95% CI of u2-u1 Please report your answer to 2 decimals.\n",
    "\n",
    "n1 = 10\n",
    "n2 = 16\n",
    "x1 = 290\n",
    "s1 = 12\n",
    "x2 = 313\n",
    "s2 = 22\n",
    "\n",
    "# x2 = 321\n",
    "\n",
    "stdErr = sqrt((s1**2)/n1+(s2**2)/n2)\n",
    "xbar = x2-x1\n",
    "DF = int((stdErr**4)/(((s1**2)/n1)**2/(n1-1)+((s2**2)/n2)**2/(n2-1)))\n",
    "z = t.ppf(0.975, DF)\n",
    "\n",
    "subbed = lowerBoundConfEq.subs({\"xbar\":xbar, \"Z\":z, \"stdErr\":stdErr})\n",
    "print(\"The lower bound of 95% is: \",solve(subbed, \"u\")[0])\n"
   ]
  },
  {
   "cell_type": "code",
   "execution_count": 54,
   "metadata": {},
   "outputs": [
    {
     "name": "stdout",
     "output_type": "stream",
     "text": [
      "The upper bound of 95% is:  41.8229057510824\n"
     ]
    }
   ],
   "source": [
    "#Question 12 \n",
    "#Two suppliers manufacture a plastic gear used in a laser printer. The impact strength of these gears measured in foot-pounds is an important characteristic. A random sample of 10 gears from supplier 1 results in x1 = 290 and s1 = 12, and another random sample of 16 gears from the second supplier results in x2 = 318 and s2 = 22. Construct a confidence interval estimate for the difference in mean impact strength upper value of the 95% CI of ? Please report your answer upto 2 decimal places.\n",
    "\n",
    "n1 = 10\n",
    "n2 = 16\n",
    "x1 = 290\n",
    "s1 = 12\n",
    "x2 = 318\n",
    "s2 = 22\n",
    "\n",
    "stdErr = sqrt((s1**2)/n1+(s2**2)/n2)\n",
    "xbar = x2-x1\n",
    "DF = int((stdErr**4)/(((s1**2)/n1)**2/(n1-1)+((s2**2)/n2)**2/(n2-1)))\n",
    "z = t.ppf(0.975, DF)\n",
    "\n",
    "subbed = upperBoundConfEq.subs({\"xbar\":xbar, \"Z\":z, \"stdErr\":stdErr})\n",
    "print(\"The upper bound of 95% is: \",solve(subbed, \"u\")[0])\n"
   ]
  },
  {
   "cell_type": "code",
   "execution_count": 59,
   "metadata": {},
   "outputs": [
    {
     "name": "stdout",
     "output_type": "stream",
     "text": [
      "The t-value is:  2.4998667394943976\n"
     ]
    }
   ],
   "source": [
    "#What is t-value for Degree of freedom=23 and α= 0.01?\n",
    "DF = 23\n",
    "alpha = 0.01\n",
    "tValue = t.ppf(1-alpha, DF)\n",
    "print(\"The t-value is: \",tValue)\n",
    "pyperclip.copy(str(tValue))"
   ]
  },
  {
   "cell_type": "code",
   "execution_count": 68,
   "metadata": {},
   "outputs": [
    {
     "name": "stdout",
     "output_type": "stream",
     "text": [
      "The value of tCalc is:  77.7217566878495\n",
      "The p-value is:  0.0\n"
     ]
    }
   ],
   "source": [
    "#Question 14 \n",
    "#An article in Technometrics (1999, Vol. 41, pp. 202–211) studied the capability of a gauge by measuring the weights of two sheets of paper. The data follow.\n",
    "#observations1=(3.481,3.448,3.485,3.475,3.472,3.477,3.472,3.464,3.472,3.470,3.470,3.48,3.477,3.473,3.474)\n",
    "#observations2=(3.258,3.254,3.256,3.249,3.241,3.254,3.247,3.257,3.239,3.250,3.258,3.239,3.245,3.240,3.254)\n",
    "#Test the hypothesis that the mean weight of the two sheets is equal ()against the alternative that it is not (and assume equal variances). Find the t-stat to 3 decimal places. \n",
    "\n",
    "data1 = [3.481,3.448,3.485,3.475,3.472,3.477,3.472,3.464,3.472,3.470,3.470,3.48,3.477,3.473,3.474]\n",
    "data2 = [3.258,3.254,3.256,3.249,3.241,3.254,3.247,3.257,3.239,3.250,3.258,3.239,3.245,3.240,3.254]\n",
    "\n",
    "s1 = np.std(data1, ddof=1)\n",
    "s2 = np.std(data2, ddof=1)\n",
    "n1 = len(data1)\n",
    "n2 = len(data2)\n",
    "x1 = np.mean(data1)\n",
    "x2 = np.mean(data2)\n",
    "\n",
    "stdErr = sqrt((s1**2)/n1+(s2**2)/n2)\n",
    "xbar = x2-x1\n",
    "u = 0\n",
    "\n",
    "tCalc = solve(upperBoundConfEq.subs({\"xbar\":xbar, \"stdErr\":stdErr, \"u\":u}), \"Z\")[0]\n",
    "print(\"The value of tCalc is: \",tCalc)\n",
    "\n",
    "DF = int((stdErr**4)/(((s1**2)/n1)**2/(n1-1)+((s2**2)/n2)**2/(n2-1)))\n",
    "pValue = 1-t.cdf(float(tCalc), DF)\n",
    "print(\"The p-value is: \",pValue)\n"
   ]
  }
 ],
 "metadata": {
  "kernelspec": {
   "display_name": "Python 3.8.3 64-bit",
   "language": "python",
   "name": "python3"
  },
  "language_info": {
   "codemirror_mode": {
    "name": "ipython",
    "version": 3
   },
   "file_extension": ".py",
   "mimetype": "text/x-python",
   "name": "python",
   "nbconvert_exporter": "python",
   "pygments_lexer": "ipython3",
   "version": "3.8.3"
  },
  "orig_nbformat": 4,
  "vscode": {
   "interpreter": {
    "hash": "1f59d50658d4cd97c33559e64c64cdabcc2031b5c15f33137a9aa45101c8cb06"
   }
  }
 },
 "nbformat": 4,
 "nbformat_minor": 2
}
