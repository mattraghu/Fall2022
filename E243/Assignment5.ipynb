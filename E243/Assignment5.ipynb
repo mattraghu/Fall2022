{
 "cells": [
  {
   "cell_type": "code",
   "execution_count": 1,
   "metadata": {},
   "outputs": [],
   "source": [
    "from sympy import *\n",
    "from scipy.stats import *"
   ]
  },
  {
   "cell_type": "code",
   "execution_count": 3,
   "metadata": {},
   "outputs": [
    {
     "data": {
      "text/plain": [
       "0.5442998237655273"
      ]
     },
     "execution_count": 3,
     "metadata": {},
     "output_type": "execute_result"
    }
   ],
   "source": [
    "#Samples of rejuvenated mitochondria are mutated (defective) with a probability 0.15. Find the probability that at most one sample is mutated in 10 samples. Report answer to 3 decimal places.\n",
    "\n",
    "\n",
    "# 1. Define the variables\n",
    "n = symbols(\"n\") #Number of Samples\n",
    "p = symbols(\"p\") #Probability of Mutation\n",
    "k = symbols(\"k\") #Number of Mutated Samples\n",
    "\n",
    "#Givens \n",
    "n = 10\n",
    "p = 0.15\n",
    "\n",
    "# 2. Define the equation\n",
    "ans = binom.pmf(1,n,p) + binom.pmf(0,n,p)\n",
    "\n",
    "ans\n"
   ]
  },
  {
   "cell_type": "code",
   "execution_count": 5,
   "metadata": {},
   "outputs": [
    {
     "data": {
      "text/plain": [
       "0.3200770418050001"
      ]
     },
     "execution_count": 5,
     "metadata": {},
     "output_type": "execute_result"
    }
   ],
   "source": [
    "#Samples of rejuvenated mitochondria are mutated (defective) with probability 0.19. Find the probability you need to examine at least 6 samples to find 2 samples containing mutations. Report answer to 3 decimal places.\n",
    "\n",
    "# 1. Define the variables\n",
    "n = symbols(\"n\") #Number of Samples\n",
    "p = symbols(\"p\") #Probability of Mutation\n",
    "k = symbols(\"k\") #Number of Mutated Samples\n",
    "\n",
    "#Givens\n",
    "n = 6\n",
    "p = 0.19\n",
    "k = 2\n",
    "\n",
    "# 2. Define the equation\n",
    "ans = 1 - binom.cdf(k-1,n,p)\n",
    "\n",
    "ans"
   ]
  },
  {
   "cell_type": "code",
   "execution_count": null,
   "metadata": {},
   "outputs": [],
   "source": []
  }
 ],
 "metadata": {
  "kernelspec": {
   "display_name": "Python 3.10.6 64-bit",
   "language": "python",
   "name": "python3"
  },
  "language_info": {
   "codemirror_mode": {
    "name": "ipython",
    "version": 3
   },
   "file_extension": ".py",
   "mimetype": "text/x-python",
   "name": "python",
   "nbconvert_exporter": "python",
   "pygments_lexer": "ipython3",
   "version": "3.10.6"
  },
  "orig_nbformat": 4,
  "vscode": {
   "interpreter": {
    "hash": "aee8b7b246df8f9039afb4144a1f6fd8d2ca17a180786b69acc140d282b71a49"
   }
  }
 },
 "nbformat": 4,
 "nbformat_minor": 2
}
