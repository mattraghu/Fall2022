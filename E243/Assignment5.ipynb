{
 "cells": [
  {
   "cell_type": "code",
   "execution_count": 2,
   "metadata": {},
   "outputs": [],
   "source": [
    "from sympy import *\n",
    "from scipy.stats import *"
   ]
  },
  {
   "cell_type": "code",
   "execution_count": 2,
   "metadata": {},
   "outputs": [
    {
     "data": {
      "text/plain": [
       "0.6972092433778958"
      ]
     },
     "execution_count": 2,
     "metadata": {},
     "output_type": "execute_result"
    }
   ],
   "source": [
    "#Samples of rejuvenated mitochondria are mutated (defective) with a probability 0.15. Find the probability that at most one sample is mutated in 10 samples. Report answer to 3 decimal places.\n",
    "\n",
    "\n",
    "# 1. Define the variables\n",
    "n = symbols(\"n\") #Number of Samples\n",
    "p = symbols(\"p\") #Probability of Mutation\n",
    "k = symbols(\"k\") #Number of Mutated Samples\n",
    "\n",
    "#Givens \n",
    "n = 10\n",
    "p = 0.11\n",
    "\n",
    "# 2. Define the equation\n",
    "ans = binom.pmf(1,n,p) + binom.pmf(0,n,p)\n",
    "\n",
    "ans\n"
   ]
  },
  {
   "cell_type": "code",
   "execution_count": 4,
   "metadata": {},
   "outputs": [
    {
     "data": {
      "text/plain": [
       "0.7576222896"
      ]
     },
     "execution_count": 4,
     "metadata": {},
     "output_type": "execute_result"
    }
   ],
   "source": [
    "#Samples of rejuvenated mitochondria are mutated (defective) with probability 0.19. Find the probability you need to examine at least 6 samples to find 2 samples containing mutations. Report answer to 3 decimal places.\n",
    "\n",
    "# 1. Define the variables\n",
    "n = symbols(\"n\") #Number of Samples\n",
    "p = symbols(\"p\") #Probability of Mutation\n",
    "k = symbols(\"k\") #Number of Mutated Samples\n",
    "\n",
    "#Givens\n",
    "\n",
    "n = 5\n",
    "p = 0.19\n",
    "\n",
    "# 2. Define the equation\n",
    "ans = binom.pmf(1,n,p) + binom.pmf(0,n,p)\n",
    "\n",
    "ans"
   ]
  },
  {
   "cell_type": "code",
   "execution_count": 14,
   "metadata": {},
   "outputs": [
    {
     "data": {
      "text/plain": [
       "0.14645081244897776"
      ]
     },
     "execution_count": 14,
     "metadata": {},
     "output_type": "execute_result"
    }
   ],
   "source": [
    "#Question 3 \n",
    "\n",
    "# total = 15+60+92\n",
    "# p266 = 15/total\n",
    "# p271 = 60/total\n",
    "# p274 = 92/total\n",
    "\n",
    "total = 15+60+92\n",
    "p266 = 15/total\n",
    "p271 = 60/total\n",
    "p274 = 92/total\n",
    "\n",
    "n = 10\n",
    "\n",
    "p1 = binom.pmf(5,n,p271)\n",
    "p2 = 1 - ( binom.pmf(3,n,p274) + binom.pmf(2,n,p274) + binom.pmf(1,n,p274) + binom.pmf(0,n,p274) )\n",
    "\n",
    "p1*p2"
   ]
  },
  {
   "cell_type": "code",
   "execution_count": 17,
   "metadata": {},
   "outputs": [],
   "source": [
    "total = 15+60+92\n",
    "p266 = 15/total\n",
    "p271 = 60/total\n",
    "p274 = 92/total\n"
   ]
  },
  {
   "cell_type": "code",
   "execution_count": 19,
   "metadata": {},
   "outputs": [
    {
     "data": {
      "text/plain": [
       "0.13895041933240726"
      ]
     },
     "execution_count": 19,
     "metadata": {},
     "output_type": "execute_result"
    }
   ],
   "source": [
    "#Q3.2 \n",
    "rv = multinomial.pmf(\n",
    "    p = [p271,p274,p266],\n",
    "    n = 10,\n",
    "    x = [5,4,1]\n",
    ")\n",
    "\n",
    "rv += multinomial.pmf(\n",
    "    p = [p271,p274,p266],\n",
    "    n = 10,\n",
    "    x = [5,5,0]\n",
    ")\n",
    "\n",
    "rv"
   ]
  },
  {
   "cell_type": "code",
   "execution_count": 24,
   "metadata": {},
   "outputs": [
    {
     "data": {
      "text/latex": [
       "$\\displaystyle 0.1813272976479$"
      ],
      "text/plain": [
       "0.181327297647900"
      ]
     },
     "execution_count": 24,
     "metadata": {},
     "output_type": "execute_result"
    }
   ],
   "source": [
    "#Equations\n",
    "# 1. Define the variables\n",
    "n = symbols(\"n\") #Number of Trials\n",
    "p = symbols(\"p\") #Probability of Success / Trial\n",
    "k = symbols(\"k\") #Number of Successes\n",
    "\n",
    "P = symbols(\"P\")\n",
    "\n",
    "NegativeBinomailEq = Eq(P,binomial(n-1,k-1)*p**k*(1-p)**(n-k))\n",
    "\n",
    "#Givens\n",
    "n = 4\n",
    "k = 2\n",
    "p = (11+60)/(11+60+92)\n",
    "\n",
    "#Substitute\n",
    "subbed = NegativeBinomailEq.subs({\n",
    "    \"n\" : n,\n",
    "    \"k\" : k,\n",
    "    \"p\" : p\n",
    "})\n",
    "\n",
    "P = solve(subbed,P)[0]\n",
    "P"
   ]
  },
  {
   "cell_type": "code",
   "execution_count": 37,
   "metadata": {},
   "outputs": [
    {
     "data": {
      "text/plain": [
       "0.18132729764789976"
      ]
     },
     "execution_count": 37,
     "metadata": {},
     "output_type": "execute_result"
    }
   ],
   "source": [
    "binom.pmf(\n",
    "    k = k-1,\n",
    "    n = n-1,\n",
    "    p = p,\n",
    ")*p"
   ]
  },
  {
   "cell_type": "code",
   "execution_count": 54,
   "metadata": {},
   "outputs": [
    {
     "data": {
      "text/plain": [
       "0.4383749236718908"
      ]
     },
     "execution_count": 54,
     "metadata": {},
     "output_type": "execute_result"
    }
   ],
   "source": [
    "#Q6\n",
    "\n",
    "total = 18+60+92\n",
    "p266 = 18/total\n",
    "p271 = 60/total\n",
    "p274 = 92/total\n",
    "\n",
    "# total = 19+60+92\n",
    "# p266 = 19/total\n",
    "# p271 = 60/total\n",
    "# p274 = 92/total\n",
    "\n",
    "k = 2\n",
    "n = 3\n",
    "p = p271+p266\n",
    "\n",
    "k = 1\n",
    "p2 = binom.pmf(\n",
    "    k = k,\n",
    "    n = n,\n",
    "    p = p,\n",
    ")\n",
    "\n",
    "k = 0\n",
    "p3 = binom.pmf(\n",
    "    k = k,\n",
    "    n = n,\n",
    "    p = p,\n",
    ")\n",
    "\n",
    "\n",
    "1-p2-p3\n"
   ]
  },
  {
   "cell_type": "code",
   "execution_count": 64,
   "metadata": {},
   "outputs": [
    {
     "data": {
      "text/plain": [
       "0.007344402537563188"
      ]
     },
     "execution_count": 64,
     "metadata": {},
     "output_type": "execute_result"
    }
   ],
   "source": [
    "#Question 8 \n",
    "#Create Symbols\n",
    "n = symbols(\"n\") #Number of Trials\n",
    "p = symbols(\"p\") #Probability of Success / Trial\n",
    "k = symbols(\"k\") #Number of Successes\n",
    "P = symbols(\"P\")\n",
    "\n",
    "binomialFunction = Eq(P,binomial(n,k)*p**k*(1-p)**(n-k))\n",
    "\n",
    "#Givens\n",
    "n = 200\n",
    "k = 0\n",
    "p = 1/binomial(19,6)\n",
    "\n",
    "#Substitute\n",
    "subbed = binomialFunction.subs({\n",
    "    \"n\" : n,\n",
    "    \"k\" : k,\n",
    "    \"p\" : p\n",
    "})\n",
    "\n",
    "P = solve(subbed,P)[0]\n",
    "1-float(P)\n",
    "\n",
    "\n",
    "\n"
   ]
  },
  {
   "cell_type": "code",
   "execution_count": 43,
   "metadata": {},
   "outputs": [
    {
     "data": {
      "text/plain": [
       "0.0"
      ]
     },
     "execution_count": 43,
     "metadata": {},
     "output_type": "execute_result"
    }
   ],
   "source": [
    "p3"
   ]
  },
  {
   "cell_type": "code",
   "execution_count": 66,
   "metadata": {},
   "outputs": [
    {
     "data": {
      "text/plain": [
       "0.0"
      ]
     },
     "execution_count": 66,
     "metadata": {},
     "output_type": "execute_result"
    }
   ],
   "source": [
    "rv = multinomial.pmf(\n",
    "    n = 7,\n",
    "    x = [4,2,1],\n",
    "    p = [.5,.1,.1,]\n",
    ")\n",
    "rv\n"
   ]
  },
  {
   "cell_type": "code",
   "execution_count": 5,
   "metadata": {},
   "outputs": [
    {
     "data": {
      "text/plain": [
       "0.1312500000000001"
      ]
     },
     "execution_count": 5,
     "metadata": {},
     "output_type": "execute_result"
    }
   ],
   "source": [
    "#In a student body, 50% use Google Chrome, 10% use Internet Explorer, 10% Firefox, 5% Mozilla, and the rest use Safari. In a group of 5 students, what is the probability exactly one student is using Internet Explorer and at least 3 students are using Chrome? Report answer to 3 decimals.\n",
    "\n",
    "rv = multinomial.pmf(\n",
    "    n = 5,\n",
    "    x = [3,1,1],\n",
    "    p = [.5,.1,1-.5-.1]\n",
    ")\n",
    "rv += multinomial.pmf(\n",
    "    n = 5,\n",
    "    x = [4,1,0],\n",
    "    p = [.5,.1,1-.5-.1]\n",
    ")\n",
    "\n",
    "rv"
   ]
  },
  {
   "cell_type": "code",
   "execution_count": 8,
   "metadata": {},
   "outputs": [
    {
     "data": {
      "text/plain": [
       "0.046875000000000035"
      ]
     },
     "execution_count": 8,
     "metadata": {},
     "output_type": "execute_result"
    }
   ],
   "source": [
    "#Q10\n",
    "#Among a student group 54% use Google Chrome, 20% Internet Explorer, 10% Firefox, 5% Mozilla, and the rest use Safari. What is the probability that you need to pick 7 students to find 2 students using Google Chrome? Report answer to 3 decimals.\n",
    "\n",
    "rv = multinomial.pmf(\n",
    "    n = 6,\n",
    "    x = [1,5],\n",
    "    p = [.5,1-.5]\n",
    ")\n",
    "\n",
    "rv*.5\n",
    "\n",
    "\n"
   ]
  },
  {
   "cell_type": "code",
   "execution_count": null,
   "metadata": {},
   "outputs": [],
   "source": [
    "#Q11\n",
    "#What is the probability of picking 3 white balls in 5 picks from a bag containing 6 white balls and 4 red balls? Assume you do NOT replace the ball after each pick.\n"
   ]
  }
 ],
 "metadata": {
  "kernelspec": {
   "display_name": "Python 3.10.6 64-bit",
   "language": "python",
   "name": "python3"
  },
  "language_info": {
   "codemirror_mode": {
    "name": "ipython",
    "version": 3
   },
   "file_extension": ".py",
   "mimetype": "text/x-python",
   "name": "python",
   "nbconvert_exporter": "python",
   "pygments_lexer": "ipython3",
   "version": "3.10.6"
  },
  "orig_nbformat": 4,
  "vscode": {
   "interpreter": {
    "hash": "aee8b7b246df8f9039afb4144a1f6fd8d2ca17a180786b69acc140d282b71a49"
   }
  }
 },
 "nbformat": 4,
 "nbformat_minor": 2
}
