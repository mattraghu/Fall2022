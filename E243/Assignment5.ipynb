{
 "cells": [
  {
   "cell_type": "code",
   "execution_count": 45,
   "metadata": {},
   "outputs": [],
   "source": [
    "from sympy import *\n",
    "from scipy.stats import *"
   ]
  },
  {
   "cell_type": "code",
   "execution_count": 2,
   "metadata": {},
   "outputs": [
    {
     "data": {
      "text/plain": [
       "0.6972092433778958"
      ]
     },
     "execution_count": 2,
     "metadata": {},
     "output_type": "execute_result"
    }
   ],
   "source": [
    "#Samples of rejuvenated mitochondria are mutated (defective) with a probability 0.15. Find the probability that at most one sample is mutated in 10 samples. Report answer to 3 decimal places.\n",
    "\n",
    "\n",
    "# 1. Define the variables\n",
    "n = symbols(\"n\") #Number of Samples\n",
    "p = symbols(\"p\") #Probability of Mutation\n",
    "k = symbols(\"k\") #Number of Mutated Samples\n",
    "\n",
    "#Givens \n",
    "n = 10\n",
    "p = 0.11\n",
    "\n",
    "# 2. Define the equation\n",
    "ans = binom.pmf(1,n,p) + binom.pmf(0,n,p)\n",
    "\n",
    "ans\n"
   ]
  },
  {
   "cell_type": "code",
   "execution_count": 4,
   "metadata": {},
   "outputs": [
    {
     "data": {
      "text/plain": [
       "0.7576222896"
      ]
     },
     "execution_count": 4,
     "metadata": {},
     "output_type": "execute_result"
    }
   ],
   "source": [
    "#Samples of rejuvenated mitochondria are mutated (defective) with probability 0.19. Find the probability you need to examine at least 6 samples to find 2 samples containing mutations. Report answer to 3 decimal places.\n",
    "\n",
    "# 1. Define the variables\n",
    "n = symbols(\"n\") #Number of Samples\n",
    "p = symbols(\"p\") #Probability of Mutation\n",
    "k = symbols(\"k\") #Number of Mutated Samples\n",
    "\n",
    "#Givens\n",
    "\n",
    "n = 5\n",
    "p = 0.19\n",
    "\n",
    "# 2. Define the equation\n",
    "ans = binom.pmf(1,n,p) + binom.pmf(0,n,p)\n",
    "\n",
    "ans"
   ]
  },
  {
   "cell_type": "code",
   "execution_count": 14,
   "metadata": {},
   "outputs": [
    {
     "data": {
      "text/plain": [
       "0.14645081244897776"
      ]
     },
     "execution_count": 14,
     "metadata": {},
     "output_type": "execute_result"
    }
   ],
   "source": [
    "#Question 3 \n",
    "\n",
    "# total = 15+60+92\n",
    "# p266 = 15/total\n",
    "# p271 = 60/total\n",
    "# p274 = 92/total\n",
    "\n",
    "total = 15+60+92\n",
    "p266 = 15/total\n",
    "p271 = 60/total\n",
    "p274 = 92/total\n",
    "\n",
    "n = 10\n",
    "\n",
    "p1 = binom.pmf(5,n,p271)\n",
    "p2 = 1 - ( binom.pmf(3,n,p274) + binom.pmf(2,n,p274) + binom.pmf(1,n,p274) + binom.pmf(0,n,p274) )\n",
    "\n",
    "p1*p2"
   ]
  },
  {
   "cell_type": "code",
   "execution_count": 35,
   "metadata": {},
   "outputs": [
    {
     "data": {
      "text/plain": [
       "0.8991885086693975"
      ]
     },
     "execution_count": 35,
     "metadata": {},
     "output_type": "execute_result"
    }
   ],
   "source": [
    "total = 19+60+92\n",
    "p266 = 11/total\n",
    "p271 = 60/total\n",
    "p274 = 92/total\n",
    "\n",
    "p = 1-nbinom.pmf(4,2,p266+p271)\n",
    "p"
   ]
  },
  {
   "cell_type": "code",
   "execution_count": 24,
   "metadata": {},
   "outputs": [
    {
     "data": {
      "text/plain": [
       "0.4093567251461988"
      ]
     },
     "execution_count": 24,
     "metadata": {},
     "output_type": "execute_result"
    }
   ],
   "source": [
    "p266+p271"
   ]
  },
  {
   "cell_type": "code",
   "execution_count": 32,
   "metadata": {},
   "outputs": [
    {
     "data": {
      "text/latex": [
       "$\\displaystyle 0.8186727023521$"
      ],
      "text/plain": [
       "0.818672702352100"
      ]
     },
     "execution_count": 32,
     "metadata": {},
     "output_type": "execute_result"
    }
   ],
   "source": [
    "#Equations\n",
    "# 1. Define the variables\n",
    "n = symbols(\"n\") #Number of Trials\n",
    "p = symbols(\"p\") #Probability of Success / Trial\n",
    "k = symbols(\"k\") #Number of Successes\n",
    "\n",
    "P = symbols(\"P\")\n",
    "\n",
    "NegativeBinomailEq = Eq(P,binomial(n-1,k-1)*p**k*(1-p)**(n-k))\n",
    "\n",
    "#Givens\n",
    "n = 4\n",
    "k = 2\n",
    "p = (11+60)/(11+60+92)\n",
    "\n",
    "#Substitute\n",
    "subbed = NegativeBinomailEq.subs({\n",
    "    \"n\" : n,\n",
    "    \"k\" : k,\n",
    "    \"p\" : p\n",
    "})\n",
    "\n",
    "P = solve(subbed,P)[0]\n",
    "1-P"
   ]
  },
  {
   "cell_type": "code",
   "execution_count": 64,
   "metadata": {},
   "outputs": [
    {
     "data": {
      "text/plain": [
       "0.007344402537563188"
      ]
     },
     "execution_count": 64,
     "metadata": {},
     "output_type": "execute_result"
    }
   ],
   "source": [
    "#Question 8 \n",
    "#Create Symbols\n",
    "n = symbols(\"n\") #Number of Trials\n",
    "p = symbols(\"p\") #Probability of Success / Trial\n",
    "k = symbols(\"k\") #Number of Successes\n",
    "P = symbols(\"P\")\n",
    "\n",
    "binomialFunction = Eq(P,binomial(n,k)*p**k*(1-p)**(n-k))\n",
    "\n",
    "#Givens\n",
    "n = 200\n",
    "k = 0\n",
    "p = 1/binomial(19,6)\n",
    "\n",
    "#Substitute\n",
    "subbed = binomialFunction.subs({\n",
    "    \"n\" : n,\n",
    "    \"k\" : k,\n",
    "    \"p\" : p\n",
    "})\n",
    "\n",
    "P = solve(subbed,P)[0]\n",
    "1-float(P)\n",
    "\n",
    "\n",
    "\n"
   ]
  },
  {
   "cell_type": "code",
   "execution_count": 66,
   "metadata": {},
   "outputs": [
    {
     "data": {
      "text/plain": [
       "0.0"
      ]
     },
     "execution_count": 66,
     "metadata": {},
     "output_type": "execute_result"
    }
   ],
   "source": [
    "rv = multinomial.pmf(\n",
    "    n = 7,\n",
    "    x = [4,2,1],\n",
    "    p = [.5,.4,.1]\n",
    ")\n",
    "rv\n"
   ]
  },
  {
   "cell_type": "code",
   "execution_count": null,
   "metadata": {},
   "outputs": [],
   "source": []
  }
 ],
 "metadata": {
  "kernelspec": {
   "display_name": "Python 3.10.6 64-bit",
   "language": "python",
   "name": "python3"
  },
  "language_info": {
   "codemirror_mode": {
    "name": "ipython",
    "version": 3
   },
   "file_extension": ".py",
   "mimetype": "text/x-python",
   "name": "python",
   "nbconvert_exporter": "python",
   "pygments_lexer": "ipython3",
   "version": "3.10.6"
  },
  "orig_nbformat": 4,
  "vscode": {
   "interpreter": {
    "hash": "aee8b7b246df8f9039afb4144a1f6fd8d2ca17a180786b69acc140d282b71a49"
   }
  }
 },
 "nbformat": 4,
 "nbformat_minor": 2
}
