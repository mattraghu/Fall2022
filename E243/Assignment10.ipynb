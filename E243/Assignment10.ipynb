{
 "cells": [
  {
   "cell_type": "code",
   "execution_count": 56,
   "metadata": {},
   "outputs": [],
   "source": [
    "from sympy import *\n",
    "from scipy.stats import *\n",
    "import pyperclip\n",
    "import numpy as np"
   ]
  },
  {
   "cell_type": "code",
   "execution_count": 8,
   "metadata": {},
   "outputs": [],
   "source": [
    "u, xbar, Z, stdErr = symbols('u xbar Z stdErr')\n",
    "lowerBoundConfEq = Eq(u,xbar-Z*stdErr)\n",
    "upperBoundConfEq = Eq(u,xbar+Z*stdErr)"
   ]
  },
  {
   "cell_type": "code",
   "execution_count": 103,
   "metadata": {},
   "outputs": [
    {
     "name": "stdout",
     "output_type": "stream",
     "text": [
      "t-statistic:  4.14\n",
      "t_crit:  2.8073356837675227\n",
      "F-statistic:  17.117\n",
      "F_crit:  4.279344309144648\n",
      "r2:  0.426682361003677\n"
     ]
    }
   ],
   "source": [
    "#Question 1\n",
    "#A simple linear regression model was created based on 25 samples. The 95% confidence interval for the estimate of β1 is (1.5, 3.6). What is the t-statistic for β1? Report your answer in 3 decimal places.\n",
    "n = 15\n",
    "u_lower = 2.5\n",
    "u_upper = 5\n",
    "\n",
    "n = 25\n",
    "u_lower = 1.5\n",
    "u_upper = 3.6\n",
    "\n",
    "u_lower = 1.5\n",
    "u_upper = 4.7\n",
    "u_upper = 5\n",
    "u_upper = 4.5\n",
    "\n",
    "degreesOfFreedom = n-1-1 #n-k-1 where n is the number of samples, k is the number of independent variables (xs)\n",
    "z = t.ppf(0.975, degreesOfFreedom) #t_critical\n",
    "\n",
    "eq1 = lowerBoundConfEq.subs([(\"u\",u_lower),(\"Z\",z)])\n",
    "eq2 = upperBoundConfEq.subs([('u',u_upper),(\"Z\",z)])\n",
    "\n",
    "sol = solve([eq1,eq2], [\"xbar\",\"stdErr\"])\n",
    "xbar = sol[Symbol(\"xbar\")]\n",
    "stdErr = sol[Symbol(\"stdErr\")]\n",
    "\n",
    "tStat = xbar/stdErr #t_calc\n",
    "pyperclip.copy(float(tStat))\n",
    "print(\"t-statistic: \", tStat.evalf(3))\n",
    "\n",
    "#Question 2\n",
    "#What is the value of t_crit at 1% significance for Question 1? Report your answer in 3 decimal places.\n",
    "alpha = 0.01\n",
    "z = t.ppf(1-alpha/2, degreesOfFreedom)\n",
    "pyperclip.copy(float(z))\n",
    "print(\"t_crit: \", z)\n",
    "\n",
    "#Question 3\n",
    "#What is the F-statistic for the model in Question 1? Report your answer in 3 decimal places.\n",
    "f_calc = tStat ** 2\n",
    "pyperclip.copy(float(f_calc))\n",
    "print(\"F-statistic: \", f_calc.evalf(5))\n",
    "\n",
    "#Question 4\n",
    "#what is the value of Fcrit at 5% significance for Question 3? Report your answer in 3 decimal places.\n",
    "alpha = 0.05\n",
    "f_crit = f.ppf(1-alpha, 1, degreesOfFreedom) #I dont know if its /2 or not\n",
    "pyperclip.copy(float(f_crit))\n",
    "print(\"F_crit: \", f_crit)\n",
    "\n",
    "#Question 5\n",
    "#Find r2 for the model in Question 1. Report your answer in 3 decimal places.\n",
    "p = 1\n",
    "r2 = 1/(1+(n-p-1)/(p*f_calc))\n",
    "print(\"r2: \", r2)\n"
   ]
  },
  {
   "cell_type": "code",
   "execution_count": 53,
   "metadata": {},
   "outputs": [
    {
     "name": "stdout",
     "output_type": "stream",
     "text": [
      "t-statistic for x0:  1.909090909090909\n",
      "p-value for x0:  0.06693175211627689\n",
      "t-statistic for x1:  -3.4999999999999996\n",
      "p-value for x1:  0.0016334888137379266\n",
      "t-statistic for x2:  3.0000000000000004\n",
      "p-value for x2:  0.005745712642685863\n"
     ]
    }
   ],
   "source": [
    "#Question 6\n",
    "#Given a model Y = 2.1 – 0.7 X1 + 4.2 X2 + e, and the standard errors of the intercept, X1 and X2 given by 1.1,0.6,and 1.4 respectively based on 30 points. Find the t-statistic for X1. Please report your answer in 3 decimal places\n",
    "\n",
    "coeff = [2.1, -0.7, 4.2]\n",
    "stdErr = [1.1, 0.6, 1.4]\n",
    "stdErr = [1.1,.2,1.4]\n",
    "\n",
    "n = 30\n",
    "p = 2\n",
    "degreesOfFreedom = n-p-1\n",
    "\n",
    "\n",
    "#Calculate tStat for all coefficients\n",
    "tStat = []\n",
    "for i in range(len(coeff)):\n",
    "    print(\"t-statistic for x\"+str(i)+\": \", coeff[i]/stdErr[i])\n",
    "    #And p \n",
    "    p = 2*(1-t.cdf(abs(coeff[i]/stdErr[i]), degreesOfFreedom))\n",
    "    print(\"p-value for x\"+str(i)+\": \", p)\n"
   ]
  },
  {
   "cell_type": "code",
   "execution_count": 112,
   "metadata": {},
   "outputs": [
    {
     "name": "stdout",
     "output_type": "stream",
     "text": [
      "SST:  500.000000000000\n",
      "F:  13.5000000000000\n",
      "F_crit:  10.561431047395386\n",
      "stdErr:  0.217732421580727\n"
     ]
    }
   ],
   "source": [
    "#Question 12\n",
    "#Water temperature in a river is being modeled as a function of air temperature. If the degrees of freedom for error is 9, R2 = 0.46, and SSE = 200, What is the value of SST? Please report your answer in 3 decimal places.\n",
    "\n",
    "degreesOfFreedom = 9\n",
    "r2 = 0.6\n",
    "SSE = 200\n",
    "\n",
    "r, SST = symbols('r SST')\n",
    "Equation = Eq(r2, (SST-SSE)/SST)\n",
    "subbed = Equation.subs([(\"r2\",r2),(\"SSE\",SSE)])\n",
    "SST = solve(subbed)[0]\n",
    "print(\"SST: \", SST)\n",
    "\n",
    "SSR = SST - SSE\n",
    "MSE = SSE/degreesOfFreedom\n",
    "MSR = SSR/(1)\n",
    "F = MSR/MSE\n",
    "print(\"F: \", F)\n",
    "\n",
    "#.01 significance \n",
    "alpha = 0.01\n",
    "f_crit = f.ppf(1-alpha/1, 1, degreesOfFreedom)\n",
    "print(\"F_crit: \", f_crit)\n",
    "\n",
    "#Calc stdError if xbar = .8\n",
    "xbar = .8\n",
    "tStat = sqrt(F)\n",
    "stdErr = xbar/tStat\n",
    "print(\"stdErr: \", stdErr)\n",
    "\n"
   ]
  },
  {
   "cell_type": "code",
   "execution_count": 66,
   "metadata": {},
   "outputs": [
    {
     "data": {
      "text/plain": [
       "{SSE: 0.5*SST}"
      ]
     },
     "execution_count": 66,
     "metadata": {},
     "output_type": "execute_result"
    }
   ],
   "source": [
    "SST"
   ]
  },
  {
   "cell_type": "code",
   "execution_count": null,
   "metadata": {},
   "outputs": [],
   "source": []
  }
 ],
 "metadata": {
  "kernelspec": {
   "display_name": "Python 3.10.6 64-bit",
   "language": "python",
   "name": "python3"
  },
  "language_info": {
   "codemirror_mode": {
    "name": "ipython",
    "version": 3
   },
   "file_extension": ".py",
   "mimetype": "text/x-python",
   "name": "python",
   "nbconvert_exporter": "python",
   "pygments_lexer": "ipython3",
   "version": "3.10.6"
  },
  "orig_nbformat": 4,
  "vscode": {
   "interpreter": {
    "hash": "aee8b7b246df8f9039afb4144a1f6fd8d2ca17a180786b69acc140d282b71a49"
   }
  }
 },
 "nbformat": 4,
 "nbformat_minor": 2
}
